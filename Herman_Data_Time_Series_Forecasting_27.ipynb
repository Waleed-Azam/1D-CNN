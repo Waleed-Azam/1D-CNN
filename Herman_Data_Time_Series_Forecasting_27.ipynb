{
  "nbformat": 4,
  "nbformat_minor": 0,
  "metadata": {
    "colab": {
      "name": "Herman_Data_Time_Series_Forecasting.ipynb",
      "provenance": [],
      "collapsed_sections": [],
      "authorship_tag": "ABX9TyP2tCUXx7U0r9b9poXJ/b/X",
      "include_colab_link": true
    },
    "kernelspec": {
      "name": "python3",
      "display_name": "Python 3"
    }
  },
  "cells": [
    {
      "cell_type": "markdown",
      "metadata": {
        "id": "view-in-github",
        "colab_type": "text"
      },
      "source": [
        "<a href=\"https://colab.research.google.com/github/Waleed-Azam/1D-CNN/blob/master/Herman_Data_Time_Series_Forecasting_27.ipynb\" target=\"_parent\"><img src=\"https://colab.research.google.com/assets/colab-badge.svg\" alt=\"Open In Colab\"/></a>"
      ]
    },
    {
      "cell_type": "code",
      "metadata": {
        "id": "Ouxu7pipO4UN",
        "colab_type": "code",
        "colab": {}
      },
      "source": [
        "# Data Set training"
      ],
      "execution_count": 0,
      "outputs": []
    },
    {
      "cell_type": "code",
      "metadata": {
        "id": "CS5eeVyYG2hg",
        "colab_type": "code",
        "colab": {}
      },
      "source": [
        "!pip install -U -q PyDrive\n",
        "from pydrive.auth import GoogleAuth\n",
        "from pydrive.drive import GoogleDrive\n",
        "from google.colab import auth\n",
        "from oauth2client.client import GoogleCredentials\n",
        "import numpy as np"
      ],
      "execution_count": 0,
      "outputs": []
    },
    {
      "cell_type": "code",
      "metadata": {
        "id": "z55MYUBVG5d2",
        "colab_type": "code",
        "colab": {}
      },
      "source": [
        "auth.authenticate_user()\n",
        "gauth = GoogleAuth()\n",
        "gauth.credentials = GoogleCredentials.get_application_default()\n",
        "drive = GoogleDrive(gauth)"
      ],
      "execution_count": 0,
      "outputs": []
    },
    {
      "cell_type": "code",
      "metadata": {
        "id": "oSUtmnrGG7m9",
        "colab_type": "code",
        "colab": {}
      },
      "source": [
        "downloaded = drive.CreateFile({'id':'1NiHiOzShPCDOKPnfNjrzjEcpvWoA8MwS'}) # replace the id with id of file you want to access'}) # replace the id with id of file you want to access"
      ],
      "execution_count": 0,
      "outputs": []
    },
    {
      "cell_type": "code",
      "metadata": {
        "id": "32u2C9V_HP3C",
        "colab_type": "code",
        "colab": {}
      },
      "source": [
        "downloaded.GetContentFile('Training_Data_FEW_FISHES.csv')"
      ],
      "execution_count": 0,
      "outputs": []
    },
    {
      "cell_type": "code",
      "metadata": {
        "id": "qhO9hFj6HreG",
        "colab_type": "code",
        "outputId": "e6c9dcd6-eedb-4671-a7b5-57763636206a",
        "colab": {
          "base_uri": "https://localhost:8080/",
          "height": 404
        }
      },
      "source": [
        "import pandas as pd\n",
        "df1 = pd.read_csv('Training_Data_FEW_FISHES.csv') \n",
        "df1"
      ],
      "execution_count": 0,
      "outputs": [
        {
          "output_type": "execute_result",
          "data": {
            "text/html": [
              "<div>\n",
              "<style scoped>\n",
              "    .dataframe tbody tr th:only-of-type {\n",
              "        vertical-align: middle;\n",
              "    }\n",
              "\n",
              "    .dataframe tbody tr th {\n",
              "        vertical-align: top;\n",
              "    }\n",
              "\n",
              "    .dataframe thead th {\n",
              "        text-align: right;\n",
              "    }\n",
              "</style>\n",
              "<table border=\"1\" class=\"dataframe\">\n",
              "  <thead>\n",
              "    <tr style=\"text-align: right;\">\n",
              "      <th></th>\n",
              "      <th>Time</th>\n",
              "      <th>DVL1</th>\n",
              "      <th>DVL2</th>\n",
              "      <th>DVL3</th>\n",
              "      <th>DVL4</th>\n",
              "    </tr>\n",
              "  </thead>\n",
              "  <tbody>\n",
              "    <tr>\n",
              "      <th>0</th>\n",
              "      <td>NaN</td>\n",
              "      <td>NaN</td>\n",
              "      <td>NaN</td>\n",
              "      <td>NaN</td>\n",
              "      <td>NaN</td>\n",
              "    </tr>\n",
              "    <tr>\n",
              "      <th>1</th>\n",
              "      <td>0.0</td>\n",
              "      <td>20.000000</td>\n",
              "      <td>20.000000</td>\n",
              "      <td>20.000000</td>\n",
              "      <td>20.000000</td>\n",
              "    </tr>\n",
              "    <tr>\n",
              "      <th>2</th>\n",
              "      <td>0.1</td>\n",
              "      <td>20.000000</td>\n",
              "      <td>20.000000</td>\n",
              "      <td>20.000000</td>\n",
              "      <td>20.000000</td>\n",
              "    </tr>\n",
              "    <tr>\n",
              "      <th>3</th>\n",
              "      <td>0.2</td>\n",
              "      <td>20.000000</td>\n",
              "      <td>20.000000</td>\n",
              "      <td>20.000000</td>\n",
              "      <td>20.000000</td>\n",
              "    </tr>\n",
              "    <tr>\n",
              "      <th>4</th>\n",
              "      <td>0.3</td>\n",
              "      <td>20.000000</td>\n",
              "      <td>20.000000</td>\n",
              "      <td>20.000000</td>\n",
              "      <td>20.000000</td>\n",
              "    </tr>\n",
              "    <tr>\n",
              "      <th>...</th>\n",
              "      <td>...</td>\n",
              "      <td>...</td>\n",
              "      <td>...</td>\n",
              "      <td>...</td>\n",
              "      <td>...</td>\n",
              "    </tr>\n",
              "    <tr>\n",
              "      <th>49996</th>\n",
              "      <td>4999.5</td>\n",
              "      <td>2.564325</td>\n",
              "      <td>2.547429</td>\n",
              "      <td>2.685580</td>\n",
              "      <td>2.715926</td>\n",
              "    </tr>\n",
              "    <tr>\n",
              "      <th>49997</th>\n",
              "      <td>4999.6</td>\n",
              "      <td>2.564293</td>\n",
              "      <td>2.547059</td>\n",
              "      <td>2.685737</td>\n",
              "      <td>2.715903</td>\n",
              "    </tr>\n",
              "    <tr>\n",
              "      <th>49998</th>\n",
              "      <td>4999.7</td>\n",
              "      <td>2.564267</td>\n",
              "      <td>2.546647</td>\n",
              "      <td>2.685912</td>\n",
              "      <td>2.715890</td>\n",
              "    </tr>\n",
              "    <tr>\n",
              "      <th>49999</th>\n",
              "      <td>4999.8</td>\n",
              "      <td>2.564253</td>\n",
              "      <td>2.546235</td>\n",
              "      <td>2.686088</td>\n",
              "      <td>2.715891</td>\n",
              "    </tr>\n",
              "    <tr>\n",
              "      <th>50000</th>\n",
              "      <td>4999.9</td>\n",
              "      <td>2.564248</td>\n",
              "      <td>2.545783</td>\n",
              "      <td>2.686284</td>\n",
              "      <td>2.715904</td>\n",
              "    </tr>\n",
              "  </tbody>\n",
              "</table>\n",
              "<p>50001 rows × 5 columns</p>\n",
              "</div>"
            ],
            "text/plain": [
              "         Time       DVL1       DVL2       DVL3       DVL4\n",
              "0         NaN        NaN        NaN        NaN        NaN\n",
              "1         0.0  20.000000  20.000000  20.000000  20.000000\n",
              "2         0.1  20.000000  20.000000  20.000000  20.000000\n",
              "3         0.2  20.000000  20.000000  20.000000  20.000000\n",
              "4         0.3  20.000000  20.000000  20.000000  20.000000\n",
              "...       ...        ...        ...        ...        ...\n",
              "49996  4999.5   2.564325   2.547429   2.685580   2.715926\n",
              "49997  4999.6   2.564293   2.547059   2.685737   2.715903\n",
              "49998  4999.7   2.564267   2.546647   2.685912   2.715890\n",
              "49999  4999.8   2.564253   2.546235   2.686088   2.715891\n",
              "50000  4999.9   2.564248   2.545783   2.686284   2.715904\n",
              "\n",
              "[50001 rows x 5 columns]"
            ]
          },
          "metadata": {
            "tags": []
          },
          "execution_count": 16
        }
      ]
    },
    {
      "cell_type": "code",
      "metadata": {
        "id": "iwiVx5BYHxZT",
        "colab_type": "code",
        "outputId": "7b4f9369-b316-461f-d689-45f14065063f",
        "colab": {
          "base_uri": "https://localhost:8080/",
          "height": 404
        }
      },
      "source": [
        "df1"
      ],
      "execution_count": 0,
      "outputs": [
        {
          "output_type": "execute_result",
          "data": {
            "text/html": [
              "<div>\n",
              "<style scoped>\n",
              "    .dataframe tbody tr th:only-of-type {\n",
              "        vertical-align: middle;\n",
              "    }\n",
              "\n",
              "    .dataframe tbody tr th {\n",
              "        vertical-align: top;\n",
              "    }\n",
              "\n",
              "    .dataframe thead th {\n",
              "        text-align: right;\n",
              "    }\n",
              "</style>\n",
              "<table border=\"1\" class=\"dataframe\">\n",
              "  <thead>\n",
              "    <tr style=\"text-align: right;\">\n",
              "      <th></th>\n",
              "      <th>Time</th>\n",
              "      <th>DVL1</th>\n",
              "      <th>DVL2</th>\n",
              "      <th>DVL3</th>\n",
              "      <th>DVL4</th>\n",
              "    </tr>\n",
              "  </thead>\n",
              "  <tbody>\n",
              "    <tr>\n",
              "      <th>0</th>\n",
              "      <td>NaN</td>\n",
              "      <td>NaN</td>\n",
              "      <td>NaN</td>\n",
              "      <td>NaN</td>\n",
              "      <td>NaN</td>\n",
              "    </tr>\n",
              "    <tr>\n",
              "      <th>1</th>\n",
              "      <td>0.0</td>\n",
              "      <td>20.000000</td>\n",
              "      <td>20.000000</td>\n",
              "      <td>20.000000</td>\n",
              "      <td>20.000000</td>\n",
              "    </tr>\n",
              "    <tr>\n",
              "      <th>2</th>\n",
              "      <td>0.1</td>\n",
              "      <td>20.000000</td>\n",
              "      <td>20.000000</td>\n",
              "      <td>20.000000</td>\n",
              "      <td>20.000000</td>\n",
              "    </tr>\n",
              "    <tr>\n",
              "      <th>3</th>\n",
              "      <td>0.2</td>\n",
              "      <td>20.000000</td>\n",
              "      <td>20.000000</td>\n",
              "      <td>20.000000</td>\n",
              "      <td>20.000000</td>\n",
              "    </tr>\n",
              "    <tr>\n",
              "      <th>4</th>\n",
              "      <td>0.3</td>\n",
              "      <td>20.000000</td>\n",
              "      <td>20.000000</td>\n",
              "      <td>20.000000</td>\n",
              "      <td>20.000000</td>\n",
              "    </tr>\n",
              "    <tr>\n",
              "      <th>...</th>\n",
              "      <td>...</td>\n",
              "      <td>...</td>\n",
              "      <td>...</td>\n",
              "      <td>...</td>\n",
              "      <td>...</td>\n",
              "    </tr>\n",
              "    <tr>\n",
              "      <th>49996</th>\n",
              "      <td>4999.5</td>\n",
              "      <td>2.564325</td>\n",
              "      <td>2.547429</td>\n",
              "      <td>2.685580</td>\n",
              "      <td>2.715926</td>\n",
              "    </tr>\n",
              "    <tr>\n",
              "      <th>49997</th>\n",
              "      <td>4999.6</td>\n",
              "      <td>2.564293</td>\n",
              "      <td>2.547059</td>\n",
              "      <td>2.685737</td>\n",
              "      <td>2.715903</td>\n",
              "    </tr>\n",
              "    <tr>\n",
              "      <th>49998</th>\n",
              "      <td>4999.7</td>\n",
              "      <td>2.564267</td>\n",
              "      <td>2.546647</td>\n",
              "      <td>2.685912</td>\n",
              "      <td>2.715890</td>\n",
              "    </tr>\n",
              "    <tr>\n",
              "      <th>49999</th>\n",
              "      <td>4999.8</td>\n",
              "      <td>2.564253</td>\n",
              "      <td>2.546235</td>\n",
              "      <td>2.686088</td>\n",
              "      <td>2.715891</td>\n",
              "    </tr>\n",
              "    <tr>\n",
              "      <th>50000</th>\n",
              "      <td>4999.9</td>\n",
              "      <td>2.564248</td>\n",
              "      <td>2.545783</td>\n",
              "      <td>2.686284</td>\n",
              "      <td>2.715904</td>\n",
              "    </tr>\n",
              "  </tbody>\n",
              "</table>\n",
              "<p>50001 rows × 5 columns</p>\n",
              "</div>"
            ],
            "text/plain": [
              "         Time       DVL1       DVL2       DVL3       DVL4\n",
              "0         NaN        NaN        NaN        NaN        NaN\n",
              "1         0.0  20.000000  20.000000  20.000000  20.000000\n",
              "2         0.1  20.000000  20.000000  20.000000  20.000000\n",
              "3         0.2  20.000000  20.000000  20.000000  20.000000\n",
              "4         0.3  20.000000  20.000000  20.000000  20.000000\n",
              "...       ...        ...        ...        ...        ...\n",
              "49996  4999.5   2.564325   2.547429   2.685580   2.715926\n",
              "49997  4999.6   2.564293   2.547059   2.685737   2.715903\n",
              "49998  4999.7   2.564267   2.546647   2.685912   2.715890\n",
              "49999  4999.8   2.564253   2.546235   2.686088   2.715891\n",
              "50000  4999.9   2.564248   2.545783   2.686284   2.715904\n",
              "\n",
              "[50001 rows x 5 columns]"
            ]
          },
          "metadata": {
            "tags": []
          },
          "execution_count": 17
        }
      ]
    },
    {
      "cell_type": "code",
      "metadata": {
        "id": "W_0tEPhsHyt6",
        "colab_type": "code",
        "outputId": "46081c1a-532e-470c-b730-87adbb2db1ae",
        "colab": {
          "base_uri": "https://localhost:8080/",
          "height": 33
        }
      },
      "source": [
        "# univariate cnn example\n",
        "from numpy import array\n",
        "from keras.models import Sequential\n",
        "from keras.layers import Dense\n",
        "from keras.layers import Flatten\n",
        "from keras.layers.convolutional import Conv1D\n",
        "from keras.layers.convolutional import MaxPooling1D\n",
        "\n",
        "import matplotlib.pyplot as plt\n",
        "from sklearn.preprocessing import StandardScaler\n",
        "%matplotlib inline\n",
        "\n",
        "# split a univariate sequence into samples\n",
        "def split_sequence(sequence, n_steps):\n",
        "    X, y = list(), list()\n",
        "    for i in range(len(sequence)):\n",
        "        # find the end of this pattern\n",
        "        end_ix = i + n_steps\n",
        "        # check if we are beyond the sequence\n",
        "        if end_ix > len(sequence)-1:\n",
        "            break\n",
        "        # gather input and output parts of the pattern\n",
        "        seq_x, seq_y = sequence[i:end_ix], sequence[end_ix]\n",
        "        X.append(seq_x)\n",
        "        y.append(seq_y)\n",
        "    return array(X), array(y)"
      ],
      "execution_count": 0,
      "outputs": [
        {
          "output_type": "stream",
          "text": [
            "Using TensorFlow backend.\n"
          ],
          "name": "stderr"
        }
      ]
    },
    {
      "cell_type": "code",
      "metadata": {
        "id": "oucaCTUtI0IJ",
        "colab_type": "code",
        "colab": {}
      },
      "source": [
        "df1[\"DVL1\"] = df1[\"DVL1\"].fillna(0)"
      ],
      "execution_count": 0,
      "outputs": []
    },
    {
      "cell_type": "code",
      "metadata": {
        "id": "2qgeSou_IgPW",
        "colab_type": "code",
        "colab": {}
      },
      "source": [
        "data_to_use=df1['DVL1'].values"
      ],
      "execution_count": 0,
      "outputs": []
    },
    {
      "cell_type": "code",
      "metadata": {
        "id": "39_jnEwKIlYn",
        "colab_type": "code",
        "colab": {}
      },
      "source": [
        "scaled_dataset=data_to_use"
      ],
      "execution_count": 0,
      "outputs": []
    },
    {
      "cell_type": "code",
      "metadata": {
        "id": "T3qEN3f4Irf9",
        "colab_type": "code",
        "outputId": "81633d15-6223-4c52-bf78-53afa91742fc",
        "colab": {
          "base_uri": "https://localhost:8080/",
          "height": 50
        }
      },
      "source": [
        "scaled_dataset"
      ],
      "execution_count": 0,
      "outputs": [
        {
          "output_type": "execute_result",
          "data": {
            "text/plain": [
              "array([ 0.      , 20.      , 20.      , ...,  2.564267,  2.564253,\n",
              "        2.564248])"
            ]
          },
          "metadata": {
            "tags": []
          },
          "execution_count": 22
        }
      ]
    },
    {
      "cell_type": "code",
      "metadata": {
        "id": "_Q-4t7NVIs-n",
        "colab_type": "code",
        "colab": {}
      },
      "source": [
        "def window_data(data, window_size):\n",
        "    X = []\n",
        "    y = []\n",
        "    \n",
        "    i = 0\n",
        "    while (i + window_size) <= len(data) - 1:\n",
        "        X.append(data[i:i+window_size])\n",
        "        y.append(data[i+window_size])\n",
        "        \n",
        "        i += 1\n",
        "    assert len(X) ==  len(y)\n",
        "    return X, y\n",
        "\n",
        "\n",
        "X, y = window_data(scaled_dataset, 10)"
      ],
      "execution_count": 0,
      "outputs": []
    },
    {
      "cell_type": "code",
      "metadata": {
        "id": "BaolkgC-I9bM",
        "colab_type": "code",
        "colab": {}
      },
      "source": [
        "X_train  = np.array(X[:45000])\n",
        "y_train = np.array(y[:45000])\n",
        "\n",
        "X_test = np.array(X[45000:])\n",
        "y_test = np.array(y[45000:])"
      ],
      "execution_count": 0,
      "outputs": []
    },
    {
      "cell_type": "code",
      "metadata": {
        "id": "pbIgaTfAJMVk",
        "colab_type": "code",
        "outputId": "0bef819e-3a25-42a4-e954-e5bc7c2f5f8a",
        "colab": {
          "base_uri": "https://localhost:8080/",
          "height": 84
        }
      },
      "source": [
        "print(\"X_train size: {}\".format(X_train.shape))\n",
        "print(\"y_train size: {}\".format(y_train.shape))\n",
        "print(\"X_test size: {}\".format(X_test.shape))\n",
        "print(\"y_test size: {}\".format(y_test.shape))"
      ],
      "execution_count": 0,
      "outputs": [
        {
          "output_type": "stream",
          "text": [
            "X_train size: (45000, 10)\n",
            "y_train size: (45000,)\n",
            "X_test size: (4991, 10)\n",
            "y_test size: (4991,)\n"
          ],
          "name": "stdout"
        }
      ]
    },
    {
      "cell_type": "code",
      "metadata": {
        "id": "uODnFZlgJPcn",
        "colab_type": "code",
        "colab": {}
      },
      "source": [
        "dates = df1['Time']\n",
        "train_date = dates[:45000]\n",
        "test_date = dates[-4991:]"
      ],
      "execution_count": 0,
      "outputs": []
    },
    {
      "cell_type": "code",
      "metadata": {
        "id": "k4lxeKsHJg7a",
        "colab_type": "code",
        "colab": {}
      },
      "source": [
        "n_steps = 10"
      ],
      "execution_count": 0,
      "outputs": []
    },
    {
      "cell_type": "code",
      "metadata": {
        "id": "OEEf1VTNJi-8",
        "colab_type": "code",
        "colab": {}
      },
      "source": [
        "X = X_train\n",
        "y = y_train\n",
        "\n",
        "n_features = 1\n",
        "X = X.reshape((X.shape[0], X.shape[1], n_features))\n",
        "# define model\n",
        "model = Sequential()\n",
        "model.add(Conv1D(filters=32, kernel_size=2, activation='relu', input_shape=(n_steps, n_features)))\n",
        "model.add(MaxPooling1D(pool_size=2))\n",
        "model.add(Flatten())\n",
        "model.add(Dense(50, activation='relu'))\n",
        "model.add(Dense(1))\n",
        "model.compile(optimizer='adam', loss='mse',metrics=['accuracy'])\n",
        "# fit model\n",
        "history=model.fit(X, y, epochs=10, verbose=0)"
      ],
      "execution_count": 0,
      "outputs": []
    },
    {
      "cell_type": "code",
      "metadata": {
        "id": "zk33_PQoJ5ix",
        "colab_type": "code",
        "outputId": "4937e6de-3f4c-47a4-870e-f80a27c06f9a",
        "colab": {
          "base_uri": "https://localhost:8080/",
          "height": 590
        }
      },
      "source": [
        "# demonstrate prediction\n",
        "import math\n",
        "y_pred=[]\n",
        "for i in X_test:\n",
        "    \n",
        "    x_input = i\n",
        "    x_input = x_input.reshape((1, n_steps, n_features))\n",
        "    yhat = model.predict(x_input, verbose=0)\n",
        "    y_pred.append(float(yhat[0]))\n",
        "\n",
        "# import numpy as np\n",
        "# yp = list(np.around(np.array(y_pred),1))\n",
        "# yt = list(np.around((y_test),1))\n",
        "    \n",
        "# y_pred = [ '%.1f' % elem for elem in y_pred ]\n",
        "# y_test = [ '%.1f' % elem for elem in y_pred ]\n",
        "    \n",
        "#print(y_pred)\n",
        "#print(y_test)\n",
        "\n",
        "plt.figure(figsize = (18,9))\n",
        "\n",
        "plt.plot(dates,scaled_dataset,label=\"Training\")\n",
        "plt.plot(test_date,y_pred,label=\"Forecasting\")\n",
        "#plt.plot(test_date,y_test,label=\"actual \")\n",
        "\n",
        "plt.xticks(rotation=90)\n",
        "plt.xlabel('Time Steps',fontsize=18)\n",
        "plt.legend()\n",
        "plt.title(\"Forecasting using CNN\")\n",
        "plt.show()"
      ],
      "execution_count": 0,
      "outputs": [
        {
          "output_type": "display_data",
          "data": {
            "image/png": "[encoded data removed]",
            "text/plain": [
              "<Figure size 1296x648 with 1 Axes>"
            ]
          },
          "metadata": {
            "tags": [],
            "needs_background": "light"
          }
        }
      ]
    },
    {
      "cell_type": "code",
      "metadata": {
        "id": "CsZJ46LcLB3r",
        "colab_type": "code",
        "outputId": "1591e8e6-65e8-4109-8a59-0bf960dcd1af",
        "colab": {
          "base_uri": "https://localhost:8080/",
          "height": 228
        }
      },
      "source": [
        "plt.plot(history.history['[metrics]'])\n",
        "#plt.plot(history.history['val_loss'])\n",
        "plt.title('model loss')\n",
        "plt.ylabel('Mean Square Error')\n",
        "plt.xlabel('epoch')\n",
        "plt.legend(['train', 'test'], loc='upper left')\n",
        "plt.show()"
      ],
      "execution_count": 0,
      "outputs": [
        {
          "output_type": "error",
          "ename": "KeyError",
          "evalue": "ignored",
          "traceback": [
            "\u001b[0;31m---------------------------------------------------------------------------\u001b[0m",
            "\u001b[0;31mKeyError\u001b[0m                                  Traceback (most recent call last)",
            "\u001b[0;32m<ipython-input-33-a8311bc1d81c>\u001b[0m in \u001b[0;36m<module>\u001b[0;34m()\u001b[0m\n\u001b[0;32m----> 1\u001b[0;31m \u001b[0mplt\u001b[0m\u001b[0;34m.\u001b[0m\u001b[0mplot\u001b[0m\u001b[0;34m(\u001b[0m\u001b[0mhistory\u001b[0m\u001b[0;34m.\u001b[0m\u001b[0mhistory\u001b[0m\u001b[0;34m[\u001b[0m\u001b[0;34m'[metrics]'\u001b[0m\u001b[0;34m]\u001b[0m\u001b[0;34m)\u001b[0m\u001b[0;34m\u001b[0m\u001b[0;34m\u001b[0m\u001b[0m\n\u001b[0m\u001b[1;32m      2\u001b[0m \u001b[0;31m#plt.plot(history.history['val_loss'])\u001b[0m\u001b[0;34m\u001b[0m\u001b[0;34m\u001b[0m\u001b[0;34m\u001b[0m\u001b[0m\n\u001b[1;32m      3\u001b[0m \u001b[0mplt\u001b[0m\u001b[0;34m.\u001b[0m\u001b[0mtitle\u001b[0m\u001b[0;34m(\u001b[0m\u001b[0;34m'model loss'\u001b[0m\u001b[0;34m)\u001b[0m\u001b[0;34m\u001b[0m\u001b[0;34m\u001b[0m\u001b[0m\n\u001b[1;32m      4\u001b[0m \u001b[0mplt\u001b[0m\u001b[0;34m.\u001b[0m\u001b[0mylabel\u001b[0m\u001b[0;34m(\u001b[0m\u001b[0;34m'Mean Square Error'\u001b[0m\u001b[0;34m)\u001b[0m\u001b[0;34m\u001b[0m\u001b[0;34m\u001b[0m\u001b[0m\n\u001b[1;32m      5\u001b[0m \u001b[0mplt\u001b[0m\u001b[0;34m.\u001b[0m\u001b[0mxlabel\u001b[0m\u001b[0;34m(\u001b[0m\u001b[0;34m'epoch'\u001b[0m\u001b[0;34m)\u001b[0m\u001b[0;34m\u001b[0m\u001b[0;34m\u001b[0m\u001b[0m\n",
            "\u001b[0;31mKeyError\u001b[0m: '[metrics]'"
          ]
        }
      ]
    },
    {
      "cell_type": "code",
      "metadata": {
        "id": "yUyCyn5ZNr1i",
        "colab_type": "code",
        "outputId": "bcc44853-f0ec-429e-8543-ef25584b0935",
        "colab": {
          "base_uri": "https://localhost:8080/",
          "height": 148
        }
      },
      "source": [
        "Herman when we say that it is a forecasting problem, which has some rights to perform well, let say we a courrpted data and we want to estimate that with the new nice data\n",
        "then we need to use a scrablemed data truely?\n",
        "how to use tha data to some way?"
      ],
      "execution_count": 0,
      "outputs": [
        {
          "output_type": "error",
          "ename": "SyntaxError",
          "evalue": "ignored",
          "traceback": [
            "\u001b[0;36m  File \u001b[0;32m\"<ipython-input-1-fbcede938ad0>\"\u001b[0;36m, line \u001b[0;32m1\u001b[0m\n\u001b[0;31m    Herman when we say that it is a forecasting problem, which has some rights to perform well, let say we a courrpted data and we want to estimate that with the new nice data\u001b[0m\n\u001b[0m              ^\u001b[0m\n\u001b[0;31mSyntaxError\u001b[0m\u001b[0;31m:\u001b[0m invalid syntax\n"
          ]
        }
      ]
    },
    {
      "cell_type": "markdown",
      "metadata": {
        "id": "aGZPdpZLxUwh",
        "colab_type": "text"
      },
      "source": [
        "Ground truth is a term used in various fields to refer to information provided by direct observation (i.e. empirical evidence) as opposed to information provided by inference.\n",
        "\n",
        "\"Ground truth\" may be seen as a conceptual term relative to the knowledge of the truth concerning a specific question. It is the ideal expected result.[2] This is used in statistical models to prove or disprove research hypotheses. The term \"ground truthing\" refers to the process of gathering the proper objective (provable) data for this test."
      ]
    },
    {
      "cell_type": "code",
      "metadata": {
        "id": "HItN4xWWxURa",
        "colab_type": "code",
        "colab": {}
      },
      "source": [
        "#The ground truth is what you measured for your target variable for the training and testing examples.\n",
        "\n",
        "#Nearly all the time you can safely treat this the same as the label."
      ],
      "execution_count": 0,
      "outputs": []
    },
    {
      "cell_type": "code",
      "metadata": {
        "id": "Qs8JnX92iXCU",
        "colab_type": "code",
        "colab": {}
      },
      "source": [
        "#Have a groud truth"
      ],
      "execution_count": 0,
      "outputs": []
    },
    {
      "cell_type": "code",
      "metadata": {
        "id": "4QyDyPzCJuDq",
        "colab_type": "code",
        "colab": {}
      },
      "source": [
        "# The task is to predict and do the thing using the label data and need to do stuff right away in the soft manner"
      ],
      "execution_count": 0,
      "outputs": []
    },
    {
      "cell_type": "code",
      "metadata": {
        "id": "4l676shlJ2FJ",
        "colab_type": "code",
        "colab": {}
      },
      "source": [
        "#Computes the mean of squares of errors between labels and predictions."
      ],
      "execution_count": 0,
      "outputs": []
    },
    {
      "cell_type": "code",
      "metadata": {
        "id": "RnpZN379J64U",
        "colab_type": "code",
        "outputId": "52fc3d54-22a3-41aa-bd17-bc5c5a0930e6",
        "colab": {
          "base_uri": "https://localhost:8080/",
          "height": 33
        }
      },
      "source": [
        "tf.keras.losses.MeanSquaredError(reduction=\"auto\", name=\"mean_squared_error\")"
      ],
      "execution_count": 0,
      "outputs": [
        {
          "output_type": "execute_result",
          "data": {
            "text/plain": [
              "<tensorflow.python.keras.losses.MeanSquaredError at 0x7fe8e3f65b00>"
            ]
          },
          "metadata": {
            "tags": []
          },
          "execution_count": 7
        }
      ]
    },
    {
      "cell_type": "code",
      "metadata": {
        "id": "8X0I251cK_Et",
        "colab_type": "code",
        "colab": {}
      },
      "source": [
        "import tensorflow as tf\n"
      ],
      "execution_count": 0,
      "outputs": []
    },
    {
      "cell_type": "code",
      "metadata": {
        "id": "lWxXv-PGLEfV",
        "colab_type": "code",
        "outputId": "98ce88c4-3c19-44f8-d21a-8c03d97c7c9c",
        "colab": {
          "base_uri": "https://localhost:8080/",
          "height": 33
        }
      },
      "source": [
        ">>> y_true = [[0., 1.], [0., 0.]]\n",
        ">>> y_pred = [[1., 1.], [1., 0.]]\n",
        ">>> # Using 'auto'/'sum_over_batch_size' reduction type.  \n",
        ">>> mse = tf.keras.losses.MeanSquaredError()\n",
        ">>> mse(y_true, y_pred).numpy()\n",
        "0.5"
      ],
      "execution_count": 0,
      "outputs": [
        {
          "output_type": "execute_result",
          "data": {
            "text/plain": [
              "0.5"
            ]
          },
          "metadata": {
            "tags": []
          },
          "execution_count": 8
        }
      ]
    },
    {
      "cell_type": "code",
      "metadata": {
        "id": "oUho4LPTLNyM",
        "colab_type": "code",
        "outputId": "d32a92f9-221f-485a-a00b-c3274dc41212",
        "colab": {
          "base_uri": "https://localhost:8080/",
          "height": 33
        }
      },
      "source": [
        ">>> # Calling with 'sample_weight'.  \n",
        ">>> mse(y_true, y_pred, sample_weight=[0.7, 0.3]).numpy()\n",
        "0.25"
      ],
      "execution_count": 0,
      "outputs": [
        {
          "output_type": "execute_result",
          "data": {
            "text/plain": [
              "0.25"
            ]
          },
          "metadata": {
            "tags": []
          },
          "execution_count": 9
        }
      ]
    },
    {
      "cell_type": "code",
      "metadata": {
        "id": "w2BBzOUmLSfM",
        "colab_type": "code",
        "colab": {}
      },
      "source": [
        "#Let say I have both the data set here, in my computer. I have scrambled data and the ground truth data, both are perfect. Need to perform the following tasks.\n",
        "#Feed those in to the neural network. (Then I need to have a two types of the data, which is very important to feed in to the system)\n",
        "#Once feeding is done, I can move forward to the working of the new things."
      ],
      "execution_count": 0,
      "outputs": []
    },
    {
      "cell_type": "code",
      "metadata": {
        "id": "vLgzbGLiRGnh",
        "colab_type": "code",
        "colab": {}
      },
      "source": [
        "#feeding the data to the neural network\n"
      ],
      "execution_count": 0,
      "outputs": []
    },
    {
      "cell_type": "code",
      "metadata": {
        "id": "fNtqfByGRJv3",
        "colab_type": "code",
        "outputId": "f334cef7-243d-4472-fd0e-8a92127a68f4",
        "colab": {
          "base_uri": "https://localhost:8080/",
          "height": 404
        }
      },
      "source": [
        "df1"
      ],
      "execution_count": 0,
      "outputs": [
        {
          "output_type": "execute_result",
          "data": {
            "text/html": [
              "<div>\n",
              "<style scoped>\n",
              "    .dataframe tbody tr th:only-of-type {\n",
              "        vertical-align: middle;\n",
              "    }\n",
              "\n",
              "    .dataframe tbody tr th {\n",
              "        vertical-align: top;\n",
              "    }\n",
              "\n",
              "    .dataframe thead th {\n",
              "        text-align: right;\n",
              "    }\n",
              "</style>\n",
              "<table border=\"1\" class=\"dataframe\">\n",
              "  <thead>\n",
              "    <tr style=\"text-align: right;\">\n",
              "      <th></th>\n",
              "      <th>Time</th>\n",
              "      <th>DVL1</th>\n",
              "      <th>DVL2</th>\n",
              "      <th>DVL3</th>\n",
              "      <th>DVL4</th>\n",
              "    </tr>\n",
              "  </thead>\n",
              "  <tbody>\n",
              "    <tr>\n",
              "      <th>0</th>\n",
              "      <td>NaN</td>\n",
              "      <td>0.000000</td>\n",
              "      <td>NaN</td>\n",
              "      <td>NaN</td>\n",
              "      <td>NaN</td>\n",
              "    </tr>\n",
              "    <tr>\n",
              "      <th>1</th>\n",
              "      <td>0.0</td>\n",
              "      <td>20.000000</td>\n",
              "      <td>20.000000</td>\n",
              "      <td>20.000000</td>\n",
              "      <td>20.000000</td>\n",
              "    </tr>\n",
              "    <tr>\n",
              "      <th>2</th>\n",
              "      <td>0.1</td>\n",
              "      <td>20.000000</td>\n",
              "      <td>20.000000</td>\n",
              "      <td>20.000000</td>\n",
              "      <td>20.000000</td>\n",
              "    </tr>\n",
              "    <tr>\n",
              "      <th>3</th>\n",
              "      <td>0.2</td>\n",
              "      <td>20.000000</td>\n",
              "      <td>20.000000</td>\n",
              "      <td>20.000000</td>\n",
              "      <td>20.000000</td>\n",
              "    </tr>\n",
              "    <tr>\n",
              "      <th>4</th>\n",
              "      <td>0.3</td>\n",
              "      <td>20.000000</td>\n",
              "      <td>20.000000</td>\n",
              "      <td>20.000000</td>\n",
              "      <td>20.000000</td>\n",
              "    </tr>\n",
              "    <tr>\n",
              "      <th>...</th>\n",
              "      <td>...</td>\n",
              "      <td>...</td>\n",
              "      <td>...</td>\n",
              "      <td>...</td>\n",
              "      <td>...</td>\n",
              "    </tr>\n",
              "    <tr>\n",
              "      <th>49996</th>\n",
              "      <td>4999.5</td>\n",
              "      <td>2.564325</td>\n",
              "      <td>2.547429</td>\n",
              "      <td>2.685580</td>\n",
              "      <td>2.715926</td>\n",
              "    </tr>\n",
              "    <tr>\n",
              "      <th>49997</th>\n",
              "      <td>4999.6</td>\n",
              "      <td>2.564293</td>\n",
              "      <td>2.547059</td>\n",
              "      <td>2.685737</td>\n",
              "      <td>2.715903</td>\n",
              "    </tr>\n",
              "    <tr>\n",
              "      <th>49998</th>\n",
              "      <td>4999.7</td>\n",
              "      <td>2.564267</td>\n",
              "      <td>2.546647</td>\n",
              "      <td>2.685912</td>\n",
              "      <td>2.715890</td>\n",
              "    </tr>\n",
              "    <tr>\n",
              "      <th>49999</th>\n",
              "      <td>4999.8</td>\n",
              "      <td>2.564253</td>\n",
              "      <td>2.546235</td>\n",
              "      <td>2.686088</td>\n",
              "      <td>2.715891</td>\n",
              "    </tr>\n",
              "    <tr>\n",
              "      <th>50000</th>\n",
              "      <td>4999.9</td>\n",
              "      <td>2.564248</td>\n",
              "      <td>2.545783</td>\n",
              "      <td>2.686284</td>\n",
              "      <td>2.715904</td>\n",
              "    </tr>\n",
              "  </tbody>\n",
              "</table>\n",
              "<p>50001 rows × 5 columns</p>\n",
              "</div>"
            ],
            "text/plain": [
              "         Time       DVL1       DVL2       DVL3       DVL4\n",
              "0         NaN   0.000000        NaN        NaN        NaN\n",
              "1         0.0  20.000000  20.000000  20.000000  20.000000\n",
              "2         0.1  20.000000  20.000000  20.000000  20.000000\n",
              "3         0.2  20.000000  20.000000  20.000000  20.000000\n",
              "4         0.3  20.000000  20.000000  20.000000  20.000000\n",
              "...       ...        ...        ...        ...        ...\n",
              "49996  4999.5   2.564325   2.547429   2.685580   2.715926\n",
              "49997  4999.6   2.564293   2.547059   2.685737   2.715903\n",
              "49998  4999.7   2.564267   2.546647   2.685912   2.715890\n",
              "49999  4999.8   2.564253   2.546235   2.686088   2.715891\n",
              "50000  4999.9   2.564248   2.545783   2.686284   2.715904\n",
              "\n",
              "[50001 rows x 5 columns]"
            ]
          },
          "metadata": {
            "tags": []
          },
          "execution_count": 34
        }
      ]
    },
    {
      "cell_type": "code",
      "metadata": {
        "id": "GvAMwV1WTocx",
        "colab_type": "code",
        "colab": {}
      },
      "source": [
        "# here need to add a ground truth\n",
        "downloaded = drive.CreateFile({'id':'1CHTVraHduiRx56vivJ6fFV2RYnYRDnRV'}) # replace the id with id of file you want to access'})"
      ],
      "execution_count": 0,
      "outputs": []
    },
    {
      "cell_type": "code",
      "metadata": {
        "id": "Q694Z3bUTtpE",
        "colab_type": "code",
        "colab": {}
      },
      "source": [
        "downloaded.GetContentFile('Ground truth.csv')"
      ],
      "execution_count": 0,
      "outputs": []
    },
    {
      "cell_type": "code",
      "metadata": {
        "id": "evZQGqY7T4mU",
        "colab_type": "code",
        "outputId": "d7f4a36e-8f6b-4908-d055-e961d7290cb4",
        "colab": {
          "base_uri": "https://localhost:8080/",
          "height": 404
        }
      },
      "source": [
        "import pandas as pd\n",
        "df2 = pd.read_csv('Ground truth.csv') \n",
        "df2"
      ],
      "execution_count": 0,
      "outputs": [
        {
          "output_type": "execute_result",
          "data": {
            "text/html": [
              "<div>\n",
              "<style scoped>\n",
              "    .dataframe tbody tr th:only-of-type {\n",
              "        vertical-align: middle;\n",
              "    }\n",
              "\n",
              "    .dataframe tbody tr th {\n",
              "        vertical-align: top;\n",
              "    }\n",
              "\n",
              "    .dataframe thead th {\n",
              "        text-align: right;\n",
              "    }\n",
              "</style>\n",
              "<table border=\"1\" class=\"dataframe\">\n",
              "  <thead>\n",
              "    <tr style=\"text-align: right;\">\n",
              "      <th></th>\n",
              "      <th>Time</th>\n",
              "      <th>DVL1</th>\n",
              "      <th>DVL2</th>\n",
              "      <th>DVL3</th>\n",
              "      <th>DVL4</th>\n",
              "    </tr>\n",
              "  </thead>\n",
              "  <tbody>\n",
              "    <tr>\n",
              "      <th>0</th>\n",
              "      <td>NaN</td>\n",
              "      <td>NaN</td>\n",
              "      <td>NaN</td>\n",
              "      <td>NaN</td>\n",
              "      <td>NaN</td>\n",
              "    </tr>\n",
              "    <tr>\n",
              "      <th>1</th>\n",
              "      <td>0.0</td>\n",
              "      <td>20.000000</td>\n",
              "      <td>20.000000</td>\n",
              "      <td>20.000000</td>\n",
              "      <td>20.000000</td>\n",
              "    </tr>\n",
              "    <tr>\n",
              "      <th>2</th>\n",
              "      <td>0.1</td>\n",
              "      <td>20.000000</td>\n",
              "      <td>20.000000</td>\n",
              "      <td>20.000000</td>\n",
              "      <td>20.000000</td>\n",
              "    </tr>\n",
              "    <tr>\n",
              "      <th>3</th>\n",
              "      <td>0.2</td>\n",
              "      <td>20.000000</td>\n",
              "      <td>20.000000</td>\n",
              "      <td>20.000000</td>\n",
              "      <td>20.000000</td>\n",
              "    </tr>\n",
              "    <tr>\n",
              "      <th>4</th>\n",
              "      <td>0.3</td>\n",
              "      <td>20.000000</td>\n",
              "      <td>20.000000</td>\n",
              "      <td>20.000000</td>\n",
              "      <td>20.000000</td>\n",
              "    </tr>\n",
              "    <tr>\n",
              "      <th>...</th>\n",
              "      <td>...</td>\n",
              "      <td>...</td>\n",
              "      <td>...</td>\n",
              "      <td>...</td>\n",
              "      <td>...</td>\n",
              "    </tr>\n",
              "    <tr>\n",
              "      <th>49996</th>\n",
              "      <td>4999.5</td>\n",
              "      <td>2.564325</td>\n",
              "      <td>2.547429</td>\n",
              "      <td>2.685580</td>\n",
              "      <td>2.715926</td>\n",
              "    </tr>\n",
              "    <tr>\n",
              "      <th>49997</th>\n",
              "      <td>4999.6</td>\n",
              "      <td>2.564293</td>\n",
              "      <td>2.547059</td>\n",
              "      <td>2.685737</td>\n",
              "      <td>2.715903</td>\n",
              "    </tr>\n",
              "    <tr>\n",
              "      <th>49998</th>\n",
              "      <td>4999.7</td>\n",
              "      <td>2.564267</td>\n",
              "      <td>2.546647</td>\n",
              "      <td>2.685912</td>\n",
              "      <td>2.715890</td>\n",
              "    </tr>\n",
              "    <tr>\n",
              "      <th>49999</th>\n",
              "      <td>4999.8</td>\n",
              "      <td>2.564253</td>\n",
              "      <td>2.546235</td>\n",
              "      <td>2.686088</td>\n",
              "      <td>2.715891</td>\n",
              "    </tr>\n",
              "    <tr>\n",
              "      <th>50000</th>\n",
              "      <td>4999.9</td>\n",
              "      <td>2.564248</td>\n",
              "      <td>2.545783</td>\n",
              "      <td>2.686284</td>\n",
              "      <td>2.715904</td>\n",
              "    </tr>\n",
              "  </tbody>\n",
              "</table>\n",
              "<p>50001 rows × 5 columns</p>\n",
              "</div>"
            ],
            "text/plain": [
              "         Time       DVL1       DVL2       DVL3       DVL4\n",
              "0         NaN        NaN        NaN        NaN        NaN\n",
              "1         0.0  20.000000  20.000000  20.000000  20.000000\n",
              "2         0.1  20.000000  20.000000  20.000000  20.000000\n",
              "3         0.2  20.000000  20.000000  20.000000  20.000000\n",
              "4         0.3  20.000000  20.000000  20.000000  20.000000\n",
              "...       ...        ...        ...        ...        ...\n",
              "49996  4999.5   2.564325   2.547429   2.685580   2.715926\n",
              "49997  4999.6   2.564293   2.547059   2.685737   2.715903\n",
              "49998  4999.7   2.564267   2.546647   2.685912   2.715890\n",
              "49999  4999.8   2.564253   2.546235   2.686088   2.715891\n",
              "50000  4999.9   2.564248   2.545783   2.686284   2.715904\n",
              "\n",
              "[50001 rows x 5 columns]"
            ]
          },
          "metadata": {
            "tags": []
          },
          "execution_count": 43
        }
      ]
    },
    {
      "cell_type": "code",
      "metadata": {
        "id": "ukx6WwR8VSaj",
        "colab_type": "code",
        "colab": {}
      },
      "source": [
        "data_to_use=df1"
      ],
      "execution_count": 0,
      "outputs": []
    },
    {
      "cell_type": "code",
      "metadata": {
        "id": "cSfUI8rJWEGr",
        "colab_type": "code",
        "colab": {}
      },
      "source": [
        "Ground_truth=df2"
      ],
      "execution_count": 0,
      "outputs": []
    },
    {
      "cell_type": "code",
      "metadata": {
        "id": "iAPqiO36WgT7",
        "colab_type": "code",
        "colab": {}
      },
      "source": [
        "#lets consider for now that I have two different data sets, now I need to feed both in to the neural networks"
      ],
      "execution_count": 0,
      "outputs": []
    },
    {
      "cell_type": "markdown",
      "metadata": {
        "id": "XwqMKtuAXXRW",
        "colab_type": "text"
      },
      "source": [
        "Structure of the deep learning project\n",
        "\n",
        "Before starting, I would like to give an overview of how to structure any deep learning project.\n",
        "Preprocess and load data- As we have already discussed data is the key for the working of neural network and we need to process it before feeding to the neural network. In this step, we will also visualize data which will help us to gain insight into the data.\n",
        "Define model- Now we need a neural network model. This means we need to specify the number of hidden layers in the neural network and their size, the input and output size.\n",
        "Loss and optimizer- Now we need to define the loss function according to our task. We also need to specify the optimizer to use with learning rate and other hyperparameters of the optimizer.\n",
        "Fit model- This is the training step of the neural network. Here we need to define the number of epochs for which we need to train the neural network."
      ]
    },
    {
      "cell_type": "code",
      "metadata": {
        "id": "Mt9u10A1XWZz",
        "colab_type": "code",
        "outputId": "744574b9-2fa7-469c-8c53-e8ec470304a3",
        "colab": {
          "base_uri": "https://localhost:8080/",
          "height": 404
        }
      },
      "source": [
        "data_to_use"
      ],
      "execution_count": 0,
      "outputs": [
        {
          "output_type": "execute_result",
          "data": {
            "text/html": [
              "<div>\n",
              "<style scoped>\n",
              "    .dataframe tbody tr th:only-of-type {\n",
              "        vertical-align: middle;\n",
              "    }\n",
              "\n",
              "    .dataframe tbody tr th {\n",
              "        vertical-align: top;\n",
              "    }\n",
              "\n",
              "    .dataframe thead th {\n",
              "        text-align: right;\n",
              "    }\n",
              "</style>\n",
              "<table border=\"1\" class=\"dataframe\">\n",
              "  <thead>\n",
              "    <tr style=\"text-align: right;\">\n",
              "      <th></th>\n",
              "      <th>Time</th>\n",
              "      <th>DVL1</th>\n",
              "      <th>DVL2</th>\n",
              "      <th>DVL3</th>\n",
              "      <th>DVL4</th>\n",
              "    </tr>\n",
              "  </thead>\n",
              "  <tbody>\n",
              "    <tr>\n",
              "      <th>0</th>\n",
              "      <td>NaN</td>\n",
              "      <td>NaN</td>\n",
              "      <td>NaN</td>\n",
              "      <td>NaN</td>\n",
              "      <td>NaN</td>\n",
              "    </tr>\n",
              "    <tr>\n",
              "      <th>1</th>\n",
              "      <td>0.0</td>\n",
              "      <td>20.000000</td>\n",
              "      <td>20.000000</td>\n",
              "      <td>20.000000</td>\n",
              "      <td>20.000000</td>\n",
              "    </tr>\n",
              "    <tr>\n",
              "      <th>2</th>\n",
              "      <td>0.1</td>\n",
              "      <td>20.000000</td>\n",
              "      <td>20.000000</td>\n",
              "      <td>20.000000</td>\n",
              "      <td>20.000000</td>\n",
              "    </tr>\n",
              "    <tr>\n",
              "      <th>3</th>\n",
              "      <td>0.2</td>\n",
              "      <td>20.000000</td>\n",
              "      <td>20.000000</td>\n",
              "      <td>20.000000</td>\n",
              "      <td>20.000000</td>\n",
              "    </tr>\n",
              "    <tr>\n",
              "      <th>4</th>\n",
              "      <td>0.3</td>\n",
              "      <td>20.000000</td>\n",
              "      <td>20.000000</td>\n",
              "      <td>20.000000</td>\n",
              "      <td>20.000000</td>\n",
              "    </tr>\n",
              "    <tr>\n",
              "      <th>...</th>\n",
              "      <td>...</td>\n",
              "      <td>...</td>\n",
              "      <td>...</td>\n",
              "      <td>...</td>\n",
              "      <td>...</td>\n",
              "    </tr>\n",
              "    <tr>\n",
              "      <th>49996</th>\n",
              "      <td>4999.5</td>\n",
              "      <td>2.564325</td>\n",
              "      <td>2.547429</td>\n",
              "      <td>2.685580</td>\n",
              "      <td>2.715926</td>\n",
              "    </tr>\n",
              "    <tr>\n",
              "      <th>49997</th>\n",
              "      <td>4999.6</td>\n",
              "      <td>2.564293</td>\n",
              "      <td>2.547059</td>\n",
              "      <td>2.685737</td>\n",
              "      <td>2.715903</td>\n",
              "    </tr>\n",
              "    <tr>\n",
              "      <th>49998</th>\n",
              "      <td>4999.7</td>\n",
              "      <td>2.564267</td>\n",
              "      <td>2.546647</td>\n",
              "      <td>2.685912</td>\n",
              "      <td>2.715890</td>\n",
              "    </tr>\n",
              "    <tr>\n",
              "      <th>49999</th>\n",
              "      <td>4999.8</td>\n",
              "      <td>2.564253</td>\n",
              "      <td>2.546235</td>\n",
              "      <td>2.686088</td>\n",
              "      <td>2.715891</td>\n",
              "    </tr>\n",
              "    <tr>\n",
              "      <th>50000</th>\n",
              "      <td>4999.9</td>\n",
              "      <td>2.564248</td>\n",
              "      <td>2.545783</td>\n",
              "      <td>2.686284</td>\n",
              "      <td>2.715904</td>\n",
              "    </tr>\n",
              "  </tbody>\n",
              "</table>\n",
              "<p>50001 rows × 5 columns</p>\n",
              "</div>"
            ],
            "text/plain": [
              "         Time       DVL1       DVL2       DVL3       DVL4\n",
              "0         NaN        NaN        NaN        NaN        NaN\n",
              "1         0.0  20.000000  20.000000  20.000000  20.000000\n",
              "2         0.1  20.000000  20.000000  20.000000  20.000000\n",
              "3         0.2  20.000000  20.000000  20.000000  20.000000\n",
              "4         0.3  20.000000  20.000000  20.000000  20.000000\n",
              "...       ...        ...        ...        ...        ...\n",
              "49996  4999.5   2.564325   2.547429   2.685580   2.715926\n",
              "49997  4999.6   2.564293   2.547059   2.685737   2.715903\n",
              "49998  4999.7   2.564267   2.546647   2.685912   2.715890\n",
              "49999  4999.8   2.564253   2.546235   2.686088   2.715891\n",
              "50000  4999.9   2.564248   2.545783   2.686284   2.715904\n",
              "\n",
              "[50001 rows x 5 columns]"
            ]
          },
          "metadata": {
            "tags": []
          },
          "execution_count": 50
        }
      ]
    },
    {
      "cell_type": "code",
      "metadata": {
        "id": "NCOjnPg6W63M",
        "colab_type": "code",
        "colab": {}
      },
      "source": [
        "data_to_use[\"DVL1\"] = data_to_use[\"DVL1\"].fillna(0)"
      ],
      "execution_count": 0,
      "outputs": []
    },
    {
      "cell_type": "code",
      "metadata": {
        "id": "DABpRLJ_XwOs",
        "colab_type": "code",
        "colab": {}
      },
      "source": [
        "data_to_use=data_to_use['DVL1'].values"
      ],
      "execution_count": 0,
      "outputs": []
    },
    {
      "cell_type": "code",
      "metadata": {
        "id": "6jrkoDkfX08b",
        "colab_type": "code",
        "colab": {}
      },
      "source": [
        "scaled_dataset=data_to_use"
      ],
      "execution_count": 0,
      "outputs": []
    },
    {
      "cell_type": "code",
      "metadata": {
        "id": "G0I4Kj98X5Gb",
        "colab_type": "code",
        "outputId": "c15a635e-20c4-4c14-f48c-c36553b39798",
        "colab": {
          "base_uri": "https://localhost:8080/",
          "height": 50
        }
      },
      "source": [
        "scaled_dataset"
      ],
      "execution_count": 0,
      "outputs": [
        {
          "output_type": "execute_result",
          "data": {
            "text/plain": [
              "array([ 0.      , 20.      , 20.      , ...,  2.564267,  2.564253,\n",
              "        2.564248])"
            ]
          },
          "metadata": {
            "tags": []
          },
          "execution_count": 54
        }
      ]
    },
    {
      "cell_type": "code",
      "metadata": {
        "id": "oYdqSxRzX85j",
        "colab_type": "code",
        "colab": {}
      },
      "source": [
        "#Splitting the data in to the X and the y"
      ],
      "execution_count": 0,
      "outputs": []
    },
    {
      "cell_type": "code",
      "metadata": {
        "id": "65tRa1G9YMBt",
        "colab_type": "code",
        "colab": {}
      },
      "source": [
        "def window_data(data, window_size):\n",
        "    X = []\n",
        "    y = []\n",
        "    \n",
        "    i = 0\n",
        "    while (i + window_size) <= len(data) - 1:\n",
        "        X.append(data[i:i+window_size])\n",
        "        y.append(data[i+window_size])\n",
        "        \n",
        "        i += 1\n",
        "    assert len(X) ==  len(y)\n",
        "    return X, y\n",
        "\n",
        "\n",
        "X, y = window_data(scaled_dataset, 10)"
      ],
      "execution_count": 0,
      "outputs": []
    },
    {
      "cell_type": "code",
      "metadata": {
        "id": "1M3tGO7VoGcH",
        "colab_type": "code",
        "colab": {}
      },
      "source": [
        "for features, label in scaled_dataset\n",
        "   X.append(features)\n",
        "   y.append(label)\n",
        "\n"
      ],
      "execution_count": 0,
      "outputs": []
    },
    {
      "cell_type": "code",
      "metadata": {
        "id": "MhBce-yEYQ3M",
        "colab_type": "code",
        "colab": {}
      },
      "source": [
        "X_train  = np.array(X[:45000])\n",
        "y_train = np.array(y[:45000])\n",
        "\n",
        "X_test = np.array(X[45000:])\n",
        "y_test = np.array(y[45000:])"
      ],
      "execution_count": 0,
      "outputs": []
    },
    {
      "cell_type": "code",
      "metadata": {
        "id": "tON51h0rYhmQ",
        "colab_type": "code",
        "colab": {}
      },
      "source": [
        "# next step is to add the data to the neural network, but again I need to add the ground truth as well here."
      ],
      "execution_count": 0,
      "outputs": []
    },
    {
      "cell_type": "code",
      "metadata": {
        "id": "frBLm6gRYxaf",
        "colab_type": "code",
        "colab": {}
      },
      "source": [
        "import tensorflow as tf\n",
        "from tensorflow.keras.models import Sequential"
      ],
      "execution_count": 0,
      "outputs": []
    },
    {
      "cell_type": "code",
      "metadata": {
        "id": "bM-bYDYyAtOo",
        "colab_type": "code",
        "colab": {}
      },
      "source": [
        "from tensorflow.keras.layers import Dense, Dropout, Activation, Flatten, Conv1D, MaxPool1D"
      ],
      "execution_count": 0,
      "outputs": []
    },
    {
      "cell_type": "code",
      "metadata": {
        "id": "5KVUvhPVA4XV",
        "colab_type": "code",
        "colab": {
          "base_uri": "https://localhost:8080/",
          "height": 404
        },
        "outputId": "3788d3bb-bfed-44d8-aa98-b200671a5ebc"
      },
      "source": [
        "df2"
      ],
      "execution_count": 62,
      "outputs": [
        {
          "output_type": "execute_result",
          "data": {
            "text/html": [
              "<div>\n",
              "<style scoped>\n",
              "    .dataframe tbody tr th:only-of-type {\n",
              "        vertical-align: middle;\n",
              "    }\n",
              "\n",
              "    .dataframe tbody tr th {\n",
              "        vertical-align: top;\n",
              "    }\n",
              "\n",
              "    .dataframe thead th {\n",
              "        text-align: right;\n",
              "    }\n",
              "</style>\n",
              "<table border=\"1\" class=\"dataframe\">\n",
              "  <thead>\n",
              "    <tr style=\"text-align: right;\">\n",
              "      <th></th>\n",
              "      <th>Time</th>\n",
              "      <th>DVL1</th>\n",
              "      <th>DVL2</th>\n",
              "      <th>DVL3</th>\n",
              "      <th>DVL4</th>\n",
              "    </tr>\n",
              "  </thead>\n",
              "  <tbody>\n",
              "    <tr>\n",
              "      <th>0</th>\n",
              "      <td>NaN</td>\n",
              "      <td>NaN</td>\n",
              "      <td>NaN</td>\n",
              "      <td>NaN</td>\n",
              "      <td>NaN</td>\n",
              "    </tr>\n",
              "    <tr>\n",
              "      <th>1</th>\n",
              "      <td>0.0</td>\n",
              "      <td>20.000000</td>\n",
              "      <td>20.000000</td>\n",
              "      <td>20.000000</td>\n",
              "      <td>20.000000</td>\n",
              "    </tr>\n",
              "    <tr>\n",
              "      <th>2</th>\n",
              "      <td>0.1</td>\n",
              "      <td>20.000000</td>\n",
              "      <td>20.000000</td>\n",
              "      <td>20.000000</td>\n",
              "      <td>20.000000</td>\n",
              "    </tr>\n",
              "    <tr>\n",
              "      <th>3</th>\n",
              "      <td>0.2</td>\n",
              "      <td>20.000000</td>\n",
              "      <td>20.000000</td>\n",
              "      <td>20.000000</td>\n",
              "      <td>20.000000</td>\n",
              "    </tr>\n",
              "    <tr>\n",
              "      <th>4</th>\n",
              "      <td>0.3</td>\n",
              "      <td>20.000000</td>\n",
              "      <td>20.000000</td>\n",
              "      <td>20.000000</td>\n",
              "      <td>20.000000</td>\n",
              "    </tr>\n",
              "    <tr>\n",
              "      <th>...</th>\n",
              "      <td>...</td>\n",
              "      <td>...</td>\n",
              "      <td>...</td>\n",
              "      <td>...</td>\n",
              "      <td>...</td>\n",
              "    </tr>\n",
              "    <tr>\n",
              "      <th>49996</th>\n",
              "      <td>4999.5</td>\n",
              "      <td>2.564325</td>\n",
              "      <td>2.547429</td>\n",
              "      <td>2.685580</td>\n",
              "      <td>2.715926</td>\n",
              "    </tr>\n",
              "    <tr>\n",
              "      <th>49997</th>\n",
              "      <td>4999.6</td>\n",
              "      <td>2.564293</td>\n",
              "      <td>2.547059</td>\n",
              "      <td>2.685737</td>\n",
              "      <td>2.715903</td>\n",
              "    </tr>\n",
              "    <tr>\n",
              "      <th>49998</th>\n",
              "      <td>4999.7</td>\n",
              "      <td>2.564267</td>\n",
              "      <td>2.546647</td>\n",
              "      <td>2.685912</td>\n",
              "      <td>2.715890</td>\n",
              "    </tr>\n",
              "    <tr>\n",
              "      <th>49999</th>\n",
              "      <td>4999.8</td>\n",
              "      <td>2.564253</td>\n",
              "      <td>2.546235</td>\n",
              "      <td>2.686088</td>\n",
              "      <td>2.715891</td>\n",
              "    </tr>\n",
              "    <tr>\n",
              "      <th>50000</th>\n",
              "      <td>4999.9</td>\n",
              "      <td>2.564248</td>\n",
              "      <td>2.545783</td>\n",
              "      <td>2.686284</td>\n",
              "      <td>2.715904</td>\n",
              "    </tr>\n",
              "  </tbody>\n",
              "</table>\n",
              "<p>50001 rows × 5 columns</p>\n",
              "</div>"
            ],
            "text/plain": [
              "         Time       DVL1       DVL2       DVL3       DVL4\n",
              "0         NaN        NaN        NaN        NaN        NaN\n",
              "1         0.0  20.000000  20.000000  20.000000  20.000000\n",
              "2         0.1  20.000000  20.000000  20.000000  20.000000\n",
              "3         0.2  20.000000  20.000000  20.000000  20.000000\n",
              "4         0.3  20.000000  20.000000  20.000000  20.000000\n",
              "...       ...        ...        ...        ...        ...\n",
              "49996  4999.5   2.564325   2.547429   2.685580   2.715926\n",
              "49997  4999.6   2.564293   2.547059   2.685737   2.715903\n",
              "49998  4999.7   2.564267   2.546647   2.685912   2.715890\n",
              "49999  4999.8   2.564253   2.546235   2.686088   2.715891\n",
              "50000  4999.9   2.564248   2.545783   2.686284   2.715904\n",
              "\n",
              "[50001 rows x 5 columns]"
            ]
          },
          "metadata": {
            "tags": []
          },
          "execution_count": 62
        }
      ]
    },
    {
      "cell_type": "code",
      "metadata": {
        "id": "_9afpFZKBEdk",
        "colab_type": "code",
        "colab": {
          "base_uri": "https://localhost:8080/",
          "height": 404
        },
        "outputId": "b3231a15-73f4-4c23-ff43-50eb36b53117"
      },
      "source": [
        "df1"
      ],
      "execution_count": 63,
      "outputs": [
        {
          "output_type": "execute_result",
          "data": {
            "text/html": [
              "<div>\n",
              "<style scoped>\n",
              "    .dataframe tbody tr th:only-of-type {\n",
              "        vertical-align: middle;\n",
              "    }\n",
              "\n",
              "    .dataframe tbody tr th {\n",
              "        vertical-align: top;\n",
              "    }\n",
              "\n",
              "    .dataframe thead th {\n",
              "        text-align: right;\n",
              "    }\n",
              "</style>\n",
              "<table border=\"1\" class=\"dataframe\">\n",
              "  <thead>\n",
              "    <tr style=\"text-align: right;\">\n",
              "      <th></th>\n",
              "      <th>Time</th>\n",
              "      <th>DVL1</th>\n",
              "      <th>DVL2</th>\n",
              "      <th>DVL3</th>\n",
              "      <th>DVL4</th>\n",
              "    </tr>\n",
              "  </thead>\n",
              "  <tbody>\n",
              "    <tr>\n",
              "      <th>0</th>\n",
              "      <td>NaN</td>\n",
              "      <td>0.000000</td>\n",
              "      <td>NaN</td>\n",
              "      <td>NaN</td>\n",
              "      <td>NaN</td>\n",
              "    </tr>\n",
              "    <tr>\n",
              "      <th>1</th>\n",
              "      <td>0.0</td>\n",
              "      <td>20.000000</td>\n",
              "      <td>20.000000</td>\n",
              "      <td>20.000000</td>\n",
              "      <td>20.000000</td>\n",
              "    </tr>\n",
              "    <tr>\n",
              "      <th>2</th>\n",
              "      <td>0.1</td>\n",
              "      <td>20.000000</td>\n",
              "      <td>20.000000</td>\n",
              "      <td>20.000000</td>\n",
              "      <td>20.000000</td>\n",
              "    </tr>\n",
              "    <tr>\n",
              "      <th>3</th>\n",
              "      <td>0.2</td>\n",
              "      <td>20.000000</td>\n",
              "      <td>20.000000</td>\n",
              "      <td>20.000000</td>\n",
              "      <td>20.000000</td>\n",
              "    </tr>\n",
              "    <tr>\n",
              "      <th>4</th>\n",
              "      <td>0.3</td>\n",
              "      <td>20.000000</td>\n",
              "      <td>20.000000</td>\n",
              "      <td>20.000000</td>\n",
              "      <td>20.000000</td>\n",
              "    </tr>\n",
              "    <tr>\n",
              "      <th>...</th>\n",
              "      <td>...</td>\n",
              "      <td>...</td>\n",
              "      <td>...</td>\n",
              "      <td>...</td>\n",
              "      <td>...</td>\n",
              "    </tr>\n",
              "    <tr>\n",
              "      <th>49996</th>\n",
              "      <td>4999.5</td>\n",
              "      <td>2.564325</td>\n",
              "      <td>2.547429</td>\n",
              "      <td>2.685580</td>\n",
              "      <td>2.715926</td>\n",
              "    </tr>\n",
              "    <tr>\n",
              "      <th>49997</th>\n",
              "      <td>4999.6</td>\n",
              "      <td>2.564293</td>\n",
              "      <td>2.547059</td>\n",
              "      <td>2.685737</td>\n",
              "      <td>2.715903</td>\n",
              "    </tr>\n",
              "    <tr>\n",
              "      <th>49998</th>\n",
              "      <td>4999.7</td>\n",
              "      <td>2.564267</td>\n",
              "      <td>2.546647</td>\n",
              "      <td>2.685912</td>\n",
              "      <td>2.715890</td>\n",
              "    </tr>\n",
              "    <tr>\n",
              "      <th>49999</th>\n",
              "      <td>4999.8</td>\n",
              "      <td>2.564253</td>\n",
              "      <td>2.546235</td>\n",
              "      <td>2.686088</td>\n",
              "      <td>2.715891</td>\n",
              "    </tr>\n",
              "    <tr>\n",
              "      <th>50000</th>\n",
              "      <td>4999.9</td>\n",
              "      <td>2.564248</td>\n",
              "      <td>2.545783</td>\n",
              "      <td>2.686284</td>\n",
              "      <td>2.715904</td>\n",
              "    </tr>\n",
              "  </tbody>\n",
              "</table>\n",
              "<p>50001 rows × 5 columns</p>\n",
              "</div>"
            ],
            "text/plain": [
              "         Time       DVL1       DVL2       DVL3       DVL4\n",
              "0         NaN   0.000000        NaN        NaN        NaN\n",
              "1         0.0  20.000000  20.000000  20.000000  20.000000\n",
              "2         0.1  20.000000  20.000000  20.000000  20.000000\n",
              "3         0.2  20.000000  20.000000  20.000000  20.000000\n",
              "4         0.3  20.000000  20.000000  20.000000  20.000000\n",
              "...       ...        ...        ...        ...        ...\n",
              "49996  4999.5   2.564325   2.547429   2.685580   2.715926\n",
              "49997  4999.6   2.564293   2.547059   2.685737   2.715903\n",
              "49998  4999.7   2.564267   2.546647   2.685912   2.715890\n",
              "49999  4999.8   2.564253   2.546235   2.686088   2.715891\n",
              "50000  4999.9   2.564248   2.545783   2.686284   2.715904\n",
              "\n",
              "[50001 rows x 5 columns]"
            ]
          },
          "metadata": {
            "tags": []
          },
          "execution_count": 63
        }
      ]
    },
    {
      "cell_type": "code",
      "metadata": {
        "id": "HDGIhGWPBEat",
        "colab_type": "code",
        "colab": {
          "base_uri": "https://localhost:8080/",
          "height": 50
        },
        "outputId": "6f7a8b02-95a6-4ff7-b37a-9de0b34f499d"
      },
      "source": [
        "data_to_use"
      ],
      "execution_count": 64,
      "outputs": [
        {
          "output_type": "execute_result",
          "data": {
            "text/plain": [
              "array([ 0.      , 20.      , 20.      , ...,  2.564267,  2.564253,\n",
              "        2.564248])"
            ]
          },
          "metadata": {
            "tags": []
          },
          "execution_count": 64
        }
      ]
    },
    {
      "cell_type": "code",
      "metadata": {
        "id": "NHCgWdwyBEZJ",
        "colab_type": "code",
        "colab": {}
      },
      "source": [
        "#label\n"
      ],
      "execution_count": 0,
      "outputs": []
    },
    {
      "cell_type": "code",
      "metadata": {
        "id": "Gta6oMiUBEVw",
        "colab_type": "code",
        "colab": {}
      },
      "source": [
        "#normalize"
      ],
      "execution_count": 0,
      "outputs": []
    },
    {
      "cell_type": "code",
      "metadata": {
        "id": "RSLOZXoQBETp",
        "colab_type": "code",
        "colab": {}
      },
      "source": [
        "\n"
      ],
      "execution_count": 0,
      "outputs": []
    },
    {
      "cell_type": "markdown",
      "metadata": {
        "id": "nyr_VXbQFw69",
        "colab_type": "text"
      },
      "source": [
        "Summary of the LABELS AND FEATURES\n",
        "\n",
        "A label is the thing we're predicting—the y variable in simple linear regression. The label could be the future price of wheat, the kind of animal shown in a picture, the meaning of an audio clip, or just about anything.\n",
        "\n",
        "A feature is an input variable—the x variable in simple linear regression. A simple machine learning project might use a single feature, while a more sophisticated machine learning project could use millions of features, specified as:\n",
        "\n",
        "\n",
        "\n",
        "\n",
        "\n",
        "\n"
      ]
    },
    {
      "cell_type": "code",
      "metadata": {
        "id": "x8uG3pnBBER6",
        "colab_type": "code",
        "colab": {}
      },
      "source": [
        ""
      ],
      "execution_count": 0,
      "outputs": []
    },
    {
      "cell_type": "code",
      "metadata": {
        "id": "rCGWiKiUBEOw",
        "colab_type": "code",
        "colab": {}
      },
      "source": [
        "X=df1['DVL1'].values"
      ],
      "execution_count": 0,
      "outputs": []
    },
    {
      "cell_type": "code",
      "metadata": {
        "id": "c7H30b99BEMJ",
        "colab_type": "code",
        "colab": {
          "base_uri": "https://localhost:8080/",
          "height": 50
        },
        "outputId": "ce3c5acd-6df3-4b0c-a55c-cee60b199abf"
      },
      "source": [
        "X"
      ],
      "execution_count": 72,
      "outputs": [
        {
          "output_type": "execute_result",
          "data": {
            "text/plain": [
              "array([ 0.      , 20.      , 20.      , ...,  2.564267,  2.564253,\n",
              "        2.564248])"
            ]
          },
          "metadata": {
            "tags": []
          },
          "execution_count": 72
        }
      ]
    },
    {
      "cell_type": "code",
      "metadata": {
        "id": "lJhhfGBaHukJ",
        "colab_type": "code",
        "colab": {
          "base_uri": "https://localhost:8080/",
          "height": 33
        },
        "outputId": "c94eba10-2a82-459a-c2f8-b5f88907aab7"
      },
      "source": [
        "len(X)"
      ],
      "execution_count": 90,
      "outputs": [
        {
          "output_type": "execute_result",
          "data": {
            "text/plain": [
              "50001"
            ]
          },
          "metadata": {
            "tags": []
          },
          "execution_count": 90
        }
      ]
    },
    {
      "cell_type": "code",
      "metadata": {
        "id": "tnBKzxQZHgwJ",
        "colab_type": "code",
        "colab": {
          "base_uri": "https://localhost:8080/",
          "height": 217
        },
        "outputId": "960ec7c6-fe0e-4f28-fc45-d48239e30971"
      },
      "source": [
        "df2"
      ],
      "execution_count": 83,
      "outputs": [
        {
          "output_type": "execute_result",
          "data": {
            "text/plain": [
              "0         0.000000\n",
              "1        20.000000\n",
              "2        20.000000\n",
              "3        20.000000\n",
              "4        20.000000\n",
              "           ...    \n",
              "49996     2.564325\n",
              "49997     2.564293\n",
              "49998     2.564267\n",
              "49999     2.564253\n",
              "50000     2.564248\n",
              "Name: DVL1, Length: 50001, dtype: float64"
            ]
          },
          "metadata": {
            "tags": []
          },
          "execution_count": 83
        }
      ]
    },
    {
      "cell_type": "code",
      "metadata": {
        "id": "gJnaRpcZHL3x",
        "colab_type": "code",
        "colab": {
          "base_uri": "https://localhost:8080/",
          "height": 217
        },
        "outputId": "8307f9c2-014c-4c02-a0a7-1ccc1820e2fb"
      },
      "source": [
        "df2"
      ],
      "execution_count": 86,
      "outputs": [
        {
          "output_type": "execute_result",
          "data": {
            "text/plain": [
              "0         0.000000\n",
              "1        20.000000\n",
              "2        20.000000\n",
              "3        20.000000\n",
              "4        20.000000\n",
              "           ...    \n",
              "49996     2.564325\n",
              "49997     2.564293\n",
              "49998     2.564267\n",
              "49999     2.564253\n",
              "50000     2.564248\n",
              "Name: DVL1, Length: 50001, dtype: float64"
            ]
          },
          "metadata": {
            "tags": []
          },
          "execution_count": 86
        }
      ]
    },
    {
      "cell_type": "code",
      "metadata": {
        "id": "qztRGDHnBEJq",
        "colab_type": "code",
        "colab": {}
      },
      "source": [
        "y=df2.values\n",
        "\n"
      ],
      "execution_count": 0,
      "outputs": []
    },
    {
      "cell_type": "code",
      "metadata": {
        "id": "BUaUulp5HJ9a",
        "colab_type": "code",
        "colab": {
          "base_uri": "https://localhost:8080/",
          "height": 33
        },
        "outputId": "a357f8b2-a8ad-4572-e2cd-ea9eb90d1855"
      },
      "source": [
        "len(y)"
      ],
      "execution_count": 89,
      "outputs": [
        {
          "output_type": "execute_result",
          "data": {
            "text/plain": [
              "50001"
            ]
          },
          "metadata": {
            "tags": []
          },
          "execution_count": 89
        }
      ]
    },
    {
      "cell_type": "code",
      "metadata": {
        "id": "1vrtZXJtHCnL",
        "colab_type": "code",
        "colab": {
          "base_uri": "https://localhost:8080/",
          "height": 50
        },
        "outputId": "7491ff2c-26e7-4410-f906-e801d9080785"
      },
      "source": [
        "y"
      ],
      "execution_count": 74,
      "outputs": [
        {
          "output_type": "execute_result",
          "data": {
            "text/plain": [
              "array([      nan, 20.      , 20.      , ...,  2.564267,  2.564253,\n",
              "        2.564248])"
            ]
          },
          "metadata": {
            "tags": []
          },
          "execution_count": 74
        }
      ]
    },
    {
      "cell_type": "code",
      "metadata": {
        "id": "CdbbZ4LaHDGu",
        "colab_type": "code",
        "colab": {
          "base_uri": "https://localhost:8080/",
          "height": 50
        },
        "outputId": "0562ff50-9dc1-401d-a683-21d371e75fa8"
      },
      "source": [
        "X"
      ],
      "execution_count": 91,
      "outputs": [
        {
          "output_type": "execute_result",
          "data": {
            "text/plain": [
              "array([ 0.      , 20.      , 20.      , ...,  2.564267,  2.564253,\n",
              "        2.564248])"
            ]
          },
          "metadata": {
            "tags": []
          },
          "execution_count": 91
        }
      ]
    },
    {
      "cell_type": "code",
      "metadata": {
        "id": "G9AAMQ4oHxqB",
        "colab_type": "code",
        "colab": {
          "base_uri": "https://localhost:8080/",
          "height": 50
        },
        "outputId": "8256af91-86f6-4136-a011-1440ea611818"
      },
      "source": [
        "y"
      ],
      "execution_count": 92,
      "outputs": [
        {
          "output_type": "execute_result",
          "data": {
            "text/plain": [
              "array([ 0.      , 20.      , 20.      , ...,  2.564267,  2.564253,\n",
              "        2.564248])"
            ]
          },
          "metadata": {
            "tags": []
          },
          "execution_count": 92
        }
      ]
    },
    {
      "cell_type": "code",
      "metadata": {
        "id": "H2JBlrgwHyQz",
        "colab_type": "code",
        "colab": {}
      },
      "source": [
        "#Spliting is done, now going to feed the data to my neural networks"
      ],
      "execution_count": 0,
      "outputs": []
    },
    {
      "cell_type": "code",
      "metadata": {
        "id": "w8ktqylyIy6D",
        "colab_type": "code",
        "colab": {
          "base_uri": "https://localhost:8080/",
          "height": 84
        },
        "outputId": "a930498c-dcb8-4e82-d58c-53e918b6f372"
      },
      "source": [
        "print(\"X_train size: {}\".format(X_train.shape))\n",
        "print(\"y_train size: {}\".format(y_train.shape))\n",
        "print(\"X_test size: {}\".format(X_test.shape))\n",
        "print(\"y_test size: {}\".format(y_test.shape))"
      ],
      "execution_count": 94,
      "outputs": [
        {
          "output_type": "stream",
          "text": [
            "X_train size: (45000, 10)\n",
            "y_train size: (45000,)\n",
            "X_test size: (4991, 10)\n",
            "y_test size: (4991,)\n"
          ],
          "name": "stdout"
        }
      ]
    },
    {
      "cell_type": "code",
      "metadata": {
        "id": "MY2JPNJRI7KR",
        "colab_type": "code",
        "colab": {}
      },
      "source": [
        "dates = df1['Time']\n",
        "train_date = dates[:45000]\n",
        "test_date = dates[-4991:]"
      ],
      "execution_count": 0,
      "outputs": []
    },
    {
      "cell_type": "code",
      "metadata": {
        "id": "4X_8vd3QJEpx",
        "colab_type": "code",
        "colab": {}
      },
      "source": [
        "n_steps=10"
      ],
      "execution_count": 0,
      "outputs": []
    },
    {
      "cell_type": "code",
      "metadata": {
        "id": "P1Kb0TsrKLVv",
        "colab_type": "code",
        "colab": {}
      },
      "source": [
        "X = X_train\n",
        "y = y_train\n",
        "\n",
        "n_features = 1\n",
        "X = X.reshape((X.shape[0], X.shape[1], n_features))"
      ],
      "execution_count": 0,
      "outputs": []
    },
    {
      "cell_type": "code",
      "metadata": {
        "id": "v6UeH4H1KNRn",
        "colab_type": "code",
        "colab": {
          "base_uri": "https://localhost:8080/",
          "height": 836
        },
        "outputId": "9cadc8d7-1afe-457e-b1d3-7e8c4421daee"
      },
      "source": [
        "X"
      ],
      "execution_count": 102,
      "outputs": [
        {
          "output_type": "execute_result",
          "data": {
            "text/plain": [
              "array([[[ 0.      ],\n",
              "        [20.      ],\n",
              "        [20.      ],\n",
              "        ...,\n",
              "        [20.      ],\n",
              "        [20.      ],\n",
              "        [20.      ]],\n",
              "\n",
              "       [[20.      ],\n",
              "        [20.      ],\n",
              "        [20.      ],\n",
              "        ...,\n",
              "        [20.      ],\n",
              "        [20.      ],\n",
              "        [20.      ]],\n",
              "\n",
              "       [[20.      ],\n",
              "        [20.      ],\n",
              "        [20.      ],\n",
              "        ...,\n",
              "        [20.      ],\n",
              "        [20.      ],\n",
              "        [20.      ]],\n",
              "\n",
              "       ...,\n",
              "\n",
              "       [[ 2.683552],\n",
              "        [ 2.684657],\n",
              "        [ 2.685866],\n",
              "        ...,\n",
              "        [ 2.689603],\n",
              "        [ 2.69001 ],\n",
              "        [ 2.690383]],\n",
              "\n",
              "       [[ 2.684657],\n",
              "        [ 2.685866],\n",
              "        [ 2.686836],\n",
              "        ...,\n",
              "        [ 2.69001 ],\n",
              "        [ 2.690383],\n",
              "        [ 2.690678]],\n",
              "\n",
              "       [[ 2.685866],\n",
              "        [ 2.686836],\n",
              "        [ 2.687608],\n",
              "        ...,\n",
              "        [ 2.690383],\n",
              "        [ 2.690678],\n",
              "        [ 2.690923]]])"
            ]
          },
          "metadata": {
            "tags": []
          },
          "execution_count": 102
        }
      ]
    },
    {
      "cell_type": "code",
      "metadata": {
        "id": "0ik27Zl-JMea",
        "colab_type": "code",
        "colab": {}
      },
      "source": [
        "\n",
        "# define model\n",
        "model = Sequential()\n",
        "model.add(Conv1D(filters=32, kernel_size=2, activation='relu', input_shape=(n_steps, n_features)))\n",
        "\n",
        "model.add(Flatten())\n",
        "model.add(Dense(50, activation='relu'))\n",
        "model.add(Dense(1))\n",
        "model.compile(optimizer='adam', loss='mse',metrics=['accuracy'])\n",
        "# fit model\n",
        "history=model.fit(X, y, epochs=10, verbose=0)"
      ],
      "execution_count": 0,
      "outputs": []
    },
    {
      "cell_type": "code",
      "metadata": {
        "id": "qjdIav7iJM2T",
        "colab_type": "code",
        "colab": {
          "base_uri": "https://localhost:8080/",
          "height": 590
        },
        "outputId": "0898d29f-ea68-49ca-c84d-11bea500d3f3"
      },
      "source": [
        "# demonstrate prediction\n",
        "import math\n",
        "y_pred=[]\n",
        "for i in X_test:\n",
        "    \n",
        "    x_input = i\n",
        "    x_input = x_input.reshape((1, n_steps, n_features))\n",
        "    yhat = model.predict(x_input, verbose=0)\n",
        "    y_pred.append(float(yhat[0]))\n",
        "\n",
        "# import numpy as np\n",
        "# yp = list(np.around(np.array(y_pred),1))\n",
        "# yt = list(np.around((y_test),1))\n",
        "    \n",
        "# y_pred = [ '%.1f' % elem for elem in y_pred ]\n",
        "# y_test = [ '%.1f' % elem for elem in y_pred ]\n",
        "    \n",
        "#print(y_pred)\n",
        "#print(y_test)\n",
        "\n",
        "plt.figure(figsize = (18,9))\n",
        "\n",
        "plt.plot(dates,scaled_dataset,label=\"Training\")\n",
        "plt.plot(test_date,y_pred,label=\"Forecasting\")\n",
        "#plt.plot(test_date,y_test,label=\"actual \")\n",
        "\n",
        "plt.xticks(rotation=90)\n",
        "plt.xlabel('Time Steps',fontsize=18)\n",
        "plt.legend()\n",
        "plt.title(\"Forecasting using CNN\")\n",
        "plt.show()"
      ],
      "execution_count": 105,
      "outputs": [
        {
          "output_type": "display_data",
          "data": {
            "image/png": "[encoded data removed]",
            "text/plain": [
              "<Figure size 1296x648 with 1 Axes>"
            ]
          },
          "metadata": {
            "tags": [],
            "needs_background": "light"
          }
        }
      ]
    },
    {
      "cell_type": "code",
      "metadata": {
        "id": "qGahjk-dKg56",
        "colab_type": "code",
        "colab": {
          "base_uri": "https://localhost:8080/",
          "height": 295
        },
        "outputId": "260f351e-003a-4020-c24c-3825aad58d29"
      },
      "source": [
        "plt.plot(history.history['loss'])\n",
        "#plt.plot(history.history['val_loss'])\n",
        "plt.title('model loss')\n",
        "plt.ylabel('Mean Square Error')\n",
        "plt.xlabel('epoch')\n",
        "plt.legend(['train', 'test'], loc='upper left')\n",
        "plt.show()"
      ],
      "execution_count": 107,
      "outputs": [
        {
          "output_type": "display_data",
          "data": {
            "image/png": "[encoded data removed]",
            "text/plain": [
              "<Figure size 432x288 with 1 Axes>"
            ]
          },
          "metadata": {
            "tags": [],
            "needs_background": "light"
          }
        }
      ]
    },
    {
      "cell_type": "code",
      "metadata": {
        "id": "0ZbD55tsLCwr",
        "colab_type": "code",
        "colab": {}
      },
      "source": [
        ""
      ],
      "execution_count": 0,
      "outputs": []
    }
  ]
}