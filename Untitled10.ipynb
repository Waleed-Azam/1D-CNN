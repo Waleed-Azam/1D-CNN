{
  "nbformat": 4,
  "nbformat_minor": 0,
  "metadata": {
    "colab": {
      "name": "Untitled10.ipynb",
      "provenance": [],
      "authorship_tag": "ABX9TyNfMPSXsFMQHHASqO5AUMnz",
      "include_colab_link": true
    },
    "kernelspec": {
      "name": "python3",
      "display_name": "Python 3"
    }
  },
  "cells": [
    {
      "cell_type": "markdown",
      "metadata": {
        "id": "view-in-github",
        "colab_type": "text"
      },
      "source": [
        "<a href=\"https://colab.research.google.com/github/Waleed-Azam/1D-CNN/blob/master/Untitled10.ipynb\" target=\"_parent\"><img src=\"https://colab.research.google.com/assets/colab-badge.svg\" alt=\"Open In Colab\"/></a>"
      ]
    },
    {
      "cell_type": "code",
      "metadata": {
        "id": "SzBnt3AGKaJG",
        "colab_type": "code",
        "colab": {
          "base_uri": "https://localhost:8080/",
          "height": 33
        },
        "outputId": "39888982-ae48-4492-823b-6f6abd2c940f"
      },
      "source": [
        "# univariate cnn example\n",
        "from numpy import array\n",
        "from keras.models import Sequential\n",
        "from keras.layers import Dense\n",
        "from keras.layers import Flatten\n",
        "from keras.layers.convolutional import Conv1D\n",
        "from keras.layers.convolutional import MaxPooling1D"
      ],
      "execution_count": 1,
      "outputs": [
        {
          "output_type": "stream",
          "text": [
            "Using TensorFlow backend.\n"
          ],
          "name": "stderr"
        }
      ]
    },
    {
      "cell_type": "code",
      "metadata": {
        "id": "NUXSkI2nKcYG",
        "colab_type": "code",
        "colab": {}
      },
      "source": [
        "!pip install -U -q PyDrive\n",
        "from pydrive.auth import GoogleAuth\n",
        "from pydrive.drive import GoogleDrive\n",
        "from google.colab import auth\n",
        "from oauth2client.client import GoogleCredentials\n",
        "import numpy as np \n",
        "import matplotlib.pyplot as plt"
      ],
      "execution_count": 0,
      "outputs": []
    },
    {
      "cell_type": "code",
      "metadata": {
        "id": "pZif4ADNKfg9",
        "colab_type": "code",
        "colab": {}
      },
      "source": [
        "auth.authenticate_user()\n",
        "gauth = GoogleAuth()\n",
        "gauth.credentials = GoogleCredentials.get_application_default()\n",
        "drive = GoogleDrive(gauth)"
      ],
      "execution_count": 0,
      "outputs": []
    },
    {
      "cell_type": "code",
      "metadata": {
        "id": "X0T8uoDHKjvn",
        "colab_type": "code",
        "colab": {}
      },
      "source": [
        "downloaded = drive.CreateFile({'id':'1agv3WTJF7GiaUwWJGDpDQfZwX_nApM-J'}) # replace the id with id of file you want to access'}) # replace the id with id of file you want to access\n",
        "#https://drive.google.com/file/d/1agv3WTJF7GiaUwWJGDpDQfZwX_nApM-J/view?usp=sharing"
      ],
      "execution_count": 0,
      "outputs": []
    },
    {
      "cell_type": "code",
      "metadata": {
        "id": "v71LkE4BKrRq",
        "colab_type": "code",
        "colab": {}
      },
      "source": [
        "downloaded.GetContentFile('Dataa_True.csv')"
      ],
      "execution_count": 0,
      "outputs": []
    },
    {
      "cell_type": "code",
      "metadata": {
        "id": "Rbx-WKAEKtPi",
        "colab_type": "code",
        "colab": {
          "base_uri": "https://localhost:8080/",
          "height": 404
        },
        "outputId": "0c79bb33-101a-4269-de15-9463538efbb6"
      },
      "source": [
        "import pandas as pd\n",
        "df2 = pd.read_csv('Dataa_True.csv') \n",
        "df2"
      ],
      "execution_count": 6,
      "outputs": [
        {
          "output_type": "execute_result",
          "data": {
            "text/html": [
              "<div>\n",
              "<style scoped>\n",
              "    .dataframe tbody tr th:only-of-type {\n",
              "        vertical-align: middle;\n",
              "    }\n",
              "\n",
              "    .dataframe tbody tr th {\n",
              "        vertical-align: top;\n",
              "    }\n",
              "\n",
              "    .dataframe thead th {\n",
              "        text-align: right;\n",
              "    }\n",
              "</style>\n",
              "<table border=\"1\" class=\"dataframe\">\n",
              "  <thead>\n",
              "    <tr style=\"text-align: right;\">\n",
              "      <th></th>\n",
              "      <th>Time</th>\n",
              "      <th>TRUE</th>\n",
              "      <th>Srac</th>\n",
              "    </tr>\n",
              "  </thead>\n",
              "  <tbody>\n",
              "    <tr>\n",
              "      <th>0</th>\n",
              "      <td>0.0</td>\n",
              "      <td>0.000000</td>\n",
              "      <td>20.000000</td>\n",
              "    </tr>\n",
              "    <tr>\n",
              "      <th>1</th>\n",
              "      <td>0.0</td>\n",
              "      <td>20.000000</td>\n",
              "      <td>20.000000</td>\n",
              "    </tr>\n",
              "    <tr>\n",
              "      <th>2</th>\n",
              "      <td>0.1</td>\n",
              "      <td>20.000000</td>\n",
              "      <td>20.000000</td>\n",
              "    </tr>\n",
              "    <tr>\n",
              "      <th>3</th>\n",
              "      <td>0.2</td>\n",
              "      <td>20.000000</td>\n",
              "      <td>20.000000</td>\n",
              "    </tr>\n",
              "    <tr>\n",
              "      <th>4</th>\n",
              "      <td>0.3</td>\n",
              "      <td>20.000000</td>\n",
              "      <td>20.000000</td>\n",
              "    </tr>\n",
              "    <tr>\n",
              "      <th>...</th>\n",
              "      <td>...</td>\n",
              "      <td>...</td>\n",
              "      <td>...</td>\n",
              "    </tr>\n",
              "    <tr>\n",
              "      <th>49996</th>\n",
              "      <td>4999.5</td>\n",
              "      <td>2.367222</td>\n",
              "      <td>2.564293</td>\n",
              "    </tr>\n",
              "    <tr>\n",
              "      <th>49997</th>\n",
              "      <td>4999.6</td>\n",
              "      <td>2.366861</td>\n",
              "      <td>2.564267</td>\n",
              "    </tr>\n",
              "    <tr>\n",
              "      <th>49998</th>\n",
              "      <td>4999.7</td>\n",
              "      <td>2.366521</td>\n",
              "      <td>2.564253</td>\n",
              "    </tr>\n",
              "    <tr>\n",
              "      <th>49999</th>\n",
              "      <td>4999.8</td>\n",
              "      <td>2.366202</td>\n",
              "      <td>2.564248</td>\n",
              "    </tr>\n",
              "    <tr>\n",
              "      <th>50000</th>\n",
              "      <td>4999.9</td>\n",
              "      <td>2.365877</td>\n",
              "      <td>NaN</td>\n",
              "    </tr>\n",
              "  </tbody>\n",
              "</table>\n",
              "<p>50001 rows × 3 columns</p>\n",
              "</div>"
            ],
            "text/plain": [
              "         Time       TRUE       Srac\n",
              "0         0.0   0.000000  20.000000\n",
              "1         0.0  20.000000  20.000000\n",
              "2         0.1  20.000000  20.000000\n",
              "3         0.2  20.000000  20.000000\n",
              "4         0.3  20.000000  20.000000\n",
              "...       ...        ...        ...\n",
              "49996  4999.5   2.367222   2.564293\n",
              "49997  4999.6   2.366861   2.564267\n",
              "49998  4999.7   2.366521   2.564253\n",
              "49999  4999.8   2.366202   2.564248\n",
              "50000  4999.9   2.365877        NaN\n",
              "\n",
              "[50001 rows x 3 columns]"
            ]
          },
          "metadata": {
            "tags": []
          },
          "execution_count": 6
        }
      ]
    },
    {
      "cell_type": "code",
      "metadata": {
        "id": "4x3WcME8KvjX",
        "colab_type": "code",
        "colab": {
          "base_uri": "https://localhost:8080/",
          "height": 404
        },
        "outputId": "544cdd50-936c-452c-bf35-9c0d2e499bec"
      },
      "source": [
        "df2[\"TRUE\"] = df2[\"TRUE\"].fillna(0)\n",
        "df2[\"Srac\"] = df2[\"Srac\"].fillna(0)\n",
        "df2"
      ],
      "execution_count": 7,
      "outputs": [
        {
          "output_type": "execute_result",
          "data": {
            "text/html": [
              "<div>\n",
              "<style scoped>\n",
              "    .dataframe tbody tr th:only-of-type {\n",
              "        vertical-align: middle;\n",
              "    }\n",
              "\n",
              "    .dataframe tbody tr th {\n",
              "        vertical-align: top;\n",
              "    }\n",
              "\n",
              "    .dataframe thead th {\n",
              "        text-align: right;\n",
              "    }\n",
              "</style>\n",
              "<table border=\"1\" class=\"dataframe\">\n",
              "  <thead>\n",
              "    <tr style=\"text-align: right;\">\n",
              "      <th></th>\n",
              "      <th>Time</th>\n",
              "      <th>TRUE</th>\n",
              "      <th>Srac</th>\n",
              "    </tr>\n",
              "  </thead>\n",
              "  <tbody>\n",
              "    <tr>\n",
              "      <th>0</th>\n",
              "      <td>0.0</td>\n",
              "      <td>0.000000</td>\n",
              "      <td>20.000000</td>\n",
              "    </tr>\n",
              "    <tr>\n",
              "      <th>1</th>\n",
              "      <td>0.0</td>\n",
              "      <td>20.000000</td>\n",
              "      <td>20.000000</td>\n",
              "    </tr>\n",
              "    <tr>\n",
              "      <th>2</th>\n",
              "      <td>0.1</td>\n",
              "      <td>20.000000</td>\n",
              "      <td>20.000000</td>\n",
              "    </tr>\n",
              "    <tr>\n",
              "      <th>3</th>\n",
              "      <td>0.2</td>\n",
              "      <td>20.000000</td>\n",
              "      <td>20.000000</td>\n",
              "    </tr>\n",
              "    <tr>\n",
              "      <th>4</th>\n",
              "      <td>0.3</td>\n",
              "      <td>20.000000</td>\n",
              "      <td>20.000000</td>\n",
              "    </tr>\n",
              "    <tr>\n",
              "      <th>...</th>\n",
              "      <td>...</td>\n",
              "      <td>...</td>\n",
              "      <td>...</td>\n",
              "    </tr>\n",
              "    <tr>\n",
              "      <th>49996</th>\n",
              "      <td>4999.5</td>\n",
              "      <td>2.367222</td>\n",
              "      <td>2.564293</td>\n",
              "    </tr>\n",
              "    <tr>\n",
              "      <th>49997</th>\n",
              "      <td>4999.6</td>\n",
              "      <td>2.366861</td>\n",
              "      <td>2.564267</td>\n",
              "    </tr>\n",
              "    <tr>\n",
              "      <th>49998</th>\n",
              "      <td>4999.7</td>\n",
              "      <td>2.366521</td>\n",
              "      <td>2.564253</td>\n",
              "    </tr>\n",
              "    <tr>\n",
              "      <th>49999</th>\n",
              "      <td>4999.8</td>\n",
              "      <td>2.366202</td>\n",
              "      <td>2.564248</td>\n",
              "    </tr>\n",
              "    <tr>\n",
              "      <th>50000</th>\n",
              "      <td>4999.9</td>\n",
              "      <td>2.365877</td>\n",
              "      <td>0.000000</td>\n",
              "    </tr>\n",
              "  </tbody>\n",
              "</table>\n",
              "<p>50001 rows × 3 columns</p>\n",
              "</div>"
            ],
            "text/plain": [
              "         Time       TRUE       Srac\n",
              "0         0.0   0.000000  20.000000\n",
              "1         0.0  20.000000  20.000000\n",
              "2         0.1  20.000000  20.000000\n",
              "3         0.2  20.000000  20.000000\n",
              "4         0.3  20.000000  20.000000\n",
              "...       ...        ...        ...\n",
              "49996  4999.5   2.367222   2.564293\n",
              "49997  4999.6   2.366861   2.564267\n",
              "49998  4999.7   2.366521   2.564253\n",
              "49999  4999.8   2.366202   2.564248\n",
              "50000  4999.9   2.365877   0.000000\n",
              "\n",
              "[50001 rows x 3 columns]"
            ]
          },
          "metadata": {
            "tags": []
          },
          "execution_count": 7
        }
      ]
    },
    {
      "cell_type": "code",
      "metadata": {
        "id": "FUXH-FP0Kx0n",
        "colab_type": "code",
        "colab": {}
      },
      "source": [
        "t=df2['Time']\n",
        "Label=df2['TRUE']\n",
        "y=np.array( Label)\n",
        "X=df2['Srac']\n",
        "X=np.array(X)\n",
        "import numpy as np"
      ],
      "execution_count": 0,
      "outputs": []
    },
    {
      "cell_type": "code",
      "metadata": {
        "id": "aSogpJ9nKz-Y",
        "colab_type": "code",
        "colab": {}
      },
      "source": [
        "def split_sequence(sequence, n_steps):\n",
        "\tX, z = list(), list()\n",
        "\tfor i in range(len(sequence)):\n",
        "\t\t# find the end of this pattern\n",
        "\t\tend_ix = i + n_steps\n",
        "\t\t# check if we are beyond the sequence\n",
        "\t\tif end_ix > len(sequence)-1:\n",
        "\t\t\tbreak\n",
        "\t\t# gather input and output parts of the pattern\n",
        "\t\tseq_x, seq_z = sequence[i:end_ix], sequence[end_ix]\n",
        "\t\tX.append(seq_x)\n",
        "\t\tz.append(seq_z)\n",
        "\treturn array(X), array(z)"
      ],
      "execution_count": 0,
      "outputs": []
    },
    {
      "cell_type": "code",
      "metadata": {
        "id": "t47ieVF7K3XV",
        "colab_type": "code",
        "colab": {
          "base_uri": "https://localhost:8080/",
          "height": 50
        },
        "outputId": "c31c6f69-93ba-40da-e675-df14f72596b9"
      },
      "source": [
        "X"
      ],
      "execution_count": 10,
      "outputs": [
        {
          "output_type": "execute_result",
          "data": {
            "text/plain": [
              "array([20.      , 20.      , 20.      , ...,  2.564253,  2.564248,\n",
              "        0.      ])"
            ]
          },
          "metadata": {
            "tags": []
          },
          "execution_count": 10
        }
      ]
    },
    {
      "cell_type": "code",
      "metadata": {
        "id": "uorPk-ClK4R3",
        "colab_type": "code",
        "colab": {}
      },
      "source": [
        "scaled_data=X"
      ],
      "execution_count": 0,
      "outputs": []
    },
    {
      "cell_type": "code",
      "metadata": {
        "id": "sMeGRJApK6y7",
        "colab_type": "code",
        "colab": {
          "base_uri": "https://localhost:8080/",
          "height": 50
        },
        "outputId": "b3d527b0-16fb-496c-b883-149b5b4bc483"
      },
      "source": [
        "scaled_data"
      ],
      "execution_count": 12,
      "outputs": [
        {
          "output_type": "execute_result",
          "data": {
            "text/plain": [
              "array([20.      , 20.      , 20.      , ...,  2.564253,  2.564248,\n",
              "        0.      ])"
            ]
          },
          "metadata": {
            "tags": []
          },
          "execution_count": 12
        }
      ]
    },
    {
      "cell_type": "code",
      "metadata": {
        "id": "6nSKXUqqK9lo",
        "colab_type": "code",
        "colab": {
          "base_uri": "https://localhost:8080/",
          "height": 50
        },
        "outputId": "4eac9ff0-8c9c-4bac-da32-477fd63c85d1"
      },
      "source": [
        "X"
      ],
      "execution_count": 13,
      "outputs": [
        {
          "output_type": "execute_result",
          "data": {
            "text/plain": [
              "array([20.      , 20.      , 20.      , ...,  2.564253,  2.564248,\n",
              "        0.      ])"
            ]
          },
          "metadata": {
            "tags": []
          },
          "execution_count": 13
        }
      ]
    },
    {
      "cell_type": "code",
      "metadata": {
        "id": "lgUUNkjUK-SN",
        "colab_type": "code",
        "colab": {
          "base_uri": "https://localhost:8080/",
          "height": 33
        },
        "outputId": "7350d310-e8e6-42fa-9f93-5934ebe40e38"
      },
      "source": [
        "X.shape"
      ],
      "execution_count": 14,
      "outputs": [
        {
          "output_type": "execute_result",
          "data": {
            "text/plain": [
              "(50001,)"
            ]
          },
          "metadata": {
            "tags": []
          },
          "execution_count": 14
        }
      ]
    },
    {
      "cell_type": "code",
      "metadata": {
        "id": "9MLEdetBLAbZ",
        "colab_type": "code",
        "colab": {}
      },
      "source": [
        "# define input sequence\n",
        "raw_seq = X\n",
        "# choose a number of time steps\n",
        "n_steps = 3\n",
        "# split into samples\n",
        "X, z = split_sequence(raw_seq, n_steps)"
      ],
      "execution_count": 0,
      "outputs": []
    },
    {
      "cell_type": "code",
      "metadata": {
        "id": "M4MPoTmKLCxn",
        "colab_type": "code",
        "colab": {
          "base_uri": "https://localhost:8080/",
          "height": 134
        },
        "outputId": "d5027a91-b004-406c-cd72-3c4309654421"
      },
      "source": [
        "X"
      ],
      "execution_count": 16,
      "outputs": [
        {
          "output_type": "execute_result",
          "data": {
            "text/plain": [
              "array([[20.      , 20.      , 20.      ],\n",
              "       [20.      , 20.      , 20.      ],\n",
              "       [20.      , 20.      , 20.      ],\n",
              "       ...,\n",
              "       [ 2.564325,  2.564293,  2.564267],\n",
              "       [ 2.564293,  2.564267,  2.564253],\n",
              "       [ 2.564267,  2.564253,  2.564248]])"
            ]
          },
          "metadata": {
            "tags": []
          },
          "execution_count": 16
        }
      ]
    },
    {
      "cell_type": "code",
      "metadata": {
        "id": "qqdGQSL7LFJr",
        "colab_type": "code",
        "colab": {
          "base_uri": "https://localhost:8080/",
          "height": 33
        },
        "outputId": "918fa8d6-64ea-4f69-e62f-b62bfc6a871f"
      },
      "source": [
        "X.shape"
      ],
      "execution_count": 17,
      "outputs": [
        {
          "output_type": "execute_result",
          "data": {
            "text/plain": [
              "(49998, 3)"
            ]
          },
          "metadata": {
            "tags": []
          },
          "execution_count": 17
        }
      ]
    },
    {
      "cell_type": "code",
      "metadata": {
        "id": "U8fbCK8GLHR4",
        "colab_type": "code",
        "colab": {}
      },
      "source": [
        "X, z = split_sequence(raw_seq, n_steps)\n",
        "# reshape from [samples, timesteps] into [samples, timesteps, features]\n",
        "n_features = 1\n",
        "X = X.reshape((X.shape[0], X.shape[1], n_features))"
      ],
      "execution_count": 0,
      "outputs": []
    },
    {
      "cell_type": "code",
      "metadata": {
        "id": "QIHZbhs4LJMV",
        "colab_type": "code",
        "colab": {
          "base_uri": "https://localhost:8080/",
          "height": 33
        },
        "outputId": "0c76e8de-6950-4c08-a928-6dafe36d7d69"
      },
      "source": [
        "X.shape[0]"
      ],
      "execution_count": 19,
      "outputs": [
        {
          "output_type": "execute_result",
          "data": {
            "text/plain": [
              "49998"
            ]
          },
          "metadata": {
            "tags": []
          },
          "execution_count": 19
        }
      ]
    },
    {
      "cell_type": "code",
      "metadata": {
        "id": "9g_br2F6LNJp",
        "colab_type": "code",
        "colab": {
          "base_uri": "https://localhost:8080/",
          "height": 33
        },
        "outputId": "28deedc5-d22f-428e-8d30-5758f9156a3a"
      },
      "source": [
        "X.shape[1]"
      ],
      "execution_count": 20,
      "outputs": [
        {
          "output_type": "execute_result",
          "data": {
            "text/plain": [
              "3"
            ]
          },
          "metadata": {
            "tags": []
          },
          "execution_count": 20
        }
      ]
    },
    {
      "cell_type": "code",
      "metadata": {
        "id": "4wQ--0LsLO8J",
        "colab_type": "code",
        "colab": {
          "base_uri": "https://localhost:8080/",
          "height": 33
        },
        "outputId": "17ddea51-bafe-442d-f524-1d6c4d5f60e6"
      },
      "source": [
        "n_features"
      ],
      "execution_count": 21,
      "outputs": [
        {
          "output_type": "execute_result",
          "data": {
            "text/plain": [
              "1"
            ]
          },
          "metadata": {
            "tags": []
          },
          "execution_count": 21
        }
      ]
    },
    {
      "cell_type": "code",
      "metadata": {
        "id": "fer3EdbiLQy3",
        "colab_type": "code",
        "colab": {
          "base_uri": "https://localhost:8080/",
          "height": 435
        },
        "outputId": "07c8a9ef-72ed-4447-b5d2-523ae394c825"
      },
      "source": [
        "X"
      ],
      "execution_count": 22,
      "outputs": [
        {
          "output_type": "execute_result",
          "data": {
            "text/plain": [
              "array([[[20.      ],\n",
              "        [20.      ],\n",
              "        [20.      ]],\n",
              "\n",
              "       [[20.      ],\n",
              "        [20.      ],\n",
              "        [20.      ]],\n",
              "\n",
              "       [[20.      ],\n",
              "        [20.      ],\n",
              "        [20.      ]],\n",
              "\n",
              "       ...,\n",
              "\n",
              "       [[ 2.564325],\n",
              "        [ 2.564293],\n",
              "        [ 2.564267]],\n",
              "\n",
              "       [[ 2.564293],\n",
              "        [ 2.564267],\n",
              "        [ 2.564253]],\n",
              "\n",
              "       [[ 2.564267],\n",
              "        [ 2.564253],\n",
              "        [ 2.564248]]])"
            ]
          },
          "metadata": {
            "tags": []
          },
          "execution_count": 22
        }
      ]
    },
    {
      "cell_type": "code",
      "metadata": {
        "id": "zax8oy4tLSm4",
        "colab_type": "code",
        "colab": {
          "base_uri": "https://localhost:8080/",
          "height": 33
        },
        "outputId": "0a355ed5-1856-4fb0-8cf6-3825c1c38864"
      },
      "source": [
        "X.shape"
      ],
      "execution_count": 23,
      "outputs": [
        {
          "output_type": "execute_result",
          "data": {
            "text/plain": [
              "(49998, 3, 1)"
            ]
          },
          "metadata": {
            "tags": []
          },
          "execution_count": 23
        }
      ]
    },
    {
      "cell_type": "code",
      "metadata": {
        "id": "XSzGoO-GLUm8",
        "colab_type": "code",
        "colab": {
          "base_uri": "https://localhost:8080/",
          "height": 50
        },
        "outputId": "85962779-60cd-484a-aa05-8022d9ae0c34"
      },
      "source": [
        "z\n"
      ],
      "execution_count": 24,
      "outputs": [
        {
          "output_type": "execute_result",
          "data": {
            "text/plain": [
              "array([20.      , 20.      , 20.      , ...,  2.564253,  2.564248,\n",
              "        0.      ])"
            ]
          },
          "metadata": {
            "tags": []
          },
          "execution_count": 24
        }
      ]
    },
    {
      "cell_type": "code",
      "metadata": {
        "id": "3j35lCFiLWkk",
        "colab_type": "code",
        "colab": {
          "base_uri": "https://localhost:8080/",
          "height": 33
        },
        "outputId": "19541f39-0491-456e-ce04-2f75d58679bb"
      },
      "source": [
        "z.shape"
      ],
      "execution_count": 25,
      "outputs": [
        {
          "output_type": "execute_result",
          "data": {
            "text/plain": [
              "(49998,)"
            ]
          },
          "metadata": {
            "tags": []
          },
          "execution_count": 25
        }
      ]
    },
    {
      "cell_type": "code",
      "metadata": {
        "id": "gwlQtzw1LYYm",
        "colab_type": "code",
        "colab": {
          "base_uri": "https://localhost:8080/",
          "height": 217
        },
        "outputId": "afc45e59-c376-40eb-8a50-43997ec20b37"
      },
      "source": [
        "Label"
      ],
      "execution_count": 26,
      "outputs": [
        {
          "output_type": "execute_result",
          "data": {
            "text/plain": [
              "0         0.000000\n",
              "1        20.000000\n",
              "2        20.000000\n",
              "3        20.000000\n",
              "4        20.000000\n",
              "           ...    \n",
              "49996     2.367222\n",
              "49997     2.366861\n",
              "49998     2.366521\n",
              "49999     2.366202\n",
              "50000     2.365877\n",
              "Name: TRUE, Length: 50001, dtype: float64"
            ]
          },
          "metadata": {
            "tags": []
          },
          "execution_count": 26
        }
      ]
    },
    {
      "cell_type": "code",
      "metadata": {
        "id": "SWtqMvf_LaHZ",
        "colab_type": "code",
        "colab": {
          "base_uri": "https://localhost:8080/",
          "height": 33
        },
        "outputId": "d8e88084-893a-48ba-e062-ea50e146b821"
      },
      "source": [
        "Label.shape"
      ],
      "execution_count": 27,
      "outputs": [
        {
          "output_type": "execute_result",
          "data": {
            "text/plain": [
              "(50001,)"
            ]
          },
          "metadata": {
            "tags": []
          },
          "execution_count": 27
        }
      ]
    },
    {
      "cell_type": "code",
      "metadata": {
        "id": "IiVjApXwLb5d",
        "colab_type": "code",
        "colab": {}
      },
      "source": [
        "# split a univariate sequence into samples\n",
        "def split_sequence(sequence, n_steps):\n",
        "\tLabel, y = list(), list()\n",
        "\tfor i in range(len(sequence)):\n",
        "\t\t# find the end of this pattern\n",
        "\t\tend_ix = i + n_steps\n",
        "\t\t# check if we are beyond the sequence\n",
        "\t\tif end_ix > len(sequence)-1:\n",
        "\t\t\tbreak\n",
        "\t\t# gather input and output parts of the pattern\n",
        "\t\tseq_x, seq_y = sequence[i:end_ix], sequence[end_ix]\n",
        "\t\tLabel.append(seq_x)\n",
        "\t\ty.append(seq_y)\n",
        "\treturn array(Label), array(y)"
      ],
      "execution_count": 0,
      "outputs": []
    },
    {
      "cell_type": "code",
      "metadata": {
        "id": "mDsOZNz9Lfk3",
        "colab_type": "code",
        "colab": {}
      },
      "source": [
        "# define input sequence\n",
        "raw_seq = Label\n",
        "# choose a number of time steps\n",
        "n_steps = 3\n",
        "# split into samples\n",
        "Label, y = split_sequence(raw_seq, n_steps)\n",
        "# reshape from [samples, timesteps] into [samples, timesteps, features]\n",
        "n_features = 1\n",
        "Label = Label.reshape((Label.shape[0], Label.shape[1], n_features))"
      ],
      "execution_count": 0,
      "outputs": []
    },
    {
      "cell_type": "code",
      "metadata": {
        "id": "-ouLZQBZLh8Z",
        "colab_type": "code",
        "colab": {
          "base_uri": "https://localhost:8080/",
          "height": 435
        },
        "outputId": "068e74c9-4bf4-4a90-ac21-33e5a554af75"
      },
      "source": [
        "Label"
      ],
      "execution_count": 30,
      "outputs": [
        {
          "output_type": "execute_result",
          "data": {
            "text/plain": [
              "array([[[ 0.      ],\n",
              "        [20.      ],\n",
              "        [20.      ]],\n",
              "\n",
              "       [[20.      ],\n",
              "        [20.      ],\n",
              "        [20.      ]],\n",
              "\n",
              "       [[20.      ],\n",
              "        [20.      ],\n",
              "        [20.      ]],\n",
              "\n",
              "       ...,\n",
              "\n",
              "       [[ 2.367604],\n",
              "        [ 2.367222],\n",
              "        [ 2.366861]],\n",
              "\n",
              "       [[ 2.367222],\n",
              "        [ 2.366861],\n",
              "        [ 2.366521]],\n",
              "\n",
              "       [[ 2.366861],\n",
              "        [ 2.366521],\n",
              "        [ 2.366202]]])"
            ]
          },
          "metadata": {
            "tags": []
          },
          "execution_count": 30
        }
      ]
    },
    {
      "cell_type": "code",
      "metadata": {
        "id": "kD45JtovLj-m",
        "colab_type": "code",
        "colab": {
          "base_uri": "https://localhost:8080/",
          "height": 33
        },
        "outputId": "ae1add34-f40d-41ca-80e7-634292d3c905"
      },
      "source": [
        "Label.shape"
      ],
      "execution_count": 31,
      "outputs": [
        {
          "output_type": "execute_result",
          "data": {
            "text/plain": [
              "(49998, 3, 1)"
            ]
          },
          "metadata": {
            "tags": []
          },
          "execution_count": 31
        }
      ]
    },
    {
      "cell_type": "code",
      "metadata": {
        "id": "gL6S8tXULlxt",
        "colab_type": "code",
        "colab": {
          "base_uri": "https://localhost:8080/",
          "height": 50
        },
        "outputId": "489b029c-06b2-44f6-f3f4-45afc5052c91"
      },
      "source": [
        "y"
      ],
      "execution_count": 32,
      "outputs": [
        {
          "output_type": "execute_result",
          "data": {
            "text/plain": [
              "array([20.      , 20.      , 20.      , ...,  2.366521,  2.366202,\n",
              "        2.365877])"
            ]
          },
          "metadata": {
            "tags": []
          },
          "execution_count": 32
        }
      ]
    },
    {
      "cell_type": "code",
      "metadata": {
        "id": "3OIuJayZLngh",
        "colab_type": "code",
        "colab": {
          "base_uri": "https://localhost:8080/",
          "height": 33
        },
        "outputId": "aeab2a3e-774b-4360-8c84-fa18269e592d"
      },
      "source": [
        "y.shape"
      ],
      "execution_count": 33,
      "outputs": [
        {
          "output_type": "execute_result",
          "data": {
            "text/plain": [
              "(49998,)"
            ]
          },
          "metadata": {
            "tags": []
          },
          "execution_count": 33
        }
      ]
    },
    {
      "cell_type": "code",
      "metadata": {
        "id": "4LNCkJ2HLpbh",
        "colab_type": "code",
        "colab": {
          "base_uri": "https://localhost:8080/",
          "height": 435
        },
        "outputId": "110d52d3-7640-4d88-9626-10cbc5fcb2a0"
      },
      "source": [
        "X"
      ],
      "execution_count": 34,
      "outputs": [
        {
          "output_type": "execute_result",
          "data": {
            "text/plain": [
              "array([[[20.      ],\n",
              "        [20.      ],\n",
              "        [20.      ]],\n",
              "\n",
              "       [[20.      ],\n",
              "        [20.      ],\n",
              "        [20.      ]],\n",
              "\n",
              "       [[20.      ],\n",
              "        [20.      ],\n",
              "        [20.      ]],\n",
              "\n",
              "       ...,\n",
              "\n",
              "       [[ 2.564325],\n",
              "        [ 2.564293],\n",
              "        [ 2.564267]],\n",
              "\n",
              "       [[ 2.564293],\n",
              "        [ 2.564267],\n",
              "        [ 2.564253]],\n",
              "\n",
              "       [[ 2.564267],\n",
              "        [ 2.564253],\n",
              "        [ 2.564248]]])"
            ]
          },
          "metadata": {
            "tags": []
          },
          "execution_count": 34
        }
      ]
    },
    {
      "cell_type": "code",
      "metadata": {
        "id": "mtoDBJnjLrAD",
        "colab_type": "code",
        "colab": {
          "base_uri": "https://localhost:8080/",
          "height": 50
        },
        "outputId": "c5f1bdf0-7e8c-49dc-d6be-bf494112bc77"
      },
      "source": [
        "y"
      ],
      "execution_count": 35,
      "outputs": [
        {
          "output_type": "execute_result",
          "data": {
            "text/plain": [
              "array([20.      , 20.      , 20.      , ...,  2.366521,  2.366202,\n",
              "        2.365877])"
            ]
          },
          "metadata": {
            "tags": []
          },
          "execution_count": 35
        }
      ]
    },
    {
      "cell_type": "code",
      "metadata": {
        "id": "tmFiIH1OLs12",
        "colab_type": "code",
        "colab": {}
      },
      "source": [
        "X_train  = np.array(X[:45000])\n",
        "y_train = np.array(y[:45000])\n",
        "\n",
        "X_test = np.array(X[45000:])\n",
        "y_test = np.array(y[45000:])"
      ],
      "execution_count": 0,
      "outputs": []
    },
    {
      "cell_type": "code",
      "metadata": {
        "id": "sNZyyONRLuYD",
        "colab_type": "code",
        "colab": {
          "base_uri": "https://localhost:8080/",
          "height": 84
        },
        "outputId": "ea4e2349-c222-4790-e026-9bd5717a04c5"
      },
      "source": [
        "\n",
        "print(\"X_train size: {}\".format(X_train.shape))\n",
        "print(\"y_train size: {}\".format(y_train.shape))\n",
        "print(\"X_test size: {}\".format(X_test.shape))\n",
        "print(\"y_test size: {}\".format(y_test.shape))"
      ],
      "execution_count": 37,
      "outputs": [
        {
          "output_type": "stream",
          "text": [
            "X_train size: (45000, 3, 1)\n",
            "y_train size: (45000,)\n",
            "X_test size: (4998, 3, 1)\n",
            "y_test size: (4998,)\n"
          ],
          "name": "stdout"
        }
      ]
    },
    {
      "cell_type": "code",
      "metadata": {
        "id": "Bx4FT8bVLwSQ",
        "colab_type": "code",
        "colab": {}
      },
      "source": [
        "dates = df2['Time']\n",
        "train_date = dates[:45000]\n",
        "test_date = dates[-4998:]"
      ],
      "execution_count": 0,
      "outputs": []
    },
    {
      "cell_type": "code",
      "metadata": {
        "id": "ji14lsZCLyKZ",
        "colab_type": "code",
        "colab": {}
      },
      "source": [
        "X = X_train\n",
        "y = y_train\n"
      ],
      "execution_count": 0,
      "outputs": []
    },
    {
      "cell_type": "code",
      "metadata": {
        "id": "vQIk0gfPL0DD",
        "colab_type": "code",
        "colab": {}
      },
      "source": [
        "model = Sequential()\n",
        "model.add(Conv1D(filters=64, kernel_size=2, activation='relu', input_shape=(n_steps, n_features)))\n",
        "model.add(Conv1D(filters=64, kernel_size=2,padding='same', activation='relu'))\n",
        "model.add(Conv1D(filters=64, kernel_size=2,padding='same', activation='relu'))\n",
        "model.add(Conv1D(filters=64, kernel_size=2,padding='same', activation='relu'))\n",
        "model.add(Conv1D(filters=64, kernel_size=2,padding='same', activation='relu'))\n",
        "model.add(Conv1D(filters=64, kernel_size=2,padding='same', activation='relu'))\n",
        "model.add(Conv1D(filters=64, kernel_size=2,padding='same', activation='relu'))\n",
        "model.add(Conv1D(filters=64, kernel_size=2,padding='same', activation='relu'))\n",
        "model.add(MaxPooling1D(pool_size=2))\n",
        "model.add(Flatten())\n",
        "model.add(Dense(50, activation='relu'))\n",
        "model.add(Dense(1))\n",
        "model.compile(optimizer='adam', loss='mse')"
      ],
      "execution_count": 0,
      "outputs": []
    },
    {
      "cell_type": "code",
      "metadata": {
        "id": "LueWTPg-L2KK",
        "colab_type": "code",
        "colab": {
          "base_uri": "https://localhost:8080/",
          "height": 33
        },
        "outputId": "a9c2fcf2-36c1-44f0-8469-c778a0a38ab8"
      },
      "source": [
        "model.fit(X, y, epochs=2, verbose=0)\n"
      ],
      "execution_count": 41,
      "outputs": [
        {
          "output_type": "execute_result",
          "data": {
            "text/plain": [
              "<keras.callbacks.callbacks.History at 0x7f422ddbc4e0>"
            ]
          },
          "metadata": {
            "tags": []
          },
          "execution_count": 41
        }
      ]
    },
    {
      "cell_type": "code",
      "metadata": {
        "id": "AKPhxb8lL4Vr",
        "colab_type": "code",
        "colab": {}
      },
      "source": [
        "#Prediction \n",
        "# demonstrate prediction\n",
        "import math\n",
        "y_pred=[]\n",
        "for i in X_test:\n",
        "    \n",
        "    x_input = i\n",
        "    x_input = x_input.reshape((1, n_steps, n_features))\n",
        "    yhat = model.predict(x_input, verbose=0)\n",
        "    y_pred.append(float(yhat[0]))\n",
        "\n",
        "# import numpy as np\n",
        "# yp = list(np.around(np.array(y_pred),1))\n",
        "# yt = list(np.around((y_test),1))\n",
        "    \n",
        "# y_pred = [ '%.1f' % elem for elem in y_pred ]\n",
        "# y_test = [ '%.1f' % elem for elem in y_pred ]\n",
        "    \n"
      ],
      "execution_count": 0,
      "outputs": []
    },
    {
      "cell_type": "code",
      "metadata": {
        "id": "jVCNOnXFL81p",
        "colab_type": "code",
        "colab": {
          "base_uri": "https://localhost:8080/",
          "height": 70
        },
        "outputId": "2dd55974-da81-43a3-8d3b-e30896e0b96f"
      },
      "source": [
        "print(y_pred)\n",
        "print(y_test)\n"
      ],
      "execution_count": 43,
      "outputs": [
        {
          "output_type": "stream",
          "text": [
            "[2.403714179992676, 2.403714179992676, 2.403714179992676, 2.403714179992676, 2.403714179992676, 2.403714179992676, 2.403714179992676, 2.403714179992676, 2.3720600605010986, 2.3489251136779785, 2.4763872623443604, 2.476367950439453, 2.476330041885376, 2.4762794971466064, 2.4762187004089355, 2.476146936416626, 2.476062297821045, 2.4759743213653564, 2.4758846759796143, 2.4757890701293945, 2.4756903648376465, 2.4755892753601074, 2.4754838943481445, 2.4753811359405518, 2.4752838611602783, 2.4751858711242676, 2.4750845432281494, 2.4749841690063477, 2.474888801574707, 2.4748003482818604, 2.4747118949890137, 2.474621534347534, 2.474538564682007, 2.474456310272217, 2.4743752479553223, 2.4742984771728516, 2.4742181301116943, 2.474139928817749, 2.4740638732910156, 2.473987579345703, 2.473914623260498, 2.473839282989502, 2.4737634658813477, 2.4736855030059814, 2.4736034870147705, 2.4735186100006104, 2.473435401916504, 2.4733505249023438, 2.4732630252838135, 2.4731719493865967, 2.4730818271636963, 2.472989559173584, 2.4728851318359375, 2.4727795124053955, 2.4726696014404297, 2.472552537918091, 2.4724395275115967, 2.472322463989258, 2.4722042083740234, 2.472090482711792, 2.471975326538086, 2.471860647201538, 2.4717490673065186, 2.4716379642486572, 2.471529722213745, 2.4715476036071777, 2.4719600677490234, 2.4727470874786377, 2.4735896587371826, 2.4744250774383545, 2.4745161533355713, 2.4718897342681885, 2.466618299484253, 2.460273027420044, 2.4538371562957764, 2.4476685523986816, 2.441859006881714, 2.435915470123291, 2.4299795627593994, 2.4240498542785645, 2.4179768562316895, 2.4123141765594482, 2.4068288803100586, 2.401177406311035, 2.395247220993042, 2.389569044113159, 2.3842263221740723, 2.3788530826568604, 2.3930811882019043, 2.400697708129883, 2.403714179992676, 2.403714179992676, 2.403714179992676, 2.403714179992676, 2.403714179992676, 2.403714179992676, 2.403714179992676, 2.403714179992676, 2.3777225017547607, 2.228846311569214, 2.3311543464660645, 2.329242706298828, 2.3275890350341797, 2.326077461242676, 2.324882745742798, 2.324002742767334, 2.3233964443206787, 2.323125123977661, 2.3231730461120605, 2.323542833328247, 2.324187994003296, 2.3251779079437256, 2.3264124393463135, 2.327920913696289, 2.329620122909546, 2.331552267074585, 2.333735466003418, 2.3360157012939453, 2.338303804397583, 2.3407814502716064, 2.343374729156494, 2.346007823944092, 2.3489625453948975, 2.351893424987793, 2.3547286987304688, 2.35766863822937, 2.3607418537139893, 2.3638131618499756, 2.366760015487671, 2.3695454597473145, 2.37227201461792, 2.3752481937408447, 2.3781752586364746, 2.381072521209717, 2.3838398456573486, 2.3864223957061768, 2.389011859893799, 2.3916549682617188, 2.3942103385925293, 2.3965535163879395, 2.398742914199829, 2.4007883071899414, 2.402714967727661, 2.4045250415802, 2.4061598777770996, 2.4076755046844482, 2.409198522567749, 2.410600185394287, 2.4118895530700684, 2.4131247997283936, 2.414243221282959, 2.4152653217315674, 2.4161767959594727, 2.4170117378234863, 2.4178152084350586, 2.418595552444458, 2.4193241596221924, 2.419951915740967, 2.4205429553985596, 2.4210991859436035, 2.421619415283203, 2.422122001647949, 2.4225833415985107, 2.423011541366577, 2.4234023094177246, 2.423784017562866, 2.4241526126861572, 2.4245078563690186, 2.4248483180999756, 2.4251809120178223, 2.4255025386810303, 2.425820827484131, 2.4261438846588135, 2.4264566898345947, 2.426764488220215, 2.4270617961883545, 2.4273693561553955, 2.4276814460754395, 2.4280002117156982, 2.428335189819336, 2.428654193878174, 2.428985118865967, 2.429335832595825, 2.4296813011169434, 2.430025577545166, 2.4303715229034424, 2.430704116821289, 2.431046724319458, 2.4314029216766357, 2.431500196456909, 2.431189775466919, 2.4306347370147705, 2.4300386905670166, 2.4291231632232666, 2.427778482437134, 2.4262773990631104, 2.4248454570770264, 2.423457622528076, 2.422062873840332, 2.4207890033721924, 2.4195361137390137, 2.418316125869751, 2.41717791557312, 2.41605806350708, 2.4149298667907715, 2.4138424396514893, 2.41287899017334, 2.4119510650634766, 2.411065101623535, 2.410257339477539, 2.4094533920288086, 2.4087131023406982, 2.4080333709716797, 2.407409906387329, 2.406838893890381, 2.406322956085205, 2.405860424041748, 2.4054393768310547, 2.398437261581421, 2.4009716510772705, 2.403714179992676, 2.403714179992676, 2.403714179992676, 2.403714179992676, 2.403714179992676, 2.403714179992676, 2.403714179992676, 2.403714179992676, 2.3760147094726562, 2.288813829421997, 2.40484619140625, 2.4051156044006348, 2.4054489135742188, 2.4058144092559814, 2.406201124191284, 2.4066526889801025, 2.4071500301361084, 2.407665729522705, 2.4082095623016357, 2.4087841510772705, 2.4093894958496094, 2.409996271133423, 2.4106225967407227, 2.411320447921753, 2.41204833984375, 2.412759304046631, 2.41343355178833, 2.414121627807617, 2.414802074432373, 2.4154675006866455, 2.416107177734375, 2.416699171066284, 2.4172966480255127, 2.4178714752197266, 2.4183695316314697, 2.418818235397339, 2.4192588329315186, 2.4196510314941406, 2.4199814796447754, 2.420275926589966, 2.420530080795288, 2.420743703842163, 2.420912265777588, 2.4210283756256104, 2.42109751701355, 2.421125888824463, 2.421111583709717, 2.4210567474365234, 2.4209654331207275, 2.4208381175994873, 2.4206764698028564, 2.420482873916626, 2.4202706813812256, 2.420023202896118, 2.4197511672973633, 2.4194555282592773, 2.4191322326660156, 2.4188151359558105, 2.4184937477111816, 2.4181387424468994, 2.4177846908569336, 2.4174418449401855, 2.417076349258423, 2.416717767715454, 2.4163637161254883, 2.416015863418579, 2.415672540664673, 2.415325403213501, 2.414994478225708, 2.4146900177001953, 2.4143874645233154, 2.414093494415283, 2.41382098197937, 2.4135544300079346, 2.4132981300354004, 2.413054943084717, 2.4128260612487793, 2.412611246109009, 2.4124033451080322, 2.4122085571289062, 2.4120404720306396, 2.4118900299072266, 2.4117417335510254, 2.4116086959838867, 2.4114937782287598, 2.4113845825195312, 2.411288261413574, 2.4112069606781006, 2.411132335662842, 2.4110665321350098, 2.411012649536133, 2.410968065261841, 2.4109320640563965, 2.4109044075012207, 2.4108834266662598, 2.410867929458618, 2.410857677459717, 2.4108524322509766, 2.39951753616333, 2.4010238647460938, 2.403714179992676, 2.403714179992676, 2.403714179992676, 2.403714179992676, 2.403714179992676, 2.403714179992676, 2.403714179992676, 2.403714179992676, 2.3756585121154785, 2.29420804977417, 2.4110641479492188, 2.4110896587371826, 2.4111149311065674, 2.411139488220215, 2.411165475845337, 2.411189556121826, 2.4112136363983154, 2.4112367630004883, 2.411257266998291, 2.41127347946167, 2.4112868309020996, 2.41129732131958, 2.411303997039795, 2.4113056659698486, 2.411303997039795, 2.411236047744751, 2.411020278930664, 2.4107139110565186, 2.410057783126831, 2.4087798595428467, 2.407156467437744, 2.405564069747925, 2.403966188430786, 2.4024040699005127, 2.4009432792663574, 2.39949107170105, 2.3980722427368164, 2.3966639041900635, 2.3953585624694824, 2.3941757678985596, 2.3929877281188965, 2.3918464183807373, 2.3908534049987793, 2.389951229095459, 2.389054775238037, 2.388244390487671, 2.387543201446533, 2.386878252029419, 2.386296272277832, 2.385800361633301, 2.385380744934082, 2.385040044784546, 2.384767770767212, 2.384580612182617, 2.384474277496338, 2.384443998336792, 2.384488821029663, 2.3846004009246826, 2.384781837463379, 2.385040760040283, 2.3853724002838135, 2.385774612426758, 2.3862464427948, 2.3867855072021484, 2.387418508529663, 2.388124465942383, 2.3888726234436035, 2.389639377593994, 2.390493392944336, 2.391404390335083, 2.3923823833465576, 2.3934478759765625, 2.3945436477661133, 2.395678758621216, 2.3968138694763184, 2.398036479949951, 2.3993048667907715, 2.4005608558654785, 2.4019336700439453, 2.4033586978912354, 2.4046928882598877, 2.4060003757476807, 2.4073517322540283, 2.408707618713379, 2.4100441932678223, 2.411353588104248, 2.412680149078369, 2.413978099822998, 2.4001805782318115, 2.4010605812072754, 2.403714179992676, 2.403714179992676, 2.403714179992676, 2.403714179992676, 2.403714179992676, 2.403714179992676, 2.403714179992676, 2.403714179992676, 2.3749115467071533, 2.3058371543884277, 2.4252822399139404, 2.425758123397827, 2.4261677265167236, 2.42653751373291, 2.426865339279175, 2.4271559715270996, 2.4273977279663086, 2.427593946456909, 2.427751064300537, 2.427868127822876, 2.4279539585113525, 2.428009033203125, 2.4280343055725098, 2.4280331134796143, 2.4280083179473877, 2.4279587268829346, 2.427889585494995, 2.427809238433838, 2.4277124404907227, 2.427600145339966, 2.427480936050415, 2.4273548126220703, 2.4272286891937256, 2.4270942211151123, 2.4269566535949707, 2.426816463470459, 2.426671028137207, 2.4265353679656982, 2.4264042377471924, 2.4262707233428955, 2.426138401031494, 2.426004648208618, 2.4258737564086914, 2.4257524013519287, 2.4256370067596436, 2.4255306720733643, 2.4254255294799805, 2.425320863723755, 2.4252266883850098, 2.425136089324951, 2.425049304962158, 2.4249660968780518, 2.424884796142578, 2.4248123168945312, 2.4247422218322754, 2.4246721267700195, 2.4246068000793457, 2.424546957015991, 2.4244885444641113, 2.424429178237915, 2.424374580383301, 2.424323081970215, 2.4242682456970215, 2.424213409423828, 2.4241607189178467, 2.4241104125976562, 2.4240589141845703, 2.424004554748535, 2.42395281791687, 2.4239003658294678, 2.4238436222076416, 2.423786163330078, 2.423729658126831, 2.4236695766448975, 2.4236066341400146, 2.4235408306121826, 2.4234728813171387, 2.4234023094177246, 2.4233264923095703, 2.423246383666992, 2.4231677055358887, 2.423088312149048, 2.423011064529419, 2.4229342937469482, 2.42285418510437, 2.42276930809021, 2.422684669494629, 2.422602891921997, 2.4018256664276123, 2.4011306762695312, 2.403714179992676, 2.403714179992676, 2.403714179992676, 2.403714179992676, 2.403714179992676, 2.403714179992676, 2.403714179992676, 2.403714179992676, 2.375506639480591, 2.2960214614868164, 2.4120075702667236, 2.410635471343994, 2.409323215484619, 2.4081268310546875, 2.406937599182129, 2.4058444499969482, 2.404881238937378, 2.4039783477783203, 2.4031481742858887, 2.402406930923462, 2.4017553329467773, 2.4011778831481934, 2.4007067680358887, 2.4003381729125977, 2.4000611305236816, 2.399883270263672, 2.3997983932495117, 2.399812698364258, 2.399925470352173, 2.4001219272613525, 2.400407314300537, 2.400794506072998, 2.4013028144836426, 2.40191388130188, 2.4025702476501465, 2.4033358097076416, 2.404226541519165, 2.4051473140716553, 2.406132221221924, 2.4072365760803223, 2.4084885120391846, 2.4097836017608643, 2.411158561706543, 2.412659168243408, 2.4141411781311035, 2.4157299995422363, 2.417464256286621, 2.4192326068878174, 2.420975923538208, 2.4228436946868896, 2.4247822761535645, 2.426799774169922, 2.4289326667785645, 2.43096923828125, 2.4329824447631836, 2.435079336166382, 2.437201976776123, 2.4393136501312256, 2.441406011581421, 2.443469524383545, 2.4455738067626953, 2.447650194168091, 2.4496026039123535, 2.4514048099517822, 2.4531309604644775, 2.454926013946533, 2.456688404083252, 2.4582574367523193, 2.459721326828003, 2.4611682891845703, 2.4625604152679443, 2.4638774394989014, 2.4651193618774414, 2.4663290977478027, 2.4674339294433594, 2.4684200286865234, 2.4693961143493652, 2.470324754714966, 2.4109067916870117, 2.4015817642211914, 2.403714179992676, 2.403714179992676, 2.403714179992676, 2.403714179992676, 2.403714179992676, 2.403714179992676, 2.403714179992676, 2.403714179992676, 2.372080087661743, 2.3486194610595703, 2.476146936416626, 2.4762604236602783, 2.4763343334198, 2.476379632949829, 2.4764020442962646, 2.476402997970581, 2.4763829708099365, 2.476346731185913, 2.4762959480285645, 2.4762303829193115, 2.476156234741211, 2.476074457168579, 2.4759857654571533, 2.4758965969085693, 2.4758002758026123, 2.4757015705108643, 2.4756040573120117, 2.475503444671631, 2.475398540496826, 2.475292444229126, 2.4751951694488525, 2.475098133087158, 2.475001811981201, 2.474907636642456, 2.474816083908081, 2.4747300148010254, 2.4746432304382324, 2.4745547771453857, 2.474470615386963, 2.4743924140930176, 2.4743103981018066, 2.474228620529175, 2.4741499423980713, 2.474073648452759, 2.4739980697631836, 2.4739253520965576, 2.473853349685669, 2.4737746715545654, 2.473696231842041, 2.473620653152466, 2.473538398742676, 2.4734551906585693, 2.473370313644409, 2.473283052444458, 2.4731924533843994, 2.473095655441284, 2.4730007648468018, 2.472900867462158, 2.4727916717529297, 2.4726858139038086, 2.4725732803344727, 2.4724578857421875, 2.472344398498535, 2.4722225666046143, 2.4720993041992188, 2.4719812870025635, 2.4718661308288574, 2.471755027770996, 2.471651554107666, 2.4715492725372314, 2.4715523719787598, 2.4719812870025635, 2.4727721214294434, 2.473583936691284, 2.4744133949279785, 2.474841594696045, 2.472139835357666, 2.4666173458099365, 2.4604146480560303, 2.454054117202759, 2.448012113571167, 2.4419960975646973, 2.4358789920806885, 2.4301140308380127, 2.424258232116699, 2.4184110164642334, 2.4125747680664062, 2.406604766845703, 2.4010329246520996, 2.395598888397217, 2.3898165225982666, 2.3840088844299316, 2.3787128925323486, 2.3736422061920166, 2.368739604949951, 2.364278554916382, 2.3600661754608154, 2.3561649322509766, 2.3893563747406006, 2.4004762172698975, 2.403714179992676, 2.403714179992676, 2.403714179992676, 2.403714179992676, 2.403714179992676, 2.403714179992676, 2.403714179992676, 2.403714179992676, 2.378041982650757, 2.222050905227661, 2.323996067047119, 2.323416233062744, 2.3231165409088135, 2.323137044906616, 2.3234918117523193, 2.3241703510284424, 2.3250937461853027, 2.3263423442840576, 2.3278110027313232, 2.3294458389282227, 2.3314285278320312, 2.33351469039917, 2.3356754779815674, 2.338162422180176, 2.3406264781951904, 2.343262195587158, 2.346108913421631, 2.348853349685669, 2.351637601852417, 2.354556083679199, 2.3575239181518555, 2.360473394393921, 2.3635361194610596, 2.3665974140167236, 2.369539260864258, 2.3722782135009766, 2.375013589859009, 2.3780369758605957, 2.380934238433838, 2.3837411403656006, 2.386413812637329, 2.3890328407287598, 2.391582489013672, 2.3939435482025146, 2.396242141723633, 2.3984508514404297, 2.400590658187866, 2.4025518894195557, 2.40437650680542, 2.406142234802246, 2.4076995849609375, 2.409172296524048, 2.4106082916259766, 2.411867380142212, 2.4130077362060547, 2.414146661758423, 2.415188789367676, 2.416107654571533, 2.4170103073120117, 2.417863607406616, 2.4186246395111084, 2.4192941188812256, 2.419908285140991, 2.4205234050750732, 2.4211084842681885, 2.4216346740722656, 2.422102689743042, 2.4225542545318604, 2.4229838848114014, 2.4233767986297607, 2.423773765563965, 2.4241466522216797, 2.4244892597198486, 2.4248392581939697, 2.4251742362976074, 2.4254977703094482, 2.4258134365081787, 2.426114320755005, 2.426431179046631, 2.4267537593841553, 2.427053213119507, 2.4273478984832764, 2.427668809890747, 2.4279885292053223, 2.4282987117767334, 2.4286224842071533, 2.428955316543579, 2.429293155670166, 2.429633855819702, 2.4299776554107666, 2.4303231239318848, 2.4306821823120117, 2.431044340133667, 2.4313924312591553, 2.43152117729187, 2.4312310218811035, 2.4306821823120117, 2.430083751678467, 2.4032351970672607, 2.401195764541626, 2.403714179992676, 2.403714179992676, 2.403714179992676, 2.403714179992676, 2.403714179992676, 2.403714179992676, 2.403714179992676, 2.403714179992676, 2.375425100326538, 2.2974207401275635, 2.413928985595703, 2.4129281044006348, 2.4119865894317627, 2.4110989570617676, 2.410290241241455, 2.409513235092163, 2.4087517261505127, 2.4080398082733154, 2.4074082374572754, 2.4068384170532227, 2.406323194503784, 2.4058620929718018, 2.4054558277130127, 2.405102252960205, 2.4048025608062744, 2.4045567512512207, 2.4043633937835693, 2.4042253494262695, 2.4041359424591064, 2.40409255027771, 2.4040989875793457, 2.404158115386963, 2.404266595840454, 2.404419422149658, 2.4046072959899902, 2.404834747314453, 2.405111312866211, 2.4054315090179443, 2.4058074951171875, 2.406384229660034, 2.4068639278411865, 2.407196044921875, 2.4076333045959473, 2.4081475734710693, 2.4087119102478027, 2.4093124866485596, 2.409968376159668, 2.410656690597534, 2.411343812942505, 2.412010431289673, 2.4127044677734375, 2.4134039878845215, 2.4140729904174805, 2.4147727489471436, 2.41546893119812, 2.416093587875366, 2.4166781902313232, 2.41725492477417, 2.4178054332733154, 2.4183194637298584, 2.4187941551208496, 2.419241428375244, 2.419647455215454, 2.4199938774108887, 2.4202802181243896, 2.420520544052124, 2.4207324981689453, 2.420898199081421, 2.4210152626037598, 2.4210901260375977, 2.4211208820343018, 2.4211087226867676, 2.42106032371521, 2.420975685119629, 2.4208474159240723, 2.4206814765930176, 2.42048716545105, 2.4202661514282227, 2.4200172424316406, 2.4197442531585693, 2.4194507598876953, 2.4191508293151855, 2.4188413619995117, 2.4185094833374023, 2.4181509017944336, 2.4177825450897217, 2.4174234867095947, 2.417067289352417, 2.4167115688323975, 2.4163589477539062, 2.416010618209839, 2.415668249130249, 2.4153335094451904, 2.415019989013672, 2.414705276489258, 2.414388418197632, 2.4141013622283936, 2.4138317108154297, 2.4135653972625732, 2.4132988452911377, 2.4130444526672363, 2.412813425064087, 2.412606954574585, 2.4124159812927246, 2.4122250080108643, 2.4120445251464844, 2.4118897914886475, 2.4117469787597656, 2.4116106033325195, 2.4114904403686523, 2.411384344100952, 2.411292791366577, 2.41121244430542, 2.411139726638794, 2.411073684692383, 2.4110186100006104, 2.4109745025634766, 2.4109368324279785, 2.4109063148498535, 2.410883903503418, 2.4108688831329346, 2.4108588695526123, 2.410853624343872, 2.410853147506714, 2.410857915878296, 2.410865306854248, 2.4108762741088867, 2.4108896255493164, 2.410905599594116, 2.4109246730804443, 2.410945177078247, 2.4109671115875244, 2.41098952293396, 2.41101336479187, 2.411038398742676, 2.411062717437744, 2.41108775138855, 2.411113977432251, 2.4111387729644775, 2.4111640453338623, 2.411189317703247, 2.4112133979797363, 2.4112353324890137, 2.4112548828125, 2.4112730026245117, 2.4112863540649414, 2.411296844482422, 2.4113030433654785, 2.4113051891326904, 2.411303758621216, 2.4112277030944824, 2.4110143184661865, 2.410731792449951, 2.410167694091797, 2.40891695022583, 2.4072988033294678, 2.4056358337402344, 2.404024124145508, 2.402452230453491, 2.4008829593658447, 2.399449586868286, 2.3980460166931152, 2.396692991256714, 2.3953959941864014, 2.394125461578369, 2.3929951190948486, 2.391908645629883, 2.390887975692749, 2.389976739883423, 2.389080047607422, 2.3882670402526855, 2.387538433074951, 2.38686466217041, 2.386284112930298, 2.385788917541504, 2.3853719234466553, 2.3850314617156982, 2.384775161743164, 2.3845913410186768, 2.384476900100708, 2.3844425678253174, 2.384479284286499, 2.3845880031585693, 2.3847827911376953, 2.385056257247925, 2.385394811630249, 2.3858020305633545, 2.3862781524658203, 2.394733190536499, 2.400803804397583, 2.403714179992676, 2.403714179992676, 2.403714179992676, 2.403714179992676, 2.403714179992676, 2.403714179992676, 2.403714179992676, 2.403714179992676, 2.3764729499816895, 2.282254457473755, 2.3979806900024414, 2.3992631435394287, 2.4005181789398193, 2.401890754699707, 2.4032630920410156, 2.40463924407959, 2.4060635566711426, 2.407449722290039, 2.4087531566619873, 2.410076141357422, 2.4114315509796143, 2.412724018096924, 2.4139153957366943, 2.4150562286376953, 2.4161946773529053, 2.417299747467041, 2.4183902740478516, 2.419398069381714, 2.420304298400879, 2.421175718307495, 2.4220006465911865, 2.422767162322998, 2.4234988689422607, 2.4241538047790527, 2.4247233867645264, 2.42526912689209, 2.4257540702819824, 2.426180124282837, 2.426567316055298, 2.4268863201141357, 2.427154541015625, 2.427398681640625, 2.4275999069213867, 2.4277539253234863, 2.4278745651245117, 2.427964925765991, 2.4280221462249756, 2.428046941757202, 2.4280450344085693, 2.4280200004577637, 2.4279708862304688, 2.4279048442840576, 2.427826166152954, 2.4277265071868896, 2.4276134967803955, 2.427499294281006, 2.427380323410034, 2.427250385284424, 2.4271152019500732, 2.4269766807556152, 2.4268312454223633, 2.4266843795776367, 2.4265434741973877, 2.426410436630249, 2.426276445388794, 2.4261438846588135, 2.4260149002075195, 2.4258904457092285, 2.425774335861206, 2.4256598949432373, 2.425544500350952, 2.4254326820373535, 2.42533016204834, 2.4252333641052246, 2.425145149230957, 2.4250588417053223, 2.424973487854004, 2.424893856048584, 2.424821615219116, 2.424751043319702, 2.4246835708618164, 2.4246184825897217, 2.4245564937591553, 2.4244987964630127, 2.4244418144226074, 2.424384355545044, 2.4243268966674805, 2.4242749214172363, 2.424222469329834, 2.424170970916748, 2.4241185188293457, 2.4240641593933105, 2.424010753631592, 2.423959493637085, 2.423907995223999, 2.4238526821136475, 2.423793077468872, 2.423733949661255, 2.4236724376678467, 2.4236068725585938, 2.4235405921936035, 2.4234750270843506, 2.423407554626465, 2.423335313796997, 2.4232594966888428, 2.4231815338134766, 2.423102855682373, 2.4230194091796875, 2.4229376316070557, 2.422858953475952, 2.4227755069732666, 2.4226937294006348, 2.4226136207580566, 2.4225339889526367, 2.422457695007324, 2.422485828399658, 2.422663688659668, 2.4228851795196533, 2.422654151916504, 2.421618938446045, 2.420069932937622, 2.4183907508850098, 2.4167392253875732, 2.415085792541504, 2.4135406017303467, 2.4121294021606445, 2.4107022285461426, 2.4093687534332275, 2.4081690311431885, 2.406975269317627, 2.4058401584625244, 2.40486478805542, 2.4039933681488037, 2.4031436443328857, 2.4023921489715576, 2.4017622470855713, 2.4011898040771484, 2.400700330734253, 2.400334596633911, 2.400062322616577, 2.399874448776245, 2.399787187576294, 2.3997995853424072, 2.399909734725952, 2.4001145362854004, 2.4003989696502686, 2.400771141052246, 2.4012484550476074, 2.4018495082855225, 2.4025542736053467, 2.4033303260803223, 2.4041521549224854, 2.4050912857055664, 2.4061167240142822, 2.407191753387451, 2.4084274768829346, 2.409719705581665, 2.4110913276672363, 2.412588357925415, 2.4140679836273193, 2.415654182434082, 2.4173853397369385, 2.419079542160034, 2.4208035469055176, 2.422734260559082, 2.4246950149536133, 2.426710367202759, 2.4288413524627686, 2.4030961990356445, 2.40120267868042, 2.403714179992676, 2.403714179992676, 2.403714179992676, 2.403714179992676, 2.403714179992676, 2.403714179992676, 2.403714179992676, 2.403714179992676, 2.373296022415161, 2.329606056213379, 2.4548404216766357, 2.4566047191619873, 2.458235502243042, 2.459714651107788, 2.4611098766326904, 2.462484836578369, 2.4638519287109375, 2.4651525020599365, 2.4662892818450928, 2.467369794845581, 2.468428373336792, 2.469393491744995, 2.47027850151062, 2.4710686206817627, 2.471787929534912, 2.472491979598999, 2.4731414318084717, 2.4736833572387695, 2.4741506576538086, 2.4745919704437256, 2.4749844074249268, 2.475308418273926, 2.475569009780884, 2.475790500640869, 2.4759790897369385, 2.4761204719543457, 2.476227045059204, 2.476304531097412, 2.4763529300689697, 2.47637677192688, 2.4763777256011963, 2.4763588905334473, 2.476323127746582, 2.4762725830078125, 2.4762134552001953, 2.476144790649414, 2.476064920425415, 2.4759745597839355, 2.475877523422241, 2.4757838249206543, 2.4756863117218018, 2.475585699081421, 2.475484609603882, 2.475383996963501, 2.475283145904541, 2.475184202194214, 2.4750895500183105, 2.4749948978424072, 2.4748973846435547, 2.4748010635375977, 2.4747138023376465, 2.4746270179748535, 2.4745426177978516, 2.4744625091552734, 2.474379062652588, 2.4742958545684814, 2.4742164611816406, 2.4741389751434326, 2.4740655422210693, 2.4739904403686523, 2.473912000656128, 2.473834753036499, 2.473761796951294, 2.4736881256103516, 2.473607301712036, 2.4735260009765625, 2.4734466075897217, 2.4733593463897705, 2.473268508911133, 2.473180055618286, 2.473090887069702, 2.4729950428009033, 2.472890615463257, 2.4727847576141357, 2.472679615020752, 2.4725687503814697, 2.4724481105804443, 2.472329616546631, 2.4722108840942383, 2.472088098526001, 2.4719743728637695, 2.47186541557312, 2.4717509746551514, 2.471637725830078, 2.471536636352539, 2.4715652465820312, 2.471985101699829, 2.47274112701416, 2.4113593101501465, 2.401604175567627, 2.403714179992676, 2.403714179992676, 2.403714179992676, 2.403714179992676, 2.403714179992676, 2.403714179992676, 2.403714179992676, 2.403714179992676, 2.3748207092285156, 2.3048512935638428, 2.4185874462127686, 2.4129743576049805, 2.4072775840759277, 2.4013278484344482, 2.3955671787261963, 2.3901329040527344, 2.3846542835235596, 2.3792057037353516, 2.373863935470581, 2.369074583053589, 2.3648009300231934, 2.3604352474212646, 2.3563311100006104, 2.3525753021240234, 2.3488848209381104, 2.345217704772949, 2.3418028354644775, 2.33890438079834, 2.3363022804260254, 2.333793878555298, 2.331418037414551, 2.3293814659118652, 2.3276286125183105, 2.326093912124634, 2.3248989582061768, 2.324007987976074, 2.3234269618988037, 2.323141574859619, 2.323141098022461, 2.323486089706421, 2.3241257667541504, 2.3250417709350586, 2.326256513595581, 2.327723503112793, 2.329502582550049, 2.3314976692199707, 2.3336050510406494, 2.3358609676361084, 2.338144302368164, 2.34061336517334, 2.3431975841522217, 2.3459525108337402, 2.348909854888916, 2.351853847503662, 2.354799509048462, 2.35776686668396, 2.3607118129730225, 2.363645076751709, 2.3664402961730957, 2.36921763420105, 2.3720600605010986, 2.3750596046447754, 2.3779869079589844, 2.380892276763916, 2.3836679458618164, 2.386256694793701, 2.3888490200042725, 2.3914971351623535, 2.3939690589904785, 2.396301507949829, 2.3985815048217773, 2.4005889892578125, 2.4025063514709473, 2.4043936729431152, 2.4061224460601807, 2.407717227935791, 2.409151792526245, 2.4105257987976074, 2.3995020389556885, 2.4010303020477295, 2.403714179992676, 2.403714179992676, 2.403714179992676, 2.403714179992676, 2.403714179992676, 2.403714179992676, 2.403714179992676, 2.403714179992676, 2.3751163482666016, 2.302708864212036, 2.4215919971466064, 2.422086000442505, 2.4225451946258545, 2.422975778579712, 2.423384666442871, 2.42378568649292, 2.4241461753845215, 2.42449688911438, 2.424851179122925, 2.4251744747161865, 2.4254825115203857, 2.425807237625122, 2.4261221885681152, 2.4264323711395264, 2.426750898361206, 2.42706298828125, 2.427373170852661, 2.427673101425171, 2.427973985671997, 2.4283053874969482, 2.4286484718322754, 2.4289727210998535, 2.4293079376220703, 2.42964768409729, 2.429993152618408, 2.4303507804870605, 2.430687189102173, 2.4310293197631836, 2.4313857555389404, 2.4315061569213867, 2.431201696395874, 2.4306719303131104, 2.430102586746216, 2.4291374683380127, 2.4277987480163574, 2.426356077194214, 2.424941301345825, 2.4236035346984863, 2.422269344329834, 2.4209558963775635, 2.4196364879608154, 2.4183969497680664, 2.41721248626709, 2.416079521179199, 2.4150290489196777, 2.4139997959136963, 2.413005828857422, 2.4120264053344727, 2.4111242294311523, 2.410283088684082, 2.409497022628784, 2.408787727355957, 2.4080889225006104, 2.40743088722229, 2.406851053237915, 2.4063515663146973, 2.4058921337127686, 2.4054806232452393, 2.405134677886963, 2.404832363128662, 2.4045722484588623, 2.4043703079223633, 2.4042279720306396, 2.4041333198547363, 2.404088020324707, 2.4040911197662354, 2.4041476249694824, 2.4042487144470215, 2.404391288757324, 2.4045908451080322, 2.404839515686035, 2.405111789703369, 2.4054317474365234, 2.4057905673980713, 2.4061923027038574, 2.4066452980041504, 2.4071035385131836, 2.407585382461548, 2.4081172943115234, 2.4087109565734863, 2.4093410968780518, 2.40995454788208, 2.410579204559326, 2.411247968673706, 2.411940813064575, 2.4126694202423096, 2.413377523422241, 2.4140748977661133, 2.4147820472717285, 2.4154551029205322, 2.4160728454589844, 2.4166817665100098, 2.417264938354492, 2.4177963733673096, 2.418304920196533, 2.4187815189361572, 2.419231414794922, 2.419626474380493, 2.4199600219726562, 2.420267343521118, 2.420534133911133, 2.420738697052002, 2.420894145965576, 2.4210150241851807, 2.421093702316284, 2.421125650405884, 2.421114206314087, 2.42106294631958, 2.420978546142578, 2.420861005783081, 2.420705795288086, 2.420517921447754, 2.420300006866455, 2.4200546741485596, 2.4197723865509033, 2.419477939605713, 2.41916561126709, 2.418841600418091, 2.4185171127319336, 2.4181766510009766, 2.41782546043396, 2.4174563884735107, 2.4170966148376465, 2.416738986968994, 2.416386365890503, 2.4160501956939697, 2.4156980514526367, 2.4153459072113037, 2.415026903152466, 2.414724588394165, 2.4144093990325928, 2.4140994548797607, 2.4138236045837402, 2.4135563373565674, 2.413290500640869, 2.4130449295043945, 2.412824869155884, 2.4126200675964355, 2.4124209880828857, 2.4122328758239746, 2.4120595455169678, 2.4118945598602295, 2.4117422103881836, 2.4116084575653076, 2.4114937782287598, 2.4113879203796387, 2.4112889766693115, 2.4112069606781006, 2.411134719848633, 2.4110665321350098, 2.4110116958618164, 2.410970449447632, 2.410935163497925, 2.4109063148498535, 2.410884141921997, 2.4108681678771973, 2.4108572006225586, 2.4108524322509766, 2.4108524322509766, 2.4108564853668213, 2.4108643531799316, 2.4108760356903076, 2.4108901023864746, 2.4109058380126953, 2.410923719406128, 2.410944700241089, 2.4109671115875244, 2.4109885692596436, 2.411010980606079, 2.4110357761383057, 2.4110615253448486, 2.411087989807129, 2.4111132621765137, 2.4111392498016357, 2.4111647605895996, 2.411189556121826, 2.4112138748168945, 2.4112355709075928, 2.4112541675567627, 2.4112722873687744, 2.4112863540649414, 2.41129732131958, 2.4113035202026367, 2.4113059043884277, 2.411304235458374, 2.4112436771392822, 2.411038398742676, 2.4107463359832764, 2.410128355026245, 2.408883571624756, 2.4073312282562256, 2.405751943588257, 2.40409255027771, 2.402447462081909, 2.4009127616882324, 2.399442434310913, 2.3980255126953125, 2.396721839904785, 2.3966991901397705, 2.4008867740631104, 2.403714179992676, 2.403714179992676, 2.403714179992676, 2.403714179992676, 2.403714179992676, 2.403714179992676, 2.403714179992676, 2.403714179992676, 2.37705397605896, 2.272895336151123, 2.3854289054870605, 2.385077953338623, 2.38480544090271, 2.384608745574951, 2.384488821029663, 2.3844454288482666, 2.3844830989837646, 2.384591579437256, 2.384779930114746, 2.3850491046905518, 2.385368585586548, 2.3857693672180176, 2.386235237121582, 2.3867530822753906, 2.387347936630249, 2.3880136013031006, 2.388742685317993, 2.3895678520202637, 2.3904266357421875, 2.3913049697875977, 2.3923017978668213, 2.393332004547119, 2.3944156169891357, 2.395585536956787, 2.3967807292938232, 2.3980112075805664, 2.399285078048706, 2.4005355834960938, 2.401871919631958, 2.403282403945923, 2.4046592712402344, 2.405975580215454, 2.407278060913086, 2.4086177349090576, 2.410006523132324, 2.411379337310791, 2.412672281265259, 2.4138638973236084, 2.4150493144989014, 2.4162425994873047, 2.4173595905303955, 2.4184088706970215, 2.419403076171875, 2.4203073978424072, 2.4211795330047607, 2.4220030307769775, 2.4227418899536133, 2.4234418869018555, 2.424093246459961, 2.4247071743011475, 2.4252495765686035, 2.4257302284240723, 2.4261715412139893, 2.426539421081543, 2.426862955093384, 2.4271552562713623, 2.4273900985717773, 2.427579164505005, 2.4277427196502686, 2.4278688430786133, 2.42795467376709, 2.428010940551758, 2.4280383586883545, 2.428037405014038, 2.428013324737549, 2.427966833114624, 2.4279019832611084, 2.4278199672698975, 2.402825117111206, 2.4011785984039307, 2.403714179992676, 2.403714179992676, 2.403714179992676, 2.403714179992676, 2.403714179992676, 2.403714179992676, 2.403714179992676, 2.403714179992676, 2.374819278717041, 2.30703067779541, 2.426145315170288, 2.426016330718994, 2.425891876220703, 2.4257757663726807, 2.4256603717803955, 2.4255447387695312, 2.4254331588745117, 2.425330638885498, 2.425234079360962, 2.4251420497894287, 2.4250547885894775, 2.4249744415283203, 2.424899101257324, 2.4248220920562744, 2.4247472286224365, 2.424678087234497, 2.4246132373809814, 2.424551010131836, 2.4244918823242188, 2.424436092376709, 2.4243829250335693, 2.4243266582489014, 2.4242730140686035, 2.424219846725464, 2.424165725708008, 2.4241132736206055, 2.424063205718994, 2.4240126609802246, 2.4239602088928223, 2.423903703689575, 2.4238474369049072, 2.4237899780273438, 2.4237284660339355, 2.4236693382263184, 2.423607110977173, 2.423539638519287, 2.4234702587127686, 2.4233992099761963, 2.423328399658203, 2.4232540130615234, 2.4231762886047363, 2.423100233078003, 2.423020601272583, 2.4229397773742676, 2.4228551387786865, 2.4227728843688965, 2.4226951599121094, 2.4226152896881104, 2.422534942626953, 2.4224557876586914, 2.4224801063537598, 2.422644853591919, 2.4228713512420654, 2.422743320465088, 2.421680212020874, 2.419990301132202, 2.4182705879211426, 2.4166855812072754, 2.4151694774627686, 2.413600444793701, 2.4121205806732178, 2.4107253551483154, 2.409360885620117, 2.4081039428710938, 2.406942129135132, 2.4058616161346436, 2.4048991203308105, 2.4040257930755615, 2.4031741619110107, 2.4024200439453125, 2.4017674922943115, 2.4012057781219482, 2.4007513523101807, 2.400367498397827, 2.4000725746154785, 2.3998892307281494, 2.3998029232025146, 2.3998055458068848, 2.3999102115631104, 2.4001047611236572, 2.4003849029541016, 2.400765895843506, 2.4012680053710938, 2.4018726348876953, 2.4025228023529053, 2.403247833251953, 2.4041247367858887, 2.4050705432891846, 2.4060604572296143, 2.4072070121765137, 2.4084646701812744, 2.4097108840942383, 2.4110076427459717, 2.4124295711517334, 2.414008617401123, 2.415679931640625, 2.4173717498779297, 2.4191150665283203, 2.4209277629852295, 2.4228086471557617, 2.424755334854126, 2.4266819953918457, 2.428720235824585, 2.4308857917785645, 2.433026075363159, 2.435065746307373, 2.4370858669281006, 2.4392526149749756, 2.441364288330078, 2.443432331085205, 2.4455294609069824, 2.4475362300872803, 2.4494664669036865, 2.4512712955474854, 2.4530701637268066, 2.4548192024230957, 2.4564461708068848, 2.458043336868286, 2.4595894813537598, 2.4610607624053955, 2.4625089168548584, 2.463890790939331, 2.4651477336883545, 2.466313123703003, 2.4674062728881836, 2.468390941619873, 2.4693360328674316, 2.470256805419922, 2.4710609912872314, 2.4718079566955566, 2.4724972248077393, 2.4730987548828125, 2.4736502170562744, 2.474146842956543, 2.4745829105377197, 2.4749743938446045, 2.4753026962280273, 2.47556734085083, 2.475799560546875, 2.475987434387207, 2.4761321544647217, 2.476242780685425, 2.4763193130493164, 2.4763689041137695, 2.476393938064575, 2.476396322250366, 2.4763786792755127, 2.4763433933258057, 2.476294755935669, 2.4762351512908936, 2.47617769241333, 2.476097583770752, 2.4759938716888428, 2.475895881652832, 2.4758036136627197, 2.4757096767425537, 2.475606679916382, 2.4755048751831055, 2.475403308868408, 2.4753026962280273, 2.4752070903778076, 2.4751102924346924, 2.475010395050049, 2.474912166595459, 2.474822521209717, 2.4747369289398193, 2.474647283554077, 2.474557399749756, 2.474473714828491, 2.4743921756744385, 2.4743123054504395, 2.474233865737915, 2.474156618118286, 2.4740800857543945, 2.4740073680877686, 2.473935127258301, 2.4738597869873047, 2.473780393600464, 2.4737017154693604, 2.4736227989196777, 2.473539352416992, 2.4734559059143066, 2.4733715057373047, 2.473283290863037, 2.4731967449188232, 2.4731040000915527, 2.4730069637298584, 2.472910165786743, 2.411360025405884, 2.401599645614624, 2.403714179992676, 2.403714179992676, 2.403714179992676, 2.403714179992676, 2.403714179992676, 2.403714179992676, 2.403714179992676, 2.403714179992676, 2.3722848892211914, 2.344872236251831, 2.4715657234191895, 2.471972703933716, 2.4727261066436768, 2.473559856414795, 2.474360227584839, 2.474931478500366, 2.4727203845977783, 2.467322826385498, 2.460894823074341, 2.454451322555542, 2.448512554168701, 2.4425172805786133, 2.4365310668945312, 2.430551290512085, 2.4244260787963867, 2.4187121391296387, 2.413170576095581, 2.4074723720550537, 2.4017488956451416, 2.3960330486297607, 2.390174150466919, 2.3845748901367188, 2.3793177604675293, 2.3742148876190186, 2.369229793548584, 2.3647780418395996, 2.360706090927124, 2.3566501140594482, 2.3525750637054443, 2.34867525100708, 2.3451266288757324, 2.341998338699341, 2.3391292095184326, 2.3362960815429688, 2.3336455821990967, 2.3314452171325684, 2.329435348510742, 2.3276050090789795, 2.326115131378174, 2.324923038482666, 2.324021816253662, 2.3234198093414307, 2.323122978210449, 2.3231394290924072, 2.323476552963257, 2.3241360187530518, 2.325098991394043, 2.326267719268799, 2.327666759490967, 2.329339027404785, 2.3313186168670654, 2.333390951156616, 2.3356473445892334, 2.3380136489868164, 2.3404932022094727, 2.3430705070495605, 2.3456919193267822, 2.3486361503601074, 2.3515586853027344, 2.3545193672180176, 2.357466697692871, 2.3603029251098633, 2.363335371017456, 2.3663976192474365, 2.369337558746338, 2.3722004890441895, 2.3750689029693604, 2.3778598308563232, 2.3807389736175537, 2.383516550064087, 2.386223077774048, 2.3888356685638428, 2.391385793685913, 2.3938302993774414, 2.396167755126953, 2.3984532356262207, 2.400542974472046, 2.402482271194458, 2.4042398929595947, 2.4058725833892822, 2.4075183868408203, 2.4090895652770996, 2.4105002880096436, 2.411747694015503, 2.412937641143799, 2.414093017578125, 2.415102005004883, 2.4160478115081787, 2.416963815689087, 2.4177920818328857, 2.4185469150543213, 2.419220447540283, 2.41983962059021, 2.4204370975494385, 2.4210011959075928, 2.4215269088745117, 2.4220364093780518, 2.422518014907837, 2.4229400157928467, 2.4233295917510986, 2.4237141609191895, 2.424085855484009, 2.4244558811187744, 2.4248154163360596, 2.4251391887664795, 2.425447702407837, 2.4257729053497314, 2.4261012077331543, 2.426414728164673, 2.426711320877075, 2.427016496658325, 2.427338123321533, 2.4276552200317383, 2.4279730319976807, 2.4282822608947754, 2.4285948276519775, 2.4289233684539795, 2.4292619228363037, 2.429603099822998, 2.4299468994140625, 2.4302923679351807, 2.430638551712036, 2.4309983253479004, 2.4313459396362305, 2.431476354598999, 2.4312233924865723, 2.4307074546813965, 2.430116891860962, 2.4032413959503174, 2.401196002960205, 2.403714179992676, 2.403714179992676, 2.403714179992676, 2.403714179992676, 2.403714179992676, 2.403714179992676, 2.403714179992676, 2.403714179992676, 2.375427484512329, 2.2974209785461426, 2.414016008377075, 2.4130337238311768, 2.412087917327881, 2.411161184310913, 2.4102790355682373, 2.409510374069214, 2.408810615539551, 2.4081108570098877, 2.40747332572937, 2.406897783279419, 2.406376838684082, 2.405909538269043, 2.4054832458496094, 2.4051215648651123, 2.4048190116882324, 2.404576539993286, 2.4043869972229004, 2.404237747192383, 2.4041383266448975, 2.4040944576263428, 2.4041004180908203, 2.404155731201172, 2.404252529144287, 2.404392719268799, 2.404581308364868, 2.404815435409546, 2.4050917625427246, 2.4054243564605713, 2.40580153465271, 2.4061880111694336, 2.406602144241333, 2.4070658683776855, 2.407569646835327, 2.4081294536590576, 2.408703565597534, 2.409306764602661, 2.409933090209961, 2.4105913639068604, 2.4112658500671387, 2.4119338989257812, 2.412625789642334, 2.4133546352386475, 2.4140827655792236, 2.414748191833496, 2.4154064655303955, 2.4160714149475098, 2.416694164276123, 2.4172778129577637, 2.4178268909454346, 2.4183216094970703, 2.4187731742858887, 2.4192023277282715, 2.41959547996521, 2.419955253601074, 2.4202611446380615, 2.420508861541748, 2.4207241535186768, 2.4208972454071045, 2.4210174083709717, 2.421091079711914, 2.4211220741271973, 2.4211153984069824, 2.4210703372955322, 2.4209864139556885, 2.4208593368530273, 2.4207029342651367, 2.420513153076172, 2.4202864170074463, 2.4200477600097656, 2.419778347015381, 2.419487714767456, 2.419188976287842, 2.4188554286956787, 2.4185028076171875, 2.4181673526763916, 2.4178197383880615, 2.417452096939087, 2.4171054363250732, 2.4007344245910645, 2.401078939437866, 2.403714179992676, 2.403714179992676, 2.403714179992676, 2.403714179992676, 2.403714179992676, 2.403714179992676, 2.403714179992676, 2.403714179992676, 2.3755292892456055, 2.296091318130493, 2.4130685329437256, 2.412846803665161, 2.412626266479492, 2.412415027618408, 2.4122323989868164, 2.4120616912841797, 2.4118969440460205, 2.4117493629455566, 2.4116172790527344, 2.411501884460449, 2.4113991260528564, 2.411301612854004, 2.411212682723999, 2.4111406803131104, 2.4110777378082275, 2.4110231399536133, 2.410977840423584, 2.4109389781951904, 2.410909414291382, 2.410886764526367, 2.4108712673187256, 2.4108612537384033, 2.410855770111084, 2.410855531692505, 2.4108593463897705, 2.4108667373657227, 2.410876989364624, 2.4108901023864746, 2.4109067916870117, 2.4109256267547607, 2.4109463691711426, 2.4109673500061035, 2.41098952293396, 2.4110140800476074, 2.4110379219055176, 2.4110617637634277, 2.4110865592956543, 2.411111831665039, 2.4111385345458984, 2.4111642837524414, 2.411189079284668, 2.4112131595611572, 2.4112353324890137, 2.4112560749053955, 2.411273717880249, 2.411287307739258, 2.4112980365753174, 2.4113047122955322, 2.411306858062744, 2.4113049507141113, 2.4112484455108643, 2.411060094833374, 2.410759925842285, 2.410146951675415, 2.408931016921997, 2.4073877334594727, 2.4058070182800293, 2.4041459560394287, 2.4025001525878906, 2.4010205268859863, 2.399561882019043, 2.398090362548828, 2.396714687347412, 2.3954689502716064, 2.3942506313323975, 2.3930890560150146, 2.3920302391052246, 2.3909778594970703, 2.390012741088867, 2.389129877090454, 2.3882951736450195, 2.3875813484191895, 2.386955738067627, 2.386380672454834, 2.385856866836548, 2.385422945022583, 2.385084390640259, 2.3848068714141846, 2.3846025466918945, 2.3844857215881348, 2.384446144104004, 2.3844785690307617, 2.384584903717041, 2.384775400161743, 2.3850302696228027, 2.385345458984375, 2.3857569694519043, 2.386225461959839, 2.386765241622925, 2.3873631954193115, 2.3880348205566406, 2.388760805130005, 2.389523506164551, 2.3903636932373047, 2.3912711143493652, 2.3922364711761475, 2.393299102783203, 2.3944268226623535, 2.395569324493408, 2.396700620651245, 2.397918939590454, 2.399235963821411, 2.4005002975463867, 2.4017701148986816, 2.4031641483306885, 2.4046003818511963, 2.4059369564056396, 2.4072928428649902, 2.408644437789917, 2.4099843502044678, 2.4112908840179443, 2.412524461746216, 2.4137511253356934, 2.4149982929229736, 2.4161651134490967, 2.417232036590576, 2.41827392578125, 2.4192755222320557, 2.4202208518981934, 2.4211087226867676, 2.4219377040863037, 2.42270827293396, 2.4234445095062256, 2.4241039752960205, 2.4246773719787598, 2.425227403640747, 2.425732374191284, 2.42616605758667, 2.4265427589416504, 2.426870822906494, 2.4271535873413086, 2.4273931980133057, 2.427586078643799, 2.4277400970458984, 2.4278669357299805, 2.4279584884643555, 2.4280152320861816, 2.4280426502227783, 2.4280433654785156, 2.428018569946289, 2.427974224090576, 2.427912712097168, 2.4278290271759033, 2.427729368209839, 2.4276249408721924, 2.42750883102417, 2.427384614944458, 2.4272537231445312, 2.4271187782287598, 2.426985502243042, 2.42684268951416, 2.426701545715332, 2.4265663623809814, 2.426424741744995, 2.4262876510620117, 2.4261600971221924, 2.426027536392212, 2.425900936126709, 2.4257845878601074, 2.4256653785705566, 2.425549030303955, 2.425441026687622, 2.425339460372925, 2.425246238708496, 2.4251551628112793, 2.425067663192749, 2.4249842166900635, 2.424903392791748, 2.424830198287964, 2.4247617721557617, 2.424691915512085, 2.424626350402832, 2.4245641231536865, 2.424501657485962, 2.4244437217712402, 2.4243876934051514, 2.424332857131958, 2.424278974533081, 2.4242262840270996, 2.4241743087768555, 2.424124240875244, 2.424074172973633, 2.424020290374756, 2.423964738845825, 2.4239108562469482, 2.4238579273223877, 2.4238014221191406, 2.4237427711486816, 2.4236819744110107, 2.4236159324645996, 2.4235496520996094, 2.4234819412231445, 2.4234116077423096, 2.4233407974243164, 2.4232661724090576, 2.4231884479522705, 2.423109531402588, 2.4230291843414307, 2.422945022583008, 2.422863006591797, 2.4227845668792725, 2.422701358795166, 2.422616481781006, 2.4225356578826904, 2.422456741333008, 2.4224796295166016, 2.4226431846618652, 2.422860622406006, 2.422758102416992, 2.421804189682007, 2.420140504837036, 2.41841983795166, 2.4167633056640625, 2.4151127338409424, 2.4136199951171875, 2.411947011947632, 2.4105026721954346, 2.409430980682373, 2.4082248210906982, 2.4070427417755127, 2.4059536457061768, 2.40494966506958, 2.4040281772613525, 2.4031667709350586, 2.4024133682250977, 2.401782751083374, 2.4012451171875, 2.40077543258667, 2.4003920555114746, 2.4000959396362305, 2.399897575378418, 2.3998050689697266, 2.3998067378997803, 2.399921178817749, 2.4001269340515137, 2.400395393371582, 2.4007580280303955, 2.4012291431427, 2.4017977714538574, 2.4024903774261475, 2.4032514095306396, 2.4040677547454834, 2.405032157897949, 2.406106472015381, 2.407249689102173, 2.4084532260894775, 2.409721612930298, 2.4110233783721924, 2.412452459335327, 2.4140243530273438, 2.4155726432800293, 2.4172255992889404, 2.4190261363983154, 2.4207828044891357, 2.4225661754608154, 2.4244813919067383, 2.4265620708465576, 2.4286320209503174, 2.4030544757843018, 2.4011993408203125, 2.403714179992676, 2.403714179992676, 2.403714179992676, 2.403714179992676, 2.403714179992676, 2.403714179992676, 2.403714179992676, 2.403714179992676, 2.3733034133911133, 2.329508066177368, 2.4547276496887207, 2.456434726715088, 2.457996368408203, 2.459524393081665, 2.461052656173706, 2.4625163078308105, 2.463804006576538, 2.4650349617004395, 2.466247797012329, 2.4673197269439697, 2.4683351516723633, 2.469292640686035, 2.4701876640319824, 2.4710426330566406, 2.471811294555664, 2.472501039505005, 2.4731016159057617, 2.4736528396606445, 2.474165201187134, 2.474604845046997, 2.474980354309082, 2.475292921066284, 2.4755537509918213, 2.4757871627807617, 2.4759764671325684, 2.476118803024292, 2.476231813430786, 2.4763128757476807, 2.4763622283935547, 2.4763872623443604, 2.476390838623047, 2.4763734340667725, 2.4763376712799072, 2.4762890338897705, 2.476226806640625, 2.4761550426483154, 2.4760777950286865, 2.4759879112243652, 2.475890636444092, 2.475797176361084, 2.4757027626037598, 2.475600004196167, 2.4754974842071533, 2.475396156311035, 2.4752912521362305, 2.4751906394958496, 2.4750921726226807, 2.4749996662139893, 2.474910020828247, 2.4748151302337646, 2.4747207164764404, 2.4746320247650146, 2.4745500087738037, 2.474470376968384, 2.47438645362854, 2.4743025302886963, 2.474226236343384, 2.4741523265838623, 2.474073648452759, 2.473994493484497, 2.4739203453063965, 2.4738452434539795, 2.473768949508667, 2.473694324493408, 2.4736132621765137, 2.4735286235809326, 2.473445415496826, 2.4733638763427734, 2.473281145095825, 2.4731884002685547, 2.4730944633483887, 2.472996711730957, 2.4728965759277344, 2.4727959632873535, 2.4726884365081787, 2.472571611404419, 2.4724502563476562, 2.4723312854766846, 2.472216844558716, 2.472099781036377, 2.4719789028167725, 2.4718668460845947, 2.4717564582824707, 2.4716479778289795, 2.4715476036071777, 2.4715163707733154, 2.471865177154541, 2.4726357460021973, 2.4113404750823975, 2.4016036987304688, 2.403714179992676, 2.403714179992676, 2.403714179992676, 2.403714179992676, 2.403714179992676, 2.403714179992676, 2.403714179992676, 2.403714179992676, 2.3747994899749756, 2.305372714996338, 2.419248104095459, 2.4134225845336914, 2.4076499938964844, 2.4019265174865723, 2.3959875106811523, 2.3902993202209473, 2.3849449157714844, 2.379347562789917, 2.374126434326172, 2.369509696960449, 2.364941120147705, 2.36051082611084, 2.356555938720703, 2.352829933166504, 2.348975419998169, 2.3454184532165527, 2.342129707336426, 2.339005470275879, 2.3363544940948486, 2.3339390754699707, 2.3316562175750732, 2.3296074867248535, 2.3278234004974365, 2.326258420944214, 2.324986696243286, 2.324092149734497, 2.323495626449585, 2.323167085647583, 2.3231582641601562, 2.323453187942505, 2.324101686477661, 2.325082778930664, 2.3263156414031982, 2.327788829803467, 2.329484462738037, 2.3312880992889404, 2.333364486694336, 2.335585594177246, 2.337871789932251, 2.34031081199646, 2.3430323600769043, 2.345762014389038, 2.3484914302825928, 2.351382255554199, 2.3543267250061035, 2.357292652130127, 2.3603713512420654, 2.363316059112549, 2.366135597229004, 2.3691511154174805, 2.37215518951416, 2.3749210834503174, 2.377709150314331, 2.3807036876678467, 2.383511543273926, 2.3862226009368896, 2.3889405727386475, 2.3915154933929443, 2.3938722610473633, 2.3960931301116943, 2.3982815742492676, 2.4003584384918213, 2.4023828506469727, 2.404236078262329, 2.405956506729126, 2.4076175689697266, 2.409079074859619, 2.4104087352752686, 2.4116930961608887, 2.412903308868408, 2.41402530670166, 2.4151008129119873, 2.416105031967163, 2.416999340057373, 2.4178152084350586, 2.4185426235198975, 2.4192094802856445, 2.419875144958496, 2.4013166427612305, 2.401111125946045, 2.403714179992676, 2.403714179992676, 2.403714179992676, 2.403714179992676, 2.403714179992676, 2.403714179992676, 2.403714179992676, 2.403714179992676, 2.374887704849243, 2.3061466217041016, 2.4254846572875977, 2.4257895946502686, 2.42608642578125, 2.4263923168182373, 2.42671537399292, 2.427027463912964, 2.4273228645324707, 2.427642822265625, 2.4279754161834717, 2.4283015727996826, 2.428628921508789, 2.4289488792419434, 2.42928409576416, 2.429623603820801, 2.42996883392334, 2.4303269386291504, 2.4306633472442627, 2.4309921264648438, 2.4313318729400635, 2.4314868450164795, 2.4312517642974854, 2.430739641189575, 2.4301249980926514, 2.4292263984680176, 2.4279491901397705, 2.426522731781006, 2.4250454902648926, 2.423642635345459, 2.42228627204895, 2.4209272861480713, 2.4196882247924805, 2.4184730052948, 2.4172911643981934, 2.416149616241455, 2.415060043334961, 2.414052724838257, 2.413032293319702, 2.412075996398926, 2.41121244430542, 2.4103784561157227, 2.4095566272735596, 2.408809185028076, 2.408123016357422, 2.4074926376342773, 2.406914234161377, 2.4063735008239746, 2.405900239944458, 2.4055004119873047, 2.4051568508148193, 2.4048421382904053, 2.404576063156128, 2.40437912940979, 2.4042365550994873, 2.4041385650634766, 2.4040894508361816, 2.404090166091919, 2.4041388034820557, 2.4042415618896484, 2.398221254348755, 2.4009644985198975, 2.403714179992676, 2.403714179992676, 2.403714179992676, 2.403714179992676, 2.403714179992676, 2.403714179992676, 2.403714179992676, 2.403714179992676, 2.375795364379883, 2.292285680770874, 2.4092538356781006, 2.409874200820923, 2.4105544090270996, 2.411235809326172, 2.411904811859131, 2.412597179412842, 2.41332745552063, 2.4140312671661377, 2.414691209793091, 2.4153759479522705, 2.4160521030426025, 2.416654109954834, 2.417212963104248, 2.417760133743286, 2.418278217315674, 2.418757200241089, 2.419194221496582, 2.419588804244995, 2.419950246810913, 2.4202678203582764, 2.4205191135406494, 2.4207262992858887, 2.4208977222442627, 2.4210166931152344, 2.421091318130493, 2.421126127243042, 2.4211177825927734, 2.421069383621216, 2.4209818840026855, 2.4208590984344482, 2.420701742172241, 2.420520544052124, 2.420313596725464, 2.420060634613037, 2.4197778701782227, 2.419494152069092, 2.419198513031006, 2.4188785552978516, 2.4185287952423096, 2.4181673526763916, 2.417811632156372, 2.4174704551696777, 2.417117118835449, 2.416748046875, 2.4164040088653564, 2.4160714149475098, 2.4157185554504395, 2.415365219116211, 2.4150454998016357, 2.4147427082061768, 2.414438247680664, 2.4141411781311035, 2.4138567447662354, 2.4135847091674805, 2.4133169651031494, 2.413069486618042, 2.412838935852051, 2.412616014480591, 2.412418842315674, 2.4122402667999268, 2.412062168121338, 2.4118945598602295, 2.4117465019226074, 2.411618947982788, 2.4115002155303955, 2.411388874053955, 2.4112915992736816, 2.4112071990966797, 2.4111337661743164, 2.4110701084136963, 2.4110159873962402, 2.4109721183776855, 2.410936117172241, 2.4109060764312744, 2.4108829498291016, 2.4108667373657227, 2.4108567237854004, 2.410851240158081, 2.410850763320923, 2.4108545780181885, 2.410862922668457, 2.410874366760254, 2.410888433456421, 2.4109046459198, 2.4109225273132324, 2.4109418392181396, 2.4109647274017334, 2.4109880924224854, 2.411010980606079, 2.4110360145568848, 2.4110615253448486, 2.4110870361328125, 2.4111125469207764, 2.4111380577087402, 2.411163806915283, 2.4111881256103516, 2.411210775375366, 2.411233425140381, 2.4112536907196045, 2.411271572113037, 2.411285877227783, 2.41129732131958, 2.411304235458374, 2.4113070964813232, 2.4113054275512695, 2.411240816116333, 2.4110538959503174, 2.410766363143921, 2.410240650177002, 2.4091265201568604, 2.4074764251708984, 2.4057343006134033, 2.404095411300659, 2.402585506439209, 2.4011390209198, 2.3996827602386475, 2.3982021808624268, 2.396775722503662, 2.39546275138855, 2.3942322731018066, 2.3930695056915283, 2.391974925994873, 2.3909878730773926, 2.390077590942383, 2.3892033100128174, 2.3883609771728516, 2.3875913619995117, 2.386948823928833, 2.3863742351531982, 2.3858680725097656, 2.385439395904541, 2.385087251663208, 2.3848137855529785, 2.384611129760742, 2.3844921588897705, 2.3844521045684814, 2.384481191635132, 2.3845903873443604, 2.38476824760437, 2.3850252628326416, 2.385348081588745, 2.385728597640991, 2.3862087726593018, 2.386768341064453, 2.387350559234619, 2.388012647628784, 2.3887367248535156, 2.3894972801208496, 2.390371561050415, 2.3913228511810303, 2.392261028289795, 2.3932318687438965, 2.3942911624908447, 2.3954145908355713, 2.396588087081909, 2.3978617191314697, 2.3991920948028564, 2.4004552364349365, 2.401723623275757, 2.403062582015991, 2.404432535171509, 2.405806303024292, 2.4072282314300537, 2.4085981845855713, 2.409888744354248, 2.4112343788146973, 2.412527322769165, 2.413726568222046, 2.4149587154388428, 2.4161269664764404, 2.417235851287842, 2.418288469314575, 2.4192543029785156, 2.420222759246826, 2.421151876449585, 2.4219884872436523, 2.422727108001709, 2.4234025478363037, 2.4240477085113525, 2.4246444702148438, 2.425184726715088, 2.4256715774536133, 2.4261040687561035, 2.426499128341675, 2.4268462657928467, 2.427125930786133, 2.427356719970703, 2.427562713623047, 2.4277331829071045, 2.4278557300567627, 2.42794132232666, 2.427999496459961, 2.4280290603637695, 2.428030252456665, 2.428006172180176, 2.427959680557251, 2.4278981685638428, 2.4278178215026855, 2.4277238845825195, 2.427616834640503, 2.4274959564208984, 2.427374839782715, 2.4272449016571045, 2.427110195159912, 2.426971912384033, 2.4268274307250977, 2.4266858100891113, 2.426551342010498, 2.426414966583252, 2.426274538040161, 2.4261457920074463, 2.426018476486206, 2.425888776779175, 2.425766944885254, 2.4256508350372314, 2.425539970397949, 2.4254374504089355, 2.4253368377685547, 2.402355670928955, 2.401155471801758, 2.403714179992676, 2.403714179992676, 2.403714179992676, 2.403714179992676, 2.403714179992676, 2.403714179992676, 2.403714179992676, 2.403714179992676, 2.3749217987060547, 2.3054885864257812, 2.424379825592041, 2.424325466156006, 2.424274444580078, 2.424222230911255, 2.4241700172424316, 2.4241180419921875, 2.4240663051605225, 2.424013614654541, 2.4239580631256104, 2.42390513420105, 2.4238522052764893, 2.423795700073242, 2.4237349033355713, 2.423673629760742, 2.4236133098602295, 2.423548460006714, 2.423478364944458, 2.4234044551849365, 2.423332929611206, 2.4232583045959473, 2.4231808185577393, 2.4231014251708984, 2.42301869392395, 2.42293643951416, 2.4228579998016357, 2.4227776527404785, 2.4226937294006348, 2.4226126670837402, 2.4225354194641113, 2.4224607944488525, 2.4224860668182373, 2.4226529598236084, 2.4228708744049072, 2.422713041305542, 2.4217605590820312, 2.420163869857788, 2.4184648990631104, 2.4168691635131836, 2.4152910709381104, 2.4136962890625, 2.412213087081909, 2.4108095169067383, 2.40948748588562, 2.4082837104797363, 2.4070842266082764, 2.405979871749878, 2.40497088432312, 2.4040164947509766, 2.4031999111175537, 2.402487277984619, 2.4018008708953857, 2.4012203216552734, 2.400770902633667, 2.4003841876983643, 2.4000823497772217, 2.3998935222625732, 2.3998022079467773, 2.39979887008667, 2.3998966217041016, 2.4000847339630127, 2.400360107421875, 2.4007349014282227, 2.401207208633423, 2.401773452758789, 2.402432680130005, 2.4032182693481445, 2.4040677547454834, 2.4050087928771973, 2.4060707092285156, 2.407196283340454, 2.4083943367004395, 2.4096755981445312, 2.410980224609375, 2.4123475551605225, 2.4138407707214355, 2.4154269695281982, 2.417086601257324, 2.4188899993896484, 2.420707941055298, 2.422588586807251, 2.424598455429077, 2.426626682281494, 2.4286794662475586, 2.4307689666748047, 2.4328789710998535, 2.4349169731140137, 2.4369349479675293, 2.439101457595825, 2.4050376415252686, 2.4012975692749023, 2.403714179992676, 2.403714179992676, 2.403714179992676, 2.403714179992676, 2.403714179992676, 2.403714179992676, 2.403714179992676, 2.403714179992676, 2.372840404510498, 2.3362581729888916, 2.462412118911743, 2.463732957839966, 2.4649384021759033, 2.4661004543304443, 2.4672458171844482, 2.4683263301849365, 2.469263792037964, 2.4701168537139893, 2.470938205718994, 2.4717319011688232, 2.4724373817443848, 2.4730441570281982, 2.4736008644104004, 2.4741034507751465, 2.4745445251464844, 2.4749414920806885, 2.4752840995788574, 2.4755642414093018, 2.475785493850708, 2.4759652614593506, 2.4761135578155518, 2.4762284755706787, 2.4763131141662598, 2.4763669967651367, 2.476393699645996, 2.476398229598999, 2.4763829708099365, 2.4763505458831787, 2.4763035774230957, 2.476240396499634, 2.476165533065796, 2.476088285446167, 2.476006269454956, 2.4759113788604736, 2.4758107662200928, 2.47571063041687, 2.475609540939331, 2.475508451461792, 2.4754068851470947, 2.4753060340881348, 2.475209951400757, 2.475116729736328, 2.4750170707702637, 2.474921703338623, 2.47483229637146, 2.4747400283813477, 2.4746482372283936, 2.474564552307129, 2.47448468208313, 2.4744045734405518, 2.4743247032165527, 2.474246025085449, 2.474165439605713, 2.474087953567505, 2.474015235900879, 2.473940372467041, 2.473860502243042, 2.473780632019043, 2.4737024307250977, 2.4736268520355225, 2.4735469818115234, 2.473461627960205, 2.473379611968994, 2.4732964038848877, 2.473207473754883, 2.4731104373931885, 2.473008632659912, 2.472907304763794, 2.47280216217041, 2.472698450088501, 2.4725911617279053, 2.4724769592285156, 2.4723591804504395, 2.472235918045044, 2.472116470336914, 2.471998929977417, 2.471879005432129, 2.4717702865600586, 2.4716670513153076, 2.4715638160705566, 2.4715192317962646, 2.4718523025512695, 2.472618579864502, 2.4734926223754883, 2.4743359088897705, 2.4750945568084717, 2.472832679748535, 2.467426300048828, 2.461219072341919, 2.454852342605591, 2.448673725128174, 2.442619800567627, 2.436612844467163, 2.430652141571045, 2.424736261367798, 2.4190945625305176, 2.4135522842407227, 2.407628059387207, 2.401625394821167, 2.3960630893707275, 2.3906924724578857, 2.384988307952881, 2.379481315612793, 2.374293565750122, 2.3695247173309326, 2.3650412559509277, 2.360823154449463, 2.3568758964538574, 2.3529906272888184, 2.349243402481079, 2.345550537109375, 2.3421084880828857, 2.3390614986419678, 2.3363192081451416, 2.333888292312622, 2.331606864929199, 2.3295624256134033, 2.3278493881225586, 2.3262898921966553, 2.325007438659668, 2.3241028785705566, 2.3234827518463135, 2.323140859603882, 2.3231167793273926, 2.323431968688965, 2.3240840435028076, 2.324974298477173, 2.3261897563934326, 2.327626943588257, 2.329235315322876, 2.3311920166015625, 2.3333580493927, 2.3355040550231934, 2.3377673625946045, 2.340202569961548, 2.3429160118103027, 2.345637798309326, 2.348489284515381, 2.351516008377075, 2.354487419128418, 2.357323169708252, 2.360262155532837, 2.3631765842437744, 2.3659965991973877, 2.3690109252929688, 2.3720178604125977, 2.3747787475585938, 2.377694606781006, 2.38070011138916, 2.3835246562957764, 2.3861050605773926, 2.388603687286377, 2.3912370204925537, 2.3938145637512207, 2.396178960800171, 2.3983089923858643, 2.400362014770508, 2.4023122787475586, 2.4041521549224854, 2.4058713912963867, 2.4074854850769043, 2.409040689468384, 2.410407066345215, 2.4116477966308594, 2.412888288497925, 2.414064407348633, 2.415076971054077, 2.41599178314209, 2.4168717861175537, 2.4176974296569824, 2.4184603691101074, 2.4193265438079834, 2.420017719268799, 2.4204788208007812, 2.420991897583008, 2.4215188026428223, 2.4220287799835205, 2.422510862350464, 2.42294979095459, 2.4233436584472656, 2.4237284660339355, 2.4240987300872803, 2.4244418144226074, 2.4247937202453613, 2.4251418113708496, 2.425457239151001, 2.4257583618164062, 2.4260787963867188, 2.4263908863067627, 2.426699161529541, 2.427018880844116, 2.4273319244384766, 2.4276435375213623, 2.427947759628296, 2.428253173828125, 2.4285764694213867, 2.4289088249206543, 2.429246187210083, 2.4296000003814697, 2.429960012435913, 2.430309772491455, 2.4306421279907227, 2.4309709072113037, 2.4313108921051025, 2.4315009117126465, 2.4312634468078613, 2.4307048320770264, 2.4300992488861084, 2.4291834831237793, 2.427914619445801, 2.426543951034546, 2.4251389503479004, 2.4237477779388428, 2.4223926067352295, 2.421076536178589, 2.419801950454712, 2.4185235500335693, 2.4172801971435547, 2.416170120239258, 2.4150893688201904, 2.4140079021453857, 2.4130380153656006, 2.4121029376983643, 2.4112093448638916, 2.4103636741638184, 2.4095733165740967, 2.4088587760925293, 2.40817928314209, 2.4075441360473633, 2.406942844390869, 2.4063925743103027, 2.405933380126953, 2.4055233001708984, 2.405148983001709, 2.4048378467559814, 2.404585361480713, 2.4043850898742676, 2.4042375087738037, 2.4041411876678467, 2.404095411300659, 2.404099941253662, 2.404162883758545, 2.4042649269104004, 2.4043943881988525, 2.404571056365967, 2.4047999382019043, 2.4050862789154053, 2.4054043292999268, 2.405747652053833, 2.4061546325683594, 2.406590223312378, 2.407041072845459, 2.4075369834899902, 2.408071279525757, 2.408637762069702, 2.4092600345611572, 2.4098916053771973, 2.410548448562622, 2.4112493991851807, 2.411923408508301, 2.412618398666382, 2.413318157196045, 2.413989543914795, 2.414665699005127, 2.4153339862823486, 2.416003942489624, 2.4166290760040283, 2.41719651222229, 2.4177446365356445, 2.4182822704315186, 2.418782949447632, 2.419208288192749, 2.419595956802368, 2.4199447631835938, 2.420239210128784, 2.4205033779144287, 2.420719861984253, 2.420882225036621, 2.4014956951141357, 2.4011166095733643, 2.403714179992676, 2.403714179992676, 2.403714179992676, 2.403714179992676, 2.403714179992676, 2.403714179992676, 2.403714179992676, 2.403714179992676, 2.3751723766326904, 2.3015568256378174, 2.41949462890625, 2.419193744659424, 2.4188854694366455, 2.4185545444488525, 2.418196439743042, 2.417828321456909, 2.4174695014953613, 2.4171271324157715, 2.416788339614868, 2.4164392948150635, 2.4160897731781006, 2.4157323837280273, 2.415379762649536, 2.4150478839874268, 2.4147417545318604, 2.4144370555877686, 2.4141414165496826, 2.413856267929077, 2.413586139678955, 2.4133269786834717, 2.413074493408203, 2.412841320037842, 2.4126343727111816, 2.4124414920806885, 2.4122490882873535, 2.4120728969573975, 2.4119174480438232, 2.4117672443389893, 2.4116318225860596, 2.411515474319458, 2.411407709121704, 2.4113106727600098, 2.411224365234375, 2.411146879196167, 2.4110794067382812, 2.411025285720825, 2.4109816551208496, 2.4109439849853516, 2.41091251373291, 2.410888910293579, 2.4108726978302, 2.4108619689941406, 2.410856246948242, 2.410855293273926, 2.4108593463897705, 2.4108667373657227, 2.4108777046203613, 2.4108901023864746, 2.410905361175537, 2.410924196243286, 2.410944700241089, 2.410966157913208, 2.410989284515381, 2.411013603210449, 2.411036729812622, 2.4110612869262695, 2.4110865592956543, 2.411111831665039, 2.4111385345458984, 2.411163806915283, 2.4111881256103516, 2.4112114906311035, 2.4112348556518555, 2.411254405975342, 2.411271810531616, 2.411285877227783, 2.41129732131958, 2.411303997039795, 2.4113073348999023, 2.411306142807007, 2.41125750541687, 2.4110779762268066, 2.410780429840088, 2.410269260406494, 2.409111738204956, 2.4075160026550293, 2.4059104919433594, 2.4042465686798096, 2.4025957584381104, 2.4011125564575195, 2.399707555770874, 2.3982436656951904, 2.3968636989593506, 2.3955578804016113, 2.3943240642547607, 2.3931515216827393, 2.3920531272888184, 2.3910579681396484, 2.3900744915008545, 2.389146089553833, 2.388354539871216, 2.3876516819000244, 2.386995792388916, 2.3863868713378906, 2.3858699798583984, 2.385438919067383, 2.3850739002227783, 2.3847954273223877, 2.3846042156219482, 2.3844857215881348, 2.384437322616577, 2.3844640254974365, 2.3845648765563965, 2.3847506046295166, 2.385000705718994, 2.3853280544281006, 2.3857381343841553, 2.386209726333618, 2.394719123840332, 2.4008028507232666, 2.403714179992676, 2.403714179992676, 2.403714179992676, 2.403714179992676, 2.403714179992676, 2.403714179992676, 2.403714179992676, 2.403714179992676, 2.3764820098876953, 2.2821192741394043, 2.3978142738342285, 2.3991448879241943, 2.4004061222076416, 2.4016740322113037, 2.40301251411438, 2.4043819904327393, 2.405808687210083, 2.4071907997131348, 2.4085516929626465, 2.409886121749878, 2.4112024307250977, 2.4125287532806396, 2.413788318634033, 2.4149444103240967, 2.4160468578338623, 2.4171838760375977, 2.4182910919189453, 2.4192676544189453, 2.4202022552490234, 2.421088695526123, 2.4219205379486084, 2.4227182865142822, 2.4234378337860107, 2.424089193344116, 2.4246833324432373, 2.4252021312713623, 2.4256644248962402, 2.426107883453369, 2.4264957904815674, 2.4268293380737305, 2.42712664604187, 2.4273736476898193, 2.4275689125061035, 2.427729845046997, 2.4278571605682373, 2.4279468059539795, 2.4280059337615967, 2.4280359745025635, 2.428039312362671, 2.428018808364868, 2.427973508834839, 2.4279069900512695, 2.427826404571533, 2.4277360439300537, 2.4276304244995117, 2.4275147914886475, 2.427396059036255, 2.427262783050537, 2.42712140083313, 2.4269871711730957, 2.4268548488616943, 2.4267165660858154, 2.426571846008301, 2.4264323711395264, 2.4263014793395996, 2.426170825958252, 2.4260361194610596, 2.4259097576141357, 2.425792932510376, 2.425678014755249, 2.425565719604492, 2.4254586696624756, 2.425356388092041, 2.425255298614502, 2.4251580238342285, 2.4250690937042236, 2.4249889850616455, 2.4249134063720703, 2.4248387813568115, 2.4247641563415527, 2.424694299697876, 2.424628734588623, 2.4245643615722656, 2.4245059490203857, 2.4244484901428223, 2.4243929386138916, 2.4243381023406982, 2.4242844581604004, 2.424231767654419, 2.424179792404175, 2.4241271018981934, 2.4240753650665283, 2.4240221977233887, 2.423969268798828, 2.423914670944214, 2.423856735229492, 2.4237990379333496, 2.4237403869628906, 2.4236817359924316, 2.423619031906128, 2.423551321029663, 2.423485517501831, 2.4234185218811035, 2.4233462810516357, 2.4232676029205322, 2.423186779022217, 2.4231066703796387, 2.423029661178589, 2.422952651977539, 2.4228689670562744, 2.4227869510650635, 2.422708511352539, 2.4226291179656982, 2.422546148300171, 2.422466278076172, 2.4224817752838135, 2.4226417541503906, 2.4228570461273193, 2.4227962493896484, 2.42183256149292, 2.4201667308807373, 2.4185056686401367, 2.4169294834136963, 2.415349006652832, 2.413809299468994, 2.4122815132141113, 2.410813808441162, 2.409520149230957, 2.408329486846924, 2.4071264266967773, 2.406019449234009, 2.4050068855285645, 2.4040496349334717, 2.4032299518585205, 2.4025139808654785, 2.4018356800079346, 2.4012370109558105, 2.4007694721221924, 2.4003918170928955, 2.400092363357544, 2.3998992443084717, 2.39980411529541, 2.399796724319458, 2.3998911380767822, 2.400087356567383, 2.4003617763519287, 2.400721788406372, 2.401209592819214, 2.401777982711792, 2.402442693710327, 2.403223991394043, 2.4040796756744385, 2.404975414276123, 2.4059462547302246, 2.407036304473877, 2.408273458480835, 2.409555196762085, 2.410917043685913, 2.4124042987823486, 2.4138739109039307, 2.4154508113861084, 2.4171040058135986, 2.4187731742858887, 2.4206252098083496, 2.4225094318389893, 2.424454927444458, 2.426527261734009, 2.4286043643951416, 2.430694103240967, 2.432722330093384, 2.4348254203796387, 2.436941623687744, 2.4389801025390625, 2.441128730773926, 2.4432947635650635, 2.4452719688415527, 2.447239637374878, 2.4492461681365967, 2.4510819911956787, 2.4528868198394775, 2.454709053039551, 2.4563584327697754, 2.457963228225708, 2.459566831588745, 2.4610588550567627, 2.462456703186035, 2.463778018951416, 2.464979887008667, 2.466142177581787, 2.4672837257385254, 2.468327045440674, 2.469287395477295, 2.470149040222168, 2.470940351486206, 2.4716973304748535, 2.4724209308624268, 2.47308087348938, 2.473649501800537, 2.4741461277008057, 2.4745821952819824, 2.474947929382324, 2.4752705097198486, 2.4755566120147705, 2.4757893085479736, 2.4759747982025146, 2.4761219024658203, 2.4762332439422607, 2.4763121604919434, 2.4763619899749756, 2.476386785507202, 2.4763906002044678, 2.476375102996826, 2.47633957862854, 2.4762890338897705, 2.4762275218963623, 2.4761550426483154, 2.4760749340057373, 2.475991725921631, 2.4758996963500977, 2.475800037384033, 2.475703716278076, 2.4756078720092773, 2.475503444671631, 2.4753975868225098, 2.475295066833496, 2.4751956462860107, 2.4751009941101074, 2.4750051498413086, 2.4749109745025635, 2.474818468093872, 2.4747250080108643, 2.4746360778808594, 2.4745538234710693, 2.4744741916656494, 2.4743940830230713, 2.4743103981018066, 2.474231004714966, 2.474156379699707, 2.4740805625915527, 2.4740042686462402, 2.4739255905151367, 2.473849296569824, 2.4737722873687744, 2.4736921787261963, 2.4736123085021973, 2.4735326766967773, 2.4734535217285156, 2.47337007522583, 2.4732794761657715, 2.4731922149658203, 2.473100185394287, 2.4729995727539062, 2.472902297973633, 2.4727983474731445, 2.4726855754852295, 2.4725756645202637, 2.472461223602295, 2.472339391708374, 2.472224235534668, 2.472111940383911, 2.4719913005828857, 2.4718704223632812, 2.471756935119629, 2.471649169921875, 2.4715490341186523, 2.4714977741241455, 2.4718191623687744, 2.4725818634033203, 2.4734561443328857, 2.474299669265747, 2.474898338317871, 2.4729244709014893, 2.4678232669830322, 2.461472272872925, 2.4550271034240723, 2.4490859508514404, 2.4433226585388184, 2.4371540546417236, 2.4311330318450928, 2.4254233837127686, 2.419621706008911, 2.4137935638427734, 2.40779447555542, 2.4020183086395264, 2.3962786197662354, 2.390437364578247, 2.385030746459961, 2.379835605621338, 2.374699354171753, 2.3696727752685547, 2.3650124073028564, 2.360914707183838, 2.356835126876831, 2.352933883666992, 2.349330186843872, 2.3458077907562256, 2.3423702716827393, 2.3391976356506348, 2.3365347385406494, 2.334001064300537, 2.3316988945007324, 2.329725742340088, 2.327875852584839, 2.3262903690338135, 2.3251006603240967, 2.324176073074341, 2.32352352142334, 2.323193311691284, 2.323168992996216, 2.323446035385132, 2.324031114578247, 2.324936628341675, 2.3261237144470215, 2.3276374340057373, 2.329305410385132, 2.331106662750244, 2.333251476287842, 2.335587978363037, 2.3378725051879883, 2.340329885482788, 2.342897891998291, 2.3455145359039307, 2.348452091217041, 2.3515000343322754, 2.354342222213745, 2.3571672439575195, 2.360090970993042, 2.363022565841675, 2.3660800457000732, 2.3691320419311523, 2.3720297813415527, 2.374896764755249, 2.3778178691864014, 2.380587100982666, 2.383258819580078, 2.3860533237457275, 2.388798236846924, 2.39128041267395, 2.393714666366577, 2.3961353302001953, 2.3982956409454346, 2.400273323059082, 2.4022772312164307, 2.404137134552002, 2.4058640003204346, 2.407531976699829, 2.408998489379883, 2.4103827476501465, 2.411684274673462, 2.4128968715667725, 2.4140570163726807, 2.415070056915283, 2.415985345840454, 2.4168663024902344, 2.4177207946777344, 2.41851806640625, 2.4192299842834473, 2.4198570251464844, 2.4204328060150146, 2.421010732650757, 2.421541929244995, 2.4220340251922607, 2.4225101470947266, 2.422933340072632, 2.423323392868042, 2.423708200454712, 2.4240942001342773, 2.4244537353515625, 2.4247851371765137, 2.425126075744629, 2.4254658222198486, 2.4257864952087402, 2.42608642578125, 2.4263932704925537, 2.426699161529541, 2.4269962310791016, 2.427314043045044, 2.427640914916992, 2.427948236465454, 2.4282541275024414, 2.428576707839966, 2.4289088249206543, 2.429246425628662, 2.4295871257781982, 2.4299299716949463, 2.4302756786346436, 2.4306209087371826, 2.43096661567688, 2.431323528289795, 2.431527853012085, 2.431291103363037, 2.430755138397217, 2.430154800415039, 2.429227828979492, 2.4279067516326904, 2.426468849182129, 2.4251019954681396, 2.423726797103882, 2.4223251342773438, 2.42104434967041, 2.419830799102783, 2.4185681343078613, 2.417323589324951, 2.4161691665649414, 2.415076732635498, 2.414031982421875, 2.4130361080169678, 2.4121253490448, 2.4112391471862793, 2.4103944301605225, 2.409627914428711, 2.4088950157165527, 2.408179998397827, 2.4075372219085693, 2.4069559574127197, 2.40641188621521, 2.4059343338012695, 2.4055330753326416, 2.405174493789673, 2.4048633575439453, 2.404606580734253, 2.4044017791748047, 2.404250144958496, 2.404146909713745, 2.404097080230713, 2.404097080230713, 2.4041478633880615, 2.4042487144470215, 2.404386043548584, 2.4045650959014893, 2.404792547225952, 2.4050655364990234, 2.405379295349121, 2.4057488441467285, 2.4061622619628906, 2.4066002368927, 2.407069683074951, 2.4075515270233154, 2.408083438873291, 2.4086716175079346, 2.409252643585205, 2.409874677658081, 2.410550594329834, 2.4112348556518555, 2.4119272232055664, 2.412628173828125, 2.413302421569824, 2.4139652252197266, 2.4146416187286377, 2.4153358936309814, 2.4159882068634033, 2.416585922241211, 2.417189598083496, 2.4177513122558594, 2.4182705879211426, 2.4187490940093994, 2.419187545776367, 2.4195826053619385, 2.419933319091797, 2.420238971710205, 2.420499086380005, 2.420720100402832, 2.4208858013153076, 2.421004056930542, 2.4210853576660156, 2.4211249351501465, 2.421119213104248, 2.4210729598999023, 2.4209930896759033, 2.4208731651306152, 2.4207210540771484, 2.4205334186553955, 2.420319080352783, 2.4200737476348877, 2.4197945594787598, 2.4195122718811035, 2.419218063354492, 2.418898582458496, 2.4185495376586914, 2.4181880950927734, 2.417832851409912, 2.417478084564209, 2.41713547706604, 2.4167966842651367, 2.416447162628174, 2.416083812713623, 2.415736198425293, 2.415398359298706, 2.4150583744049072, 2.4147472381591797, 2.4144413471221924, 2.4141347408294678, 2.4138572216033936, 2.413588285446167, 2.413329839706421, 2.4130847454071045, 2.4128541946411133, 2.4126369953155518, 2.4124345779418945, 2.412245512008667, 2.412065029144287, 2.4119083881378174, 2.4117677211761475, 2.411630868911743, 2.411503791809082, 2.411393880844116, 2.4112977981567383, 2.411212682723999, 2.4111404418945312, 2.4110782146453857, 2.4110219478607178, 2.410975456237793, 2.4109370708465576, 2.4109067916870117, 2.410884141921997, 2.4108669757843018, 2.410855531692505, 2.4108505249023438, 2.4108498096466064, 2.410853385925293, 2.410860776901245, 2.4108715057373047, 2.410885810852051, 2.410900831222534, 2.4109179973602295, 2.4109385013580322, 2.4109604358673096, 2.410982847213745, 2.4110066890716553, 2.411031723022461, 2.411057472229004, 2.4110829830169678, 2.411107063293457, 2.4111316204071045, 2.4111568927764893, 2.411182165145874, 2.411207437515259, 2.41123104095459, 2.4112515449523926, 2.4112682342529297, 2.411282777786255, 2.4112942218780518, 2.4113011360168457, 2.4113049507141113, 2.4113032817840576, 2.4112586975097656, 2.411072015762329, 2.4107728004455566, 2.410222291946411, 2.4090731143951416, 2.407543897628784, 2.405959367752075, 2.404294490814209, 2.4027018547058105, 2.4012317657470703, 2.3997724056243896, 2.3983426094055176, 2.3969221115112305, 2.3956048488616943, 2.3944101333618164, 2.3932085037231445, 2.3920936584472656, 2.391096353530884, 2.390111207962036, 2.3891806602478027, 2.3883583545684814, 2.387622833251953, 2.3869855403900146, 2.3864071369171143, 2.3858797550201416, 2.3854429721832275, 2.3850903511047363, 2.384815216064453, 2.384617567062378, 2.3844962120056152, 2.3844499588012695, 2.3844804763793945, 2.384580373764038, 2.3847484588623047, 2.384992837905884, 2.3853108882904053, 2.3857181072235107, 2.386202573776245, 2.3867404460906982, 2.3873131275177, 2.38794207572937, 2.3886876106262207, 2.3894777297973633, 2.390329599380493, 2.391267776489258, 2.3922431468963623, 2.3932197093963623, 2.3942389488220215, 2.395346164703369, 2.3965654373168945, 2.39784574508667, 2.3991305828094482, 2.4004287719726562, 2.401707172393799, 2.40299654006958, 2.404348134994507, 2.4057211875915527, 2.407090902328491, 2.4084489345550537, 2.409839391708374, 2.4112160205841064, 2.412464141845703, 2.413696765899658, 2.414942979812622, 2.4161157608032227, 2.4172232151031494, 2.4182400703430176, 2.4191958904266357, 2.420168161392212, 2.421069383621216, 2.4219024181365967, 2.4227020740509033, 2.42339825630188, 2.4240455627441406, 2.424663782119751, 2.425210952758789, 2.4256956577301025, 2.4261269569396973, 2.4265074729919434, 2.4268290996551514, 2.4271035194396973, 2.427347421646118, 2.4275596141815186, 2.427732467651367, 2.4278573989868164, 2.4279472827911377, 2.428008794784546, 2.4280378818511963, 2.428040027618408, 2.428018808364868, 2.427973747253418, 2.427910566329956, 2.4278299808502197, 2.427732467651367, 2.4276249408721924, 2.4275081157684326, 2.4273838996887207, 2.427253246307373, 2.4271230697631836, 2.4269919395446777, 2.426853895187378, 2.4267077445983887, 2.4265613555908203, 2.426421642303467, 2.42629075050354, 2.426159381866455, 2.426025629043579, 2.425898551940918, 2.4257776737213135, 2.4256651401519775, 2.4255588054656982, 2.4254491329193115, 2.425342082977295, 2.425243616104126, 2.4251513481140137, 2.4250638484954834, 2.4249801635742188, 2.424903631210327, 2.4248294830322266, 2.424757957458496, 2.4246890544891357, 2.42462158203125, 2.424561023712158, 2.424503803253174, 2.4244441986083984, 2.4243855476379395, 2.424330472946167, 2.424276828765869, 2.4242241382598877, 2.4241716861724854, 2.424121856689453, 2.424070358276367, 2.424015760421753, 2.423962116241455, 2.4239072799682617, 2.423853874206543, 2.423797607421875, 2.423738718032837, 2.423678159713745, 2.4236152172088623, 2.4235498905181885, 2.4234795570373535, 2.423408269882202, 2.4233381748199463, 2.4232633113861084, 2.423182964324951, 2.423103094100952, 2.423023223876953, 2.4229419231414795, 2.422863721847534, 2.422783136367798, 2.422698974609375, 2.4226179122924805, 2.4225404262542725, 2.4224660396575928, 2.422476053237915, 2.42263126373291, 2.4228451251983643, 2.4227378368377686, 2.421854257583618, 2.4202752113342285, 2.418574094772339, 2.416975736618042, 2.4153339862823486, 2.413722515106201, 2.4122889041900635, 2.4109039306640625, 2.409529685974121, 2.4083080291748047, 2.4071896076202393, 2.4061057567596436, 2.4050886631011963, 2.4041554927825928, 2.3981661796569824, 2.400956869125366, 2.403714179992676, 2.403714179992676, 2.403714179992676, 2.403714179992676, 2.403714179992676, 2.403714179992676, 2.403714179992676, 2.403714179992676, 2.3762691020965576, 2.284999132156372, 2.400377035140991, 2.4007389545440674, 2.401210069656372, 2.40177059173584, 2.402433156967163, 2.403212070465088, 2.4040656089782715, 2.404959201812744, 2.4059271812438965, 2.407062530517578, 2.408308744430542, 2.4095985889434814, 2.4109549522399902, 2.412390947341919, 2.413841724395752, 2.4153504371643066, 2.4169864654541016, 2.4187846183776855, 2.420598268508911, 2.4224748611450195, 2.4244019985198975, 2.4263267517089844, 2.4283487796783447, 2.430434226989746, 2.4325430393218994, 2.4347474575042725, 2.4368884563446045, 2.4389262199401855, 2.441075563430786, 2.4432413578033447, 2.445295810699463, 2.4472815990448, 2.4491443634033203, 2.4510090351104736, 2.452897310256958, 2.454679012298584, 2.4563064575195312, 2.4579122066497803, 2.459517240524292, 2.4610116481781006, 2.4624106884002686, 2.463686227798462, 2.464923858642578, 2.4661433696746826, 2.4672210216522217, 2.468205690383911, 2.4691615104675293, 2.470064401626587, 2.470930814743042, 2.471734046936035, 2.4724156856536865, 2.4730379581451416, 2.4736225605010986, 2.4741122722625732, 2.4745471477508545, 2.47493052482605, 2.4752609729766846, 2.4755494594573975, 2.475776433944702, 2.4759576320648193, 2.476106643676758, 2.4762232303619385, 2.476308822631836, 2.4763643741607666, 2.476391077041626, 2.4763967990875244, 2.4763827323913574, 2.476348638534546, 2.4762990474700928, 2.476240634918213, 2.4761736392974854, 2.4760921001434326, 2.4760055541992188, 2.4759178161621094, 2.4758195877075195, 2.4757204055786133, 2.4756205081939697, 2.475515604019165, 2.4754128456115723, 2.475316047668457, 2.4752211570739746, 2.4751241207122803, 2.475027561187744, 2.4749293327331543, 2.474832534790039, 2.4747414588928223, 2.4746532440185547, 2.4745681285858154, 2.4116735458374023, 2.4016151428222656, 2.403714179992676, 2.403714179992676, 2.403714179992676, 2.403714179992676, 2.403714179992676, 2.403714179992676, 2.403714179992676, 2.403714179992676, 2.372187614440918, 2.3466129302978516, 2.473550796508789, 2.4734714031219482, 2.473390817642212, 2.4733047485351562, 2.473215103149414, 2.473118543624878, 2.4730210304260254, 2.4729244709014893, 2.4728174209594727, 2.472707986831665, 2.472599983215332, 2.4724812507629395, 2.472357749938965, 2.472242593765259, 2.4721298217773438, 2.4720094203948975, 2.471893310546875, 2.471785068511963, 2.471673011779785, 2.4715678691864014, 2.4715027809143066, 2.4718096256256104, 2.4725685119628906, 2.473442316055298, 2.474252939224243, 2.4749350547790527, 2.4728598594665527, 2.4674980640411377, 2.461310863494873, 2.4551615715026855, 2.4492945671081543, 2.443294048309326, 2.4370687007904053, 2.4310293197631836, 2.4251112937927246, 2.419466495513916, 2.4139211177825928, 2.4079930782318115, 2.4022178649902344, 2.396699905395508, 2.391122579574585, 2.3855583667755127, 2.3800923824310303, 2.3748748302459717, 2.3698344230651855, 2.3651621341705322, 2.361058235168457, 2.3571419715881348, 2.353245258331299, 2.3494865894317627, 2.345918893814087, 2.342602014541626, 2.3395493030548096, 2.3367655277252197, 2.3340904712677, 2.3316657543182373, 2.3296773433685303, 2.327897071838379, 2.3263142108917236, 2.325070381164551, 2.3241305351257324, 2.323488473892212, 2.3231513500213623, 2.3231120109558105, 2.3234055042266846, 2.3240346908569336, 2.3249619007110596, 2.3261635303497314, 2.3275372982025146, 2.3292083740234375, 2.3311569690704346, 2.333235502243042, 2.335466146469116, 2.337841510772705, 2.340176820755005, 2.3426427841186523, 2.3453361988067627, 2.3481624126434326, 2.3883652687072754, 2.400437116622925, 2.403714179992676, 2.403714179992676, 2.403714179992676, 2.403714179992676, 2.403714179992676, 2.403714179992676, 2.403714179992676, 2.403714179992676, 2.377269744873047, 2.2710676193237305, 2.3859217166900635, 2.3885507583618164, 2.3911139965057373, 2.393588066101074, 2.396014928817749, 2.3981809616088867, 2.4002411365509033, 2.4021973609924316, 2.404043674468994, 2.4058313369750977, 2.4074654579162598, 2.4089701175689697, 2.410371780395508, 2.411628484725952, 2.412827968597412, 2.4139530658721924, 2.414961099624634, 2.4159164428710938, 2.416844606399536, 2.417710304260254, 2.41845440864563, 2.41915225982666, 2.4198060035705566, 2.420393466949463, 2.420952558517456, 2.4215002059936523, 2.4219987392425537, 2.422461748123169, 2.422912359237671, 2.4233129024505615, 2.423698902130127, 2.4240851402282715, 2.4244327545166016, 2.4247734546661377, 2.425105571746826, 2.4254310131073, 2.425747871398926, 2.4260621070861816, 2.426370620727539, 2.4266796112060547, 2.4269866943359375, 2.4272851943969727, 2.427605628967285, 2.427924156188965, 2.428246259689331, 2.428571939468384, 2.428905963897705, 2.429255485534668, 2.403111219406128, 2.4011945724487305, 2.403714179992676, 2.403714179992676, 2.403714179992676, 2.403714179992676, 2.403714179992676, 2.403714179992676, 2.403714179992676, 2.403714179992676, 2.374699831008911, 2.3084027767181396, 2.4266555309295654, 2.4252312183380127, 2.4238386154174805, 2.4224300384521484, 2.421099901199341, 2.4198689460754395, 2.4186503887176514, 2.417459487915039, 2.4163143634796143, 2.4152162075042725, 2.4141273498535156, 2.4130797386169434, 2.412120819091797, 2.411257266998291, 2.4104201793670654, 2.409597873687744, 2.40887451171875, 2.4082183837890625, 2.4075889587402344, 2.406984329223633, 2.406430721282959, 2.4059689044952393, 2.405568838119507, 2.4052059650421143, 2.404881477355957, 2.4046099185943604, 2.4044084548950195, 2.404262065887451, 2.4041595458984375, 2.4041056632995605, 2.4041035175323486, 2.4041478633880615, 2.4042439460754395, 2.4043831825256348, 2.404561758041382, 2.404799461364746, 2.4050729274749756, 2.4053752422332764, 2.405724048614502, 2.406132459640503, 2.406583309173584, 2.407036304473877, 2.40751314163208, 2.4080612659454346, 2.40865421295166, 2.4092586040496826, 2.4098594188690186, 2.4105067253112793, 2.411205291748047, 2.4118783473968506, 2.4125454425811768, 2.413238525390625, 2.4139626026153564, 2.414654493331909, 2.4152991771698, 2.415938138961792, 2.4165594577789307, 2.4171721935272217, 2.400782823562622, 2.4010860919952393, 2.403714179992676, 2.403714179992676, 2.403714179992676, 2.403714179992676, 2.403714179992676, 2.403714179992676, 2.403714179992676, 2.403714179992676, 2.375107765197754, 2.3026785850524902, 2.4211208820343018, 2.4211175441741943, 2.421076536178589, 2.420994758605957, 2.420872449874878, 2.4207170009613037, 2.420539379119873, 2.420335054397583, 2.4200854301452637, 2.419816255569458, 2.4195377826690674, 2.4192333221435547, 2.418910503387451, 2.418562173843384, 2.4182016849517822, 2.4178600311279297, 2.417523145675659, 2.4171712398529053, 2.4168150424957275, 2.41646146774292, 2.4161107540130615, 2.4157660007476807, 2.415428400039673, 2.4150991439819336, 2.4147789478302, 2.4144694805145264, 2.4141604900360107, 2.413872241973877, 2.4135990142822266, 2.4133312702178955, 2.4130923748016357, 2.412872314453125, 2.4126572608947754, 2.4124460220336914, 2.4122543334960938, 2.4118998050689697, 2.4116976261138916, 2.4117186069488525, 2.4116382598876953, 2.4115149974823, 2.411409378051758, 2.41131329536438, 2.411224126815796, 2.411147117614746, 2.411083698272705, 2.4110288619995117, 2.410982131958008, 2.4109418392181396, 2.39953351020813, 2.401024341583252, 2.403714179992676, 2.403714179992676, 2.403714179992676, 2.403714179992676, 2.403714179992676, 2.403714179992676, 2.403714179992676, 2.403714179992676, 2.375664472579956, 2.2941088676452637, 2.4109418392181396, 2.4109621047973633, 2.4109842777252197, 2.411008834838867, 2.41103458404541, 2.411059617996216, 2.411083936691284, 2.4111082553863525, 2.4111344814300537, 2.4111602306365967, 2.411184549331665, 2.4112095832824707, 2.4112322330474854, 2.41125226020813, 2.4112703800201416, 2.4112846851348877, 2.4112961292266846, 2.4113030433654785, 2.411306619644165, 2.4113054275512695, 2.411264419555664, 2.4110827445983887, 2.4107959270477295, 2.4103341102600098, 2.409212827682495, 2.407623767852783, 2.4060165882110596, 2.4043495655059814, 2.4027559757232666, 2.401226043701172, 2.3996951580047607, 2.3982491493225098, 2.396883487701416, 2.3955812454223633, 2.3943445682525635, 2.3932173252105713, 2.392124891281128, 2.391054391860962, 2.39011549949646, 2.389234781265259, 2.3884189128875732, 2.3877010345458984, 2.3870177268981934, 2.3863987922668457, 2.3858799934387207, 2.385460615158081, 2.385108709335327, 2.3848180770874023, 2.384613275527954, 2.3844892978668213, 2.38444185256958, 2.384470224380493, 2.384573459625244, 2.3847405910491943, 2.384989023208618, 2.3853211402893066, 2.3857178688049316, 2.386159896850586, 2.386662483215332, 2.3872735500335693, 2.3879356384277344, 2.3886630535125732, 2.3894426822662354, 2.390255928039551, 2.3911848068237305, 2.392150402069092, 2.3931281566619873, 2.3941829204559326, 2.395301342010498, 2.396470546722412, 2.3977394104003906, 2.3990671634674072, 2.400326728820801, 2.401592969894409, 2.402930736541748, 2.4043004512786865, 2.405674457550049, 2.407045364379883, 2.4084575176239014, 2.409811496734619, 2.411129951477051, 2.4124598503112793, 2.413722276687622, 2.4149274826049805, 2.4160869121551514, 2.417156457901001, 2.418165922164917, 2.419161796569824, 2.420114755630493, 2.4210429191589355, 2.421917200088501, 2.4227006435394287, 2.423388719558716, 2.4240148067474365, 2.4246292114257812, 2.425199508666992, 2.425676107406616, 2.42610502243042, 2.426501989364624, 2.4268410205841064, 2.427128314971924, 2.427372932434082, 2.427569627761841, 2.427732467651367, 2.4278647899627686, 2.4279561042785645, 2.4280145168304443, 2.4280455112457275, 2.4280476570129395, 2.4280261993408203, 2.427985191345215, 2.427920341491699, 2.427837610244751, 2.4277424812316895, 2.427635908126831, 2.4275245666503906, 2.427401065826416, 2.4272658824920654, 2.4271292686462402, 2.4269964694976807, 2.4268577098846436, 2.426717519760132, 2.4265823364257812, 2.4264402389526367, 2.426302909851074, 2.4261696338653564, 2.426035165786743, 2.425907850265503, 2.4257867336273193, 2.4256746768951416, 2.4255635738372803, 2.42545223236084, 2.4253525733947754, 2.4252564907073975, 2.425163507461548, 2.425075054168701, 2.4249885082244873, 2.4249110221862793, 2.4248392581939697, 2.4247677326202393, 2.4246997833251953, 2.424633741378784, 2.4245691299438477, 2.4245080947875977, 2.424452304840088, 2.4243950843811035, 2.424340009689331, 2.424286365509033, 2.4021573066711426, 2.401146650314331, 2.403714179992676, 2.403714179992676, 2.403714179992676, 2.403714179992676, 2.403714179992676, 2.403714179992676, 2.403714179992676, 2.403714179992676, 2.3749661445617676, 2.3048040866851807, 2.423557996749878, 2.423490524291992, 2.4234201908111572, 2.4233500957489014, 2.4232723712921143, 2.423191785812378, 2.423111915588379, 2.423034906387329, 2.4229581356048584, 2.422877550125122, 2.42279314994812, 2.4227075576782227, 2.42262864112854, 2.4225528240203857, 2.4224720001220703, 2.422476291656494, 2.422628879547119, 2.422851085662842, 2.422842502593994, 2.421998977661133, 2.4203603267669678, 2.4186344146728516, 2.4169716835021973, 2.415313243865967, 2.4138119220733643, 2.412353754043579, 2.410900354385376, 2.4095537662506104, 2.4083008766174316, 2.4071261882781982, 2.4060325622558594, 2.4050207138061523, 2.4040935039520264, 2.4032814502716064, 2.402559757232666, 2.4018752574920654, 2.401270627975464, 2.400796890258789, 2.4004242420196533, 2.4001214504241943, 2.399909734725952, 2.3998048305511475, 2.399794816970825, 2.3998847007751465, 2.4000635147094727, 2.400329113006592, 2.4006950855255127, 2.401158332824707, 2.4017410278320312, 2.4024274349212646, 2.4031858444213867, 2.4039902687072754, 2.404872417449951, 2.4059157371520996, 2.40702223777771, 2.4082143306732178, 2.4094765186309814, 2.4108328819274902, 2.41225528717041, 2.4137065410614014, 2.415332555770874, 2.4170002937316895, 2.418736457824707, 2.4205267429351807, 2.4223248958587646, 2.4243109226226807, 2.426403522491455, 2.4283957481384277, 2.430464029312134, 2.432565927505493, 2.434694528579712, 2.43681001663208, 2.4388480186462402, 2.440917491912842, 2.4429872035980225, 2.4450225830078125, 2.4470911026000977, 2.449126958847046, 2.406938314437866, 2.4013893604278564, 2.403714179992676, 2.403714179992676, 2.403714179992676, 2.403714179992676, 2.403714179992676, 2.403714179992676, 2.403714179992676, 2.403714179992676, 2.3725109100341797, 2.3413093090057373, 2.468200445175171, 2.4691808223724365, 2.4700839519500732, 2.4709479808807373, 2.4717252254486084, 2.4724225997924805, 2.4730520248413086, 2.473616361618042, 2.474100112915039, 2.4745357036590576, 2.4749209880828857, 2.475252151489258, 2.4755330085754395, 2.475759267807007, 2.4759480953216553, 2.4761054515838623, 2.4762232303619385, 2.4763035774230957, 2.476358413696289, 2.4763875007629395, 2.4763922691345215, 2.476377487182617, 2.4763455390930176, 2.4762983322143555, 2.47623872756958, 2.4761648178100586, 2.476081132888794, 2.47599720954895, 2.475909948348999, 2.4758152961730957, 2.475712537765503, 2.475607395172119, 2.4755046367645264, 2.475407361984253, 2.475306749343872, 2.4752070903778076, 2.4751086235046387, 2.475008249282837, 2.4749157428741455, 2.4748246669769287, 2.4747347831726074, 2.4746463298797607, 2.474557399749756, 2.474472999572754, 2.4743940830230713, 2.4743146896362305, 2.474236011505127, 2.474158525466919, 2.47407865524292, 2.47400164604187, 2.4739255905151367, 2.4738495349884033, 2.473775863647461, 2.4736993312835693, 2.473621368408203, 2.473541021347046, 2.473459243774414, 2.473374843597412, 2.47328519821167, 2.4731948375701904, 2.4731063842773438, 2.473010778427124, 2.4729115962982178, 2.472806692123413, 2.4726996421813965, 2.4725916385650635, 2.472477912902832, 2.472360134124756, 2.4722366333007812, 2.4721128940582275, 2.471994400024414, 2.47187876701355, 2.471766710281372, 2.4716622829437256, 2.4715590476989746, 2.4714794158935547, 2.471806526184082, 2.4725379943847656, 2.4113223552703857, 2.401602029800415, 2.403714179992676, 2.403714179992676, 2.403714179992676, 2.403714179992676, 2.403714179992676, 2.403714179992676, 2.403714179992676, 2.403714179992676, 2.3747904300689697, 2.3055100440979004, 2.4194107055664062, 2.4135849475860596, 2.407811403274536, 2.4019219875335693, 2.3962082862854004, 2.390943765640259, 2.385448694229126, 2.3797800540924072, 2.3745195865631104, 2.3697047233581543, 2.3654305934906006, 2.361201763153076, 2.3569374084472656, 2.3531363010406494, 2.3494036197662354, 2.3458540439605713, 2.342531204223633, 2.3393728733062744, 2.3366918563842773, 2.334141731262207, 2.3317294120788574, 2.3297345638275146, 2.327946424484253, 2.3264105319976807, 2.325162410736084, 2.3241941928863525, 2.3235514163970947, 2.323181629180908, 2.3231303691864014, 2.3234124183654785, 2.3240206241607666, 2.324937343597412, 2.3261303901672363, 2.327572822570801, 2.329155445098877, 2.331024646759033, 2.3331596851348877, 2.335291624069214, 2.3376567363739014, 2.340088129043579, 2.342693328857422, 2.3453822135925293, 2.3480961322784424, 2.3511061668395996, 2.354184150695801, 2.3571739196777344, 2.360124111175537, 2.362926483154297, 2.3906993865966797, 2.400590419769287, 2.403714179992676, 2.403714179992676, 2.403714179992676, 2.403714179992676, 2.403714179992676, 2.403714179992676, 2.403714179992676, 2.403714179992676, 2.376542329788208, 2.2815730571746826, 2.398045063018799, 2.4001588821411133, 2.4020566940307617, 2.4038846492767334, 2.4056236743927, 2.4072511196136475, 2.408825159072876, 2.410304546356201, 2.4116318225860596, 2.412846326828003, 2.4139325618743896, 2.4149293899536133, 2.4159226417541504, 2.416830539703369, 2.4176313877105713, 2.4183897972106934, 2.4191019535064697, 2.4197847843170166, 2.420403003692627, 2.420971155166626, 2.421517848968506, 2.4220170974731445, 2.4224796295166016, 2.422898530960083, 2.423306465148926, 2.423696994781494, 2.4240715503692627, 2.4244282245635986, 2.4247734546661377, 2.4251186847686768, 2.4254345893859863, 2.425737142562866, 2.4260454177856445, 2.4263548851013184, 2.4266624450683594, 2.4269704818725586, 2.4272913932800293, 2.4276185035705566, 2.427938461303711, 2.4282596111297607, 2.4285728931427, 2.4288887977600098, 2.4292211532592773, 2.4295754432678223, 2.4299211502075195, 2.4302539825439453, 2.430595874786377, 2.4309418201446533, 2.4312994480133057, 2.431527853012085, 2.4313442707061768, 2.430821657180786, 2.430199384689331, 2.429344892501831, 2.4280643463134766, 2.426635980606079, 2.4252073764801025, 2.4237656593322754, 2.4223930835723877, 2.421076774597168, 2.419801712036133, 2.4186151027679443, 2.417437791824341, 2.4162962436676025, 2.415236234664917, 2.4141600131988525, 2.4131479263305664, 2.4121944904327393, 2.4112629890441895, 2.4104042053222656, 2.409609794616699, 2.4088943004608154, 2.408212184906006, 2.407552719116211, 2.406982660293579, 2.4064788818359375, 2.4060070514678955, 2.405568838119507, 2.4051828384399414, 2.4048664569854736, 2.4046082496643066, 2.4044032096862793, 2.4042539596557617, 2.4041547775268555, 2.4041004180908203, 2.404097080230713, 2.404139995574951, 2.404228687286377, 2.4043729305267334, 2.404567003250122, 2.404799699783325, 2.4050605297088623, 2.4053585529327393, 2.405722141265869, 2.406132936477661, 2.4065494537353516, 2.406991720199585, 2.4075052738189697, 2.4080634117126465, 2.408612012863159, 2.40920352935791, 2.40985107421875, 2.410511016845703, 2.411186456680298, 2.411850690841675, 2.412517786026001, 2.4132111072540283, 2.413935422897339, 2.414654016494751, 2.4153308868408203, 2.415952682495117, 2.416543483734131, 2.417149305343628, 2.417713165283203, 2.418234348297119, 2.418731927871704, 2.4191768169403076, 2.4195590019226074, 2.4199070930480957, 2.4202163219451904, 2.4204790592193604, 2.4206976890563965, 2.4208693504333496, 2.4210002422332764, 2.4210824966430664, 2.42112135887146, 2.4211196899414062, 2.421079635620117, 2.421004056930542, 2.4208905696868896, 2.4207334518432617, 2.4205501079559326, 2.420335054397583, 2.4200947284698486, 2.4198389053344727, 2.419553756713867, 2.419247627258301, 2.4189250469207764, 2.4185774326324463, 2.41823148727417, 2.417893409729004, 2.417543888092041, 2.417173147201538, 2.416800022125244, 2.416442394256592, 2.4160923957824707, 2.4157614707946777, 2.415440797805786, 2.4151153564453125, 2.414783000946045, 2.414458990097046, 2.4141688346862793, 2.4138967990875244, 2.4136271476745605, 2.4133574962615967, 2.4131083488464355, 2.41288423538208, 2.412661075592041, 2.412447452545166, 2.412262439727783, 2.412095308303833, 2.4119296073913574, 2.411774158477783, 2.4116427898406982, 2.411526918411255, 2.41141414642334, 2.411311626434326, 2.411227226257324, 2.4111526012420654, 2.4110848903656006, 2.4110302925109863, 2.410985231399536, 2.410946846008301, 2.410914897918701, 2.4108903408050537, 2.4108736515045166, 2.4108622074127197, 2.410856008529663]\n",
            "[2.436756 2.436622 2.436517 ... 2.366521 2.366202 2.365877]\n"
          ],
          "name": "stdout"
        }
      ]
    },
    {
      "cell_type": "code",
      "metadata": {
        "id": "Zp-lIztzL-5x",
        "colab_type": "code",
        "colab": {}
      },
      "source": [
        "y_pred"
      ],
      "execution_count": 0,
      "outputs": []
    },
    {
      "cell_type": "code",
      "metadata": {
        "id": "aG_L1jyNMBKU",
        "colab_type": "code",
        "colab": {
          "base_uri": "https://localhost:8080/",
          "height": 33
        },
        "outputId": "baba1e38-e985-4d2b-b1cb-da9d78feec0c"
      },
      "source": [
        "len(y_pred)"
      ],
      "execution_count": 45,
      "outputs": [
        {
          "output_type": "execute_result",
          "data": {
            "text/plain": [
              "4998"
            ]
          },
          "metadata": {
            "tags": []
          },
          "execution_count": 45
        }
      ]
    },
    {
      "cell_type": "code",
      "metadata": {
        "id": "RR8rg5SBMEc0",
        "colab_type": "code",
        "colab": {
          "base_uri": "https://localhost:8080/",
          "height": 33
        },
        "outputId": "1957a40a-2faa-4cb9-ce89-ebe029f019a9"
      },
      "source": [
        "y_test"
      ],
      "execution_count": 46,
      "outputs": [
        {
          "output_type": "execute_result",
          "data": {
            "text/plain": [
              "array([2.436756, 2.436622, 2.436517, ..., 2.366521, 2.366202, 2.365877])"
            ]
          },
          "metadata": {
            "tags": []
          },
          "execution_count": 46
        }
      ]
    },
    {
      "cell_type": "code",
      "metadata": {
        "id": "p_lKqOWbMGyE",
        "colab_type": "code",
        "colab": {
          "base_uri": "https://localhost:8080/",
          "height": 33
        },
        "outputId": "d4a1caac-2b0f-44d3-cd7f-3d109c87d4dc"
      },
      "source": [
        "len(y_test)"
      ],
      "execution_count": 47,
      "outputs": [
        {
          "output_type": "execute_result",
          "data": {
            "text/plain": [
              "4998"
            ]
          },
          "metadata": {
            "tags": []
          },
          "execution_count": 47
        }
      ]
    },
    {
      "cell_type": "code",
      "metadata": {
        "id": "k5yiC-RlMI4p",
        "colab_type": "code",
        "colab": {
          "base_uri": "https://localhost:8080/",
          "height": 265
        },
        "outputId": "a4892ba2-a96d-4942-a3ef-ad81cbd5f232"
      },
      "source": [
        "plt.plot(test_date,y_pred,label=\"Test\")\n",
        "#plt.plot(dates,scaled_data,label=\"Actual Data\")\n",
        "plt.show()"
      ],
      "execution_count": 53,
      "outputs": [
        {
          "output_type": "display_data",
          "data": {
            "image/png": "[encoded data removed]",
            "text/plain": [
              "<Figure size 432x288 with 1 Axes>"
            ]
          },
          "metadata": {
            "tags": [],
            "needs_background": "light"
          }
        }
      ]
    },
    {
      "cell_type": "code",
      "metadata": {
        "id": "d235rWyEOLtJ",
        "colab_type": "code",
        "colab": {
          "base_uri": "https://localhost:8080/",
          "height": 50
        },
        "outputId": "e188dc3b-47f9-43f2-d2de-703a4b8fa734"
      },
      "source": [
        "scaled_data"
      ],
      "execution_count": 58,
      "outputs": [
        {
          "output_type": "execute_result",
          "data": {
            "text/plain": [
              "array([20.      , 20.      , 20.      , ...,  2.564253,  2.564248,\n",
              "        0.      ])"
            ]
          },
          "metadata": {
            "tags": []
          },
          "execution_count": 58
        }
      ]
    },
    {
      "cell_type": "code",
      "metadata": {
        "id": "2HpbC2iGP5Yc",
        "colab_type": "code",
        "colab": {}
      },
      "source": [
        "scaled_data_1=scaled_data[-4998:]"
      ],
      "execution_count": 0,
      "outputs": []
    },
    {
      "cell_type": "code",
      "metadata": {
        "id": "5_DRc9RGMLQA",
        "colab_type": "code",
        "colab": {
          "base_uri": "https://localhost:8080/",
          "height": 390
        },
        "outputId": "82713c1c-c4b0-4621-f054-e7b4e77b2ba8"
      },
      "source": [
        "plt.figure(figsize = (16,6))\n",
        "plt.plot(test_date,scaled_data_1, label=\"Scrambled Data/Orignal Data\")\n",
        "plt.plot(test_date,y_pred,label=\"Noise Removed\")\n",
        "#plt.plot(dates,scaled_data,label=\"Actual Data\")\n",
        "plt.legend()\n",
        "plt.title(\"Removing Noise\")\n",
        "plt.show()"
      ],
      "execution_count": 69,
      "outputs": [
        {
          "output_type": "display_data",
          "data": {
            "image/png": "[encoded data removed]",
            "text/plain": [
              "<Figure size 1152x432 with 1 Axes>"
            ]
          },
          "metadata": {
            "tags": [],
            "needs_background": "light"
          }
        }
      ]
    },
    {
      "cell_type": "code",
      "metadata": {
        "id": "cdOok5qvMVLv",
        "colab_type": "code",
        "colab": {
          "base_uri": "https://localhost:8080/",
          "height": 590
        },
        "outputId": "f51d8995-572e-4c13-cc78-431f9796d193"
      },
      "source": [
        "plt.figure(figsize = (18,9))\n",
        "\n",
        "plt.plot(dates,scaled_data,label=\"Training\")\n",
        "plt.plot(test_date,y_pred,label=\"Forecasting\")\n",
        "#plt.plot(test_date,y_test,label=\"actual \")\n",
        "\n",
        "plt.xticks(rotation=90)\n",
        "plt.xlabel('Time Steps',fontsize=18)\n",
        "plt.legend()\n",
        "plt.title(\"Forecasting using CNN\")\n",
        "plt.show()"
      ],
      "execution_count": 56,
      "outputs": [
        {
          "output_type": "display_data",
          "data": {
            "image/png": "[encoded data removed]",
            "text/plain": [
              "<Figure size 1296x648 with 1 Axes>"
            ]
          },
          "metadata": {
            "tags": [],
            "needs_background": "light"
          }
        }
      ]
    },
    {
      "cell_type": "code",
      "metadata": {
        "id": "SGo0vmZpN7xt",
        "colab_type": "code",
        "colab": {}
      },
      "source": [
        ""
      ],
      "execution_count": 0,
      "outputs": []
    }
  ]
}