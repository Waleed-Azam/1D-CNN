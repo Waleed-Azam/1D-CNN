{
  "nbformat": 4,
  "nbformat_minor": 0,
  "metadata": {
    "colab": {
      "name": "Data_FishBehoviour.ipynb",
      "provenance": [],
      "authorship_tag": "ABX9TyPh10wFTqFc9kDC2BvZhnni",
      "include_colab_link": true
    },
    "kernelspec": {
      "name": "python3",
      "display_name": "Python 3"
    }
  },
  "cells": [
    {
      "cell_type": "markdown",
      "metadata": {
        "id": "view-in-github",
        "colab_type": "text"
      },
      "source": [
        "<a href=\"https://colab.research.google.com/github/Waleed-Azam/1D-CNN/blob/master/Data_FishBehoviour.ipynb\" target=\"_parent\"><img src=\"https://colab.research.google.com/assets/colab-badge.svg\" alt=\"Open In Colab\"/></a>"
      ]
    },
    {
      "cell_type": "code",
      "metadata": {
        "id": "4FGdartmb3v4"
      },
      "source": [
        "\n",
        "#Prepare the nice data set\n",
        "from sklearn.model_selection import train_test_split\n",
        "# univariate cnn example\n",
        "from numpy import array\n",
        "from keras.models import Sequential\n",
        "from keras.layers import Dense\n",
        "from keras.layers import Flatten\n",
        "from keras.layers.convolutional import Conv1D\n",
        "from keras.layers.convolutional import MaxPooling1D\n",
        "from sklearn.preprocessing import MinMaxScaler\n",
        "!pip install -U -q PyDrive\n",
        "from pydrive.auth import GoogleAuth\n",
        "from pydrive.drive import GoogleDrive\n",
        "from google.colab import auth\n",
        "from oauth2client.client import GoogleCredentials\n",
        "import numpy as np \n",
        "import matplotlib.pyplot as plt"
      ],
      "execution_count": 1,
      "outputs": []
    },
    {
      "cell_type": "code",
      "metadata": {
        "id": "rXSPjpyQcc0h"
      },
      "source": [
        "\n",
        "auth.authenticate_user()\n",
        "gauth = GoogleAuth()\n",
        "gauth.credentials = GoogleCredentials.get_application_default()\n",
        "drive = GoogleDrive(gauth)"
      ],
      "execution_count": 2,
      "outputs": []
    },
    {
      "cell_type": "code",
      "metadata": {
        "id": "uUdEFDtYcfiD"
      },
      "source": [
        "\n",
        "#4/4wFYAxkIiIcUUbdicptSHODI1k4A84cES-W4d4quPuW9N977ErMMXc4\n",
        "#https://drive.google.com/file/d/1HGili9OPSFdCpIpbN7lA_i5T-s0JP-8K/view?usp=sharing\n",
        "#\n",
        "#https://drive.google.com/file/d/1bpYN2xKZlZSm8ym-_m8nr4vP8Lhyyge9/view?usp=sharing\n",
        "downloaded = drive.CreateFile({'id':'1bpYN2xKZlZSm8ym-_m8nr4vP8Lhyyge9'})"
      ],
      "execution_count": 3,
      "outputs": []
    },
    {
      "cell_type": "code",
      "metadata": {
        "id": "tiA5PEqYcwTA"
      },
      "source": [
        "#Importing all the libraries\n",
        "import numpy as np\n",
        "import numpy as geek \n",
        "from keras.layers import Input, Dense, LSTM, multiply, concatenate, Activation, Masking, Reshape\n",
        "from keras.models import Sequential\n",
        "from keras.models import Model\n",
        "from keras.layers import Input, Dense, LSTM, multiply, concatenate, Activation, Masking, Reshape\n",
        "from keras.layers import BatchNormalization, GlobalAveragePooling1D, Permute, Dropout\n",
        "from keras.layers.convolutional import Conv1D\n",
        "from keras.layers.convolutional import MaxPooling1D\n",
        "from keras.optimizers import RMSprop, Adam\n",
        "from keras.layers import LSTM, Activation \n",
        "from sklearn.preprocessing import MinMaxScaler\n",
        "from keras.models import load_model\n",
        "import pandas as pd\n",
        "downloaded.GetContentFile('Pos-01.csv')\n",
        "#df1 = pd.read_csv('Test_17_sea.csv') \n",
        "df3 = pd.read_csv('Pos-01.csv') \n",
        "#df2 = pd.read_csv('Master_thesis_Data.csv')\n",
        "#df3"
      ],
      "execution_count": 4,
      "outputs": []
    },
    {
      "cell_type": "code",
      "metadata": {
        "id": "IbxQAyqsc4C0",
        "outputId": "d569e5e9-e731-432f-e5ed-ca754b6d2196",
        "colab": {
          "base_uri": "https://localhost:8080/",
          "height": 416
        }
      },
      "source": [
        "df3"
      ],
      "execution_count": 5,
      "outputs": [
        {
          "output_type": "execute_result",
          "data": {
            "text/html": [
              "<div>\n",
              "<style scoped>\n",
              "    .dataframe tbody tr th:only-of-type {\n",
              "        vertical-align: middle;\n",
              "    }\n",
              "\n",
              "    .dataframe tbody tr th {\n",
              "        vertical-align: top;\n",
              "    }\n",
              "\n",
              "    .dataframe thead th {\n",
              "        text-align: right;\n",
              "    }\n",
              "</style>\n",
              "<table border=\"1\" class=\"dataframe\">\n",
              "  <thead>\n",
              "    <tr style=\"text-align: right;\">\n",
              "      <th></th>\n",
              "      <th>North</th>\n",
              "      <th>East</th>\n",
              "      <th>Down</th>\n",
              "      <th>Vel-N</th>\n",
              "      <th>Vel-E</th>\n",
              "      <th>Vel-D</th>\n",
              "    </tr>\n",
              "  </thead>\n",
              "  <tbody>\n",
              "    <tr>\n",
              "      <th>0</th>\n",
              "      <td>16.29930</td>\n",
              "      <td>-8.36505</td>\n",
              "      <td>13.859400</td>\n",
              "      <td>-0.117900</td>\n",
              "      <td>0.053349</td>\n",
              "      <td>0.004169</td>\n",
              "    </tr>\n",
              "    <tr>\n",
              "      <th>1</th>\n",
              "      <td>-12.90380</td>\n",
              "      <td>-14.47000</td>\n",
              "      <td>14.829600</td>\n",
              "      <td>-0.065082</td>\n",
              "      <td>0.089329</td>\n",
              "      <td>0.016532</td>\n",
              "    </tr>\n",
              "    <tr>\n",
              "      <th>2</th>\n",
              "      <td>13.55190</td>\n",
              "      <td>-10.93470</td>\n",
              "      <td>8.611660</td>\n",
              "      <td>-0.065598</td>\n",
              "      <td>-0.174985</td>\n",
              "      <td>-0.043122</td>\n",
              "    </tr>\n",
              "    <tr>\n",
              "      <th>3</th>\n",
              "      <td>-8.92914</td>\n",
              "      <td>16.26870</td>\n",
              "      <td>15.704100</td>\n",
              "      <td>0.080352</td>\n",
              "      <td>0.092642</td>\n",
              "      <td>0.052840</td>\n",
              "    </tr>\n",
              "    <tr>\n",
              "      <th>4</th>\n",
              "      <td>-5.02281</td>\n",
              "      <td>-2.22254</td>\n",
              "      <td>20.048100</td>\n",
              "      <td>-0.082576</td>\n",
              "      <td>0.175662</td>\n",
              "      <td>0.037424</td>\n",
              "    </tr>\n",
              "    <tr>\n",
              "      <th>...</th>\n",
              "      <td>...</td>\n",
              "      <td>...</td>\n",
              "      <td>...</td>\n",
              "      <td>...</td>\n",
              "      <td>...</td>\n",
              "      <td>...</td>\n",
              "    </tr>\n",
              "    <tr>\n",
              "      <th>169995</th>\n",
              "      <td>7.34978</td>\n",
              "      <td>3.18424</td>\n",
              "      <td>1.622300</td>\n",
              "      <td>0.005804</td>\n",
              "      <td>-0.185846</td>\n",
              "      <td>-0.084898</td>\n",
              "    </tr>\n",
              "    <tr>\n",
              "      <th>169996</th>\n",
              "      <td>12.53270</td>\n",
              "      <td>-16.62660</td>\n",
              "      <td>8.952580</td>\n",
              "      <td>-0.125097</td>\n",
              "      <td>-0.036163</td>\n",
              "      <td>-0.019953</td>\n",
              "    </tr>\n",
              "    <tr>\n",
              "      <th>169997</th>\n",
              "      <td>16.75730</td>\n",
              "      <td>-11.27980</td>\n",
              "      <td>12.353300</td>\n",
              "      <td>-0.092896</td>\n",
              "      <td>-0.119039</td>\n",
              "      <td>0.035115</td>\n",
              "    </tr>\n",
              "    <tr>\n",
              "      <th>169998</th>\n",
              "      <td>23.39030</td>\n",
              "      <td>7.29070</td>\n",
              "      <td>0.995557</td>\n",
              "      <td>0.038640</td>\n",
              "      <td>-0.171634</td>\n",
              "      <td>0.017257</td>\n",
              "    </tr>\n",
              "    <tr>\n",
              "      <th>169999</th>\n",
              "      <td>-7.95201</td>\n",
              "      <td>-20.07340</td>\n",
              "      <td>15.320300</td>\n",
              "      <td>-0.125505</td>\n",
              "      <td>0.041591</td>\n",
              "      <td>0.018785</td>\n",
              "    </tr>\n",
              "  </tbody>\n",
              "</table>\n",
              "<p>170000 rows × 6 columns</p>\n",
              "</div>"
            ],
            "text/plain": [
              "           North      East      Down      Vel-N     Vel-E     Vel-D\n",
              "0       16.29930  -8.36505  13.859400 -0.117900  0.053349  0.004169\n",
              "1      -12.90380 -14.47000  14.829600 -0.065082  0.089329  0.016532\n",
              "2       13.55190 -10.93470   8.611660 -0.065598 -0.174985 -0.043122\n",
              "3       -8.92914  16.26870  15.704100  0.080352  0.092642  0.052840\n",
              "4       -5.02281  -2.22254  20.048100 -0.082576  0.175662  0.037424\n",
              "...          ...       ...        ...       ...       ...       ...\n",
              "169995   7.34978   3.18424   1.622300  0.005804 -0.185846 -0.084898\n",
              "169996  12.53270 -16.62660   8.952580 -0.125097 -0.036163 -0.019953\n",
              "169997  16.75730 -11.27980  12.353300 -0.092896 -0.119039  0.035115\n",
              "169998  23.39030   7.29070   0.995557  0.038640 -0.171634  0.017257\n",
              "169999  -7.95201 -20.07340  15.320300 -0.125505  0.041591  0.018785\n",
              "\n",
              "[170000 rows x 6 columns]"
            ]
          },
          "metadata": {
            "tags": []
          },
          "execution_count": 5
        }
      ]
    },
    {
      "cell_type": "code",
      "metadata": {
        "id": "gz8tKvn8c5y3"
      },
      "source": [
        ""
      ],
      "execution_count": null,
      "outputs": []
    }
  ]
}