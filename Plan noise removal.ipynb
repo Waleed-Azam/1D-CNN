{
  "nbformat": 4,
  "nbformat_minor": 0,
  "metadata": {
    "colab": {
      "name": "Untitled11.ipynb",
      "provenance": [],
      "authorship_tag": "ABX9TyOhg8BkkmnsY4wXAMGv0m84",
      "include_colab_link": true
    },
    "kernelspec": {
      "name": "python3",
      "display_name": "Python 3"
    }
  },
  "cells": [
    {
      "cell_type": "markdown",
      "metadata": {
        "id": "view-in-github",
        "colab_type": "text"
      },
      "source": [
        "<a href=\"https://colab.research.google.com/github/Waleed-Azam/1D-CNN/blob/master/Plan%20noise%20removal.ipynb\" target=\"_parent\"><img src=\"https://colab.research.google.com/assets/colab-badge.svg\" alt=\"Open In Colab\"/></a>"
      ]
    },
    {
      "cell_type": "code",
      "metadata": {
        "id": "8tPLo79baPoK",
        "colab_type": "code",
        "colab": {}
      },
      "source": [
        ""
      ],
      "execution_count": 0,
      "outputs": []
    },
    {
      "cell_type": "code",
      "metadata": {
        "id": "SzBnt3AGKaJG",
        "colab_type": "code",
        "outputId": "9b62fde1-6af8-48bd-ea75-d03eeaae377d",
        "colab": {
          "base_uri": "https://localhost:8080/",
          "height": 33
        }
      },
      "source": [
        "# univariate cnn example\n",
        "from numpy import array\n",
        "from keras.models import Sequential\n",
        "from keras.layers import Dense\n",
        "from keras.layers import Flatten\n",
        "from keras.layers.convolutional import Conv1D\n",
        "from keras.layers.convolutional import MaxPooling1D"
      ],
      "execution_count": 0,
      "outputs": [
        {
          "output_type": "stream",
          "text": [
            "Using TensorFlow backend.\n"
          ],
          "name": "stderr"
        }
      ]
    },
    {
      "cell_type": "code",
      "metadata": {
        "id": "dv3oECyncl4y",
        "colab_type": "code",
        "colab": {}
      },
      "source": [
        ""
      ],
      "execution_count": 0,
      "outputs": []
    },
    {
      "cell_type": "code",
      "metadata": {
        "id": "NUXSkI2nKcYG",
        "colab_type": "code",
        "colab": {}
      },
      "source": [
        "!pip install -U -q PyDrive\n",
        "from pydrive.auth import GoogleAuth\n",
        "from pydrive.drive import GoogleDrive\n",
        "from google.colab import auth\n",
        "from oauth2client.client import GoogleCredentials\n",
        "import numpy as np \n",
        "import matplotlib.pyplot as plt"
      ],
      "execution_count": 0,
      "outputs": []
    },
    {
      "cell_type": "code",
      "metadata": {
        "id": "sSPqo6iHcqNA",
        "colab_type": "code",
        "colab": {}
      },
      "source": [
        ""
      ],
      "execution_count": 0,
      "outputs": []
    },
    {
      "cell_type": "code",
      "metadata": {
        "id": "pZif4ADNKfg9",
        "colab_type": "code",
        "colab": {}
      },
      "source": [
        "\n",
        "auth.authenticate_user()\n",
        "gauth = GoogleAuth()\n",
        "gauth.credentials = GoogleCredentials.get_application_default()\n",
        "drive = GoogleDrive(gauth)"
      ],
      "execution_count": 0,
      "outputs": []
    },
    {
      "cell_type": "code",
      "metadata": {
        "id": "cj_wlq7WcxO4",
        "colab_type": "code",
        "colab": {}
      },
      "source": [
        "downloaded = drive.CreateFile({'id':'14RfDnc5maSGzxripjhH3Z6B2asdpFbbX'}) # replace the id with id of file you want to access'}) # replace the id with id of file you want to access\n",
        "#https://drive.google.com/file/d/1agv3WTJF7GiaUwWJGDpDQfZwX_nApM-J/view?usp=sharing\n",
        "#https://drive.google.com/file/d/14RfDnc5maSGzxripjhH3Z6B2asdpFbbX/view?usp=sharing"
      ],
      "execution_count": 0,
      "outputs": []
    },
    {
      "cell_type": "code",
      "metadata": {
        "id": "rb4ceV1gc3jn",
        "colab_type": "code",
        "colab": {}
      },
      "source": [
        "downloaded.GetContentFile('data_crupted_Alhumdulliah.csv')"
      ],
      "execution_count": 0,
      "outputs": []
    },
    {
      "cell_type": "code",
      "metadata": {
        "id": "a3aK-KHvc_1j",
        "colab_type": "code",
        "outputId": "93c6fe42-7a7b-41a0-9298-93e6e5c0b4ee",
        "colab": {
          "base_uri": "https://localhost:8080/",
          "height": 404
        }
      },
      "source": [
        "import pandas as pd\n",
        "df2 = pd.read_csv('data_crupted_Alhumdulliah.csv') \n",
        "df2"
      ],
      "execution_count": 0,
      "outputs": [
        {
          "output_type": "execute_result",
          "data": {
            "text/html": [
              "<div>\n",
              "<style scoped>\n",
              "    .dataframe tbody tr th:only-of-type {\n",
              "        vertical-align: middle;\n",
              "    }\n",
              "\n",
              "    .dataframe tbody tr th {\n",
              "        vertical-align: top;\n",
              "    }\n",
              "\n",
              "    .dataframe thead th {\n",
              "        text-align: right;\n",
              "    }\n",
              "</style>\n",
              "<table border=\"1\" class=\"dataframe\">\n",
              "  <thead>\n",
              "    <tr style=\"text-align: right;\">\n",
              "      <th></th>\n",
              "      <th>Time</th>\n",
              "      <th>DVL1</th>\n",
              "      <th>DVL2</th>\n",
              "      <th>DVL3</th>\n",
              "      <th>DVL4</th>\n",
              "      <th>DVL1_S</th>\n",
              "      <th>DVL2_S</th>\n",
              "      <th>DVL3_S</th>\n",
              "      <th>DVL4_S</th>\n",
              "    </tr>\n",
              "  </thead>\n",
              "  <tbody>\n",
              "    <tr>\n",
              "      <th>0</th>\n",
              "      <td>0.0</td>\n",
              "      <td>0.000</td>\n",
              "      <td>0.0</td>\n",
              "      <td>0.000000</td>\n",
              "      <td>0.000000</td>\n",
              "      <td>5.0</td>\n",
              "      <td>5.0</td>\n",
              "      <td>5.0</td>\n",
              "      <td>5.0</td>\n",
              "    </tr>\n",
              "    <tr>\n",
              "      <th>1</th>\n",
              "      <td>0.0</td>\n",
              "      <td>0.000</td>\n",
              "      <td>0.0</td>\n",
              "      <td>0.000000</td>\n",
              "      <td>0.000000</td>\n",
              "      <td>5.0</td>\n",
              "      <td>5.0</td>\n",
              "      <td>5.0</td>\n",
              "      <td>5.0</td>\n",
              "    </tr>\n",
              "    <tr>\n",
              "      <th>2</th>\n",
              "      <td>0.0</td>\n",
              "      <td>20.000</td>\n",
              "      <td>20.0</td>\n",
              "      <td>20.000000</td>\n",
              "      <td>20.000000</td>\n",
              "      <td>5.0</td>\n",
              "      <td>5.0</td>\n",
              "      <td>5.0</td>\n",
              "      <td>5.0</td>\n",
              "    </tr>\n",
              "    <tr>\n",
              "      <th>3</th>\n",
              "      <td>0.1</td>\n",
              "      <td>20.000</td>\n",
              "      <td>20.0</td>\n",
              "      <td>20.000000</td>\n",
              "      <td>20.000000</td>\n",
              "      <td>5.0</td>\n",
              "      <td>5.0</td>\n",
              "      <td>5.0</td>\n",
              "      <td>5.0</td>\n",
              "    </tr>\n",
              "    <tr>\n",
              "      <th>4</th>\n",
              "      <td>0.2</td>\n",
              "      <td>20.000</td>\n",
              "      <td>20.0</td>\n",
              "      <td>20.000000</td>\n",
              "      <td>20.000000</td>\n",
              "      <td>5.0</td>\n",
              "      <td>5.0</td>\n",
              "      <td>5.0</td>\n",
              "      <td>5.0</td>\n",
              "    </tr>\n",
              "    <tr>\n",
              "      <th>...</th>\n",
              "      <td>...</td>\n",
              "      <td>...</td>\n",
              "      <td>...</td>\n",
              "      <td>...</td>\n",
              "      <td>...</td>\n",
              "      <td>...</td>\n",
              "      <td>...</td>\n",
              "      <td>...</td>\n",
              "      <td>...</td>\n",
              "    </tr>\n",
              "    <tr>\n",
              "      <th>3000</th>\n",
              "      <td>299.8</td>\n",
              "      <td>0.889</td>\n",
              "      <td>5.0</td>\n",
              "      <td>0.170960</td>\n",
              "      <td>0.314458</td>\n",
              "      <td>5.0</td>\n",
              "      <td>5.0</td>\n",
              "      <td>5.0</td>\n",
              "      <td>5.0</td>\n",
              "    </tr>\n",
              "    <tr>\n",
              "      <th>3001</th>\n",
              "      <td>299.9</td>\n",
              "      <td>0.889</td>\n",
              "      <td>5.0</td>\n",
              "      <td>0.170960</td>\n",
              "      <td>0.314458</td>\n",
              "      <td>5.0</td>\n",
              "      <td>5.0</td>\n",
              "      <td>5.0</td>\n",
              "      <td>5.0</td>\n",
              "    </tr>\n",
              "    <tr>\n",
              "      <th>3002</th>\n",
              "      <td>300.0</td>\n",
              "      <td>0.889</td>\n",
              "      <td>5.0</td>\n",
              "      <td>0.170960</td>\n",
              "      <td>0.314458</td>\n",
              "      <td>5.0</td>\n",
              "      <td>5.0</td>\n",
              "      <td>5.0</td>\n",
              "      <td>5.0</td>\n",
              "    </tr>\n",
              "    <tr>\n",
              "      <th>3003</th>\n",
              "      <td>300.1</td>\n",
              "      <td>0.889</td>\n",
              "      <td>5.0</td>\n",
              "      <td>0.170960</td>\n",
              "      <td>0.314458</td>\n",
              "      <td>5.0</td>\n",
              "      <td>5.0</td>\n",
              "      <td>5.0</td>\n",
              "      <td>5.0</td>\n",
              "    </tr>\n",
              "    <tr>\n",
              "      <th>3004</th>\n",
              "      <td>300.2</td>\n",
              "      <td>0.889</td>\n",
              "      <td>5.0</td>\n",
              "      <td>0.667876</td>\n",
              "      <td>0.314458</td>\n",
              "      <td>5.0</td>\n",
              "      <td>5.0</td>\n",
              "      <td>5.0</td>\n",
              "      <td>5.0</td>\n",
              "    </tr>\n",
              "  </tbody>\n",
              "</table>\n",
              "<p>3005 rows × 9 columns</p>\n",
              "</div>"
            ],
            "text/plain": [
              "       Time    DVL1  DVL2       DVL3       DVL4  DVL1_S  DVL2_S  DVL3_S  DVL4_S\n",
              "0       0.0   0.000   0.0   0.000000   0.000000     5.0     5.0     5.0     5.0\n",
              "1       0.0   0.000   0.0   0.000000   0.000000     5.0     5.0     5.0     5.0\n",
              "2       0.0  20.000  20.0  20.000000  20.000000     5.0     5.0     5.0     5.0\n",
              "3       0.1  20.000  20.0  20.000000  20.000000     5.0     5.0     5.0     5.0\n",
              "4       0.2  20.000  20.0  20.000000  20.000000     5.0     5.0     5.0     5.0\n",
              "...     ...     ...   ...        ...        ...     ...     ...     ...     ...\n",
              "3000  299.8   0.889   5.0   0.170960   0.314458     5.0     5.0     5.0     5.0\n",
              "3001  299.9   0.889   5.0   0.170960   0.314458     5.0     5.0     5.0     5.0\n",
              "3002  300.0   0.889   5.0   0.170960   0.314458     5.0     5.0     5.0     5.0\n",
              "3003  300.1   0.889   5.0   0.170960   0.314458     5.0     5.0     5.0     5.0\n",
              "3004  300.2   0.889   5.0   0.667876   0.314458     5.0     5.0     5.0     5.0\n",
              "\n",
              "[3005 rows x 9 columns]"
            ]
          },
          "metadata": {
            "tags": []
          },
          "execution_count": 10
        }
      ]
    },
    {
      "cell_type": "code",
      "metadata": {
        "id": "TEojbAGadHQv",
        "colab_type": "code",
        "outputId": "f851d848-b652-4809-f0c7-077c6b4c1d63",
        "colab": {
          "base_uri": "https://localhost:8080/",
          "height": 404
        }
      },
      "source": [
        "df2[\"TRUE\"] = df2[\"Time\"].fillna(0)\n",
        "df2[\"DVL1\"] = df2[\"DVL1\"].fillna(0)\n",
        "df2[\"DVL2\"] = df2[\"DVL2\"].fillna(0)\n",
        "df2[\"DVL3\"] = df2[\"DVL3\"].fillna(0)\n",
        "df2[\"DVL4\"] = df2[\"DVL4\"].fillna(0)\n",
        "df2[\"DVL1_S\"] = df2[\"DVL1_S\"].fillna(0)\n",
        "df2[\"DVL2_S\"] = df2[\"DVL2_S\"].fillna(0)\n",
        "df2[\"DVL3_S\"] = df2[\"DVL3_S\"].fillna(0)\n",
        "df2[\"DVL4_S\"] = df2[\"DVL4_S\"].fillna(0)\n",
        "df2"
      ],
      "execution_count": 0,
      "outputs": [
        {
          "output_type": "execute_result",
          "data": {
            "text/html": [
              "<div>\n",
              "<style scoped>\n",
              "    .dataframe tbody tr th:only-of-type {\n",
              "        vertical-align: middle;\n",
              "    }\n",
              "\n",
              "    .dataframe tbody tr th {\n",
              "        vertical-align: top;\n",
              "    }\n",
              "\n",
              "    .dataframe thead th {\n",
              "        text-align: right;\n",
              "    }\n",
              "</style>\n",
              "<table border=\"1\" class=\"dataframe\">\n",
              "  <thead>\n",
              "    <tr style=\"text-align: right;\">\n",
              "      <th></th>\n",
              "      <th>Time</th>\n",
              "      <th>DVL1</th>\n",
              "      <th>DVL2</th>\n",
              "      <th>DVL3</th>\n",
              "      <th>DVL4</th>\n",
              "      <th>DVL1_S</th>\n",
              "      <th>DVL2_S</th>\n",
              "      <th>DVL3_S</th>\n",
              "      <th>DVL4_S</th>\n",
              "      <th>TRUE</th>\n",
              "    </tr>\n",
              "  </thead>\n",
              "  <tbody>\n",
              "    <tr>\n",
              "      <th>0</th>\n",
              "      <td>0.0</td>\n",
              "      <td>0.000</td>\n",
              "      <td>0.0</td>\n",
              "      <td>0.000000</td>\n",
              "      <td>0.000000</td>\n",
              "      <td>5.0</td>\n",
              "      <td>5.0</td>\n",
              "      <td>5.0</td>\n",
              "      <td>5.0</td>\n",
              "      <td>0.0</td>\n",
              "    </tr>\n",
              "    <tr>\n",
              "      <th>1</th>\n",
              "      <td>0.0</td>\n",
              "      <td>0.000</td>\n",
              "      <td>0.0</td>\n",
              "      <td>0.000000</td>\n",
              "      <td>0.000000</td>\n",
              "      <td>5.0</td>\n",
              "      <td>5.0</td>\n",
              "      <td>5.0</td>\n",
              "      <td>5.0</td>\n",
              "      <td>0.0</td>\n",
              "    </tr>\n",
              "    <tr>\n",
              "      <th>2</th>\n",
              "      <td>0.0</td>\n",
              "      <td>20.000</td>\n",
              "      <td>20.0</td>\n",
              "      <td>20.000000</td>\n",
              "      <td>20.000000</td>\n",
              "      <td>5.0</td>\n",
              "      <td>5.0</td>\n",
              "      <td>5.0</td>\n",
              "      <td>5.0</td>\n",
              "      <td>0.0</td>\n",
              "    </tr>\n",
              "    <tr>\n",
              "      <th>3</th>\n",
              "      <td>0.1</td>\n",
              "      <td>20.000</td>\n",
              "      <td>20.0</td>\n",
              "      <td>20.000000</td>\n",
              "      <td>20.000000</td>\n",
              "      <td>5.0</td>\n",
              "      <td>5.0</td>\n",
              "      <td>5.0</td>\n",
              "      <td>5.0</td>\n",
              "      <td>0.1</td>\n",
              "    </tr>\n",
              "    <tr>\n",
              "      <th>4</th>\n",
              "      <td>0.2</td>\n",
              "      <td>20.000</td>\n",
              "      <td>20.0</td>\n",
              "      <td>20.000000</td>\n",
              "      <td>20.000000</td>\n",
              "      <td>5.0</td>\n",
              "      <td>5.0</td>\n",
              "      <td>5.0</td>\n",
              "      <td>5.0</td>\n",
              "      <td>0.2</td>\n",
              "    </tr>\n",
              "    <tr>\n",
              "      <th>...</th>\n",
              "      <td>...</td>\n",
              "      <td>...</td>\n",
              "      <td>...</td>\n",
              "      <td>...</td>\n",
              "      <td>...</td>\n",
              "      <td>...</td>\n",
              "      <td>...</td>\n",
              "      <td>...</td>\n",
              "      <td>...</td>\n",
              "      <td>...</td>\n",
              "    </tr>\n",
              "    <tr>\n",
              "      <th>3000</th>\n",
              "      <td>299.8</td>\n",
              "      <td>0.889</td>\n",
              "      <td>5.0</td>\n",
              "      <td>0.170960</td>\n",
              "      <td>0.314458</td>\n",
              "      <td>5.0</td>\n",
              "      <td>5.0</td>\n",
              "      <td>5.0</td>\n",
              "      <td>5.0</td>\n",
              "      <td>299.8</td>\n",
              "    </tr>\n",
              "    <tr>\n",
              "      <th>3001</th>\n",
              "      <td>299.9</td>\n",
              "      <td>0.889</td>\n",
              "      <td>5.0</td>\n",
              "      <td>0.170960</td>\n",
              "      <td>0.314458</td>\n",
              "      <td>5.0</td>\n",
              "      <td>5.0</td>\n",
              "      <td>5.0</td>\n",
              "      <td>5.0</td>\n",
              "      <td>299.9</td>\n",
              "    </tr>\n",
              "    <tr>\n",
              "      <th>3002</th>\n",
              "      <td>300.0</td>\n",
              "      <td>0.889</td>\n",
              "      <td>5.0</td>\n",
              "      <td>0.170960</td>\n",
              "      <td>0.314458</td>\n",
              "      <td>5.0</td>\n",
              "      <td>5.0</td>\n",
              "      <td>5.0</td>\n",
              "      <td>5.0</td>\n",
              "      <td>300.0</td>\n",
              "    </tr>\n",
              "    <tr>\n",
              "      <th>3003</th>\n",
              "      <td>300.1</td>\n",
              "      <td>0.889</td>\n",
              "      <td>5.0</td>\n",
              "      <td>0.170960</td>\n",
              "      <td>0.314458</td>\n",
              "      <td>5.0</td>\n",
              "      <td>5.0</td>\n",
              "      <td>5.0</td>\n",
              "      <td>5.0</td>\n",
              "      <td>300.1</td>\n",
              "    </tr>\n",
              "    <tr>\n",
              "      <th>3004</th>\n",
              "      <td>300.2</td>\n",
              "      <td>0.889</td>\n",
              "      <td>5.0</td>\n",
              "      <td>0.667876</td>\n",
              "      <td>0.314458</td>\n",
              "      <td>5.0</td>\n",
              "      <td>5.0</td>\n",
              "      <td>5.0</td>\n",
              "      <td>5.0</td>\n",
              "      <td>300.2</td>\n",
              "    </tr>\n",
              "  </tbody>\n",
              "</table>\n",
              "<p>3005 rows × 10 columns</p>\n",
              "</div>"
            ],
            "text/plain": [
              "       Time    DVL1  DVL2       DVL3  ...  DVL2_S  DVL3_S  DVL4_S   TRUE\n",
              "0       0.0   0.000   0.0   0.000000  ...     5.0     5.0     5.0    0.0\n",
              "1       0.0   0.000   0.0   0.000000  ...     5.0     5.0     5.0    0.0\n",
              "2       0.0  20.000  20.0  20.000000  ...     5.0     5.0     5.0    0.0\n",
              "3       0.1  20.000  20.0  20.000000  ...     5.0     5.0     5.0    0.1\n",
              "4       0.2  20.000  20.0  20.000000  ...     5.0     5.0     5.0    0.2\n",
              "...     ...     ...   ...        ...  ...     ...     ...     ...    ...\n",
              "3000  299.8   0.889   5.0   0.170960  ...     5.0     5.0     5.0  299.8\n",
              "3001  299.9   0.889   5.0   0.170960  ...     5.0     5.0     5.0  299.9\n",
              "3002  300.0   0.889   5.0   0.170960  ...     5.0     5.0     5.0  300.0\n",
              "3003  300.1   0.889   5.0   0.170960  ...     5.0     5.0     5.0  300.1\n",
              "3004  300.2   0.889   5.0   0.667876  ...     5.0     5.0     5.0  300.2\n",
              "\n",
              "[3005 rows x 10 columns]"
            ]
          },
          "metadata": {
            "tags": []
          },
          "execution_count": 11
        }
      ]
    },
    {
      "cell_type": "code",
      "metadata": {
        "id": "tN9jHNWgefw7",
        "colab_type": "code",
        "colab": {}
      },
      "source": [
        ""
      ],
      "execution_count": 0,
      "outputs": []
    },
    {
      "cell_type": "code",
      "metadata": {
        "id": "FUXH-FP0Kx0n",
        "colab_type": "code",
        "colab": {}
      },
      "source": [
        "t=df2['Time']\n",
        "Tdata=df2['DVL1']\n",
        "X=np.array(Tdata)\n",
        "y=df2['DVL1_S']\n",
        "y=np.array(y)\n",
        "import numpy as np"
      ],
      "execution_count": 0,
      "outputs": []
    },
    {
      "cell_type": "code",
      "metadata": {
        "id": "OA_un_IBfVBO",
        "colab_type": "code",
        "outputId": "fdb10f52-55fe-4e7b-9b56-d10c3496dbf8",
        "colab": {
          "base_uri": "https://localhost:8080/",
          "height": 33
        }
      },
      "source": [
        "X"
      ],
      "execution_count": 0,
      "outputs": [
        {
          "output_type": "execute_result",
          "data": {
            "text/plain": [
              "array([ 0.   ,  0.   , 20.   , ...,  0.889,  0.889,  0.889])"
            ]
          },
          "metadata": {
            "tags": []
          },
          "execution_count": 13
        }
      ]
    },
    {
      "cell_type": "code",
      "metadata": {
        "id": "NfzhLYdMfV5X",
        "colab_type": "code",
        "outputId": "5980fa3e-8ba4-4c83-f1fd-96e0912c00ce",
        "colab": {
          "base_uri": "https://localhost:8080/",
          "height": 33
        }
      },
      "source": [
        "y"
      ],
      "execution_count": 0,
      "outputs": [
        {
          "output_type": "execute_result",
          "data": {
            "text/plain": [
              "array([5., 5., 5., ..., 5., 5., 5.])"
            ]
          },
          "metadata": {
            "tags": []
          },
          "execution_count": 14
        }
      ]
    },
    {
      "cell_type": "code",
      "metadata": {
        "id": "YV4FegBQfXnO",
        "colab_type": "code",
        "colab": {}
      },
      "source": [
        "def split_sequence(sequence, n_steps):\n",
        "\tX, z = list(), list()\n",
        "\tfor i in range(len(sequence)):\n",
        "\t\t# find the end of this pattern\n",
        "\t\tend_ix = i + n_steps\n",
        "\t\t# check if we are beyond the sequence\n",
        "\t\tif end_ix > len(sequence)-1:\n",
        "\t\t\tbreak\n",
        "\t\t# gather input and output parts of the pattern\n",
        "\t\tseq_x, seq_z = sequence[i:end_ix], sequence[end_ix]\n",
        "\t\tX.append(seq_x)\n",
        "\t\tz.append(seq_z)\n",
        "\treturn array(X), array(z)"
      ],
      "execution_count": 0,
      "outputs": []
    },
    {
      "cell_type": "code",
      "metadata": {
        "id": "MUhpCwLRgvWV",
        "colab_type": "code",
        "colab": {}
      },
      "source": [
        "scaled_data=X"
      ],
      "execution_count": 0,
      "outputs": []
    },
    {
      "cell_type": "code",
      "metadata": {
        "id": "H4JkSwvMgyE0",
        "colab_type": "code",
        "outputId": "db1c87f0-dfd8-4e97-dbce-ae9cdaf8edc2",
        "colab": {
          "base_uri": "https://localhost:8080/",
          "height": 33
        }
      },
      "source": [
        "X"
      ],
      "execution_count": 0,
      "outputs": [
        {
          "output_type": "execute_result",
          "data": {
            "text/plain": [
              "array([ 0.   ,  0.   , 20.   , ...,  0.889,  0.889,  0.889])"
            ]
          },
          "metadata": {
            "tags": []
          },
          "execution_count": 17
        }
      ]
    },
    {
      "cell_type": "code",
      "metadata": {
        "id": "EvIRzhDagzhn",
        "colab_type": "code",
        "outputId": "0b60ae01-d7d3-4033-b17a-2303473820fa",
        "colab": {
          "base_uri": "https://localhost:8080/",
          "height": 33
        }
      },
      "source": [
        "X.shape"
      ],
      "execution_count": 0,
      "outputs": [
        {
          "output_type": "execute_result",
          "data": {
            "text/plain": [
              "(3005,)"
            ]
          },
          "metadata": {
            "tags": []
          },
          "execution_count": 18
        }
      ]
    },
    {
      "cell_type": "code",
      "metadata": {
        "id": "FWtjf57hg1DX",
        "colab_type": "code",
        "colab": {}
      },
      "source": [
        "# define input sequence\n",
        "raw_seq = X\n",
        "# choose a number of time steps\n",
        "n_steps = 10\n",
        "# split into samples\n",
        "X, z = split_sequence(raw_seq, n_steps)"
      ],
      "execution_count": 0,
      "outputs": []
    },
    {
      "cell_type": "code",
      "metadata": {
        "id": "8w6BrNXyg9vA",
        "colab_type": "code",
        "colab": {}
      },
      "source": [
        "X"
      ],
      "execution_count": 0,
      "outputs": []
    },
    {
      "cell_type": "code",
      "metadata": {
        "id": "60CEzpaCg_QC",
        "colab_type": "code",
        "outputId": "e549ece9-dec1-4fef-eca4-ffca6eb652c7",
        "colab": {
          "base_uri": "https://localhost:8080/",
          "height": 33
        }
      },
      "source": [
        "X.shape"
      ],
      "execution_count": 0,
      "outputs": [
        {
          "output_type": "execute_result",
          "data": {
            "text/plain": [
              "(2995, 10)"
            ]
          },
          "metadata": {
            "tags": []
          },
          "execution_count": 21
        }
      ]
    },
    {
      "cell_type": "code",
      "metadata": {
        "id": "WiShKIMzhBkN",
        "colab_type": "code",
        "colab": {}
      },
      "source": [
        "X, z = split_sequence(raw_seq, n_steps)\n",
        "# reshape from [samples, timesteps] into [samples, timesteps, features]\n",
        "n_features = 1\n",
        "X = X.reshape((X.shape[0], X.shape[1], n_features))"
      ],
      "execution_count": 0,
      "outputs": []
    },
    {
      "cell_type": "code",
      "metadata": {
        "id": "FxWQRVO1hFMo",
        "colab_type": "code",
        "outputId": "92b03150-719a-4e62-c6b7-0e560da234ef",
        "colab": {
          "base_uri": "https://localhost:8080/",
          "height": 33
        }
      },
      "source": [
        "X.shape[0]"
      ],
      "execution_count": 0,
      "outputs": [
        {
          "output_type": "execute_result",
          "data": {
            "text/plain": [
              "2995"
            ]
          },
          "metadata": {
            "tags": []
          },
          "execution_count": 23
        }
      ]
    },
    {
      "cell_type": "code",
      "metadata": {
        "id": "GBtSaf9GhHbG",
        "colab_type": "code",
        "outputId": "98487d8f-aeee-4f07-b68c-9b878e3393d0",
        "colab": {
          "base_uri": "https://localhost:8080/",
          "height": 33
        }
      },
      "source": [
        "X.shape[1]"
      ],
      "execution_count": 0,
      "outputs": [
        {
          "output_type": "execute_result",
          "data": {
            "text/plain": [
              "10"
            ]
          },
          "metadata": {
            "tags": []
          },
          "execution_count": 24
        }
      ]
    },
    {
      "cell_type": "code",
      "metadata": {
        "id": "-o3RVrGmhIm-",
        "colab_type": "code",
        "outputId": "db67a655-5096-483d-cfa5-e49720a6c481",
        "colab": {
          "base_uri": "https://localhost:8080/",
          "height": 33
        }
      },
      "source": [
        "n_features"
      ],
      "execution_count": 0,
      "outputs": [
        {
          "output_type": "execute_result",
          "data": {
            "text/plain": [
              "1"
            ]
          },
          "metadata": {
            "tags": []
          },
          "execution_count": 25
        }
      ]
    },
    {
      "cell_type": "code",
      "metadata": {
        "id": "y7Mt3lmUhKsh",
        "colab_type": "code",
        "outputId": "992e40b8-2c52-4492-b21f-99b14f36e157",
        "colab": {
          "base_uri": "https://localhost:8080/",
          "height": 836
        }
      },
      "source": [
        "X"
      ],
      "execution_count": 0,
      "outputs": [
        {
          "output_type": "execute_result",
          "data": {
            "text/plain": [
              "array([[[ 0.        ],\n",
              "        [ 0.        ],\n",
              "        [20.        ],\n",
              "        ...,\n",
              "        [20.        ],\n",
              "        [20.        ],\n",
              "        [20.        ]],\n",
              "\n",
              "       [[ 0.        ],\n",
              "        [20.        ],\n",
              "        [20.        ],\n",
              "        ...,\n",
              "        [20.        ],\n",
              "        [20.        ],\n",
              "        [20.        ]],\n",
              "\n",
              "       [[20.        ],\n",
              "        [20.        ],\n",
              "        [20.        ],\n",
              "        ...,\n",
              "        [20.        ],\n",
              "        [20.        ],\n",
              "        [20.        ]],\n",
              "\n",
              "       ...,\n",
              "\n",
              "       [[ 0.92712292],\n",
              "        [ 0.92712292],\n",
              "        [ 0.92712292],\n",
              "        ...,\n",
              "        [ 0.889     ],\n",
              "        [ 0.889     ],\n",
              "        [ 0.889     ]],\n",
              "\n",
              "       [[ 0.92712292],\n",
              "        [ 0.92712292],\n",
              "        [ 0.889     ],\n",
              "        ...,\n",
              "        [ 0.889     ],\n",
              "        [ 0.889     ],\n",
              "        [ 0.889     ]],\n",
              "\n",
              "       [[ 0.92712292],\n",
              "        [ 0.889     ],\n",
              "        [ 0.889     ],\n",
              "        ...,\n",
              "        [ 0.889     ],\n",
              "        [ 0.889     ],\n",
              "        [ 0.889     ]]])"
            ]
          },
          "metadata": {
            "tags": []
          },
          "execution_count": 26
        }
      ]
    },
    {
      "cell_type": "code",
      "metadata": {
        "id": "v1Rm-O2WhMlL",
        "colab_type": "code",
        "outputId": "e954deb3-1ad3-4b22-f13b-6c495a3e3ad7",
        "colab": {
          "base_uri": "https://localhost:8080/",
          "height": 33
        }
      },
      "source": [
        "X.shape"
      ],
      "execution_count": 0,
      "outputs": [
        {
          "output_type": "execute_result",
          "data": {
            "text/plain": [
              "(2995, 10, 1)"
            ]
          },
          "metadata": {
            "tags": []
          },
          "execution_count": 27
        }
      ]
    },
    {
      "cell_type": "code",
      "metadata": {
        "id": "t0IRip81hOZ5",
        "colab_type": "code",
        "outputId": "2a87b09e-039b-469e-9a6d-9566f586d5cb",
        "colab": {
          "base_uri": "https://localhost:8080/",
          "height": 33
        }
      },
      "source": [
        "z"
      ],
      "execution_count": 0,
      "outputs": [
        {
          "output_type": "execute_result",
          "data": {
            "text/plain": [
              "array([20.   , 20.   , 20.   , ...,  0.889,  0.889,  0.889])"
            ]
          },
          "metadata": {
            "tags": []
          },
          "execution_count": 28
        }
      ]
    },
    {
      "cell_type": "code",
      "metadata": {
        "id": "5kKCAnAchPlD",
        "colab_type": "code",
        "outputId": "4e457066-311b-4b72-9fd7-b89abc90254f",
        "colab": {
          "base_uri": "https://localhost:8080/",
          "height": 33
        }
      },
      "source": [
        "z.shape"
      ],
      "execution_count": 0,
      "outputs": [
        {
          "output_type": "execute_result",
          "data": {
            "text/plain": [
              "(2995,)"
            ]
          },
          "metadata": {
            "tags": []
          },
          "execution_count": 29
        }
      ]
    },
    {
      "cell_type": "code",
      "metadata": {
        "id": "kuU4rR0NhSQv",
        "colab_type": "code",
        "outputId": "646963d3-6884-4d32-e98c-5c8084a4b3b6",
        "colab": {
          "base_uri": "https://localhost:8080/",
          "height": 33
        }
      },
      "source": [
        "y\n"
      ],
      "execution_count": 0,
      "outputs": [
        {
          "output_type": "execute_result",
          "data": {
            "text/plain": [
              "array([5., 5., 5., ..., 5., 5., 5.])"
            ]
          },
          "metadata": {
            "tags": []
          },
          "execution_count": 31
        }
      ]
    },
    {
      "cell_type": "code",
      "metadata": {
        "id": "okrbBCLAhVnF",
        "colab_type": "code",
        "colab": {}
      },
      "source": [
        "Label=y"
      ],
      "execution_count": 0,
      "outputs": []
    },
    {
      "cell_type": "code",
      "metadata": {
        "id": "oWUuEIYChbYs",
        "colab_type": "code",
        "outputId": "c53f9d4a-d8b6-4af0-851f-f314fdff3887",
        "colab": {
          "base_uri": "https://localhost:8080/",
          "height": 33
        }
      },
      "source": [
        "Label"
      ],
      "execution_count": 0,
      "outputs": [
        {
          "output_type": "execute_result",
          "data": {
            "text/plain": [
              "array([5., 5., 5., ..., 5., 5., 5.])"
            ]
          },
          "metadata": {
            "tags": []
          },
          "execution_count": 33
        }
      ]
    },
    {
      "cell_type": "code",
      "metadata": {
        "id": "A9N7_dTdhcU4",
        "colab_type": "code",
        "outputId": "ebb678ad-e4d2-4981-8783-cbcf8eba1d9c",
        "colab": {
          "base_uri": "https://localhost:8080/",
          "height": 33
        }
      },
      "source": [
        "Label.shape"
      ],
      "execution_count": 0,
      "outputs": [
        {
          "output_type": "execute_result",
          "data": {
            "text/plain": [
              "(3005,)"
            ]
          },
          "metadata": {
            "tags": []
          },
          "execution_count": 34
        }
      ]
    },
    {
      "cell_type": "code",
      "metadata": {
        "id": "NTchx5unheMg",
        "colab_type": "code",
        "colab": {}
      },
      "source": [
        "# split a univariate sequence into samples\n",
        "def split_sequence(sequence, n_steps):\n",
        "\tLabel, y = list(), list()\n",
        "\tfor i in range(len(sequence)):\n",
        "\t\t# find the end of this pattern\n",
        "\t\tend_ix = i + n_steps\n",
        "\t\t# check if we are beyond the sequence\n",
        "\t\tif end_ix > len(sequence)-1:\n",
        "\t\t\tbreak\n",
        "\t\t# gather input and output parts of the pattern\n",
        "\t\tseq_x, seq_y = sequence[i:end_ix], sequence[end_ix]\n",
        "\t\tLabel.append(seq_x)\n",
        "\t\ty.append(seq_y)\n",
        "\treturn array(Label), array(y)"
      ],
      "execution_count": 0,
      "outputs": []
    },
    {
      "cell_type": "code",
      "metadata": {
        "id": "v4RuM7TxhkhV",
        "colab_type": "code",
        "colab": {}
      },
      "source": [
        "raw_seq = Label\n",
        "# choose a number of time steps\n",
        "n_steps = 10\n",
        "# split into samples\n",
        "Label, y = split_sequence(raw_seq, n_steps)\n",
        "# reshape from [samples, timesteps] into [samples, timesteps, features]\n",
        "n_features = 1\n",
        "Label = Label.reshape((Label.shape[0], Label.shape[1], n_features))"
      ],
      "execution_count": 0,
      "outputs": []
    },
    {
      "cell_type": "code",
      "metadata": {
        "id": "u0v6REryhn6_",
        "colab_type": "code",
        "outputId": "6c5cdd72-7336-4887-ca0c-362948587223",
        "colab": {
          "base_uri": "https://localhost:8080/",
          "height": 836
        }
      },
      "source": [
        "Label"
      ],
      "execution_count": 0,
      "outputs": [
        {
          "output_type": "execute_result",
          "data": {
            "text/plain": [
              "array([[[5.],\n",
              "        [5.],\n",
              "        [5.],\n",
              "        ...,\n",
              "        [5.],\n",
              "        [5.],\n",
              "        [5.]],\n",
              "\n",
              "       [[5.],\n",
              "        [5.],\n",
              "        [5.],\n",
              "        ...,\n",
              "        [5.],\n",
              "        [5.],\n",
              "        [5.]],\n",
              "\n",
              "       [[5.],\n",
              "        [5.],\n",
              "        [5.],\n",
              "        ...,\n",
              "        [5.],\n",
              "        [5.],\n",
              "        [5.]],\n",
              "\n",
              "       ...,\n",
              "\n",
              "       [[5.],\n",
              "        [5.],\n",
              "        [5.],\n",
              "        ...,\n",
              "        [5.],\n",
              "        [5.],\n",
              "        [5.]],\n",
              "\n",
              "       [[5.],\n",
              "        [5.],\n",
              "        [5.],\n",
              "        ...,\n",
              "        [5.],\n",
              "        [5.],\n",
              "        [5.]],\n",
              "\n",
              "       [[5.],\n",
              "        [5.],\n",
              "        [5.],\n",
              "        ...,\n",
              "        [5.],\n",
              "        [5.],\n",
              "        [5.]]])"
            ]
          },
          "metadata": {
            "tags": []
          },
          "execution_count": 37
        }
      ]
    },
    {
      "cell_type": "code",
      "metadata": {
        "id": "157cMF0Bhqd2",
        "colab_type": "code",
        "outputId": "bd824967-2041-426c-bf80-c63661617918",
        "colab": {
          "base_uri": "https://localhost:8080/",
          "height": 33
        }
      },
      "source": [
        "Label.shape"
      ],
      "execution_count": 0,
      "outputs": [
        {
          "output_type": "execute_result",
          "data": {
            "text/plain": [
              "(2995, 10, 1)"
            ]
          },
          "metadata": {
            "tags": []
          },
          "execution_count": 38
        }
      ]
    },
    {
      "cell_type": "code",
      "metadata": {
        "id": "5YdjplB1hsAp",
        "colab_type": "code",
        "outputId": "f664b289-1eaf-4be0-c7dd-4838df9209c3",
        "colab": {
          "base_uri": "https://localhost:8080/",
          "height": 33
        }
      },
      "source": [
        "y.shape"
      ],
      "execution_count": 0,
      "outputs": [
        {
          "output_type": "execute_result",
          "data": {
            "text/plain": [
              "(2995,)"
            ]
          },
          "metadata": {
            "tags": []
          },
          "execution_count": 39
        }
      ]
    },
    {
      "cell_type": "code",
      "metadata": {
        "id": "RbtzcsMuh1O5",
        "colab_type": "code",
        "outputId": "620b915b-97c7-4eb9-d870-94a41bb39b07",
        "colab": {
          "base_uri": "https://localhost:8080/",
          "height": 836
        }
      },
      "source": [
        "X"
      ],
      "execution_count": 0,
      "outputs": [
        {
          "output_type": "execute_result",
          "data": {
            "text/plain": [
              "array([[[ 0.        ],\n",
              "        [ 0.        ],\n",
              "        [20.        ],\n",
              "        ...,\n",
              "        [20.        ],\n",
              "        [20.        ],\n",
              "        [20.        ]],\n",
              "\n",
              "       [[ 0.        ],\n",
              "        [20.        ],\n",
              "        [20.        ],\n",
              "        ...,\n",
              "        [20.        ],\n",
              "        [20.        ],\n",
              "        [20.        ]],\n",
              "\n",
              "       [[20.        ],\n",
              "        [20.        ],\n",
              "        [20.        ],\n",
              "        ...,\n",
              "        [20.        ],\n",
              "        [20.        ],\n",
              "        [20.        ]],\n",
              "\n",
              "       ...,\n",
              "\n",
              "       [[ 0.92712292],\n",
              "        [ 0.92712292],\n",
              "        [ 0.92712292],\n",
              "        ...,\n",
              "        [ 0.889     ],\n",
              "        [ 0.889     ],\n",
              "        [ 0.889     ]],\n",
              "\n",
              "       [[ 0.92712292],\n",
              "        [ 0.92712292],\n",
              "        [ 0.889     ],\n",
              "        ...,\n",
              "        [ 0.889     ],\n",
              "        [ 0.889     ],\n",
              "        [ 0.889     ]],\n",
              "\n",
              "       [[ 0.92712292],\n",
              "        [ 0.889     ],\n",
              "        [ 0.889     ],\n",
              "        ...,\n",
              "        [ 0.889     ],\n",
              "        [ 0.889     ],\n",
              "        [ 0.889     ]]])"
            ]
          },
          "metadata": {
            "tags": []
          },
          "execution_count": 40
        }
      ]
    },
    {
      "cell_type": "code",
      "metadata": {
        "id": "0luVhbEPh2qC",
        "colab_type": "code",
        "outputId": "58578f3c-0070-434b-8c9b-2c6d913a78c9",
        "colab": {
          "base_uri": "https://localhost:8080/",
          "height": 33
        }
      },
      "source": [
        "y"
      ],
      "execution_count": 0,
      "outputs": [
        {
          "output_type": "execute_result",
          "data": {
            "text/plain": [
              "array([5., 5., 5., ..., 5., 5., 5.])"
            ]
          },
          "metadata": {
            "tags": []
          },
          "execution_count": 41
        }
      ]
    },
    {
      "cell_type": "code",
      "metadata": {
        "id": "DtT9mkDwh3N9",
        "colab_type": "code",
        "colab": {}
      },
      "source": [
        "X_train  = np.array(X[:2500])\n",
        "y_train = np.array(y[:2500])\n",
        "\n",
        "X_test = np.array(X[-2500:])\n",
        "y_test = np.array(y[-2500:])"
      ],
      "execution_count": 0,
      "outputs": []
    },
    {
      "cell_type": "code",
      "metadata": {
        "id": "yo8YFBp6iEsx",
        "colab_type": "code",
        "outputId": "f9690947-a86b-45cf-da93-6d58843f287e",
        "colab": {
          "base_uri": "https://localhost:8080/",
          "height": 84
        }
      },
      "source": [
        "print(\"X_train size: {}\".format(X_train.shape))\n",
        "print(\"y_train size: {}\".format(y_train.shape))\n",
        "print(\"X_test size: {}\".format(X_test.shape))\n",
        "print(\"y_test size: {}\".format(y_test.shape))"
      ],
      "execution_count": 0,
      "outputs": [
        {
          "output_type": "stream",
          "text": [
            "X_train size: (2500, 10, 1)\n",
            "y_train size: (2500,)\n",
            "X_test size: (2500, 10, 1)\n",
            "y_test size: (2500,)\n"
          ],
          "name": "stdout"
        }
      ]
    },
    {
      "cell_type": "code",
      "metadata": {
        "id": "dHnE8w_eiHAD",
        "colab_type": "code",
        "colab": {}
      },
      "source": [
        "dates = df2['Time']\n",
        "train_date = dates[:2500]\n",
        "test_date = dates[-2500:]"
      ],
      "execution_count": 0,
      "outputs": []
    },
    {
      "cell_type": "code",
      "metadata": {
        "id": "qfcts9pJiKDC",
        "colab_type": "code",
        "colab": {}
      },
      "source": [
        "dates = df2['Time']\n",
        "train_date = dates[:45000]\n",
        "test_date = dates[-2500:]"
      ],
      "execution_count": 0,
      "outputs": []
    },
    {
      "cell_type": "code",
      "metadata": {
        "id": "xQBYj_O0iZzA",
        "colab_type": "code",
        "colab": {}
      },
      "source": [
        "X = X_train\n",
        "y = y_train"
      ],
      "execution_count": 0,
      "outputs": []
    },
    {
      "cell_type": "code",
      "metadata": {
        "id": "bgV5hzs8iaV7",
        "colab_type": "code",
        "colab": {}
      },
      "source": [
        "model = Sequential()\n",
        "model.add(Conv1D(filters=64, kernel_size=2, activation='relu', input_shape=(n_steps, n_features)))\n",
        "model.add(Conv1D(filters=64, kernel_size=2,padding='same', activation='relu'))\n",
        "model.add(Conv1D(filters=64, kernel_size=2,padding='same', activation='relu'))\n",
        "model.add(Conv1D(filters=64, kernel_size=2,padding='same', activation='relu'))\n",
        "model.add(Conv1D(filters=64, kernel_size=2,padding='same', activation='relu'))\n",
        "model.add(Conv1D(filters=64, kernel_size=2,padding='same', activation='relu'))\n",
        "model.add(Conv1D(filters=64, kernel_size=2,padding='same', activation='relu'))\n",
        "model.add(Conv1D(filters=64, kernel_size=2,padding='same', activation='relu'))\n",
        "model.add(Conv1D(filters=64, kernel_size=2,padding='same', activation='relu'))\n",
        "model.add(Conv1D(filters=64, kernel_size=2,padding='same', activation='relu'))\n",
        "model.add(Conv1D(filters=64, kernel_size=2,padding='same', activation='relu'))\n",
        "model.add(Conv1D(filters=64, kernel_size=2,padding='same', activation='relu'))\n",
        "model.add(MaxPooling1D(pool_size=2))\n",
        "model.add(Flatten())\n",
        "model.add(Dense(50, activation='relu'))\n",
        "model.add(Dense(1))\n",
        "model.compile(optimizer='adam', loss='mse')"
      ],
      "execution_count": 0,
      "outputs": []
    },
    {
      "cell_type": "code",
      "metadata": {
        "id": "1c_iYrqTidGv",
        "colab_type": "code",
        "colab": {}
      },
      "source": [
        "history=model.fit(X, y, epochs=20, verbose=0)"
      ],
      "execution_count": 0,
      "outputs": []
    },
    {
      "cell_type": "code",
      "metadata": {
        "id": "sRCsfrDPikBp",
        "colab_type": "code",
        "colab": {}
      },
      "source": [
        "#Prediction \n",
        "# demonstrate prediction\n",
        "import math\n",
        "y_pred=[]\n",
        "for i in X_test:\n",
        "    \n",
        "    x_input = i\n",
        "    x_input = x_input.reshape((1, n_steps, n_features))\n",
        "    yhat = model.predict(x_input, verbose=0)\n",
        "    y_pred.append(float(yhat[0]))\n",
        "\n",
        "# import numpy as np\n",
        "# yp = list(np.around(np.array(y_pred),1))\n",
        "# yt = list(np.around((y_test),1))\n",
        "    \n",
        "# y_pred = [ '%.1f' % elem for elem in y_pred ]\n",
        "# y_test = [ '%.1f' % elem for elem in y_pred ]"
      ],
      "execution_count": 0,
      "outputs": []
    },
    {
      "cell_type": "code",
      "metadata": {
        "id": "F7Mbs_bqipwX",
        "colab_type": "code",
        "outputId": "d88d5b04-5b56-45a2-ac1d-e87f3f08b248",
        "colab": {
          "base_uri": "https://localhost:8080/",
          "height": 70
        }
      },
      "source": [
        "print(y_pred)\n",
        "print(y_test)"
      ],
      "execution_count": 0,
      "outputs": [
        {
          "output_type": "stream",
          "text": [
            "[5.087660789489746, 5.083215236663818, 5.082529067993164, 5.080467700958252, 5.079914093017578, 5.0815653800964355, 5.082283973693848, 5.082274913787842, 5.082249164581299, 5.0932512283325195, 5.103184223175049, 5.099118232727051, 5.091179370880127, 5.0827507972717285, 5.083454132080078, 5.084620952606201, 5.084681987762451, 5.084671497344971, 5.084681034088135, 5.086677074432373, 5.089857578277588, 5.09130859375, 5.090444564819336, 5.089733600616455, 5.089620590209961, 5.089383125305176, 5.08920955657959, 5.089171409606934, 5.089170455932617, 5.108990669250488, 5.09240198135376, 5.09569787979126, 5.09410285949707, 5.090965270996094, 5.088512420654297, 5.088536262512207, 5.088864803314209, 5.088528633117676, 5.088456153869629, 5.095365047454834, 5.098515510559082, 5.091572284698486, 5.084033489227295, 5.079474449157715, 5.080574035644531, 5.081567764282227, 5.081773281097412, 5.0817766189575195, 5.081802845001221, 5.082682132720947, 5.073607921600342, 5.07219934463501, 5.0671586990356445, 5.061890602111816, 5.0765862464904785, 5.082139492034912, 5.08266019821167, 5.082802772521973, 5.082827568054199, 5.093694686889648, 5.082426071166992, 5.071691989898682, 5.072983264923096, 5.071794509887695, 5.0725836753845215, 5.074832916259766, 5.075728416442871, 5.075845241546631, 5.07583475112915, 5.078897953033447, 5.080323696136475, 5.079770565032959, 5.0787811279296875, 5.077636241912842, 5.0773820877075195, 5.077328681945801, 5.077250957489014, 5.077239036560059, 5.077239990234375, 5.079458236694336, 5.076828956604004, 5.075392723083496, 5.075303554534912, 5.0753912925720215, 5.075590133666992, 5.075822830200195, 5.075934410095215, 5.075966835021973, 5.075963020324707, 5.08896017074585, 5.084885120391846, 5.0855865478515625, 5.084158420562744, 5.08363676071167, 5.08311653137207, 5.08345365524292, 5.083591938018799, 5.083546161651611, 5.083530426025391, 5.09433650970459, 5.089322566986084, 5.094059944152832, 5.092084884643555, 5.091153144836426, 5.089902400970459, 5.089344024658203, 5.089239120483398, 5.089067459106445, 5.0890421867370605, 5.094147205352783, 5.107787609100342, 5.096507549285889, 5.084463119506836, 5.072087287902832, 5.072742938995361, 5.0753302574157715, 5.076019763946533, 5.076138019561768, 5.076146602630615, 5.0755815505981445, 5.077394008636475, 5.077890396118164, 5.077588081359863, 5.077287197113037, 5.077137470245361, 5.0770769119262695, 5.077032566070557, 5.077023983001709, 5.077023983001709, 5.0879998207092285, 5.091804027557373, 5.0897016525268555, 5.084108352661133, 5.080657005310059, 5.084409236907959, 5.08505392074585, 5.084773540496826, 5.084641456604004, 5.084638595581055, 5.093939781188965, 5.080721855163574, 5.070222854614258, 5.072309494018555, 5.07156229019165, 5.072792053222656, 5.074948787689209, 5.075741291046143, 5.075850486755371, 5.075840473175049, 5.086706638336182, 5.089072227478027, 5.086257457733154, 5.083590507507324, 5.081124782562256, 5.080699920654297, 5.080657005310059, 5.080530166625977, 5.080497741699219, 5.080499649047852, 5.082423686981201, 5.078376293182373, 5.076746940612793, 5.076516628265381, 5.076588153839111, 5.076956272125244, 5.0773091316223145, 5.0774970054626465, 5.077528476715088, 5.077529430389404, 5.092126369476318, 5.086687088012695, 5.084290981292725, 5.083914756774902, 5.084232807159424, 5.083572864532471, 5.084359169006348, 5.084650039672852, 5.084563732147217, 5.084537029266357, 5.089402198791504, 5.087473392486572, 5.091402530670166, 5.0902628898620605, 5.0897111892700195, 5.089138984680176, 5.0886712074279785, 5.088571548461914, 5.088461399078369, 5.088445663452148, 5.085178375244141, 5.079405784606934, 5.0764031410217285, 5.0723490715026855, 5.064368724822998, 5.081999778747559, 5.0879669189453125, 5.088403224945068, 5.088503837585449, 5.088490962982178, 5.095207214355469, 5.081494331359863, 5.0720319747924805, 5.073220252990723, 5.072432994842529, 5.0734429359436035, 5.075435161590576, 5.0761566162109375, 5.07628870010376, 5.0762810707092285, 5.076776027679443, 5.077530860900879, 5.077359199523926, 5.076495170593262, 5.075945854187012, 5.075886249542236, 5.075920104980469, 5.075867176055908, 5.075854778289795, 5.075859069824219, 5.085997581481934, 5.084352016448975, 5.082074165344238, 5.075286865234375, 5.071650505065918, 5.079892158508301, 5.082551956176758, 5.082614898681641, 5.0825982093811035, 5.082615852355957, 5.085365295410156, 5.0893731117248535, 5.088981628417969, 5.089589595794678, 5.089297294616699, 5.088653564453125, 5.0888447761535645, 5.088945388793945, 5.088972568511963, 5.0889716148376465, 5.090017318725586, 5.089356422424316, 5.08879280090332, 5.088957786560059, 5.089186191558838, 5.089231014251709, 5.0893449783325195, 5.0894083976745605, 5.089422225952148, 5.08942174911499, 5.089640140533447, 5.0880584716796875, 5.0869317054748535, 5.087368488311768, 5.087604522705078, 5.087737560272217, 5.087935924530029, 5.08803129196167, 5.088050365447998, 5.08804988861084, 5.0868330001831055, 5.089376449584961, 5.090131759643555, 5.089694976806641, 5.089474678039551, 5.089794158935547, 5.089649677276611, 5.089504718780518, 5.089486598968506, 5.089484691619873, 5.084150314331055, 5.087612628936768, 5.085341930389404, 5.082771301269531, 5.083005905151367, 5.085969924926758, 5.086478233337402, 5.086379528045654, 5.086385726928711, 5.086385726928711, 5.115362644195557, 5.089081764221191, 5.101310729980469, 5.0982279777526855, 5.092432022094727, 5.088118076324463, 5.088137149810791, 5.088788986206055, 5.088522911071777, 5.088447093963623, 5.085128307342529, 5.0792741775512695, 5.076190948486328, 5.072122573852539, 5.064146995544434, 5.081774711608887, 5.08778715133667, 5.0882487297058105, 5.088356018066406, 5.088342666625977, 5.090789794921875, 5.089150905609131, 5.087637901306152, 5.087925434112549, 5.087967872619629, 5.088100433349609, 5.088412761688232, 5.088562965393066, 5.088596820831299, 5.088597297668457, 5.085475921630859, 5.088613510131836, 5.085202217102051, 5.08173942565918, 5.080654621124268, 5.083355903625488, 5.083897590637207, 5.083828449249268, 5.083812236785889, 5.083815097808838, 5.08431339263916, 5.083119869232178, 5.083134651184082, 5.083259582519531, 5.082932949066162, 5.082523345947266, 5.0824079513549805, 5.082432270050049, 5.082428932189941, 5.082427501678467, 5.082191467285156, 5.082714557647705, 5.082634925842285, 5.082496643066406, 5.082639694213867, 5.082850456237793, 5.082901954650879, 5.082891941070557, 5.0828938484191895, 5.0828938484191895, 5.085390567779541, 5.08889627456665, 5.088531970977783, 5.089373588562012, 5.088810443878174, 5.088022708892822, 5.088063716888428, 5.088156223297119, 5.088181018829346, 5.088181972503662, 5.0858025550842285, 5.085903644561768, 5.0848069190979, 5.083961486816406, 5.083832263946533, 5.084072589874268, 5.0839948654174805, 5.083852767944336, 5.083830833435059, 5.0838303565979, 5.082901477813721, 5.0830817222595215, 5.082667350769043, 5.082378387451172, 5.082479476928711, 5.082717418670654, 5.0827531814575195, 5.082706928253174, 5.082699298858643, 5.082700252532959, 5.086352348327637, 5.091012001037598, 5.088099479675293, 5.088883876800537, 5.088439464569092, 5.088389873504639, 5.088876724243164, 5.0890793800354, 5.0891289710998535, 5.089127063751221, 5.086999893188477, 5.08886194229126, 5.08850622177124, 5.087555885314941, 5.087166786193848, 5.0875444412231445, 5.087434768676758, 5.087303638458252, 5.087273120880127, 5.087271213531494, 5.082462310791016, 5.0873870849609375, 5.085532188415527, 5.083004474639893, 5.083515167236328, 5.086311340332031, 5.086812496185303, 5.086750030517578, 5.086759090423584, 5.086759090423584, 5.0890655517578125, 5.093980312347412, 5.089883327484131, 5.089427471160889, 5.089499473571777, 5.088633060455322, 5.089322566986084, 5.089446544647217, 5.089487552642822, 5.089483737945557, 5.085665225982666, 5.086489200592041, 5.08428430557251, 5.082417011260986, 5.08165979385376, 5.082615375518799, 5.082691192626953, 5.082563877105713, 5.082522392272949, 5.08252477645874, 5.088801860809326, 5.086716175079346, 5.08015251159668, 5.080954551696777, 5.080351829528809, 5.0814032554626465, 5.082946300506592, 5.083462715148926, 5.083563804626465, 5.083558082580566, 5.086349010467529, 5.091139316558838, 5.0918498039245605, 5.090931415557861, 5.089846611022949, 5.089942932128906, 5.089732646942139, 5.089480876922607, 5.089431285858154, 5.089428901672363, 5.094576835632324, 5.082490921020508, 5.0717034339904785, 5.072539329528809, 5.071751594543457, 5.073115348815918, 5.075034141540527, 5.0757365226745605, 5.0758442878723145, 5.075833797454834, 5.087218761444092, 5.0862298011779785, 5.0842366218566895, 5.0771284103393555, 5.073296546936035, 5.080702304840088, 5.082875728607178, 5.082859516143799, 5.082796573638916, 5.082805633544922, 5.08321475982666, 5.083199977874756, 5.0834150314331055, 5.083492755889893, 5.0833868980407715, 5.083246231079102, 5.0832037925720215, 5.083209037780762, 5.0832085609436035, 5.0832085609436035, 5.086538791656494, 5.090251445770264, 5.088282585144043, 5.0893473625183105, 5.088983058929443, 5.088846683502197, 5.089174747467041, 5.089323043823242, 5.089362621307373, 5.089359760284424, 5.089016437530518, 5.085844993591309, 5.083951473236084, 5.084270477294922, 5.084646224975586, 5.0850830078125, 5.085597038269043, 5.085803508758545, 5.085841178894043, 5.085839748382568, 5.085755825042725, 5.082190990447998, 5.08073616027832, 5.0805511474609375, 5.080570220947266, 5.080902576446533, 5.081317901611328, 5.081522464752197, 5.081565856933594, 5.081565856933594, 5.0828351974487305, 5.079228401184082, 5.077629566192627, 5.077437877655029, 5.0775933265686035, 5.077913761138916, 5.078237533569336, 5.078408718109131, 5.078437328338623, 5.0784382820129395, 5.087148666381836, 5.09357213973999, 5.092682361602783, 5.090609550476074, 5.088542461395264, 5.08796501159668, 5.087793350219727, 5.087575912475586, 5.0875163078308105, 5.0875163078308105, 5.087460994720459, 5.087029457092285, 5.086808681488037, 5.086946487426758, 5.087024688720703, 5.087075710296631, 5.087118625640869, 5.0871381759643555, 5.0871429443359375, 5.087143421173096, 5.088097095489502, 5.082772731781006, 5.079660415649414, 5.079164981842041, 5.078794002532959, 5.079352855682373, 5.080144882202148, 5.080492973327637, 5.080569267272949, 5.080569267272949, 5.086965560913086, 5.093726634979248, 5.092895030975342, 5.091345310211182, 5.089702606201172, 5.08998966217041, 5.089840412139893, 5.0895185470581055, 5.089448928833008, 5.089445114135742, 5.089452266693115, 5.087097644805908, 5.085571765899658, 5.085773468017578, 5.085993766784668, 5.086315155029297, 5.086740016937256, 5.0869245529174805, 5.086960315704346, 5.086960792541504, 5.086928367614746, 5.089443206787109, 5.0906596183776855, 5.090400218963623, 5.089829921722412, 5.089804172515869, 5.089597702026367, 5.089455604553223, 5.089431285858154, 5.089431285858154, 5.097306251525879, 5.084588050842285, 5.076749324798584, 5.0769195556640625, 5.075865745544434, 5.076137065887451, 5.077897071838379, 5.078585624694824, 5.078673362731934, 5.078665256500244, 5.08967399597168, 5.089444160461426, 5.085231781005859, 5.0809006690979, 5.077268123626709, 5.076804161071777, 5.077033519744873, 5.077040672302246, 5.077028751373291, 5.077029705047607, 5.083397388458252, 5.078575611114502, 5.076171398162842, 5.0761284828186035, 5.075536251068115, 5.0757293701171875, 5.076163291931152, 5.076437473297119, 5.076508045196533, 5.076503276824951, 5.087893009185791, 5.087137699127197, 5.0847086906433105, 5.077294826507568, 5.073397159576416, 5.08163595199585, 5.083943843841553, 5.083899021148682, 5.083828449249268, 5.083828926086426, 5.093952178955078, 5.081313610076904, 5.070605754852295, 5.07254695892334, 5.0716962814331055, 5.072765350341797, 5.074938774108887, 5.075751304626465, 5.075870037078857, 5.07586145401001, 5.07586145401001, 5.07790994644165, 5.079047203063965, 5.0789289474487305, 5.0778913497924805, 5.076887130737305, 5.076691627502441, 5.076649188995361, 5.0765767097473145, 5.076565742492676, 5.076567649841309, 5.089486122131348, 5.098141670227051, 5.094064235687256, 5.091252326965332, 5.087529182434082, 5.0897369384765625, 5.089962959289551, 5.0895771980285645, 5.089486122131348, 5.089484214782715, 5.092621326446533, 5.083040237426758, 5.074807643890381, 5.0746355056762695, 5.074034690856934, 5.07534646987915, 5.077032089233398, 5.077698230743408, 5.077808856964111, 5.077810764312744, 5.085519313812256, 5.084221839904785, 5.0827412605285645, 5.0779266357421875, 5.07602596282959, 5.084167957305908, 5.086450576782227, 5.08643102645874, 5.086465835571289, 5.086464881896973, 5.086464881896973, 5.092592716217041, 5.088558197021484, 5.079234600067139, 5.080092430114746, 5.078297138214111, 5.078700065612793, 5.080374717712402, 5.081051349639893, 5.081202983856201, 5.08873987197876, 5.0796332359313965, 5.076210975646973, 5.074947357177734, 5.07449197769165, 5.0751423835754395, 5.076093673706055, 5.076565742492676, 5.076663017272949, 5.076657295227051, 5.076598644256592, 5.07665491104126, 5.076653957366943, 5.076632976531982, 5.0766215324401855, 5.07662296295166, 5.076623916625977, 5.076623916625977, 5.076624393463135, 5.076624393463135, 5.0880913734436035, 5.087702751159668, 5.0852460861206055, 5.077828407287598, 5.0739359855651855, 5.08211612701416, 5.084342956542969, 5.084281921386719, 5.084201335906982, 5.08419942855835, 5.093393325805664, 5.080916881561279, 5.0698466300964355, 5.072200775146484, 5.0714311599731445, 5.072821617126465, 5.074979782104492, 5.075807094573975, 5.075911521911621, 5.075901031494141, 5.10075044631958, 5.088802337646484, 5.091517448425293, 5.0902485847473145, 5.089622497558594, 5.088812351226807, 5.088723182678223, 5.088787078857422, 5.088501453399658, 5.088459014892578, 5.086980819702148, 5.089278221130371, 5.08732795715332, 5.080861568450928, 5.071760177612305, 5.082386493682861, 5.086497783660889, 5.0867815017700195, 5.086774826049805, 5.086789131164551, 5.087087154388428, 5.087656497955322, 5.087950229644775, 5.087691783905029, 5.0875725746154785, 5.087515830993652, 5.087449073791504, 5.087411403656006, 5.08740234375, 5.08740234375, 5.087016582489014, 5.08363151550293, 5.081973552703857, 5.0820159912109375, 5.082100868225098, 5.082521915435791, 5.083042621612549, 5.083268642425537, 5.083319187164307, 5.083318710327148, 5.087765216827393, 5.079626083374023, 5.075126647949219, 5.074382305145264, 5.073710918426514, 5.074435234069824, 5.075417995452881, 5.07588005065918, 5.075972557067871, 5.075963020324707, 5.075963020324707, 5.087760925292969, 5.092576503753662, 5.089687824249268, 5.08706521987915, 5.084700107574463, 5.08406400680542, 5.0839409828186035, 5.083765506744385, 5.083714485168457, 5.086510181427002, 5.090540409088135, 5.091810703277588, 5.0908918380737305, 5.0898871421813965, 5.089707851409912, 5.0894551277160645, 5.089254856109619, 5.0892109870910645, 5.089209079742432, 5.091670036315918, 5.083240985870361, 5.0783185958862305, 5.077837944030762, 5.0768818855285645, 5.077666282653809, 5.07889986038208, 5.079410552978516, 5.079510688781738, 5.079512119293213, 5.087743759155273, 5.079524993896484, 5.076833248138428, 5.075918674468994, 5.075258255004883, 5.075751304626465, 5.07647705078125, 5.076878547668457, 5.076961994171143, 5.076955318450928, 5.0905303955078125, 5.100744247436523, 5.097733497619629, 5.092562198638916, 5.086007595062256, 5.088109016418457, 5.088754177093506, 5.088522434234619, 5.08845329284668, 5.08845329284668, 5.091189384460449, 5.082033157348633, 5.0767083168029785, 5.0763654708862305, 5.0753092765808105, 5.07619047164917, 5.077500343322754, 5.07805061340332, 5.078147888183594, 5.078149795532227, 5.082043647766113, 5.084120750427246, 5.083811283111572, 5.083105564117432, 5.082272529602051, 5.082078456878662, 5.081943988800049, 5.081844806671143, 5.081823348999023, 5.08182430267334, 5.086495399475098, 5.091268062591553, 5.092055797576904, 5.0908637046813965, 5.089622974395752, 5.089347839355469, 5.089108943939209, 5.088901996612549, 5.088851451873779, 5.088850021362305, 5.0917816162109375, 5.082263469696045, 5.076483726501465, 5.076066493988037, 5.075031757354736, 5.075986862182617, 5.07736873626709, 5.077942848205566, 5.078042984008789, 5.078044414520264, 5.0788469314575195, 5.077101707458496, 5.076325416564941, 5.076269149780273, 5.07637357711792, 5.076526165008545, 5.076661586761475, 5.076733589172363, 5.076749801635742, 5.076746940612793, 5.087378978729248, 5.089984893798828, 5.0882439613342285, 5.081904888153076, 5.078455448150635, 5.0829997062683105, 5.083988189697266, 5.083776473999023, 5.0836663246154785, 5.083665370941162, 5.081603050231934, 5.085958003997803, 5.0844597816467285, 5.083327770233154, 5.084381103515625, 5.086144924163818, 5.086401462554932, 5.086374759674072, 5.086380958557129, 5.086381435394287, 5.087340354919434, 5.084497928619385, 5.084386348724365, 5.084380626678467, 5.083704948425293, 5.082911014556885, 5.082705020904541, 5.082744598388672, 5.082736492156982, 5.082733154296875, 5.1129350662231445, 5.087731838226318, 5.099121570587158, 5.096793174743652, 5.091953277587891, 5.088212013244629, 5.088230609893799, 5.088825225830078, 5.088537693023682, 5.088461399078369, 5.0875163078308105, 5.091251373291016, 5.088709354400635, 5.081515789031982, 5.072110652923584, 5.0816497802734375, 5.085430145263672, 5.085788249969482, 5.0858073234558105, 5.085822105407715, 5.106955051422119, 5.092985153198242, 5.094058990478516, 5.093154430389404, 5.0907721519470215, 5.088630199432373, 5.088652610778809, 5.08887243270874, 5.088527202606201, 5.088461399078369, 5.083898544311523, 5.076229572296143, 5.069929122924805, 5.06525993347168, 5.055854797363281, 5.0745086669921875, 5.081818103790283, 5.082732200622559, 5.082995891571045, 5.083005905151367, 5.094743251800537, 5.08278226852417, 5.07224702835083, 5.073345184326172, 5.072257041931152, 5.073014736175537, 5.075195789337158, 5.0760393142700195, 5.076173305511475, 5.076168537139893, 5.083242416381836, 5.084254264831543, 5.082074165344238, 5.079948425292969, 5.077878952026367, 5.077573776245117, 5.077606678009033, 5.077535152435303, 5.077520847320557, 5.0775227546691895, 5.0864577293396, 5.0800371170043945, 5.0789690017700195, 5.078371047973633, 5.077402114868164, 5.0775651931762695, 5.078058242797852, 5.078329563140869, 5.078369140625, 5.078363418579102, 5.0827412605285645, 5.081718921661377, 5.08238410949707, 5.083060264587402, 5.082442283630371, 5.0820631980896, 5.082086086273193, 5.082092761993408, 5.082092761993408, 5.082089900970459, 5.095358848571777, 5.097802639007568, 5.090719223022461, 5.083065986633301, 5.077361583709717, 5.076645851135254, 5.077192783355713, 5.077272891998291, 5.077279567718506, 5.077286720275879, 5.077425003051758, 5.079160213470459, 5.079654216766357, 5.0792999267578125, 5.078914642333984, 5.078793525695801, 5.078705310821533, 5.078646659851074, 5.078638076782227, 5.078638076782227, 5.085883617401123, 5.085339069366455, 5.08376407623291, 5.078531742095947, 5.07643985748291, 5.083612442016602, 5.085625171661377, 5.08554220199585, 5.085565090179443, 5.08556604385376, 5.0963945388793945, 5.084845542907715, 5.075473308563232, 5.0749945640563965, 5.0731964111328125, 5.073122024536133, 5.075349807739258, 5.076269149780273, 5.076430320739746, 5.076422691345215, 5.076422691345215, 5.083329200744629, 5.079054355621338, 5.077489852905273, 5.0717644691467285, 5.068979263305664, 5.080957412719727, 5.08502197265625, 5.085292339324951, 5.0853800773620605, 5.085382461547852, 5.08699893951416, 5.092211723327637, 5.089991569519043, 5.08943510055542, 5.089382171630859, 5.088715076446533, 5.089198112487793, 5.089316368103027, 5.089351177215576, 5.089349746704102, 5.089653015136719, 5.089498996734619, 5.089375019073486, 5.089360237121582, 5.089423656463623, 5.0894293785095215, 5.089461803436279, 5.089479923248291, 5.089483261108398, 5.089483737945557, 5.090232849121094, 5.088536739349365, 5.087132930755615, 5.087667465209961, 5.087879657745361, 5.088014125823975, 5.088251113891602, 5.088366508483887, 5.088389873504639, 5.088390827178955, 5.085633277893066, 5.087294578552246, 5.084972381591797, 5.082070350646973, 5.081398963928223, 5.085066795349121, 5.085812568664551, 5.085695266723633, 5.085699081420898, 5.08569860458374, 5.094776630401611, 5.083676338195801, 5.073638916015625, 5.0738348960876465, 5.072105884552002, 5.072494983673096, 5.074756145477295, 5.07572078704834, 5.075845718383789, 5.075834274291992, 5.080339431762695, 5.0771307945251465, 5.076460361480713, 5.076782703399658, 5.076699733734131, 5.0767130851745605, 5.076776504516602, 5.076853275299072, 5.076868534088135, 5.076866149902344, 5.090202331542969, 5.0991010665893555, 5.096426963806152, 5.091270446777344, 5.085536003112793, 5.088752269744873, 5.0895280838012695, 5.089239120483398, 5.089156627655029, 5.089154243469238, 5.093352794647217, 5.082112789154053, 5.073915481567383, 5.0733466148376465, 5.072602272033691, 5.073829650878906, 5.07552433013916, 5.076200485229492, 5.076303482055664, 5.0762939453125, 5.089729309082031, 5.098174571990967, 5.095839977264404, 5.092899322509766, 5.0890727043151855, 5.088034152984619, 5.087852478027344, 5.087594032287598, 5.087531089782715, 5.087531566619873, 5.085813999176025, 5.08950138092041, 5.085432529449463, 5.082106113433838, 5.080236434936523, 5.0822930335998535, 5.082598686218262, 5.082479476928711, 5.082418918609619, 5.082427024841309, 5.085517406463623, 5.090636730194092, 5.0889153480529785, 5.089358806610107, 5.089254856109619, 5.088917255401611, 5.0892767906188965, 5.089410305023193, 5.089445114135742, 5.089442253112793, 5.084931373596191, 5.087857246398926, 5.084729194641113, 5.081908702850342, 5.081034183502197, 5.082870006561279, 5.083140850067139, 5.083052158355713, 5.083022117614746, 5.083027362823486, 5.086622714996338, 5.092331886291504, 5.088239669799805, 5.088773250579834, 5.088466644287109, 5.088324546813965, 5.088913440704346, 5.089112758636475, 5.089166164398193, 5.089163780212402, 5.094141483306885, 5.082193374633789, 5.073094367980957, 5.072861194610596, 5.072007656097412, 5.073375701904297, 5.075187683105469, 5.075879096984863, 5.0759806632995605, 5.07597017288208, 5.085348606109619, 5.083505153656006, 5.0814642906188965, 5.075430393218994, 5.072622776031494, 5.081525802612305, 5.084366798400879, 5.084406852722168, 5.084445953369141, 5.084453105926514, 5.086166858673096, 5.0845112800598145, 5.084667682647705, 5.084953784942627, 5.084166049957275, 5.083243370056152, 5.083019256591797, 5.083040237426758, 5.083032131195068, 5.083027362823486, 5.097148418426514, 5.085549831390381, 5.077804088592529, 5.077422142028809, 5.075789928436279, 5.075727462768555, 5.0777411460876465, 5.078575611114502, 5.078688144683838, 5.078682899475098, 5.092394828796387, 5.094180583953857, 5.08908224105835, 5.083638668060303, 5.079131603240967, 5.078402996063232, 5.0786614418029785, 5.078601360321045, 5.0785908699035645, 5.078593730926514, 5.085539817810059, 5.078863620758057, 5.075962066650391, 5.075523376464844, 5.074748516082764, 5.075148105621338, 5.075834274291992, 5.07619047164917, 5.076289176940918, 5.0762834548950195, 5.082622528076172, 5.083460807800293, 5.081522464752197, 5.079488277435303, 5.077491283416748, 5.077185153961182, 5.077195167541504, 5.077132225036621, 5.077120304107666, 5.077120780944824, 5.088829040527344, 5.0958638191223145, 5.092214584350586, 5.088740348815918, 5.085347652435303, 5.088167667388916, 5.088482856750488, 5.08815860748291, 5.088073253631592, 5.088067054748535, 5.093283653259277, 5.081528663635254, 5.070547103881836, 5.0722880363464355, 5.071541786193848, 5.073040008544922, 5.075079917907715, 5.075842380523682, 5.075944423675537, 5.075932502746582, 5.079051971435547, 5.076475143432617, 5.075364589691162, 5.075689792633057, 5.07564115524292, 5.075693607330322, 5.075831413269043, 5.075930595397949, 5.075960636138916, 5.075959205627441, 5.086463928222656, 5.08436393737793, 5.081793308258057, 5.074568271636963, 5.070687294006348, 5.079518795013428, 5.082402229309082, 5.082484722137451, 5.08245325088501, 5.082472324371338, 5.112502574920654, 5.087858200073242, 5.098439693450928, 5.096324443817139, 5.091773986816406, 5.0882439613342285, 5.0882649421691895, 5.088834285736084, 5.0885396003723145, 5.088464260101318, 5.088235855102539, 5.093544006347656, 5.090181350708008, 5.082335472106934, 5.07235860824585, 5.080549240112305, 5.084002494812012, 5.084392547607422, 5.084445476531982, 5.084463119506836, 5.086536407470703, 5.086576461791992, 5.084977626800537, 5.080679893493652, 5.079570293426514, 5.08521842956543, 5.08668851852417, 5.086595058441162, 5.086609840393066, 5.086609840393066, 5.091122150421143, 5.0948100090026855, 5.087798118591309, 5.0879058837890625, 5.087125301361084, 5.086452484130859, 5.087398052215576, 5.087680816650391, 5.08776330947876, 5.087756633758545, 5.087046146392822, 5.089390754699707, 5.090425491333008, 5.090292453765869, 5.089813232421875, 5.08977746963501, 5.0895915031433105, 5.089471817016602, 5.089451789855957, 5.089451789855957, 5.08746862411499, 5.088292121887207, 5.087559223175049, 5.08692741394043, 5.086721420288086, 5.086997032165527, 5.086904525756836, 5.0868072509765625, 5.086782932281494, 5.086781978607178, 5.092784404754639, 5.080969333648682, 5.070016384124756, 5.072220325469971, 5.07150936126709, 5.07303524017334, 5.075108051300049, 5.075887203216553, 5.075992584228516, 5.075981616973877, 5.090219974517822, 5.099722862243652, 5.0956501960754395, 5.0926103591918945, 5.088216304779053, 5.089696884155273, 5.089844226837158, 5.089483261108398, 5.0894012451171875, 5.08939790725708, 5.088985919952393, 5.086768627166748, 5.085469722747803, 5.085839748382568, 5.086137294769287, 5.086440086364746, 5.086795330047607, 5.086945056915283, 5.086977005004883, 5.086977005004883, 5.085378646850586, 5.090005397796631, 5.087927341461182, 5.086264610290527, 5.085021018981934, 5.0855817794799805, 5.085507869720459, 5.085247039794922, 5.0851731300354, 5.085170745849609, 5.081361293792725, 5.0873260498046875, 5.085622787475586, 5.083184242248535, 5.0839738845825195, 5.086529731750488, 5.0869574546813965, 5.086904048919678, 5.086913585662842, 5.086913108825684, 5.087676525115967, 5.0911712646484375, 5.087869167327881, 5.087880611419678, 5.086947917938232, 5.085813045501709, 5.086089611053467, 5.086196422576904, 5.086227893829346, 5.086223602294922, 5.084239482879639, 5.0842366218566895, 5.083343505859375, 5.082601547241211, 5.082512855529785, 5.082951068878174, 5.082976818084717, 5.082881927490234, 5.082861423492432, 5.082862854003906, 5.082019805908203, 5.0845770835876465, 5.084105491638184, 5.083371162414551, 5.084087371826172, 5.085345268249512, 5.0854668617248535, 5.085433483123779, 5.085432052612305, 5.085434436798096, 5.0910210609436035, 5.092192649841309, 5.085351943969727, 5.085417747497559, 5.084306240081787, 5.08425760269165, 5.08555793762207, 5.08594274520874, 5.086034297943115, 5.086028099060059, 5.085809707641602, 5.091007709503174, 5.087680816650391, 5.085143089294434, 5.083270072937012, 5.084422588348389, 5.084454536437988, 5.084210395812988, 5.084124565124512, 5.0841217041015625, 5.08773136138916, 5.090587139129639, 5.087790012359619, 5.08834171295166, 5.087863445281982, 5.087918281555176, 5.088368892669678, 5.088579177856445, 5.088624954223633, 5.088623523712158, 5.085463523864746, 5.08834171295166, 5.0851898193359375, 5.0818562507629395, 5.080923080444336, 5.083845138549805, 5.0844502449035645, 5.084376335144043, 5.084369659423828, 5.0843729972839355, 5.085930824279785, 5.088022232055664, 5.087344169616699, 5.087809085845947, 5.0867133140563965, 5.0858025550842285, 5.08573055267334, 5.085801601409912, 5.085824489593506, 5.085823059082031, 5.0839948654174805, 5.084007740020752, 5.083187580108643, 5.082492351531982, 5.082432746887207, 5.082870006561279, 5.082902908325195, 5.082817554473877, 5.082798957824707, 5.08280086517334, 5.098125457763672, 5.086513042449951, 5.0809245109558105, 5.080769062042236, 5.078451633453369, 5.077877998352051, 5.079823017120361, 5.080673694610596, 5.080745220184326, 5.0807271003723145, 5.088273525238037, 5.0919694900512695, 5.090527534484863, 5.083529949188232, 5.07890510559082, 5.087649822235107, 5.089858531951904, 5.089592456817627, 5.089485168457031, 5.089478492736816, 5.089932441711426, 5.087657451629639, 5.085973739624023, 5.08608341217041, 5.0862016677856445, 5.086480140686035, 5.086914539337158, 5.087106704711914, 5.087144374847412, 5.087143898010254, 5.0870585441589355, 5.0893049240112305, 5.0902934074401855, 5.090038299560547, 5.089658737182617, 5.0896077156066895, 5.0894269943237305, 5.089323997497559, 5.089304447174072, 5.089303016662598, 5.085566997528076, 5.088046550750732, 5.084772109985352, 5.082033157348633, 5.080817699432373, 5.082400798797607, 5.082590103149414, 5.0824666023254395, 5.0824198722839355, 5.082424163818359, 5.086253643035889, 5.091620445251465, 5.088199615478516, 5.088769435882568, 5.088306427001953, 5.088231086730957, 5.088813304901123, 5.089033126831055, 5.089087963104248, 5.089085102081299, 5.099710464477539, 5.08783483505249, 5.083554744720459, 5.082757949829102, 5.0810017585754395, 5.080517768859863, 5.082085132598877, 5.0827507972717285, 5.082722187042236, 5.082691669464111, 5.084121227264404, 5.0841546058654785, 5.081504821777344, 5.078536033630371, 5.077193737030029, 5.07742977142334, 5.077772617340088, 5.0778326988220215, 5.077851295471191, 5.077855587005615, 5.093082904815674, 5.103921413421631, 5.099092483520508, 5.0925612449646, 5.086028575897217, 5.0846357345581055, 5.084891319274902, 5.084789276123047, 5.084754943847656, 5.0847578048706055, 5.086780548095703, 5.0874738693237305, 5.085378646850586, 5.080814361572266, 5.079361915588379, 5.084282875061035, 5.085433483123779, 5.085319519042969, 5.08532190322876, 5.085322856903076, 5.0865888595581055, 5.091207981109619, 5.089473247528076, 5.089319705963135, 5.088737964630127, 5.08787202835083, 5.088141918182373, 5.088244438171387, 5.088274002075195, 5.088274002075195, 5.0832672119140625, 5.0874924659729, 5.0852274894714355, 5.082787990570068, 5.08336067199707, 5.0858964920043945, 5.0863423347473145, 5.086276531219482, 5.086282730102539, 5.086282253265381, 5.0934224128723145, 5.085293292999268, 5.074409008026123, 5.075885772705078, 5.074207305908203, 5.075054168701172, 5.0769758224487305, 5.077822208404541, 5.077967166900635, 5.077966690063477, 5.0860066413879395, 5.086354732513428, 5.084399700164795, 5.078231334686279, 5.075297832489014, 5.081844329833984, 5.083712100982666, 5.083698272705078, 5.0836663246154785, 5.083672523498535, 5.090216159820557, 5.089511394500732, 5.082387447357178, 5.082528591156006, 5.0813822746276855, 5.081995010375977, 5.083540439605713, 5.084021091461182, 5.084123134613037, 5.084115982055664, 5.086836338043213, 5.091553688049316, 5.087186336517334, 5.083229064941406, 5.080601692199707, 5.082942485809326, 5.083283424377441, 5.083114147186279, 5.083020210266113, 5.08302116394043, 5.086300849914551, 5.090237140655518, 5.088407516479492, 5.089480876922607, 5.089106559753418, 5.0889153480529785, 5.089230537414551, 5.089369297027588, 5.089407444000244, 5.089404106140137, 5.09253454208374, 5.082870006561279, 5.075953960418701, 5.075168609619141, 5.074415683746338, 5.075595378875732, 5.077157020568848, 5.077785491943359, 5.077890872955322, 5.0778937339782715, 5.077915668487549, 5.077862739562988, 5.077845573425293, 5.077847957611084, 5.077856540679932, 5.077859878540039, 5.07786226272583, 5.077864170074463, 5.077865123748779, 5.077865123748779, 5.078210830688477, 5.077375411987305, 5.07696008682251, 5.077004909515381, 5.077134609222412, 5.07721471786499, 5.077265739440918, 5.077295780181885, 5.077300071716309, 5.077300071716309, 5.081452369689941, 5.077169418334961, 5.075150012969971, 5.075114727020264, 5.075044631958008, 5.075239658355713, 5.07560396194458, 5.075788974761963, 5.075839519500732, 5.07583475112915, 5.07907772064209, 5.0805206298828125, 5.079874515533447, 5.078868865966797, 5.077693462371826, 5.0774407386779785, 5.077390670776367, 5.077312469482422, 5.07729959487915, 5.077300548553467, 5.078797817230225, 5.08098030090332, 5.0810675621032715, 5.080484867095947, 5.079836845397949, 5.079664707183838, 5.079548358917236, 5.079470634460449, 5.079455375671387, 5.079456329345703, 5.087693691253662, 5.095522403717041, 5.092667102813721, 5.090798854827881, 5.088571071624756, 5.089881420135498, 5.089908599853516, 5.0895676612854, 5.089484214782715, 5.089480876922607, 5.086266994476318, 5.086597919464111, 5.085009574890137, 5.083824634552002, 5.083478927612305, 5.083863258361816, 5.083789825439453, 5.083613872528076, 5.083579063415527, 5.083579063415527, 5.087057113647461, 5.089656829833984, 5.088539123535156, 5.089315414428711, 5.089138031005859, 5.089001655578613, 5.089277267456055, 5.0893964767456055, 5.089428901672363, 5.089427471160889, 5.094494342803955, 5.082612991333008, 5.071949481964111, 5.072592258453369, 5.071739196777344, 5.073188304901123, 5.075096607208252, 5.075814723968506, 5.075912952423096, 5.075901508331299, 5.076816082000732, 5.075798988342285, 5.075573921203613, 5.075695514678955, 5.075758457183838, 5.075784206390381, 5.075814247131348, 5.075831890106201, 5.075837135314941, 5.075836181640625, 5.088995456695557, 5.095362663269043, 5.092915058135986, 5.087700843811035, 5.084214210510254, 5.08855676651001, 5.089264869689941, 5.088891983032227, 5.0887885093688965, 5.088784217834473, 5.097153186798096, 5.083470821380615, 5.075229167938232, 5.075717926025391, 5.0746073722839355, 5.075076580047607, 5.07694149017334, 5.077658176422119, 5.0777764320373535, 5.077768802642822, 5.088070869445801, 5.088387489318848, 5.085790157318115, 5.078251361846924, 5.0742692947387695, 5.083191871643066, 5.085604667663574, 5.085561275482178, 5.085481643676758, 5.085474491119385, 5.088980674743652, 5.0901594161987305, 5.088272571563721, 5.088589191436768, 5.088369369506836, 5.088474750518799, 5.088838577270508, 5.089005947113037, 5.089044570922852, 5.089044094085693, 5.0885443687438965, 5.089479446411133, 5.089878082275391, 5.089812755584717, 5.089598178863525, 5.08958101272583, 5.089485168457031, 5.08942985534668, 5.089419841766357, 5.089418888092041, 5.089714527130127, 5.088563442230225, 5.088078498840332, 5.088497638702393, 5.088693141937256, 5.088749885559082, 5.088860511779785, 5.088915824890137, 5.088927268981934, 5.088929176330566, 5.092562198638916, 5.082036018371582, 5.07501745223999, 5.0741705894470215, 5.07330322265625, 5.074436187744141, 5.076008319854736, 5.076654434204102, 5.076763153076172, 5.076752662658691, 5.085439205169678, 5.088232517242432, 5.086717128753662, 5.085258960723877, 5.083861351013184, 5.083517551422119, 5.083374977111816, 5.083223819732666, 5.083183288574219, 5.083184242248535, 5.092578411102295, 5.0837082862854, 5.0783538818359375, 5.078495979309082, 5.078306674957275, 5.07850980758667, 5.07960844039917, 5.080090522766113, 5.080106258392334, 5.0800909996032715, 5.0824689865112305, 5.074677467346191, 5.073256492614746, 5.068020820617676, 5.063737869262695, 5.077883720397949, 5.0831427574157715, 5.083621501922607, 5.083756446838379, 5.083771705627441, 5.084553241729736, 5.083266735076904, 5.083484172821045, 5.083709239959717, 5.083252429962158, 5.0826826095581055, 5.082525253295898, 5.082550048828125, 5.082545280456543, 5.082542419433594, 5.091467380523682, 5.082723140716553, 5.0717387199401855, 5.074186325073242, 5.073238849639893, 5.07480001449585, 5.076822757720947, 5.077637195587158, 5.077766418457031, 5.077766418457031, 5.0781941413879395, 5.077220916748047, 5.076765537261963, 5.076816558837891, 5.076923847198486, 5.077001571655273, 5.0770583152771, 5.077091693878174, 5.077096462249756, 5.0770955085754395, 5.07890510559082, 5.081137180328369, 5.081131458282471, 5.080531120300293, 5.079813480377197, 5.079625606536865, 5.0795087814331055, 5.079424858093262, 5.079410076141357, 5.079410552978516, 5.104190826416016, 5.0902276039123535, 5.092057228088379, 5.090510845184326, 5.089147090911865, 5.088048934936523, 5.088329315185547, 5.088493824005127, 5.088169574737549, 5.088112831115723, 5.087009906768799, 5.090794563293457, 5.088511943817139, 5.081623077392578, 5.072648048400879, 5.082336902618408, 5.086088180541992, 5.086377143859863, 5.086376190185547, 5.086389541625977, 5.087141036987305, 5.088531017303467, 5.0894269943237305, 5.088848114013672, 5.088506698608398, 5.088415145874023, 5.088273048400879, 5.088188648223877, 5.088169097900391, 5.088168621063232, 5.0880937576293945, 5.0878586769104, 5.087713718414307, 5.087773323059082, 5.087812423706055, 5.087827205657959, 5.087850570678711, 5.087860107421875, 5.087862968444824, 5.087863445281982, 5.086639881134033, 5.089545249938965, 5.0899739265441895, 5.089235782623291, 5.089049816131592, 5.08949089050293, 5.08936071395874, 5.0892014503479, 5.089181900024414, 5.089179039001465, 5.092792510986328, 5.082878112792969, 5.073240756988525, 5.073813438415527, 5.073177814483643, 5.074615955352783, 5.076422691345215, 5.077136039733887, 5.07725191116333, 5.077253341674805, 5.089150428771973, 5.097955226898193, 5.09515380859375, 5.092628479003906, 5.0895867347717285, 5.089864730834961, 5.0897345542907715, 5.089391708374023, 5.089313507080078, 5.089310646057129, 5.088913440704346, 5.0894694328308105, 5.0897040367126465, 5.089679718017578, 5.089547634124756, 5.089539051055908, 5.08948278427124, 5.089447975158691, 5.089442253112793, 5.089442253112793, 5.088507652282715, 5.0892653465271, 5.0894083976745605, 5.0890889167785645, 5.089026927947998, 5.089167594909668, 5.089115619659424, 5.089061737060547, 5.089054584503174, 5.089052677154541, 5.089156150817871, 5.089134216308594, 5.089175224304199, 5.089219093322754, 5.089229583740234, 5.0892181396484375, 5.089224815368652, 5.089229106903076, 5.089230060577393, 5.089230537414551, 5.086445331573486, 5.086721897125244, 5.085429668426514, 5.084480285644531, 5.08431339263916, 5.084545612335205, 5.084438800811768, 5.084270477294922, 5.0842437744140625, 5.084242820739746, 5.086013317108154, 5.086205959320068, 5.08703088760376, 5.0875091552734375, 5.087510585784912, 5.087230205535889, 5.087211608886719, 5.0872626304626465, 5.087273597717285, 5.087274551391602, 5.092972278594971, 5.081052780151367, 5.070165157318115, 5.072209358215332, 5.071497440338135, 5.073009490966797, 5.075078964233398, 5.075851917266846, 5.075954437255859, 5.075943946838379, 5.089452743530273, 5.096956253051758, 5.093967437744141, 5.089717388153076, 5.086002826690674, 5.089450836181641, 5.089972496032715, 5.089587688446045, 5.0894856452941895, 5.089481830596924, 5.09192419052124, 5.084310531616211, 5.079212665557861, 5.0786824226379395, 5.077899932861328, 5.078838348388672, 5.080178260803223, 5.080692768096924, 5.080799579620361, 5.080799102783203, 5.087117671966553, 5.093972206115723, 5.089980602264404, 5.087362289428711, 5.084519863128662, 5.086287975311279, 5.0864763259887695, 5.0862135887146, 5.0861005783081055, 5.086097240447998, 5.095943450927734, 5.082234859466553, 5.0734639167785645, 5.074468612670898, 5.073381423950195, 5.074052810668945, 5.07605504989624, 5.076807975769043, 5.076939105987549, 5.076931953430176, 5.093026161193848, 5.099480152130127, 5.0952277183532715, 5.089028835296631, 5.084169864654541, 5.083199977874756, 5.08330774307251, 5.083187580108643, 5.083149433135986, 5.0831499099731445, 5.086757183074951, 5.093071937561035, 5.090445041656494, 5.0885725021362305, 5.08657693862915, 5.08758544921875, 5.087586402893066, 5.087325096130371, 5.087251663208008, 5.087246417999268, 5.0961174964904785, 5.082361221313477, 5.073774337768555, 5.074681282043457, 5.073592662811279, 5.074256896972656, 5.076216220855713, 5.07695198059082, 5.077080726623535, 5.077073574066162, 5.0834059715271, 5.08372688293457, 5.081315040588379, 5.078797817230225, 5.076658725738525, 5.076406002044678, 5.076448440551758, 5.0764031410217285, 5.076389312744141, 5.076391696929932, 5.089296340942383, 5.095804214477539, 5.09271240234375, 5.088589668273926, 5.085092067718506, 5.088348865509033, 5.0887603759765625, 5.088415145874023, 5.08832311630249, 5.088316917419434, 5.0857720375061035, 5.085888862609863, 5.084702491760254, 5.08379602432251, 5.083635330200195, 5.0839056968688965, 5.083836078643799, 5.083688735961914, 5.083662509918213, 5.083662986755371, 5.083531856536865, 5.083524703979492, 5.083469867706299, 5.083436965942383, 5.083451747894287, 5.083485126495361, 5.083485126495361, 5.083480358123779, 5.083480358123779, 5.083479881286621, 5.0844292640686035, 5.084527969360352, 5.08508825302124, 5.085283279418945, 5.0850982666015625, 5.084841728210449, 5.084784984588623, 5.084807395935059, 5.084812641143799, 5.084812164306641, 5.085344314575195, 5.085412502288818, 5.085642337799072, 5.08579158782959, 5.085812091827393, 5.085747718811035, 5.085765838623047, 5.085788726806641, 5.085794925689697, 5.085794925689697, 5.08181619644165, 5.086984157562256, 5.085019111633301, 5.082915306091309, 5.083802700042725, 5.086172580718994, 5.086584091186523, 5.086540699005127, 5.086551666259766, 5.086550712585449, 5.108610153198242, 5.088255405426025, 5.09184455871582, 5.091057777404785, 5.086723327636719, 5.083825588226318, 5.085163116455078, 5.086002349853516, 5.085946083068848, 5.0858893394470215, 5.097038745880127, 5.106972694396973, 5.096756458282471, 5.086334228515625, 5.076775550842285, 5.076503753662109, 5.077971458435059, 5.078289031982422, 5.078341484069824, 5.078358173370361, 5.088198661804199, 5.096415996551514, 5.094205379486084, 5.092047691345215, 5.08957576751709, 5.089974880218506, 5.089848041534424, 5.089498043060303, 5.089418411254883, 5.089415073394775, 5.089477062225342, 5.087866306304932, 5.086625099182129, 5.087049961090088, 5.087292194366455, 5.0874457359313965, 5.087663650512695, 5.087764739990234, 5.087785243988037, 5.087784290313721, 5.093450546264648, 5.081392288208008, 5.073330879211426, 5.072824478149414, 5.072120189666748, 5.073364734649658, 5.075077533721924, 5.075746536254883, 5.0758466720581055, 5.075836181640625, 5.0907487869262695, 5.100600242614746, 5.096538543701172, 5.093120098114014, 5.08811616897583, 5.089383125305176, 5.089577674865723, 5.089252471923828, 5.089176177978516, 5.089173793792725, 5.085292816162109, 5.087313175201416, 5.085981369018555, 5.082592487335205, 5.082099437713623, 5.086142539978027, 5.0869669914245605, 5.0868730545043945, 5.086882591247559, 5.0868821144104, 5.0878190994262695, 5.085968017578125, 5.086255073547363, 5.086482048034668, 5.086490631103516, 5.086030960083008, 5.085931777954102, 5.085933685302734, 5.085933685302734, 5.085933208465576, 5.087388515472412, 5.092501640319824, 5.090113639831543, 5.089471340179443, 5.08928108215332, 5.088506698608398, 5.089008331298828, 5.089118957519531, 5.089153289794922, 5.0891523361206055, 5.086039066314697, 5.086317539215088, 5.08487606048584, 5.083778381347656, 5.083466053009033, 5.083824157714844, 5.083754062652588, 5.08358907699585, 5.083557605743408, 5.08355712890625, 5.089694976806641, 5.083787441253662, 5.076190948486328, 5.0775556564331055, 5.077063083648682, 5.0784382820129395, 5.08011531829834, 5.080745697021484, 5.080869674682617, 5.080867767333984, 5.086846351623535, 5.093122482299805, 5.092765808105469, 5.091511249542236, 5.0899481773376465, 5.0899834632873535, 5.0897746086120605, 5.089479446411133, 5.08941650390625, 5.089414119720459, 5.08700704574585, 5.088249683380127, 5.0865092277526855, 5.0852580070495605, 5.08486270904541, 5.085151672363281, 5.085031032562256, 5.084820747375488, 5.084780693054199, 5.084779739379883, 5.087269306182861, 5.087376594543457, 5.088369369506836, 5.08892822265625, 5.089102268218994, 5.088888645172119, 5.088986396789551, 5.089068412780762, 5.089083671569824, 5.089084625244141, 5.0914411544799805, 5.08530330657959, 5.081386089324951, 5.081066608428955, 5.080722332000732, 5.081428050994873, 5.082583904266357, 5.08302116394043, 5.083106517791748, 5.083105087280273, 5.088923931121826, 5.0794806480407715, 5.075084209442139, 5.073912620544434, 5.073381423950195, 5.074151992797852, 5.075282573699951, 5.075779438018799, 5.075888633728027, 5.075882911682129, 5.0769877433776855, 5.07584285736084, 5.075782299041748, 5.075941562652588, 5.076014041900635, 5.076025009155273, 5.076045036315918, 5.076058387756348, 5.076063632965088, 5.07606315612793, 5.085865020751953, 5.082047462463379, 5.083804607391357, 5.083804130554199, 5.0824689865112305, 5.081960678100586, 5.081996440887451, 5.081981182098389, 5.08197546005249, 5.081967830657959, 5.095244407653809, 5.095897674560547, 5.089445114135742, 5.082276821136475, 5.076953411102295, 5.076196193695068, 5.076704025268555, 5.076793670654297, 5.076797008514404, 5.076794147491455, 5.085662841796875, 5.088637351989746, 5.0871076583862305, 5.085655212402344, 5.084199905395508, 5.083825588226318, 5.083683013916016, 5.0835280418396, 5.0834856033325195, 5.083486557006836, 5.0856499671936035, 5.0795578956604, 5.0766801834106445, 5.07602071762085, 5.07611083984375, 5.076691627502441, 5.0773491859436035, 5.077667236328125, 5.077722072601318, 5.077723979949951, 5.086386203765869, 5.087510585784912, 5.085469722747803, 5.079035758972168, 5.075561046600342, 5.081016540527344, 5.0825347900390625, 5.082493305206299, 5.082404136657715, 5.082419395446777, 5.0864338874816895, 5.091580390930176, 5.087802886962891, 5.088306427001953, 5.08772087097168, 5.087718963623047, 5.088376522064209, 5.088616847991943, 5.088675022125244, 5.088671684265137, 5.088225841522217, 5.087059497833252, 5.086385250091553, 5.0866804122924805, 5.086868762969971, 5.087001323699951, 5.087157249450684, 5.087218284606934, 5.087234973907471, 5.087235450744629, 5.085864543914795, 5.087993144989014, 5.0851616859436035, 5.081750392913818, 5.0805745124816895, 5.084103584289551, 5.084871768951416, 5.084775447845459, 5.084769248962402, 5.08477258682251, 5.08635139465332, 5.09126091003418, 5.089812278747559, 5.089478492736816, 5.089184284210205, 5.088420867919922, 5.0887932777404785, 5.088898658752441, 5.088929653167725, 5.088928699493408, 5.0903520584106445, 5.0891008377075195, 5.088242530822754, 5.088757038116455, 5.088991165161133, 5.089033126831055, 5.0891923904418945, 5.089277744293213, 5.089296817779541, 5.089295864105225, 5.089136123657227, 5.089452266693115, 5.089556694030762, 5.089534282684326, 5.089465618133545, 5.089463233947754, 5.089431285858154, 5.089413166046143, 5.089409828186035, 5.089409828186035, 5.084799766540527, 5.0879950523376465, 5.08512020111084, 5.082113265991211, 5.081714153289795, 5.0843586921691895, 5.084853649139404, 5.084784030914307, 5.084780693054199, 5.084784507751465, 5.104581832885742, 5.088428020477295, 5.086233615875244, 5.086899757385254, 5.08314847946167, 5.081311225891113, 5.083155632019043, 5.0840983390808105, 5.084118843078613, 5.084068298339844, 5.08717155456543, 5.091813087463379, 5.090677738189697, 5.0840163230896, 5.077760219573975, 5.086801052093506, 5.089414596557617, 5.089282512664795, 5.08919620513916, 5.089196681976318, 5.086874485015869, 5.08872127532959, 5.087084770202637, 5.085846424102783, 5.085313320159912, 5.085628986358643, 5.085513591766357, 5.085297584533691, 5.085251808166504, 5.085249900817871, 5.108880996704102, 5.08892822265625, 5.095158100128174, 5.093994617462158, 5.09032678604126, 5.087623596191406, 5.087948799133301, 5.088466644287109, 5.08819055557251, 5.088112831115723, 5.086498260498047, 5.087481498718262, 5.085689067840576, 5.080052852630615, 5.071542739868164, 5.083703517913818, 5.088080883026123, 5.088247776031494, 5.088220596313477, 5.088226795196533, 5.0881123542785645, 5.088771343231201, 5.089073181152344, 5.088964462280273, 5.088893413543701, 5.088874340057373, 5.0888285636901855, 5.08880615234375, 5.088801860809326]\n",
            "[5. 5. 5. ... 5. 5. 5.]\n"
          ],
          "name": "stdout"
        }
      ]
    },
    {
      "cell_type": "code",
      "metadata": {
        "id": "G0yvTqLoisI-",
        "colab_type": "code",
        "outputId": "26feb0dc-d1a6-4960-c3e2-394682c115a5",
        "colab": {
          "base_uri": "https://localhost:8080/",
          "height": 1000
        }
      },
      "source": [
        "y_pred"
      ],
      "execution_count": 0,
      "outputs": [
        {
          "output_type": "execute_result",
          "data": {
            "text/plain": [
              "[5.087660789489746,\n",
              " 5.083215236663818,\n",
              " 5.082529067993164,\n",
              " 5.080467700958252,\n",
              " 5.079914093017578,\n",
              " 5.0815653800964355,\n",
              " 5.082283973693848,\n",
              " 5.082274913787842,\n",
              " 5.082249164581299,\n",
              " 5.0932512283325195,\n",
              " 5.103184223175049,\n",
              " 5.099118232727051,\n",
              " 5.091179370880127,\n",
              " 5.0827507972717285,\n",
              " 5.083454132080078,\n",
              " 5.084620952606201,\n",
              " 5.084681987762451,\n",
              " 5.084671497344971,\n",
              " 5.084681034088135,\n",
              " 5.086677074432373,\n",
              " 5.089857578277588,\n",
              " 5.09130859375,\n",
              " 5.090444564819336,\n",
              " 5.089733600616455,\n",
              " 5.089620590209961,\n",
              " 5.089383125305176,\n",
              " 5.08920955657959,\n",
              " 5.089171409606934,\n",
              " 5.089170455932617,\n",
              " 5.108990669250488,\n",
              " 5.09240198135376,\n",
              " 5.09569787979126,\n",
              " 5.09410285949707,\n",
              " 5.090965270996094,\n",
              " 5.088512420654297,\n",
              " 5.088536262512207,\n",
              " 5.088864803314209,\n",
              " 5.088528633117676,\n",
              " 5.088456153869629,\n",
              " 5.095365047454834,\n",
              " 5.098515510559082,\n",
              " 5.091572284698486,\n",
              " 5.084033489227295,\n",
              " 5.079474449157715,\n",
              " 5.080574035644531,\n",
              " 5.081567764282227,\n",
              " 5.081773281097412,\n",
              " 5.0817766189575195,\n",
              " 5.081802845001221,\n",
              " 5.082682132720947,\n",
              " 5.073607921600342,\n",
              " 5.07219934463501,\n",
              " 5.0671586990356445,\n",
              " 5.061890602111816,\n",
              " 5.0765862464904785,\n",
              " 5.082139492034912,\n",
              " 5.08266019821167,\n",
              " 5.082802772521973,\n",
              " 5.082827568054199,\n",
              " 5.093694686889648,\n",
              " 5.082426071166992,\n",
              " 5.071691989898682,\n",
              " 5.072983264923096,\n",
              " 5.071794509887695,\n",
              " 5.0725836753845215,\n",
              " 5.074832916259766,\n",
              " 5.075728416442871,\n",
              " 5.075845241546631,\n",
              " 5.07583475112915,\n",
              " 5.078897953033447,\n",
              " 5.080323696136475,\n",
              " 5.079770565032959,\n",
              " 5.0787811279296875,\n",
              " 5.077636241912842,\n",
              " 5.0773820877075195,\n",
              " 5.077328681945801,\n",
              " 5.077250957489014,\n",
              " 5.077239036560059,\n",
              " 5.077239990234375,\n",
              " 5.079458236694336,\n",
              " 5.076828956604004,\n",
              " 5.075392723083496,\n",
              " 5.075303554534912,\n",
              " 5.0753912925720215,\n",
              " 5.075590133666992,\n",
              " 5.075822830200195,\n",
              " 5.075934410095215,\n",
              " 5.075966835021973,\n",
              " 5.075963020324707,\n",
              " 5.08896017074585,\n",
              " 5.084885120391846,\n",
              " 5.0855865478515625,\n",
              " 5.084158420562744,\n",
              " 5.08363676071167,\n",
              " 5.08311653137207,\n",
              " 5.08345365524292,\n",
              " 5.083591938018799,\n",
              " 5.083546161651611,\n",
              " 5.083530426025391,\n",
              " 5.09433650970459,\n",
              " 5.089322566986084,\n",
              " 5.094059944152832,\n",
              " 5.092084884643555,\n",
              " 5.091153144836426,\n",
              " 5.089902400970459,\n",
              " 5.089344024658203,\n",
              " 5.089239120483398,\n",
              " 5.089067459106445,\n",
              " 5.0890421867370605,\n",
              " 5.094147205352783,\n",
              " 5.107787609100342,\n",
              " 5.096507549285889,\n",
              " 5.084463119506836,\n",
              " 5.072087287902832,\n",
              " 5.072742938995361,\n",
              " 5.0753302574157715,\n",
              " 5.076019763946533,\n",
              " 5.076138019561768,\n",
              " 5.076146602630615,\n",
              " 5.0755815505981445,\n",
              " 5.077394008636475,\n",
              " 5.077890396118164,\n",
              " 5.077588081359863,\n",
              " 5.077287197113037,\n",
              " 5.077137470245361,\n",
              " 5.0770769119262695,\n",
              " 5.077032566070557,\n",
              " 5.077023983001709,\n",
              " 5.077023983001709,\n",
              " 5.0879998207092285,\n",
              " 5.091804027557373,\n",
              " 5.0897016525268555,\n",
              " 5.084108352661133,\n",
              " 5.080657005310059,\n",
              " 5.084409236907959,\n",
              " 5.08505392074585,\n",
              " 5.084773540496826,\n",
              " 5.084641456604004,\n",
              " 5.084638595581055,\n",
              " 5.093939781188965,\n",
              " 5.080721855163574,\n",
              " 5.070222854614258,\n",
              " 5.072309494018555,\n",
              " 5.07156229019165,\n",
              " 5.072792053222656,\n",
              " 5.074948787689209,\n",
              " 5.075741291046143,\n",
              " 5.075850486755371,\n",
              " 5.075840473175049,\n",
              " 5.086706638336182,\n",
              " 5.089072227478027,\n",
              " 5.086257457733154,\n",
              " 5.083590507507324,\n",
              " 5.081124782562256,\n",
              " 5.080699920654297,\n",
              " 5.080657005310059,\n",
              " 5.080530166625977,\n",
              " 5.080497741699219,\n",
              " 5.080499649047852,\n",
              " 5.082423686981201,\n",
              " 5.078376293182373,\n",
              " 5.076746940612793,\n",
              " 5.076516628265381,\n",
              " 5.076588153839111,\n",
              " 5.076956272125244,\n",
              " 5.0773091316223145,\n",
              " 5.0774970054626465,\n",
              " 5.077528476715088,\n",
              " 5.077529430389404,\n",
              " 5.092126369476318,\n",
              " 5.086687088012695,\n",
              " 5.084290981292725,\n",
              " 5.083914756774902,\n",
              " 5.084232807159424,\n",
              " 5.083572864532471,\n",
              " 5.084359169006348,\n",
              " 5.084650039672852,\n",
              " 5.084563732147217,\n",
              " 5.084537029266357,\n",
              " 5.089402198791504,\n",
              " 5.087473392486572,\n",
              " 5.091402530670166,\n",
              " 5.0902628898620605,\n",
              " 5.0897111892700195,\n",
              " 5.089138984680176,\n",
              " 5.0886712074279785,\n",
              " 5.088571548461914,\n",
              " 5.088461399078369,\n",
              " 5.088445663452148,\n",
              " 5.085178375244141,\n",
              " 5.079405784606934,\n",
              " 5.0764031410217285,\n",
              " 5.0723490715026855,\n",
              " 5.064368724822998,\n",
              " 5.081999778747559,\n",
              " 5.0879669189453125,\n",
              " 5.088403224945068,\n",
              " 5.088503837585449,\n",
              " 5.088490962982178,\n",
              " 5.095207214355469,\n",
              " 5.081494331359863,\n",
              " 5.0720319747924805,\n",
              " 5.073220252990723,\n",
              " 5.072432994842529,\n",
              " 5.0734429359436035,\n",
              " 5.075435161590576,\n",
              " 5.0761566162109375,\n",
              " 5.07628870010376,\n",
              " 5.0762810707092285,\n",
              " 5.076776027679443,\n",
              " 5.077530860900879,\n",
              " 5.077359199523926,\n",
              " 5.076495170593262,\n",
              " 5.075945854187012,\n",
              " 5.075886249542236,\n",
              " 5.075920104980469,\n",
              " 5.075867176055908,\n",
              " 5.075854778289795,\n",
              " 5.075859069824219,\n",
              " 5.085997581481934,\n",
              " 5.084352016448975,\n",
              " 5.082074165344238,\n",
              " 5.075286865234375,\n",
              " 5.071650505065918,\n",
              " 5.079892158508301,\n",
              " 5.082551956176758,\n",
              " 5.082614898681641,\n",
              " 5.0825982093811035,\n",
              " 5.082615852355957,\n",
              " 5.085365295410156,\n",
              " 5.0893731117248535,\n",
              " 5.088981628417969,\n",
              " 5.089589595794678,\n",
              " 5.089297294616699,\n",
              " 5.088653564453125,\n",
              " 5.0888447761535645,\n",
              " 5.088945388793945,\n",
              " 5.088972568511963,\n",
              " 5.0889716148376465,\n",
              " 5.090017318725586,\n",
              " 5.089356422424316,\n",
              " 5.08879280090332,\n",
              " 5.088957786560059,\n",
              " 5.089186191558838,\n",
              " 5.089231014251709,\n",
              " 5.0893449783325195,\n",
              " 5.0894083976745605,\n",
              " 5.089422225952148,\n",
              " 5.08942174911499,\n",
              " 5.089640140533447,\n",
              " 5.0880584716796875,\n",
              " 5.0869317054748535,\n",
              " 5.087368488311768,\n",
              " 5.087604522705078,\n",
              " 5.087737560272217,\n",
              " 5.087935924530029,\n",
              " 5.08803129196167,\n",
              " 5.088050365447998,\n",
              " 5.08804988861084,\n",
              " 5.0868330001831055,\n",
              " 5.089376449584961,\n",
              " 5.090131759643555,\n",
              " 5.089694976806641,\n",
              " 5.089474678039551,\n",
              " 5.089794158935547,\n",
              " 5.089649677276611,\n",
              " 5.089504718780518,\n",
              " 5.089486598968506,\n",
              " 5.089484691619873,\n",
              " 5.084150314331055,\n",
              " 5.087612628936768,\n",
              " 5.085341930389404,\n",
              " 5.082771301269531,\n",
              " 5.083005905151367,\n",
              " 5.085969924926758,\n",
              " 5.086478233337402,\n",
              " 5.086379528045654,\n",
              " 5.086385726928711,\n",
              " 5.086385726928711,\n",
              " 5.115362644195557,\n",
              " 5.089081764221191,\n",
              " 5.101310729980469,\n",
              " 5.0982279777526855,\n",
              " 5.092432022094727,\n",
              " 5.088118076324463,\n",
              " 5.088137149810791,\n",
              " 5.088788986206055,\n",
              " 5.088522911071777,\n",
              " 5.088447093963623,\n",
              " 5.085128307342529,\n",
              " 5.0792741775512695,\n",
              " 5.076190948486328,\n",
              " 5.072122573852539,\n",
              " 5.064146995544434,\n",
              " 5.081774711608887,\n",
              " 5.08778715133667,\n",
              " 5.0882487297058105,\n",
              " 5.088356018066406,\n",
              " 5.088342666625977,\n",
              " 5.090789794921875,\n",
              " 5.089150905609131,\n",
              " 5.087637901306152,\n",
              " 5.087925434112549,\n",
              " 5.087967872619629,\n",
              " 5.088100433349609,\n",
              " 5.088412761688232,\n",
              " 5.088562965393066,\n",
              " 5.088596820831299,\n",
              " 5.088597297668457,\n",
              " 5.085475921630859,\n",
              " 5.088613510131836,\n",
              " 5.085202217102051,\n",
              " 5.08173942565918,\n",
              " 5.080654621124268,\n",
              " 5.083355903625488,\n",
              " 5.083897590637207,\n",
              " 5.083828449249268,\n",
              " 5.083812236785889,\n",
              " 5.083815097808838,\n",
              " 5.08431339263916,\n",
              " 5.083119869232178,\n",
              " 5.083134651184082,\n",
              " 5.083259582519531,\n",
              " 5.082932949066162,\n",
              " 5.082523345947266,\n",
              " 5.0824079513549805,\n",
              " 5.082432270050049,\n",
              " 5.082428932189941,\n",
              " 5.082427501678467,\n",
              " 5.082191467285156,\n",
              " 5.082714557647705,\n",
              " 5.082634925842285,\n",
              " 5.082496643066406,\n",
              " 5.082639694213867,\n",
              " 5.082850456237793,\n",
              " 5.082901954650879,\n",
              " 5.082891941070557,\n",
              " 5.0828938484191895,\n",
              " 5.0828938484191895,\n",
              " 5.085390567779541,\n",
              " 5.08889627456665,\n",
              " 5.088531970977783,\n",
              " 5.089373588562012,\n",
              " 5.088810443878174,\n",
              " 5.088022708892822,\n",
              " 5.088063716888428,\n",
              " 5.088156223297119,\n",
              " 5.088181018829346,\n",
              " 5.088181972503662,\n",
              " 5.0858025550842285,\n",
              " 5.085903644561768,\n",
              " 5.0848069190979,\n",
              " 5.083961486816406,\n",
              " 5.083832263946533,\n",
              " 5.084072589874268,\n",
              " 5.0839948654174805,\n",
              " 5.083852767944336,\n",
              " 5.083830833435059,\n",
              " 5.0838303565979,\n",
              " 5.082901477813721,\n",
              " 5.0830817222595215,\n",
              " 5.082667350769043,\n",
              " 5.082378387451172,\n",
              " 5.082479476928711,\n",
              " 5.082717418670654,\n",
              " 5.0827531814575195,\n",
              " 5.082706928253174,\n",
              " 5.082699298858643,\n",
              " 5.082700252532959,\n",
              " 5.086352348327637,\n",
              " 5.091012001037598,\n",
              " 5.088099479675293,\n",
              " 5.088883876800537,\n",
              " 5.088439464569092,\n",
              " 5.088389873504639,\n",
              " 5.088876724243164,\n",
              " 5.0890793800354,\n",
              " 5.0891289710998535,\n",
              " 5.089127063751221,\n",
              " 5.086999893188477,\n",
              " 5.08886194229126,\n",
              " 5.08850622177124,\n",
              " 5.087555885314941,\n",
              " 5.087166786193848,\n",
              " 5.0875444412231445,\n",
              " 5.087434768676758,\n",
              " 5.087303638458252,\n",
              " 5.087273120880127,\n",
              " 5.087271213531494,\n",
              " 5.082462310791016,\n",
              " 5.0873870849609375,\n",
              " 5.085532188415527,\n",
              " 5.083004474639893,\n",
              " 5.083515167236328,\n",
              " 5.086311340332031,\n",
              " 5.086812496185303,\n",
              " 5.086750030517578,\n",
              " 5.086759090423584,\n",
              " 5.086759090423584,\n",
              " 5.0890655517578125,\n",
              " 5.093980312347412,\n",
              " 5.089883327484131,\n",
              " 5.089427471160889,\n",
              " 5.089499473571777,\n",
              " 5.088633060455322,\n",
              " 5.089322566986084,\n",
              " 5.089446544647217,\n",
              " 5.089487552642822,\n",
              " 5.089483737945557,\n",
              " 5.085665225982666,\n",
              " 5.086489200592041,\n",
              " 5.08428430557251,\n",
              " 5.082417011260986,\n",
              " 5.08165979385376,\n",
              " 5.082615375518799,\n",
              " 5.082691192626953,\n",
              " 5.082563877105713,\n",
              " 5.082522392272949,\n",
              " 5.08252477645874,\n",
              " 5.088801860809326,\n",
              " 5.086716175079346,\n",
              " 5.08015251159668,\n",
              " 5.080954551696777,\n",
              " 5.080351829528809,\n",
              " 5.0814032554626465,\n",
              " 5.082946300506592,\n",
              " 5.083462715148926,\n",
              " 5.083563804626465,\n",
              " 5.083558082580566,\n",
              " 5.086349010467529,\n",
              " 5.091139316558838,\n",
              " 5.0918498039245605,\n",
              " 5.090931415557861,\n",
              " 5.089846611022949,\n",
              " 5.089942932128906,\n",
              " 5.089732646942139,\n",
              " 5.089480876922607,\n",
              " 5.089431285858154,\n",
              " 5.089428901672363,\n",
              " 5.094576835632324,\n",
              " 5.082490921020508,\n",
              " 5.0717034339904785,\n",
              " 5.072539329528809,\n",
              " 5.071751594543457,\n",
              " 5.073115348815918,\n",
              " 5.075034141540527,\n",
              " 5.0757365226745605,\n",
              " 5.0758442878723145,\n",
              " 5.075833797454834,\n",
              " 5.087218761444092,\n",
              " 5.0862298011779785,\n",
              " 5.0842366218566895,\n",
              " 5.0771284103393555,\n",
              " 5.073296546936035,\n",
              " 5.080702304840088,\n",
              " 5.082875728607178,\n",
              " 5.082859516143799,\n",
              " 5.082796573638916,\n",
              " 5.082805633544922,\n",
              " 5.08321475982666,\n",
              " 5.083199977874756,\n",
              " 5.0834150314331055,\n",
              " 5.083492755889893,\n",
              " 5.0833868980407715,\n",
              " 5.083246231079102,\n",
              " 5.0832037925720215,\n",
              " 5.083209037780762,\n",
              " 5.0832085609436035,\n",
              " 5.0832085609436035,\n",
              " 5.086538791656494,\n",
              " 5.090251445770264,\n",
              " 5.088282585144043,\n",
              " 5.0893473625183105,\n",
              " 5.088983058929443,\n",
              " 5.088846683502197,\n",
              " 5.089174747467041,\n",
              " 5.089323043823242,\n",
              " 5.089362621307373,\n",
              " 5.089359760284424,\n",
              " 5.089016437530518,\n",
              " 5.085844993591309,\n",
              " 5.083951473236084,\n",
              " 5.084270477294922,\n",
              " 5.084646224975586,\n",
              " 5.0850830078125,\n",
              " 5.085597038269043,\n",
              " 5.085803508758545,\n",
              " 5.085841178894043,\n",
              " 5.085839748382568,\n",
              " 5.085755825042725,\n",
              " 5.082190990447998,\n",
              " 5.08073616027832,\n",
              " 5.0805511474609375,\n",
              " 5.080570220947266,\n",
              " 5.080902576446533,\n",
              " 5.081317901611328,\n",
              " 5.081522464752197,\n",
              " 5.081565856933594,\n",
              " 5.081565856933594,\n",
              " 5.0828351974487305,\n",
              " 5.079228401184082,\n",
              " 5.077629566192627,\n",
              " 5.077437877655029,\n",
              " 5.0775933265686035,\n",
              " 5.077913761138916,\n",
              " 5.078237533569336,\n",
              " 5.078408718109131,\n",
              " 5.078437328338623,\n",
              " 5.0784382820129395,\n",
              " 5.087148666381836,\n",
              " 5.09357213973999,\n",
              " 5.092682361602783,\n",
              " 5.090609550476074,\n",
              " 5.088542461395264,\n",
              " 5.08796501159668,\n",
              " 5.087793350219727,\n",
              " 5.087575912475586,\n",
              " 5.0875163078308105,\n",
              " 5.0875163078308105,\n",
              " 5.087460994720459,\n",
              " 5.087029457092285,\n",
              " 5.086808681488037,\n",
              " 5.086946487426758,\n",
              " 5.087024688720703,\n",
              " 5.087075710296631,\n",
              " 5.087118625640869,\n",
              " 5.0871381759643555,\n",
              " 5.0871429443359375,\n",
              " 5.087143421173096,\n",
              " 5.088097095489502,\n",
              " 5.082772731781006,\n",
              " 5.079660415649414,\n",
              " 5.079164981842041,\n",
              " 5.078794002532959,\n",
              " 5.079352855682373,\n",
              " 5.080144882202148,\n",
              " 5.080492973327637,\n",
              " 5.080569267272949,\n",
              " 5.080569267272949,\n",
              " 5.086965560913086,\n",
              " 5.093726634979248,\n",
              " 5.092895030975342,\n",
              " 5.091345310211182,\n",
              " 5.089702606201172,\n",
              " 5.08998966217041,\n",
              " 5.089840412139893,\n",
              " 5.0895185470581055,\n",
              " 5.089448928833008,\n",
              " 5.089445114135742,\n",
              " 5.089452266693115,\n",
              " 5.087097644805908,\n",
              " 5.085571765899658,\n",
              " 5.085773468017578,\n",
              " 5.085993766784668,\n",
              " 5.086315155029297,\n",
              " 5.086740016937256,\n",
              " 5.0869245529174805,\n",
              " 5.086960315704346,\n",
              " 5.086960792541504,\n",
              " 5.086928367614746,\n",
              " 5.089443206787109,\n",
              " 5.0906596183776855,\n",
              " 5.090400218963623,\n",
              " 5.089829921722412,\n",
              " 5.089804172515869,\n",
              " 5.089597702026367,\n",
              " 5.089455604553223,\n",
              " 5.089431285858154,\n",
              " 5.089431285858154,\n",
              " 5.097306251525879,\n",
              " 5.084588050842285,\n",
              " 5.076749324798584,\n",
              " 5.0769195556640625,\n",
              " 5.075865745544434,\n",
              " 5.076137065887451,\n",
              " 5.077897071838379,\n",
              " 5.078585624694824,\n",
              " 5.078673362731934,\n",
              " 5.078665256500244,\n",
              " 5.08967399597168,\n",
              " 5.089444160461426,\n",
              " 5.085231781005859,\n",
              " 5.0809006690979,\n",
              " 5.077268123626709,\n",
              " 5.076804161071777,\n",
              " 5.077033519744873,\n",
              " 5.077040672302246,\n",
              " 5.077028751373291,\n",
              " 5.077029705047607,\n",
              " 5.083397388458252,\n",
              " 5.078575611114502,\n",
              " 5.076171398162842,\n",
              " 5.0761284828186035,\n",
              " 5.075536251068115,\n",
              " 5.0757293701171875,\n",
              " 5.076163291931152,\n",
              " 5.076437473297119,\n",
              " 5.076508045196533,\n",
              " 5.076503276824951,\n",
              " 5.087893009185791,\n",
              " 5.087137699127197,\n",
              " 5.0847086906433105,\n",
              " 5.077294826507568,\n",
              " 5.073397159576416,\n",
              " 5.08163595199585,\n",
              " 5.083943843841553,\n",
              " 5.083899021148682,\n",
              " 5.083828449249268,\n",
              " 5.083828926086426,\n",
              " 5.093952178955078,\n",
              " 5.081313610076904,\n",
              " 5.070605754852295,\n",
              " 5.07254695892334,\n",
              " 5.0716962814331055,\n",
              " 5.072765350341797,\n",
              " 5.074938774108887,\n",
              " 5.075751304626465,\n",
              " 5.075870037078857,\n",
              " 5.07586145401001,\n",
              " 5.07586145401001,\n",
              " 5.07790994644165,\n",
              " 5.079047203063965,\n",
              " 5.0789289474487305,\n",
              " 5.0778913497924805,\n",
              " 5.076887130737305,\n",
              " 5.076691627502441,\n",
              " 5.076649188995361,\n",
              " 5.0765767097473145,\n",
              " 5.076565742492676,\n",
              " 5.076567649841309,\n",
              " 5.089486122131348,\n",
              " 5.098141670227051,\n",
              " 5.094064235687256,\n",
              " 5.091252326965332,\n",
              " 5.087529182434082,\n",
              " 5.0897369384765625,\n",
              " 5.089962959289551,\n",
              " 5.0895771980285645,\n",
              " 5.089486122131348,\n",
              " 5.089484214782715,\n",
              " 5.092621326446533,\n",
              " 5.083040237426758,\n",
              " 5.074807643890381,\n",
              " 5.0746355056762695,\n",
              " 5.074034690856934,\n",
              " 5.07534646987915,\n",
              " 5.077032089233398,\n",
              " 5.077698230743408,\n",
              " 5.077808856964111,\n",
              " 5.077810764312744,\n",
              " 5.085519313812256,\n",
              " 5.084221839904785,\n",
              " 5.0827412605285645,\n",
              " 5.0779266357421875,\n",
              " 5.07602596282959,\n",
              " 5.084167957305908,\n",
              " 5.086450576782227,\n",
              " 5.08643102645874,\n",
              " 5.086465835571289,\n",
              " 5.086464881896973,\n",
              " 5.086464881896973,\n",
              " 5.092592716217041,\n",
              " 5.088558197021484,\n",
              " 5.079234600067139,\n",
              " 5.080092430114746,\n",
              " 5.078297138214111,\n",
              " 5.078700065612793,\n",
              " 5.080374717712402,\n",
              " 5.081051349639893,\n",
              " 5.081202983856201,\n",
              " 5.08873987197876,\n",
              " 5.0796332359313965,\n",
              " 5.076210975646973,\n",
              " 5.074947357177734,\n",
              " 5.07449197769165,\n",
              " 5.0751423835754395,\n",
              " 5.076093673706055,\n",
              " 5.076565742492676,\n",
              " 5.076663017272949,\n",
              " 5.076657295227051,\n",
              " 5.076598644256592,\n",
              " 5.07665491104126,\n",
              " 5.076653957366943,\n",
              " 5.076632976531982,\n",
              " 5.0766215324401855,\n",
              " 5.07662296295166,\n",
              " 5.076623916625977,\n",
              " 5.076623916625977,\n",
              " 5.076624393463135,\n",
              " 5.076624393463135,\n",
              " 5.0880913734436035,\n",
              " 5.087702751159668,\n",
              " 5.0852460861206055,\n",
              " 5.077828407287598,\n",
              " 5.0739359855651855,\n",
              " 5.08211612701416,\n",
              " 5.084342956542969,\n",
              " 5.084281921386719,\n",
              " 5.084201335906982,\n",
              " 5.08419942855835,\n",
              " 5.093393325805664,\n",
              " 5.080916881561279,\n",
              " 5.0698466300964355,\n",
              " 5.072200775146484,\n",
              " 5.0714311599731445,\n",
              " 5.072821617126465,\n",
              " 5.074979782104492,\n",
              " 5.075807094573975,\n",
              " 5.075911521911621,\n",
              " 5.075901031494141,\n",
              " 5.10075044631958,\n",
              " 5.088802337646484,\n",
              " 5.091517448425293,\n",
              " 5.0902485847473145,\n",
              " 5.089622497558594,\n",
              " 5.088812351226807,\n",
              " 5.088723182678223,\n",
              " 5.088787078857422,\n",
              " 5.088501453399658,\n",
              " 5.088459014892578,\n",
              " 5.086980819702148,\n",
              " 5.089278221130371,\n",
              " 5.08732795715332,\n",
              " 5.080861568450928,\n",
              " 5.071760177612305,\n",
              " 5.082386493682861,\n",
              " 5.086497783660889,\n",
              " 5.0867815017700195,\n",
              " 5.086774826049805,\n",
              " 5.086789131164551,\n",
              " 5.087087154388428,\n",
              " 5.087656497955322,\n",
              " 5.087950229644775,\n",
              " 5.087691783905029,\n",
              " 5.0875725746154785,\n",
              " 5.087515830993652,\n",
              " 5.087449073791504,\n",
              " 5.087411403656006,\n",
              " 5.08740234375,\n",
              " 5.08740234375,\n",
              " 5.087016582489014,\n",
              " 5.08363151550293,\n",
              " 5.081973552703857,\n",
              " 5.0820159912109375,\n",
              " 5.082100868225098,\n",
              " 5.082521915435791,\n",
              " 5.083042621612549,\n",
              " 5.083268642425537,\n",
              " 5.083319187164307,\n",
              " 5.083318710327148,\n",
              " 5.087765216827393,\n",
              " 5.079626083374023,\n",
              " 5.075126647949219,\n",
              " 5.074382305145264,\n",
              " 5.073710918426514,\n",
              " 5.074435234069824,\n",
              " 5.075417995452881,\n",
              " 5.07588005065918,\n",
              " 5.075972557067871,\n",
              " 5.075963020324707,\n",
              " 5.075963020324707,\n",
              " 5.087760925292969,\n",
              " 5.092576503753662,\n",
              " 5.089687824249268,\n",
              " 5.08706521987915,\n",
              " 5.084700107574463,\n",
              " 5.08406400680542,\n",
              " 5.0839409828186035,\n",
              " 5.083765506744385,\n",
              " 5.083714485168457,\n",
              " 5.086510181427002,\n",
              " 5.090540409088135,\n",
              " 5.091810703277588,\n",
              " 5.0908918380737305,\n",
              " 5.0898871421813965,\n",
              " 5.089707851409912,\n",
              " 5.0894551277160645,\n",
              " 5.089254856109619,\n",
              " 5.0892109870910645,\n",
              " 5.089209079742432,\n",
              " 5.091670036315918,\n",
              " 5.083240985870361,\n",
              " 5.0783185958862305,\n",
              " 5.077837944030762,\n",
              " 5.0768818855285645,\n",
              " 5.077666282653809,\n",
              " 5.07889986038208,\n",
              " 5.079410552978516,\n",
              " 5.079510688781738,\n",
              " 5.079512119293213,\n",
              " 5.087743759155273,\n",
              " 5.079524993896484,\n",
              " 5.076833248138428,\n",
              " 5.075918674468994,\n",
              " 5.075258255004883,\n",
              " 5.075751304626465,\n",
              " 5.07647705078125,\n",
              " 5.076878547668457,\n",
              " 5.076961994171143,\n",
              " 5.076955318450928,\n",
              " 5.0905303955078125,\n",
              " 5.100744247436523,\n",
              " 5.097733497619629,\n",
              " 5.092562198638916,\n",
              " 5.086007595062256,\n",
              " 5.088109016418457,\n",
              " 5.088754177093506,\n",
              " 5.088522434234619,\n",
              " 5.08845329284668,\n",
              " 5.08845329284668,\n",
              " 5.091189384460449,\n",
              " 5.082033157348633,\n",
              " 5.0767083168029785,\n",
              " 5.0763654708862305,\n",
              " 5.0753092765808105,\n",
              " 5.07619047164917,\n",
              " 5.077500343322754,\n",
              " 5.07805061340332,\n",
              " 5.078147888183594,\n",
              " 5.078149795532227,\n",
              " 5.082043647766113,\n",
              " 5.084120750427246,\n",
              " 5.083811283111572,\n",
              " 5.083105564117432,\n",
              " 5.082272529602051,\n",
              " 5.082078456878662,\n",
              " 5.081943988800049,\n",
              " 5.081844806671143,\n",
              " 5.081823348999023,\n",
              " 5.08182430267334,\n",
              " 5.086495399475098,\n",
              " 5.091268062591553,\n",
              " 5.092055797576904,\n",
              " 5.0908637046813965,\n",
              " 5.089622974395752,\n",
              " 5.089347839355469,\n",
              " 5.089108943939209,\n",
              " 5.088901996612549,\n",
              " 5.088851451873779,\n",
              " 5.088850021362305,\n",
              " 5.0917816162109375,\n",
              " 5.082263469696045,\n",
              " 5.076483726501465,\n",
              " 5.076066493988037,\n",
              " 5.075031757354736,\n",
              " 5.075986862182617,\n",
              " 5.07736873626709,\n",
              " 5.077942848205566,\n",
              " 5.078042984008789,\n",
              " 5.078044414520264,\n",
              " 5.0788469314575195,\n",
              " 5.077101707458496,\n",
              " 5.076325416564941,\n",
              " 5.076269149780273,\n",
              " 5.07637357711792,\n",
              " 5.076526165008545,\n",
              " 5.076661586761475,\n",
              " 5.076733589172363,\n",
              " 5.076749801635742,\n",
              " 5.076746940612793,\n",
              " 5.087378978729248,\n",
              " 5.089984893798828,\n",
              " 5.0882439613342285,\n",
              " 5.081904888153076,\n",
              " 5.078455448150635,\n",
              " 5.0829997062683105,\n",
              " 5.083988189697266,\n",
              " 5.083776473999023,\n",
              " 5.0836663246154785,\n",
              " 5.083665370941162,\n",
              " 5.081603050231934,\n",
              " 5.085958003997803,\n",
              " 5.0844597816467285,\n",
              " 5.083327770233154,\n",
              " 5.084381103515625,\n",
              " 5.086144924163818,\n",
              " 5.086401462554932,\n",
              " 5.086374759674072,\n",
              " 5.086380958557129,\n",
              " 5.086381435394287,\n",
              " 5.087340354919434,\n",
              " 5.084497928619385,\n",
              " 5.084386348724365,\n",
              " 5.084380626678467,\n",
              " 5.083704948425293,\n",
              " 5.082911014556885,\n",
              " 5.082705020904541,\n",
              " 5.082744598388672,\n",
              " 5.082736492156982,\n",
              " 5.082733154296875,\n",
              " 5.1129350662231445,\n",
              " 5.087731838226318,\n",
              " 5.099121570587158,\n",
              " 5.096793174743652,\n",
              " 5.091953277587891,\n",
              " 5.088212013244629,\n",
              " 5.088230609893799,\n",
              " 5.088825225830078,\n",
              " 5.088537693023682,\n",
              " 5.088461399078369,\n",
              " 5.0875163078308105,\n",
              " 5.091251373291016,\n",
              " 5.088709354400635,\n",
              " 5.081515789031982,\n",
              " 5.072110652923584,\n",
              " 5.0816497802734375,\n",
              " 5.085430145263672,\n",
              " 5.085788249969482,\n",
              " 5.0858073234558105,\n",
              " 5.085822105407715,\n",
              " 5.106955051422119,\n",
              " 5.092985153198242,\n",
              " 5.094058990478516,\n",
              " 5.093154430389404,\n",
              " 5.0907721519470215,\n",
              " 5.088630199432373,\n",
              " 5.088652610778809,\n",
              " 5.08887243270874,\n",
              " 5.088527202606201,\n",
              " 5.088461399078369,\n",
              " 5.083898544311523,\n",
              " 5.076229572296143,\n",
              " 5.069929122924805,\n",
              " 5.06525993347168,\n",
              " 5.055854797363281,\n",
              " 5.0745086669921875,\n",
              " 5.081818103790283,\n",
              " 5.082732200622559,\n",
              " 5.082995891571045,\n",
              " 5.083005905151367,\n",
              " 5.094743251800537,\n",
              " 5.08278226852417,\n",
              " 5.07224702835083,\n",
              " 5.073345184326172,\n",
              " 5.072257041931152,\n",
              " 5.073014736175537,\n",
              " 5.075195789337158,\n",
              " 5.0760393142700195,\n",
              " 5.076173305511475,\n",
              " 5.076168537139893,\n",
              " 5.083242416381836,\n",
              " 5.084254264831543,\n",
              " 5.082074165344238,\n",
              " 5.079948425292969,\n",
              " 5.077878952026367,\n",
              " 5.077573776245117,\n",
              " 5.077606678009033,\n",
              " 5.077535152435303,\n",
              " 5.077520847320557,\n",
              " 5.0775227546691895,\n",
              " 5.0864577293396,\n",
              " 5.0800371170043945,\n",
              " 5.0789690017700195,\n",
              " 5.078371047973633,\n",
              " 5.077402114868164,\n",
              " 5.0775651931762695,\n",
              " 5.078058242797852,\n",
              " 5.078329563140869,\n",
              " 5.078369140625,\n",
              " 5.078363418579102,\n",
              " 5.0827412605285645,\n",
              " 5.081718921661377,\n",
              " 5.08238410949707,\n",
              " 5.083060264587402,\n",
              " 5.082442283630371,\n",
              " 5.0820631980896,\n",
              " 5.082086086273193,\n",
              " 5.082092761993408,\n",
              " 5.082092761993408,\n",
              " 5.082089900970459,\n",
              " 5.095358848571777,\n",
              " 5.097802639007568,\n",
              " 5.090719223022461,\n",
              " 5.083065986633301,\n",
              " 5.077361583709717,\n",
              " 5.076645851135254,\n",
              " 5.077192783355713,\n",
              " 5.077272891998291,\n",
              " 5.077279567718506,\n",
              " 5.077286720275879,\n",
              " 5.077425003051758,\n",
              " 5.079160213470459,\n",
              " 5.079654216766357,\n",
              " 5.0792999267578125,\n",
              " 5.078914642333984,\n",
              " 5.078793525695801,\n",
              " 5.078705310821533,\n",
              " 5.078646659851074,\n",
              " 5.078638076782227,\n",
              " 5.078638076782227,\n",
              " 5.085883617401123,\n",
              " 5.085339069366455,\n",
              " 5.08376407623291,\n",
              " 5.078531742095947,\n",
              " 5.07643985748291,\n",
              " 5.083612442016602,\n",
              " 5.085625171661377,\n",
              " 5.08554220199585,\n",
              " 5.085565090179443,\n",
              " 5.08556604385376,\n",
              " ...]"
            ]
          },
          "metadata": {
            "tags": []
          },
          "execution_count": 69
        }
      ]
    },
    {
      "cell_type": "code",
      "metadata": {
        "id": "D1VSGv0eiu3D",
        "colab_type": "code",
        "outputId": "3a3be424-9e38-4e1d-e3ab-b2583327e69c",
        "colab": {
          "base_uri": "https://localhost:8080/",
          "height": 33
        }
      },
      "source": [
        "len(y_pred)"
      ],
      "execution_count": 0,
      "outputs": [
        {
          "output_type": "execute_result",
          "data": {
            "text/plain": [
              "2500"
            ]
          },
          "metadata": {
            "tags": []
          },
          "execution_count": 70
        }
      ]
    },
    {
      "cell_type": "code",
      "metadata": {
        "id": "YOvGi_XLixW6",
        "colab_type": "code",
        "outputId": "d29be9e6-5278-4f19-88d2-42dc426443b8",
        "colab": {
          "base_uri": "https://localhost:8080/",
          "height": 33
        }
      },
      "source": [
        "y_test"
      ],
      "execution_count": 0,
      "outputs": [
        {
          "output_type": "execute_result",
          "data": {
            "text/plain": [
              "array([5., 5., 5., ..., 5., 5., 5.])"
            ]
          },
          "metadata": {
            "tags": []
          },
          "execution_count": 71
        }
      ]
    },
    {
      "cell_type": "code",
      "metadata": {
        "id": "msEr0q2lizR6",
        "colab_type": "code",
        "outputId": "afad1c31-843f-4d5c-fc01-6086467bdf2d",
        "colab": {
          "base_uri": "https://localhost:8080/",
          "height": 33
        }
      },
      "source": [
        "len(y_test)"
      ],
      "execution_count": 0,
      "outputs": [
        {
          "output_type": "execute_result",
          "data": {
            "text/plain": [
              "2500"
            ]
          },
          "metadata": {
            "tags": []
          },
          "execution_count": 72
        }
      ]
    },
    {
      "cell_type": "code",
      "metadata": {
        "id": "KvUzHYhwi0wE",
        "colab_type": "code",
        "outputId": "2095aefe-d68a-484a-a18a-46ee52edc06b",
        "colab": {
          "base_uri": "https://localhost:8080/",
          "height": 374
        }
      },
      "source": [
        "plt.figure(figsize = (16,6))\n",
        "plt.plot(test_date,y_pred,label=\"Noise Removed\")\n",
        "#plt.plot(dates,scaled_data,label=\"Actual Data\")\n",
        "plt.legend()\n",
        "plt.show()"
      ],
      "execution_count": 0,
      "outputs": [
        {
          "output_type": "display_data",
          "data": {
            "image/png": "[encoded data removed]",
            "text/plain": [
              "<Figure size 1152x432 with 1 Axes>"
            ]
          },
          "metadata": {
            "tags": [],
            "needs_background": "light"
          }
        }
      ]
    },
    {
      "cell_type": "code",
      "metadata": {
        "id": "_QrydsHpi27b",
        "colab_type": "code",
        "outputId": "33be1be7-04ac-4c5b-b42b-f26ae986226a",
        "colab": {
          "base_uri": "https://localhost:8080/",
          "height": 33
        }
      },
      "source": [
        "scaled_data"
      ],
      "execution_count": 0,
      "outputs": [
        {
          "output_type": "execute_result",
          "data": {
            "text/plain": [
              "array([ 0.   ,  0.   , 20.   , ...,  0.889,  0.889,  0.889])"
            ]
          },
          "metadata": {
            "tags": []
          },
          "execution_count": 74
        }
      ]
    },
    {
      "cell_type": "code",
      "metadata": {
        "id": "6C3Q-iJCi9yJ",
        "colab_type": "code",
        "colab": {}
      },
      "source": [
        "scaled_data_1=scaled_data[-2500:]"
      ],
      "execution_count": 0,
      "outputs": []
    },
    {
      "cell_type": "code",
      "metadata": {
        "id": "2VBctvCujBFn",
        "colab_type": "code",
        "outputId": "cbed5d7b-229a-43f4-8ee7-4e1eb2c6f6bd",
        "colab": {
          "base_uri": "https://localhost:8080/",
          "height": 390
        }
      },
      "source": [
        "plt.figure(figsize = (16,6))\n",
        "plt.plot(test_date,scaled_data_1, label=\"Scrambled Data/Orignal Data\")\n",
        "plt.plot(test_date,y_pred,label=\"Noise Removed\")\n",
        "#plt.plot(dates,scaled_data,label=\"Actual Data\")\n",
        "plt.legend()\n",
        "plt.title(\"Removing Noise\")\n",
        "plt.show()"
      ],
      "execution_count": 0,
      "outputs": [
        {
          "output_type": "display_data",
          "data": {
            "image/png": "[encoded data removed]",
            "text/plain": [
              "<Figure size 1152x432 with 1 Axes>"
            ]
          },
          "metadata": {
            "tags": [],
            "needs_background": "light"
          }
        }
      ]
    },
    {
      "cell_type": "code",
      "metadata": {
        "id": "BXJ4_e2UjDX3",
        "colab_type": "code",
        "outputId": "5b643702-9bc2-4f85-8577-f00feefb07a1",
        "colab": {
          "base_uri": "https://localhost:8080/",
          "height": 584
        }
      },
      "source": [
        "plt.figure(figsize = (18,9))\n",
        "\n",
        "plt.plot(dates,scaled_data,label=\"Training\")\n",
        "plt.plot(test_date,y_pred,label=\"Testing\")\n",
        "#plt.plot(test_date,y_test,label=\"actual \")\n",
        "\n",
        "plt.xticks(rotation=90)\n",
        "plt.xlabel('Time Steps',fontsize=18)\n",
        "plt.legend()\n",
        "plt.title(\"Forecasting using CNN\")\n",
        "plt.show()"
      ],
      "execution_count": 0,
      "outputs": [
        {
          "output_type": "display_data",
          "data": {
            "image/png": "[encoded data removed]",
            "text/plain": [
              "<Figure size 1296x648 with 1 Axes>"
            ]
          },
          "metadata": {
            "tags": [],
            "needs_background": "light"
          }
        }
      ]
    },
    {
      "cell_type": "code",
      "metadata": {
        "id": "UWBHV2T1jPG1",
        "colab_type": "code",
        "outputId": "8f869ade-9918-4053-8a82-a4684ecb7534",
        "colab": {
          "base_uri": "https://localhost:8080/",
          "height": 295
        }
      },
      "source": [
        "plt.plot(history.history['loss'])\n",
        "#plt.plot(history.history['val_loss'])\n",
        "plt.title('model loss')\n",
        "plt.ylabel('Mean Square Error')\n",
        "plt.xlabel('epoch')\n",
        "plt.legend(['train', 'test'], loc='upper left')\n",
        "plt.show()"
      ],
      "execution_count": 0,
      "outputs": [
        {
          "output_type": "display_data",
          "data": {
            "image/png": "[encoded data removed]",
            "text/plain": [
              "<Figure size 432x288 with 1 Axes>"
            ]
          },
          "metadata": {
            "tags": [],
            "needs_background": "light"
          }
        }
      ]
    },
    {
      "cell_type": "code",
      "metadata": {
        "id": "HzJS5ibtjRKC",
        "colab_type": "code",
        "colab": {}
      },
      "source": [
        ""
      ],
      "execution_count": 0,
      "outputs": []
    }
  ]
}