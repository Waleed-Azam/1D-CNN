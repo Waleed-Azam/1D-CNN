{
  "nbformat": 4,
  "nbformat_minor": 0,
  "metadata": {
    "colab": {
      "name": "Try Jasoon_Algorithm.ipynb",
      "provenance": [],
      "collapsed_sections": [],
      "authorship_tag": "ABX9TyPc2ArRyG1rwObjzy/6r/MM",
      "include_colab_link": true
    },
    "kernelspec": {
      "name": "python3",
      "display_name": "Python 3"
    },
    "accelerator": "GPU"
  },
  "cells": [
    {
      "cell_type": "markdown",
      "metadata": {
        "id": "view-in-github",
        "colab_type": "text"
      },
      "source": [
        "<a href=\"https://colab.research.google.com/github/Waleed-Azam/1D-CNN/blob/master/Try_Jasoon_Algorithm.ipynb\" target=\"_parent\"><img src=\"https://colab.research.google.com/assets/colab-badge.svg\" alt=\"Open In Colab\"/></a>"
      ]
    },
    {
      "cell_type": "code",
      "metadata": {
        "id": "N7c07OzR2Csg",
        "colab_type": "code",
        "colab": {}
      },
      "source": [
        "# univariate cnn example\n",
        "from numpy import array\n",
        "from keras.models import Sequential\n",
        "from keras.layers import Dense\n",
        "from keras.layers import Flatten\n",
        "from keras.layers.convolutional import Conv1D\n",
        "from keras.layers.convolutional import MaxPooling1D"
      ],
      "execution_count": 1,
      "outputs": []
    },
    {
      "cell_type": "code",
      "metadata": {
        "id": "R0OgjU1C88G8",
        "colab_type": "code",
        "colab": {}
      },
      "source": [
        "!pip install -U -q PyDrive\n",
        "from pydrive.auth import GoogleAuth\n",
        "from pydrive.drive import GoogleDrive\n",
        "from google.colab import auth\n",
        "from oauth2client.client import GoogleCredentials\n",
        "import numpy as np \n",
        "import matplotlib.pyplot as plt"
      ],
      "execution_count": 2,
      "outputs": []
    },
    {
      "cell_type": "code",
      "metadata": {
        "id": "uPIH6sEu9BBY",
        "colab_type": "code",
        "colab": {}
      },
      "source": [
        "auth.authenticate_user()\n",
        "gauth = GoogleAuth()\n",
        "gauth.credentials = GoogleCredentials.get_application_default()\n",
        "drive = GoogleDrive(gauth)"
      ],
      "execution_count": 4,
      "outputs": []
    },
    {
      "cell_type": "code",
      "metadata": {
        "id": "BMLmKomF9Dno",
        "colab_type": "code",
        "colab": {}
      },
      "source": [
        "downloaded = drive.CreateFile({'id':'1Bi2fJZw6Vhj7dyP7Ad6qtPsYf5LevEm4'})"
      ],
      "execution_count": 5,
      "outputs": []
    },
    {
      "cell_type": "code",
      "metadata": {
        "id": "YF8Kpx8bCRW7",
        "colab_type": "code",
        "colab": {}
      },
      "source": [
        "#Importing all the libraries\n",
        "import numpy as np\n",
        "import numpy as geek \n",
        "from keras.layers import Input, Dense, LSTM, multiply, concatenate, Activation, Masking, Reshape\n",
        "from keras.models import Sequential\n",
        "from keras.models import Model\n",
        "from keras.layers import Input, Dense, LSTM, multiply, concatenate, Activation, Masking, Reshape\n",
        "from keras.layers import BatchNormalization, GlobalAveragePooling1D, Permute, Dropout\n",
        "from keras.layers.convolutional import Conv1D\n",
        "from keras.layers.convolutional import MaxPooling1D\n",
        "from keras.optimizers import RMSprop, Adam\n",
        "from keras.layers import LSTM, Activation \n",
        "from sklearn.preprocessing import MinMaxScaler\n",
        "from keras.models import load_model"
      ],
      "execution_count": 6,
      "outputs": []
    },
    {
      "cell_type": "code",
      "metadata": {
        "id": "oIrm0LCu9M3p",
        "colab_type": "code",
        "colab": {}
      },
      "source": [
        "downloaded.GetContentFile('Master_thesis_Data.csv')"
      ],
      "execution_count": 7,
      "outputs": []
    },
    {
      "cell_type": "code",
      "metadata": {
        "id": "VmhdVsyu9Or5",
        "colab_type": "code",
        "colab": {
          "base_uri": "https://localhost:8080/",
          "height": 439
        },
        "outputId": "8d770f91-84fd-408c-95b8-c2eafa974f9c"
      },
      "source": [
        "import pandas as pd\n",
        "df2 = pd.read_csv('Master_thesis_Data.csv') \n",
        "df2=df2.drop(columns=['Unnamed: 13', 'Unnamed: 14'])\n",
        "#Cleaning the data, for mainly removing the NaN value\n",
        "df2[\"Time\"] = df2[\"Time\"].fillna(0)\n",
        "df2[\"DVL1\"] = df2[\"DVL1\"].fillna(0)\n",
        "df2[\"DVL2\"] = df2[\"DVL2\"].fillna(0)\n",
        "df2[\"DVL3\"] = df2[\"DVL3\"].fillna(0)\n",
        "df2[\"DVL4\"] = df2[\"DVL4\"].fillna(0)\n",
        "df2[\"DVL1_S\"] = df2[\"DVL1_S\"].fillna(0)\n",
        "df2[\"DVL2_S\"] = df2[\"DVL2_S\"].fillna(0)\n",
        "df2[\"DVL3_S\"] = df2[\"DVL3_S\"].fillna(0)\n",
        "df2[\"DVL4_S\"] = df2[\"DVL4_S\"].fillna(0)\n",
        "df2\n"
      ],
      "execution_count": 8,
      "outputs": [
        {
          "output_type": "execute_result",
          "data": {
            "text/html": [
              "<div>\n",
              "<style scoped>\n",
              "    .dataframe tbody tr th:only-of-type {\n",
              "        vertical-align: middle;\n",
              "    }\n",
              "\n",
              "    .dataframe tbody tr th {\n",
              "        vertical-align: top;\n",
              "    }\n",
              "\n",
              "    .dataframe thead th {\n",
              "        text-align: right;\n",
              "    }\n",
              "</style>\n",
              "<table border=\"1\" class=\"dataframe\">\n",
              "  <thead>\n",
              "    <tr style=\"text-align: right;\">\n",
              "      <th></th>\n",
              "      <th>Time</th>\n",
              "      <th>DVL1_S</th>\n",
              "      <th>DVL2_S</th>\n",
              "      <th>DVL3_S</th>\n",
              "      <th>DVL4_S</th>\n",
              "      <th>DVL1</th>\n",
              "      <th>DVL2</th>\n",
              "      <th>DVL3</th>\n",
              "      <th>DVL4</th>\n",
              "      <th>ROV6DOF</th>\n",
              "      <th>ROV6DOF.1</th>\n",
              "      <th>ROV6DOF.2</th>\n",
              "      <th>AutoHeading</th>\n",
              "    </tr>\n",
              "  </thead>\n",
              "  <tbody>\n",
              "    <tr>\n",
              "      <th>0</th>\n",
              "      <td>0.0</td>\n",
              "      <td>0.000000</td>\n",
              "      <td>0.0</td>\n",
              "      <td>0.000000</td>\n",
              "      <td>0.000000</td>\n",
              "      <td>0.000000</td>\n",
              "      <td>0.000000</td>\n",
              "      <td>0.000000</td>\n",
              "      <td>0.000000</td>\n",
              "      <td>0.000000</td>\n",
              "      <td>0.000000</td>\n",
              "      <td>0.0000</td>\n",
              "      <td>0.0000</td>\n",
              "    </tr>\n",
              "    <tr>\n",
              "      <th>1</th>\n",
              "      <td>0.0</td>\n",
              "      <td>20.000000</td>\n",
              "      <td>20.0</td>\n",
              "      <td>20.000000</td>\n",
              "      <td>20.000000</td>\n",
              "      <td>20.000000</td>\n",
              "      <td>20.000000</td>\n",
              "      <td>20.000000</td>\n",
              "      <td>20.000000</td>\n",
              "      <td>0.000000</td>\n",
              "      <td>0.000000</td>\n",
              "      <td>0.0000</td>\n",
              "      <td>0.0000</td>\n",
              "    </tr>\n",
              "    <tr>\n",
              "      <th>2</th>\n",
              "      <td>0.1</td>\n",
              "      <td>20.000000</td>\n",
              "      <td>20.0</td>\n",
              "      <td>20.000000</td>\n",
              "      <td>20.000000</td>\n",
              "      <td>20.000000</td>\n",
              "      <td>20.000000</td>\n",
              "      <td>20.000000</td>\n",
              "      <td>20.000000</td>\n",
              "      <td>0.000000</td>\n",
              "      <td>0.000000</td>\n",
              "      <td>0.0000</td>\n",
              "      <td>0.0000</td>\n",
              "    </tr>\n",
              "    <tr>\n",
              "      <th>3</th>\n",
              "      <td>0.2</td>\n",
              "      <td>20.000000</td>\n",
              "      <td>20.0</td>\n",
              "      <td>20.000000</td>\n",
              "      <td>20.000000</td>\n",
              "      <td>20.000000</td>\n",
              "      <td>20.000000</td>\n",
              "      <td>20.000000</td>\n",
              "      <td>20.000000</td>\n",
              "      <td>0.000000</td>\n",
              "      <td>0.000000</td>\n",
              "      <td>0.0000</td>\n",
              "      <td>0.0000</td>\n",
              "    </tr>\n",
              "    <tr>\n",
              "      <th>4</th>\n",
              "      <td>0.3</td>\n",
              "      <td>20.000000</td>\n",
              "      <td>20.0</td>\n",
              "      <td>20.000000</td>\n",
              "      <td>20.000000</td>\n",
              "      <td>20.000000</td>\n",
              "      <td>20.000000</td>\n",
              "      <td>20.000000</td>\n",
              "      <td>20.000000</td>\n",
              "      <td>0.000000</td>\n",
              "      <td>0.000000</td>\n",
              "      <td>0.0000</td>\n",
              "      <td>0.0000</td>\n",
              "    </tr>\n",
              "    <tr>\n",
              "      <th>...</th>\n",
              "      <td>...</td>\n",
              "      <td>...</td>\n",
              "      <td>...</td>\n",
              "      <td>...</td>\n",
              "      <td>...</td>\n",
              "      <td>...</td>\n",
              "      <td>...</td>\n",
              "      <td>...</td>\n",
              "      <td>...</td>\n",
              "      <td>...</td>\n",
              "      <td>...</td>\n",
              "      <td>...</td>\n",
              "      <td>...</td>\n",
              "    </tr>\n",
              "    <tr>\n",
              "      <th>84986</th>\n",
              "      <td>8498.5</td>\n",
              "      <td>2.692643</td>\n",
              "      <td>1.8</td>\n",
              "      <td>2.620548</td>\n",
              "      <td>2.615895</td>\n",
              "      <td>2.692643</td>\n",
              "      <td>2.628101</td>\n",
              "      <td>2.620548</td>\n",
              "      <td>2.615895</td>\n",
              "      <td>0.000980</td>\n",
              "      <td>-0.000342</td>\n",
              "      <td>0.0110</td>\n",
              "      <td>0.0646</td>\n",
              "    </tr>\n",
              "    <tr>\n",
              "      <th>84987</th>\n",
              "      <td>8498.6</td>\n",
              "      <td>2.692682</td>\n",
              "      <td>1.8</td>\n",
              "      <td>2.620243</td>\n",
              "      <td>2.615925</td>\n",
              "      <td>2.692682</td>\n",
              "      <td>2.629319</td>\n",
              "      <td>2.620243</td>\n",
              "      <td>2.615925</td>\n",
              "      <td>0.000990</td>\n",
              "      <td>-0.000342</td>\n",
              "      <td>0.0230</td>\n",
              "      <td>0.0643</td>\n",
              "    </tr>\n",
              "    <tr>\n",
              "      <th>84988</th>\n",
              "      <td>8498.7</td>\n",
              "      <td>2.692715</td>\n",
              "      <td>1.8</td>\n",
              "      <td>2.619866</td>\n",
              "      <td>2.615951</td>\n",
              "      <td>2.692715</td>\n",
              "      <td>2.630637</td>\n",
              "      <td>2.619866</td>\n",
              "      <td>2.615951</td>\n",
              "      <td>0.001010</td>\n",
              "      <td>-0.000342</td>\n",
              "      <td>0.0392</td>\n",
              "      <td>0.0641</td>\n",
              "    </tr>\n",
              "    <tr>\n",
              "      <th>84989</th>\n",
              "      <td>8498.8</td>\n",
              "      <td>2.692740</td>\n",
              "      <td>1.8</td>\n",
              "      <td>2.619450</td>\n",
              "      <td>2.615970</td>\n",
              "      <td>2.692740</td>\n",
              "      <td>2.631916</td>\n",
              "      <td>2.619450</td>\n",
              "      <td>2.615970</td>\n",
              "      <td>0.001040</td>\n",
              "      <td>-0.000342</td>\n",
              "      <td>0.0595</td>\n",
              "      <td>0.0632</td>\n",
              "    </tr>\n",
              "    <tr>\n",
              "      <th>84990</th>\n",
              "      <td>8498.9</td>\n",
              "      <td>2.692755</td>\n",
              "      <td>1.8</td>\n",
              "      <td>2.618994</td>\n",
              "      <td>2.615983</td>\n",
              "      <td>2.692755</td>\n",
              "      <td>2.633157</td>\n",
              "      <td>2.618994</td>\n",
              "      <td>2.615983</td>\n",
              "      <td>-0.000342</td>\n",
              "      <td>-0.000343</td>\n",
              "      <td>0.0835</td>\n",
              "      <td>0.0630</td>\n",
              "    </tr>\n",
              "  </tbody>\n",
              "</table>\n",
              "<p>84991 rows × 13 columns</p>\n",
              "</div>"
            ],
            "text/plain": [
              "         Time     DVL1_S  DVL2_S  ...  ROV6DOF.1  ROV6DOF.2  AutoHeading\n",
              "0         0.0   0.000000     0.0  ...   0.000000     0.0000       0.0000\n",
              "1         0.0  20.000000    20.0  ...   0.000000     0.0000       0.0000\n",
              "2         0.1  20.000000    20.0  ...   0.000000     0.0000       0.0000\n",
              "3         0.2  20.000000    20.0  ...   0.000000     0.0000       0.0000\n",
              "4         0.3  20.000000    20.0  ...   0.000000     0.0000       0.0000\n",
              "...       ...        ...     ...  ...        ...        ...          ...\n",
              "84986  8498.5   2.692643     1.8  ...  -0.000342     0.0110       0.0646\n",
              "84987  8498.6   2.692682     1.8  ...  -0.000342     0.0230       0.0643\n",
              "84988  8498.7   2.692715     1.8  ...  -0.000342     0.0392       0.0641\n",
              "84989  8498.8   2.692740     1.8  ...  -0.000342     0.0595       0.0632\n",
              "84990  8498.9   2.692755     1.8  ...  -0.000343     0.0835       0.0630\n",
              "\n",
              "[84991 rows x 13 columns]"
            ]
          },
          "metadata": {
            "tags": []
          },
          "execution_count": 8
        }
      ]
    },
    {
      "cell_type": "code",
      "metadata": {
        "id": "rK0qr3Fl9QVK",
        "colab_type": "code",
        "colab": {}
      },
      "source": [
        "t=df2['Time']\n",
        "Tdata=df2['DVL1_S']\n",
        "X1=np.array(Tdata)\n",
        "Tdata2=df2['DVL2_S']\n",
        "X2=np.array(Tdata2)\n",
        "Tdata3=df2['DVL3_S']\n",
        "X3=np.array(Tdata)\n",
        "Tdata4=df2['DVL4_S']\n",
        "X4=np.array(Tdata4)"
      ],
      "execution_count": 9,
      "outputs": []
    },
    {
      "cell_type": "code",
      "metadata": {
        "id": "VeC-ULVuMUzM",
        "colab_type": "code",
        "colab": {}
      },
      "source": [
        "Tdata1=df2['DVL1']\n",
        "y1=np.array(Tdata1)\n",
        "Tdata22=df2['DVL2']\n",
        "y2=np.array(Tdata22)\n",
        "Tdata33=df2['DVL3']\n",
        "y3=np.array(Tdata33)\n",
        "Tdata44=df2['DVL4']\n",
        "y4=np.array(Tdata44)"
      ],
      "execution_count": 10,
      "outputs": []
    },
    {
      "cell_type": "code",
      "metadata": {
        "id": "M9cOTqFJ9VOa",
        "colab_type": "code",
        "colab": {}
      },
      "source": [
        "Tdata5=df2['ROV6DOF']\n",
        "X5=np.array(Tdata5)\n",
        "Tdata6=df2['ROV6DOF.1']\n",
        "X6=np.array(Tdata6)\n",
        "Tdata7=df2['ROV6DOF.2']\n",
        "X7=np.array(Tdata7)\n",
        "Tdata8=df2['AutoHeading']\n",
        "X8=np.array(Tdata8)"
      ],
      "execution_count": 11,
      "outputs": []
    },
    {
      "cell_type": "code",
      "metadata": {
        "id": "FT4Sq4eV9XGL",
        "colab_type": "code",
        "colab": {}
      },
      "source": [
        "def split_sequence(sequence, n_steps):\n",
        "\tX1, z = list(), list()\n",
        "\tfor i in range(len(sequence)):\n",
        "\t\t# find the end of this pattern\n",
        "\t\tend_ix = i + n_steps\n",
        "\t\t# check if we are beyond the sequence\n",
        "\t\tif end_ix > len(sequence)-1:\n",
        "\t\t\tbreak\n",
        "\t\t# gather input and output parts of the pattern\n",
        "\t\tseq_x1, seq_z = sequence[i:end_ix], sequence[end_ix]\n",
        "\t\tX1.append(seq_x1)\n",
        "\t\tz.append(seq_z)\n",
        "\treturn array(X1), array(z)"
      ],
      "execution_count": 12,
      "outputs": []
    },
    {
      "cell_type": "code",
      "metadata": {
        "id": "CBX7hF5L9ZFL",
        "colab_type": "code",
        "colab": {
          "base_uri": "https://localhost:8080/",
          "height": 51
        },
        "outputId": "a21101cf-a083-4ab0-d7d8-0a020d0e86d0"
      },
      "source": [
        "# Working on the factor X1\n",
        "X1"
      ],
      "execution_count": 13,
      "outputs": [
        {
          "output_type": "execute_result",
          "data": {
            "text/plain": [
              "array([ 0.      , 20.      , 20.      , ...,  2.692715,  2.69274 ,\n",
              "        2.692755])"
            ]
          },
          "metadata": {
            "tags": []
          },
          "execution_count": 13
        }
      ]
    },
    {
      "cell_type": "code",
      "metadata": {
        "id": "HdZyLoib9bXK",
        "colab_type": "code",
        "colab": {
          "base_uri": "https://localhost:8080/",
          "height": 34
        },
        "outputId": "4695070c-5b77-44c7-d5ed-ac9439462d24"
      },
      "source": [
        "len(X1)"
      ],
      "execution_count": 14,
      "outputs": [
        {
          "output_type": "execute_result",
          "data": {
            "text/plain": [
              "84991"
            ]
          },
          "metadata": {
            "tags": []
          },
          "execution_count": 14
        }
      ]
    },
    {
      "cell_type": "code",
      "metadata": {
        "id": "MlCitYxC9dNc",
        "colab_type": "code",
        "colab": {
          "base_uri": "https://localhost:8080/",
          "height": 34
        },
        "outputId": "9d9a3597-3503-4ffa-a298-d0933aa1ec03"
      },
      "source": [
        "X1.shape"
      ],
      "execution_count": 15,
      "outputs": [
        {
          "output_type": "execute_result",
          "data": {
            "text/plain": [
              "(84991,)"
            ]
          },
          "metadata": {
            "tags": []
          },
          "execution_count": 15
        }
      ]
    },
    {
      "cell_type": "code",
      "metadata": {
        "id": "UIxVTiNk9e9r",
        "colab_type": "code",
        "colab": {}
      },
      "source": [
        "scaled_data_For_Beam_One=X1"
      ],
      "execution_count": 16,
      "outputs": []
    },
    {
      "cell_type": "code",
      "metadata": {
        "id": "vEtCdaYO9kqb",
        "colab_type": "code",
        "colab": {
          "base_uri": "https://localhost:8080/",
          "height": 51
        },
        "outputId": "b514b1a4-2425-462b-898b-2e9993257942"
      },
      "source": [
        "#Origanl data we have now\n",
        "scaled_data_For_Beam_One"
      ],
      "execution_count": 17,
      "outputs": [
        {
          "output_type": "execute_result",
          "data": {
            "text/plain": [
              "array([ 0.      , 20.      , 20.      , ...,  2.692715,  2.69274 ,\n",
              "        2.692755])"
            ]
          },
          "metadata": {
            "tags": []
          },
          "execution_count": 17
        }
      ]
    },
    {
      "cell_type": "code",
      "metadata": {
        "id": "oS90pKFL9nTs",
        "colab_type": "code",
        "colab": {}
      },
      "source": [
        "# define input sequence\n",
        "raw_seq = X1\n",
        "# choose a number of time steps\n",
        "n_steps = 20\n",
        "# split into samples\n",
        "X1, z = split_sequence(raw_seq, n_steps)"
      ],
      "execution_count": 18,
      "outputs": []
    },
    {
      "cell_type": "code",
      "metadata": {
        "id": "wpS9DLu19pT8",
        "colab_type": "code",
        "colab": {
          "base_uri": "https://localhost:8080/",
          "height": 34
        },
        "outputId": "aa410753-ca33-4866-a5c7-cfe9db73f930"
      },
      "source": [
        "X1.shape"
      ],
      "execution_count": 19,
      "outputs": [
        {
          "output_type": "execute_result",
          "data": {
            "text/plain": [
              "(84971, 20)"
            ]
          },
          "metadata": {
            "tags": []
          },
          "execution_count": 19
        }
      ]
    },
    {
      "cell_type": "code",
      "metadata": {
        "id": "gdsoTiJu9rbc",
        "colab_type": "code",
        "colab": {
          "base_uri": "https://localhost:8080/",
          "height": 34
        },
        "outputId": "f13799d0-92e2-4673-9539-8bd8889e780d"
      },
      "source": [
        "X1.shape"
      ],
      "execution_count": 20,
      "outputs": [
        {
          "output_type": "execute_result",
          "data": {
            "text/plain": [
              "(84971, 20)"
            ]
          },
          "metadata": {
            "tags": []
          },
          "execution_count": 20
        }
      ]
    },
    {
      "cell_type": "markdown",
      "metadata": {
        "id": "ppdR6wv_RrKJ",
        "colab_type": "text"
      },
      "source": [
        "X1, z = split_sequence(raw_seq, n_steps)\n",
        "# reshape from [samples, timesteps] into [samples, timesteps, features]\n",
        "n_features = 1\n",
        "X1 = X1.reshape((X1.shape[0], X1.shape[1], n_features))"
      ]
    },
    {
      "cell_type": "code",
      "metadata": {
        "id": "-KfILVVWGQ-O",
        "colab_type": "code",
        "colab": {
          "base_uri": "https://localhost:8080/",
          "height": 34
        },
        "outputId": "bc010f6d-fcd2-434d-da91-9b5c993492fc"
      },
      "source": [
        "X1.shape"
      ],
      "execution_count": 21,
      "outputs": [
        {
          "output_type": "execute_result",
          "data": {
            "text/plain": [
              "(84971, 20)"
            ]
          },
          "metadata": {
            "tags": []
          },
          "execution_count": 21
        }
      ]
    },
    {
      "cell_type": "code",
      "metadata": {
        "id": "g_HqQfMe9tVs",
        "colab_type": "code",
        "colab": {}
      },
      "source": [
        "# I Just concluded that I need to try the working of the setup.\n",
        "# Need to just stack the vector to see more and more."
      ],
      "execution_count": 22,
      "outputs": []
    },
    {
      "cell_type": "code",
      "metadata": {
        "id": "HRYzC8X0BjS-",
        "colab_type": "code",
        "colab": {}
      },
      "source": [
        "#Working on the beam 2 \n",
        "def split_sequence(sequence, n_steps):\n",
        "\tX2, z1 = list(), list()\n",
        "\tfor i in range(len(sequence)):\n",
        "\t\t# find the end of this pattern\n",
        "\t\tend_ix = i + n_steps\n",
        "\t\t# check if we are beyond the sequence\n",
        "\t\tif end_ix > len(sequence)-1:\n",
        "\t\t\tbreak\n",
        "\t\t# gather input and output parts of the pattern\n",
        "\t\tseq_x2, seq_z1 = sequence[i:end_ix], sequence[end_ix]\n",
        "\t\tX2.append(seq_x2)\n",
        "\t\tz1.append(seq_z1)\n",
        "\treturn array(X2), array(z1)"
      ],
      "execution_count": 23,
      "outputs": []
    },
    {
      "cell_type": "code",
      "metadata": {
        "id": "WpupNP2NG6FO",
        "colab_type": "code",
        "colab": {
          "base_uri": "https://localhost:8080/",
          "height": 34
        },
        "outputId": "6f561021-a1c1-4c98-9eb5-9547f2c7c93d"
      },
      "source": [
        "X2"
      ],
      "execution_count": 24,
      "outputs": [
        {
          "output_type": "execute_result",
          "data": {
            "text/plain": [
              "array([ 0. , 20. , 20. , ...,  1.8,  1.8,  1.8])"
            ]
          },
          "metadata": {
            "tags": []
          },
          "execution_count": 24
        }
      ]
    },
    {
      "cell_type": "code",
      "metadata": {
        "id": "uo7VViXkG9aW",
        "colab_type": "code",
        "colab": {
          "base_uri": "https://localhost:8080/",
          "height": 34
        },
        "outputId": "3814aa24-2361-434b-e1d5-0f389ffd1531"
      },
      "source": [
        "len(X2)"
      ],
      "execution_count": 25,
      "outputs": [
        {
          "output_type": "execute_result",
          "data": {
            "text/plain": [
              "84991"
            ]
          },
          "metadata": {
            "tags": []
          },
          "execution_count": 25
        }
      ]
    },
    {
      "cell_type": "code",
      "metadata": {
        "id": "vjmFcIiZHAJm",
        "colab_type": "code",
        "colab": {
          "base_uri": "https://localhost:8080/",
          "height": 34
        },
        "outputId": "ed2f3f94-a410-425e-9381-17e7e7938478"
      },
      "source": [
        "X2.shape"
      ],
      "execution_count": 26,
      "outputs": [
        {
          "output_type": "execute_result",
          "data": {
            "text/plain": [
              "(84991,)"
            ]
          },
          "metadata": {
            "tags": []
          },
          "execution_count": 26
        }
      ]
    },
    {
      "cell_type": "code",
      "metadata": {
        "id": "QtKudVsuHDA3",
        "colab_type": "code",
        "colab": {}
      },
      "source": [
        "scaled_data_For_Beam_Two=X2"
      ],
      "execution_count": 27,
      "outputs": []
    },
    {
      "cell_type": "code",
      "metadata": {
        "id": "Ur6HdZ_WHGj2",
        "colab_type": "code",
        "colab": {}
      },
      "source": [
        "# define input sequence\n",
        "raw_seq = X2\n",
        "# choose a number of time steps\n",
        "n_steps = 20\n",
        "# split into samples\n",
        "X2, z1 = split_sequence(raw_seq, n_steps)"
      ],
      "execution_count": 28,
      "outputs": []
    },
    {
      "cell_type": "code",
      "metadata": {
        "id": "5Lty21a8HQOo",
        "colab_type": "code",
        "colab": {
          "base_uri": "https://localhost:8080/",
          "height": 34
        },
        "outputId": "7995c248-11f8-42b6-a4a1-3d71a4ea5ad8"
      },
      "source": [
        "X2.shape"
      ],
      "execution_count": 29,
      "outputs": [
        {
          "output_type": "execute_result",
          "data": {
            "text/plain": [
              "(84971, 20)"
            ]
          },
          "metadata": {
            "tags": []
          },
          "execution_count": 29
        }
      ]
    },
    {
      "cell_type": "markdown",
      "metadata": {
        "id": "lshk53XiRcgh",
        "colab_type": "text"
      },
      "source": [
        "X2, z1 = split_sequence(raw_seq, n_steps)\n",
        "# reshape from [samples, timesteps] into [samples, timesteps, features]\n",
        "n_features = 1\n",
        "X2 = X2.reshape((X2.shape[0], X2.shape[1], n_features))"
      ]
    },
    {
      "cell_type": "code",
      "metadata": {
        "id": "2RMjPGNvH7t5",
        "colab_type": "code",
        "colab": {
          "base_uri": "https://localhost:8080/",
          "height": 34
        },
        "outputId": "bbd946cd-f73e-4461-8251-c01b824b4631"
      },
      "source": [
        "X2.shape"
      ],
      "execution_count": 30,
      "outputs": [
        {
          "output_type": "execute_result",
          "data": {
            "text/plain": [
              "(84971, 20)"
            ]
          },
          "metadata": {
            "tags": []
          },
          "execution_count": 30
        }
      ]
    },
    {
      "cell_type": "code",
      "metadata": {
        "id": "WPUv54t2H98Y",
        "colab_type": "code",
        "colab": {}
      },
      "source": [
        "#Working on the beam 3\n",
        "def split_sequence(sequence, n_steps):\n",
        "\tX3, z2 = list(), list()\n",
        "\tfor i in range(len(sequence)):\n",
        "\t\t# find the end of this pattern\n",
        "\t\tend_ix = i + n_steps\n",
        "\t\t# check if we are beyond the sequence\n",
        "\t\tif end_ix > len(sequence)-1:\n",
        "\t\t\tbreak\n",
        "\t\t# gather input and output parts of the pattern\n",
        "\t\tseq_x3, seq_z2 = sequence[i:end_ix], sequence[end_ix]\n",
        "\t\tX3.append(seq_x3)\n",
        "\t\tz2.append(seq_z2)\n",
        "\treturn array(X3), array(z2)"
      ],
      "execution_count": 31,
      "outputs": []
    },
    {
      "cell_type": "code",
      "metadata": {
        "id": "ysHbvHGFIUEo",
        "colab_type": "code",
        "colab": {
          "base_uri": "https://localhost:8080/",
          "height": 51
        },
        "outputId": "b653220d-571e-4096-c2f5-463b8eef0062"
      },
      "source": [
        "X3"
      ],
      "execution_count": 32,
      "outputs": [
        {
          "output_type": "execute_result",
          "data": {
            "text/plain": [
              "array([ 0.      , 20.      , 20.      , ...,  2.692715,  2.69274 ,\n",
              "        2.692755])"
            ]
          },
          "metadata": {
            "tags": []
          },
          "execution_count": 32
        }
      ]
    },
    {
      "cell_type": "code",
      "metadata": {
        "id": "RH7KEAxLIXx4",
        "colab_type": "code",
        "colab": {
          "base_uri": "https://localhost:8080/",
          "height": 34
        },
        "outputId": "b880587e-bf2b-4022-ea3e-4c62a4278c6f"
      },
      "source": [
        "X3.shape"
      ],
      "execution_count": 33,
      "outputs": [
        {
          "output_type": "execute_result",
          "data": {
            "text/plain": [
              "(84991,)"
            ]
          },
          "metadata": {
            "tags": []
          },
          "execution_count": 33
        }
      ]
    },
    {
      "cell_type": "code",
      "metadata": {
        "id": "NZVMrapeIZep",
        "colab_type": "code",
        "colab": {}
      },
      "source": [
        "scaled_data_For_Beam_Three=X3"
      ],
      "execution_count": 34,
      "outputs": []
    },
    {
      "cell_type": "code",
      "metadata": {
        "id": "i1Pa83wJIfDq",
        "colab_type": "code",
        "colab": {}
      },
      "source": [
        "# define input sequence\n",
        "raw_seq = X3\n",
        "# choose a number of time steps\n",
        "n_steps = 20\n",
        "# split into samples\n",
        "X3, z2 = split_sequence(raw_seq, n_steps)"
      ],
      "execution_count": 35,
      "outputs": []
    },
    {
      "cell_type": "code",
      "metadata": {
        "id": "3QgtLkGEIl16",
        "colab_type": "code",
        "colab": {
          "base_uri": "https://localhost:8080/",
          "height": 34
        },
        "outputId": "56c05af7-e09e-44c7-c224-2676f74c98ea"
      },
      "source": [
        "X3.shape"
      ],
      "execution_count": 36,
      "outputs": [
        {
          "output_type": "execute_result",
          "data": {
            "text/plain": [
              "(84971, 20)"
            ]
          },
          "metadata": {
            "tags": []
          },
          "execution_count": 36
        }
      ]
    },
    {
      "cell_type": "markdown",
      "metadata": {
        "id": "q6oX7E3ZRhbL",
        "colab_type": "text"
      },
      "source": [
        "X3, z2 = split_sequence(raw_seq, n_steps)\n",
        "# reshape from [samples, timesteps] into [samples, timesteps, features]\n",
        "n_features = 1\n",
        "X3 = X3.reshape((X3.shape[0], X3.shape[1], n_features))"
      ]
    },
    {
      "cell_type": "code",
      "metadata": {
        "id": "lp0SBc21IyP5",
        "colab_type": "code",
        "colab": {}
      },
      "source": [
        "#Working on the beam 3\n",
        "def split_sequence(sequence, n_steps):\n",
        "\tX4, z3 = list(), list()\n",
        "\tfor i in range(len(sequence)):\n",
        "\t\t# find the end of this pattern\n",
        "\t\tend_ix = i + n_steps\n",
        "\t\t# check if we are beyond the sequence\n",
        "\t\tif end_ix > len(sequence)-1:\n",
        "\t\t\tbreak\n",
        "\t\t# gather input and output parts of the pattern\n",
        "\t\tseq_x4, seq_z3 = sequence[i:end_ix], sequence[end_ix]\n",
        "\t\tX4.append(seq_x4)\n",
        "\t\tz3.append(seq_z3)\n",
        "\treturn array(X4), array(z3)"
      ],
      "execution_count": 37,
      "outputs": []
    },
    {
      "cell_type": "code",
      "metadata": {
        "id": "amF5NrLpKJvv",
        "colab_type": "code",
        "colab": {}
      },
      "source": [
        "scaled_data_For_Beam_Four=X4"
      ],
      "execution_count": 38,
      "outputs": []
    },
    {
      "cell_type": "code",
      "metadata": {
        "id": "FKHcvZBEKPqN",
        "colab_type": "code",
        "colab": {}
      },
      "source": [
        "# define input sequence\n",
        "raw_seq = X4\n",
        "# choose a number of time steps\n",
        "n_steps = 20\n",
        "# split into samples\n",
        "X4, z3 = split_sequence(raw_seq, n_steps)"
      ],
      "execution_count": 39,
      "outputs": []
    },
    {
      "cell_type": "code",
      "metadata": {
        "id": "Jfg2umjFKVps",
        "colab_type": "code",
        "colab": {
          "base_uri": "https://localhost:8080/",
          "height": 34
        },
        "outputId": "980ab90e-81f3-4965-db8e-3d4346774c9b"
      },
      "source": [
        "X4.shape"
      ],
      "execution_count": 40,
      "outputs": [
        {
          "output_type": "execute_result",
          "data": {
            "text/plain": [
              "(84971, 20)"
            ]
          },
          "metadata": {
            "tags": []
          },
          "execution_count": 40
        }
      ]
    },
    {
      "cell_type": "markdown",
      "metadata": {
        "id": "llBEntTBRkOo",
        "colab_type": "text"
      },
      "source": [
        "X4, z3 = split_sequence(raw_seq, n_steps)\n",
        "# reshape from [samples, timesteps] into [samples, timesteps, features]\n",
        "n_features = 1\n",
        "X4 = X4.reshape((X4.shape[0], X4.shape[1], n_features))"
      ]
    },
    {
      "cell_type": "code",
      "metadata": {
        "id": "uxj3JUMeKf8R",
        "colab_type": "code",
        "colab": {
          "base_uri": "https://localhost:8080/",
          "height": 34
        },
        "outputId": "8bb1cd2a-4aa3-4a11-9bbc-e51df98fee27"
      },
      "source": [
        "X4.shape"
      ],
      "execution_count": 41,
      "outputs": [
        {
          "output_type": "execute_result",
          "data": {
            "text/plain": [
              "(84971, 20)"
            ]
          },
          "metadata": {
            "tags": []
          },
          "execution_count": 41
        }
      ]
    },
    {
      "cell_type": "code",
      "metadata": {
        "id": "xKXlSZgdKq3O",
        "colab_type": "code",
        "colab": {}
      },
      "source": [
        "#Labeling the data\n",
        "def split_sequence(sequence, n_steps):\n",
        "\ty1, o = list(), list()\n",
        "\tfor i in range(len(sequence)):\n",
        "\t\t# find the end of this pattern\n",
        "\t\tend_ix = i + n_steps\n",
        "\t\t# check if we are beyond the sequence\n",
        "\t\tif end_ix > len(sequence)-1:\n",
        "\t\t\tbreak\n",
        "\t\t# gather input and output parts of the pattern\n",
        "\t\tseq_y1, seq_o = sequence[i:end_ix], sequence[end_ix]\n",
        "\t\ty1.append(seq_y1)\n",
        "\t\to.append(seq_o)\n",
        "\treturn array(y1), array(o)"
      ],
      "execution_count": 42,
      "outputs": []
    },
    {
      "cell_type": "code",
      "metadata": {
        "id": "OAPQzeGjLFDL",
        "colab_type": "code",
        "colab": {
          "base_uri": "https://localhost:8080/",
          "height": 51
        },
        "outputId": "08e7934a-41b5-45dc-8160-4cba259e028a"
      },
      "source": [
        "y1"
      ],
      "execution_count": 43,
      "outputs": [
        {
          "output_type": "execute_result",
          "data": {
            "text/plain": [
              "array([ 0.      , 20.      , 20.      , ...,  2.692715,  2.69274 ,\n",
              "        2.692755])"
            ]
          },
          "metadata": {
            "tags": []
          },
          "execution_count": 43
        }
      ]
    },
    {
      "cell_type": "code",
      "metadata": {
        "id": "nOR7BYraLMqS",
        "colab_type": "code",
        "colab": {}
      },
      "source": [
        "Label_Data_Beam_1= y1"
      ],
      "execution_count": 44,
      "outputs": []
    },
    {
      "cell_type": "code",
      "metadata": {
        "id": "5qFMTr2JM6oq",
        "colab_type": "code",
        "colab": {
          "base_uri": "https://localhost:8080/",
          "height": 34
        },
        "outputId": "3475631a-7e4d-4c68-95ba-511dd7a4cd09"
      },
      "source": [
        "y1.shape"
      ],
      "execution_count": 45,
      "outputs": [
        {
          "output_type": "execute_result",
          "data": {
            "text/plain": [
              "(84991,)"
            ]
          },
          "metadata": {
            "tags": []
          },
          "execution_count": 45
        }
      ]
    },
    {
      "cell_type": "code",
      "metadata": {
        "id": "4p778TM-M9LI",
        "colab_type": "code",
        "colab": {}
      },
      "source": [
        "# define input sequence\n",
        "raw_seq = y1\n",
        "# choose a number of time steps\n",
        "n_steps = 20\n",
        "# split into samples\n",
        "y1, o = split_sequence(raw_seq, n_steps)"
      ],
      "execution_count": 46,
      "outputs": []
    },
    {
      "cell_type": "markdown",
      "metadata": {
        "id": "nw-JKwpQR7SI",
        "colab_type": "text"
      },
      "source": [
        "y1, o = split_sequence(raw_seq, n_steps)\n",
        "# reshape from [samples, timesteps] into [samples, timesteps, features]\n",
        "n_features = 1\n",
        "y1 = y1.reshape((y1.shape[0], y1.shape[1], n_features))"
      ]
    },
    {
      "cell_type": "code",
      "metadata": {
        "id": "bmDTzUCNNOI9",
        "colab_type": "code",
        "colab": {}
      },
      "source": [
        "#Labeling the data\n",
        "def split_sequence(sequence, n_steps):\n",
        "\ty2, oo = list(), list()\n",
        "\tfor i in range(len(sequence)):\n",
        "\t\t# find the end of this pattern\n",
        "\t\tend_ix = i + n_steps\n",
        "\t\t# check if we are beyond the sequence\n",
        "\t\tif end_ix > len(sequence)-1:\n",
        "\t\t\tbreak\n",
        "\t\t# gather input and output parts of the pattern\n",
        "\t\tseq_y2, seq_oo = sequence[i:end_ix], sequence[end_ix]\n",
        "\t\ty2.append(seq_y2)\n",
        "\t\too.append(seq_oo)\n",
        "\treturn array(y2), array(oo)\n",
        "Label_Data_Beam_2= y2\n",
        " # define input sequence\n",
        "raw_seq = y2\n",
        "# choose a number of time steps\n",
        "n_steps = 20\n",
        "# split into samples\n",
        "y2, oo = split_sequence(raw_seq, n_steps)"
      ],
      "execution_count": 47,
      "outputs": []
    },
    {
      "cell_type": "code",
      "metadata": {
        "id": "4YYfVLTrNVvd",
        "colab_type": "code",
        "colab": {
          "base_uri": "https://localhost:8080/",
          "height": 34
        },
        "outputId": "fb09bed1-71d7-4905-b8fa-aae8a1055059"
      },
      "source": [
        "y2.shape"
      ],
      "execution_count": 48,
      "outputs": [
        {
          "output_type": "execute_result",
          "data": {
            "text/plain": [
              "(84971, 20)"
            ]
          },
          "metadata": {
            "tags": []
          },
          "execution_count": 48
        }
      ]
    },
    {
      "cell_type": "markdown",
      "metadata": {
        "id": "2Ila0KcSR9YR",
        "colab_type": "text"
      },
      "source": [
        "y2, oo = split_sequence(raw_seq, n_steps)\n",
        "# reshape from [samples, timesteps] into [samples, timesteps, features]\n",
        "n_features = 1\n",
        "y2 = y2.reshape((y2.shape[0], y2.shape[1], n_features))"
      ]
    },
    {
      "cell_type": "code",
      "metadata": {
        "id": "QKtCHUncNz7h",
        "colab_type": "code",
        "colab": {
          "base_uri": "https://localhost:8080/",
          "height": 34
        },
        "outputId": "1abee1a1-6e60-4453-ad94-3be1b4a672ea"
      },
      "source": [
        "y2.shape"
      ],
      "execution_count": 49,
      "outputs": [
        {
          "output_type": "execute_result",
          "data": {
            "text/plain": [
              "(84971, 20)"
            ]
          },
          "metadata": {
            "tags": []
          },
          "execution_count": 49
        }
      ]
    },
    {
      "cell_type": "code",
      "metadata": {
        "id": "7Ez6RIVcN1Oh",
        "colab_type": "code",
        "colab": {}
      },
      "source": [
        "#Labeling the data from the beam 3\n"
      ],
      "execution_count": 50,
      "outputs": []
    },
    {
      "cell_type": "code",
      "metadata": {
        "colab_type": "code",
        "id": "61dDcGgsN7cT",
        "colab": {}
      },
      "source": [
        "#Labeling the data\n",
        "def split_sequence(sequence, n_steps):\n",
        "\ty3, ooo = list(), list()\n",
        "\tfor i in range(len(sequence)):\n",
        "\t\t# find the end of this pattern\n",
        "\t\tend_ix = i + n_steps\n",
        "\t\t# check if we are beyond the sequence\n",
        "\t\tif end_ix > len(sequence)-1:\n",
        "\t\t\tbreak\n",
        "\t\t# gather input and output parts of the pattern\n",
        "\t\tseq_y3, seq_ooo = sequence[i:end_ix], sequence[end_ix]\n",
        "\t\ty3.append(seq_y3)\n",
        "\t\tooo.append(seq_ooo)\n",
        "\treturn array(y3), array(ooo)\n",
        "Label_Data_Beam_3= y3\n",
        " # define input sequence\n",
        "raw_seq = y3\n",
        "# choose a number of time steps\n",
        "n_steps = 20\n",
        "# split into samples\n",
        "y3, ooo = split_sequence(raw_seq, n_steps)"
      ],
      "execution_count": 51,
      "outputs": []
    },
    {
      "cell_type": "code",
      "metadata": {
        "id": "ojP5ZgL5OHF5",
        "colab_type": "code",
        "colab": {
          "base_uri": "https://localhost:8080/",
          "height": 34
        },
        "outputId": "4b7831db-2167-41dd-d8b1-f54e7c45c2e6"
      },
      "source": [
        "y3.shape"
      ],
      "execution_count": 52,
      "outputs": [
        {
          "output_type": "execute_result",
          "data": {
            "text/plain": [
              "(84971, 20)"
            ]
          },
          "metadata": {
            "tags": []
          },
          "execution_count": 52
        }
      ]
    },
    {
      "cell_type": "markdown",
      "metadata": {
        "id": "43fOCumNSAHe",
        "colab_type": "text"
      },
      "source": [
        "y3, ooo = split_sequence(raw_seq, n_steps)\n",
        "# reshape from [samples, timesteps] into [samples, timesteps, features]\n",
        "n_features = 1\n",
        "y3 = y3.reshape((y3.shape[0], y3.shape[1], n_features))"
      ]
    },
    {
      "cell_type": "code",
      "metadata": {
        "id": "jWPTDAXeOPMD",
        "colab_type": "code",
        "colab": {}
      },
      "source": [
        "#Labeling the Beam 4"
      ],
      "execution_count": 53,
      "outputs": []
    },
    {
      "cell_type": "code",
      "metadata": {
        "id": "aHK44F7oPqIL",
        "colab_type": "code",
        "colab": {}
      },
      "source": [
        "#Labeling the data\n",
        "def split_sequence(sequence, n_steps):\n",
        "\ty4, oooo = list(), list()\n",
        "\tfor i in range(len(sequence)):\n",
        "\t\t# find the end of this pattern\n",
        "\t\tend_ix = i + n_steps\n",
        "\t\t# check if we are beyond the sequence\n",
        "\t\tif end_ix > len(sequence)-1:\n",
        "\t\t\tbreak\n",
        "\t\t# gather input and output parts of the pattern\n",
        "\t\tseq_y4, seq_oooo = sequence[i:end_ix], sequence[end_ix]\n",
        "\t\ty4.append(seq_y4)\n",
        "\t\toooo.append(seq_oooo)\n",
        "\treturn array(y4), array(oooo)\n",
        "Label_Data_Beam_4= y4\n",
        " # define input sequence\n",
        "raw_seq = y4\n",
        "# choose a number of time steps\n",
        "n_steps = 20\n",
        "# split into samples\n",
        "y4, oooo = split_sequence(raw_seq, n_steps)"
      ],
      "execution_count": 54,
      "outputs": []
    },
    {
      "cell_type": "code",
      "metadata": {
        "id": "gNMVFrWKP1jY",
        "colab_type": "code",
        "colab": {
          "base_uri": "https://localhost:8080/",
          "height": 34
        },
        "outputId": "ee4bd7ea-e1a3-4da5-9ae8-26851804af96"
      },
      "source": [
        "y4.shape"
      ],
      "execution_count": 55,
      "outputs": [
        {
          "output_type": "execute_result",
          "data": {
            "text/plain": [
              "(84971, 20)"
            ]
          },
          "metadata": {
            "tags": []
          },
          "execution_count": 55
        }
      ]
    },
    {
      "cell_type": "markdown",
      "metadata": {
        "id": "kvYg0qI7SCdq",
        "colab_type": "text"
      },
      "source": [
        "y4, oooo = split_sequence(raw_seq, n_steps)\n",
        "# reshape from [samples, timesteps] into [samples, timesteps, features]\n",
        "n_features = 1\n",
        "y4 = y4.reshape((y4.shape[0], y4.shape[1], n_features))"
      ]
    },
    {
      "cell_type": "code",
      "metadata": {
        "id": "pDD6XDzOP9i5",
        "colab_type": "code",
        "colab": {
          "base_uri": "https://localhost:8080/",
          "height": 34
        },
        "outputId": "b03b5e26-8f22-4072-a531-a4fa5159bb16"
      },
      "source": [
        "y4.shape"
      ],
      "execution_count": 56,
      "outputs": [
        {
          "output_type": "execute_result",
          "data": {
            "text/plain": [
              "(84971, 20)"
            ]
          },
          "metadata": {
            "tags": []
          },
          "execution_count": 56
        }
      ]
    },
    {
      "cell_type": "code",
      "metadata": {
        "id": "a5qnQ-wuP_s5",
        "colab_type": "code",
        "colab": {
          "base_uri": "https://localhost:8080/",
          "height": 34
        },
        "outputId": "5c640f4b-279d-45eb-c804-1deefd9a02cd"
      },
      "source": [
        "X1.shape"
      ],
      "execution_count": 57,
      "outputs": [
        {
          "output_type": "execute_result",
          "data": {
            "text/plain": [
              "(84971, 20)"
            ]
          },
          "metadata": {
            "tags": []
          },
          "execution_count": 57
        }
      ]
    },
    {
      "cell_type": "code",
      "metadata": {
        "id": "Z4PTMVh-QRu6",
        "colab_type": "code",
        "colab": {
          "base_uri": "https://localhost:8080/",
          "height": 34
        },
        "outputId": "741491ec-c9d3-4892-eb5f-a48a245a8013"
      },
      "source": [
        "X2.shape"
      ],
      "execution_count": 58,
      "outputs": [
        {
          "output_type": "execute_result",
          "data": {
            "text/plain": [
              "(84971, 20)"
            ]
          },
          "metadata": {
            "tags": []
          },
          "execution_count": 58
        }
      ]
    },
    {
      "cell_type": "code",
      "metadata": {
        "id": "3WTuju83QTMQ",
        "colab_type": "code",
        "colab": {
          "base_uri": "https://localhost:8080/",
          "height": 34
        },
        "outputId": "1258f086-662f-48fc-faf8-e249acaee4ef"
      },
      "source": [
        "X3.shape"
      ],
      "execution_count": 59,
      "outputs": [
        {
          "output_type": "execute_result",
          "data": {
            "text/plain": [
              "(84971, 20)"
            ]
          },
          "metadata": {
            "tags": []
          },
          "execution_count": 59
        }
      ]
    },
    {
      "cell_type": "code",
      "metadata": {
        "id": "2yZDqrZlQW0Y",
        "colab_type": "code",
        "colab": {
          "base_uri": "https://localhost:8080/",
          "height": 34
        },
        "outputId": "5587bee9-8f66-444c-8c8f-ed54cadbd66b"
      },
      "source": [
        "X4.shape"
      ],
      "execution_count": 60,
      "outputs": [
        {
          "output_type": "execute_result",
          "data": {
            "text/plain": [
              "(84971, 20)"
            ]
          },
          "metadata": {
            "tags": []
          },
          "execution_count": 60
        }
      ]
    },
    {
      "cell_type": "code",
      "metadata": {
        "id": "heqiQ_c8QXpr",
        "colab_type": "code",
        "colab": {
          "base_uri": "https://localhost:8080/",
          "height": 34
        },
        "outputId": "a45132c1-c1c0-4861-eee8-f539a003e8a0"
      },
      "source": [
        "y1.shape"
      ],
      "execution_count": 61,
      "outputs": [
        {
          "output_type": "execute_result",
          "data": {
            "text/plain": [
              "(84971, 20)"
            ]
          },
          "metadata": {
            "tags": []
          },
          "execution_count": 61
        }
      ]
    },
    {
      "cell_type": "code",
      "metadata": {
        "id": "HbJw6JhLQYy4",
        "colab_type": "code",
        "colab": {
          "base_uri": "https://localhost:8080/",
          "height": 34
        },
        "outputId": "a0842554-59b3-4846-af20-00cdcb5f1882"
      },
      "source": [
        "y2.shape"
      ],
      "execution_count": 62,
      "outputs": [
        {
          "output_type": "execute_result",
          "data": {
            "text/plain": [
              "(84971, 20)"
            ]
          },
          "metadata": {
            "tags": []
          },
          "execution_count": 62
        }
      ]
    },
    {
      "cell_type": "code",
      "metadata": {
        "id": "HT_NPC_KQZXZ",
        "colab_type": "code",
        "colab": {
          "base_uri": "https://localhost:8080/",
          "height": 34
        },
        "outputId": "10e80a47-b1f5-4a52-8fbd-fbfbe21ea3fd"
      },
      "source": [
        "y3.shape"
      ],
      "execution_count": 63,
      "outputs": [
        {
          "output_type": "execute_result",
          "data": {
            "text/plain": [
              "(84971, 20)"
            ]
          },
          "metadata": {
            "tags": []
          },
          "execution_count": 63
        }
      ]
    },
    {
      "cell_type": "code",
      "metadata": {
        "id": "juR7c7CTQZ-I",
        "colab_type": "code",
        "colab": {
          "base_uri": "https://localhost:8080/",
          "height": 34
        },
        "outputId": "309c79fa-813b-4ee8-ee45-6317c48fa9f2"
      },
      "source": [
        "y4.shape"
      ],
      "execution_count": 64,
      "outputs": [
        {
          "output_type": "execute_result",
          "data": {
            "text/plain": [
              "(84971, 20)"
            ]
          },
          "metadata": {
            "tags": []
          },
          "execution_count": 64
        }
      ]
    },
    {
      "cell_type": "code",
      "metadata": {
        "id": "zmhl0v6oQawY",
        "colab_type": "code",
        "colab": {}
      },
      "source": [
        "#Forming a stack of the input (X) and creating a new vector to get more and more information"
      ],
      "execution_count": 65,
      "outputs": []
    },
    {
      "cell_type": "code",
      "metadata": {
        "id": "jBLm4E9nQlCp",
        "colab_type": "code",
        "colab": {
          "base_uri": "https://localhost:8080/",
          "height": 279
        },
        "outputId": "60aa67f9-2fd6-47fc-fc58-6069270a1e39"
      },
      "source": [
        "ax = plt.gca()\n",
        "#Inputs\n",
        "df2.plot(kind='line',x='Time',y='DVL1_S', color='black', ax=ax)\n",
        "df2.plot(kind='line',x='Time',y='DVL2_S', color='red', ax=ax)\n",
        "df2.plot(kind='line',x='Time',y='DVL3_S', color='green', ax=ax)\n",
        "df2.plot(kind='line',x='Time',y='DVL4_S', color='yellow', ax=ax)\n",
        "\n",
        "plt.show()"
      ],
      "execution_count": 66,
      "outputs": [
        {
          "output_type": "display_data",
          "data": {
            "image/png": "[encoded data removed]",
            "text/plain": [
              "<Figure size 432x288 with 1 Axes>"
            ]
          },
          "metadata": {
            "tags": [],
            "needs_background": "light"
          }
        }
      ]
    },
    {
      "cell_type": "code",
      "metadata": {
        "id": "FTTdQA4sQ1xd",
        "colab_type": "code",
        "colab": {
          "base_uri": "https://localhost:8080/",
          "height": 279
        },
        "outputId": "cf66c8f3-a204-416b-bd25-496a465cd023"
      },
      "source": [
        "ax = plt.gca()\n",
        "#Ground Trth\n",
        "df2.plot(kind='line',x='Time',y='DVL1', color='black', ax=ax)\n",
        "df2.plot(kind='line',x='Time',y='DVL2', color='red', ax=ax)\n",
        "df2.plot(kind='line',x='Time',y='DVL3', color='green', ax=ax)\n",
        "df2.plot(kind='line',x='Time',y='DVL4', color='yellow', ax=ax)\n",
        "\n",
        "plt.show()"
      ],
      "execution_count": 67,
      "outputs": [
        {
          "output_type": "display_data",
          "data": {
            "image/png": "[encoded data removed]",
            "text/plain": [
              "<Figure size 432x288 with 1 Axes>"
            ]
          },
          "metadata": {
            "tags": [],
            "needs_background": "light"
          }
        }
      ]
    },
    {
      "cell_type": "code",
      "metadata": {
        "id": "B3jT7Yl1Q4EQ",
        "colab_type": "code",
        "colab": {
          "base_uri": "https://localhost:8080/",
          "height": 595
        },
        "outputId": "4b5505a5-5ad6-44d6-876c-c612fc160b33"
      },
      "source": [
        "# Stacking the two arrays along axis 0 \n",
        "out_lab1 = geek.stack((y1, y2, y3, y4), axis = 0) \n",
        "print (\"Output stacked array along axis 0:\\n \", out_lab1) \n",
        "print (\"Labels Shape :\\n \", out_lab1.shape) "
      ],
      "execution_count": 68,
      "outputs": [
        {
          "output_type": "stream",
          "text": [
            "Output stacked array along axis 0:\n",
            "  [[[ 0.       20.       20.       ... 20.       20.       20.      ]\n",
            "  [20.       20.       20.       ... 20.       20.       20.      ]\n",
            "  [20.       20.       20.       ... 20.       20.       20.      ]\n",
            "  ...\n",
            "  [ 2.688453  2.688984  2.689416 ...  2.692583  2.692643  2.692682]\n",
            "  [ 2.688984  2.689416  2.689849 ...  2.692643  2.692682  2.692715]\n",
            "  [ 2.689416  2.689849  2.690236 ...  2.692682  2.692715  2.69274 ]]\n",
            "\n",
            " [[ 0.       20.       20.       ... 20.       20.       20.      ]\n",
            "  [20.       20.       20.       ... 20.       20.       20.      ]\n",
            "  [20.       20.       20.       ... 20.       20.       20.      ]\n",
            "  ...\n",
            "  [ 2.598028  2.599904  2.601582 ...  2.626569  2.628101  2.629319]\n",
            "  [ 2.599904  2.601582  2.603432 ...  2.628101  2.629319  2.630637]\n",
            "  [ 2.601582  2.603432  2.605265 ...  2.629319  2.630637  2.631916]]\n",
            "\n",
            " [[ 0.       20.       20.       ... 20.       20.       20.      ]\n",
            "  [20.       20.       20.       ... 20.       20.       20.      ]\n",
            "  [20.       20.       20.       ... 20.       20.       20.      ]\n",
            "  ...\n",
            "  [ 2.620339  2.620585  2.620796 ...  2.620876  2.620548  2.620243]\n",
            "  [ 2.620585  2.620796  2.621015 ...  2.620548  2.620243  2.619866]\n",
            "  [ 2.620796  2.621015  2.621214 ...  2.620243  2.619866  2.61945 ]]\n",
            "\n",
            " [[ 0.       20.       20.       ... 20.       20.       20.      ]\n",
            "  [20.       20.       20.       ... 20.       20.       20.      ]\n",
            "  [20.       20.       20.       ... 20.       20.       20.      ]\n",
            "  ...\n",
            "  [ 2.611883  2.612417  2.612851 ...  2.615849  2.615895  2.615925]\n",
            "  [ 2.612417  2.612851  2.613284 ...  2.615895  2.615925  2.615951]\n",
            "  [ 2.612851  2.613284  2.61367  ...  2.615925  2.615951  2.61597 ]]]\n",
            "Labels Shape :\n",
            "  (4, 84971, 20)\n"
          ],
          "name": "stdout"
        }
      ]
    },
    {
      "cell_type": "code",
      "metadata": {
        "id": "X2RT-VtkRAXi",
        "colab_type": "code",
        "colab": {}
      },
      "source": [
        "y=out_lab1"
      ],
      "execution_count": 69,
      "outputs": []
    },
    {
      "cell_type": "code",
      "metadata": {
        "id": "JKCY98X4Si2S",
        "colab_type": "code",
        "colab": {
          "base_uri": "https://localhost:8080/",
          "height": 34
        },
        "outputId": "11792689-1412-43fe-f103-52ddbb2c2e4e"
      },
      "source": [
        "y.shape"
      ],
      "execution_count": 70,
      "outputs": [
        {
          "output_type": "execute_result",
          "data": {
            "text/plain": [
              "(4, 84971, 20)"
            ]
          },
          "metadata": {
            "tags": []
          },
          "execution_count": 70
        }
      ]
    },
    {
      "cell_type": "code",
      "metadata": {
        "id": "hJQWnBPCSj_B",
        "colab_type": "code",
        "colab": {}
      },
      "source": [
        "y = y.transpose((0,2,1))"
      ],
      "execution_count": 71,
      "outputs": []
    },
    {
      "cell_type": "code",
      "metadata": {
        "id": "IPI5v5WqTQoH",
        "colab_type": "code",
        "colab": {
          "base_uri": "https://localhost:8080/",
          "height": 34
        },
        "outputId": "c82ad940-8239-4613-f036-1c62faa418b1"
      },
      "source": [
        "y.shape"
      ],
      "execution_count": 72,
      "outputs": [
        {
          "output_type": "execute_result",
          "data": {
            "text/plain": [
              "(4, 20, 84971)"
            ]
          },
          "metadata": {
            "tags": []
          },
          "execution_count": 72
        }
      ]
    },
    {
      "cell_type": "code",
      "metadata": {
        "id": "dLaiNbngTR6D",
        "colab_type": "code",
        "colab": {}
      },
      "source": [
        "y = y.transpose((1,2,0))"
      ],
      "execution_count": 73,
      "outputs": []
    },
    {
      "cell_type": "code",
      "metadata": {
        "id": "fT0xQTFgTumG",
        "colab_type": "code",
        "colab": {
          "base_uri": "https://localhost:8080/",
          "height": 34
        },
        "outputId": "55cbd87f-a9ab-4776-e1e8-f3475b3ad372"
      },
      "source": [
        "y.shape"
      ],
      "execution_count": 74,
      "outputs": [
        {
          "output_type": "execute_result",
          "data": {
            "text/plain": [
              "(20, 84971, 4)"
            ]
          },
          "metadata": {
            "tags": []
          },
          "execution_count": 74
        }
      ]
    },
    {
      "cell_type": "code",
      "metadata": {
        "id": "74708HZFTvj1",
        "colab_type": "code",
        "colab": {}
      },
      "source": [
        "y = y.transpose((2,1,0))\n"
      ],
      "execution_count": 75,
      "outputs": []
    },
    {
      "cell_type": "code",
      "metadata": {
        "id": "6-En1BqXT3-1",
        "colab_type": "code",
        "colab": {
          "base_uri": "https://localhost:8080/",
          "height": 34
        },
        "outputId": "237f7b8d-e441-4942-a090-9cd9284efe18"
      },
      "source": [
        "y.shape"
      ],
      "execution_count": 76,
      "outputs": [
        {
          "output_type": "execute_result",
          "data": {
            "text/plain": [
              "(4, 84971, 20)"
            ]
          },
          "metadata": {
            "tags": []
          },
          "execution_count": 76
        }
      ]
    },
    {
      "cell_type": "code",
      "metadata": {
        "id": "auz-J6oNT4-k",
        "colab_type": "code",
        "colab": {}
      },
      "source": [
        "y = y.transpose((1,2,0))"
      ],
      "execution_count": 77,
      "outputs": []
    },
    {
      "cell_type": "code",
      "metadata": {
        "id": "DwBn1PooWGuV",
        "colab_type": "code",
        "colab": {
          "base_uri": "https://localhost:8080/",
          "height": 34
        },
        "outputId": "369be43c-e21f-495d-c722-e83b31f0736b"
      },
      "source": [
        "y.shape"
      ],
      "execution_count": 78,
      "outputs": [
        {
          "output_type": "execute_result",
          "data": {
            "text/plain": [
              "(84971, 20, 4)"
            ]
          },
          "metadata": {
            "tags": []
          },
          "execution_count": 78
        }
      ]
    },
    {
      "cell_type": "code",
      "metadata": {
        "id": "2kIh-7ycWIpO",
        "colab_type": "code",
        "colab": {
          "base_uri": "https://localhost:8080/",
          "height": 595
        },
        "outputId": "3846cbea-5b9a-42f3-9f54-edb52d4e29fd"
      },
      "source": [
        "# Stacking the two arrays along axis 0 \n",
        "out_arr1 = geek.stack((X1, X2, X3,X4), axis = 0) \n",
        "print (\"Output stacked array along axis 0:\\n \", out_arr1) \n",
        "print (\"Output Shape:\\n \", out_arr1.shape) "
      ],
      "execution_count": 79,
      "outputs": [
        {
          "output_type": "stream",
          "text": [
            "Output stacked array along axis 0:\n",
            "  [[[ 0.       20.       20.       ... 20.       20.       20.      ]\n",
            "  [20.       20.       20.       ... 20.       20.       20.      ]\n",
            "  [20.       20.       20.       ... 20.       20.       20.      ]\n",
            "  ...\n",
            "  [ 2.688453  2.688984  2.689416 ...  2.692583  2.692643  2.692682]\n",
            "  [ 2.688984  2.689416  0.8      ...  2.692643  2.692682  2.692715]\n",
            "  [ 2.689416  0.8       0.8      ...  2.692682  2.692715  2.69274 ]]\n",
            "\n",
            " [[ 0.       20.       20.       ... 20.       20.       20.      ]\n",
            "  [20.       20.       20.       ... 20.       20.       20.      ]\n",
            "  [20.       20.       20.       ... 20.       20.       20.      ]\n",
            "  ...\n",
            "  [ 2.598028  2.599904  2.601582 ...  1.8       1.8       1.8     ]\n",
            "  [ 2.599904  2.601582  0.3      ...  1.8       1.8       1.8     ]\n",
            "  [ 2.601582  0.3       0.3      ...  1.8       1.8       1.8     ]]\n",
            "\n",
            " [[ 0.       20.       20.       ... 20.       20.       20.      ]\n",
            "  [20.       20.       20.       ... 20.       20.       20.      ]\n",
            "  [20.       20.       20.       ... 20.       20.       20.      ]\n",
            "  ...\n",
            "  [ 2.688453  2.688984  2.689416 ...  2.692583  2.692643  2.692682]\n",
            "  [ 2.688984  2.689416  0.8      ...  2.692643  2.692682  2.692715]\n",
            "  [ 2.689416  0.8       0.8      ...  2.692682  2.692715  2.69274 ]]\n",
            "\n",
            " [[ 0.       20.       20.       ... 20.       20.       20.      ]\n",
            "  [20.       20.       20.       ... 20.       20.       20.      ]\n",
            "  [20.       20.       20.       ... 20.       20.       20.      ]\n",
            "  ...\n",
            "  [ 2.611883  2.612417  2.612851 ...  2.615849  2.615895  2.615925]\n",
            "  [ 2.612417  2.612851  1.8      ...  2.615895  2.615925  2.615951]\n",
            "  [ 2.612851  1.8       1.8      ...  2.615925  2.615951  2.61597 ]]]\n",
            "Output Shape:\n",
            "  (4, 84971, 20)\n"
          ],
          "name": "stdout"
        }
      ]
    },
    {
      "cell_type": "code",
      "metadata": {
        "id": "7E6-5M0sW-P0",
        "colab_type": "code",
        "colab": {}
      },
      "source": [
        "X= out_arr1"
      ],
      "execution_count": 80,
      "outputs": []
    },
    {
      "cell_type": "code",
      "metadata": {
        "id": "vbKoQv8UXCoT",
        "colab_type": "code",
        "colab": {
          "base_uri": "https://localhost:8080/",
          "height": 34
        },
        "outputId": "db46cfcb-ba75-4bff-b9a9-94af53e9f827"
      },
      "source": [
        "X.shape"
      ],
      "execution_count": 81,
      "outputs": [
        {
          "output_type": "execute_result",
          "data": {
            "text/plain": [
              "(4, 84971, 20)"
            ]
          },
          "metadata": {
            "tags": []
          },
          "execution_count": 81
        }
      ]
    },
    {
      "cell_type": "code",
      "metadata": {
        "id": "vbGd4fXyXDmX",
        "colab_type": "code",
        "colab": {}
      },
      "source": [
        "X = X.transpose((1,2,0))"
      ],
      "execution_count": 82,
      "outputs": []
    },
    {
      "cell_type": "code",
      "metadata": {
        "id": "rtNn9Ec5XHJj",
        "colab_type": "code",
        "colab": {
          "base_uri": "https://localhost:8080/",
          "height": 34
        },
        "outputId": "d9ca26eb-b249-4377-b8cb-4884882f79af"
      },
      "source": [
        "X.shape"
      ],
      "execution_count": 83,
      "outputs": [
        {
          "output_type": "execute_result",
          "data": {
            "text/plain": [
              "(84971, 20, 4)"
            ]
          },
          "metadata": {
            "tags": []
          },
          "execution_count": 83
        }
      ]
    },
    {
      "cell_type": "code",
      "metadata": {
        "id": "BhyIErXkXIrj",
        "colab_type": "code",
        "colab": {}
      },
      "source": [
        "#Dividing the data in to the training, testing and validation sets\n",
        "#Prepare the nice data set\n",
        "from sklearn.model_selection import train_test_split"
      ],
      "execution_count": 84,
      "outputs": []
    },
    {
      "cell_type": "code",
      "metadata": {
        "id": "VhC7UISJXYOl",
        "colab_type": "code",
        "colab": {}
      },
      "source": [
        "X_train, X_test, y_train, y_test= train_test_split(X, y, test_size=0.2, random_state=1)\n",
        "X_train, X_val, y_train, y_val= train_test_split(X_train, y_train, test_size=0.25, random_state=1)"
      ],
      "execution_count": 85,
      "outputs": []
    },
    {
      "cell_type": "code",
      "metadata": {
        "id": "WTh8Lg6gGHus",
        "colab_type": "code",
        "colab": {
          "base_uri": "https://localhost:8080/",
          "height": 34
        },
        "outputId": "0878c44c-b012-4542-caf9-e94b8b2ac138"
      },
      "source": [
        "X_train.shape"
      ],
      "execution_count": 86,
      "outputs": [
        {
          "output_type": "execute_result",
          "data": {
            "text/plain": [
              "(50982, 20, 4)"
            ]
          },
          "metadata": {
            "tags": []
          },
          "execution_count": 86
        }
      ]
    },
    {
      "cell_type": "code",
      "metadata": {
        "id": "o6siwHzpGM5B",
        "colab_type": "code",
        "colab": {
          "base_uri": "https://localhost:8080/",
          "height": 34
        },
        "outputId": "2eb25483-ad0e-4f31-f4a4-adcab6f1fd5a"
      },
      "source": [
        "X_val.shape"
      ],
      "execution_count": 87,
      "outputs": [
        {
          "output_type": "execute_result",
          "data": {
            "text/plain": [
              "(16994, 20, 4)"
            ]
          },
          "metadata": {
            "tags": []
          },
          "execution_count": 87
        }
      ]
    },
    {
      "cell_type": "code",
      "metadata": {
        "id": "hXucheZjXm01",
        "colab_type": "code",
        "colab": {
          "base_uri": "https://localhost:8080/",
          "height": 34
        },
        "outputId": "5fc301cf-7b6e-4f0c-cc9b-fd4b750f509d"
      },
      "source": [
        "X_test.shape"
      ],
      "execution_count": 88,
      "outputs": [
        {
          "output_type": "execute_result",
          "data": {
            "text/plain": [
              "(16995, 20, 4)"
            ]
          },
          "metadata": {
            "tags": []
          },
          "execution_count": 88
        }
      ]
    },
    {
      "cell_type": "code",
      "metadata": {
        "id": "jkggfreIXrLD",
        "colab_type": "code",
        "colab": {
          "base_uri": "https://localhost:8080/",
          "height": 34
        },
        "outputId": "6a2a4fc5-ebee-41b6-828a-b69f24d3f829"
      },
      "source": [
        "y_train.shape"
      ],
      "execution_count": 89,
      "outputs": [
        {
          "output_type": "execute_result",
          "data": {
            "text/plain": [
              "(50982, 20, 4)"
            ]
          },
          "metadata": {
            "tags": []
          },
          "execution_count": 89
        }
      ]
    },
    {
      "cell_type": "code",
      "metadata": {
        "id": "eDk1y43UXtRG",
        "colab_type": "code",
        "colab": {
          "base_uri": "https://localhost:8080/",
          "height": 34
        },
        "outputId": "17dccd0f-b3a0-4e49-f6bd-69dc2c36a5de"
      },
      "source": [
        "y_test.shape"
      ],
      "execution_count": 90,
      "outputs": [
        {
          "output_type": "execute_result",
          "data": {
            "text/plain": [
              "(16995, 20, 4)"
            ]
          },
          "metadata": {
            "tags": []
          },
          "execution_count": 90
        }
      ]
    },
    {
      "cell_type": "code",
      "metadata": {
        "id": "UD38VzRDXvQ1",
        "colab_type": "code",
        "colab": {
          "base_uri": "https://localhost:8080/",
          "height": 34
        },
        "outputId": "af2658ed-b978-4ff3-b781-6f366abe70fe"
      },
      "source": [
        "y_val.shape"
      ],
      "execution_count": 91,
      "outputs": [
        {
          "output_type": "execute_result",
          "data": {
            "text/plain": [
              "(16994, 20, 4)"
            ]
          },
          "metadata": {
            "tags": []
          },
          "execution_count": 91
        }
      ]
    },
    {
      "cell_type": "code",
      "metadata": {
        "id": "E2xNIJUdXztF",
        "colab_type": "code",
        "colab": {
          "base_uri": "https://localhost:8080/",
          "height": 119
        },
        "outputId": "2347ac59-2b27-4fd8-cfe9-b8795f0591a7"
      },
      "source": [
        "print(\"X_train size: {}\".format(X_train.shape))\n",
        "print(\"y_train size: {}\".format(y_train.shape))\n",
        "print(\"X_val size: {}\".format(X_val.shape))\n",
        "print(\"y_val size: {}\".format(y_val.shape))\n",
        "print(\"X_test size: {}\".format(X_test.shape))\n",
        "print(\"y_test size: {}\".format(y_test.shape))"
      ],
      "execution_count": 92,
      "outputs": [
        {
          "output_type": "stream",
          "text": [
            "X_train size: (50982, 20, 4)\n",
            "y_train size: (50982, 20, 4)\n",
            "X_val size: (16994, 20, 4)\n",
            "y_val size: (16994, 20, 4)\n",
            "X_test size: (16995, 20, 4)\n",
            "y_test size: (16995, 20, 4)\n"
          ],
          "name": "stdout"
        }
      ]
    },
    {
      "cell_type": "code",
      "metadata": {
        "id": "cD9vRlTeX2e2",
        "colab_type": "code",
        "colab": {}
      },
      "source": [
        "n_features= 4"
      ],
      "execution_count": 93,
      "outputs": []
    },
    {
      "cell_type": "code",
      "metadata": {
        "id": "HCfgXXpQX6mm",
        "colab_type": "code",
        "colab": {}
      },
      "source": [
        "from keras.layers import Input, Dense, Conv1D, MaxPooling1D, UpSampling1D, Flatten, Reshape\n",
        "from keras.models import Model\n",
        "from keras import backend as K\n",
        "input_img=Input(shape=(n_steps, n_features))\n",
        "#input_img = Input(shape=(28, 28, 1))  # adapt this if using `channels_first` image data format\n",
        "\n",
        "x = Conv1D(32, 3, activation='relu', padding='same')(input_img)\n",
        "x = MaxPooling1D(2, padding='same')(x)\n",
        "\n",
        "x = Conv1D(16, 3, activation='relu', padding='same')(x)\n",
        "x = MaxPooling1D(2, padding='same')(x)\n",
        "x = Conv1D(16, 3, activation='relu', padding='same')(x)\n",
        "x = MaxPooling1D(2, padding='same')(x)\n",
        "#Encoding 1/8..\n",
        "# at this point the representation is (4, 4, 8) i.e. 128-dimensional\n",
        "x= Flatten()(x)\n",
        "decoded = Dense(n_features*n_steps, activation='linear')(x)\n",
        "outputs= Reshape((n_steps, n_features))(decoded)\n",
        "#tf.reshape(tensor, shape, name=None)\n",
        "autoencoder = Model(input_img, outputs)\n",
        "autoencoder.compile(optimizer='adam', loss='mse',  metrics=['accuracy'])\n"
      ],
      "execution_count": 262,
      "outputs": []
    },
    {
      "cell_type": "code",
      "metadata": {
        "id": "rsLxqMI9X7nl",
        "colab_type": "code",
        "colab": {}
      },
      "source": [
        "from keras.datasets import mnist\n",
        "import numpy as np\n",
        "\n",
        "#(x_train, _), (x_test, _) = mnist.load_data()\n",
        "\n",
        "#x_train = x_train.astype('float32') / 255.\n",
        "#x_test = x_test.astype('float32') / 255.\n",
        "X_train = np.reshape(X_train, (len(X_train), n_steps, n_features))  # adapt this if using `channels_first` image data format\n",
        "X_test = np.reshape(X_test, (len(X_test), n_steps, n_features))  # adapt this if using `channels_first` image data format"
      ],
      "execution_count": null,
      "outputs": []
    },
    {
      "cell_type": "code",
      "metadata": {
        "id": "FcQ4GaOgOckJ",
        "colab_type": "code",
        "colab": {}
      },
      "source": [
        "X_train.shape"
      ],
      "execution_count": null,
      "outputs": []
    },
    {
      "cell_type": "code",
      "metadata": {
        "id": "ZTBeRBNbX-bV",
        "colab_type": "code",
        "colab": {
          "base_uri": "https://localhost:8080/",
          "height": 1000
        },
        "outputId": "2c6a6026-9a5d-4cfe-8c35-f26185ab6479"
      },
      "source": [
        "from keras.callbacks import TensorBoard, EarlyStopping\n",
        "\n",
        "es =EarlyStopping(\n",
        "    monitor=\"val_loss\",\n",
        "    min_delta=0.0001,\n",
        "    patience=100,\n",
        "    verbose=0,\n",
        "    mode=\"auto\",\n",
        "    baseline=None,\n",
        "    restore_best_weights=True,\n",
        ")\n",
        "history=autoencoder.fit(X_train, y_train,\n",
        "                epochs=10000,\n",
        "                batch_size=128,\n",
        "                shuffle=True,\n",
        "                validation_data=(X_val, y_val), \n",
        "                callbacks= [es], verbose=1)\n",
        "\n",
        "# callback = tf.keras.callbacks.EarlyStopping(monitor='loss', patience=3)\n",
        "#Early Stopping.. Can be a wise option to observe\n",
        "#tf.keras.callbacks.EarlyStopping(\n",
        "   # monitor='val_loss', min_delta=0, patience=0, verbose=0, mode='auto',\n",
        "  #  baseline=None, restore_best_weights=False\n",
        "#)"
      ],
      "execution_count": 183,
      "outputs": [
        {
          "output_type": "stream",
          "text": [
            "Epoch 1/10000\n",
            "399/399 [==============================] - 2s 5ms/step - loss: 0.0022 - val_loss: 0.0041\n",
            "Epoch 2/10000\n",
            "399/399 [==============================] - 2s 5ms/step - loss: 0.0018 - val_loss: 0.0023\n",
            "Epoch 3/10000\n",
            "399/399 [==============================] - 2s 5ms/step - loss: 0.0015 - val_loss: 0.0020\n",
            "Epoch 4/10000\n",
            "399/399 [==============================] - 2s 5ms/step - loss: 0.0013 - val_loss: 0.0021\n",
            "Epoch 5/10000\n",
            "399/399 [==============================] - 2s 5ms/step - loss: 0.0012 - val_loss: 0.0026\n",
            "Epoch 6/10000\n",
            "399/399 [==============================] - 2s 5ms/step - loss: 0.0012 - val_loss: 0.0022\n",
            "Epoch 7/10000\n",
            "399/399 [==============================] - 2s 5ms/step - loss: 0.0013 - val_loss: 0.0019\n",
            "Epoch 8/10000\n",
            "399/399 [==============================] - 2s 5ms/step - loss: 0.0014 - val_loss: 0.0022\n",
            "Epoch 9/10000\n",
            "399/399 [==============================] - 2s 5ms/step - loss: 0.0013 - val_loss: 0.0020\n",
            "Epoch 10/10000\n",
            "399/399 [==============================] - 2s 5ms/step - loss: 0.0011 - val_loss: 0.0020\n",
            "Epoch 11/10000\n",
            "399/399 [==============================] - 2s 5ms/step - loss: 0.0020 - val_loss: 0.0026\n",
            "Epoch 12/10000\n",
            "399/399 [==============================] - 2s 5ms/step - loss: 0.0012 - val_loss: 0.0020\n",
            "Epoch 13/10000\n",
            "399/399 [==============================] - 2s 5ms/step - loss: 0.0010 - val_loss: 0.0021\n",
            "Epoch 14/10000\n",
            "399/399 [==============================] - 2s 5ms/step - loss: 0.0010 - val_loss: 0.0024\n",
            "Epoch 15/10000\n",
            "399/399 [==============================] - 2s 5ms/step - loss: 0.0011 - val_loss: 0.0023\n",
            "Epoch 16/10000\n",
            "399/399 [==============================] - 2s 5ms/step - loss: 0.0011 - val_loss: 0.0019\n",
            "Epoch 17/10000\n",
            "399/399 [==============================] - 2s 5ms/step - loss: 0.0013 - val_loss: 0.0023\n",
            "Epoch 18/10000\n",
            "399/399 [==============================] - 2s 5ms/step - loss: 0.0017 - val_loss: 0.0022\n",
            "Epoch 19/10000\n",
            "399/399 [==============================] - 2s 5ms/step - loss: 9.0765e-04 - val_loss: 0.0021\n",
            "Epoch 20/10000\n",
            "399/399 [==============================] - 2s 5ms/step - loss: 9.2852e-04 - val_loss: 0.0020\n",
            "Epoch 21/10000\n",
            "399/399 [==============================] - 2s 5ms/step - loss: 0.0011 - val_loss: 0.0020\n",
            "Epoch 22/10000\n",
            "399/399 [==============================] - 2s 5ms/step - loss: 0.0014 - val_loss: 0.0019\n",
            "Epoch 23/10000\n",
            "399/399 [==============================] - 2s 5ms/step - loss: 9.4902e-04 - val_loss: 0.0022\n",
            "Epoch 24/10000\n",
            "399/399 [==============================] - 2s 5ms/step - loss: 0.0012 - val_loss: 0.0024\n",
            "Epoch 25/10000\n",
            "399/399 [==============================] - 2s 5ms/step - loss: 9.2102e-04 - val_loss: 0.0021\n",
            "Epoch 26/10000\n",
            "399/399 [==============================] - 2s 5ms/step - loss: 9.0948e-04 - val_loss: 0.0044\n",
            "Epoch 27/10000\n",
            "399/399 [==============================] - 2s 5ms/step - loss: 0.0018 - val_loss: 0.0020\n",
            "Epoch 28/10000\n",
            "399/399 [==============================] - 2s 5ms/step - loss: 8.1858e-04 - val_loss: 0.0021\n",
            "Epoch 29/10000\n",
            "399/399 [==============================] - 2s 5ms/step - loss: 0.0012 - val_loss: 0.0021\n",
            "Epoch 30/10000\n",
            "399/399 [==============================] - 2s 5ms/step - loss: 9.1611e-04 - val_loss: 0.0021\n",
            "Epoch 31/10000\n",
            "399/399 [==============================] - 2s 5ms/step - loss: 0.0014 - val_loss: 0.0021\n",
            "Epoch 32/10000\n",
            "399/399 [==============================] - 2s 5ms/step - loss: 9.3670e-04 - val_loss: 0.0025\n",
            "Epoch 33/10000\n",
            "399/399 [==============================] - 2s 5ms/step - loss: 8.4906e-04 - val_loss: 0.0021\n",
            "Epoch 34/10000\n",
            "399/399 [==============================] - 2s 5ms/step - loss: 9.6205e-04 - val_loss: 0.0021\n",
            "Epoch 35/10000\n",
            "399/399 [==============================] - 2s 5ms/step - loss: 0.0011 - val_loss: 0.0027\n",
            "Epoch 36/10000\n",
            "399/399 [==============================] - 2s 5ms/step - loss: 0.0015 - val_loss: 0.0025\n",
            "Epoch 37/10000\n",
            "399/399 [==============================] - 2s 5ms/step - loss: 0.0010 - val_loss: 0.0020\n",
            "Epoch 38/10000\n",
            "399/399 [==============================] - 2s 5ms/step - loss: 8.3101e-04 - val_loss: 0.0023\n",
            "Epoch 39/10000\n",
            "399/399 [==============================] - 2s 5ms/step - loss: 8.3531e-04 - val_loss: 0.0020\n",
            "Epoch 40/10000\n",
            "399/399 [==============================] - 2s 5ms/step - loss: 8.4190e-04 - val_loss: 0.0020\n",
            "Epoch 41/10000\n",
            "399/399 [==============================] - 2s 5ms/step - loss: 0.0013 - val_loss: 0.0024\n",
            "Epoch 42/10000\n",
            "399/399 [==============================] - 2s 5ms/step - loss: 0.0013 - val_loss: 0.0023\n",
            "Epoch 43/10000\n",
            "399/399 [==============================] - 2s 5ms/step - loss: 9.5381e-04 - val_loss: 0.0021\n",
            "Epoch 44/10000\n",
            "399/399 [==============================] - 2s 5ms/step - loss: 7.4788e-04 - val_loss: 0.0022\n",
            "Epoch 45/10000\n",
            "399/399 [==============================] - 2s 5ms/step - loss: 0.0013 - val_loss: 0.0021\n",
            "Epoch 46/10000\n",
            "399/399 [==============================] - 2s 5ms/step - loss: 9.7370e-04 - val_loss: 0.0021\n",
            "Epoch 47/10000\n",
            "399/399 [==============================] - 2s 5ms/step - loss: 9.1346e-04 - val_loss: 0.0026\n",
            "Epoch 48/10000\n",
            "399/399 [==============================] - 2s 5ms/step - loss: 0.0010 - val_loss: 0.0020\n",
            "Epoch 49/10000\n",
            "399/399 [==============================] - 2s 5ms/step - loss: 9.0992e-04 - val_loss: 0.0022\n",
            "Epoch 50/10000\n",
            "399/399 [==============================] - 2s 5ms/step - loss: 7.6687e-04 - val_loss: 0.0020\n",
            "Epoch 51/10000\n",
            "399/399 [==============================] - 2s 5ms/step - loss: 0.0011 - val_loss: 0.0058\n",
            "Epoch 52/10000\n",
            "399/399 [==============================] - 2s 5ms/step - loss: 0.0014 - val_loss: 0.0024\n",
            "Epoch 53/10000\n",
            "399/399 [==============================] - 2s 5ms/step - loss: 7.6190e-04 - val_loss: 0.0026\n",
            "Epoch 54/10000\n",
            "399/399 [==============================] - 2s 5ms/step - loss: 9.6555e-04 - val_loss: 0.0020\n",
            "Epoch 55/10000\n",
            "399/399 [==============================] - 2s 5ms/step - loss: 7.0859e-04 - val_loss: 0.0021\n",
            "Epoch 56/10000\n",
            "399/399 [==============================] - 2s 5ms/step - loss: 9.3290e-04 - val_loss: 0.0021\n",
            "Epoch 57/10000\n",
            "399/399 [==============================] - 2s 5ms/step - loss: 9.0793e-04 - val_loss: 0.0023\n",
            "Epoch 58/10000\n",
            "399/399 [==============================] - 2s 5ms/step - loss: 8.6988e-04 - val_loss: 0.0032\n",
            "Epoch 59/10000\n",
            "399/399 [==============================] - 2s 5ms/step - loss: 9.5677e-04 - val_loss: 0.0021\n",
            "Epoch 60/10000\n",
            "399/399 [==============================] - 2s 5ms/step - loss: 0.0015 - val_loss: 0.0042\n",
            "Epoch 61/10000\n",
            "399/399 [==============================] - 2s 5ms/step - loss: 0.0015 - val_loss: 0.0021\n",
            "Epoch 62/10000\n",
            "399/399 [==============================] - 2s 5ms/step - loss: 7.2880e-04 - val_loss: 0.0022\n",
            "Epoch 63/10000\n",
            "399/399 [==============================] - 2s 5ms/step - loss: 6.9961e-04 - val_loss: 0.0026\n",
            "Epoch 64/10000\n",
            "399/399 [==============================] - 2s 5ms/step - loss: 6.9609e-04 - val_loss: 0.0023\n",
            "Epoch 65/10000\n",
            "399/399 [==============================] - 2s 5ms/step - loss: 7.6818e-04 - val_loss: 0.0024\n",
            "Epoch 66/10000\n",
            "399/399 [==============================] - 2s 5ms/step - loss: 0.0011 - val_loss: 0.0026\n",
            "Epoch 67/10000\n",
            "399/399 [==============================] - 2s 5ms/step - loss: 7.7555e-04 - val_loss: 0.0022\n",
            "Epoch 68/10000\n",
            "399/399 [==============================] - 2s 5ms/step - loss: 7.2287e-04 - val_loss: 0.0021\n",
            "Epoch 69/10000\n",
            "399/399 [==============================] - 2s 5ms/step - loss: 7.0627e-04 - val_loss: 0.0023\n",
            "Epoch 70/10000\n",
            "399/399 [==============================] - 2s 5ms/step - loss: 9.3683e-04 - val_loss: 0.0024\n",
            "Epoch 71/10000\n",
            "399/399 [==============================] - 2s 5ms/step - loss: 9.9660e-04 - val_loss: 0.0022\n",
            "Epoch 72/10000\n",
            "399/399 [==============================] - 2s 5ms/step - loss: 6.1912e-04 - val_loss: 0.0032\n",
            "Epoch 73/10000\n",
            "399/399 [==============================] - 2s 5ms/step - loss: 0.0010 - val_loss: 0.0028\n",
            "Epoch 74/10000\n",
            "399/399 [==============================] - 2s 5ms/step - loss: 8.0054e-04 - val_loss: 0.0022\n",
            "Epoch 75/10000\n",
            "399/399 [==============================] - 2s 5ms/step - loss: 7.8298e-04 - val_loss: 0.0025\n",
            "Epoch 76/10000\n",
            "399/399 [==============================] - 2s 5ms/step - loss: 6.2929e-04 - val_loss: 0.0025\n",
            "Epoch 77/10000\n",
            "399/399 [==============================] - 2s 5ms/step - loss: 8.8354e-04 - val_loss: 0.0023\n",
            "Epoch 78/10000\n",
            "399/399 [==============================] - 2s 5ms/step - loss: 8.2274e-04 - val_loss: 0.0021\n",
            "Epoch 79/10000\n",
            "399/399 [==============================] - 2s 5ms/step - loss: 5.6360e-04 - val_loss: 0.0024\n",
            "Epoch 80/10000\n",
            "399/399 [==============================] - 2s 5ms/step - loss: 7.5816e-04 - val_loss: 0.0027\n",
            "Epoch 81/10000\n",
            "399/399 [==============================] - 2s 5ms/step - loss: 8.0336e-04 - val_loss: 0.0023\n",
            "Epoch 82/10000\n",
            "399/399 [==============================] - 2s 5ms/step - loss: 9.9087e-04 - val_loss: 0.0023\n",
            "Epoch 83/10000\n",
            "399/399 [==============================] - 2s 5ms/step - loss: 5.8525e-04 - val_loss: 0.0022\n",
            "Epoch 84/10000\n",
            "399/399 [==============================] - 2s 5ms/step - loss: 8.9887e-04 - val_loss: 0.0024\n",
            "Epoch 85/10000\n",
            "399/399 [==============================] - 2s 5ms/step - loss: 6.8161e-04 - val_loss: 0.0022\n",
            "Epoch 86/10000\n",
            "399/399 [==============================] - 2s 5ms/step - loss: 5.3535e-04 - val_loss: 0.0026\n",
            "Epoch 87/10000\n",
            "399/399 [==============================] - 2s 5ms/step - loss: 6.0162e-04 - val_loss: 0.0023\n",
            "Epoch 88/10000\n",
            "399/399 [==============================] - 2s 5ms/step - loss: 6.9363e-04 - val_loss: 0.0024\n",
            "Epoch 89/10000\n",
            "399/399 [==============================] - 2s 5ms/step - loss: 7.8825e-04 - val_loss: 0.0023\n",
            "Epoch 90/10000\n",
            "399/399 [==============================] - 2s 5ms/step - loss: 7.1167e-04 - val_loss: 0.0022\n",
            "Epoch 91/10000\n",
            "399/399 [==============================] - 2s 5ms/step - loss: 0.0010 - val_loss: 0.0024\n",
            "Epoch 92/10000\n",
            "399/399 [==============================] - 2s 5ms/step - loss: 5.7521e-04 - val_loss: 0.0024\n",
            "Epoch 93/10000\n",
            "399/399 [==============================] - 2s 5ms/step - loss: 6.4619e-04 - val_loss: 0.0029\n",
            "Epoch 94/10000\n",
            "399/399 [==============================] - 2s 5ms/step - loss: 6.2704e-04 - val_loss: 0.0023\n",
            "Epoch 95/10000\n",
            "399/399 [==============================] - 2s 5ms/step - loss: 5.8299e-04 - val_loss: 0.0032\n",
            "Epoch 96/10000\n",
            "399/399 [==============================] - 2s 5ms/step - loss: 7.6129e-04 - val_loss: 0.0027\n",
            "Epoch 97/10000\n",
            "399/399 [==============================] - 2s 5ms/step - loss: 7.6525e-04 - val_loss: 0.0027\n",
            "Epoch 98/10000\n",
            "399/399 [==============================] - 2s 5ms/step - loss: 7.6473e-04 - val_loss: 0.0024\n",
            "Epoch 99/10000\n",
            "399/399 [==============================] - 2s 5ms/step - loss: 8.7139e-04 - val_loss: 0.0024\n",
            "Epoch 100/10000\n",
            "399/399 [==============================] - 2s 5ms/step - loss: 6.9952e-04 - val_loss: 0.0023\n",
            "Epoch 101/10000\n",
            "399/399 [==============================] - 2s 5ms/step - loss: 5.1672e-04 - val_loss: 0.0023\n",
            "Epoch 102/10000\n",
            "399/399 [==============================] - 2s 5ms/step - loss: 6.7647e-04 - val_loss: 0.0024\n",
            "Epoch 103/10000\n",
            "399/399 [==============================] - 2s 5ms/step - loss: 8.6101e-04 - val_loss: 0.0023\n",
            "Epoch 104/10000\n",
            "399/399 [==============================] - 2s 5ms/step - loss: 5.2477e-04 - val_loss: 0.0022\n",
            "Epoch 105/10000\n",
            "399/399 [==============================] - 2s 5ms/step - loss: 0.0012 - val_loss: 0.0024\n",
            "Epoch 106/10000\n",
            "399/399 [==============================] - 2s 5ms/step - loss: 7.3508e-04 - val_loss: 0.0024\n",
            "Epoch 107/10000\n",
            "399/399 [==============================] - 2s 5ms/step - loss: 5.2013e-04 - val_loss: 0.0023\n"
          ],
          "name": "stdout"
        }
      ]
    },
    {
      "cell_type": "code",
      "metadata": {
        "id": "YsuTYvoZTSL6",
        "colab_type": "code",
        "colab": {}
      },
      "source": [
        "#Testing the data now for the prediction  of different values"
      ],
      "execution_count": 184,
      "outputs": []
    },
    {
      "cell_type": "code",
      "metadata": {
        "colab_type": "code",
        "id": "OD5UEgo_VnSS",
        "colab": {}
      },
      "source": [
        "TestingDataPrediction=autoencoder.predict(X_test)"
      ],
      "execution_count": 185,
      "outputs": []
    },
    {
      "cell_type": "code",
      "metadata": {
        "id": "iELlEKYFVOZ4",
        "colab_type": "code",
        "colab": {}
      },
      "source": [
        "#Testing data is used for the pridiction and here, I am thinking as a y= f(x_test), so, by using x_test one is prediciting\n",
        "# the y_test kind of the thing\n"
      ],
      "execution_count": 186,
      "outputs": []
    },
    {
      "cell_type": "markdown",
      "metadata": {
        "id": "CiJy0IcnhujN",
        "colab_type": "text"
      },
      "source": [
        "TestingDataPrediction=autoencoder.predict(X_test)\n",
        "\n",
        "---\n",
        "\n"
      ]
    },
    {
      "cell_type": "markdown",
      "metadata": {
        "id": "YWgfo6ZVhx1A",
        "colab_type": "text"
      },
      "source": [
        "TestingDataPrediction.shape"
      ]
    },
    {
      "cell_type": "code",
      "metadata": {
        "id": "OT9NnCuF1-xM",
        "colab_type": "code",
        "colab": {}
      },
      "source": [
        "y_predicition=TestingDataPrediction"
      ],
      "execution_count": 187,
      "outputs": []
    },
    {
      "cell_type": "code",
      "metadata": {
        "id": "4vTV3YaeZJbb",
        "colab_type": "code",
        "colab": {
          "base_uri": "https://localhost:8080/",
          "height": 34
        },
        "outputId": "93642773-1eb3-42ed-882b-56fb6c757f30"
      },
      "source": [
        "TestingDataPrediction.shape"
      ],
      "execution_count": 188,
      "outputs": [
        {
          "output_type": "execute_result",
          "data": {
            "text/plain": [
              "(16995, 20, 4)"
            ]
          },
          "metadata": {
            "tags": []
          },
          "execution_count": 188
        }
      ]
    },
    {
      "cell_type": "code",
      "metadata": {
        "id": "57TDNTLe1VK0",
        "colab_type": "code",
        "colab": {
          "base_uri": "https://localhost:8080/",
          "height": 34
        },
        "outputId": "843dd658-2dfd-4e3e-d1a9-5dd1b78c23d1"
      },
      "source": [
        "y_test.shape"
      ],
      "execution_count": 189,
      "outputs": [
        {
          "output_type": "execute_result",
          "data": {
            "text/plain": [
              "(16995, 20, 4)"
            ]
          },
          "metadata": {
            "tags": []
          },
          "execution_count": 189
        }
      ]
    },
    {
      "cell_type": "code",
      "metadata": {
        "id": "GGbHTqutZ_yI",
        "colab_type": "code",
        "colab": {}
      },
      "source": [
        "# We need to have a factor, where we can perform even better or even can find some more ways to see\n",
        "# how things are looking like\n"
      ],
      "execution_count": 190,
      "outputs": []
    },
    {
      "cell_type": "code",
      "metadata": {
        "id": "Vq5a8o7gaHg5",
        "colab_type": "code",
        "colab": {}
      },
      "source": [
        "Prediction_to_data_we_have= TestingDataPrediction"
      ],
      "execution_count": 191,
      "outputs": []
    },
    {
      "cell_type": "code",
      "metadata": {
        "id": "j5QDJm8_2YIT",
        "colab_type": "code",
        "colab": {}
      },
      "source": [
        "Time= df2[\"Time\"]"
      ],
      "execution_count": 192,
      "outputs": []
    },
    {
      "cell_type": "code",
      "metadata": {
        "id": "X5IK2cJi2oeG",
        "colab_type": "code",
        "colab": {
          "base_uri": "https://localhost:8080/",
          "height": 34
        },
        "outputId": "b1a27f7e-8354-4f82-fcf6-ea022e69572b"
      },
      "source": [
        "Time.shape"
      ],
      "execution_count": 193,
      "outputs": [
        {
          "output_type": "execute_result",
          "data": {
            "text/plain": [
              "(84991,)"
            ]
          },
          "metadata": {
            "tags": []
          },
          "execution_count": 193
        }
      ]
    },
    {
      "cell_type": "code",
      "metadata": {
        "id": "NL_opw8F2r0Z",
        "colab_type": "code",
        "colab": {}
      },
      "source": [
        "Training_Time= Time[:50982]"
      ],
      "execution_count": 194,
      "outputs": []
    },
    {
      "cell_type": "code",
      "metadata": {
        "id": "D_B4taJn3LTB",
        "colab_type": "code",
        "colab": {
          "base_uri": "https://localhost:8080/",
          "height": 34
        },
        "outputId": "e44368bc-0070-4d78-f4ad-4e770783dc55"
      },
      "source": [
        "X_train.shape"
      ],
      "execution_count": 195,
      "outputs": [
        {
          "output_type": "execute_result",
          "data": {
            "text/plain": [
              "(50982, 20, 4)"
            ]
          },
          "metadata": {
            "tags": []
          },
          "execution_count": 195
        }
      ]
    },
    {
      "cell_type": "code",
      "metadata": {
        "id": "2J2WEigt23-i",
        "colab_type": "code",
        "colab": {
          "base_uri": "https://localhost:8080/",
          "height": 221
        },
        "outputId": "3a3a9eab-aac2-4c7f-b89e-aacc760e44e3"
      },
      "source": [
        "Training_Time"
      ],
      "execution_count": 196,
      "outputs": [
        {
          "output_type": "execute_result",
          "data": {
            "text/plain": [
              "0           0.0\n",
              "1           0.0\n",
              "2           0.1\n",
              "3           0.2\n",
              "4           0.3\n",
              "          ...  \n",
              "50977    5097.6\n",
              "50978    5097.7\n",
              "50979    5097.8\n",
              "50980    5097.9\n",
              "50981    5098.0\n",
              "Name: Time, Length: 50982, dtype: float64"
            ]
          },
          "metadata": {
            "tags": []
          },
          "execution_count": 196
        }
      ]
    },
    {
      "cell_type": "code",
      "metadata": {
        "id": "BjqT3KaS63a3",
        "colab_type": "code",
        "colab": {
          "base_uri": "https://localhost:8080/",
          "height": 34
        },
        "outputId": "0f806cdd-30ae-4818-e488-b229545d87e8"
      },
      "source": [
        "Training_Time.shape"
      ],
      "execution_count": 197,
      "outputs": [
        {
          "output_type": "execute_result",
          "data": {
            "text/plain": [
              "(50982,)"
            ]
          },
          "metadata": {
            "tags": []
          },
          "execution_count": 197
        }
      ]
    },
    {
      "cell_type": "code",
      "metadata": {
        "id": "YhEosvE3E52M",
        "colab_type": "code",
        "colab": {
          "base_uri": "https://localhost:8080/",
          "height": 850
        },
        "outputId": "064dd0df-3de2-45bf-9432-fe0ed1b35ace"
      },
      "source": [
        "X_val"
      ],
      "execution_count": 198,
      "outputs": [
        {
          "output_type": "execute_result",
          "data": {
            "text/plain": [
              "array([[[2.534764, 2.520817, 2.534764, 2.630348],\n",
              "        [2.534675, 2.520969, 2.534675, 2.630244],\n",
              "        [2.534585, 2.521118, 2.534585, 2.630139],\n",
              "        ...,\n",
              "        [2.533164, 2.522891, 2.533164, 2.62854 ],\n",
              "        [2.533074, 2.52297 , 2.533074, 2.628444],\n",
              "        [2.533004, 2.523029, 2.533004, 2.628369]],\n",
              "\n",
              "       [[2.370703, 2.377518, 2.370703, 2.447118],\n",
              "        [2.369702, 2.377212, 2.369702, 2.445436],\n",
              "        [2.368823, 2.376899, 2.368823, 2.443929],\n",
              "        ...,\n",
              "        [2.359546, 2.369054, 2.359546, 2.424274],\n",
              "        [2.359228, 2.368473, 2.359228, 2.423282],\n",
              "        [2.358905, 2.367825, 2.358905, 2.422204]],\n",
              "\n",
              "       [[2.623844, 2.619271, 2.623844, 2.55374 ],\n",
              "        [2.623735, 2.619506, 2.623735, 2.553635],\n",
              "        [2.623645, 2.619707, 2.623645, 2.553548],\n",
              "        ...,\n",
              "        [2.622495, 2.620853, 2.622495, 2.55239 ],\n",
              "        [2.620999, 2.619433, 2.620999, 2.550769],\n",
              "        [2.618709, 2.617205, 2.618709, 2.548273]],\n",
              "\n",
              "       ...,\n",
              "\n",
              "       [[2.337749, 2.34974 , 2.337749, 2.410264],\n",
              "        [2.336829, 2.34907 , 2.336829, 2.408751],\n",
              "        [2.335745, 2.348224, 2.335745, 2.40693 ],\n",
              "        ...,\n",
              "        [2.327145, 2.337046, 2.327145, 2.387669],\n",
              "        [2.327857, 2.337249, 2.327857, 2.387666],\n",
              "        [2.328543, 2.337498, 2.328543, 2.387776]],\n",
              "\n",
              "       [[2.081838, 2.077481, 2.081838, 2.206089],\n",
              "        [2.081621, 2.077282, 2.081621, 2.205855],\n",
              "        [2.081621, 2.077305, 2.081621, 2.20587 ],\n",
              "        ...,\n",
              "        [2.092111, 2.088269, 2.092111, 2.217942],\n",
              "        [2.092921, 2.089113, 2.092921, 2.218799],\n",
              "        [2.093737, 2.089964, 2.093737, 2.219649]],\n",
              "\n",
              "       [[2.380794, 2.366436, 2.380794, 2.524687],\n",
              "        [2.382288, 2.36762 , 2.382288, 2.526377],\n",
              "        [2.383939, 2.368932, 2.383939, 2.528224],\n",
              "        ...,\n",
              "        [2.407174, 2.388283, 2.407174, 2.551902],\n",
              "        [2.408424, 2.389364, 2.408424, 2.553117],\n",
              "        [2.409802, 2.390548, 2.409802, 2.55445 ]]])"
            ]
          },
          "metadata": {
            "tags": []
          },
          "execution_count": 198
        }
      ]
    },
    {
      "cell_type": "code",
      "metadata": {
        "id": "cf1Dl30f7E9f",
        "colab_type": "code",
        "colab": {
          "base_uri": "https://localhost:8080/",
          "height": 34
        },
        "outputId": "9520f64a-24a1-4b03-fe33-828ece51d2dd"
      },
      "source": [
        "\n",
        "X_val.shape"
      ],
      "execution_count": 199,
      "outputs": [
        {
          "output_type": "execute_result",
          "data": {
            "text/plain": [
              "(16994, 20, 4)"
            ]
          },
          "metadata": {
            "tags": []
          },
          "execution_count": 199
        }
      ]
    },
    {
      "cell_type": "code",
      "metadata": {
        "id": "8peWJIie3pSX",
        "colab_type": "code",
        "colab": {}
      },
      "source": [
        "Vallidation_Time= Time[50982:67976]"
      ],
      "execution_count": 200,
      "outputs": []
    },
    {
      "cell_type": "code",
      "metadata": {
        "id": "B_xwueWE30cJ",
        "colab_type": "code",
        "colab": {
          "base_uri": "https://localhost:8080/",
          "height": 221
        },
        "outputId": "4a0eead4-df35-43c2-8d45-9f7d2100f3ee"
      },
      "source": [
        "Vallidation_Time"
      ],
      "execution_count": 201,
      "outputs": [
        {
          "output_type": "execute_result",
          "data": {
            "text/plain": [
              "50982    5098.1\n",
              "50983    5098.2\n",
              "50984    5098.3\n",
              "50985    5098.4\n",
              "50986    5098.5\n",
              "          ...  \n",
              "67971    6797.0\n",
              "67972    6797.1\n",
              "67973    6797.2\n",
              "67974    6797.3\n",
              "67975    6797.4\n",
              "Name: Time, Length: 16994, dtype: float64"
            ]
          },
          "metadata": {
            "tags": []
          },
          "execution_count": 201
        }
      ]
    },
    {
      "cell_type": "code",
      "metadata": {
        "id": "QGKCOPaN6x0L",
        "colab_type": "code",
        "colab": {
          "base_uri": "https://localhost:8080/",
          "height": 34
        },
        "outputId": "4cff3b62-e761-4521-ac6c-958e978942f5"
      },
      "source": [
        "Vallidation_Time.shape"
      ],
      "execution_count": 202,
      "outputs": [
        {
          "output_type": "execute_result",
          "data": {
            "text/plain": [
              "(16994,)"
            ]
          },
          "metadata": {
            "tags": []
          },
          "execution_count": 202
        }
      ]
    },
    {
      "cell_type": "code",
      "metadata": {
        "id": "-TAdTNkw3Xrq",
        "colab_type": "code",
        "colab": {}
      },
      "source": [
        "Testing_Time= Time[-16995:]"
      ],
      "execution_count": 203,
      "outputs": []
    },
    {
      "cell_type": "code",
      "metadata": {
        "id": "LiwSTdaz3gLV",
        "colab_type": "code",
        "colab": {
          "base_uri": "https://localhost:8080/",
          "height": 34
        },
        "outputId": "88220d76-197e-4387-dc0a-e348677ad673"
      },
      "source": [
        "Testing_Time.shape"
      ],
      "execution_count": 204,
      "outputs": [
        {
          "output_type": "execute_result",
          "data": {
            "text/plain": [
              "(16995,)"
            ]
          },
          "metadata": {
            "tags": []
          },
          "execution_count": 204
        }
      ]
    },
    {
      "cell_type": "code",
      "metadata": {
        "id": "FLB8I2WHLgYe",
        "colab_type": "code",
        "colab": {
          "base_uri": "https://localhost:8080/",
          "height": 34
        },
        "outputId": "02cb0f24-960e-4009-b570-f11780647068"
      },
      "source": [
        "X_test.shape"
      ],
      "execution_count": 205,
      "outputs": [
        {
          "output_type": "execute_result",
          "data": {
            "text/plain": [
              "(16995, 20, 4)"
            ]
          },
          "metadata": {
            "tags": []
          },
          "execution_count": 205
        }
      ]
    },
    {
      "cell_type": "code",
      "metadata": {
        "id": "vIbKgzFurwZc",
        "colab_type": "code",
        "colab": {
          "base_uri": "https://localhost:8080/",
          "height": 221
        },
        "outputId": "797eecce-6f09-4756-f56b-bc1d3b83cd05"
      },
      "source": [
        "Training_Time"
      ],
      "execution_count": 206,
      "outputs": [
        {
          "output_type": "execute_result",
          "data": {
            "text/plain": [
              "0           0.0\n",
              "1           0.0\n",
              "2           0.1\n",
              "3           0.2\n",
              "4           0.3\n",
              "          ...  \n",
              "50977    5097.6\n",
              "50978    5097.7\n",
              "50979    5097.8\n",
              "50980    5097.9\n",
              "50981    5098.0\n",
              "Name: Time, Length: 50982, dtype: float64"
            ]
          },
          "metadata": {
            "tags": []
          },
          "execution_count": 206
        }
      ]
    },
    {
      "cell_type": "code",
      "metadata": {
        "id": "iKPVLqm3rzEa",
        "colab_type": "code",
        "colab": {
          "base_uri": "https://localhost:8080/",
          "height": 34
        },
        "outputId": "c9922ff5-eeea-4ec3-d714-bb56dfb4cdb1"
      },
      "source": [
        "TestingDataPrediction.shape"
      ],
      "execution_count": 207,
      "outputs": [
        {
          "output_type": "execute_result",
          "data": {
            "text/plain": [
              "(16995, 20, 4)"
            ]
          },
          "metadata": {
            "tags": []
          },
          "execution_count": 207
        }
      ]
    },
    {
      "cell_type": "code",
      "metadata": {
        "id": "Pv6w58U9sFWc",
        "colab_type": "code",
        "colab": {
          "base_uri": "https://localhost:8080/",
          "height": 34
        },
        "outputId": "337683fc-0a36-483d-dd3a-e9cab221076c"
      },
      "source": [
        "X_test.shape"
      ],
      "execution_count": 208,
      "outputs": [
        {
          "output_type": "execute_result",
          "data": {
            "text/plain": [
              "(16995, 20, 4)"
            ]
          },
          "metadata": {
            "tags": []
          },
          "execution_count": 208
        }
      ]
    },
    {
      "cell_type": "code",
      "metadata": {
        "id": "3jzb55jHM3A5",
        "colab_type": "code",
        "colab": {
          "base_uri": "https://localhost:8080/",
          "height": 34
        },
        "outputId": "52006ca0-e029-4f1f-e203-8803cb714f8b"
      },
      "source": [
        "Testing_Time.shape"
      ],
      "execution_count": 209,
      "outputs": [
        {
          "output_type": "execute_result",
          "data": {
            "text/plain": [
              "(16995,)"
            ]
          },
          "metadata": {
            "tags": []
          },
          "execution_count": 209
        }
      ]
    },
    {
      "cell_type": "code",
      "metadata": {
        "id": "9SRTJaFCM7Zf",
        "colab_type": "code",
        "colab": {}
      },
      "source": [
        "#Plotting all the data sets we have and then try to get more and more understanding of what I did, and what I wanted to\n",
        "#get, so no more effort just tried to conclude some more and more better stuff"
      ],
      "execution_count": 210,
      "outputs": []
    },
    {
      "cell_type": "code",
      "metadata": {
        "id": "DhAcBBom8kSP",
        "colab_type": "code",
        "colab": {
          "base_uri": "https://localhost:8080/",
          "height": 34
        },
        "outputId": "57c0477a-c51c-4766-8e4b-41ed8a589404"
      },
      "source": [
        "TestingDataPrediction.shape"
      ],
      "execution_count": 211,
      "outputs": [
        {
          "output_type": "execute_result",
          "data": {
            "text/plain": [
              "(16995, 20, 4)"
            ]
          },
          "metadata": {
            "tags": []
          },
          "execution_count": 211
        }
      ]
    },
    {
      "cell_type": "code",
      "metadata": {
        "id": "mXSZzje8Rw0J",
        "colab_type": "code",
        "colab": {
          "base_uri": "https://localhost:8080/",
          "height": 850
        },
        "outputId": "f171b4f8-3f77-412a-ed58-d5d3c407e418"
      },
      "source": [
        "TestingDataPrediction"
      ],
      "execution_count": 212,
      "outputs": [
        {
          "output_type": "execute_result",
          "data": {
            "text/plain": [
              "array([[[2.395382 , 2.3888688, 2.4764366, 2.4834628],\n",
              "        [2.3827634, 2.3905437, 2.456099 , 2.462324 ],\n",
              "        [2.3849044, 2.387063 , 2.460275 , 2.468736 ],\n",
              "        ...,\n",
              "        [2.3940036, 2.3875253, 2.4627504, 2.4768393],\n",
              "        [2.3891864, 2.3806326, 2.4680622, 2.4670534],\n",
              "        [2.3921201, 2.3742015, 2.4661813, 2.4685872]],\n",
              "\n",
              "       [[2.6335692, 2.5815792, 2.57374  , 2.5632074],\n",
              "        [2.619989 , 2.5698853, 2.5517576, 2.5442638],\n",
              "        [2.6159606, 2.5698938, 2.5590737, 2.5467012],\n",
              "        ...,\n",
              "        [2.6262605, 2.574734 , 2.5628276, 2.5462792],\n",
              "        [2.6189826, 2.5604913, 2.5669534, 2.5455434],\n",
              "        [2.6235402, 2.5511382, 2.565199 , 2.5446067]],\n",
              "\n",
              "       [[2.4529922, 2.4464896, 2.5365653, 2.5438693],\n",
              "        [2.4409337, 2.4486756, 2.5167322, 2.5232506],\n",
              "        [2.4426355, 2.446464 , 2.5202982, 2.5291874],\n",
              "        ...,\n",
              "        [2.4563262, 2.449106 , 2.524352 , 2.537872 ],\n",
              "        [2.4516187, 2.4413126, 2.5301435, 2.5287642],\n",
              "        [2.4546258, 2.4342668, 2.52777  , 2.5306299]],\n",
              "\n",
              "       ...,\n",
              "\n",
              "       [[2.33154  , 2.3020654, 2.2816362, 2.2592921],\n",
              "        [2.322562 , 2.2977226, 2.2609854, 2.2456782],\n",
              "        [2.3182297, 2.2962828, 2.2712348, 2.2498326],\n",
              "        ...,\n",
              "        [2.3299673, 2.3055625, 2.2771282, 2.2540445],\n",
              "        [2.325462 , 2.2999063, 2.2777994, 2.2591717],\n",
              "        [2.32935  , 2.2954352, 2.2810574, 2.253027 ]],\n",
              "\n",
              "       [[2.128742 , 2.123224 , 2.1951613, 2.2057328],\n",
              "        [2.1330137, 2.1312902, 2.1905475, 2.199555 ],\n",
              "        [2.1337981, 2.1280565, 2.1977334, 2.2062979],\n",
              "        ...,\n",
              "        [2.1505635, 2.132542 , 2.2137182, 2.2285395],\n",
              "        [2.1454446, 2.1300356, 2.2213976, 2.219822 ],\n",
              "        [2.149849 , 2.12559  , 2.2173152, 2.223002 ]],\n",
              "\n",
              "       [[2.5455775, 2.579349 , 2.635213 , 2.6354942],\n",
              "        [2.5656908, 2.6065068, 2.640918 , 2.6458268],\n",
              "        [2.5731468, 2.6107044, 2.640322 , 2.6549728],\n",
              "        ...,\n",
              "        [2.6051307, 2.6171675, 2.7002575, 2.7191465],\n",
              "        [2.608115 , 2.5998688, 2.6958113, 2.7054477],\n",
              "        [2.6165164, 2.5754502, 2.6926866, 2.694851 ]]], dtype=float32)"
            ]
          },
          "metadata": {
            "tags": []
          },
          "execution_count": 212
        }
      ]
    },
    {
      "cell_type": "code",
      "metadata": {
        "id": "3yzB-QygffOw",
        "colab_type": "code",
        "colab": {
          "base_uri": "https://localhost:8080/",
          "height": 34
        },
        "outputId": "3bf29944-3e9d-45a2-a366-7d899bc343f2"
      },
      "source": [
        "TestingDataPrediction.shape"
      ],
      "execution_count": 213,
      "outputs": [
        {
          "output_type": "execute_result",
          "data": {
            "text/plain": [
              "(16995, 20, 4)"
            ]
          },
          "metadata": {
            "tags": []
          },
          "execution_count": 213
        }
      ]
    },
    {
      "cell_type": "code",
      "metadata": {
        "id": "_mN0M8DAR9Tk",
        "colab_type": "code",
        "colab": {}
      },
      "source": [
        "import numpy as np\n",
        "x= np.array(TestingDataPrediction)"
      ],
      "execution_count": 214,
      "outputs": []
    },
    {
      "cell_type": "code",
      "metadata": {
        "id": "kJ5zaJY9fnKF",
        "colab_type": "code",
        "colab": {
          "base_uri": "https://localhost:8080/",
          "height": 34
        },
        "outputId": "12c78891-dc73-4121-cc01-6fc413024374"
      },
      "source": [
        "len(TestingDataPrediction)"
      ],
      "execution_count": 215,
      "outputs": [
        {
          "output_type": "execute_result",
          "data": {
            "text/plain": [
              "16995"
            ]
          },
          "metadata": {
            "tags": []
          },
          "execution_count": 215
        }
      ]
    },
    {
      "cell_type": "code",
      "metadata": {
        "id": "qofhiydgf3_H",
        "colab_type": "code",
        "colab": {}
      },
      "source": [
        "X = TestingDataPrediction.transpose((2,1,0))"
      ],
      "execution_count": 216,
      "outputs": []
    },
    {
      "cell_type": "code",
      "metadata": {
        "id": "HRTFTzvif745",
        "colab_type": "code",
        "colab": {
          "base_uri": "https://localhost:8080/",
          "height": 34
        },
        "outputId": "cb6eba3e-9e2d-472e-f080-71f2245cc787"
      },
      "source": [
        "X.shape"
      ],
      "execution_count": 217,
      "outputs": [
        {
          "output_type": "execute_result",
          "data": {
            "text/plain": [
              "(4, 20, 16995)"
            ]
          },
          "metadata": {
            "tags": []
          },
          "execution_count": 217
        }
      ]
    },
    {
      "cell_type": "code",
      "metadata": {
        "id": "p4gBZlTetOWc",
        "colab_type": "code",
        "colab": {}
      },
      "source": [
        "X1= TestingDataPrediction.transpose(2,0,1)"
      ],
      "execution_count": 218,
      "outputs": []
    },
    {
      "cell_type": "code",
      "metadata": {
        "id": "4VDg_xuXtOUY",
        "colab_type": "code",
        "colab": {
          "base_uri": "https://localhost:8080/",
          "height": 119
        },
        "outputId": "51af4fcb-ef40-49b5-e762-fc7d26b9a04c"
      },
      "source": [
        "X1.transpose(2,0,1).reshape(3,-1)"
      ],
      "execution_count": 219,
      "outputs": [
        {
          "output_type": "execute_result",
          "data": {
            "text/plain": [
              "array([[2.395382 , 2.6335692, 2.4529922, ..., 2.3354657, 2.3445182,\n",
              "        2.5526128],\n",
              "       [2.3999517, 2.56096  , 2.4881783, ..., 2.6123137, 1.8826797,\n",
              "        2.5087504],\n",
              "       [2.3948457, 2.5613697, 2.3532414, ..., 2.253027 , 2.223002 ,\n",
              "        2.694851 ]], dtype=float32)"
            ]
          },
          "metadata": {
            "tags": []
          },
          "execution_count": 219
        }
      ]
    },
    {
      "cell_type": "code",
      "metadata": {
        "id": "unSEhKarhxBj",
        "colab_type": "code",
        "colab": {
          "base_uri": "https://localhost:8080/",
          "height": 952
        },
        "outputId": "d8c2f8a6-8c05-4725-baa4-4632c2c5cbc8"
      },
      "source": [
        "X"
      ],
      "execution_count": 220,
      "outputs": [
        {
          "output_type": "execute_result",
          "data": {
            "text/plain": [
              "array([[[2.395382 , 2.6335692, 2.4529922, ..., 2.33154  , 2.128742 ,\n",
              "         2.5455775],\n",
              "        [2.3827634, 2.619989 , 2.4409337, ..., 2.322562 , 2.1330137,\n",
              "         2.5656908],\n",
              "        [2.3849044, 2.6159606, 2.4426355, ..., 2.3182297, 2.1337981,\n",
              "         2.5731468],\n",
              "        ...,\n",
              "        [2.3940036, 2.6262605, 2.4563262, ..., 2.3299673, 2.1505635,\n",
              "         2.6051307],\n",
              "        [2.3891864, 2.6189826, 2.4516187, ..., 2.325462 , 2.1454446,\n",
              "         2.608115 ],\n",
              "        [2.3921201, 2.6235402, 2.4546258, ..., 2.32935  , 2.149849 ,\n",
              "         2.6165164]],\n",
              "\n",
              "       [[2.3888688, 2.5815792, 2.4464896, ..., 2.3020654, 2.123224 ,\n",
              "         2.579349 ],\n",
              "        [2.3905437, 2.5698853, 2.4486756, ..., 2.2977226, 2.1312902,\n",
              "         2.6065068],\n",
              "        [2.387063 , 2.5698938, 2.446464 , ..., 2.2962828, 2.1280565,\n",
              "         2.6107044],\n",
              "        ...,\n",
              "        [2.3875253, 2.574734 , 2.449106 , ..., 2.3055625, 2.132542 ,\n",
              "         2.6171675],\n",
              "        [2.3806326, 2.5604913, 2.4413126, ..., 2.2999063, 2.1300356,\n",
              "         2.5998688],\n",
              "        [2.3742015, 2.5511382, 2.4342668, ..., 2.2954352, 2.12559  ,\n",
              "         2.5754502]],\n",
              "\n",
              "       [[2.4764366, 2.57374  , 2.5365653, ..., 2.2816362, 2.1951613,\n",
              "         2.635213 ],\n",
              "        [2.456099 , 2.5517576, 2.5167322, ..., 2.2609854, 2.1905475,\n",
              "         2.640918 ],\n",
              "        [2.460275 , 2.5590737, 2.5202982, ..., 2.2712348, 2.1977334,\n",
              "         2.640322 ],\n",
              "        ...,\n",
              "        [2.4627504, 2.5628276, 2.524352 , ..., 2.2771282, 2.2137182,\n",
              "         2.7002575],\n",
              "        [2.4680622, 2.5669534, 2.5301435, ..., 2.2777994, 2.2213976,\n",
              "         2.6958113],\n",
              "        [2.4661813, 2.565199 , 2.52777  , ..., 2.2810574, 2.2173152,\n",
              "         2.6926866]],\n",
              "\n",
              "       [[2.4834628, 2.5632074, 2.5438693, ..., 2.2592921, 2.2057328,\n",
              "         2.6354942],\n",
              "        [2.462324 , 2.5442638, 2.5232506, ..., 2.2456782, 2.199555 ,\n",
              "         2.6458268],\n",
              "        [2.468736 , 2.5467012, 2.5291874, ..., 2.2498326, 2.2062979,\n",
              "         2.6549728],\n",
              "        ...,\n",
              "        [2.4768393, 2.5462792, 2.537872 , ..., 2.2540445, 2.2285395,\n",
              "         2.7191465],\n",
              "        [2.4670534, 2.5455434, 2.5287642, ..., 2.2591717, 2.219822 ,\n",
              "         2.7054477],\n",
              "        [2.4685872, 2.5446067, 2.5306299, ..., 2.253027 , 2.223002 ,\n",
              "         2.694851 ]]], dtype=float32)"
            ]
          },
          "metadata": {
            "tags": []
          },
          "execution_count": 220
        }
      ]
    },
    {
      "cell_type": "code",
      "metadata": {
        "id": "q7DRxpr1uHtl",
        "colab_type": "code",
        "colab": {
          "base_uri": "https://localhost:8080/",
          "height": 34
        },
        "outputId": "03f3b367-92b7-4ce8-86a5-bb9869a22a97"
      },
      "source": [
        "TestingDataPrediction.shape"
      ],
      "execution_count": 221,
      "outputs": [
        {
          "output_type": "execute_result",
          "data": {
            "text/plain": [
              "(16995, 20, 4)"
            ]
          },
          "metadata": {
            "tags": []
          },
          "execution_count": 221
        }
      ]
    },
    {
      "cell_type": "code",
      "metadata": {
        "id": "x_pwwEr389Rz",
        "colab_type": "code",
        "colab": {
          "base_uri": "https://localhost:8080/",
          "height": 34
        },
        "outputId": "86eda8e8-e452-41c5-f3df-2e80530ec0a8"
      },
      "source": [
        "TestingDataPrediction.shape"
      ],
      "execution_count": 222,
      "outputs": [
        {
          "output_type": "execute_result",
          "data": {
            "text/plain": [
              "(16995, 20, 4)"
            ]
          },
          "metadata": {
            "tags": []
          },
          "execution_count": 222
        }
      ]
    },
    {
      "cell_type": "code",
      "metadata": {
        "id": "ohDkrsPFCyif",
        "colab_type": "code",
        "colab": {}
      },
      "source": [
        "Array_in_Numbers= TestingDataPrediction[0]"
      ],
      "execution_count": 223,
      "outputs": []
    },
    {
      "cell_type": "code",
      "metadata": {
        "id": "VWlXNVR6C60c",
        "colab_type": "code",
        "colab": {
          "base_uri": "https://localhost:8080/",
          "height": 357
        },
        "outputId": "25fec3c3-f07f-42f2-dc9b-c724b6d5b8e1"
      },
      "source": [
        "Array_in_Numbers"
      ],
      "execution_count": 224,
      "outputs": [
        {
          "output_type": "execute_result",
          "data": {
            "text/plain": [
              "array([[2.395382 , 2.3888688, 2.4764366, 2.4834628],\n",
              "       [2.3827634, 2.3905437, 2.456099 , 2.462324 ],\n",
              "       [2.3849044, 2.387063 , 2.460275 , 2.468736 ],\n",
              "       [2.3904846, 2.3880827, 2.4669862, 2.470706 ],\n",
              "       [2.3891563, 2.388554 , 2.467026 , 2.4713893],\n",
              "       [2.3855038, 2.390171 , 2.4651327, 2.471794 ],\n",
              "       [2.3906703, 2.3873038, 2.4619455, 2.4669688],\n",
              "       [2.3888042, 2.39177  , 2.4652007, 2.4709065],\n",
              "       [2.3890362, 2.3920078, 2.4680223, 2.4706771],\n",
              "       [2.391179 , 2.3868325, 2.4613352, 2.469645 ],\n",
              "       [2.3848877, 2.389069 , 2.4649014, 2.4693162],\n",
              "       [2.3897853, 2.3868132, 2.4675834, 2.4705482],\n",
              "       [2.3893514, 2.3884356, 2.4595125, 2.4723954],\n",
              "       [2.3880188, 2.387762 , 2.4614837, 2.47294  ],\n",
              "       [2.3892725, 2.3876185, 2.4661589, 2.4727178],\n",
              "       [2.3904018, 2.3856485, 2.4705582, 2.4747524],\n",
              "       [2.394111 , 2.3925211, 2.4701848, 2.4695587],\n",
              "       [2.3940036, 2.3875253, 2.4627504, 2.4768393],\n",
              "       [2.3891864, 2.3806326, 2.4680622, 2.4670534],\n",
              "       [2.3921201, 2.3742015, 2.4661813, 2.4685872]], dtype=float32)"
            ]
          },
          "metadata": {
            "tags": []
          },
          "execution_count": 224
        }
      ]
    },
    {
      "cell_type": "code",
      "metadata": {
        "id": "Cjmz8IPoDJMw",
        "colab_type": "code",
        "colab": {}
      },
      "source": [
        "Array_in_Numbers_try= TestingDataPrediction[16994]"
      ],
      "execution_count": 225,
      "outputs": []
    },
    {
      "cell_type": "code",
      "metadata": {
        "id": "JIrTccUNDjSH",
        "colab_type": "code",
        "colab": {
          "base_uri": "https://localhost:8080/",
          "height": 357
        },
        "outputId": "87e736de-278f-4819-89cf-f43c5b4217b5"
      },
      "source": [
        "Array_in_Numbers_try"
      ],
      "execution_count": 226,
      "outputs": [
        {
          "output_type": "execute_result",
          "data": {
            "text/plain": [
              "array([[2.5455775, 2.579349 , 2.635213 , 2.6354942],\n",
              "       [2.5656908, 2.6065068, 2.640918 , 2.6458268],\n",
              "       [2.5731468, 2.6107044, 2.640322 , 2.6549728],\n",
              "       [2.5838468, 2.596471 , 2.6687224, 2.6478858],\n",
              "       [2.595163 , 2.5949202, 2.6481302, 2.6512365],\n",
              "       [2.5769906, 2.5897818, 2.6528444, 2.6521828],\n",
              "       [2.5711448, 2.593159 , 2.6449373, 2.6615562],\n",
              "       [2.584929 , 2.6092408, 2.6563282, 2.659254 ],\n",
              "       [2.5743542, 2.6205716, 2.6666846, 2.662283 ],\n",
              "       [2.5961864, 2.6214411, 2.713133 , 2.6710505],\n",
              "       [2.5786269, 2.6237156, 2.696963 , 2.7254343],\n",
              "       [2.5802014, 2.6233377, 2.6846757, 2.698942 ],\n",
              "       [2.5853379, 2.6201813, 2.673254 , 2.6901007],\n",
              "       [2.5747783, 2.6290762, 2.6666906, 2.6707945],\n",
              "       [2.585267 , 2.6232498, 2.6782079, 2.6740544],\n",
              "       [2.588989 , 2.6152601, 2.718355 , 2.6934404],\n",
              "       [2.5986984, 2.617796 , 2.6854432, 2.7180948],\n",
              "       [2.6051307, 2.6171675, 2.7002575, 2.7191465],\n",
              "       [2.608115 , 2.5998688, 2.6958113, 2.7054477],\n",
              "       [2.6165164, 2.5754502, 2.6926866, 2.694851 ]], dtype=float32)"
            ]
          },
          "metadata": {
            "tags": []
          },
          "execution_count": 226
        }
      ]
    },
    {
      "cell_type": "code",
      "metadata": {
        "id": "rni6G2IFIjs-",
        "colab_type": "code",
        "colab": {
          "base_uri": "https://localhost:8080/",
          "height": 1000
        },
        "outputId": "1de771b9-f7b3-4683-ec5a-70d860cd23a4"
      },
      "source": [
        "#Creating function for the stacking the numpy \n",
        "#For loop for the numpy array\n",
        "for i in range(16994):\n",
        "  print(TestingDataPrediction[i])\n",
        "  Prediction_DVL_Data =np.concatenate((TestingDataPrediction[0], TestingDataPrediction[i]), axis=0)"
      ],
      "execution_count": 227,
      "outputs": [
        {
          "output_type": "stream",
          "text": [
            "\u001b[1;30;43mStreaming output truncated to the last 5000 lines.\u001b[0m\n",
            " [2.563208  2.511241  2.4876597 2.480867 ]\n",
            " [2.558648  2.5126193 2.4973958 2.48324  ]\n",
            " [2.5706248 2.5160055 2.5054367 2.4914386]\n",
            " [2.5692294 2.5173502 2.5026135 2.4897304]\n",
            " [2.5675764 2.5195012 2.5035448 2.492037 ]\n",
            " [2.569944  2.5217805 2.4999626 2.4876838]\n",
            " [2.5677004 2.5243828 2.5029876 2.4905283]\n",
            " [2.568288  2.5268712 2.5080352 2.4964318]\n",
            " [2.568975  2.526999  2.5089085 2.495793 ]\n",
            " [2.5601418 2.52859   2.5091488 2.4979126]\n",
            " [2.566182  2.5270777 2.510386  2.4962478]\n",
            " [2.567554  2.5299015 2.5070379 2.5034106]\n",
            " [2.5658104 2.5279696 2.510828  2.5065477]\n",
            " [2.5715513 2.5268292 2.5143688 2.5051532]\n",
            " [2.571791  2.5257726 2.527271  2.5068464]\n",
            " [2.5789638 2.531223  2.5108278 2.5043573]\n",
            " [2.5772834 2.5302749 2.5173306 2.4977624]\n",
            " [2.570795  2.5182583 2.5222876 2.5016396]\n",
            " [2.5769706 2.5094419 2.5193129 2.5015213]]\n",
            "[[2.6813736 2.658685  2.6448784 2.5962691]\n",
            " [2.6496766 2.648308  2.6012082 2.5644698]\n",
            " [2.6503947 2.6450262 2.6091053 2.5697103]\n",
            " [2.6599534 2.649642  2.6145372 2.5834281]\n",
            " [2.6534781 2.6475196 2.615342  2.5724936]\n",
            " [2.6515658 2.6512418 2.6028554 2.5697927]\n",
            " [2.6534977 2.6530707 2.5979233 2.5653179]\n",
            " [2.644835  2.6565597 2.60486   2.567742 ]\n",
            " [2.6396134 2.6534698 2.6067772 2.5621014]\n",
            " [2.6482656 2.6535265 2.6016057 2.567546 ]\n",
            " [2.628302  2.657131  2.6160371 2.561861 ]\n",
            " [2.6386304 2.66225   2.608016  2.5759757]\n",
            " [2.6357992 2.6593778 2.6008275 2.5717432]\n",
            " [2.6296272 2.6560953 2.5934863 2.5590014]\n",
            " [2.631995  2.6557956 2.59604   2.560315 ]\n",
            " [2.6326165 2.6598263 2.6112473 2.568436 ]\n",
            " [2.6415045 2.6627116 2.5845523 2.5611777]\n",
            " [2.6373062 2.6525455 2.5894158 2.5458908]\n",
            " [2.6304226 2.6419191 2.5866485 2.548885 ]\n",
            " [2.6310534 2.6351833 2.5933137 2.5406463]]\n",
            "[[2.4789922 2.4492946 2.429132  2.4055436]\n",
            " [2.4670744 2.4451277 2.4056087 2.389032 ]\n",
            " [2.4623456 2.4443984 2.414728  2.3919697]\n",
            " [2.4735446 2.449533  2.4245179 2.406339 ]\n",
            " [2.469652  2.4528878 2.4238415 2.3997653]\n",
            " [2.4710312 2.4539852 2.414943  2.4016407]\n",
            " [2.472715  2.4582374 2.4120607 2.3933597]\n",
            " [2.4699233 2.4598343 2.4161599 2.398277 ]\n",
            " [2.468297  2.4584458 2.416714  2.397899 ]\n",
            " [2.4732587 2.457037  2.41648   2.3996046]\n",
            " [2.4619846 2.46043   2.4240227 2.3978355]\n",
            " [2.4683502 2.4608867 2.421991  2.4002922]\n",
            " [2.4709017 2.461588  2.417732  2.4044135]\n",
            " [2.4678245 2.4566402 2.4169362 2.4049642]\n",
            " [2.4733346 2.4554815 2.4193115 2.4040563]\n",
            " [2.4736981 2.4578812 2.432559  2.410396 ]\n",
            " [2.4817488 2.460569  2.4148655 2.4062216]\n",
            " [2.4777613 2.4538922 2.4221056 2.397032 ]\n",
            " [2.474224  2.445267  2.4221284 2.4033601]\n",
            " [2.4778202 2.4394958 2.4255319 2.39707  ]]\n",
            "[[2.3147845 2.327751  2.4003186 2.4146159]\n",
            " [2.312462  2.3378181 2.3992133 2.4011357]\n",
            " [2.3033946 2.346298  2.3986487 2.39722  ]\n",
            " [2.317946  2.342777  2.4055371 2.407009 ]\n",
            " [2.314177  2.3464634 2.412421  2.4106603]\n",
            " [2.3200784 2.3388371 2.4033878 2.400808 ]\n",
            " [2.3230636 2.335215  2.409535  2.39994  ]\n",
            " [2.3232987 2.3407342 2.405768  2.404813 ]\n",
            " [2.3309054 2.3323596 2.4024785 2.399959 ]\n",
            " [2.329876  2.320579  2.3784592 2.4053786]\n",
            " [2.3239634 2.321793  2.3905578 2.3718224]\n",
            " [2.3303275 2.3162234 2.3987248 2.399032 ]\n",
            " [2.3292177 2.3311393 2.403927  2.3956647]\n",
            " [2.3376203 2.3260748 2.4153636 2.409105 ]\n",
            " [2.3228772 2.3325014 2.4017813 2.4124753]\n",
            " [2.3348982 2.3390565 2.4069204 2.394524 ]\n",
            " [2.3184156 2.3482494 2.3977082 2.382414 ]\n",
            " [2.3196142 2.3499618 2.3977048 2.3931563]\n",
            " [2.3248587 2.3473537 2.3983219 2.399134 ]\n",
            " [2.3112879 2.3482833 2.3979135 2.3943903]]\n",
            "[[2.3525739 2.3512633 2.468789  2.476784 ]\n",
            " [2.3302736 2.3480527 2.4414964 2.4491262]\n",
            " [2.3359    2.3444424 2.4447415 2.4585977]\n",
            " [2.3376656 2.3453164 2.4471803 2.455898 ]\n",
            " [2.3365986 2.3443668 2.4479527 2.457683 ]\n",
            " [2.3304064 2.3476815 2.4441075 2.4553227]\n",
            " [2.3373828 2.3404214 2.440105  2.4515016]\n",
            " [2.3348825 2.3474736 2.4440086 2.454467 ]\n",
            " [2.332077  2.3478754 2.4481628 2.450617 ]\n",
            " [2.3369145 2.342278  2.4384022 2.4502087]\n",
            " [2.3282077 2.3462093 2.443425  2.4480267]\n",
            " [2.3340845 2.345465  2.4438784 2.452044 ]\n",
            " [2.3312414 2.3449955 2.4335508 2.451642 ]\n",
            " [2.329654  2.3448057 2.4335861 2.4464614]\n",
            " [2.3279834 2.3470778 2.4391458 2.4470026]\n",
            " [2.3303814 2.34537   2.4409533 2.4497015]\n",
            " [2.3326595 2.3544385 2.4417026 2.4418447]\n",
            " [2.3347    2.346279  2.43215   2.4511025]\n",
            " [2.3288436 2.3428667 2.4366398 2.4381738]\n",
            " [2.3319123 2.3366842 2.4358149 2.4388826]]\n",
            "[[2.560441  2.5539958 2.6885023 2.711882 ]\n",
            " [2.5473952 2.5575824 2.6711106 2.6892784]\n",
            " [2.5521717 2.5546525 2.6719084 2.6959407]\n",
            " [2.5561047 2.5540109 2.6773143 2.690932 ]\n",
            " [2.5577245 2.5513139 2.677104  2.6940835]\n",
            " [2.5508072 2.5536256 2.6804278 2.6936705]\n",
            " [2.557084  2.5497067 2.676387  2.6924107]\n",
            " [2.5547144 2.5556927 2.6797466 2.6951473]\n",
            " [2.5567205 2.5584116 2.6851912 2.6981654]\n",
            " [2.5560014 2.5538428 2.6767013 2.695528 ]\n",
            " [2.5522132 2.55447   2.677914  2.697007 ]\n",
            " [2.5566597 2.5508807 2.6824663 2.6987739]\n",
            " [2.5548494 2.554636  2.6739979 2.699431 ]\n",
            " [2.553899  2.557111  2.6790237 2.7009697]\n",
            " [2.5546534 2.556096  2.6823866 2.7001534]\n",
            " [2.5568924 2.5510986 2.6859095 2.698294 ]\n",
            " [2.560185  2.558475  2.6921835 2.6940637]\n",
            " [2.5626373 2.5567837 2.67917   2.7091126]\n",
            " [2.5568001 2.5461    2.687994  2.692945 ]\n",
            " [2.5608194 2.536456  2.6814566 2.6998656]]\n",
            "[[2.3321838 2.3055534 2.2874775 2.261405 ]\n",
            " [2.3155851 2.297989  2.2577164 2.2397366]\n",
            " [2.3114953 2.294814  2.268015  2.2441664]\n",
            " [2.3214178 2.299721  2.275663  2.2592018]\n",
            " [2.3151743 2.303922  2.2756047 2.2530878]\n",
            " [2.316533  2.305379  2.2652652 2.2541175]\n",
            " [2.3191428 2.3063853 2.2625332 2.2448251]\n",
            " [2.316344  2.307983  2.2663827 2.2496903]\n",
            " [2.3130157 2.3045278 2.2658002 2.2461555]\n",
            " [2.3191636 2.3006454 2.2625594 2.2479875]\n",
            " [2.3067677 2.3049462 2.2710748 2.2427614]\n",
            " [2.3130436 2.3055115 2.2688737 2.2455633]\n",
            " [2.3146563 2.3036613 2.2627034 2.2496104]\n",
            " [2.31195   2.2979777 2.259659  2.2472582]\n",
            " [2.3153296 2.2977986 2.2650793 2.2476933]\n",
            " [2.31458   2.3003988 2.2751327 2.2565892]\n",
            " [2.3204694 2.305159  2.2565877 2.249912 ]\n",
            " [2.3161864 2.2951066 2.2624648 2.2397578]\n",
            " [2.3119445 2.2893426 2.2615066 2.2433016]\n",
            " [2.3139367 2.2856102 2.2671967 2.2353568]]\n",
            "[[2.5136979 2.4931824 2.5872488 2.606064 ]\n",
            " [2.5121403 2.4986372 2.5811715 2.5963004]\n",
            " [2.5143406 2.4982803 2.5852118 2.6018755]\n",
            " [2.5209193 2.497941  2.5917823 2.5981596]\n",
            " [2.5233595 2.4963903 2.589805  2.602463 ]\n",
            " [2.5170374 2.498559  2.5962822 2.6037614]\n",
            " [2.5223846 2.4957757 2.5923386 2.6025474]\n",
            " [2.521367  2.5013485 2.594952  2.6049325]\n",
            " [2.5240774 2.5061462 2.6022718 2.6114285]\n",
            " [2.522657  2.5036597 2.5986712 2.608527 ]\n",
            " [2.518862  2.5044298 2.596373  2.6139448]\n",
            " [2.5236926 2.5007024 2.601298  2.6118736]\n",
            " [2.5228295 2.5055757 2.5953727 2.6161032]\n",
            " [2.522208  2.5077562 2.601822  2.6203716]\n",
            " [2.524686  2.5074546 2.6051593 2.6188247]\n",
            " [2.526655  2.5029352 2.6109436 2.6154184]\n",
            " [2.530995  2.5109901 2.6134393 2.6128366]\n",
            " [2.5330582 2.5123894 2.6059895 2.624129 ]\n",
            " [2.5264862 2.5022802 2.6158316 2.6140053]\n",
            " [2.5327623 2.492677  2.607685  2.6212082]]\n",
            "[[2.13578   2.1289027 2.2137508 2.2274945]\n",
            " [2.1382542 2.1352663 2.2094572 2.2210386]\n",
            " [2.140512  2.1328325 2.216238  2.2287912]\n",
            " [2.1458154 2.1326826 2.223059  2.2269735]\n",
            " [2.1457012 2.134958  2.2211363 2.233673 ]\n",
            " [2.1411128 2.1363673 2.2251694 2.2357543]\n",
            " [2.1471622 2.1295865 2.222486  2.2307532]\n",
            " [2.148722  2.1352248 2.2240238 2.2347698]\n",
            " [2.1495512 2.1379964 2.2292764 2.236669 ]\n",
            " [2.1508768 2.1318967 2.225107  2.2340055]\n",
            " [2.1468165 2.1349857 2.2224922 2.2384691]\n",
            " [2.1511264 2.1311755 2.2282522 2.2323744]\n",
            " [2.1506433 2.1334412 2.2209315 2.2389321]\n",
            " [2.1512372 2.1335618 2.2248898 2.2430573]\n",
            " [2.1516957 2.1358562 2.2323792 2.2424247]\n",
            " [2.1522949 2.133173  2.2330675 2.2420332]\n",
            " [2.154138  2.1440969 2.2374701 2.2373085]\n",
            " [2.1549823 2.1418128 2.230576  2.2480135]\n",
            " [2.1490545 2.1401489 2.2389219 2.2383618]\n",
            " [2.154252  2.135354  2.2338586 2.2424002]]\n",
            "[[2.498768  2.491259  2.5802336 2.5875015]\n",
            " [2.484313  2.492912  2.558337  2.5644813]\n",
            " [2.4862478 2.4898038 2.5615902 2.5700922]\n",
            " [2.4922826 2.4911013 2.5688152 2.5725498]\n",
            " [2.4913476 2.4908383 2.5690765 2.5721035]\n",
            " [2.4878743 2.4924788 2.566622  2.5723178]\n",
            " [2.4927495 2.491233  2.5633116 2.5679195]\n",
            " [2.4901206 2.495409  2.5669227 2.5717473]\n",
            " [2.4909143 2.4956286 2.5695815 2.572151 ]\n",
            " [2.4925704 2.4911954 2.5628352 2.5712497]\n",
            " [2.4864397 2.4927561 2.5670478 2.570679 ]\n",
            " [2.4914844 2.4905539 2.5694222 2.5731306]\n",
            " [2.4913046 2.4926493 2.5617027 2.5740838]\n",
            " [2.4895918 2.492102  2.5642426 2.5749443]\n",
            " [2.491617  2.4909146 2.5678089 2.57455  ]\n",
            " [2.4931765 2.4886205 2.5737529 2.5764608]\n",
            " [2.497666  2.4940515 2.572709  2.571928 ]\n",
            " [2.4975233 2.4894724 2.5651155 2.578837 ]\n",
            " [2.4930918 2.4802063 2.570213  2.5692554]\n",
            " [2.4959118 2.4725637 2.568132  2.5710673]]\n",
            "[[2.4372854 2.3825004 2.4387288 2.4684126]\n",
            " [2.3946707 2.3841546 2.4695907 2.4675348]\n",
            " [2.4104626 2.3975954 2.4966266 2.447848 ]\n",
            " [2.385194  2.4271598 2.4675138 2.447414 ]\n",
            " [2.3945277 2.386829  2.461784  2.4869149]\n",
            " [2.406964  2.4084005 2.4268744 2.4371963]\n",
            " [2.458027  2.3848186 2.424093  2.4713776]\n",
            " [2.4304018 2.386863  2.448354  2.4449074]\n",
            " [2.4010742 2.374877  2.4550264 2.4578266]\n",
            " [2.385739  2.3838453 2.4716823 2.44296  ]\n",
            " [2.379879  2.3942828 2.4394643 2.423854 ]\n",
            " [2.4329648 2.3735614 2.4385695 2.461111 ]\n",
            " [2.415893  2.3638916 2.436792  2.4639106]\n",
            " [2.4162557 2.4029708 2.4577644 2.464993 ]\n",
            " [2.3823419 2.3752527 2.4606094 2.440145 ]\n",
            " [2.4269612 2.3750043 2.4931257 2.449993 ]\n",
            " [2.3876774 2.3748538 2.4587085 2.4443817]\n",
            " [2.3904195 2.3922088 2.4501495 2.4453104]\n",
            " [2.4030092 2.3857017 2.440323  2.4343317]\n",
            " [2.4060333 2.3636942 2.427456  2.4503326]]\n",
            "[[2.341073  2.3342779 2.4144096 2.424939 ]\n",
            " [2.3425586 2.3438609 2.4085963 2.4177403]\n",
            " [2.3439748 2.342443  2.4141746 2.4237347]\n",
            " [2.3509393 2.3428648 2.4232974 2.4245965]\n",
            " [2.3518708 2.3441188 2.4218585 2.4279315]\n",
            " [2.348184  2.3450418 2.424013  2.4303324]\n",
            " [2.3527858 2.343013  2.4210484 2.4257865]\n",
            " [2.352909  2.3476    2.4235544 2.4298816]\n",
            " [2.3550715 2.3503964 2.428231  2.433142 ]\n",
            " [2.3561041 2.346683  2.4261498 2.4315085]\n",
            " [2.3517268 2.348918  2.4257245 2.4371123]\n",
            " [2.35665   2.3461397 2.4298916 2.4338634]\n",
            " [2.35716   2.3498337 2.424273  2.4382362]\n",
            " [2.3562315 2.349968  2.4285138 2.4432266]\n",
            " [2.3589714 2.3504572 2.4323564 2.4420733]\n",
            " [2.3605099 2.3484547 2.4374483 2.4410136]\n",
            " [2.3651097 2.355693  2.4400303 2.4381735]\n",
            " [2.365098  2.3546884 2.434261  2.44734  ]\n",
            " [2.360495  2.3490527 2.441695  2.440647 ]\n",
            " [2.365613  2.342643  2.4369988 2.4442873]]\n",
            "[[2.715957  2.6685436 2.6580944 2.6275403]\n",
            " [2.6859975 2.655258  2.6205595 2.6012232]\n",
            " [2.6838055 2.6560974 2.6316776 2.6063218]\n",
            " [2.6922238 2.6615105 2.6337254 2.6178958]\n",
            " [2.6908834 2.6605098 2.632776  2.6094809]\n",
            " [2.686519  2.6648636 2.622942  2.6057281]\n",
            " [2.689256  2.667105  2.617387  2.6027277]\n",
            " [2.683541  2.6722324 2.6237607 2.603244 ]\n",
            " [2.677078  2.6730416 2.6281524 2.603581 ]\n",
            " [2.6845582 2.6765006 2.6300392 2.6066985]\n",
            " [2.666209  2.683139  2.642357  2.6054583]\n",
            " [2.6761637 2.686927  2.6330163 2.6175041]\n",
            " [2.6749282 2.6849787 2.630085  2.6180508]\n",
            " [2.669015  2.68325   2.6256764 2.609393 ]\n",
            " [2.673142  2.6822963 2.6245806 2.6079767]\n",
            " [2.676365  2.6856863 2.6408303 2.612736 ]\n",
            " [2.6856763 2.688685  2.6178086 2.6063218]\n",
            " [2.684485  2.6806898 2.6293771 2.5979483]\n",
            " [2.6786623 2.6697881 2.6279101 2.6061466]\n",
            " [2.6847408 2.6601756 2.632228  2.5990973]]\n",
            "[[2.1735003 2.1658206 2.274076  2.2949548]\n",
            " [2.172969  2.172703  2.2661715 2.28338  ]\n",
            " [2.1762817 2.167727  2.2719927 2.2915273]\n",
            " [2.1808076 2.1659324 2.2773504 2.2878616]\n",
            " [2.1806183 2.1666925 2.275584  2.2950032]\n",
            " [2.1741183 2.1680264 2.2826142 2.2965677]\n",
            " [2.1806455 2.1599474 2.2793899 2.293357 ]\n",
            " [2.1814806 2.1654851 2.28118   2.2964969]\n",
            " [2.1828449 2.16801   2.2863426 2.2995377]\n",
            " [2.1822274 2.1607783 2.279903  2.2960024]\n",
            " [2.1787107 2.1633441 2.278307  2.2991512]\n",
            " [2.1823065 2.1587827 2.2850828 2.2952094]\n",
            " [2.180592  2.1612067 2.2767794 2.3009925]\n",
            " [2.1810403 2.1634452 2.2804077 2.3044724]\n",
            " [2.1806386 2.1648204 2.2875881 2.3039134]\n",
            " [2.1800475 2.1609848 2.2865283 2.3022   ]\n",
            " [2.180753  2.1731386 2.2943618 2.2963116]\n",
            " [2.1817398 2.171453  2.283807  2.31195  ]\n",
            " [2.1747746 2.1679847 2.2938132 2.296616 ]\n",
            " [2.179217  2.1626308 2.2876606 2.302948 ]]\n",
            "[[2.2965355 2.2842097 2.4153214 2.434323 ]\n",
            " [2.266672  2.2713437 2.377925  2.392815 ]\n",
            " [2.2723227 2.2623384 2.3807094 2.4022481]\n",
            " [2.2736325 2.2616012 2.378643  2.3979878]\n",
            " [2.2678995 2.2595444 2.3802702 2.4021306]\n",
            " [2.2610614 2.2641387 2.3808873 2.3988073]\n",
            " [2.2706146 2.251337  2.3769875 2.3959067]\n",
            " [2.2665677 2.256762  2.37954   2.3977425]\n",
            " [2.2646265 2.253433  2.3825097 2.3932307]\n",
            " [2.2649953 2.2416992 2.3614066 2.389894 ]\n",
            " [2.2589986 2.242152  2.362758  2.3775945]\n",
            " [2.2627473 2.2373548 2.3683734 2.3799474]\n",
            " [2.2581043 2.2341008 2.3528647 2.3807385]\n",
            " [2.259196  2.2339652 2.354331  2.3733056]\n",
            " [2.254326  2.2343261 2.368229  2.3769894]\n",
            " [2.252881  2.2270167 2.3638074 2.3835785]\n",
            " [2.249509  2.2404392 2.3624454 2.372127 ]\n",
            " [2.251899  2.229239  2.3443394 2.380193 ]\n",
            " [2.2426279 2.2217658 2.3511636 2.3530467]\n",
            " [2.2416599 2.2150142 2.3493457 2.3568878]]\n",
            "[[2.3392127 2.2952225 2.2804422 2.2672806]\n",
            " [2.3334126 2.286968  2.2654128 2.256726 ]\n",
            " [2.3297987 2.2857385 2.2741013 2.2616682]\n",
            " [2.3398962 2.2894418 2.2789757 2.2670927]\n",
            " [2.335196  2.2924337 2.2761714 2.265478 ]\n",
            " [2.3338165 2.2943802 2.2767587 2.267225 ]\n",
            " [2.3380039 2.2914512 2.2738943 2.2626185]\n",
            " [2.3370683 2.2952023 2.2764182 2.2666833]\n",
            " [2.3343642 2.2956412 2.2803242 2.2672257]\n",
            " [2.3381712 2.2924812 2.2766244 2.2666488]\n",
            " [2.3270748 2.2953358 2.2795312 2.2641428]\n",
            " [2.3331444 2.2941525 2.2804904 2.2617302]\n",
            " [2.332879  2.2942429 2.2742705 2.2705743]\n",
            " [2.332775  2.2902226 2.2746227 2.2709994]\n",
            " [2.3349829 2.2915597 2.280892  2.2695768]\n",
            " [2.3334444 2.2920582 2.289112  2.2746499]\n",
            " [2.3373113 2.3009222 2.274096  2.2676897]\n",
            " [2.3359547 2.295109  2.2792878 2.2619362]\n",
            " [2.327839  2.2880595 2.283227  2.2623315]\n",
            " [2.3333175 2.2819715 2.2829332 2.2595055]]\n",
            "[[2.5965562 2.5614243 2.665452  2.6891072]\n",
            " [2.5879645 2.5594733 2.653514  2.6721995]\n",
            " [2.5910397 2.5580587 2.6570644 2.6784186]\n",
            " [2.5963323 2.5569963 2.6592915 2.6711655]\n",
            " [2.5984159 2.5532117 2.6570637 2.6762474]\n",
            " [2.5893304 2.5568824 2.6671193 2.6757877]\n",
            " [2.5958054 2.5511029 2.6621444 2.6774142]\n",
            " [2.5934625 2.5576181 2.6649866 2.6781726]\n",
            " [2.5950925 2.5626857 2.6737578 2.6855786]\n",
            " [2.5920577 2.559571  2.666382  2.6815207]\n",
            " [2.5874016 2.5597923 2.6635504 2.6835182]\n",
            " [2.591862  2.555246  2.6689334 2.6833265]\n",
            " [2.58886   2.5594866 2.6611185 2.6876867]\n",
            " [2.5888085 2.563389  2.6676254 2.6886096]\n",
            " [2.5896683 2.5627465 2.672162  2.687353 ]\n",
            " [2.5906217 2.5561678 2.6763089 2.6835647]\n",
            " [2.5933435 2.5667863 2.677477  2.678702 ]\n",
            " [2.5968533 2.5677927 2.6685078 2.6915188]\n",
            " [2.5877016 2.5550513 2.679936  2.676032 ]\n",
            " [2.5939772 2.543497  2.6702156 2.6852324]]\n",
            "[[2.4409113 2.418965  2.4429555 2.439618 ]\n",
            " [2.4425733 2.4223156 2.4371748 2.4352057]\n",
            " [2.4408116 2.4242735 2.4437735 2.4390557]\n",
            " [2.4506834 2.4274793 2.454372  2.4442596]\n",
            " [2.4503243 2.429752  2.4527936 2.4443967]\n",
            " [2.449695  2.4312234 2.4510741 2.4475014]\n",
            " [2.452937  2.4327056 2.4483724 2.4411013]\n",
            " [2.4522614 2.4362402 2.4509084 2.4460554]\n",
            " [2.4538832 2.4386995 2.4554944 2.448751 ]\n",
            " [2.4563582 2.4370825 2.4548178 2.4483335]\n",
            " [2.4501846 2.43852   2.4539866 2.4522824]\n",
            " [2.455761  2.4367692 2.4564927 2.4480395]\n",
            " [2.4579384 2.4404743 2.4519458 2.453504 ]\n",
            " [2.456987  2.4372125 2.4566405 2.4581978]\n",
            " [2.4616907 2.4376948 2.4606512 2.4571588]\n",
            " [2.4636424 2.4366262 2.4707413 2.4588268]\n",
            " [2.4704986 2.4416225 2.4622636 2.4572005]\n",
            " [2.4697168 2.439663  2.4631486 2.4549062]\n",
            " [2.465299  2.4320335 2.4681036 2.456259 ]\n",
            " [2.4708583 2.4250145 2.4650726 2.4563265]]\n",
            "[[2.1139479 2.1158278 2.191877  2.1844494]\n",
            " [2.1094527 2.1297581 2.1726155 2.1690204]\n",
            " [2.0891614 2.130971  2.1921852 2.1749098]\n",
            " [2.105164  2.1254332 2.1861374 2.195162 ]\n",
            " [2.1101491 2.1341958 2.1884625 2.183398 ]\n",
            " [2.1090918 2.1216292 2.1871061 2.182466 ]\n",
            " [2.1087427 2.1228592 2.1906621 2.185444 ]\n",
            " [2.1111689 2.1234515 2.1905458 2.1802225]\n",
            " [2.1133947 2.1146462 2.185356  2.1881351]\n",
            " [2.11412   2.1152976 2.179509  2.1909125]\n",
            " [2.0989408 2.1207795 2.1856906 2.1801639]\n",
            " [2.1165156 2.1170268 2.181589  2.1864274]\n",
            " [2.1114614 2.1201365 2.180264  2.1883206]\n",
            " [2.1152349 2.1139746 2.1962314 2.1954234]\n",
            " [2.120525  2.112426  2.1891503 2.1987004]\n",
            " [2.1172812 2.1234255 2.1980581 2.2075944]\n",
            " [2.1068852 2.1300452 2.1803389 2.1970248]\n",
            " [2.101415  2.1301644 2.1735592 2.1906018]\n",
            " [2.0998356 2.1316292 2.175179  2.1788504]\n",
            " [2.1033177 2.1201055 2.1784816 2.1754813]]\n",
            "[[2.4792182 2.4694185 2.5420494 2.544033 ]\n",
            " [2.4726484 2.4775672 2.5281978 2.5318217]\n",
            " [2.4740336 2.4764862 2.5342667 2.5377846]\n",
            " [2.4811263 2.4773214 2.5424914 2.541341 ]\n",
            " [2.4826298 2.4772582 2.5416434 2.5407119]\n",
            " [2.4782798 2.4782863 2.5401971 2.5415072]\n",
            " [2.4820035 2.4786031 2.5364532 2.5379744]\n",
            " [2.480483  2.4833658 2.540495  2.5411975]\n",
            " [2.4808636 2.486128  2.5449777 2.5440483]\n",
            " [2.4838243 2.4849713 2.5449355 2.5441995]\n",
            " [2.475648  2.4886255 2.5503125 2.5497158]\n",
            " [2.4820917 2.488175  2.5499978 2.5530047]\n",
            " [2.4820619 2.4916062 2.5459237 2.5546827]\n",
            " [2.4788966 2.492005  2.5472615 2.5563164]\n",
            " [2.4820786 2.4920921 2.5471325 2.5543702]\n",
            " [2.4847004 2.4926178 2.555856  2.5530248]\n",
            " [2.491355  2.4977257 2.555088  2.5500145]\n",
            " [2.49067   2.4959648 2.5525532 2.5578423]\n",
            " [2.486566  2.4891708 2.5576625 2.5550206]\n",
            " [2.4918334 2.4819746 2.5553012 2.5562887]]\n",
            "[[2.5604951 2.6294215 2.6127768 2.4955313]\n",
            " [2.5155268 2.6136897 2.5528793 2.4471147]\n",
            " [2.521277  2.6071827 2.5537763 2.4550793]\n",
            " [2.5307672 2.6142373 2.5659437 2.4639733]\n",
            " [2.5222101 2.6081715 2.5638118 2.4569583]\n",
            " [2.5186853 2.6131516 2.5542557 2.4511707]\n",
            " [2.5188484 2.61105   2.549371  2.445194 ]\n",
            " [2.5085359 2.6192095 2.5586011 2.4498532]\n",
            " [2.504829  2.6139648 2.5597436 2.4385545]\n",
            " [2.513881  2.6108978 2.540199  2.443826 ]\n",
            " [2.4907024 2.610952  2.557587  2.4343784]\n",
            " [2.5059247 2.6187599 2.5534418 2.4514048]\n",
            " [2.4962158 2.6124723 2.5419877 2.442321 ]\n",
            " [2.4922335 2.614446  2.5329423 2.4299161]\n",
            " [2.4953845 2.6094098 2.5419912 2.432199 ]\n",
            " [2.494236  2.6098907 2.554527  2.4438787]\n",
            " [2.5029914 2.6114302 2.5306695 2.4335644]\n",
            " [2.496026  2.6023645 2.5288012 2.4208   ]\n",
            " [2.4886487 2.592189  2.526762  2.4146829]\n",
            " [2.4871943 2.5811322 2.5284977 2.4127953]]\n",
            "[[2.4640837 2.4627743 2.5906744 2.611375 ]\n",
            " [2.4534264 2.4681265 2.5747762 2.5909507]\n",
            " [2.4577734 2.4649134 2.5763626 2.5977712]\n",
            " [2.461909  2.4644396 2.5828538 2.5943348]\n",
            " [2.462999  2.4630885 2.5826762 2.5975764]\n",
            " [2.4571517 2.464789  2.5847824 2.5978043]\n",
            " [2.4631493 2.4609892 2.581267  2.5951717]\n",
            " [2.4615388 2.4665904 2.5843923 2.5985649]\n",
            " [2.4634352 2.4687686 2.5888863 2.6006017]\n",
            " [2.4635072 2.4636705 2.5813751 2.5982897]\n",
            " [2.4597776 2.4648912 2.582873  2.600354 ]\n",
            " [2.4641457 2.461477  2.5874996 2.6011012]\n",
            " [2.4629483 2.464935  2.5791502 2.6022558]\n",
            " [2.4620583 2.4666522 2.5835786 2.60454  ]\n",
            " [2.4629395 2.4661455 2.5872638 2.603734 ]\n",
            " [2.464916  2.4621706 2.590205  2.602476 ]\n",
            " [2.4681447 2.4695287 2.5969577 2.598244 ]\n",
            " [2.4697974 2.467334  2.5847628 2.612733 ]\n",
            " [2.4646971 2.4589372 2.5928829 2.598123 ]\n",
            " [2.4684515 2.4507759 2.5873947 2.6039064]]\n",
            "[[2.3625507 2.3327503 2.3126793 2.2902434]\n",
            " [2.3519156 2.3276637 2.289968  2.2744129]\n",
            " [2.3474143 2.325969  2.299965  2.2781549]\n",
            " [2.358092  2.3306663 2.3088446 2.2917666]\n",
            " [2.3533027 2.3347178 2.3079412 2.2868032]\n",
            " [2.3544345 2.335918  2.3001826 2.2887905]\n",
            " [2.3567038 2.3378606 2.2974901 2.2800972]\n",
            " [2.3546007 2.3396246 2.3010263 2.285014 ]\n",
            " [2.3525364 2.3378923 2.3015995 2.2839336]\n",
            " [2.3574808 2.33506   2.300286  2.2851522]\n",
            " [2.3464296 2.3387709 2.3066878 2.28269  ]\n",
            " [2.3524194 2.3387256 2.305643  2.2835333]\n",
            " [2.3545299 2.338567  2.3005016 2.288821 ]\n",
            " [2.3521647 2.3335617 2.2993937 2.2890635]\n",
            " [2.35661   2.3332455 2.303864  2.2886503]\n",
            " [2.3561244 2.3353276 2.3147948 2.2955122]\n",
            " [2.362716  2.3399556 2.2977846 2.2903118]\n",
            " [2.358824  2.3325899 2.3043246 2.281518 ]\n",
            " [2.354546  2.3259907 2.304836  2.2862072]\n",
            " [2.3578925 2.3213713 2.308269  2.2800431]]\n",
            "[[2.2721634 2.265446  2.3765078 2.4010012]\n",
            " [2.2747383 2.2762747 2.370723  2.3896906]\n",
            " [2.277046  2.27042   2.3751237 2.3963342]\n",
            " [2.2831447 2.2685363 2.382678  2.3935134]\n",
            " [2.2827444 2.2686327 2.380599  2.400484 ]\n",
            " [2.2772412 2.2694454 2.388925  2.4028337]\n",
            " [2.283379  2.2635958 2.3860924 2.3998196]\n",
            " [2.2836356 2.2677743 2.3878517 2.4031985]\n",
            " [2.2871692 2.269481  2.3919182 2.4078126]\n",
            " [2.2843282 2.26221   2.3845556 2.403412 ]\n",
            " [2.282888  2.2628307 2.3821616 2.4062872]\n",
            " [2.2857082 2.2572703 2.3909853 2.4018657]\n",
            " [2.2849422 2.2606118 2.3818827 2.4075532]\n",
            " [2.2853503 2.2632859 2.3872023 2.413219 ]\n",
            " [2.286621  2.262479  2.3942418 2.412482 ]\n",
            " [2.2851655 2.2575443 2.3941255 2.4108446]\n",
            " [2.2862973 2.268413  2.4026065 2.405766 ]\n",
            " [2.286376  2.2679234 2.390113  2.422075 ]\n",
            " [2.2800188 2.260996  2.400812  2.4040737]\n",
            " [2.2837536 2.2541187 2.393505  2.4122455]]\n",
            "[[2.479448  2.4591064 2.4405608 2.4104528]\n",
            " [2.4631355 2.4577658 2.4103632 2.3898053]\n",
            " [2.4613013 2.455247  2.4181702 2.392981 ]\n",
            " [2.4735365 2.4583058 2.427174  2.4109764]\n",
            " [2.4676552 2.4599314 2.4301546 2.3982916]\n",
            " [2.4703991 2.4605231 2.4182374 2.4010859]\n",
            " [2.471495  2.4660888 2.4152555 2.3941329]\n",
            " [2.4660757 2.46531   2.4198403 2.3990479]\n",
            " [2.464815  2.462546  2.4195752 2.395641 ]\n",
            " [2.472327  2.4606805 2.4160674 2.400558 ]\n",
            " [2.4578328 2.4628215 2.4274762 2.3962455]\n",
            " [2.4648874 2.464174  2.4224267 2.4047801]\n",
            " [2.4671118 2.4658165 2.4173172 2.4029138]\n",
            " [2.4621348 2.458182  2.4136543 2.396113 ]\n",
            " [2.4662657 2.4591675 2.4143124 2.3979843]\n",
            " [2.465279  2.4649498 2.4274533 2.4031675]\n",
            " [2.4757705 2.4674103 2.4054294 2.398795 ]\n",
            " [2.4687345 2.4595382 2.408106  2.3829527]\n",
            " [2.4636657 2.4529054 2.4065554 2.3883934]\n",
            " [2.463209  2.450362  2.413127  2.3799658]]\n",
            "[[2.2665622 2.2759857 2.3504095 2.3445911]\n",
            " [2.2498145 2.2772717 2.3235662 2.3202708]\n",
            " [2.2514517 2.273751  2.328922  2.327426 ]\n",
            " [2.2567    2.2765696 2.3369708 2.334993 ]\n",
            " [2.2535098 2.2800894 2.3387485 2.3332393]\n",
            " [2.2527792 2.281269  2.3290975 2.3334215]\n",
            " [2.2573218 2.2794623 2.3267808 2.3249283]\n",
            " [2.2557032 2.2834632 2.3302445 2.3306048]\n",
            " [2.2543705 2.2806125 2.3299854 2.3247142]\n",
            " [2.2606292 2.2743344 2.323435  2.3258274]\n",
            " [2.252336  2.2783124 2.329649  2.3236432]\n",
            " [2.2582853 2.277693  2.3298526 2.325155 ]\n",
            " [2.259039  2.276924  2.3214617 2.3252954]\n",
            " [2.2574084 2.2727346 2.32081   2.3239381]\n",
            " [2.2585247 2.2734113 2.326382  2.3250563]\n",
            " [2.2605436 2.2738194 2.3303638 2.3315094]\n",
            " [2.264663  2.2788973 2.3270388 2.3252678]\n",
            " [2.2632048 2.268724  2.321668  2.3273146]\n",
            " [2.260908  2.266348  2.322726  2.3219445]\n",
            " [2.2619426 2.2624996 2.3261533 2.3178484]]\n",
            "[[2.5225503 2.5188332 2.6494904 2.672479 ]\n",
            " [2.513948  2.5256357 2.6363297 2.6542704]\n",
            " [2.5183895 2.5232332 2.6375573 2.6607652]\n",
            " [2.52285   2.5224922 2.6443253 2.6562798]\n",
            " [2.5249753 2.5204523 2.6438403 2.6597784]\n",
            " [2.518582  2.5222168 2.6474345 2.6602085]\n",
            " [2.5244231 2.5190794 2.6436684 2.6584792]\n",
            " [2.5227504 2.5248373 2.646848  2.6615775]\n",
            " [2.5253396 2.5280535 2.652284  2.6651514]\n",
            " [2.524705  2.523908  2.645667  2.6626346]\n",
            " [2.5213954 2.524724  2.6463528 2.6661508]\n",
            " [2.5258381 2.5212383 2.6511307 2.6667738]\n",
            " [2.524629  2.5256667 2.6434546 2.6679375]\n",
            " [2.523607  2.528044  2.6487849 2.6709707]\n",
            " [2.524994  2.5273325 2.6515226 2.6698039]\n",
            " [2.52734   2.5229757 2.6553667 2.6671627]\n",
            " [2.531176  2.5300655 2.6627123 2.6637459]\n",
            " [2.533222  2.529409  2.6504707 2.6791148]\n",
            " [2.5279193 2.5198348 2.6594567 2.6647193]\n",
            " [2.532379  2.5107985 2.6526728 2.6716874]]\n",
            "[[2.4579277 2.456671  2.5731173 2.5997598]\n",
            " [2.4633737 2.474171  2.5690432 2.588939 ]\n",
            " [2.464523  2.4684598 2.5715737 2.5933688]\n",
            " [2.4727995 2.4669168 2.582616  2.5928106]\n",
            " [2.4733055 2.4661498 2.5807269 2.5981362]\n",
            " [2.469217  2.4661946 2.5889452 2.6013591]\n",
            " [2.4742517 2.4650571 2.5864305 2.5986779]\n",
            " [2.4734275 2.4677284 2.5885668 2.602307 ]\n",
            " [2.4800727 2.4687343 2.5913699 2.6089778]\n",
            " [2.4751885 2.4627564 2.5848703 2.604569 ]\n",
            " [2.4758697 2.4612298 2.582494  2.6087713]\n",
            " [2.4787128 2.455322  2.5923233 2.6049743]\n",
            " [2.4794254 2.460084  2.5837452 2.6091068]\n",
            " [2.4791481 2.4630916 2.591149  2.6178088]\n",
            " [2.4834108 2.459305  2.5959463 2.6167555]\n",
            " [2.482264  2.4534311 2.598741  2.6147604]\n",
            " [2.4852    2.4607863 2.6080663 2.6115866]\n",
            " [2.484308  2.462029  2.5940988 2.628345 ]\n",
            " [2.4797297 2.4501638 2.604861  2.6098568]\n",
            " [2.4828389 2.4409063 2.5967202 2.6194828]]\n",
            "[[2.400519  2.4905193 2.468042  2.346082 ]\n",
            " [2.371456  2.4868267 2.4249969 2.314059 ]\n",
            " [2.3770144 2.4830146 2.427594  2.3222136]\n",
            " [2.3871949 2.491159  2.444711  2.3313637]\n",
            " [2.38179   2.4875355 2.440822  2.3303657]\n",
            " [2.378736  2.4912457 2.433072  2.3251686]\n",
            " [2.3775585 2.4888728 2.4293218 2.3170996]\n",
            " [2.3710108 2.499252  2.4379349 2.3237019]\n",
            " [2.3691287 2.4956775 2.4390154 2.3129494]\n",
            " [2.3787127 2.4930718 2.424765  2.3181858]\n",
            " [2.3566017 2.4950404 2.4403255 2.315928 ]\n",
            " [2.3729274 2.5029163 2.4383068 2.3292584]\n",
            " [2.364131  2.4977403 2.4300158 2.323046 ]\n",
            " [2.3617322 2.5014644 2.4222813 2.3175216]\n",
            " [2.3665152 2.4964921 2.4292629 2.3174996]\n",
            " [2.3668244 2.4978805 2.4405282 2.3253086]\n",
            " [2.3758616 2.4993873 2.4242342 2.316172 ]\n",
            " [2.3683445 2.492987  2.4268465 2.3101907]\n",
            " [2.3639114 2.4875157 2.4253025 2.3101773]\n",
            " [2.3644762 2.4759676 2.4249449 2.3091743]]\n",
            "[[2.0874457 2.0777953 2.1034098 2.0958786]\n",
            " [2.0816321 2.0750003 2.0860271 2.0811982]\n",
            " [2.0796778 2.072135  2.095559  2.0873415]\n",
            " [2.087547  2.0756118 2.1024504 2.0958142]\n",
            " [2.082674  2.0817068 2.1021006 2.0972137]\n",
            " [2.0829914 2.0833516 2.0984113 2.099084 ]\n",
            " [2.0881846 2.0792673 2.096797  2.0907316]\n",
            " [2.088627  2.0826666 2.0982914 2.095961 ]\n",
            " [2.0879052 2.0801325 2.0992131 2.0928757]\n",
            " [2.0919971 2.072458  2.0936604 2.0921266]\n",
            " [2.0852985 2.0755117 2.0924463 2.0901067]\n",
            " [2.090793  2.0720696 2.0960891 2.0828683]\n",
            " [2.092246  2.0698776 2.0880399 2.0896688]\n",
            " [2.0934603 2.0642984 2.0899103 2.091555 ]\n",
            " [2.095253  2.0648665 2.1012309 2.093129 ]\n",
            " [2.0950677 2.0627408 2.103228  2.1015663]\n",
            " [2.0969157 2.071006  2.0950983 2.0949185]\n",
            " [2.0955575 2.0615106 2.0936542 2.0916991]\n",
            " [2.0911624 2.0590413 2.0964963 2.087461 ]\n",
            " [2.0934143 2.0550227 2.0981498 2.084134 ]]\n",
            "[[2.427267  2.4229887 2.5116897 2.5173726]\n",
            " [2.412598  2.4245923 2.489098  2.494257 ]\n",
            " [2.4148347 2.4210045 2.4928546 2.5004957]\n",
            " [2.4204745 2.4222615 2.4998279 2.5033367]\n",
            " [2.418911  2.4225965 2.500335  2.5030577]\n",
            " [2.4156861 2.4241953 2.4969718 2.5032423]\n",
            " [2.4207458 2.4220495 2.4938204 2.4981866]\n",
            " [2.4184003 2.4262705 2.4973152 2.502251 ]\n",
            " [2.418613  2.4259796 2.4996176 2.5013435]\n",
            " [2.421143  2.4208736 2.4925323 2.500711 ]\n",
            " [2.4145684 2.4229653 2.497044  2.499765 ]\n",
            " [2.4196496 2.420998  2.4991782 2.5020006]\n",
            " [2.419381  2.4224398 2.4910007 2.5028994]\n",
            " [2.4177248 2.4213514 2.49265   2.5029037]\n",
            " [2.4190996 2.420902  2.4970343 2.5028713]\n",
            " [2.42048   2.41915   2.5019748 2.5054812]\n",
            " [2.4245427 2.4251826 2.5009198 2.5003862]\n",
            " [2.424193  2.4195411 2.4931622 2.5068069]\n",
            " [2.4197793 2.4121418 2.497759  2.497169 ]\n",
            " [2.4221897 2.4056146 2.4966202 2.4980998]]\n",
            "[[2.185049  2.174603  2.2491183 2.2616491]\n",
            " [2.192083  2.1847265 2.2487264 2.259849 ]\n",
            " [2.193367  2.1828809 2.2564776 2.266696 ]\n",
            " [2.2002177 2.1825917 2.2644894 2.2662609]\n",
            " [2.2008712 2.1847053 2.2620451 2.2725062]\n",
            " [2.196454  2.1857672 2.2673566 2.2752824]\n",
            " [2.2017577 2.1809204 2.2645636 2.2708974]\n",
            " [2.2032592 2.1859462 2.2661846 2.274523 ]\n",
            " [2.2051673 2.1894085 2.2718856 2.278604 ]\n",
            " [2.2057056 2.184823  2.270421  2.27609  ]\n",
            " [2.201763  2.1876826 2.26728   2.282946 ]\n",
            " [2.2064524 2.1840985 2.2728112 2.2765987]\n",
            " [2.20651   2.18713   2.2671313 2.2835128]\n",
            " [2.2064767 2.18772   2.2715669 2.2891436]\n",
            " [2.208362  2.1893554 2.2777889 2.2881174]\n",
            " [2.2090287 2.186966  2.2804265 2.28658  ]\n",
            " [2.212046  2.1969702 2.2840757 2.283109 ]\n",
            " [2.2123318 2.1965847 2.2787075 2.2932553]\n",
            " [2.2065609 2.1935441 2.2874503 2.2857635]\n",
            " [2.212405  2.1882255 2.2817807 2.2903528]]\n",
            "[[2.4183319 2.4004896 2.492241  2.5062368]\n",
            " [2.4078958 2.3997774 2.4752736 2.4865792]\n",
            " [2.410183  2.3965328 2.4793377 2.4930224]\n",
            " [2.415614  2.3966787 2.4842534 2.4913251]\n",
            " [2.4148796 2.396029  2.483374  2.4942744]\n",
            " [2.4093938 2.398378  2.4865193 2.4947054]\n",
            " [2.4152443 2.3935692 2.48281   2.491778 ]\n",
            " [2.4135246 2.3986025 2.4855616 2.4947808]\n",
            " [2.4143178 2.4002988 2.4903765 2.4971247]\n",
            " [2.414211  2.3949354 2.4824524 2.4945471]\n",
            " [2.4090285 2.3962283 2.4828763 2.494169 ]\n",
            " [2.4132748 2.3926303 2.4874768 2.493702 ]\n",
            " [2.411885  2.3949997 2.478939  2.4972892]\n",
            " [2.411561  2.3958023 2.482739  2.4983146]\n",
            " [2.412297  2.3956726 2.4885404 2.4979997]\n",
            " [2.4126956 2.3915668 2.4917932 2.4983635]\n",
            " [2.4153214 2.4006875 2.4921052 2.492816 ]\n",
            " [2.4165213 2.3975935 2.4835842 2.5020337]\n",
            " [2.409727  2.389083  2.4915388 2.4890842]\n",
            " [2.4136624 2.381334  2.486652  2.4935734]]\n",
            "[[2.5199442 2.4984908 2.4783716 2.449507 ]\n",
            " [2.5032618 2.4948184 2.44918   2.4285922]\n",
            " [2.4985845 2.4936771 2.457567  2.431214 ]\n",
            " [2.5098445 2.4996371 2.4685473 2.4485745]\n",
            " [2.5052013 2.5033128 2.4690175 2.4393845]\n",
            " [2.5080762 2.5040317 2.4554632 2.4408882]\n",
            " [2.5092475 2.5102606 2.4528487 2.431306 ]\n",
            " [2.505574  2.5112092 2.4575915 2.4368985]\n",
            " [2.5036008 2.5082147 2.4562843 2.434185 ]\n",
            " [2.5101335 2.5068848 2.4558637 2.4372048]\n",
            " [2.4979231 2.510504  2.4664476 2.4341817]\n",
            " [2.5047605 2.5120492 2.4627519 2.43905  ]\n",
            " [2.5079672 2.5120826 2.458426  2.4409134]\n",
            " [2.5039396 2.50589   2.45621   2.440423 ]\n",
            " [2.509837  2.5041966 2.4575984 2.4398406]\n",
            " [2.510828  2.5078795 2.4721901 2.4479682]\n",
            " [2.519841  2.5082345 2.4531198 2.4439719]\n",
            " [2.5149007 2.499595  2.4603686 2.4326613]\n",
            " [2.5128922 2.490799  2.4580674 2.4405353]\n",
            " [2.5151644 2.485561  2.464067  2.4318755]]\n",
            "[[2.3339329 2.3002543 2.281527  2.2619913]\n",
            " [2.3259444 2.2946947 2.2627263 2.249394 ]\n",
            " [2.3218572 2.2933917 2.2724376 2.2537646]\n",
            " [2.3322456 2.297799  2.279926  2.2642725]\n",
            " [2.3276508 2.301659  2.2782211 2.2607307]\n",
            " [2.3279192 2.3030715 2.2733498 2.2626379]\n",
            " [2.3309486 2.3030849 2.2706735 2.255371 ]\n",
            " [2.3295581 2.3057702 2.2738252 2.260036 ]\n",
            " [2.3270767 2.3050275 2.27572   2.259395 ]\n",
            " [2.3320029 2.3022175 2.2740738 2.2600815]\n",
            " [2.3207736 2.3059218 2.2792044 2.2581925]\n",
            " [2.3269558 2.305616  2.2786877 2.2575836]\n",
            " [2.3282444 2.3054893 2.273352  2.2643373]\n",
            " [2.3266952 2.3007462 2.272636  2.264751 ]\n",
            " [2.330291  2.3013327 2.2776785 2.2638106]\n",
            " [2.3295963 2.3031878 2.287571  2.2699282]\n",
            " [2.3352334 2.3094127 2.2715998 2.2641604]\n",
            " [2.3322828 2.3026104 2.2780197 2.256608 ]\n",
            " [2.3267221 2.296543  2.2796462 2.260339 ]\n",
            " [2.3310943 2.2915833 2.2818184 2.255188 ]]\n",
            "[[2.520561  2.4942691 2.4766974 2.4488394]\n",
            " [2.5023742 2.488593  2.4457192 2.4263825]\n",
            " [2.4985967 2.486849  2.4543836 2.4296002]\n",
            " [2.5097368 2.4920826 2.4635527 2.4458933]\n",
            " [2.504255  2.494923  2.4642768 2.4371336]\n",
            " [2.5061085 2.4964557 2.4522245 2.4380724]\n",
            " [2.5077937 2.5009851 2.4492035 2.429594 ]\n",
            " [2.5035079 2.5021093 2.4537265 2.4346282]\n",
            " [2.501186  2.4989421 2.4533894 2.431526 ]\n",
            " [2.507675  2.4971826 2.4511068 2.4343266]\n",
            " [2.494572  2.5003822 2.4607816 2.4302983]\n",
            " [2.5014312 2.5017502 2.4570632 2.4355862]\n",
            " [2.503723  2.5012298 2.451668  2.4369252]\n",
            " [2.4997878 2.495018  2.448773  2.4336157]\n",
            " [2.5043852 2.493799  2.4519417 2.4339707]\n",
            " [2.5048957 2.4967725 2.465503  2.442232 ]\n",
            " [2.513389  2.498731  2.4445896 2.4375033]\n",
            " [2.508936  2.489411  2.4501903 2.4250412]\n",
            " [2.5052977 2.4803224 2.4484837 2.430238 ]\n",
            " [2.5069335 2.475098  2.4543343 2.4220963]]\n",
            "[[2.3063731 2.2806523 2.3811827 2.3944159]\n",
            " [2.3026254 2.2898698 2.377041  2.3919966]\n",
            " [2.309946  2.283217  2.3617525 2.4060264]\n",
            " [2.319414  2.2751675 2.3694153 2.3797052]\n",
            " [2.3134875 2.2799907 2.3549411 2.380622 ]\n",
            " [2.308178  2.2798257 2.385177  2.384541 ]\n",
            " [2.3146565 2.2758608 2.3886836 2.3956964]\n",
            " [2.3165143 2.2796845 2.3865886 2.3964977]\n",
            " [2.3182738 2.2871776 2.3884509 2.3960247]\n",
            " [2.327866  2.2919652 2.3866687 2.3929827]\n",
            " [2.3165274 2.2915194 2.383279  2.4098606]\n",
            " [2.3253105 2.299049  2.3845232 2.3935156]\n",
            " [2.3231783 2.290679  2.3712955 2.3980834]\n",
            " [2.3160253 2.2890687 2.3810797 2.402084 ]\n",
            " [2.3266435 2.28996   2.3932962 2.4072466]\n",
            " [2.3223188 2.2960565 2.3977957 2.4074082]\n",
            " [2.3314068 2.2995996 2.4001625 2.4057407]\n",
            " [2.3308935 2.299186  2.3878682 2.4063826]\n",
            " [2.3151293 2.2971632 2.397365  2.4022076]\n",
            " [2.3278377 2.2911644 2.3890305 2.4164684]]\n",
            "[[2.5428536 2.548149  2.677504  2.6966228]\n",
            " [2.5321496 2.55662   2.661097  2.675766 ]\n",
            " [2.5360723 2.553827  2.6617107 2.6816654]\n",
            " [2.5410073 2.5539565 2.6702576 2.6801925]\n",
            " [2.5425203 2.5526175 2.6705165 2.6818645]\n",
            " [2.5378826 2.5538101 2.6705186 2.6823518]\n",
            " [2.5431986 2.5527585 2.667319  2.6792321]\n",
            " [2.541126  2.5577586 2.6708033 2.683108 ]\n",
            " [2.5439916 2.5593472 2.6742415 2.6850069]\n",
            " [2.544236  2.5550573 2.6676445 2.683319 ]\n",
            " [2.5409403 2.5557578 2.6702783 2.686113 ]\n",
            " [2.5456727 2.552723  2.6744332 2.687744 ]\n",
            " [2.5454335 2.5566242 2.6665998 2.6875353]\n",
            " [2.5439563 2.5578518 2.6714196 2.6909103]\n",
            " [2.5462713 2.5561845 2.673531  2.6899078]\n",
            " [2.5489757 2.5525823 2.6782787 2.6890292]\n",
            " [2.5534716 2.5574732 2.6851838 2.6858568]\n",
            " [2.5544856 2.555337  2.6729684 2.6998067]\n",
            " [2.5509353 2.5454667 2.6800742 2.6865795]\n",
            " [2.5542653 2.5365746 2.675229  2.6918337]]\n",
            "[[2.0388298 2.018565  2.0095322 1.997206 ]\n",
            " [2.0404866 2.0139043 2.0010629 1.9917994]\n",
            " [2.037562  2.011736  2.0075858 1.9979786]\n",
            " [2.0466597 2.01648   2.0147014 2.0023334]\n",
            " [2.0390546 2.0236535 2.0127642 2.002339 ]\n",
            " [2.0416937 2.0239785 2.0107098 2.0061004]\n",
            " [2.047019  2.0182827 2.0100305 1.9979285]\n",
            " [2.04881   2.0219302 2.0111713 2.0056894]\n",
            " [2.046129  2.0198102 2.0123153 1.9998349]\n",
            " [2.0527518 2.01206   2.00538   1.9997447]\n",
            " [2.0437837 2.0147984 2.0061812 1.9951739]\n",
            " [2.0489705 2.0130122 2.0099447 1.9855846]\n",
            " [2.0498753 2.0118873 2.0013933 1.9963213]\n",
            " [2.0525265 2.0036516 2.001538  1.9996729]\n",
            " [2.0525846 2.0076935 2.0119674 1.9989525]\n",
            " [2.0503483 2.009181  2.01519   2.0080993]\n",
            " [2.0513477 2.019146  2.0045376 2.0000365]\n",
            " [2.0496614 2.0094132 2.006314  1.9931237]\n",
            " [2.0429325 2.0088458 2.0090377 1.992234 ]\n",
            " [2.046585  2.0072167 2.011177  1.9864666]]\n",
            "[[2.2403524 2.2600186 2.298442  2.2791028]\n",
            " [2.230003  2.2615397 2.280259  2.2655144]\n",
            " [2.2301557 2.264835  2.2852395 2.2719338]\n",
            " [2.2363484 2.2712727 2.297954  2.282264 ]\n",
            " [2.2346017 2.2780645 2.3005462 2.2786982]\n",
            " [2.2383802 2.2789154 2.2827153 2.2807033]\n",
            " [2.2413783 2.2813559 2.2813084 2.2674832]\n",
            " [2.241537  2.285651  2.284814  2.2763402]\n",
            " [2.2396636 2.2840598 2.2844758 2.2673   ]\n",
            " [2.2506695 2.2801273 2.2822173 2.2706513]\n",
            " [2.2419436 2.2849932 2.28695   2.2713768]\n",
            " [2.2488792 2.2862759 2.2848568 2.2687788]\n",
            " [2.252907  2.287307  2.2786102 2.2692165]\n",
            " [2.251629  2.2780252 2.2793307 2.2699811]\n",
            " [2.2547727 2.281326  2.2832806 2.2705762]\n",
            " [2.2601821 2.2845082 2.2916815 2.2787118]\n",
            " [2.2679732 2.2859163 2.2832582 2.2757738]\n",
            " [2.2664454 2.274583  2.284344  2.2686312]\n",
            " [2.2675107 2.2768424 2.2819185 2.2758584]\n",
            " [2.27027   2.274278  2.2873745 2.2665608]]\n",
            "[[2.5935736 2.5761604 2.668569  2.6823757]\n",
            " [2.5830226 2.5780234 2.65202   2.6628718]\n",
            " [2.5848126 2.5761433 2.654601  2.6678157]\n",
            " [2.591367  2.5768332 2.6614757 2.667142 ]\n",
            " [2.5920246 2.575224  2.6607356 2.668129 ]\n",
            " [2.5870664 2.5772681 2.662964  2.668768 ]\n",
            " [2.5919745 2.5761561 2.6591234 2.6664317]\n",
            " [2.589358  2.5807517 2.6625051 2.6694987]\n",
            " [2.5914745 2.5830066 2.667248  2.6734078]\n",
            " [2.5908005 2.5796955 2.6610618 2.6713185]\n",
            " [2.586025  2.5800846 2.66245   2.6724648]\n",
            " [2.590686  2.5769348 2.6663082 2.673569 ]\n",
            " [2.590146  2.5807574 2.6591585 2.6757276]\n",
            " [2.5889287 2.5818157 2.6640797 2.6782734]\n",
            " [2.5916333 2.5801148 2.666949  2.6772408]\n",
            " [2.593154  2.5760505 2.6735964 2.6766355]\n",
            " [2.5978882 2.5821586 2.6735826 2.6729589]\n",
            " [2.5989058 2.580657  2.6656866 2.6819625]\n",
            " [2.5932746 2.5686166 2.673319  2.67114  ]\n",
            " [2.5975988 2.5589657 2.6678739 2.6760514]]\n",
            "[[2.4072108 2.54755   2.5438247 2.416442 ]\n",
            " [2.3933632 2.5667467 2.5080085 2.396235 ]\n",
            " [2.396947  2.5640862 2.5152628 2.4026442]\n",
            " [2.4129236 2.5730891 2.5377805 2.4224653]\n",
            " [2.409474  2.5741506 2.5368354 2.4203851]\n",
            " [2.4091227 2.5789347 2.5295515 2.4181046]\n",
            " [2.4086502 2.5834253 2.5274806 2.4095068]\n",
            " [2.4048247 2.5920818 2.5320876 2.4159014]\n",
            " [2.4093363 2.5886393 2.5344565 2.4096997]\n",
            " [2.418903  2.5877013 2.5279613 2.4147196]\n",
            " [2.4018486 2.589545  2.5390117 2.4245722]\n",
            " [2.4219017 2.5934894 2.5364616 2.4328458]\n",
            " [2.4189997 2.5870967 2.5367324 2.4251614]\n",
            " [2.416216  2.585966  2.5316322 2.4270453]\n",
            " [2.4261136 2.576324  2.5385857 2.4311275]\n",
            " [2.4318326 2.5730896 2.547068  2.435839 ]\n",
            " [2.4459932 2.5683823 2.5409093 2.429623 ]\n",
            " [2.438519  2.559623  2.5401745 2.42833  ]\n",
            " [2.4382315 2.550542  2.538866  2.4342213]\n",
            " [2.438751  2.5365758 2.5398388 2.434267 ]]\n",
            "[[2.1200771 2.1291075 2.23462   2.24677  ]\n",
            " [2.114678  2.136188  2.221132  2.2313685]\n",
            " [2.1181412 2.1313777 2.226379  2.2397358]\n",
            " [2.1221557 2.131291  2.2336698 2.2400503]\n",
            " [2.1207001 2.1339638 2.2334514 2.2447586]\n",
            " [2.1170552 2.1348028 2.2327497 2.2460144]\n",
            " [2.1232104 2.1284196 2.2304718 2.239594 ]\n",
            " [2.1239405 2.1335518 2.2326198 2.2443423]\n",
            " [2.1241887 2.1337526 2.2350082 2.2425835]\n",
            " [2.1270106 2.1259842 2.2285142 2.240876 ]\n",
            " [2.1224802 2.129545  2.229923  2.24277  ]\n",
            " [2.1267788 2.1263385 2.2347317 2.2399216]\n",
            " [2.1264048 2.1272614 2.2257845 2.243391 ]\n",
            " [2.1262252 2.1266308 2.2276573 2.2456563]\n",
            " [2.125988  2.128347  2.2349389 2.245732 ]\n",
            " [2.1267056 2.1266477 2.234384  2.2474728]\n",
            " [2.128264  2.1360614 2.2407384 2.2417367]\n",
            " [2.1281428 2.130587  2.230819  2.253524 ]\n",
            " [2.12385   2.1298928 2.2369914 2.2416193]\n",
            " [2.1266754 2.126253  2.234971  2.2437105]]\n",
            "[[2.5400734 2.5504675 2.5879736 2.570979 ]\n",
            " [2.52952   2.5516946 2.5720487 2.558565 ]\n",
            " [2.5294955 2.5585217 2.5745509 2.5629075]\n",
            " [2.5371544 2.5655174 2.5884397 2.5718286]\n",
            " [2.5378091 2.5698373 2.5910397 2.56647  ]\n",
            " [2.5412552 2.5713196 2.5740252 2.5684743]\n",
            " [2.543362  2.5777216 2.571916  2.557254 ]\n",
            " [2.541971  2.582073  2.5759354 2.5657067]\n",
            " [2.541907  2.5826094 2.577715  2.559812 ]\n",
            " [2.5515993 2.5821204 2.5766656 2.5633366]\n",
            " [2.5433419 2.5848894 2.5804029 2.5657866]\n",
            " [2.5508401 2.5864594 2.5775704 2.5647523]\n",
            " [2.5553315 2.590266  2.5731125 2.5635662]\n",
            " [2.5534122 2.5814056 2.5766046 2.5652695]\n",
            " [2.5584626 2.5832953 2.5772655 2.565211 ]\n",
            " [2.5658178 2.5852735 2.5907254 2.570943 ]\n",
            " [2.576453  2.5836802 2.5796041 2.5708783]\n",
            " [2.5761006 2.575518  2.5812502 2.561856 ]\n",
            " [2.5770957 2.5717092 2.5796878 2.5714421]\n",
            " [2.5810914 2.5655916 2.5825486 2.5640147]]\n",
            "[[2.295234  2.3076448 2.4116564 2.420858 ]\n",
            " [2.2884853 2.316302  2.3980532 2.4056718]\n",
            " [2.2917228 2.314045  2.4013848 2.4126697]\n",
            " [2.296457  2.3152418 2.4110305 2.4141831]\n",
            " [2.2966156 2.317243  2.411381  2.4162123]\n",
            " [2.2941358 2.3178568 2.4074187 2.4176078]\n",
            " [2.2991605 2.3156574 2.4050543 2.4109454]\n",
            " [2.2990146 2.3206549 2.40803   2.416345 ]\n",
            " [2.3000371 2.3215046 2.4103491 2.4148157]\n",
            " [2.3036606 2.3162267 2.4058921 2.4143283]\n",
            " [2.2990026 2.3192255 2.4087582 2.4177103]\n",
            " [2.3040342 2.3172543 2.4118023 2.416538 ]\n",
            " [2.3047748 2.319748  2.404575  2.4179728]\n",
            " [2.303604  2.3184369 2.4073098 2.4213428]\n",
            " [2.3052306 2.3193417 2.4110994 2.4207153]\n",
            " [2.3079448 2.318433  2.4147105 2.421981 ]\n",
            " [2.3122308 2.324084  2.4198604 2.418437 ]\n",
            " [2.3121378 2.3195493 2.411437  2.428403 ]\n",
            " [2.3096056 2.316387  2.416308  2.4208074]\n",
            " [2.3129518 2.3113382 2.4145265 2.4219632]]\n",
            "[[2.4050982 2.394978  2.5163007 2.543859 ]\n",
            " [2.4017642 2.403292  2.5041118 2.5249207]\n",
            " [2.4039388 2.396115  2.5071683 2.5308144]\n",
            " [2.41024   2.394055  2.5136716 2.5280342]\n",
            " [2.409293  2.3926349 2.5121405 2.5340466]\n",
            " [2.4032216 2.393911  2.5211568 2.535494 ]\n",
            " [2.4096107 2.3885334 2.5179923 2.533662 ]\n",
            " [2.4082906 2.3921719 2.5200367 2.5363693]\n",
            " [2.4125502 2.392722  2.5234954 2.541642 ]\n",
            " [2.4078922 2.3849232 2.51304   2.5365715]\n",
            " [2.4068837 2.3841293 2.5114982 2.5363777]\n",
            " [2.4093878 2.3777325 2.521011  2.534481 ]\n",
            " [2.408144  2.3809052 2.5106032 2.538905 ]\n",
            " [2.4085667 2.3842998 2.5164092 2.5435457]\n",
            " [2.4099374 2.381449  2.5234206 2.5432053]\n",
            " [2.4078987 2.3747594 2.5233262 2.541972 ]\n",
            " [2.4086056 2.385184  2.531088  2.5359547]\n",
            " [2.4088218 2.384165  2.5161228 2.5531201]\n",
            " [2.4019914 2.3730814 2.5272646 2.5308495]\n",
            " [2.4045572 2.3642473 2.5195355 2.5403223]]\n",
            "[[2.321721  2.3242528 2.4430408 2.4607608]\n",
            " [2.313879  2.3305316 2.4288738 2.4430108]\n",
            " [2.3178313 2.3267694 2.4319634 2.4504209]\n",
            " [2.3219512 2.3264241 2.4388397 2.4482887]\n",
            " [2.3221395 2.326678  2.438523  2.4523087]\n",
            " [2.317137  2.328     2.439846  2.4530518]\n",
            " [2.323189  2.3231242 2.4368355 2.4489639]\n",
            " [2.3226304 2.328571  2.4395144 2.4529085]\n",
            " [2.323958  2.3301096 2.4433088 2.4536414]\n",
            " [2.3250067 2.3239958 2.4363737 2.451498 ]\n",
            " [2.3211098 2.3261156 2.4375832 2.4537432]\n",
            " [2.325409  2.3227377 2.4424207 2.4527423]\n",
            " [2.324544  2.3253074 2.4339685 2.455045 ]\n",
            " [2.3240168 2.3261766 2.4375136 2.4576247]\n",
            " [2.324478  2.3266022 2.4426067 2.4570844]\n",
            " [2.3259313 2.3234918 2.4441276 2.4568577]\n",
            " [2.32846   2.3317635 2.4509861 2.452101 ]\n",
            " [2.3294592 2.3285348 2.439766  2.4657376]\n",
            " [2.324645  2.3232405 2.4472852 2.4522562]\n",
            " [2.3281698 2.3169005 2.4429588 2.4567397]]\n",
            "[[2.1728425 2.1789746 2.2866368 2.3002763]\n",
            " [2.1674454 2.18636   2.2732005 2.2846923]\n",
            " [2.1707902 2.181635  2.2782402 2.2926998]\n",
            " [2.1750815 2.181293  2.2853901 2.2926168]\n",
            " [2.174159  2.1832762 2.2849777 2.297077 ]\n",
            " [2.1699502 2.1841187 2.2855353 2.2983227]\n",
            " [2.175888  2.1782956 2.2829895 2.2928307]\n",
            " [2.1763184 2.1833987 2.2852726 2.2971923]\n",
            " [2.1769767 2.1840563 2.288139  2.2966716]\n",
            " [2.1790116 2.1769266 2.2820973 2.294786 ]\n",
            " [2.1746137 2.1801503 2.283593  2.2972388]\n",
            " [2.1789238 2.176918  2.288382  2.295022 ]\n",
            " [2.178347  2.1784132 2.279927  2.2983823]\n",
            " [2.1779861 2.1785195 2.2820573 2.300973 ]\n",
            " [2.1780732 2.1797414 2.288403  2.3007169]\n",
            " [2.178785  2.177721  2.2884917 2.3015528]\n",
            " [2.1806555 2.186919  2.2952497 2.29606  ]\n",
            " [2.180714  2.1825266 2.2853105 2.308875 ]\n",
            " [2.1761782 2.1803737 2.292087  2.2966576]\n",
            " [2.1793115 2.1760218 2.2893014 2.2996106]]\n",
            "[[2.275946  2.2422733 2.2235742 2.2076285]\n",
            " [2.2733424 2.2382157 2.210769  2.1998162]\n",
            " [2.2692602 2.237023  2.219764  2.2043705]\n",
            " [2.279815  2.2412798 2.2272677 2.2124612]\n",
            " [2.2749634 2.2457683 2.2248619 2.2103643]\n",
            " [2.275526  2.2467518 2.2226074 2.2130547]\n",
            " [2.2791452 2.2454479 2.2204387 2.2063475]\n",
            " [2.2788806 2.2484426 2.2229466 2.2115479]\n",
            " [2.2767718 2.2481718 2.2253098 2.211022 ]\n",
            " [2.2814388 2.2446902 2.2232726 2.211133 ]\n",
            " [2.2711232 2.24792   2.2266245 2.2098253]\n",
            " [2.2770967 2.2470083 2.2276196 2.2062442]\n",
            " [2.2782433 2.2471807 2.222096  2.214909 ]\n",
            " [2.2778826 2.2420826 2.22223   2.217282 ]\n",
            " [2.2809255 2.2433996 2.2282233 2.2158096]\n",
            " [2.2797382 2.2450325 2.2368205 2.22169  ]\n",
            " [2.284265  2.2523515 2.2228718 2.2158277]\n",
            " [2.2817788 2.2461867 2.2285411 2.209304 ]\n",
            " [2.275533  2.2407944 2.2312605 2.2121549]\n",
            " [2.2804813 2.2361474 2.2323337 2.2078714]]\n",
            "[[2.435974  2.5358484 2.5174956 2.3866231]\n",
            " [2.4027421 2.5296752 2.470333  2.3500586]\n",
            " [2.4097733 2.525159  2.4712923 2.3586566]\n",
            " [2.419532  2.5335338 2.4884436 2.3661854]\n",
            " [2.4133086 2.5285637 2.484458  2.3655934]\n",
            " [2.4096708 2.5330505 2.477177  2.359521 ]\n",
            " [2.408616  2.5294707 2.473184  2.3518138]\n",
            " [2.4009764 2.5405853 2.4822035 2.3584275]\n",
            " [2.3990455 2.5365663 2.4835382 2.346415 ]\n",
            " [2.40855   2.5333226 2.4657881 2.351655 ]\n",
            " [2.3857229 2.5343623 2.4814126 2.347619 ]\n",
            " [2.402686  2.54259   2.4800007 2.3620563]\n",
            " [2.3924127 2.536776  2.4702003 2.354364 ]\n",
            " [2.3902636 2.5413208 2.4622123 2.3473065]\n",
            " [2.394458  2.5358427 2.4707494 2.3479812]\n",
            " [2.3944921 2.5361903 2.4814458 2.3564138]\n",
            " [2.4033103 2.537827  2.4643393 2.3465428]\n",
            " [2.395805  2.5311286 2.4648535 2.3399677]\n",
            " [2.3905692 2.5246577 2.4635673 2.337213 ]\n",
            " [2.3903308 2.5122075 2.46241   2.3373792]]\n",
            "[[2.4386542 2.4353678 2.5356913 2.5383162]\n",
            " [2.401028  2.4278953 2.4986055 2.495229 ]\n",
            " [2.4068537 2.4175885 2.4823987 2.5035706]\n",
            " [2.4125865 2.4112184 2.4933772 2.500509 ]\n",
            " [2.405389  2.420136  2.49298   2.498252 ]\n",
            " [2.401925  2.4210567 2.502321  2.4985735]\n",
            " [2.407258  2.4251237 2.5021923 2.4971917]\n",
            " [2.4066367 2.4227624 2.5038083 2.5030615]\n",
            " [2.4046233 2.4224815 2.493141  2.4994318]\n",
            " [2.4111474 2.4171474 2.477502  2.4900947]\n",
            " [2.400452  2.4231434 2.4867563 2.4850037]\n",
            " [2.405686  2.4168453 2.490125  2.493354 ]\n",
            " [2.4105728 2.414789  2.4725711 2.4901621]\n",
            " [2.400193  2.4136133 2.4827185 2.487912 ]\n",
            " [2.4081023 2.4060638 2.4926605 2.4939764]\n",
            " [2.40942   2.410818  2.4969685 2.4939072]\n",
            " [2.421909  2.411046  2.495582  2.4933524]\n",
            " [2.4115746 2.398461  2.4794858 2.4960787]\n",
            " [2.4066563 2.4048982 2.4821572 2.4924066]\n",
            " [2.4095452 2.3942847 2.4809341 2.4992511]]\n",
            "[[1.9659195 1.9834367 2.0049462 1.9885453]\n",
            " [1.9679432 1.9893082 1.9960134 1.9846066]\n",
            " [1.9665083 1.9904455 2.005562  1.9914817]\n",
            " [1.9742059 1.9956764 2.018258  2.0030472]\n",
            " [1.9712571 2.0048926 2.0193193 2.0037787]\n",
            " [1.9750172 2.0052323 2.006915  2.0074365]\n",
            " [1.9787186 2.0039647 2.006355  1.993289 ]\n",
            " [1.9815338 2.007836  2.0076284 2.0018604]\n",
            " [1.9807782 2.0061274 2.0078473 1.9948958]\n",
            " [1.9899707 1.9997241 2.006316  1.9967281]\n",
            " [1.9832102 2.0052023 2.0069156 1.9988356]\n",
            " [1.9896257 2.004202  2.0081062 1.9903437]\n",
            " [1.9937876 2.0036922 2.003011  1.9957045]\n",
            " [1.9941547 1.9947134 2.0043683 2.0001004]\n",
            " [1.9968166 1.9984779 2.0130079 2.0015693]\n",
            " [2.000117  2.0004368 2.017351  2.0095482]\n",
            " [2.0051148 2.005354  2.0111957 2.0062077]\n",
            " [2.0027018 1.9949683 2.0124102 2.0002291]\n",
            " [2.0024426 2.000007  2.0122008 2.0063257]\n",
            " [2.0054197 1.9994403 2.0164914 1.9985658]]\n",
            "[[2.3866313 2.3892813 2.5018706 2.5147943]\n",
            " [2.3738213 2.392891  2.4824457 2.4927745]\n",
            " [2.3775074 2.3894207 2.4849622 2.4998107]\n",
            " [2.3818247 2.3899932 2.4918537 2.4994786]\n",
            " [2.381249  2.390113  2.4923978 2.5013912]\n",
            " [2.3771672 2.3917227 2.4905562 2.501583 ]\n",
            " [2.3829315 2.3880994 2.4875007 2.4968598]\n",
            " [2.3812742 2.393182  2.4906526 2.5010893]\n",
            " [2.3821213 2.393592  2.493579  2.5001776]\n",
            " [2.3841612 2.387715  2.485512  2.4988766]\n",
            " [2.3791811 2.3896072 2.4883    2.498956 ]\n",
            " [2.3838568 2.3869727 2.4918509 2.4997313]\n",
            " [2.3832273 2.3889835 2.4829762 2.5005717]\n",
            " [2.3822737 2.388626  2.485872  2.5014925]\n",
            " [2.382929  2.3887322 2.490715  2.5014539]\n",
            " [2.3847697 2.386015  2.4935825 2.5029392]\n",
            " [2.3879488 2.392974  2.497108  2.4978957]\n",
            " [2.388661  2.387968  2.4864154 2.508184 ]\n",
            " [2.3843274 2.3817594 2.492301  2.495737 ]\n",
            " [2.3869858 2.3751917 2.4896493 2.4984143]]\n",
            "[[2.2015908 2.198084  2.1712158 2.1376822]\n",
            " [2.1906497 2.1998315 2.1460724 2.1223075]\n",
            " [2.186301  2.1973808 2.157138  2.126831 ]\n",
            " [2.1964226 2.2035608 2.170081  2.146893 ]\n",
            " [2.191262  2.2107012 2.1701376 2.139676 ]\n",
            " [2.1957235 2.2098393 2.153456  2.1416824]\n",
            " [2.1968768 2.2138872 2.1519394 2.1286023]\n",
            " [2.1960833 2.2152648 2.1564515 2.1359694]\n",
            " [2.1928012 2.2108843 2.1529293 2.129742 ]\n",
            " [2.2024033 2.2072108 2.154493  2.1335864]\n",
            " [2.1898198 2.2137725 2.1657324 2.132018 ]\n",
            " [2.1967273 2.215785  2.1619012 2.1336727]\n",
            " [2.2006547 2.2138038 2.1579487 2.1370745]\n",
            " [2.1969278 2.2066638 2.1532996 2.1379144]\n",
            " [2.2019482 2.2064395 2.1570637 2.1371896]\n",
            " [2.202736  2.212903  2.1689596 2.1476774]\n",
            " [2.2105641 2.2138143 2.1529546 2.1438167]\n",
            " [2.2038174 2.2031403 2.1617672 2.1332183]\n",
            " [2.20389   2.202068  2.1575904 2.1435757]\n",
            " [2.2056346 2.2007182 2.1663065 2.1319983]]\n",
            "[[2.4673915 2.4550333 2.5442257 2.5550888]\n",
            " [2.4562883 2.4565187 2.5261388 2.5349503]\n",
            " [2.4581501 2.4535937 2.5297358 2.5407016]\n",
            " [2.4641788 2.454348  2.5364082 2.541278 ]\n",
            " [2.463625  2.4539957 2.535968  2.5425265]\n",
            " [2.459323  2.4557896 2.536513  2.5431376]\n",
            " [2.4644656 2.4533489 2.5330796 2.5394146]\n",
            " [2.462439  2.457838  2.5362368 2.5429513]\n",
            " [2.4635832 2.4590075 2.5399456 2.544798 ]\n",
            " [2.464145  2.4543762 2.5332592 2.543014 ]\n",
            " [2.4587998 2.4557164 2.535432  2.5431962]\n",
            " [2.4633894 2.452749  2.5390954 2.5439157]\n",
            " [2.4628854 2.4553812 2.5313163 2.5463521]\n",
            " [2.461837  2.4555864 2.534808  2.5480804]\n",
            " [2.463633  2.4547408 2.539041  2.5474951]\n",
            " [2.4646842 2.4516027 2.5440185 2.5482662]\n",
            " [2.4685464 2.4585366 2.5440476 2.543627 ]\n",
            " [2.468958  2.455244  2.536293  2.551978 ]\n",
            " [2.4636009 2.446136  2.5429463 2.5412898]\n",
            " [2.467178  2.4383204 2.5391932 2.544631 ]]\n",
            "[[2.556113  2.5565739 2.628202  2.62248  ]\n",
            " [2.5360165 2.5549676 2.600779  2.5967214]\n",
            " [2.5374696 2.5548337 2.6031275 2.602049 ]\n",
            " [2.5437224 2.558795  2.6119347 2.608336 ]\n",
            " [2.5422633 2.5598996 2.6141346 2.6039724]\n",
            " [2.5416505 2.5618472 2.6033995 2.6038704]\n",
            " [2.545453  2.5638387 2.600365  2.5967348]\n",
            " [2.541919  2.567937  2.6047177 2.6023216]\n",
            " [2.5416012 2.5667179 2.6059268 2.598178 ]\n",
            " [2.5472572 2.5634348 2.5993037 2.5997784]\n",
            " [2.5388753 2.5654705 2.605579  2.597496 ]\n",
            " [2.545103  2.5654817 2.6046662 2.6011858]\n",
            " [2.546354  2.567096  2.5970645 2.5994575]\n",
            " [2.5440795 2.5625868 2.598586  2.5979366]\n",
            " [2.546907  2.5623188 2.6010451 2.5983744]\n",
            " [2.5505972 2.5619783 2.6099408 2.6035917]\n",
            " [2.5574665 2.5642054 2.6028275 2.5994022]\n",
            " [2.5570483 2.5558114 2.5982432 2.5984163]\n",
            " [2.5548377 2.548089  2.59927   2.595223 ]\n",
            " [2.556825  2.5410519 2.6010876 2.591804 ]]\n",
            "[[2.398912  2.4400852 2.5414782 2.5616696]\n",
            " [2.3837621 2.4354038 2.5286205 2.525482 ]\n",
            " [2.3813033 2.436561  2.501464  2.5313964]\n",
            " [2.3950214 2.429587  2.5314825 2.532449 ]\n",
            " [2.3794045 2.4491782 2.5321949 2.5251617]\n",
            " [2.396305  2.4344707 2.5154839 2.5306618]\n",
            " [2.3930674 2.446122  2.5345063 2.5144193]\n",
            " [2.3981092 2.44742   2.525717  2.5325902]\n",
            " [2.403456  2.4427059 2.5084527 2.5086427]\n",
            " [2.4167106 2.4335976 2.4858036 2.5108478]\n",
            " [2.4160693 2.4260912 2.5151908 2.5109873]\n",
            " [2.4133136 2.425838  2.5275512 2.5173953]\n",
            " [2.4213598 2.4368002 2.4970176 2.5105636]\n",
            " [2.4243352 2.4117405 2.5088186 2.5174062]\n",
            " [2.4279332 2.4194958 2.5167005 2.5106394]\n",
            " [2.4314697 2.4358213 2.5158234 2.5133803]\n",
            " [2.4342358 2.4252234 2.525607  2.523993 ]\n",
            " [2.4262092 2.4197466 2.5124865 2.5112543]\n",
            " [2.4336202 2.4257855 2.5037305 2.5222642]\n",
            " [2.4240282 2.4214087 2.5064316 2.5227048]]\n",
            "[[2.4820178 2.4548707 2.4341116 2.4097228]\n",
            " [2.469674  2.4511046 2.4097197 2.3923745]\n",
            " [2.464741  2.450165  2.4185994 2.3950431]\n",
            " [2.476122  2.455563  2.4290195 2.4103444]\n",
            " [2.471904  2.4592183 2.4285994 2.403301 ]\n",
            " [2.4739344 2.460116  2.418704  2.4053047]\n",
            " [2.4754755 2.4649606 2.416024  2.3964784]\n",
            " [2.4725833 2.4662168 2.4201505 2.401726 ]\n",
            " [2.4711738 2.4642508 2.4200153 2.4008386]\n",
            " [2.4762404 2.4625838 2.4195797 2.4027116]\n",
            " [2.4652002 2.4658113 2.4274461 2.4005127]\n",
            " [2.4715092 2.4662616 2.4254885 2.4029505]\n",
            " [2.474428  2.4668174 2.4211378 2.4067786]\n",
            " [2.471321  2.4614599 2.4203098 2.4076672]\n",
            " [2.4770727 2.4599574 2.4227579 2.406896 ]\n",
            " [2.4774463 2.4624147 2.436156  2.4138784]\n",
            " [2.485595  2.464465  2.4183304 2.4098318]\n",
            " [2.481281  2.4573333 2.4253614 2.4000952]\n",
            " [2.4782522 2.4484863 2.424912  2.4065669]\n",
            " [2.481392  2.4428596 2.4288545 2.3998165]]\n",
            "[[2.4315004 2.436114  2.5180383 2.520553 ]\n",
            " [2.423483  2.4448378 2.502017  2.5048485]\n",
            " [2.425083  2.442934  2.5058632 2.5103512]\n",
            " [2.4318035 2.4448    2.5165026 2.515261 ]\n",
            " [2.4317572 2.4462264 2.5167627 2.5141988]\n",
            " [2.430076  2.4466348 2.511514  2.5157194]\n",
            " [2.433862  2.44775   2.5088708 2.5093956]\n",
            " [2.432453  2.4516451 2.5125713 2.5145118]\n",
            " [2.4336567 2.4521985 2.5144005 2.5141516]\n",
            " [2.4372053 2.4488866 2.5118797 2.5145   ]\n",
            " [2.4310734 2.4515862 2.5170214 2.5178692]\n",
            " [2.4366293 2.4505937 2.5183494 2.519246 ]\n",
            " [2.4379873 2.4534602 2.512437  2.5199852]\n",
            " [2.435509  2.4519129 2.5143592 2.5230486]\n",
            " [2.438848  2.4514954 2.515972  2.5219502]\n",
            " [2.4414372 2.4516516 2.5233886 2.5234263]\n",
            " [2.447705  2.4551487 2.5240555 2.520668 ]\n",
            " [2.4464216 2.451162  2.518668  2.5272453]\n",
            " [2.4441566 2.4449058 2.522419  2.5229945]\n",
            " [2.4475083 2.4389277 2.5216136 2.522991 ]]\n",
            "[[2.4402812 2.4237552 2.5507536 2.5793962]\n",
            " [2.434276  2.4283297 2.5386946 2.560978 ]\n",
            " [2.4380476 2.4231734 2.5413015 2.567726 ]\n",
            " [2.4429963 2.4208686 2.545713  2.5615253]\n",
            " [2.4434009 2.4183662 2.5442908 2.56767  ]\n",
            " [2.435538  2.4204836 2.5537791 2.568329 ]\n",
            " [2.4422731 2.4138308 2.5497787 2.567809 ]\n",
            " [2.4407482 2.419027  2.5520718 2.5699213]\n",
            " [2.4438326 2.4217834 2.5579867 2.575402 ]\n",
            " [2.4402094 2.4153466 2.548189  2.570847 ]\n",
            " [2.4377973 2.415264  2.546488  2.5716734]\n",
            " [2.4408    2.4098163 2.5543563 2.570786 ]\n",
            " [2.4384282 2.4136667 2.5448496 2.5746648]\n",
            " [2.4386218 2.4174674 2.5504758 2.577448 ]\n",
            " [2.438739  2.416508  2.5564284 2.5768535]\n",
            " [2.4380548 2.4101326 2.5570045 2.573789 ]\n",
            " [2.4392147 2.421331  2.5642512 2.568156 ]\n",
            " [2.4411924 2.421192  2.5500011 2.5853024]\n",
            " [2.433117  2.4108286 2.5617082 2.5647426]\n",
            " [2.4370573 2.4020262 2.553092  2.5743287]]\n",
            "[[2.0765371 2.072129  2.0439951 2.0180795]\n",
            " [2.079096  2.0784853 2.033743  2.0153887]\n",
            " [2.0748072 2.077007  2.044265  2.0204039]\n",
            " [2.085257  2.082684  2.0576367 2.035429 ]\n",
            " [2.080742  2.0909135 2.0558255 2.0319374]\n",
            " [2.0851715 2.089322  2.0452015 2.0356884]\n",
            " [2.0872319 2.0907793 2.0443769 2.0237784]\n",
            " [2.0890877 2.0931225 2.0476255 2.0319715]\n",
            " [2.08677   2.0906153 2.0459266 2.0271585]\n",
            " [2.095674  2.086258  2.0483012 2.0297828]\n",
            " [2.085097  2.0923433 2.0548987 2.0310826]\n",
            " [2.0916457 2.0931792 2.0540051 2.0261936]\n",
            " [2.095362  2.0922792 2.0505352 2.0337484]\n",
            " [2.0937707 2.0852172 2.04796   2.0388987]\n",
            " [2.0980966 2.0866153 2.0532486 2.037034 ]\n",
            " [2.098273  2.0925665 2.063098  2.046    ]\n",
            " [2.1044075 2.0958498 2.0514188 2.0426471]\n",
            " [2.0987053 2.0876102 2.0596993 2.0347826]\n",
            " [2.097504  2.088443  2.0582867 2.0444157]\n",
            " [2.1011674 2.0876172 2.0639493 2.0351114]]\n",
            "[[2.1541333 2.1619596 2.26891   2.2828057]\n",
            " [2.1504729 2.1700897 2.257729  2.269224 ]\n",
            " [2.153856  2.165938  2.262618  2.2772338]\n",
            " [2.1580646 2.1658366 2.2703707 2.2768064]\n",
            " [2.1574469 2.1681225 2.269793  2.2816987]\n",
            " [2.1535819 2.1688547 2.27006   2.2832139]\n",
            " [2.1595433 2.1630862 2.267697  2.277287 ]\n",
            " [2.1603913 2.1683617 2.2698753 2.281991 ]\n",
            " [2.161132  2.1693416 2.2728362 2.2813547]\n",
            " [2.1634321 2.162291  2.2672415 2.2794945]\n",
            " [2.15941   2.1655886 2.268152  2.2825603]\n",
            " [2.163678  2.1623495 2.2731497 2.279326 ]\n",
            " [2.1633997 2.1640677 2.2649124 2.2830703]\n",
            " [2.1632159 2.1639457 2.2675006 2.28647  ]\n",
            " [2.1634555 2.1654696 2.2738729 2.286047 ]\n",
            " [2.164449  2.1636052 2.2740397 2.2868373]\n",
            " [2.1664262 2.172656  2.2813053 2.2817743]\n",
            " [2.1665688 2.1684985 2.2716627 2.2945342]\n",
            " [2.1623504 2.166998  2.2784085 2.28314  ]\n",
            " [2.1658242 2.162821  2.2754111 2.286021 ]]\n",
            "[[2.4246695 2.4503055 2.555663  2.5585222]\n",
            " [2.413377  2.4522626 2.5246773 2.5337412]\n",
            " [2.416326  2.4562461 2.5464602 2.552844 ]\n",
            " [2.42248   2.4430923 2.5424232 2.5674691]\n",
            " [2.4372544 2.4463184 2.546945  2.552548 ]\n",
            " [2.4237275 2.4462638 2.5443966 2.5555491]\n",
            " [2.4287927 2.4391687 2.535975  2.5549405]\n",
            " [2.4396794 2.445259  2.5385728 2.55336  ]\n",
            " [2.4308262 2.4559815 2.5553062 2.5654137]\n",
            " [2.4480507 2.4498005 2.5364442 2.5661345]\n",
            " [2.4309423 2.4612246 2.5299783 2.558088 ]\n",
            " [2.4442399 2.4482384 2.5124614 2.5548248]\n",
            " [2.4430082 2.4563358 2.5276105 2.5479624]\n",
            " [2.4399223 2.447864  2.5383475 2.533426 ]\n",
            " [2.4371471 2.449189  2.5502946 2.5545511]\n",
            " [2.443833  2.449212  2.5597513 2.5560076]\n",
            " [2.457988  2.4526374 2.5360327 2.5671456]\n",
            " [2.4527116 2.4465597 2.5214348 2.5532358]\n",
            " [2.4435127 2.4488335 2.52971   2.5408034]\n",
            " [2.4497097 2.433303  2.5247712 2.5422401]]\n",
            "[[2.5577786 2.5469415 2.6820831 2.7092698]\n",
            " [2.5475705 2.5507007 2.6678147 2.68859  ]\n",
            " [2.5521083 2.547828  2.6685076 2.6949153]\n",
            " [2.5563931 2.5466683 2.6737628 2.6886044]\n",
            " [2.5582883 2.5437481 2.6730845 2.6929293]\n",
            " [2.5508924 2.5460453 2.6792057 2.6930094]\n",
            " [2.5572379 2.5417156 2.6751513 2.6924684]\n",
            " [2.5550826 2.5476239 2.6781065 2.6949615]\n",
            " [2.5580037 2.5509403 2.6841304 2.6995547]\n",
            " [2.555785  2.5461838 2.6754794 2.6960993]\n",
            " [2.5530658 2.5460954 2.6748066 2.698041 ]\n",
            " [2.5569682 2.541581  2.6809082 2.6984775]\n",
            " [2.5550547 2.5460565 2.6721756 2.700158 ]\n",
            " [2.554707  2.5492117 2.6784725 2.702779 ]\n",
            " [2.5556393 2.547999  2.6822097 2.7018137]\n",
            " [2.5572467 2.5420334 2.685075  2.6988795]\n",
            " [2.5601153 2.550356  2.6922042 2.694707 ]\n",
            " [2.5628672 2.5501046 2.678557  2.7108867]\n",
            " [2.556309  2.5386786 2.6888638 2.6932995]\n",
            " [2.5606675 2.528628  2.6806884 2.7018895]]\n",
            "[[2.4518204 2.4258509 2.5254354 2.5434327]\n",
            " [2.438915  2.4206345 2.5074801 2.5217676]\n",
            " [2.4422395 2.4177618 2.5109594 2.5289156]\n",
            " [2.4467027 2.417468  2.5132947 2.523671 ]\n",
            " [2.446097  2.415482  2.5122643 2.527933 ]\n",
            " [2.438842  2.4190845 2.5178216 2.5275083]\n",
            " [2.445635  2.4119277 2.5134294 2.5261629]\n",
            " [2.4434304 2.4179547 2.5160682 2.528323 ]\n",
            " [2.4436986 2.420454  2.5226674 2.5310307]\n",
            " [2.4429624 2.4148083 2.5123072 2.5277183]\n",
            " [2.4375775 2.4155455 2.510802  2.5259404]\n",
            " [2.441681  2.4114556 2.515903  2.5252404]\n",
            " [2.4389904 2.4136715 2.506092  2.5290093]\n",
            " [2.439328  2.41511   2.5106225 2.5279312]\n",
            " [2.4388218 2.4156058 2.517871  2.5281346]\n",
            " [2.4391177 2.409822  2.5200465 2.52813  ]\n",
            " [2.440771  2.4209404 2.5193691 2.5216277]\n",
            " [2.4435403 2.417733  2.509432  2.530999 ]\n",
            " [2.4349089 2.4084222 2.5187068 2.5149186]\n",
            " [2.4392345 2.3995757 2.512289  2.5208347]]\n",
            "[[2.502671  2.5029857 2.5846877 2.5909212]\n",
            " [2.5010705 2.5154169 2.5763988 2.58225  ]\n",
            " [2.5025353 2.515503  2.5804985 2.5870426]\n",
            " [2.510246  2.517048  2.591866  2.590377 ]\n",
            " [2.5122037 2.5177124 2.591267  2.5905633]\n",
            " [2.5098398 2.5183291 2.5890265 2.5926375]\n",
            " [2.5134845 2.5205529 2.5861416 2.5878017]\n",
            " [2.512386  2.524751  2.5895903 2.5921988]\n",
            " [2.515106  2.5274022 2.5934699 2.5950441]\n",
            " [2.5173557 2.526041  2.5936432 2.594954 ]\n",
            " [2.512372  2.5280635 2.5957918 2.6021438]\n",
            " [2.518363  2.5267136 2.5976825 2.6017492]\n",
            " [2.5200129 2.5310063 2.593379  2.6031525]\n",
            " [2.517478  2.530409  2.597494  2.6082616]\n",
            " [2.5220296 2.5297093 2.5982609 2.606681 ]\n",
            " [2.5255823 2.5289595 2.6072867 2.6058276]\n",
            " [2.532852  2.5320072 2.6085773 2.6050699]\n",
            " [2.5323794 2.5311203 2.6036642 2.6123002]\n",
            " [2.5298402 2.5231545 2.6090212 2.609373 ]\n",
            " [2.5347795 2.5156524 2.6056838 2.6116035]]\n",
            "[[2.4857085 2.4812636 2.5583558 2.556734 ]\n",
            " [2.471316  2.4864025 2.536223  2.5370626]\n",
            " [2.4731727 2.4840546 2.5416212 2.5432055]\n",
            " [2.4793317 2.4856994 2.5493808 2.5483608]\n",
            " [2.4795613 2.485788  2.549414  2.5460987]\n",
            " [2.4758472 2.4869847 2.5441895 2.545875 ]\n",
            " [2.4797564 2.487289  2.5405252 2.5413373]\n",
            " [2.4773643 2.4919333 2.5451102 2.5448065]\n",
            " [2.4765449 2.492919  2.547843  2.545018 ]\n",
            " [2.4807608 2.4909086 2.546292  2.5458713]\n",
            " [2.471598  2.495054  2.5542638 2.5487323]\n",
            " [2.4781892 2.4951632 2.552865  2.5542185]\n",
            " [2.4781184 2.4969947 2.547705  2.5542457]\n",
            " [2.474481  2.4968    2.5474045 2.5539906]\n",
            " [2.477204  2.4963422 2.5475497 2.5525758]\n",
            " [2.4798937 2.4973314 2.556041  2.5535047]\n",
            " [2.48635   2.5014422 2.554223  2.549439 ]\n",
            " [2.4853096 2.4969826 2.5511959 2.5563543]\n",
            " [2.4819417 2.4900713 2.5543964 2.552876 ]\n",
            " [2.4859252 2.48335   2.554401  2.5521595]]\n",
            "[[2.298766  2.283484  2.3807716 2.3850677]\n",
            " [2.2710338 2.2716832 2.3374226 2.3453581]\n",
            " [2.2773747 2.263454  2.344895  2.3548481]\n",
            " [2.2848709 2.2592685 2.3392339 2.3588207]\n",
            " [2.2756772 2.25806   2.3460433 2.3558214]\n",
            " [2.2691479 2.263661  2.3493817 2.354122 ]\n",
            " [2.276901  2.253499  2.3444817 2.3560903]\n",
            " [2.2707355 2.2559192 2.3458514 2.3563251]\n",
            " [2.2708695 2.2520304 2.351811  2.3515506]\n",
            " [2.2737257 2.241116  2.3333404 2.3514926]\n",
            " [2.2623086 2.239082  2.3322213 2.344704 ]\n",
            " [2.2680833 2.233918  2.3337007 2.349595 ]\n",
            " [2.2640104 2.2311094 2.3174398 2.3439531]\n",
            " [2.2640386 2.2243032 2.3129742 2.3229377]\n",
            " [2.257599  2.2268035 2.3307524 2.3309982]\n",
            " [2.2555673 2.2194657 2.3259492 2.3367486]\n",
            " [2.2566068 2.2341728 2.3107378 2.3273206]\n",
            " [2.2578366 2.220837  2.2892609 2.3199303]\n",
            " [2.2444787 2.2123623 2.2957554 2.2930307]\n",
            " [2.2386484 2.2079082 2.2978635 2.2941577]]\n",
            "[[2.5089593 2.5020907 2.5897284 2.5532799]\n",
            " [2.4841504 2.4951339 2.5733154 2.5565162]\n",
            " [2.5194156 2.4916945 2.5927217 2.56876  ]\n",
            " [2.513901  2.4997108 2.5812523 2.5768342]\n",
            " [2.5014236 2.5210059 2.5858588 2.5821006]\n",
            " [2.5073748 2.5277348 2.5837433 2.5835786]\n",
            " [2.511016  2.4999433 2.5862072 2.5882144]\n",
            " [2.5165625 2.5065637 2.5909002 2.5860047]\n",
            " [2.4933069 2.5241547 2.5889387 2.567327 ]\n",
            " [2.5216122 2.5199401 2.6332977 2.5801725]\n",
            " [2.4909806 2.5387702 2.6066332 2.6410913]\n",
            " [2.5186374 2.5372066 2.6036887 2.6151178]\n",
            " [2.516406  2.5211062 2.5934794 2.602358 ]\n",
            " [2.5181916 2.5237236 2.5797088 2.5774157]\n",
            " [2.5138307 2.5270185 2.6072383 2.586306 ]\n",
            " [2.5109785 2.535559  2.5897467 2.5760214]\n",
            " [2.5329022 2.5295491 2.5685194 2.6006632]\n",
            " [2.5245178 2.526039  2.5656786 2.5626662]\n",
            " [2.5090933 2.515922  2.5624242 2.5857823]\n",
            " [2.514527  2.5114324 2.5688705 2.5847564]]\n",
            "[[2.6575053 2.6083467 2.5986543 2.5837083]\n",
            " [2.6406894 2.5972    2.5720878 2.5617032]\n",
            " [2.6366866 2.5963564 2.5795736 2.5642152]\n",
            " [2.6477091 2.600487  2.5858212 2.5738878]\n",
            " [2.643873  2.6007302 2.5847533 2.5683286]\n",
            " [2.6425116 2.6035156 2.5811675 2.569021 ]\n",
            " [2.6451972 2.605974  2.5771646 2.56419  ]\n",
            " [2.6406124 2.608052  2.5811665 2.5672936]\n",
            " [2.6395473 2.6077268 2.584143  2.5696564]\n",
            " [2.6413834 2.6064787 2.5797694 2.5696514]\n",
            " [2.6305623 2.6075747 2.5848448 2.565148 ]\n",
            " [2.6363564 2.6066713 2.5843637 2.5686269]\n",
            " [2.6370614 2.6078584 2.5784657 2.5727813]\n",
            " [2.6346602 2.6047392 2.579717  2.5713143]\n",
            " [2.6392887 2.6025698 2.5834658 2.5708866]\n",
            " [2.6388795 2.6015174 2.5965095 2.5759642]\n",
            " [2.6459017 2.6060948 2.5766568 2.5710564]\n",
            " [2.6438916 2.600857  2.5809557 2.562309 ]\n",
            " [2.6371677 2.5867138 2.583761  2.5625896]\n",
            " [2.6410015 2.5777657 2.583808  2.5601215]]\n",
            "[[1.8697648 1.8987266 1.9652426 1.9350792]\n",
            " [1.8667603 1.9258571 1.9491258 1.9253346]\n",
            " [1.8734952 1.9037317 1.958676  1.9390469]\n",
            " [1.8825936 1.8931363 1.959954  1.9353774]\n",
            " [1.8748472 1.8817797 1.9554374 1.9325427]\n",
            " [1.8699831 1.8803924 1.9647162 1.9351074]\n",
            " [1.8830013 1.8701371 1.9608841 1.9382005]\n",
            " [1.8796854 1.8647006 1.9684328 1.9331616]\n",
            " [1.8779906 1.8690252 1.9733623 1.9410203]\n",
            " [1.8789426 1.8635647 1.9574069 1.9391817]\n",
            " [1.8663995 1.8621294 1.9791422 1.9369922]\n",
            " [1.8739995 1.8664942 1.9747169 1.9504862]\n",
            " [1.8667383 1.8646091 1.9719701 1.9548041]\n",
            " [1.8571384 1.8675158 1.9630768 1.9536356]\n",
            " [1.8551805 1.8717563 1.9657348 1.9522235]\n",
            " [1.8420789 1.8813441 1.9660237 1.9463776]\n",
            " [1.8447149 1.8969282 1.9740875 1.9341476]\n",
            " [1.8322164 1.8996418 1.9537572 1.9484366]\n",
            " [1.8146487 1.9018953 1.9629045 1.923567 ]\n",
            " [1.818413  1.9056474 1.9604585 1.9359249]]\n",
            "[[2.5797338 2.571814  2.6679778 2.6758764]\n",
            " [2.5653431 2.5726993 2.6462822 2.652985 ]\n",
            " [2.5675056 2.5719013 2.6484463 2.6585684]\n",
            " [2.574062  2.5727682 2.6548488 2.6600084]\n",
            " [2.5743377 2.5721729 2.656457  2.6583838]\n",
            " [2.5700948 2.5742822 2.6556046 2.659016 ]\n",
            " [2.5742154 2.5744033 2.6518164 2.6562004]\n",
            " [2.5710425 2.5788977 2.655135  2.6599836]\n",
            " [2.5730424 2.580001  2.6593068 2.6609879]\n",
            " [2.5745811 2.5767343 2.6522245 2.6604285]\n",
            " [2.56824   2.5773482 2.6550732 2.6609225]\n",
            " [2.57365   2.5751157 2.657041  2.6640666]\n",
            " [2.5733113 2.5791557 2.6492155 2.6633308]\n",
            " [2.5720146 2.5776455 2.6528788 2.6624641]\n",
            " [2.5742798 2.5772848 2.6547353 2.662644 ]\n",
            " [2.5767467 2.5742512 2.6606169 2.6625495]\n",
            " [2.5826013 2.579827  2.6591568 2.6578326]\n",
            " [2.5836298 2.5757976 2.6507566 2.6640851]\n",
            " [2.5786827 2.566186  2.6568177 2.6548686]\n",
            " [2.5815537 2.5575573 2.6537943 2.6572368]]\n",
            "[[2.3472276 2.3313808 2.4073358 2.403223 ]\n",
            " [2.3995428 2.4392834 2.498651  2.4740589]\n",
            " [2.380942  2.4220352 2.5272563 2.4870205]\n",
            " [2.3712676 2.4437263 2.5255463 2.4837306]\n",
            " [2.3587508 2.4580286 2.518723  2.5046942]\n",
            " [2.3911588 2.442944  2.4572904 2.4912379]\n",
            " [2.438969  2.4489539 2.4660416 2.4787192]\n",
            " [2.4257905 2.437686  2.5047262 2.4671237]\n",
            " [2.420009  2.4212177 2.4615002 2.4614286]\n",
            " [2.411276  2.4127774 2.4710734 2.4583976]\n",
            " [2.4106963 2.4223225 2.4867575 2.442827 ]\n",
            " [2.4411411 2.4409184 2.4955864 2.424163 ]\n",
            " [2.437495  2.4163888 2.470749  2.4612567]\n",
            " [2.4400694 2.4116244 2.493078  2.5337505]\n",
            " [2.4513092 2.409686  2.488823  2.4927235]\n",
            " [2.4485097 2.4343674 2.4901166 2.540968 ]\n",
            " [2.4049075 2.4354692 2.5174618 2.5005102]\n",
            " [2.4017358 2.4070292 2.513698  2.5181496]\n",
            " [2.4188957 2.4195137 2.4940755 2.4990458]\n",
            " [2.4392705 2.4105203 2.521124  2.48804  ]]\n",
            "[[2.0190408 2.0315616 2.0954342 2.0919151]\n",
            " [2.0146856 2.0392523 2.0803573 2.078981 ]\n",
            " [2.0157132 2.0345175 2.0883298 2.0867999]\n",
            " [2.02144   2.0362563 2.0980797 2.0941935]\n",
            " [2.0180812 2.0419517 2.0980964 2.096169 ]\n",
            " [2.0177507 2.041884  2.0914469 2.0982344]\n",
            " [2.0225866 2.0379257 2.0900283 2.0882354]\n",
            " [2.02387   2.0416987 2.092387  2.094275 ]\n",
            " [2.022745  2.0399928 2.092071  2.089874 ]\n",
            " [2.0285344 2.0324576 2.0886703 2.0899212]\n",
            " [2.0217922 2.0377858 2.093     2.0915163]\n",
            " [2.0268219 2.0360215 2.0955882 2.08872  ]\n",
            " [2.0283206 2.0353808 2.0877376 2.09275  ]\n",
            " [2.0272439 2.0319443 2.087111  2.0950499]\n",
            " [2.0283818 2.0339231 2.0943418 2.0952196]\n",
            " [2.0288866 2.0354543 2.0958698 2.1001122]\n",
            " [2.0318415 2.0429113 2.0968163 2.0945385]\n",
            " [2.0291152 2.0347319 2.0926442 2.0996778]\n",
            " [2.0267394 2.0370533 2.0950978 2.0953338]\n",
            " [2.0289571 2.0357013 2.0974407 2.0923045]]\n",
            "[[2.363588  2.359465  2.4971256 2.5141604]\n",
            " [2.3553023 2.3918169 2.5112493 2.5189226]\n",
            " [2.3746285 2.383489  2.5088823 2.5310116]\n",
            " [2.3588023 2.3976102 2.4987664 2.5065105]\n",
            " [2.3558962 2.3890667 2.4933832 2.5095787]\n",
            " [2.3526819 2.3915958 2.4753892 2.4975214]\n",
            " [2.3842914 2.3825922 2.4701352 2.5152903]\n",
            " [2.3688157 2.398105  2.4932666 2.5125108]\n",
            " [2.3529897 2.3859549 2.492807  2.491511 ]\n",
            " [2.3670464 2.3851602 2.491883  2.4975097]\n",
            " [2.3481288 2.3871713 2.4927328 2.4990454]\n",
            " [2.3811333 2.394209  2.4836533 2.4858458]\n",
            " [2.3614464 2.3709235 2.4638464 2.4919689]\n",
            " [2.3621738 2.3730166 2.4686275 2.4983058]\n",
            " [2.3555412 2.3738084 2.4760883 2.4808774]\n",
            " [2.3679085 2.3775108 2.4836977 2.5273936]\n",
            " [2.3466954 2.3833835 2.4978693 2.502879 ]\n",
            " [2.3593752 2.3596911 2.4843783 2.5110343]\n",
            " [2.3540244 2.3604777 2.4743726 2.4852262]\n",
            " [2.3646636 2.3409712 2.48763   2.4724495]]\n",
            "[[2.3970575 2.3793712 2.469574  2.4834945]\n",
            " [2.387948  2.3794107 2.453883  2.4652202]\n",
            " [2.3901114 2.3761942 2.4582753 2.4717295]\n",
            " [2.3956034 2.3762882 2.4633672 2.4700384]\n",
            " [2.3950183 2.3758523 2.462251  2.473273 ]\n",
            " [2.389505  2.378069  2.4657326 2.4738863]\n",
            " [2.395305  2.3731854 2.4620776 2.4708998]\n",
            " [2.3938897 2.378278  2.4647615 2.4739046]\n",
            " [2.3946733 2.3801842 2.4696538 2.4764974]\n",
            " [2.3945804 2.3749092 2.4623568 2.4738846]\n",
            " [2.3894491 2.37643   2.4626741 2.474122 ]\n",
            " [2.3937118 2.372846  2.4673371 2.4732733]\n",
            " [2.3923717 2.375264  2.459062  2.4772673]\n",
            " [2.3920577 2.376206  2.462852  2.478741 ]\n",
            " [2.39291   2.3762157 2.4685361 2.478247 ]\n",
            " [2.3932521 2.372308  2.4717093 2.4783614]\n",
            " [2.3958664 2.3815815 2.472506  2.4728708]\n",
            " [2.396985  2.378789  2.4644403 2.482511 ]\n",
            " [2.390238  2.3707597 2.4725077 2.4700372]\n",
            " [2.394449  2.3631861 2.4675045 2.474575 ]]\n",
            "[[2.4405344 2.4235954 2.5236483 2.541803 ]\n",
            " [2.4342618 2.4256668 2.5122476 2.5266392]\n",
            " [2.4370325 2.4237676 2.5159097 2.5331466]\n",
            " [2.4423788 2.4235537 2.521286  2.529325 ]\n",
            " [2.443346  2.4224482 2.5198846 2.5336087]\n",
            " [2.4371126 2.424817  2.5249894 2.5343359]\n",
            " [2.4430497 2.4201503 2.521189  2.532296 ]\n",
            " [2.4419465 2.425872  2.5237713 2.5351238]\n",
            " [2.4435017 2.4292068 2.5299792 2.5391035]\n",
            " [2.4428725 2.424819  2.5234668 2.53613  ]\n",
            " [2.4386117 2.4259574 2.522277  2.5384884]\n",
            " [2.4429824 2.4220967 2.5273616 2.5368757]\n",
            " [2.4416182 2.4256883 2.5196054 2.5408568]\n",
            " [2.4414697 2.4272625 2.5248067 2.5432813]\n",
            " [2.4426064 2.4273791 2.5297172 2.5423415]\n",
            " [2.4438112 2.4228563 2.5332081 2.5407429]\n",
            " [2.446883  2.4320207 2.5359643 2.5362694]\n",
            " [2.4488688 2.4308753 2.5271707 2.547748 ]\n",
            " [2.4421031 2.4223378 2.5363333 2.5351098]\n",
            " [2.4472604 2.4137318 2.5295534 2.5412555]]\n",
            "[[2.142059  2.1522894 2.228983  2.2304685]\n",
            " [2.1382618 2.1624188 2.2151961 2.2177272]\n",
            " [2.1393666 2.1580598 2.2220013 2.2247527]\n",
            " [2.1452916 2.1592567 2.232029  2.230597 ]\n",
            " [2.1437576 2.1632218 2.2315614 2.2321358]\n",
            " [2.1422727 2.1628451 2.2272513 2.2342222]\n",
            " [2.146655  2.1604393 2.225343  2.226219 ]\n",
            " [2.1474257 2.1643093 2.228168  2.2315636]\n",
            " [2.1474092 2.1638267 2.228796  2.2299085]\n",
            " [2.1515086 2.1579158 2.226753  2.2296674]\n",
            " [2.1455865 2.1625485 2.231516  2.2330542]\n",
            " [2.1506307 2.1609197 2.2340846 2.2316675]\n",
            " [2.151775  2.1619549 2.2275808 2.2351627]\n",
            " [2.1501768 2.1604898 2.2278812 2.239088 ]\n",
            " [2.15217   2.161396  2.2321625 2.2381783]\n",
            " [2.1530528 2.1625032 2.2353613 2.240708 ]\n",
            " [2.1567514 2.1689534 2.2389615 2.23605  ]\n",
            " [2.1545205 2.1637068 2.2342217 2.2449048]\n",
            " [2.1522005 2.1629977 2.2380176 2.2398329]\n",
            " [2.1553154 2.1601102 2.2384176 2.2389536]]\n",
            "[[2.1960773 2.1641836 2.160444  2.156754 ]\n",
            " [2.2023618 2.1596892 2.1590915 2.1558504]\n",
            " [2.199192  2.1605506 2.1654909 2.160653 ]\n",
            " [2.2088668 2.1646917 2.1733572 2.1622255]\n",
            " [2.2046533 2.1699197 2.1704538 2.1647136]\n",
            " [2.2054586 2.1711845 2.1726835 2.168946 ]\n",
            " [2.210401  2.1669219 2.1711302 2.1620944]\n",
            " [2.212129  2.170931  2.1719692 2.16869  ]\n",
            " [2.2117946 2.17212   2.176213  2.168376 ]\n",
            " [2.2149649 2.166552  2.170968  2.166632 ]\n",
            " [2.2087662 2.1677225 2.1670933 2.165353 ]\n",
            " [2.213489  2.1645088 2.1726375 2.154168 ]\n",
            " [2.2146807 2.1662776 2.165852  2.1657171]\n",
            " [2.2175615 2.1604295 2.170493  2.1719313]\n",
            " [2.219341  2.163294  2.179781  2.1708503]\n",
            " [2.2183506 2.1617503 2.1851487 2.1760361]\n",
            " [2.2206972 2.1713717 2.1752102 2.1708066]\n",
            " [2.2205813 2.1665683 2.1770477 2.1657345]\n",
            " [2.213356  2.1621616 2.1828892 2.165126 ]\n",
            " [2.2191494 2.157323  2.18004   2.16384  ]]\n",
            "[[2.5840788 2.5948768 2.6646185 2.6672127]\n",
            " [2.5689907 2.6032834 2.6239421 2.639191 ]\n",
            " [2.5672367 2.60575   2.6531162 2.6474032]\n",
            " [2.5800717 2.5990152 2.6490521 2.6699095]\n",
            " [2.600057  2.5959141 2.6525087 2.6598263]\n",
            " [2.5785685 2.597486  2.6621964 2.654348 ]\n",
            " [2.5791838 2.5949042 2.6501827 2.6609733]\n",
            " [2.5836906 2.6069393 2.6517546 2.6592567]\n",
            " [2.5901809 2.6131692 2.6697907 2.682406 ]\n",
            " [2.5922723 2.6102202 2.6769395 2.6843638]\n",
            " [2.578282  2.6223147 2.6755903 2.6913786]\n",
            " [2.5829208 2.6085777 2.6638696 2.699376 ]\n",
            " [2.584317  2.6133506 2.679866  2.6964421]\n",
            " [2.5809205 2.6157548 2.6731634 2.681523 ]\n",
            " [2.58156   2.6037776 2.6786823 2.686748 ]\n",
            " [2.589025  2.5953872 2.6921473 2.6830127]\n",
            " [2.602182  2.5998983 2.675424  2.6917675]\n",
            " [2.6046946 2.6000345 2.669915  2.7041223]\n",
            " [2.5980983 2.5760458 2.6841772 2.687295 ]\n",
            " [2.6010592 2.5638366 2.6785998 2.6894155]]\n",
            "[[2.4044702 2.4085727 2.4305983 2.4163716]\n",
            " [2.4032905 2.4148142 2.4215415 2.4111104]\n",
            " [2.4019961 2.4190686 2.4271479 2.4149995]\n",
            " [2.4115582 2.424798  2.4415395 2.4252863]\n",
            " [2.4110248 2.4295712 2.4425788 2.4221613]\n",
            " [2.4145164 2.4302764 2.4300814 2.4254334]\n",
            " [2.416882  2.4350214 2.4285164 2.4143937]\n",
            " [2.4164822 2.438326  2.4313967 2.4221983]\n",
            " [2.4177184 2.438784  2.4333968 2.4189425]\n",
            " [2.4251382 2.4372194 2.433484  2.4215403]\n",
            " [2.4181204 2.4397116 2.4357133 2.4252968]\n",
            " [2.425023  2.4400692 2.4351614 2.421615 ]\n",
            " [2.4294605 2.443151  2.4317803 2.4237225]\n",
            " [2.4279196 2.4354024 2.4351194 2.4282997]\n",
            " [2.43306   2.4369206 2.438084  2.4281068]\n",
            " [2.4380856 2.438595  2.45006   2.4331322]\n",
            " [2.4470618 2.4390242 2.4402144 2.433253 ]\n",
            " [2.445311  2.4330137 2.4418488 2.4253085]\n",
            " [2.4449732 2.4290316 2.4420393 2.433503 ]\n",
            " [2.4488854 2.4242482 2.4438324 2.4278927]]\n",
            "[[2.5275562 2.4651144 2.4582086 2.4525478]\n",
            " [2.5164232 2.4501584 2.4390244 2.4354453]\n",
            " [2.512755  2.449119  2.44683   2.439362 ]\n",
            " [2.522935  2.4518447 2.4494226 2.4423218]\n",
            " [2.518904  2.4519331 2.4465413 2.4412754]\n",
            " [2.515144  2.4553504 2.4509716 2.442176 ]\n",
            " [2.5195038 2.452246  2.4469333 2.4398441]\n",
            " [2.51657   2.4558825 2.4495237 2.442044 ]\n",
            " [2.515038  2.4573529 2.4552596 2.4461646]\n",
            " [2.5150552 2.4545689 2.4485018 2.4439986]\n",
            " [2.5051908 2.4552147 2.4491887 2.4391584]\n",
            " [2.5102506 2.4525306 2.451763  2.438416 ]\n",
            " [2.5089028 2.4537654 2.4443192 2.4467783]\n",
            " [2.5090246 2.4518554 2.447234  2.4458084]\n",
            " [2.511452  2.4516256 2.45402   2.4449713]\n",
            " [2.5093288 2.44858   2.462847  2.448421 ]\n",
            " [2.5129182 2.4584258 2.4454293 2.4414682]\n",
            " [2.5129077 2.4547255 2.4486263 2.4359274]\n",
            " [2.5027752 2.4421098 2.4550302 2.431665 ]\n",
            " [2.5082476 2.4328742 2.4514441 2.4325233]]\n",
            "[[2.4697726 2.4353561 2.4221616 2.3961976]\n",
            " [2.4438412 2.4220707 2.3832293 2.3653083]\n",
            " [2.4403155 2.4177766 2.3924088 2.3695126]\n",
            " [2.449999  2.4226184 2.3975558 2.384205 ]\n",
            " [2.4425604 2.4246855 2.3982809 2.3762739]\n",
            " [2.4431303 2.4272208 2.3872643 2.3756833]\n",
            " [2.4463806 2.4278073 2.3838868 2.3678718]\n",
            " [2.4413269 2.4291542 2.3883097 2.3716407]\n",
            " [2.4373753 2.4246154 2.3877866 2.367563 ]\n",
            " [2.4429815 2.4205503 2.3807147 2.3694475]\n",
            " [2.4293873 2.4237075 2.3908064 2.3600264]\n",
            " [2.4358387 2.4243445 2.3877547 2.3664234]\n",
            " [2.4363105 2.4215026 2.3800588 2.3685267]\n",
            " [2.4331546 2.41592   2.3764045 2.3625677]\n",
            " [2.4356663 2.4147708 2.3825228 2.3638694]\n",
            " [2.4345722 2.4162595 2.393224  2.3740675]\n",
            " [2.440017  2.4209344 2.3708708 2.366266 ]\n",
            " [2.436118  2.409393  2.374723  2.3539236]\n",
            " [2.4305437 2.399959  2.37335   2.3538575]\n",
            " [2.4312327 2.3947387 2.3795629 2.3460796]]\n",
            "[[1.6951585 1.6749954 1.7608604 1.7467486]\n",
            " [1.6976622 1.7297277 1.7812699 1.7549558]\n",
            " [1.6943845 1.6996512 1.7857249 1.742779 ]\n",
            " [1.7064941 1.6961764 1.8544457 1.8026457]\n",
            " [1.6677294 1.7179335 1.855231  1.85096  ]\n",
            " [1.6862162 1.712377  1.7765352 1.8292962]\n",
            " [1.6711686 1.7120675 1.7891427 1.757786 ]\n",
            " [1.6663113 1.7044367 1.784608  1.775729 ]\n",
            " [1.656237  1.6854224 1.7345895 1.7417129]\n",
            " [1.6576225 1.6672777 1.7385427 1.7367673]\n",
            " [1.658118  1.710826  1.7537547 1.7183706]\n",
            " [1.614545  1.7074224 1.7895148 1.7538683]\n",
            " [1.6578144 1.7016337 1.7480712 1.7389762]\n",
            " [1.6117508 1.7184594 1.7355096 1.7303672]\n",
            " [1.6109688 1.72412   1.7889296 1.7434257]\n",
            " [1.6207092 1.7608801 1.813748  1.742069 ]\n",
            " [1.6251472 1.7631907 1.7662288 1.7884638]\n",
            " [1.5832    1.7457707 1.7748507 1.7649951]\n",
            " [1.6281769 1.7855623 1.7373402 1.7934723]\n",
            " [1.594731  1.8167613 1.7666917 1.7667816]]\n",
            "[[2.387549  2.3904502 2.5122852 2.5307932]\n",
            " [2.3802328 2.3981948 2.4991477 2.5138352]\n",
            " [2.3842752 2.3951035 2.501573  2.5208323]\n",
            " [2.3886535 2.394787  2.5091383 2.51848  ]\n",
            " [2.3896735 2.3945267 2.5088089 2.5220106]\n",
            " [2.3845892 2.395742  2.5101728 2.5228593]\n",
            " [2.3903174 2.3921022 2.5070317 2.5192022]\n",
            " [2.3895164 2.3975656 2.50996   2.52312  ]\n",
            " [2.3913672 2.3996787 2.5140479 2.524648 ]\n",
            " [2.3921998 2.3944979 2.5080056 2.5226595]\n",
            " [2.388492  2.3963552 2.5094316 2.5259962]\n",
            " [2.3929405 2.393205  2.5139837 2.5255651]\n",
            " [2.392286  2.39657   2.5061386 2.527296 ]\n",
            " [2.3913794 2.3977678 2.5101593 2.5304549]\n",
            " [2.392488  2.3978283 2.5139205 2.529533 ]\n",
            " [2.3944764 2.3947823 2.5166705 2.5284483]\n",
            " [2.397875  2.4020817 2.5239925 2.524525 ]\n",
            " [2.3989742 2.399815  2.5128348 2.538685 ]\n",
            " [2.3944976 2.3934128 2.5205033 2.5259383]\n",
            " [2.3983939 2.3863838 2.5156503 2.5308733]]\n",
            "[[2.0521317 2.0665972 2.1284428 2.1266637]\n",
            " [2.0564027 2.080765  2.1223195 2.1225607]\n",
            " [2.0570607 2.0780287 2.1302936 2.129545 ]\n",
            " [2.0639954 2.079708  2.1424766 2.136584 ]\n",
            " [2.062671  2.085214  2.1418033 2.1389346]\n",
            " [2.0626945 2.0844884 2.1368008 2.142382 ]\n",
            " [2.0666103 2.0827327 2.1354425 2.13285  ]\n",
            " [2.0686061 2.086436  2.137678  2.1392274]\n",
            " [2.069211  2.0864556 2.1386554 2.1371205]\n",
            " [2.0744715 2.0809479 2.1389263 2.137431 ]\n",
            " [2.0689201 2.0858169 2.1415167 2.1435032]\n",
            " [2.0742276 2.084497  2.144251  2.1387668]\n",
            " [2.0765347 2.0859308 2.1387944 2.1432955]\n",
            " [2.0752182 2.0829406 2.1395447 2.1487315]\n",
            " [2.0778248 2.0850787 2.1445777 2.1480134]\n",
            " [2.0792162 2.0870328 2.1481988 2.1506262]\n",
            " [2.0837524 2.093299  2.1510668 2.147341 ]\n",
            " [2.081092  2.0884137 2.147957  2.1534343]\n",
            " [2.0794327 2.0903192 2.1514063 2.152106 ]\n",
            " [2.0830178 2.0887787 2.15205   2.150209 ]]\n",
            "[[2.5399683 2.520779  2.620802  2.6344929]\n",
            " [2.5223737 2.5171223 2.5968413 2.607858 ]\n",
            " [2.5252626 2.5134895 2.5995896 2.6140897]\n",
            " [2.530396  2.5137715 2.603361  2.6125157]\n",
            " [2.5292583 2.5117257 2.6034074 2.613655 ]\n",
            " [2.523426  2.5146832 2.6050744 2.6129277]\n",
            " [2.5294552 2.5104604 2.6009376 2.6108446]\n",
            " [2.5260696 2.5153737 2.6042752 2.6133738]\n",
            " [2.5266373 2.5162282 2.6088443 2.6149487]\n",
            " [2.5265517 2.5110488 2.5986383 2.6127481]\n",
            " [2.520543  2.5116296 2.6006863 2.609907 ]\n",
            " [2.5251079 2.5083873 2.604258  2.612456 ]\n",
            " [2.5231745 2.5103402 2.5949166 2.6138465]\n",
            " [2.5223157 2.5110393 2.5982966 2.612488 ]\n",
            " [2.5227332 2.5100713 2.6037185 2.612747 ]\n",
            " [2.5234902 2.5054216 2.6078286 2.6139185]\n",
            " [2.526367  2.5135934 2.6061597 2.6078918]\n",
            " [2.5278654 2.509295  2.5960708 2.6159542]\n",
            " [2.520831  2.4982138 2.6033485 2.601145 ]\n",
            " [2.5237536 2.489304  2.5991483 2.605413 ]]\n",
            "[[2.5055969 2.4836674 2.5786037 2.5981927]\n",
            " [2.5045247 2.4888375 2.5735042 2.5893235]\n",
            " [2.5069637 2.4886756 2.5776932 2.59514  ]\n",
            " [2.5132961 2.4883232 2.5837724 2.5905466]\n",
            " [2.515893  2.4865727 2.5816004 2.5954537]\n",
            " [2.509238  2.4889898 2.5885866 2.5965848]\n",
            " [2.51489   2.4854827 2.5845468 2.5955834]\n",
            " [2.5139844 2.491376  2.587079  2.597818 ]\n",
            " [2.5165346 2.496492  2.5949156 2.6044147]\n",
            " [2.5151265 2.4940326 2.5910861 2.6013875]\n",
            " [2.5112948 2.4948907 2.588184  2.6067593]\n",
            " [2.5161633 2.4911602 2.59317   2.604235 ]\n",
            " [2.5150595 2.4959059 2.5873365 2.608834 ]\n",
            " [2.5145879 2.498229  2.5939708 2.6130383]\n",
            " [2.516764  2.498248  2.5976462 2.611555 ]\n",
            " [2.518788  2.4935596 2.6031556 2.6079774]\n",
            " [2.5228696 2.5021303 2.6056883 2.6052334]\n",
            " [2.525287  2.5035956 2.598212  2.6166935]\n",
            " [2.5183342 2.493691  2.6083457 2.606323 ]\n",
            " [2.5249162 2.484063  2.5998535 2.6137831]]\n",
            "[[2.3936856 2.3944874 2.474793  2.4793956]\n",
            " [2.4017546 2.3942683 2.4583654 2.4671571]\n",
            " [2.385832  2.3960047 2.4672463 2.4805818]\n",
            " [2.3999753 2.3949375 2.4790967 2.482239 ]\n",
            " [2.4018416 2.3998852 2.468975  2.4817612]\n",
            " [2.3952777 2.398466  2.474737  2.4839017]\n",
            " [2.39774   2.3977902 2.4687912 2.4823077]\n",
            " [2.4095676 2.4053912 2.4755332 2.4835072]\n",
            " [2.3979247 2.4103382 2.4871697 2.4934258]\n",
            " [2.4040136 2.407393  2.474214  2.4853988]\n",
            " [2.396535  2.411222  2.4734683 2.4853575]\n",
            " [2.411933  2.4100661 2.4691377 2.4720907]\n",
            " [2.4083784 2.4125953 2.4743626 2.4829824]\n",
            " [2.4090488 2.4107375 2.4816055 2.498825 ]\n",
            " [2.4135146 2.4077213 2.4943326 2.5020921]\n",
            " [2.4206667 2.3968155 2.5163393 2.517979 ]\n",
            " [2.4185057 2.4003336 2.5093365 2.5194483]\n",
            " [2.4187064 2.394514  2.5099988 2.5270972]\n",
            " [2.4213374 2.390683  2.5131865 2.5147245]\n",
            " [2.4368207 2.3635235 2.505323  2.5160542]]\n",
            "[[1.8577449 1.85531   1.9157974 1.9198059]\n",
            " [1.8591528 1.8589385 1.9084306 1.9127015]\n",
            " [1.8611358 1.8533682 1.918001  1.9223548]\n",
            " [1.8656495 1.853124  1.924076  1.9238833]\n",
            " [1.8615204 1.8602496 1.9226296 1.9319056]\n",
            " [1.8583678 1.86119   1.9237256 1.9341667]\n",
            " [1.8653485 1.8504797 1.9220015 1.9253385]\n",
            " [1.8690019 1.8555799 1.9228859 1.9303578]\n",
            " [1.8668251 1.8561078 1.9246027 1.9276527]\n",
            " [1.871238  1.8456532 1.9197468 1.925121 ]\n",
            " [1.864785  1.8519337 1.9191073 1.926541 ]\n",
            " [1.8690466 1.8474443 1.9250256 1.9193203]\n",
            " [1.8690262 1.8459264 1.9158311 1.9280403]\n",
            " [1.8702222 1.8439478 1.9167737 1.9307796]\n",
            " [1.8688273 1.8477305 1.9282954 1.9315721]\n",
            " [1.867539  1.8468455 1.9246075 1.9340348]\n",
            " [1.8671225 1.8602936 1.9270285 1.9265286]\n",
            " [1.8659959 1.8520898 1.922403  1.9346641]\n",
            " [1.8597915 1.8571708 1.9284943 1.9271542]\n",
            " [1.8636291 1.8558972 1.9278036 1.9269024]]\n",
            "[[2.4690142 2.503749  2.4864254 2.380509 ]\n",
            " [2.411488  2.4746416 2.4147198 2.322489 ]\n",
            " [2.4178457 2.4659002 2.4188027 2.334613 ]\n",
            " [2.4246225 2.4700985 2.4206967 2.3371198]\n",
            " [2.418875  2.4595232 2.415981  2.329632 ]\n",
            " [2.4072347 2.4658465 2.4134893 2.32026  ]\n",
            " [2.4096649 2.4570477 2.4048228 2.320242 ]\n",
            " [2.3997188 2.468093  2.416098  2.3207824]\n",
            " [2.3911233 2.4649556 2.4218988 2.3135498]\n",
            " [2.4004123 2.4623902 2.398785  2.3171523]\n",
            " [2.3720648 2.4650283 2.4193077 2.3027656]\n",
            " [2.3877373 2.4731066 2.410341  2.3239348]\n",
            " [2.3730133 2.4638636 2.3994577 2.3176003]\n",
            " [2.3678842 2.4699268 2.3869877 2.297825 ]\n",
            " [2.368367  2.465321  2.397586  2.2990863]\n",
            " [2.365179  2.465502  2.4113262 2.3127306]\n",
            " [2.3712769 2.4728816 2.3834977 2.299396 ]\n",
            " [2.3660164 2.4636633 2.382532  2.2902741]\n",
            " [2.3531783 2.4546747 2.3828468 2.275771 ]\n",
            " [2.355279  2.4413886 2.3829284 2.2752535]]\n",
            "[[2.5474038 2.5351353 2.6250725 2.6371074]\n",
            " [2.5393941 2.5397363 2.6105633 2.6202374]\n",
            " [2.541048  2.5380008 2.6136212 2.6252582]\n",
            " [2.5478027 2.5388086 2.6216612 2.625667 ]\n",
            " [2.5486033 2.5380104 2.6209378 2.6266088]\n",
            " [2.5443325 2.539577  2.6221988 2.627758 ]\n",
            " [2.5489154 2.539034  2.6186483 2.6245873]\n",
            " [2.5468628 2.5434542 2.6219814 2.628101 ]\n",
            " [2.5490808 2.5456483 2.6262906 2.6316004]\n",
            " [2.5490973 2.5424545 2.6215446 2.629919 ]\n",
            " [2.544393  2.543361  2.623171  2.6323931]\n",
            " [2.5492198 2.5405562 2.6267684 2.6329057]\n",
            " [2.5492241 2.5444367 2.62018   2.6350958]\n",
            " [2.5477824 2.5451164 2.6247544 2.6384187]\n",
            " [2.5508378 2.5437424 2.6272724 2.6372795]\n",
            " [2.5525997 2.5405383 2.6340685 2.6366878]\n",
            " [2.557744  2.5461469 2.6348214 2.633517 ]\n",
            " [2.5582426 2.5446692 2.6275785 2.6424482]\n",
            " [2.5533986 2.5340838 2.6347144 2.633322 ]\n",
            " [2.5577726 2.525272  2.6298785 2.6375194]]\n",
            "[[2.2147064 2.1990266 2.175565  2.1488152]\n",
            " [2.2078362 2.1983526 2.1556942 2.1369934]\n",
            " [2.2033956 2.1964135 2.166071  2.1414323]\n",
            " [2.2138734 2.2016962 2.176807  2.1567743]\n",
            " [2.2084541 2.207937  2.176146  2.1516018]\n",
            " [2.2114904 2.2080083 2.1654344 2.1543791]\n",
            " [2.2136118 2.2099652 2.1637008 2.1436536]\n",
            " [2.2129354 2.2116735 2.167062  2.150062 ]\n",
            " [2.2102792 2.2090197 2.1660964 2.1462054]\n",
            " [2.2176616 2.2054033 2.1663177 2.14848  ]\n",
            " [2.2063088 2.2104135 2.1739657 2.1472201]\n",
            " [2.2126474 2.2111688 2.1723297 2.146543 ]\n",
            " [2.215627  2.2103543 2.167549  2.1520982]\n",
            " [2.2133293 2.2037103 2.1649678 2.1534388]\n",
            " [2.2175415 2.2046309 2.1694677 2.152796 ]\n",
            " [2.2173238 2.2089481 2.179522  2.1609688]\n",
            " [2.2238312 2.2130103 2.1644964 2.1557994]\n",
            " [2.2189412 2.204112  2.1718557 2.1467426]\n",
            " [2.2162576 2.2017035 2.17069   2.1541593]\n",
            " [2.2192483 2.1995358 2.1763616 2.14549  ]]\n",
            "[[2.2829762 2.2861218 2.3693027 2.372752 ]\n",
            " [2.2728553 2.2916667 2.3502476 2.3539965]\n",
            " [2.274695  2.2873733 2.3554523 2.3606791]\n",
            " [2.2803288 2.2886202 2.3638887 2.365082 ]\n",
            " [2.2785656 2.2906587 2.3638914 2.3656306]\n",
            " [2.2762225 2.2912903 2.359726  2.3666096]\n",
            " [2.2810361 2.2888372 2.35722   2.3600037]\n",
            " [2.2801435 2.2928858 2.360439  2.3647006]\n",
            " [2.2800176 2.292344  2.3617487 2.3631403]\n",
            " [2.2834606 2.2867122 2.356941  2.3627489]\n",
            " [2.2770655 2.2901366 2.362027  2.3636565]\n",
            " [2.282117  2.2884066 2.364267  2.3644207]\n",
            " [2.2824707 2.2893999 2.356806  2.366504 ]\n",
            " [2.2807336 2.2881863 2.3574998 2.3682337]\n",
            " [2.2822726 2.28836   2.3619587 2.3677619]\n",
            " [2.283336  2.2881517 2.3659894 2.370546 ]\n",
            " [2.2871294 2.294349  2.367244  2.3655999]\n",
            " [2.2857318 2.2886958 2.3608885 2.373249 ]\n",
            " [2.2823465 2.2846062 2.364892  2.365706 ]\n",
            " [2.284967  2.2799842 2.3647304 2.3656197]]\n",
            "[[2.4199164 2.4211318 2.525785  2.5406556]\n",
            " [2.4178352 2.4315596 2.5180078 2.5300252]\n",
            " [2.4208074 2.4304917 2.5211241 2.5361722]\n",
            " [2.4266667 2.4308195 2.5305169 2.535196 ]\n",
            " [2.4285145 2.4310188 2.5297978 2.538195 ]\n",
            " [2.424497  2.431981  2.5306015 2.5399332]\n",
            " [2.4294093 2.4304736 2.5276282 2.535796 ]\n",
            " [2.42897   2.4356246 2.5304863 2.5400324]\n",
            " [2.4314878 2.4386194 2.5351589 2.5425885]\n",
            " [2.4327404 2.4351587 2.5319307 2.541164 ]\n",
            " [2.428999  2.4369128 2.5324974 2.5468884]\n",
            " [2.434002  2.4343371 2.536438  2.5452862]\n",
            " [2.4343483 2.4386299 2.5302825 2.5475276]\n",
            " [2.4331272 2.4390547 2.5350747 2.5522292]\n",
            " [2.435641  2.4393082 2.537734  2.5509143]\n",
            " [2.438411  2.4370203 2.542991  2.549292 ]\n",
            " [2.4433415 2.4429882 2.548303  2.5470634]\n",
            " [2.4440966 2.4420385 2.5397856 2.5584922]\n",
            " [2.4402406 2.4354892 2.5470812 2.5501342]\n",
            " [2.4450612 2.428252  2.5420218 2.5544972]]\n",
            "[[2.5458224 2.5466766 2.6773133 2.6987169]\n",
            " [2.5359795 2.5544202 2.6621466 2.678568 ]\n",
            " [2.5400834 2.5515804 2.6627698 2.684589 ]\n",
            " [2.544935  2.5512726 2.6706493 2.6817553]\n",
            " [2.5465443 2.5494583 2.670608  2.6842275]\n",
            " [2.541184  2.5508933 2.6723764 2.6847327]\n",
            " [2.5467207 2.549007  2.6689296 2.6822388]\n",
            " [2.5446575 2.5541773 2.6722858 2.6858237]\n",
            " [2.547625  2.5563145 2.6764605 2.6885202]\n",
            " [2.5471718 2.5519264 2.669363  2.6863348]\n",
            " [2.544053  2.5523815 2.6711059 2.689036 ]\n",
            " [2.5484633 2.5490184 2.675849  2.690309 ]\n",
            " [2.5478163 2.55325   2.6678128 2.6906586]\n",
            " [2.5465798 2.555037  2.6729753 2.6939254]\n",
            " [2.548524  2.5535872 2.675449  2.6928923]\n",
            " [2.5508406 2.5494518 2.679775  2.69127  ]\n",
            " [2.5549905 2.5553563 2.686819  2.6879032]\n",
            " [2.5563853 2.5538867 2.6741712 2.702541 ]\n",
            " [2.551987  2.5437026 2.6822412 2.6881323]\n",
            " [2.555617  2.534636  2.6764174 2.6943603]]\n",
            "[[2.693569  2.6546173 2.6424603 2.621112 ]\n",
            " [2.6761541 2.6476166 2.615036  2.6000848]\n",
            " [2.6719792 2.6477604 2.6226346 2.6023467]\n",
            " [2.6831436 2.6528056 2.630957  2.6151085]\n",
            " [2.6803522 2.6536572 2.6304562 2.6071374]\n",
            " [2.6802015 2.6556416 2.6225214 2.6077936]\n",
            " [2.6818254 2.6610575 2.6187127 2.6019962]\n",
            " [2.6771932 2.6630626 2.6236055 2.6057005]\n",
            " [2.6757402 2.6625626 2.6254268 2.6069953]\n",
            " [2.679651  2.662905  2.6245017 2.6087346]\n",
            " [2.6676433 2.6653328 2.6327646 2.606358 ]\n",
            " [2.6744552 2.6660888 2.6297216 2.6120532]\n",
            " [2.6761444 2.667597  2.6255665 2.614402 ]\n",
            " [2.6723838 2.6638906 2.6254668 2.6132357]\n",
            " [2.6782475 2.6616127 2.6259117 2.6120584]\n",
            " [2.6793547 2.6629882 2.6414065 2.6171134]\n",
            " [2.6883726 2.6646652 2.6218798 2.6132789]\n",
            " [2.6853878 2.6590707 2.6287026 2.604191 ]\n",
            " [2.6810427 2.6459713 2.62925   2.609451 ]\n",
            " [2.6849864 2.6374536 2.6313796 2.6045482]]\n",
            "[[2.461532  2.4613388 2.5890622 2.6087503]\n",
            " [2.4498756 2.4665456 2.5718367 2.5873127]\n",
            " [2.4542472 2.4630826 2.5734673 2.5941844]\n",
            " [2.4583797 2.462652  2.5799203 2.5913029]\n",
            " [2.4591777 2.4613767 2.5799685 2.5941472]\n",
            " [2.4535    2.4630575 2.5814166 2.5942557]\n",
            " [2.459467  2.4593427 2.577935  2.5914612]\n",
            " [2.4576929 2.464821  2.581125  2.5948956]\n",
            " [2.459445  2.4666178 2.585308  2.5964463]\n",
            " [2.4597926 2.4613905 2.5775783 2.5943327]\n",
            " [2.4557853 2.462683  2.5795977 2.5960085]\n",
            " [2.4602358 2.459419  2.583943  2.5972314]\n",
            " [2.459047  2.4626203 2.5754423 2.598013 ]\n",
            " [2.4580262 2.464105  2.5794637 2.5998158]\n",
            " [2.4588118 2.4635713 2.5832093 2.59917  ]\n",
            " [2.4607716 2.459791  2.5861273 2.5982933]\n",
            " [2.464011  2.4669976 2.5925028 2.5938902]\n",
            " [2.4654882 2.4643054 2.5802078 2.6079543]\n",
            " [2.4604998 2.4560256 2.587953  2.593325 ]\n",
            " [2.4639194 2.4480548 2.5829968 2.5986814]]\n",
            "[[2.4890385 2.471102  2.5671797 2.58209  ]\n",
            " [2.4769511 2.4701104 2.5491846 2.5609627]\n",
            " [2.479446  2.4672387 2.5523472 2.567043 ]\n",
            " [2.4848444 2.4675877 2.5574267 2.5650365]\n",
            " [2.4845023 2.4662716 2.556723  2.567439 ]\n",
            " [2.4789906 2.4687643 2.5593781 2.5675938]\n",
            " [2.4848309 2.4647202 2.5555458 2.5649915]\n",
            " [2.4825857 2.4697874 2.5585573 2.5679226]\n",
            " [2.483637  2.4716039 2.5634482 2.5704873]\n",
            " [2.4833298 2.4667013 2.555167  2.5679893]\n",
            " [2.478311  2.4675546 2.5558727 2.5673494]\n",
            " [2.4826458 2.4640262 2.5602624 2.5676441]\n",
            " [2.4813056 2.4666927 2.5518095 2.5705082]\n",
            " [2.4807658 2.4676225 2.556098  2.5715652]\n",
            " [2.4818099 2.4669816 2.561271  2.5711713]\n",
            " [2.4826713 2.462571  2.5654185 2.5714443]\n",
            " [2.4857254 2.4708178 2.5655577 2.5663397]\n",
            " [2.4871485 2.4679294 2.5565646 2.5755146]\n",
            " [2.4805639 2.457967  2.5644214 2.5623794]\n",
            " [2.4844909 2.4493768 2.55927   2.5671563]]\n",
            "[[2.5032148 2.510314  2.6193995 2.6287754]\n",
            " [2.491098  2.5190382 2.5997658 2.6079843]\n",
            " [2.4939554 2.5160913 2.6026812 2.6139338]\n",
            " [2.4995258 2.5170708 2.6114476 2.6167455]\n",
            " [2.500531  2.5169868 2.6119335 2.616084 ]\n",
            " [2.4968853 2.5178757 2.6088228 2.6164963]\n",
            " [2.5014846 2.5180151 2.6056952 2.6123824]\n",
            " [2.4995549 2.5226045 2.6095185 2.6163082]\n",
            " [2.501019  2.523414  2.612082  2.6171467]\n",
            " [2.5033145 2.5199137 2.6080654 2.616814 ]\n",
            " [2.4979079 2.522336  2.6133487 2.6200366]\n",
            " [2.5037024 2.5205157 2.6148555 2.6229856]\n",
            " [2.5039914 2.5231583 2.6086907 2.6225724]\n",
            " [2.5014746 2.5233057 2.6111665 2.6249712]\n",
            " [2.5043209 2.5217469 2.6125298 2.6240056]\n",
            " [2.5073593 2.5202618 2.6186762 2.6245408]\n",
            " [2.5129225 2.5238116 2.622826  2.6214223]\n",
            " [2.5126038 2.5202098 2.6143064 2.6323488]\n",
            " [2.5099652 2.5117645 2.6191895 2.6238778]\n",
            " [2.513228  2.5039272 2.6171217 2.626095 ]]\n",
            "[[2.48733   2.4709246 2.5649676 2.578331 ]\n",
            " [2.4754453 2.471011  2.546747  2.557536 ]\n",
            " [2.4777548 2.4680614 2.5501528 2.5635428]\n",
            " [2.4833915 2.4684207 2.5556688 2.562436 ]\n",
            " [2.4830875 2.467332  2.5550287 2.5642767]\n",
            " [2.4777873 2.4695454 2.5571396 2.564555 ]\n",
            " [2.4833066 2.466148  2.553357  2.5617971]\n",
            " [2.481089  2.471037  2.5564992 2.564799 ]\n",
            " [2.4821138 2.4727602 2.5610766 2.5673203]\n",
            " [2.4821095 2.4681609 2.5537045 2.5651295]\n",
            " [2.476767  2.4693048 2.5552611 2.5650918]\n",
            " [2.4812627 2.4661071 2.5591695 2.565957 ]\n",
            " [2.4801126 2.4688368 2.551088  2.568554 ]\n",
            " [2.4792264 2.4697108 2.5548584 2.5696778]\n",
            " [2.4805508 2.46901   2.5593467 2.5690935]\n",
            " [2.4814758 2.465205  2.5639203 2.5692496]\n",
            " [2.4849403 2.4729905 2.564151  2.5643013]\n",
            " [2.4859936 2.4701524 2.5557387 2.573519 ]\n",
            " [2.4797666 2.4604385 2.5632288 2.5613623]\n",
            " [2.4836655 2.4521112 2.5585628 2.5656881]]\n",
            "[[2.5405293 2.5417376 2.6578293 2.6744528]\n",
            " [2.5326734 2.551606  2.6433876 2.6563914]\n",
            " [2.535737  2.5486417 2.6448958 2.6618667]\n",
            " [2.5416985 2.5487194 2.6541588 2.6616647]\n",
            " [2.5429187 2.5475774 2.6539953 2.6629581]\n",
            " [2.5386565 2.548469  2.6545157 2.6640592]\n",
            " [2.5434368 2.5481682 2.6512809 2.6607516]\n",
            " [2.5414066 2.5525398 2.654826  2.66466  ]\n",
            " [2.5444634 2.554211  2.6581411 2.6673458]\n",
            " [2.5444753 2.5503678 2.6527743 2.6657372]\n",
            " [2.5408132 2.5511487 2.6555765 2.6690626]\n",
            " [2.5454044 2.5483594 2.6596696 2.6705658]\n",
            " [2.5455143 2.5525515 2.6523898 2.6710522]\n",
            " [2.5436585 2.5538294 2.656795  2.6748865]\n",
            " [2.5465705 2.5521107 2.6585376 2.6736567]\n",
            " [2.548598  2.5491745 2.664241  2.6724923]\n",
            " [2.553648  2.5541089 2.6697364 2.6695673]\n",
            " [2.5538561 2.552625  2.659026  2.6824315]\n",
            " [2.5501192 2.5426524 2.6661835 2.6705694]\n",
            " [2.5536408 2.5341759 2.6614566 2.675572 ]]\n",
            "[[2.5591924 2.557069  2.6877632 2.708218 ]\n",
            " [2.5470045 2.5635602 2.6702724 2.686431 ]\n",
            " [2.5512283 2.5604575 2.6714363 2.692693 ]\n",
            " [2.555761  2.5598965 2.6782298 2.6899006]\n",
            " [2.5575576 2.5577865 2.67819   2.6918204]\n",
            " [2.551388  2.5593362 2.6802235 2.6918573]\n",
            " [2.5568833 2.5572455 2.676387  2.69007  ]\n",
            " [2.5545735 2.5626042 2.6800473 2.6930795]\n",
            " [2.556875  2.565015  2.6844976 2.6961787]\n",
            " [2.5565379 2.5610402 2.67807   2.6941276]\n",
            " [2.5524952 2.562123  2.6808774 2.696944 ]\n",
            " [2.5571542 2.5590901 2.6846938 2.6996486]\n",
            " [2.5560179 2.5631533 2.6770618 2.6997344]\n",
            " [2.5543408 2.5655274 2.681352  2.7020347]\n",
            " [2.5560114 2.5640912 2.6831162 2.700792 ]\n",
            " [2.5583515 2.5603266 2.6876352 2.698707 ]\n",
            " [2.5626218 2.5663893 2.6944268 2.6950166]\n",
            " [2.5641105 2.5650158 2.6824784 2.7102768]\n",
            " [2.5593436 2.5546942 2.69054   2.6961975]\n",
            " [2.5632231 2.545617  2.684959  2.7022886]]\n",
            "[[2.407215  2.405878  2.488183  2.493714 ]\n",
            " [2.4006    2.4133449 2.4742045 2.4794862]\n",
            " [2.4021988 2.4115236 2.478881  2.485189 ]\n",
            " [2.408731  2.4129443 2.4881525 2.4884527]\n",
            " [2.409052  2.4141245 2.4877222 2.4890308]\n",
            " [2.4062285 2.4150157 2.4852626 2.4903681]\n",
            " [2.4105535 2.4146357 2.4823918 2.485093 ]\n",
            " [2.4095235 2.4190187 2.4856875 2.4893775]\n",
            " [2.4106858 2.42043   2.488709  2.4905343]\n",
            " [2.4132156 2.4170883 2.4863498 2.4900267]\n",
            " [2.4075127 2.4198174 2.489506  2.4939978]\n",
            " [2.4130118 2.4180346 2.4916706 2.4941132]\n",
            " [2.4138196 2.4207544 2.4858181 2.4961386]\n",
            " [2.4118543 2.42013   2.488547  2.4994586]\n",
            " [2.414855  2.4197812 2.4911869 2.498365 ]\n",
            " [2.4172235 2.418884  2.4976392 2.4990478]\n",
            " [2.4226778 2.4237885 2.498725  2.4960647]\n",
            " [2.4221427 2.420751  2.4933715 2.5037732]\n",
            " [2.4188504 2.4142692 2.4984088 2.498398 ]\n",
            " [2.4229708 2.407749  2.4961782 2.4998403]]\n",
            "[[2.382007  2.3761704 2.461512  2.4695013]\n",
            " [2.3733509 2.38013   2.4454672 2.4523377]\n",
            " [2.3751762 2.3773558 2.4498038 2.4584975]\n",
            " [2.3810997 2.3783708 2.4575756 2.4602213]\n",
            " [2.380569  2.3792164 2.4571157 2.4615335]\n",
            " [2.3770652 2.3804598 2.456081  2.4626079]\n",
            " [2.3819442 2.3781776 2.4530425 2.457654 ]\n",
            " [2.3807817 2.3827078 2.4561412 2.461825 ]\n",
            " [2.381539  2.3837821 2.4592824 2.4626288]\n",
            " [2.383412  2.379122  2.4542892 2.461428 ]\n",
            " [2.377802  2.3814633 2.4570434 2.463024 ]\n",
            " [2.3826067 2.3790615 2.4601662 2.4629672]\n",
            " [2.3826358 2.381468  2.4529493 2.4656432]\n",
            " [2.3813982 2.3810642 2.4556365 2.4679897]\n",
            " [2.383304  2.3809876 2.4596407 2.4671977]\n",
            " [2.3846302 2.3792033 2.4644318 2.4682598]\n",
            " [2.3887746 2.3858447 2.465422  2.4639156]\n",
            " [2.3886251 2.3821576 2.4588218 2.4721725]\n",
            " [2.3841784 2.3756328 2.4646263 2.463794 ]\n",
            " [2.3879085 2.3691926 2.4619336 2.4658384]]\n",
            "[[2.387955  2.3809474 2.4668188 2.4659717]\n",
            " [2.3661253 2.3748672 2.439145  2.4396966]\n",
            " [2.3701735 2.3729205 2.442699  2.4481266]\n",
            " [2.3739936 2.3752747 2.446102  2.4485571]\n",
            " [2.3712044 2.3750792 2.4477215 2.4480295]\n",
            " [2.3674252 2.3786292 2.440629  2.446242 ]\n",
            " [2.3736653 2.3733506 2.4369662 2.4409244]\n",
            " [2.370252  2.3794534 2.440773  2.444892 ]\n",
            " [2.3675845 2.3786898 2.4444344 2.439213 ]\n",
            " [2.3736887 2.3735602 2.4338903 2.4399476]\n",
            " [2.363687  2.376423  2.4387372 2.4358037]\n",
            " [2.3698194 2.3763547 2.4384408 2.439387 ]\n",
            " [2.3679888 2.3757808 2.4274578 2.4387681]\n",
            " [2.3665931 2.372313  2.4272466 2.4320223]\n",
            " [2.3655403 2.3752139 2.4338748 2.4331558]\n",
            " [2.3678708 2.374183  2.4378963 2.4383807]\n",
            " [2.371205  2.3824062 2.4312384 2.4307683]\n",
            " [2.372588  2.3724551 2.4238763 2.431546 ]\n",
            " [2.3667045 2.3686368 2.4265232 2.421926 ]\n",
            " [2.3688395 2.3628304 2.4275942 2.4198036]]\n",
            "[[2.5468104 2.5062962 2.4919991 2.4720647]\n",
            " [2.5325174 2.4986632 2.4675722 2.4540699]\n",
            " [2.5284631 2.498259  2.476732  2.4574385]\n",
            " [2.5391629 2.5027072 2.483826  2.468779 ]\n",
            " [2.5359502 2.5043168 2.4826248 2.4632413]\n",
            " [2.535035  2.5065484 2.4769444 2.4640505]\n",
            " [2.5373912 2.509146  2.4732447 2.458105 ]\n",
            " [2.533977  2.5116765 2.4773781 2.4615614]\n",
            " [2.5319371 2.5115554 2.4799714 2.4629135]\n",
            " [2.535821  2.5108707 2.4787333 2.4638264]\n",
            " [2.5239294 2.513963  2.4852324 2.4618378]\n",
            " [2.5304902 2.5141165 2.4831636 2.4652972]\n",
            " [2.5316415 2.5148606 2.4785385 2.4696155]\n",
            " [2.5286832 2.5113564 2.478286  2.4683738]\n",
            " [2.5335085 2.510238  2.4809046 2.4674475]\n",
            " [2.5338252 2.5113266 2.4938881 2.4723794]\n",
            " [2.5414014 2.5156183 2.475448  2.4675152]\n",
            " [2.5387683 2.5098732 2.4822202 2.4595244]\n",
            " [2.5333276 2.49956   2.483744  2.463552 ]\n",
            " [2.537818  2.4921122 2.4853044 2.4592366]]\n",
            "[[2.713594  2.6376376 2.635439  2.6318927]\n",
            " [2.7017496 2.6233351 2.6180398 2.6162329]\n",
            " [2.6989346 2.6242406 2.6276245 2.6196368]\n",
            " [2.7084727 2.6265476 2.6284962 2.622186 ]\n",
            " [2.7072341 2.624676  2.6251233 2.6222284]\n",
            " [2.7011452 2.629156  2.6314487 2.6213343]\n",
            " [2.7049809 2.6265843 2.626448  2.6220236]\n",
            " [2.7007115 2.6312912 2.6298828 2.6218233]\n",
            " [2.6991854 2.6348116 2.6375453 2.6290329]\n",
            " [2.6978166 2.6347525 2.6345875 2.6273048]\n",
            " [2.687154  2.6361046 2.6333103 2.625941 ]\n",
            " [2.6933498 2.6337562 2.6348238 2.6271858]\n",
            " [2.6910598 2.6356106 2.6286922 2.6341786]\n",
            " [2.6902297 2.6367683 2.6329238 2.6316216]\n",
            " [2.6933842 2.6357307 2.6378887 2.6303585]\n",
            " [2.6929166 2.6320193 2.648501  2.6307292]\n",
            " [2.6974823 2.6410794 2.6293578 2.6255178]\n",
            " [2.6983337 2.6403222 2.635262  2.6202533]\n",
            " [2.6882138 2.624696  2.6422195 2.618283 ]\n",
            " [2.694621  2.6124275 2.6366735 2.6210852]]\n",
            "[[2.3691185 2.3524435 2.4437556 2.4108212]\n",
            " [2.3296244 2.3309398 2.4130561 2.3978481]\n",
            " [2.363273  2.3251708 2.431043  2.4103837]\n",
            " [2.3551471 2.331324  2.4165301 2.4164667]\n",
            " [2.3405423 2.3533556 2.4191046 2.4158375]\n",
            " [2.345785  2.3563695 2.4150822 2.4175534]\n",
            " [2.348655  2.330086  2.418687  2.4247353]\n",
            " [2.3543718 2.3370469 2.4246724 2.421392 ]\n",
            " [2.326507  2.3542933 2.4210713 2.4019358]\n",
            " [2.355658  2.3504763 2.4709463 2.4154701]\n",
            " [2.3238807 2.368756  2.4519875 2.4793837]\n",
            " [2.3491302 2.3685393 2.4467635 2.4551992]\n",
            " [2.3449924 2.3535209 2.4329224 2.442523 ]\n",
            " [2.3471546 2.355943  2.4140382 2.4155293]\n",
            " [2.340833  2.3603704 2.4382298 2.418862 ]\n",
            " [2.3356209 2.372504  2.420145  2.412414 ]\n",
            " [2.3547957 2.366397  2.403029  2.4357252]\n",
            " [2.3484688 2.365548  2.4033923 2.4027143]\n",
            " [2.3329768 2.3549597 2.3984783 2.4233978]\n",
            " [2.338691  2.3534534 2.4072733 2.420319 ]]\n",
            "[[2.3852024 2.387573  2.511631  2.5284436]\n",
            " [2.371718  2.391361  2.4917412 2.5051723]\n",
            " [2.3761535 2.3870332 2.4940445 2.5126133]\n",
            " [2.379921  2.3868175 2.4999542 2.5107965]\n",
            " [2.3794641 2.386252  2.5004032 2.5135212]\n",
            " [2.3743584 2.3880215 2.5002127 2.5133727]\n",
            " [2.380643  2.3832188 2.496959  2.509605 ]\n",
            " [2.3789122 2.3885367 2.5000417 2.5132673]\n",
            " [2.3798263 2.3891726 2.5034242 2.512918 ]\n",
            " [2.3811486 2.3828523 2.4945056 2.5111217]\n",
            " [2.376506  2.3845944 2.497076  2.5111494]\n",
            " [2.3810208 2.381524  2.5011249 2.5123165]\n",
            " [2.3797228 2.3834524 2.4918187 2.5130358]\n",
            " [2.3788428 2.384034  2.4947476 2.5135539]\n",
            " [2.3788455 2.3840456 2.499974  2.5135856]\n",
            " [2.3804111 2.3806777 2.501756  2.514373 ]\n",
            " [2.3828773 2.388479  2.5069776 2.5089908]\n",
            " [2.3839672 2.3838806 2.49455   2.5214472]\n",
            " [2.378977  2.3772805 2.5013282 2.5064669]\n",
            " [2.3815486 2.3704593 2.4979024 2.5104296]]\n",
            "[[2.6166408 2.5660608 2.5773673 2.5743923]\n",
            " [2.6078484 2.5569599 2.5619316 2.5600176]\n",
            " [2.6051795 2.558084  2.5687928 2.563339 ]\n",
            " [2.6150289 2.5611794 2.5741813 2.5667896]\n",
            " [2.6136024 2.560901  2.5719922 2.5660186]\n",
            " [2.6103232 2.5642347 2.5740533 2.5670784]\n",
            " [2.6141126 2.563962  2.5700095 2.5640132]\n",
            " [2.6111345 2.5677795 2.5730102 2.566636 ]\n",
            " [2.6112509 2.5702894 2.578947  2.5715005]\n",
            " [2.611324  2.568987  2.574683  2.5698245]\n",
            " [2.6032114 2.5694892 2.5740435 2.5686421]\n",
            " [2.608536  2.5669515 2.5764084 2.5676224]\n",
            " [2.6085703 2.5697765 2.5702608 2.5738053]\n",
            " [2.6079168 2.5681977 2.5750082 2.574551 ]\n",
            " [2.6118796 2.5672483 2.5799232 2.573647 ]\n",
            " [2.6121898 2.5639315 2.5904477 2.5756116]\n",
            " [2.6179268 2.5709398 2.5756867 2.5715199]\n",
            " [2.618221  2.5687406 2.57789   2.5673447]\n",
            " [2.6104987 2.5555894 2.5840282 2.565014 ]\n",
            " [2.61626   2.545397  2.5796356 2.5666025]]\n",
            "[[2.5669997 2.569135  2.5913086 2.5762422]\n",
            " [2.561685  2.5717108 2.577925  2.5673423]\n",
            " [2.5591526 2.5781815 2.5830514 2.5699437]\n",
            " [2.5701416 2.585605  2.5962212 2.581287 ]\n",
            " [2.5705912 2.5899403 2.598329  2.5764265]\n",
            " [2.5740485 2.5920515 2.585971  2.5789223]\n",
            " [2.5763214 2.5984986 2.5840468 2.5691662]\n",
            " [2.5749    2.6024399 2.5863705 2.576309 ]\n",
            " [2.5776813 2.6028395 2.5896053 2.5742877]\n",
            " [2.5842292 2.6023934 2.5880425 2.577203 ]\n",
            " [2.5779712 2.6036484 2.5878966 2.5794077]\n",
            " [2.5858824 2.603187  2.5870252 2.5750172]\n",
            " [2.5908437 2.6055372 2.5851986 2.5763578]\n",
            " [2.5899868 2.5964286 2.5910637 2.5813627]\n",
            " [2.5968282 2.5962605 2.5945964 2.5827124]\n",
            " [2.6035967 2.5948892 2.6078465 2.5887794]\n",
            " [2.613429  2.5932841 2.59503   2.589335 ]\n",
            " [2.6131773 2.586289  2.5966518 2.5782878]\n",
            " [2.613136  2.5772805 2.596677  2.5871332]\n",
            " [2.6171741 2.5691125 2.5979986 2.5815494]]\n",
            "[[2.5574179 2.5496964 2.590704  2.5834522]\n",
            " [2.5476897 2.5498605 2.5739903 2.5682456]\n",
            " [2.5470486 2.5524971 2.5773728 2.5718584]\n",
            " [2.5555956 2.5572832 2.5888653 2.5789943]\n",
            " [2.5548823 2.559484  2.5898945 2.5756369]\n",
            " [2.5558898 2.5610871 2.580797  2.5775654]\n",
            " [2.558787  2.5649924 2.57818   2.5694127]\n",
            " [2.5564501 2.5684364 2.5817568 2.5757656]\n",
            " [2.557668  2.5687637 2.5840375 2.5741193]\n",
            " [2.5623815 2.5667264 2.5805123 2.57534  ]\n",
            " [2.5555177 2.5678306 2.583048  2.5757427]\n",
            " [2.5615454 2.5672104 2.5835514 2.5749972]\n",
            " [2.5643494 2.5705593 2.578002  2.5761364]\n",
            " [2.562888  2.5652196 2.58205   2.5787346]\n",
            " [2.5674865 2.5650303 2.584567  2.5785797]\n",
            " [2.5713336 2.5643318 2.5958483 2.5828676]\n",
            " [2.5793264 2.56594   2.5862553 2.5810883]\n",
            " [2.578677  2.5603213 2.5851703 2.5765378]\n",
            " [2.5765977 2.5518882 2.5870872 2.578316 ]\n",
            " [2.580099  2.5446053 2.587061  2.575353 ]]\n",
            "[[2.1215603 2.1432085 2.2332096 2.2329273]\n",
            " [2.1139233 2.1512592 2.2180936 2.21874  ]\n",
            " [2.1167498 2.1491487 2.2233002 2.2270794]\n",
            " [2.1205096 2.1516192 2.2332249 2.231166 ]\n",
            " [2.11977   2.1561625 2.233765  2.232851 ]\n",
            " [2.1188285 2.156427  2.2249336 2.2340152]\n",
            " [2.123822  2.1533606 2.223206  2.224541 ]\n",
            " [2.124947  2.1587698 2.2262642 2.2309098]\n",
            " [2.1235766 2.1584299 2.2270503 2.2256818]\n",
            " [2.1306615 2.1525588 2.2239137 2.2264042]\n",
            " [2.1242278 2.1580894 2.22878   2.2293873]\n",
            " [2.1300144 2.1575356 2.2298925 2.2276914]\n",
            " [2.13123   2.1581318 2.222734  2.2296166]\n",
            " [2.1299267 2.154973  2.223203  2.2320626]\n",
            " [2.1310124 2.1576    2.2276306 2.2315326]\n",
            " [2.1342406 2.1593199 2.2304268 2.2353477]\n",
            " [2.1382315 2.1649134 2.2345262 2.230737 ]\n",
            " [2.1373143 2.1572602 2.2294812 2.2383578]\n",
            " [2.1362832 2.1596856 2.2315485 2.235168 ]\n",
            " [2.1396263 2.157111  2.233129  2.232347 ]]\n",
            "[[2.411753  2.418043  2.5331893 2.5470858]\n",
            " [2.404183  2.426836  2.5200279 2.5313978]\n",
            " [2.4081085 2.4249492 2.5226462 2.5382233]\n",
            " [2.4127707 2.4253776 2.5311968 2.5374265]\n",
            " [2.4142148 2.4254885 2.5311823 2.5397253]\n",
            " [2.4099414 2.426622  2.5299246 2.5405254]\n",
            " [2.4151778 2.4245272 2.5268633 2.5361693]\n",
            " [2.4143133 2.430018  2.5301268 2.5404363]\n",
            " [2.4158216 2.4322271 2.534031  2.5412154]\n",
            " [2.4181101 2.4281857 2.5297315 2.5401976]\n",
            " [2.4135058 2.4306085 2.5321872 2.5446353]\n",
            " [2.4186707 2.428431  2.5351725 2.5449224]\n",
            " [2.4186397 2.4318538 2.5282848 2.5457733]\n",
            " [2.41707   2.4321961 2.531794  2.548671 ]\n",
            " [2.4187937 2.4324746 2.534382  2.5476224]\n",
            " [2.421857  2.4306161 2.5388281 2.546815 ]\n",
            " [2.4265695 2.4363878 2.5447454 2.5437152]\n",
            " [2.4273896 2.4337206 2.5353215 2.5559607]\n",
            " [2.4238873 2.427897  2.5416417 2.5466092]\n",
            " [2.4280012 2.421032  2.5379152 2.5500033]]\n",
            "[[2.4464042 2.440071  2.5753002 2.5942   ]\n",
            " [2.4216058 2.4346814 2.5438275 2.5587523]\n",
            " [2.4271278 2.4283814 2.5452795 2.5669231]\n",
            " [2.429698  2.4277403 2.5467675 2.563488 ]\n",
            " [2.4269948 2.425365  2.5483854 2.5658672]\n",
            " [2.4204311 2.4288883 2.548588  2.5636098]\n",
            " [2.4281447 2.4209428 2.544613  2.5612674]\n",
            " [2.4242501 2.4264002 2.5477295 2.5637596]\n",
            " [2.4241116 2.4250796 2.5512664 2.5615427]\n",
            " [2.4247022 2.416687  2.5354657 2.5591698]\n",
            " [2.4189963 2.4171848 2.5379982 2.5525491]\n",
            " [2.4232864 2.4134305 2.5422738 2.5562174]\n",
            " [2.4200227 2.4133    2.529687  2.5553854]\n",
            " [2.4197702 2.4137053 2.5319917 2.5506291]\n",
            " [2.4173536 2.4133675 2.5405927 2.552688 ]\n",
            " [2.4179065 2.4075646 2.5401368 2.5558527]\n",
            " [2.4181252 2.4174893 2.5413444 2.5475662]\n",
            " [2.420323  2.4096558 2.5250437 2.5577898]\n",
            " [2.4129832 2.4006195 2.5319738 2.5358202]\n",
            " [2.413424  2.3927832 2.5291114 2.5401344]]\n",
            "[[2.2696743 2.2805178 2.37577   2.3861504]\n",
            " [2.2714717 2.2937524 2.3707042 2.3793821]\n",
            " [2.2740383 2.2926044 2.3749397 2.385958 ]\n",
            " [2.2800205 2.2934756 2.3860526 2.387187 ]\n",
            " [2.2810926 2.295833  2.385499  2.3904607]\n",
            " [2.2789035 2.2960324 2.3837967 2.3931086]\n",
            " [2.2835577 2.2944713 2.3816545 2.3865886]\n",
            " [2.2843893 2.2992647 2.3841193 2.3920367]\n",
            " [2.2865853 2.3014038 2.387503  2.3924978]\n",
            " [2.2895544 2.2970784 2.3855147 2.3917453]\n",
            " [2.2858715 2.2998028 2.3861723 2.3982778]\n",
            " [2.290937  2.2976289 2.3900535 2.3946278]\n",
            " [2.292269  2.3012586 2.3841054 2.3975434]\n",
            " [2.2912548 2.3001218 2.3880322 2.403243 ]\n",
            " [2.2937822 2.301437  2.3915727 2.402152 ]\n",
            " [2.2965167 2.3006597 2.3959286 2.4018686]\n",
            " [2.3013492 2.306491  2.4017448 2.3997433]\n",
            " [2.3010898 2.3042793 2.394377  2.4096906]\n",
            " [2.2984815 2.3015482 2.400343  2.4039655]\n",
            " [2.3029096 2.2965984 2.3970814 2.4062312]]\n",
            "[[1.8380132 1.8711522 1.8969319 1.8725231]\n",
            " [1.8375497 1.8789716 1.8886168 1.8699846]\n",
            " [1.8380729 1.8803492 1.8984385 1.8798112]\n",
            " [1.8429341 1.8856024 1.912123  1.8916911]\n",
            " [1.8402635 1.8982838 1.9137293 1.8936673]\n",
            " [1.8442492 1.8983201 1.8948123 1.896549 ]\n",
            " [1.848588  1.8962005 1.8946092 1.8787727]\n",
            " [1.8532887 1.9011749 1.8970616 1.8880075]\n",
            " [1.8490275 1.9001974 1.8945588 1.8771974]\n",
            " [1.8630111 1.8930136 1.8961909 1.8795646]\n",
            " [1.8536633 1.9031124 1.9001883 1.884286 ]\n",
            " [1.8604845 1.9028447 1.8995484 1.8778979]\n",
            " [1.8658874 1.9010648 1.8913808 1.8819313]\n",
            " [1.864592  1.8913268 1.8908085 1.8833245]\n",
            " [1.8673936 1.8971095 1.8991398 1.8841172]\n",
            " [1.8720202 1.9028136 1.9020395 1.8921107]\n",
            " [1.8784392 1.907556  1.8972235 1.88865  ]\n",
            " [1.8748327 1.8930135 1.901055  1.8837162]\n",
            " [1.8767757 1.9068398 1.8978486 1.894286 ]\n",
            " [1.8807453 1.9075718 1.9052498 1.8832501]]\n",
            "[[2.2961776 2.2979088 2.356659  2.3525925]\n",
            " [2.2869542 2.3001013 2.3387122 2.3360798]\n",
            " [2.2874475 2.2988446 2.343901  2.3420627]\n",
            " [2.2940717 2.302028  2.3535507 2.3484218]\n",
            " [2.2919512 2.305539  2.3542793 2.347682 ]\n",
            " [2.2917914 2.3065715 2.346812  2.3492982]\n",
            " [2.2958872 2.305937  2.3446078 2.3407786]\n",
            " [2.2950327 2.3098178 2.347651  2.3468213]\n",
            " [2.2948945 2.3089123 2.3487864 2.3434741]\n",
            " [2.2999613 2.3038087 2.3440301 2.3439715]\n",
            " [2.2931015 2.306798  2.3473728 2.3439112]\n",
            " [2.2985003 2.3055224 2.3490038 2.3424475]\n",
            " [2.3001568 2.3067708 2.3416557 2.3447387]\n",
            " [2.2991576 2.302507  2.3433552 2.3463361]\n",
            " [2.3015559 2.3034654 2.3484263 2.3465157]\n",
            " [2.303581  2.3034112 2.3541427 2.3513598]\n",
            " [2.3085861 2.3084857 2.3500423 2.346905 ]\n",
            " [2.30737   2.3011746 2.3465521 2.3477752]\n",
            " [2.3047988 2.2978675 2.3489583 2.3448215]\n",
            " [2.3074512 2.293307  2.349988  2.3420453]]\n",
            "[[2.3331742 2.325326  2.4205804 2.4403179]\n",
            " [2.3371596 2.3342357 2.4177854 2.4329484]\n",
            " [2.3392763 2.332329  2.4215765 2.438795 ]\n",
            " [2.3459604 2.3321352 2.430571  2.4363432]\n",
            " [2.346436  2.332753  2.4290624 2.4423597]\n",
            " [2.3424108 2.334105  2.4345405 2.4452133]\n",
            " [2.347872  2.3302476 2.4317567 2.4410212]\n",
            " [2.3480315 2.3348505 2.4334223 2.4454453]\n",
            " [2.3518867 2.3374872 2.4385808 2.4490898]\n",
            " [2.3506799 2.3318563 2.432654  2.4459248]\n",
            " [2.3489518 2.3319569 2.4284124 2.4499106]\n",
            " [2.3525963 2.3273609 2.4360683 2.443701 ]\n",
            " [2.3527853 2.331568  2.4284115 2.4489398]\n",
            " [2.3535306 2.3320415 2.4351153 2.4551003]\n",
            " [2.355554  2.3322697 2.4415421 2.454691 ]\n",
            " [2.3561635 2.3274078 2.444127  2.4534943]\n",
            " [2.359063  2.3364522 2.4487796 2.450177 ]\n",
            " [2.3600817 2.3359327 2.438784  2.4609575]\n",
            " [2.3544083 2.3289618 2.4484081 2.4486394]\n",
            " [2.358855  2.3218803 2.4413123 2.4550076]]\n",
            "[[1.950079  1.9577402 2.0353637 2.0421796]\n",
            " [1.9543941 1.9680672 2.0315948 2.037858 ]\n",
            " [1.9564697 1.9639764 2.0406263 2.0471647]\n",
            " [1.9613576 1.9638339 2.049031  2.049117 ]\n",
            " [1.9600633 1.9700907 2.0475245 2.0567038]\n",
            " [1.9567769 1.9707196 2.0476153 2.0591855]\n",
            " [1.9630908 1.9631575 2.0458763 2.050459 ]\n",
            " [1.9666328 1.968567  2.0471044 2.0552247]\n",
            " [1.9660949 1.9702414 2.0494556 2.0546389]\n",
            " [1.9700134 1.9621546 2.0471938 2.0522232]\n",
            " [1.9651951 1.9684157 2.0465045 2.057784 ]\n",
            " [1.9697354 1.9641292 2.0521219 2.0513146]\n",
            " [1.9707601 1.9642086 2.0435832 2.0582912]\n",
            " [1.9706916 1.9630084 2.0459611 2.0622988]\n",
            " [1.9716392 1.9658468 2.055342  2.062198 ]\n",
            " [1.9721962 1.9651968 2.0537472 2.0632322]\n",
            " [1.9740767 1.9759725 2.0593443 2.0583048]\n",
            " [1.9728887 1.9700986 2.0539222 2.0688174]\n",
            " [1.9687698 1.9743574 2.0601578 2.0620797]\n",
            " [1.9735768 1.9714729 2.0581982 2.0634005]]\n",
            "[[2.5868227 2.5677416 2.6669993 2.6827178]\n",
            " [2.574868  2.5682967 2.6497219 2.6621556]\n",
            " [2.5773163 2.5662568 2.652233  2.66768  ]\n",
            " [2.5831292 2.5665228 2.6578727 2.6654725]\n",
            " [2.584016  2.5644019 2.65706   2.6670463]\n",
            " [2.57805   2.5667677 2.660214  2.6672003]\n",
            " [2.5833776 2.5644426 2.65609   2.6655738]\n",
            " [2.5807498 2.569583  2.659504  2.6682131]\n",
            " [2.5823646 2.572291  2.664902  2.6722555]\n",
            " [2.5816226 2.5688615 2.6581216 2.6698985]\n",
            " [2.5765564 2.5695012 2.6595054 2.6708622]\n",
            " [2.5811784 2.5662777 2.6632867 2.6724834]\n",
            " [2.579959  2.570055  2.655794  2.6746206]\n",
            " [2.57882   2.5717006 2.6605208 2.6762338]\n",
            " [2.5807827 2.5704098 2.6635163 2.6751468]\n",
            " [2.5822895 2.5661306 2.6693978 2.6739655]\n",
            " [2.5865598 2.573173  2.670113  2.6697812]\n",
            " [2.588132  2.571746  2.6616204 2.6801085]\n",
            " [2.5818532 2.5600488 2.6697764 2.6680245]\n",
            " [2.5864332 2.5502853 2.6638455 2.6735227]]\n",
            "[[2.3538177 2.3627977 2.420434  2.4076579]\n",
            " [2.336762  2.3608227 2.395887  2.3864722]\n",
            " [2.3379397 2.3618808 2.3999422 2.3932016]\n",
            " [2.3434522 2.3669589 2.409231  2.4006486]\n",
            " [2.3413434 2.3708012 2.4115548 2.3971837]\n",
            " [2.3423223 2.3726153 2.3974812 2.3975139]\n",
            " [2.3462434 2.373199  2.395159  2.3876052]\n",
            " [2.344553  2.3778746 2.3990343 2.394534 ]\n",
            " [2.3425083 2.37619   2.3997033 2.3870845]\n",
            " [2.3512983 2.372113  2.3940651 2.3894098]\n",
            " [2.3420415 2.3760087 2.399622  2.3875768]\n",
            " [2.3486369 2.3767867 2.3979065 2.3882742]\n",
            " [2.3506002 2.377297  2.3901033 2.3877912]\n",
            " [2.349001  2.3703938 2.3905127 2.3858047]\n",
            " [2.3510685 2.3725362 2.3947525 2.3865957]\n",
            " [2.3552954 2.3740187 2.402142  2.393876 ]\n",
            " [2.3618221 2.3771055 2.3940878 2.389117 ]\n",
            " [2.3611841 2.3662271 2.3920538 2.3852148]\n",
            " [2.3599806 2.3646452 2.3912935 2.3858204]\n",
            " [2.362286  2.3601685 2.3952694 2.3792617]]\n",
            "[[2.503609  2.448198  2.438748  2.4424927]\n",
            " [2.5123212 2.4449008 2.4419203 2.4437315]\n",
            " [2.5077274 2.4473124 2.4480832 2.4453127]\n",
            " [2.520455  2.4504235 2.4568903 2.4465513]\n",
            " [2.5181985 2.4510903 2.4530056 2.4493158]\n",
            " [2.5178766 2.4530253 2.4589326 2.4533637]\n",
            " [2.5218806 2.4525025 2.456699  2.4490247]\n",
            " [2.5206978 2.4551566 2.4577818 2.4529822]\n",
            " [2.5240536 2.458604  2.4643228 2.4597037]\n",
            " [2.5216756 2.4566507 2.4595115 2.4569345]\n",
            " [2.5176518 2.4541986 2.4536471 2.4570475]\n",
            " [2.5216305 2.4502895 2.460956  2.4486866]\n",
            " [2.5229766 2.4549403 2.4548943 2.459547 ]\n",
            " [2.5245385 2.451917  2.4638221 2.467259 ]\n",
            " [2.5293624 2.452346  2.4711642 2.465433 ]\n",
            " [2.528136  2.448504  2.481545  2.4666932]\n",
            " [2.5321474 2.4568026 2.4677465 2.4646773]\n",
            " [2.5319426 2.4584725 2.4692173 2.4579139]\n",
            " [2.5236046 2.4456832 2.477406  2.4561155]\n",
            " [2.5300138 2.4365776 2.4698873 2.4600952]]\n",
            "[[2.2495275 2.227505  2.2037315 2.1823192]\n",
            " [2.2494009 2.2287834 2.1919882 2.177203 ]\n",
            " [2.2448788 2.228403  2.2021337 2.1812696]\n",
            " [2.256035  2.2331657 2.212971  2.1937315]\n",
            " [2.251985  2.2388806 2.2113247 2.1904259]\n",
            " [2.2542417 2.2390985 2.2047846 2.193946 ]\n",
            " [2.256546  2.240821  2.2029173 2.1847343]\n",
            " [2.25657   2.2429564 2.2057436 2.190798 ]\n",
            " [2.2551453 2.242285  2.2068279 2.1896331]\n",
            " [2.2610846 2.2395964 2.2080805 2.1910203]\n",
            " [2.2510102 2.2437105 2.212426  2.1921847]\n",
            " [2.2573102 2.2437093 2.2121596 2.1888933]\n",
            " [2.2601824 2.2443538 2.2083087 2.1960604]\n",
            " [2.2586071 2.2384589 2.2079723 2.1995423]\n",
            " [2.2631896 2.2396119 2.2124405 2.1983883]\n",
            " [2.263203  2.242768  2.2228591 2.204405 ]\n",
            " [2.269758  2.2475746 2.208925  2.2004354]\n",
            " [2.26586   2.2414048 2.216174  2.1924267]\n",
            " [2.2621908 2.2378461 2.2171488 2.1998203]\n",
            " [2.2666721 2.2344885 2.2199526 2.1936007]]\n",
            "[[2.5961723 2.5444765 2.5326042 2.5214121]\n",
            " [2.5851936 2.5347688 2.5122197 2.5044668]\n",
            " [2.580568  2.534374  2.5203664 2.5069065]\n",
            " [2.5918734 2.5380933 2.5269816 2.5152228]\n",
            " [2.5887601 2.5389025 2.5249498 2.5117676]\n",
            " [2.5870664 2.5414205 2.5243948 2.5133154]\n",
            " [2.5898397 2.5431468 2.5205972 2.5086184]\n",
            " [2.5864956 2.5454044 2.523937  2.5116987]\n",
            " [2.586182  2.546181  2.527687  2.5159307]\n",
            " [2.5867648 2.5447567 2.5243173 2.5149198]\n",
            " [2.5774236 2.5457604 2.5270152 2.5120714]\n",
            " [2.5827177 2.5438936 2.5282295 2.5127668]\n",
            " [2.583595  2.5458438 2.5228834 2.5191183]\n",
            " [2.5820465 2.5433958 2.5256374 2.5201976]\n",
            " [2.586987  2.5414305 2.5298555 2.5192692]\n",
            " [2.5861788 2.539684  2.5419493 2.5230467]\n",
            " [2.59259   2.5453942 2.5242653 2.518515 ]\n",
            " [2.5908751 2.5419648 2.5290022 2.5117338]\n",
            " [2.583855  2.5285032 2.533376  2.5120008]\n",
            " [2.5887644 2.5195105 2.5315585 2.511138 ]]\n",
            "[[2.4256876 2.4220166 2.43816   2.4277642]\n",
            " [2.4246674 2.427157  2.4275918 2.4192069]\n",
            " [2.4216232 2.429748  2.4332483 2.4215162]\n",
            " [2.432967  2.4349895 2.447482  2.4330282]\n",
            " [2.4308088 2.4402795 2.447514  2.430824 ]\n",
            " [2.4343314 2.4410233 2.4394498 2.4339864]\n",
            " [2.4369416 2.4468553 2.4386578 2.425245 ]\n",
            " [2.4355488 2.4492517 2.4409168 2.4317691]\n",
            " [2.4389122 2.447759  2.441391  2.4304326]\n",
            " [2.4430048 2.4452696 2.4414434 2.4315617]\n",
            " [2.4376628 2.445374  2.44025   2.4355896]\n",
            " [2.4445796 2.4434206 2.442875  2.42951  ]\n",
            " [2.449025  2.4448962 2.4368691 2.4324768]\n",
            " [2.4486785 2.4378076 2.4425478 2.4382932]\n",
            " [2.4555933 2.4358244 2.44827   2.4385338]\n",
            " [2.4591618 2.4342542 2.4587681 2.4456503]\n",
            " [2.4662926 2.434884  2.4480236 2.4445686]\n",
            " [2.464789  2.4289637 2.4485826 2.4366708]\n",
            " [2.4640646 2.4207113 2.4496608 2.440517 ]\n",
            " [2.466797  2.4133096 2.4504642 2.437102 ]]\n",
            "[[2.47797   2.43854   2.4207606 2.4032555]\n",
            " [2.4681895 2.432189  2.400222  2.3880339]\n",
            " [2.4634504 2.4314232 2.4093697 2.3910177]\n",
            " [2.4746487 2.4357395 2.417661  2.4023914]\n",
            " [2.4709096 2.4383574 2.41615   2.3980157]\n",
            " [2.470911  2.4400082 2.4116154 2.3999655]\n",
            " [2.4732428 2.4423566 2.4084797 2.3930593]\n",
            " [2.4706805 2.4443119 2.4119456 2.3972192]\n",
            " [2.4696014 2.443937  2.414016  2.398855 ]\n",
            " [2.4725657 2.4420965 2.4123535 2.3991241]\n",
            " [2.4623826 2.444562  2.4171078 2.3970723]\n",
            " [2.4681187 2.443764  2.4170156 2.3977664]\n",
            " [2.4698687 2.4448676 2.412123  2.4036028]\n",
            " [2.4677942 2.440995  2.4129589 2.4047065]\n",
            " [2.4727826 2.43988   2.416874  2.403827 ]\n",
            " [2.4723208 2.4404151 2.428794  2.4090297]\n",
            " [2.479132  2.4451969 2.411611  2.404502 ]\n",
            " [2.476148  2.440015  2.417709  2.3966334]\n",
            " [2.47085   2.4302268 2.419953  2.4000165]\n",
            " [2.4751203 2.4235005 2.4208665 2.3962934]]\n",
            "[[2.3688946 2.3741329 2.489296  2.5040934]\n",
            " [2.361617  2.3832583 2.4749618 2.4872303]\n",
            " [2.3654506 2.379701  2.4782467 2.4942193]\n",
            " [2.3703399 2.3794312 2.4862847 2.4940372]\n",
            " [2.3708184 2.3796136 2.4862761 2.4965765]\n",
            " [2.3663342 2.380601  2.486337  2.4975054]\n",
            " [2.3717182 2.3776355 2.4832954 2.4934351]\n",
            " [2.3707688 2.3826056 2.4863832 2.4974737]\n",
            " [2.372447  2.384064  2.489819  2.4983392]\n",
            " [2.3740299 2.3789244 2.484605  2.4969783]\n",
            " [2.3695176 2.3811684 2.4870331 2.5005996]\n",
            " [2.3742661 2.378453  2.490741  2.5008397]\n",
            " [2.3739448 2.381353  2.4831352 2.5019841]\n",
            " [2.372504  2.381983  2.4859624 2.5043285]\n",
            " [2.3737793 2.3819735 2.4897404 2.5036464]\n",
            " [2.3756697 2.379785  2.4928746 2.5031881]\n",
            " [2.37958   2.3865736 2.4989743 2.4993808]\n",
            " [2.3798492 2.3835905 2.4884396 2.5120838]\n",
            " [2.375761  2.3777256 2.4952016 2.5004408]\n",
            " [2.379053  2.3713799 2.491661  2.5042272]]\n",
            "[[2.5425055 2.5425422 2.6051002 2.5850296]\n",
            " [2.5501866 2.557964  2.5797074 2.585016 ]\n",
            " [2.5515826 2.5691032 2.5898988 2.5917726]\n",
            " [2.5713196 2.5593657 2.6086576 2.600069 ]\n",
            " [2.5721574 2.5630622 2.6079733 2.6048672]\n",
            " [2.5546794 2.571669  2.6125176 2.6060517]\n",
            " [2.5469792 2.57398   2.6016414 2.6035693]\n",
            " [2.543516  2.5861018 2.6000812 2.5995524]\n",
            " [2.5530124 2.5836911 2.6175373 2.5972357]\n",
            " [2.5636952 2.5838766 2.6318674 2.6092005]\n",
            " [2.5482433 2.5826452 2.603344  2.6292155]\n",
            " [2.5616663 2.5887866 2.5970244 2.6190293]\n",
            " [2.559808  2.580448  2.595305  2.599723 ]\n",
            " [2.5530846 2.5792944 2.6005208 2.5818808]\n",
            " [2.55936   2.582996  2.6144154 2.614041 ]\n",
            " [2.5730262 2.5587873 2.6407166 2.6217055]\n",
            " [2.5773695 2.5693254 2.5936847 2.6198394]\n",
            " [2.5929382 2.555421  2.5960245 2.598867 ]\n",
            " [2.586954  2.5431874 2.5998938 2.600342 ]\n",
            " [2.5840008 2.5320487 2.60245   2.5873296]]\n",
            "[[2.3794725 2.3710728 2.4916549 2.5125642]\n",
            " [2.3703468 2.3751438 2.4765806 2.4935524]\n",
            " [2.3744802 2.3708827 2.4800045 2.5010216]\n",
            " [2.3785522 2.3696434 2.4848564 2.4969885]\n",
            " [2.3790734 2.3683722 2.483934  2.5015366]\n",
            " [2.3721163 2.3702965 2.4886465 2.501729 ]\n",
            " [2.3784912 2.3642561 2.4848664 2.4997196]\n",
            " [2.3773465 2.3700325 2.4876516 2.5023696]\n",
            " [2.378532  2.3724716 2.4928854 2.50519  ]\n",
            " [2.3780994 2.3667576 2.4854102 2.5023246]\n",
            " [2.3737528 2.368571  2.4862957 2.5041904]\n",
            " [2.3779874 2.3648353 2.491283  2.5043707]\n",
            " [2.3759038 2.3676152 2.4828866 2.5071542]\n",
            " [2.375326  2.3701603 2.486539  2.5087755]\n",
            " [2.3753095 2.370278  2.4914374 2.508071 ]\n",
            " [2.376106  2.3661578 2.492969  2.5064135]\n",
            " [2.3781204 2.3758452 2.4993665 2.5010214]\n",
            " [2.3797722 2.3738966 2.4879165 2.5161922]\n",
            " [2.3732076 2.3666065 2.4969895 2.5005674]\n",
            " [2.3773165 2.359125  2.491094  2.5068452]]\n",
            "[[2.2061863 2.1978626 2.277708  2.2861962]\n",
            " [2.1998863 2.1998606 2.2629573 2.2705438]\n",
            " [2.201911  2.195756  2.269164  2.2779336]\n",
            " [2.2074018 2.1961288 2.2751737 2.2789297]\n",
            " [2.2051835 2.1979997 2.2744417 2.2825894]\n",
            " [2.2013407 2.1996713 2.2753296 2.2837825]\n",
            " [2.2071576 2.193695  2.272501  2.2783892]\n",
            " [2.2069154 2.1983845 2.2746482 2.2824807]\n",
            " [2.2068968 2.198812  2.2781208 2.282143 ]\n",
            " [2.2088835 2.1919937 2.2712202 2.2802308]\n",
            " [2.2031817 2.1946893 2.2716973 2.2804844]\n",
            " [2.2075303 2.1914334 2.2761579 2.2777526]\n",
            " [2.2068636 2.192366  2.2675035 2.2822812]\n",
            " [2.2067916 2.1914496 2.2695262 2.283301 ]\n",
            " [2.2068841 2.1927571 2.2774024 2.2835813]\n",
            " [2.2068014 2.1903706 2.278706  2.2857714]\n",
            " [2.2087858 2.200308  2.279112  2.2797747]\n",
            " [2.2087507 2.1952136 2.2716591 2.2871635]\n",
            " [2.2027726 2.1916509 2.27816   2.2762487]\n",
            " [2.2059453 2.1869042 2.2756653 2.2782645]]\n",
            "[[2.1885784 2.1775737 2.2521849 2.2650304]\n",
            " [2.1964982 2.1878395 2.2525244 2.263823 ]\n",
            " [2.1981692 2.1859798 2.2598417 2.2710116]\n",
            " [2.2050126 2.1854491 2.2679193 2.2699199]\n",
            " [2.2054389 2.1872191 2.265654  2.276189 ]\n",
            " [2.2009654 2.1883478 2.2711456 2.2791586]\n",
            " [2.2062988 2.1830566 2.2682276 2.2747002]\n",
            " [2.2077055 2.188112  2.269893  2.2787325]\n",
            " [2.2096512 2.19162   2.2758646 2.2822545]\n",
            " [2.2104313 2.1866639 2.273145  2.2798464]\n",
            " [2.2062044 2.1892002 2.2701285 2.285939 ]\n",
            " [2.2106247 2.1858032 2.2757084 2.2796612]\n",
            " [2.2104583 2.1892219 2.2696178 2.2864926]\n",
            " [2.2105792 2.1894617 2.2738109 2.2914066]\n",
            " [2.2119777 2.1917267 2.2801905 2.2905157]\n",
            " [2.2122917 2.1894124 2.2826583 2.288854 ]\n",
            " [2.2153015 2.20007   2.2859454 2.2850988]\n",
            " [2.215543  2.199371  2.2799423 2.2947814]\n",
            " [2.2092988 2.1967218 2.2889082 2.2865384]\n",
            " [2.2148986 2.191649  2.283132  2.291077 ]]\n",
            "[[2.4543989 2.439302  2.5301619 2.5461953]\n",
            " [2.451934  2.4446478 2.5223958 2.5352354]\n",
            " [2.453944  2.4436529 2.5263987 2.5409427]\n",
            " [2.4603467 2.4439025 2.533664  2.5386581]\n",
            " [2.4617755 2.44331   2.532052  2.5424755]\n",
            " [2.456687  2.4451551 2.5362275 2.5439405]\n",
            " [2.462007  2.4423225 2.532746  2.5411932]\n",
            " [2.461187  2.447535  2.5353098 2.5443833]\n",
            " [2.4634984 2.4511187 2.5412877 2.5489504]\n",
            " [2.4630432 2.4477036 2.5369334 2.5464597]\n",
            " [2.4591863 2.4487827 2.535478  2.55052  ]\n",
            " [2.4638498 2.4453104 2.5403388 2.5480464]\n",
            " [2.4634514 2.4493897 2.5339558 2.5522246]\n",
            " [2.4629197 2.450529  2.53969   2.5565598]\n",
            " [2.4652426 2.4504278 2.5437264 2.5553606]\n",
            " [2.4669495 2.4465992 2.5489497 2.5535915]\n",
            " [2.4710178 2.4543045 2.5511897 2.550546 ]\n",
            " [2.4724207 2.4541178 2.5437968 2.5606496]\n",
            " [2.466575  2.4453669 2.5524793 2.5509863]\n",
            " [2.4720814 2.4369333 2.5458608 2.5566595]]\n",
            "[[2.5260284 2.510161  2.6172805 2.6394176]\n",
            " [2.5223737 2.5151236 2.6085725 2.6255429]\n",
            " [2.5252495 2.5135388 2.6107323 2.6311033]\n",
            " [2.5313144 2.5131059 2.6177187 2.6267688]\n",
            " [2.5328171 2.5112622 2.6164496 2.631068 ]\n",
            " [2.5269632 2.5133848 2.6225154 2.632499 ]\n",
            " [2.5325754 2.510241  2.6187334 2.6307168]\n",
            " [2.5310543 2.51537   2.62132   2.633899 ]\n",
            " [2.5344152 2.518934  2.6275675 2.6389904]\n",
            " [2.5324564 2.5147927 2.6206374 2.6357465]\n",
            " [2.5297382 2.5144506 2.618304  2.6386209]\n",
            " [2.5336766 2.5101764 2.6245627 2.6364267]\n",
            " [2.5328176 2.5150652 2.6169841 2.6398752]\n",
            " [2.5327017 2.516934  2.623739  2.6440158]\n",
            " [2.5346565 2.5161824 2.6280193 2.6431074]\n",
            " [2.535924  2.5107183 2.6324394 2.6406484]\n",
            " [2.5396369 2.518892  2.6362102 2.637366 ]\n",
            " [2.5416083 2.5191634 2.6255693 2.6493828]\n",
            " [2.5350993 2.5083303 2.6356153 2.6355991]\n",
            " [2.5399985 2.498894  2.6275496 2.6431906]]\n",
            "[[2.4243896 2.3959959 2.4843683 2.5078819]\n",
            " [2.4319012 2.4033346 2.4870152 2.5059555]\n",
            " [2.4342642 2.4029262 2.49235   2.5121427]\n",
            " [2.4413862 2.4015229 2.498338  2.5058453]\n",
            " [2.4436448 2.399906  2.495374  2.5134382]\n",
            " [2.4364429 2.4024997 2.5069735 2.515755 ]\n",
            " [2.4424026 2.3970368 2.50287   2.515285 ]\n",
            " [2.4423227 2.402796  2.5045638 2.5175922]\n",
            " [2.4459949 2.4086416 2.5137484 2.5255468]\n",
            " [2.443172  2.4051805 2.5092309 2.5214908]\n",
            " [2.4403543 2.4052083 2.5024498 2.5277193]\n",
            " [2.4444485 2.4004273 2.5097244 2.5214834]\n",
            " [2.443054  2.4057071 2.5033784 2.5283616]\n",
            " [2.4436953 2.4082687 2.5109823 2.5332818]\n",
            " [2.4453692 2.4091868 2.5171046 2.5322084]\n",
            " [2.4459302 2.4032788 2.5207753 2.5277016]\n",
            " [2.4490526 2.414682  2.5235097 2.5247753]\n",
            " [2.4515853 2.4173422 2.5150442 2.5361679]\n",
            " [2.4429333 2.4083319 2.527427  2.5235367]\n",
            " [2.4497674 2.3992014 2.5169773 2.532846 ]]\n",
            "[[2.554471  2.5315142 2.6287727 2.6478267]\n",
            " [2.5496504 2.5351038 2.6191933 2.6345444]\n",
            " [2.5520477 2.5341132 2.6228876 2.6401463]\n",
            " [2.558355  2.5336897 2.628619  2.636347 ]\n",
            " [2.5604937 2.531535  2.6269026 2.6400998]\n",
            " [2.5536747 2.5340261 2.633522  2.6409197]\n",
            " [2.5591187 2.5310504 2.62924   2.640186 ]\n",
            " [2.5574374 2.5365558 2.6321125 2.642331 ]\n",
            " [2.559932  2.5409658 2.639298  2.6487172]\n",
            " [2.5582073 2.538235  2.6344185 2.6457052]\n",
            " [2.5540233 2.5388427 2.6327474 2.6496196]\n",
            " [2.5587199 2.5350845 2.6374655 2.648733 ]\n",
            " [2.5574632 2.5397027 2.6311576 2.6524448]\n",
            " [2.5566976 2.542198  2.6372566 2.655677 ]\n",
            " [2.5589044 2.5414371 2.640589  2.6544087]\n",
            " [2.560571  2.5365083 2.6462426 2.6512337]\n",
            " [2.5648277 2.5446992 2.6481616 2.6479802]\n",
            " [2.5669572 2.5455241 2.6401126 2.6594768]\n",
            " [2.5599763 2.5343337 2.65001   2.6479545]\n",
            " [2.565857  2.524324  2.6420088 2.6552598]]\n",
            "[[2.0382128 2.0456357 2.13378   2.1413982]\n",
            " [2.0362194 2.0541122 2.1231425 2.1302147]\n",
            " [2.0388107 2.0491214 2.1304529 2.1388566]\n",
            " [2.0433123 2.049057  2.1383576 2.1409187]\n",
            " [2.041635  2.053278  2.1374626 2.1461115]\n",
            " [2.0383036 2.0537338 2.1365278 2.1478956]\n",
            " [2.0441842 2.0472376 2.134437  2.1403844]\n",
            " [2.0459726 2.0521965 2.1364942 2.1451406]\n",
            " [2.0454416 2.052754  2.1384132 2.1437364]\n",
            " [2.0490055 2.045066  2.1345432 2.1420605]\n",
            " [2.0436637 2.050155  2.1363704 2.1454904]\n",
            " [2.0481164 2.0470042 2.1408505 2.1419702]\n",
            " [2.048304  2.0474346 2.1325123 2.1469116]\n",
            " [2.0477476 2.046762  2.133605  2.149775 ]\n",
            " [2.0480642 2.048877  2.1410406 2.149477 ]\n",
            " [2.0483744 2.048468  2.1405826 2.1510553]\n",
            " [2.0502613 2.058258  2.1461632 2.145472 ]\n",
            " [2.0491433 2.0526512 2.139235  2.1566226]\n",
            " [2.045048  2.0542297 2.144948  2.1478472]\n",
            " [2.0486326 2.0514605 2.1436539 2.1489203]]\n",
            "[[2.4991984 2.5013623 2.630806  2.648618 ]\n",
            " [2.4848902 2.5063384 2.6109788 2.6250682]\n",
            " [2.489533  2.5029154 2.612116  2.6319053]\n",
            " [2.493519  2.5027983 2.6187348 2.62972  ]\n",
            " [2.4942338 2.5012703 2.6192453 2.6314294]\n",
            " [2.4888554 2.502974  2.6188507 2.6311696]\n",
            " [2.4946914 2.4999743 2.615322  2.6281629]\n",
            " [2.4923818 2.5053954 2.61889   2.6317112]\n",
            " [2.4938376 2.5067966 2.622652  2.6323984]\n",
            " [2.4948988 2.501878  2.6147392 2.630862 ]\n",
            " [2.4902766 2.5032675 2.618131  2.6320221]\n",
            " [2.4950213 2.5005956 2.621522  2.634665 ]\n",
            " [2.4938948 2.5036123 2.613005  2.6343017]\n",
            " [2.492376  2.5047474 2.6164453 2.6352584]\n",
            " [2.4932168 2.504096  2.6195414 2.63469  ]\n",
            " [2.4956052 2.5008287 2.6232464 2.6343102]\n",
            " [2.4993553 2.5071075 2.6289012 2.629986 ]\n",
            " [2.5006652 2.5037143 2.6165726 2.6432583]\n",
            " [2.496116  2.4951384 2.6234329 2.6291828]\n",
            " [2.499165  2.4871247 2.619359  2.6337087]]\n",
            "[[2.519629  2.5239162 2.6411576 2.6545641]\n",
            " [2.506341  2.529257  2.6223671 2.6327422]\n",
            " [2.5100408 2.5272853 2.6233943 2.63888  ]\n",
            " [2.514696  2.5283043 2.6317258 2.6385527]\n",
            " [2.5156355 2.5276935 2.632427  2.639182 ]\n",
            " [2.511728  2.529099  2.6296074 2.6394258]\n",
            " [2.5168273 2.528128  2.6263876 2.6351004]\n",
            " [2.514664  2.533269  2.6301067 2.639478 ]\n",
            " [2.5162952 2.5345087 2.6331968 2.6395743]\n",
            " [2.51822   2.5303204 2.6266358 2.6387074]\n",
            " [2.5135386 2.5317936 2.6302414 2.6402838]\n",
            " [2.5185766 2.5296495 2.6330438 2.6423435]\n",
            " [2.5185025 2.5330255 2.62532   2.64194  ]\n",
            " [2.5169    2.5329835 2.6291869 2.6440635]\n",
            " [2.5188794 2.532245  2.631344  2.6433046]\n",
            " [2.5219946 2.529689  2.636746  2.6436567]\n",
            " [2.526853  2.534328  2.6408095 2.6401265]\n",
            " [2.5277693 2.5306332 2.6306417 2.650964 ]\n",
            " [2.5244787 2.5222902 2.6363058 2.640528 ]\n",
            " [2.5277429 2.5142908 2.633058  2.6435158]]\n",
            "[[2.1766622 2.159723  2.1354296 2.113003 ]\n",
            " [2.1778429 2.1621535 2.124577  2.1090133]\n",
            " [2.1734147 2.161231  2.1345592 2.1135077]\n",
            " [2.184367  2.166185  2.145666  2.1260228]\n",
            " [2.1795933 2.1728396 2.14405   2.1227467]\n",
            " [2.1825926 2.1725726 2.1368933 2.1265619]\n",
            " [2.1851144 2.1736255 2.135489  2.1167905]\n",
            " [2.1857655 2.1758006 2.1381435 2.1235285]\n",
            " [2.183947  2.1745045 2.1385152 2.1208913]\n",
            " [2.1908274 2.1710145 2.1395874 2.1225643]\n",
            " [2.1806052 2.1755238 2.14443   2.1234713]\n",
            " [2.1869478 2.1757119 2.1442435 2.1192806]\n",
            " [2.189896  2.175833  2.1401155 2.126902 ]\n",
            " [2.1886709 2.1691775 2.1390302 2.1307716]\n",
            " [2.1927273 2.1709523 2.1439548 2.1295125]\n",
            " [2.1924756 2.1748943 2.1534007 2.1363835]\n",
            " [2.1984172 2.1799524 2.1405115 2.1318831]\n",
            " [2.1942432 2.1728115 2.147614  2.1240113]\n",
            " [2.190825  2.1709168 2.148085  2.1315565]\n",
            " [2.1950283 2.1686895 2.1518178 2.1243656]]\n",
            "[[2.2717383 2.2663467 2.3457355 2.354312 ]\n",
            " [2.2693386 2.2727528 2.3357036 2.3432915]\n",
            " [2.2709167 2.270282  2.3415062 2.3498895]\n",
            " [2.2770698 2.2709515 2.3496397 2.351217 ]\n",
            " [2.276758  2.27278   2.348515  2.3544111]\n",
            " [2.2732859 2.2738104 2.3491518 2.3562758]\n",
            " [2.2782915 2.2704048 2.346371  2.350925 ]\n",
            " [2.2784243 2.2750995 2.3488479 2.3552144]\n",
            " [2.2793822 2.2768352 2.3526218 2.3565862]\n",
            " [2.2812443 2.271887  2.3490171 2.3550467]\n",
            " [2.2761881 2.2747068 2.3497307 2.3585253]\n",
            " [2.2809234 2.2719588 2.3536942 2.3557515]\n",
            " [2.2811258 2.2744205 2.3469915 2.3601582]\n",
            " [2.2804317 2.2740035 2.3500483 2.3637877]\n",
            " [2.2822053 2.2748842 2.3551016 2.3629673]\n",
            " [2.2832563 2.2732277 2.358782  2.3634424]\n",
            " [2.2868848 2.2811856 2.3608487 2.3593125]\n",
            " [2.2867012 2.2782695 2.3549879 2.3679605]\n",
            " [2.2820196 2.2740507 2.361543  2.36044  ]\n",
            " [2.2864263 2.2685866 2.358212  2.3628497]]\n",
            "[[2.4623535 2.451683  2.534018  2.5440397]\n",
            " [2.4652977 2.4641478 2.5316913 2.541383 ]\n",
            " [2.467613  2.465112  2.5376918 2.5474575]\n",
            " [2.4748294 2.4652095 2.54644   2.5471392]\n",
            " [2.4782276 2.4647846 2.5447638 2.550048 ]\n",
            " [2.4730246 2.4661908 2.5474885 2.5517108]\n",
            " [2.47734   2.4654531 2.543738  2.5492465]\n",
            " [2.4769855 2.471061  2.5469012 2.5522366]\n",
            " [2.4791193 2.4762652 2.554002  2.5575004]\n",
            " [2.4807754 2.4757264 2.5552301 2.5567052]\n",
            " [2.4748454 2.4785116 2.5552855 2.566164 ]\n",
            " [2.4811862 2.477057  2.5570428 2.5651424]\n",
            " [2.4812357 2.48196   2.5537262 2.5682414]\n",
            " [2.479032  2.4830782 2.5579934 2.5722992]\n",
            " [2.4822783 2.484081  2.5589275 2.5703208]\n",
            " [2.4857495 2.482949  2.5668957 2.5664005]\n",
            " [2.4922824 2.4892437 2.5689118 2.565211 ]\n",
            " [2.4931011 2.4904292 2.5648413 2.5747526]\n",
            " [2.488264  2.483885  2.5724974 2.5713074]\n",
            " [2.4950309 2.4760118 2.5667448 2.5756197]]\n",
            "[[2.1584928 2.1727345 2.2409477 2.23769  ]\n",
            " [2.154328  2.1830318 2.2267425 2.2255683]\n",
            " [2.155371  2.1798213 2.233166  2.2323093]\n",
            " [2.1617467 2.181991  2.2445204 2.2398388]\n",
            " [2.159929  2.1865106 2.244683  2.2399905]\n",
            " [2.159887  2.186122  2.237251  2.2422867]\n",
            " [2.163814  2.1852129 2.2356317 2.2330606]\n",
            " [2.1643362 2.1888938 2.238591  2.239286 ]\n",
            " [2.1642518 2.1879654 2.238716  2.2359614]\n",
            " [2.1699185 2.1825645 2.2370899 2.2367578]\n",
            " [2.1633775 2.187142  2.2423897 2.2402055]\n",
            " [2.168836  2.1863065 2.243912  2.238797 ]\n",
            " [2.1707954 2.1872754 2.2376103 2.2413232]\n",
            " [2.1689086 2.1841104 2.2375946 2.2447414]\n",
            " [2.1713822 2.185368  2.2416923 2.2441235]\n",
            " [2.1730795 2.1873348 2.246231  2.2478142]\n",
            " [2.1779556 2.1923146 2.2476292 2.2438862]\n",
            " [2.1753795 2.1859589 2.2438486 2.2493143]\n",
            " [2.1739502 2.1857736 2.246116  2.2470164]\n",
            " [2.1766717 2.183307  2.247898  2.244276 ]]\n",
            "[[2.5120184 2.5038416 2.5904937 2.6002862]\n",
            " [2.5054529 2.5102942 2.5772176 2.5853515]\n",
            " [2.5070472 2.5088072 2.5806508 2.5904646]\n",
            " [2.513963  2.5098476 2.5895545 2.5918655]\n",
            " [2.5147443 2.5096478 2.5889359 2.5925593]\n",
            " [2.5111744 2.5108638 2.5888    2.5939524]\n",
            " [2.5155392 2.5107982 2.5855234 2.5899966]\n",
            " [2.513821  2.5151138 2.5888715 2.5939136]\n",
            " [2.515941  2.5171795 2.5928028 2.5967202]\n",
            " [2.516836  2.5141926 2.5891032 2.5955536]\n",
            " [2.5118701 2.5155525 2.591268  2.598875 ]\n",
            " [2.516935  2.5132532 2.5943441 2.5992131]\n",
            " [2.5173662 2.5170553 2.5882037 2.6012657]\n",
            " [2.515666  2.517162  2.5922813 2.6048925]\n",
            " [2.5188851 2.5162005 2.5945158 2.60365  ]\n",
            " [2.5209548 2.5139544 2.6016362 2.6032894]\n",
            " [2.5264757 2.5190585 2.6024692 2.6005106]\n",
            " [2.5265558 2.5173512 2.595886  2.6087954]\n",
            " [2.522348  2.5080419 2.6023061 2.6013463]\n",
            " [2.5266974 2.5000231 2.5982656 2.6046286]]\n",
            "[[2.4324431 2.4430776 2.538259  2.5544753]\n",
            " [2.4366827 2.4580338 2.5333686 2.5446284]\n",
            " [2.4370174 2.4565287 2.535263  2.5481548]\n",
            " [2.4459164 2.457998  2.5494974 2.551436 ]\n",
            " [2.4461062 2.4600213 2.549077  2.5547833]\n",
            " [2.445926  2.4601727 2.5495133 2.5585573]\n",
            " [2.4500518 2.4623864 2.548196  2.5521681]\n",
            " [2.449369  2.4651325 2.5500174 2.5579855]\n",
            " [2.456265  2.464799  2.5514543 2.5603082]\n",
            " [2.4549098 2.4594438 2.54647   2.5581207]\n",
            " [2.4554496 2.4574313 2.5427763 2.5629003]\n",
            " [2.4597635 2.4527102 2.5510802 2.5561001]\n",
            " [2.4625802 2.4566543 2.5429468 2.5587804]\n",
            " [2.4631295 2.4549713 2.5516195 2.5681853]\n",
            " [2.4688492 2.4517894 2.557089  2.5682464]\n",
            " [2.4705343 2.4463177 2.5620666 2.5703127]\n",
            " [2.4750013 2.4500203 2.5665808 2.568654 ]\n",
            " [2.4745836 2.448213  2.5555408 2.5767152]\n",
            " [2.4728837 2.4381876 2.5625503 2.5658624]\n",
            " [2.4753313 2.4295049 2.557423  2.5708253]]\n",
            "[[2.4992862 2.4929168 2.5834265 2.5925467]\n",
            " [2.4900732 2.4982836 2.5675287 2.5752144]\n",
            " [2.4921155 2.496355  2.5708327 2.5807233]\n",
            " [2.4984384 2.497379  2.5791852 2.5821965]\n",
            " [2.4989355 2.4971592 2.5788968 2.5825467]\n",
            " [2.4952075 2.498446  2.5778224 2.5835   ]\n",
            " [2.4997373 2.4979138 2.5745022 2.5794387]\n",
            " [2.4978402 2.5023987 2.5780215 2.5833566]\n",
            " [2.499353  2.5040963 2.5816197 2.5852458]\n",
            " [2.5008063 2.5007596 2.5773222 2.584299 ]\n",
            " [2.4952915 2.5024946 2.5804796 2.5868633]\n",
            " [2.5004127 2.5003982 2.583055  2.588154 ]\n",
            " [2.5005813 2.5037656 2.5765185 2.5896316]\n",
            " [2.4987438 2.503792  2.579869  2.5922182]\n",
            " [2.5014536 2.5030065 2.582133  2.5911036]\n",
            " [2.5035558 2.5010698 2.588774  2.5911362]\n",
            " [2.5088763 2.50628   2.5897222 2.5878396]\n",
            " [2.5089483 2.5037189 2.5828097 2.596355 ]\n",
            " [2.5047832 2.4949846 2.5887616 2.5884647]\n",
            " [2.508779  2.4872787 2.5854068 2.5911999]]\n",
            "[[2.2219906 2.231936  2.200303  2.160652 ]\n",
            " [2.2094839 2.237834  2.172739  2.144129 ]\n",
            " [2.20484   2.2356038 2.1843858 2.1483066]\n",
            " [2.2154684 2.243295  2.199636  2.1728084]\n",
            " [2.2108996 2.2514627 2.2001817 2.1652887]\n",
            " [2.216648  2.2499218 2.1792922 2.165858 ]\n",
            " [2.216922  2.2556908 2.1783514 2.1511493]\n",
            " [2.2165556 2.2575226 2.183543  2.1596916]\n",
            " [2.2134643 2.251309  2.1775794 2.1512887]\n",
            " [2.224816  2.2475848 2.18026   2.1563091]\n",
            " [2.2109406 2.2553353 2.1948433 2.154923 ]\n",
            " [2.21911   2.2580588 2.1896844 2.1590056]\n",
            " [2.2239046 2.2547615 2.1870942 2.161138 ]\n",
            " [2.2199097 2.2473233 2.1810184 2.1628487]\n",
            " [2.225944  2.2450578 2.1833725 2.161425 ]\n",
            " [2.2280862 2.2526867 2.1962972 2.173012 ]\n",
            " [2.2366927 2.250782  2.1806326 2.169472 ]\n",
            " [2.2285955 2.2380466 2.1917818 2.159601 ]\n",
            " [2.2315524 2.237067  2.18486   2.1731093]\n",
            " [2.2322245 2.23462   2.1958823 2.1592546]]\n",
            "[[2.426344  2.3932512 2.4192257 2.4189212]\n",
            " [2.4232626 2.39305   2.4065955 2.4073915]\n",
            " [2.4207392 2.3911443 2.4147499 2.4112976]\n",
            " [2.430408  2.393099  2.4222465 2.4168184]\n",
            " [2.428713  2.3945887 2.4199026 2.417357 ]\n",
            " [2.4260087 2.3963299 2.42249   2.4195976]\n",
            " [2.4298408 2.3956983 2.4191954 2.415303 ]\n",
            " [2.4284508 2.3986742 2.421808  2.4184136]\n",
            " [2.429543  2.3999782 2.425757  2.4231536]\n",
            " [2.4293137 2.3968115 2.4233704 2.4212253]\n",
            " [2.4229543 2.398363  2.4231746 2.422414 ]\n",
            " [2.427896  2.3951786 2.4268105 2.4196765]\n",
            " [2.4286337 2.3972557 2.4212499 2.4263818]\n",
            " [2.4277475 2.396528  2.424992  2.4301195]\n",
            " [2.4319053 2.3950255 2.4303186 2.4293363]\n",
            " [2.431334  2.392405  2.4381173 2.4313264]\n",
            " [2.4360783 2.3995907 2.4301088 2.4271238]\n",
            " [2.4348516 2.397478  2.4301572 2.4282894]\n",
            " [2.4286745 2.387406  2.436536  2.4242063]\n",
            " [2.4336119 2.379605  2.4330654 2.4260416]]\n",
            "[[1.9767988 1.9821833 2.078257  2.0885153]\n",
            " [1.9720886 1.9873198 2.0657933 2.074914 ]\n",
            " [1.976028  1.9815558 2.0738728 2.084713 ]\n",
            " [1.9790702 1.9804598 2.079844  2.0852745]\n",
            " [1.9768286 1.98542   2.0794492 2.0932608]\n",
            " [1.9720445 1.9868169 2.0794601 2.094189 ]\n",
            " [1.979124  1.9770225 2.0770838 2.0862079]\n",
            " [1.9814411 1.9825299 2.0786881 2.090334 ]\n",
            " [1.9801908 1.9833624 2.0806677 2.088314 ]\n",
            " [1.9836487 1.9734945 2.074963  2.0857887]\n",
            " [1.9781075 1.9793369 2.07541   2.0878308]\n",
            " [1.9824514 1.9749508 2.0807753 2.0840595]\n",
            " [1.9819661 1.9740593 2.0715466 2.0893686]\n",
            " [1.9821182 1.973933  2.0731542 2.0910852]\n",
            " [1.9808352 1.9764766 2.0829375 2.092242 ]\n",
            " [1.9810236 1.9743828 2.0794861 2.0931683]\n",
            " [1.9812443 1.9864438 2.0853465 2.0864265]\n",
            " [1.9809101 1.978997  2.0770502 2.0986757]\n",
            " [1.9756652 1.9820874 2.0834477 2.0880654]\n",
            " [1.9788824 1.979282  2.0819314 2.0896616]]\n",
            "[[2.0568993 2.05108   2.0254445 2.0003042]\n",
            " [2.0559797 2.0542495 2.0116625 1.993617 ]\n",
            " [2.051939  2.0516067 2.0215447 1.9989974]\n",
            " [2.0616722 2.057396  2.0337656 2.0132477]\n",
            " [2.0561376 2.065613  2.031988  2.0097108]\n",
            " [2.0603762 2.0641289 2.021476  2.0129657]\n",
            " [2.062944  2.064173  2.0206697 2.0011313]\n",
            " [2.0646236 2.066716  2.0239472 2.0095215]\n",
            " [2.0615664 2.0633688 2.0216525 2.0035818]\n",
            " [2.070505  2.057771  2.0218341 2.0058982]\n",
            " [2.059628  2.0638733 2.0291426 2.004714 ]\n",
            " [2.0657737 2.0643978 2.028659  2.0001237]\n",
            " [2.068911  2.0626948 2.0239856 2.0079863]\n",
            " [2.067796  2.0556076 2.020756  2.012304 ]\n",
            " [2.0711849 2.0568814 2.0270846 2.010478 ]\n",
            " [2.0706165 2.0625687 2.0356915 2.0205934]\n",
            " [2.0756698 2.0666103 2.0240338 2.0159826]\n",
            " [2.070081  2.0570922 2.0314622 2.0085711]\n",
            " [2.0683198 2.0577903 2.03001   2.0160048]\n",
            " [2.0714498 2.0571659 2.036079  2.0064666]]\n",
            "[[2.1880755 2.2017992 2.2970524 2.3102217]\n",
            " [2.201982  2.2252169 2.303211  2.315175 ]\n",
            " [2.2041757 2.2241974 2.3099215 2.321867 ]\n",
            " [2.211298  2.2237437 2.3226576 2.323209 ]\n",
            " [2.2142875 2.2266133 2.3207862 2.3287504]\n",
            " [2.2113729 2.2258668 2.3230133 2.3327231]\n",
            " [2.2155843 2.224683  2.3209305 2.3270388]\n",
            " [2.218032  2.2293763 2.322994  2.331848 ]\n",
            " [2.2217903 2.2332559 2.3275673 2.3356655]\n",
            " [2.223709  2.2302053 2.3305979 2.3346121]\n",
            " [2.2210639 2.2337556 2.329282  2.3471522]\n",
            " [2.2265913 2.2315433 2.3337746 2.3411844]\n",
            " [2.2282763 2.2361476 2.3304057 2.345743 ]\n",
            " [2.2267835 2.2367556 2.334897  2.3548193]\n",
            " [2.2304494 2.2383013 2.337283  2.3529453]\n",
            " [2.2331975 2.238178  2.3417106 2.3496265]\n",
            " [2.238456  2.2445562 2.351625  2.3490574]\n",
            " [2.2376544 2.2458222 2.345202  2.3627553]\n",
            " [2.2352972 2.2447274 2.3529015 2.358803 ]\n",
            " [2.2412775 2.2403347 2.3479514 2.362987 ]]\n",
            "[[2.2765982 2.2457519 2.225522  2.2083092]\n",
            " [2.275488  2.243726  2.2138793 2.2021127]\n",
            " [2.2713563 2.2430248 2.2232652 2.2064853]\n",
            " [2.2822218 2.247301  2.2318633 2.2157478]\n",
            " [2.2778122 2.2520082 2.2296515 2.213417 ]\n",
            " [2.2787561 2.2528286 2.2264545 2.2164195]\n",
            " [2.2819226 2.252544  2.224322  2.2091331]\n",
            " [2.2817187 2.255304  2.2268777 2.2145321]\n",
            " [2.2800024 2.2551594 2.229164  2.2141092]\n",
            " [2.2849576 2.2521448 2.2283182 2.2145894]\n",
            " [2.2747507 2.2555368 2.2316082 2.2144578]\n",
            " [2.2808487 2.2548852 2.232236  2.2108684]\n",
            " [2.282525  2.255421  2.2273476 2.2190168]\n",
            " [2.2817438 2.2501469 2.227528  2.2216747]\n",
            " [2.2853117 2.2514691 2.2330334 2.2203417]\n",
            " [2.284599  2.2534838 2.2423544 2.2259288]\n",
            " [2.2899287 2.2600722 2.2282948 2.220899 ]\n",
            " [2.287085  2.2542398 2.2343953 2.2138083]\n",
            " [2.2815127 2.2493002 2.236784  2.2181432]\n",
            " [2.2864084 2.2449262 2.2380958 2.2135313]]\n",
            "[[2.5072327 2.4931102 2.586278  2.5997393]\n",
            " [2.4988143 2.4963849 2.5718732 2.5827713]\n",
            " [2.5009565 2.4944556 2.575266  2.5884242]\n",
            " [2.5070732 2.4948885 2.5821395 2.5875318]\n",
            " [2.5078304 2.49394   2.5812557 2.5894036]\n",
            " [2.5027945 2.4957848 2.5834405 2.590207 ]\n",
            " [2.5078607 2.4936993 2.5797515 2.5874138]\n",
            " [2.506045  2.4986074 2.5829375 2.5906267]\n",
            " [2.5077188 2.5011384 2.587827  2.5940545]\n",
            " [2.507768  2.4975524 2.5824869 2.5920718]\n",
            " [2.5028186 2.4987764 2.583703  2.5942929]\n",
            " [2.5075524 2.4958036 2.587437  2.5946128]\n",
            " [2.5069685 2.4994256 2.580508  2.5972497]\n",
            " [2.505808  2.5004272 2.5848856 2.5998535]\n",
            " [2.508006  2.4996707 2.5881064 2.5987644]\n",
            " [2.5095894 2.4963052 2.5938108 2.5978882]\n",
            " [2.5140111 2.503159  2.5950255 2.5941432]\n",
            " [2.5149636 2.5015867 2.5874233 2.6038833]\n",
            " [2.509421  2.491911  2.595028  2.5937257]\n",
            " [2.5140057 2.483361  2.5898428 2.5983005]]\n",
            "[[2.2136905 2.2082899 2.1822133 2.1493835]\n",
            " [2.2028947 2.2095141 2.1572306 2.1339695]\n",
            " [2.198512  2.2070484 2.168014  2.138352 ]\n",
            " [2.2088354 2.2130413 2.180701  2.1579306]\n",
            " [2.2033503 2.2199075 2.1808906 2.1507063]\n",
            " [2.2077553 2.2192478 2.1647825 2.1529243]\n",
            " [2.208993  2.2232316 2.1632466 2.1400754]\n",
            " [2.2079263 2.2244039 2.1675456 2.1473   ]\n",
            " [2.2048366 2.2201326 2.1643271 2.1412911]\n",
            " [2.2140377 2.2164915 2.1653655 2.144952 ]\n",
            " [2.2016366 2.222579  2.1762953 2.143128 ]\n",
            " [2.2083564 2.224461  2.172789  2.144888 ]\n",
            " [2.212213  2.2228115 2.1684628 2.1482637]\n",
            " [2.2085855 2.215544  2.164069  2.148821 ]\n",
            " [2.2134726 2.2155814 2.1678028 2.1482918]\n",
            " [2.2140052 2.2217422 2.1794808 2.1583602]\n",
            " [2.221764  2.2231402 2.163269  2.1541612]\n",
            " [2.2152212 2.2126236 2.1715376 2.1434004]\n",
            " [2.2148075 2.2112052 2.167747  2.1531446]\n",
            " [2.216486  2.2098799 2.1761618 2.1419342]]\n",
            "[[2.264757  2.4478703 2.4556913 2.3212178]\n",
            " [2.2274265 2.4605806 2.3922164 2.2659202]\n",
            " [2.22363   2.446689  2.399039  2.26646  ]\n",
            " [2.2386804 2.4617624 2.425894  2.3028882]\n",
            " [2.2278516 2.4660556 2.4275086 2.302608 ]\n",
            " [2.2344368 2.4712205 2.4060144 2.295295 ]\n",
            " [2.2370982 2.4757206 2.4056478 2.2767782]\n",
            " [2.2321565 2.4795418 2.4117928 2.2859135]\n",
            " [2.2358763 2.463148  2.3970184 2.278113 ]\n",
            " [2.2381682 2.4477098 2.37878   2.2757266]\n",
            " [2.227941  2.4536607 2.3917403 2.2592442]\n",
            " [2.2394943 2.444116  2.4016116 2.27652  ]\n",
            " [2.2450984 2.4356701 2.391259  2.2692068]\n",
            " [2.2437768 2.43814   2.385257  2.2732334]\n",
            " [2.2543066 2.4136178 2.395878  2.2796416]\n",
            " [2.255097  2.4059412 2.397527  2.2900739]\n",
            " [2.2645302 2.4015255 2.389607  2.2734149]\n",
            " [2.2500339 2.3804963 2.3841631 2.2875767]\n",
            " [2.259636  2.3673098 2.3800921 2.2729611]\n",
            " [2.2512178 2.3547206 2.385808  2.2702765]]\n",
            "[[2.147002  2.2252226 2.1905994 2.0931635]\n",
            " [2.1261902 2.2281327 2.1552587 2.0685039]\n",
            " [2.1285474 2.2232697 2.1615708 2.077946 ]\n",
            " [2.1393805 2.2309878 2.1806135 2.0896919]\n",
            " [2.1376026 2.2297614 2.174152  2.0921476]\n",
            " [2.133569  2.2303362 2.1664355 2.086321 ]\n",
            " [2.1325285 2.2271645 2.1628318 2.074635 ]\n",
            " [2.1317954 2.2383683 2.1714787 2.0838237]\n",
            " [2.129734  2.2344816 2.170426  2.0755627]\n",
            " [2.1402113 2.23048   2.158642  2.0780938]\n",
            " [2.1183887 2.236444  2.1797276 2.0758283]\n",
            " [2.132094  2.24247   2.177457  2.0890312]\n",
            " [2.1258485 2.2368217 2.1724885 2.0894578]\n",
            " [2.1233764 2.2414014 2.1623998 2.0894618]\n",
            " [2.1290526 2.2338493 2.1685143 2.0846198]\n",
            " [2.128621  2.2381823 2.1810615 2.0931923]\n",
            " [2.1370375 2.2403686 2.1707382 2.0855246]\n",
            " [2.1275735 2.2333932 2.1773589 2.089738 ]\n",
            " [2.1254807 2.2325585 2.175825  2.0894659]\n",
            " [2.12867   2.2214406 2.1759753 2.0873575]]\n",
            "[[2.5388846 2.514759  2.569409  2.5677948]\n",
            " [2.513818  2.4833012 2.5302362 2.520476 ]\n",
            " [2.5047188 2.4854877 2.5219655 2.5280125]\n",
            " [2.5142972 2.48736   2.537427  2.521063 ]\n",
            " [2.510518  2.5050206 2.530153  2.5227664]\n",
            " [2.5046046 2.4930706 2.5393782 2.5263493]\n",
            " [2.490182  2.5044086 2.5394971 2.514001 ]\n",
            " [2.503876  2.5150177 2.5457685 2.5356076]\n",
            " [2.510173  2.516002  2.5331888 2.5255914]\n",
            " [2.514981  2.5075436 2.532292  2.5224948]\n",
            " [2.5048726 2.5015173 2.547479  2.531317 ]\n",
            " [2.4825983 2.509092  2.5578759 2.5130117]\n",
            " [2.4896612 2.523097  2.5486298 2.5257664]\n",
            " [2.5033333 2.5155122 2.5370326 2.5436666]\n",
            " [2.5114017 2.5111744 2.523184  2.5273094]\n",
            " [2.4930837 2.5130444 2.5072424 2.5240126]\n",
            " [2.5074735 2.5235999 2.5305169 2.503681 ]\n",
            " [2.519529  2.5175316 2.555906  2.5540862]\n",
            " [2.5160906 2.4935584 2.5625224 2.5406156]\n",
            " [2.520111  2.4881487 2.5635982 2.5369897]]\n",
            "[[2.2841992 2.2738738 2.3548856 2.3660088]\n",
            " [2.2805579 2.2778444 2.3436055 2.352839 ]\n",
            " [2.28206   2.274729  2.3490617 2.3593411]\n",
            " [2.2881105 2.275154  2.3562472 2.359632 ]\n",
            " [2.287281  2.2765288 2.3549683 2.3633714]\n",
            " [2.2833009 2.2778912 2.3572066 2.3650885]\n",
            " [2.2886581 2.2735474 2.3542764 2.3602695]\n",
            " [2.2884984 2.278187  2.3565755 2.3642867]\n",
            " [2.2895825 2.2797246 2.360503  2.3660972]\n",
            " [2.2903612 2.2740445 2.35513   2.363836 ]\n",
            " [2.2857547 2.2762082 2.3550344 2.3657477]\n",
            " [2.2899623 2.2727337 2.360043  2.3626804]\n",
            " [2.2897222 2.2750735 2.3524344 2.367625 ]\n",
            " [2.2895546 2.275063  2.3559802 2.3710077]\n",
            " [2.2909381 2.2755787 2.3620322 2.3704088]\n",
            " [2.291223  2.2727997 2.3648615 2.371051 ]\n",
            " [2.2940302 2.2817216 2.366646  2.366201 ]\n",
            " [2.294175  2.2787795 2.3597941 2.3752265]\n",
            " [2.2886226 2.273397  2.3671677 2.365281 ]\n",
            " [2.292798  2.2674394 2.363081  2.3686342]]\n",
            "[[2.1759567 2.1849444 2.1644373 2.1411314]\n",
            " [2.1519449 2.1756597 2.1098466 2.094058 ]\n",
            " [2.1372662 2.1615267 2.1270552 2.0922868]\n",
            " [2.156849  2.170359  2.1237302 2.1248164]\n",
            " [2.1443963 2.1832259 2.1220894 2.1117046]\n",
            " [2.149225  2.1862874 2.128348  2.1113207]\n",
            " [2.156565  2.1901927 2.1306412 2.1190605]\n",
            " [2.1546774 2.1898763 2.1280944 2.113637 ]\n",
            " [2.1572757 2.172694  2.121571  2.117133 ]\n",
            " [2.1552145 2.1630445 2.123514  2.115648 ]\n",
            " [2.154655  2.1605515 2.1063185 2.1180625]\n",
            " [2.1648    2.1425264 2.113354  2.0934484]\n",
            " [2.171987  2.1192722 2.096153  2.1002991]\n",
            " [2.1751864 2.106783  2.100754  2.0958312]\n",
            " [2.1909776 2.0861683 2.1351085 2.1038556]\n",
            " [2.187444  2.0694811 2.1319394 2.1415188]\n",
            " [2.1860342 2.0665257 2.1079106 2.1357381]\n",
            " [2.1824667 2.0454502 2.1052015 2.1140513]\n",
            " [2.181938  2.0149472 2.100816  2.0919666]\n",
            " [2.1770902 1.9935843 2.110768  2.086602 ]]\n",
            "[[2.3119898 2.2979684 2.2715168 2.2431574]\n",
            " [2.3069434 2.3007383 2.2535274 2.2336943]\n",
            " [2.302059  2.3002646 2.26398   2.2371027]\n",
            " [2.3135757 2.3058147 2.276819  2.2543187]\n",
            " [2.3095646 2.3116856 2.2763495 2.2480762]\n",
            " [2.3131297 2.3115473 2.264288  2.251255 ]\n",
            " [2.3142457 2.3166087 2.2624204 2.2402256]\n",
            " [2.3131392 2.3178093 2.2661743 2.2466252]\n",
            " [2.3116565 2.3158545 2.265352  2.2441988]\n",
            " [2.3188436 2.3141036 2.2681596 2.2470303]\n",
            " [2.307834  2.3188474 2.2759495 2.2482085]\n",
            " [2.314565  2.320123  2.2734923 2.2483566]\n",
            " [2.318584  2.3205206 2.2702906 2.2527103]\n",
            " [2.3152602 2.3139908 2.2685003 2.2551494]\n",
            " [2.321229  2.3140733 2.2709677 2.2542658]\n",
            " [2.3221736 2.3187256 2.2838144 2.2613645]\n",
            " [2.3307874 2.3204813 2.268089  2.2582705]\n",
            " [2.32547   2.3131137 2.2765384 2.2482767]\n",
            " [2.3240285 2.3092344 2.2749786 2.2586703]\n",
            " [2.327387  2.3062294 2.280396  2.250091 ]]\n",
            "[[2.4044118 2.6642363 2.6590967 2.4327226]\n",
            " [2.354937  2.6578116 2.5823574 2.370311 ]\n",
            " [2.3558354 2.654154  2.5953882 2.3808928]\n",
            " [2.3708413 2.6641965 2.6051373 2.4068449]\n",
            " [2.3682168 2.6651108 2.60812   2.401323 ]\n",
            " [2.3644722 2.6732392 2.6022427 2.388804 ]\n",
            " [2.3649535 2.669961  2.5955317 2.3896337]\n",
            " [2.3649077 2.6811783 2.6076405 2.3885822]\n",
            " [2.3598936 2.6786656 2.6091785 2.3881028]\n",
            " [2.3686244 2.6673667 2.5915089 2.388649 ]\n",
            " [2.3460732 2.6747212 2.5955997 2.3871813]\n",
            " [2.3687782 2.6669917 2.5943732 2.4063437]\n",
            " [2.363876  2.6629272 2.5862985 2.3890738]\n",
            " [2.3651724 2.6665843 2.572983  2.3703065]\n",
            " [2.3699799 2.6478486 2.5900307 2.3777063]\n",
            " [2.3749576 2.6373882 2.5900927 2.3813386]\n",
            " [2.3898103 2.63485   2.566199  2.3722165]\n",
            " [2.3776767 2.622394  2.562385  2.3736856]\n",
            " [2.381594  2.6117716 2.561744  2.3561523]\n",
            " [2.3771484 2.5874457 2.558629  2.3611777]]\n",
            "[[2.2657673 2.2305167 2.2148514 2.2016613]\n",
            " [2.260941  2.223314  2.1998305 2.1902347]\n",
            " [2.2567964 2.221087  2.207565  2.194568 ]\n",
            " [2.2670505 2.2254653 2.214523  2.2016604]\n",
            " [2.2608626 2.229966  2.212285  2.1998427]\n",
            " [2.2618954 2.2309966 2.2103107 2.2025447]\n",
            " [2.2660878 2.2286189 2.2084208 2.195533 ]\n",
            " [2.2655227 2.2313066 2.2106318 2.201033 ]\n",
            " [2.263567  2.2300131 2.2122598 2.1996279]\n",
            " [2.2674103 2.2249029 2.2071574 2.1991699]\n",
            " [2.2580957 2.2271    2.2099564 2.1948817]\n",
            " [2.263296  2.2253852 2.212513  2.1904612]\n",
            " [2.264204  2.2250466 2.2053397 2.199604 ]\n",
            " [2.2647333 2.2195604 2.2060788 2.2022169]\n",
            " [2.2671132 2.2206388 2.2138112 2.2011263]\n",
            " [2.2650332 2.221155  2.2211535 2.2084396]\n",
            " [2.2681015 2.2290864 2.2070565 2.2017465]\n",
            " [2.2658176 2.222043  2.2108014 2.1947212]\n",
            " [2.2590728 2.2157068 2.2137876 2.1946275]\n",
            " [2.2631278 2.2111323 2.2147493 2.1906643]]\n",
            "[[2.2391922 2.254741  2.318706  2.333044 ]\n",
            " [2.273865  2.2903593 2.341481  2.3527656]\n",
            " [2.2728734 2.290024  2.3469765 2.355732 ]\n",
            " [2.285533  2.29023   2.3680713 2.360981 ]\n",
            " [2.287207  2.2943358 2.3656578 2.3674006]\n",
            " [2.2892408 2.2920966 2.3702288 2.376227 ]\n",
            " [2.291327  2.2960443 2.3694994 2.3675587]\n",
            " [2.2941294 2.297036  2.3703048 2.3753283]\n",
            " [2.3041193 2.299491  2.3731794 2.381081 ]\n",
            " [2.3026428 2.2956903 2.3761833 2.3793976]\n",
            " [2.3049972 2.294536  2.3686268 2.3931518]\n",
            " [2.3085663 2.2907505 2.3786738 2.379719 ]\n",
            " [2.313893  2.2982543 2.375254  2.386456 ]\n",
            " [2.313626  2.2967517 2.384042  2.4027066]\n",
            " [2.3212464 2.2964413 2.3879535 2.4017644]\n",
            " [2.3217254 2.2944064 2.3948994 2.3989336]\n",
            " [2.3287055 2.2990959 2.4024496 2.4013364]\n",
            " [2.3252728 2.3030407 2.3948188 2.409458 ]\n",
            " [2.324114  2.298394  2.4040775 2.405927 ]\n",
            " [2.3285306 2.2941034 2.3971038 2.4115944]]\n",
            "[[1.9672942 1.9718713 2.066321  2.0773435]\n",
            " [1.9644238 1.9776521 2.056003  2.065766 ]\n",
            " [1.9684181 1.9722925 2.0643077 2.0754094]\n",
            " [1.971558  1.971021  2.0706892 2.0757504]\n",
            " [1.9696734 1.9761597 2.0701413 2.0843964]\n",
            " [1.9648044 1.9774878 2.0707526 2.0856245]\n",
            " [1.9717842 1.9676545 2.0683732 2.0775054]\n",
            " [1.974494  1.9731796 2.0698197 2.081701 ]\n",
            " [1.973506  1.974619  2.0721054 2.0802517]\n",
            " [1.9767637 1.9648203 2.0672183 2.0776172]\n",
            " [1.9714998 1.9707099 2.0670476 2.0805626]\n",
            " [1.9757819 1.9661516 2.0726674 2.0761616]\n",
            " [1.9754632 1.965659  2.0641706 2.0819292]\n",
            " [1.9757398 1.9657803 2.0662038 2.084576 ]\n",
            " [1.974509  1.9684459 2.0757444 2.0856738]\n",
            " [1.9748157 1.9662229 2.072361  2.085722 ]\n",
            " [1.9751478 1.9784154 2.0787163 2.0794685]\n",
            " [1.9748907 1.9716694 2.0708187 2.0921462]\n",
            " [1.9695976 1.9749193 2.0776086 2.0824447]\n",
            " [1.9731486 1.9722242 2.0755763 2.0843601]]\n",
            "[[2.2873223 2.2758985 2.3574748 2.3684409]\n",
            " [2.2825418 2.2789035 2.3452942 2.354484 ]\n",
            " [2.2841632 2.2758186 2.3508146 2.3611686]\n",
            " [2.2899878 2.2762146 2.3574374 2.3611672]\n",
            " [2.2892098 2.2774186 2.356159  2.364817 ]\n",
            " [2.2849119 2.2789297 2.358423  2.3662612]\n",
            " [2.2903814 2.274282  2.3553805 2.3617096]\n",
            " [2.2901397 2.2791348 2.3577428 2.3655255]\n",
            " [2.2908716 2.2807934 2.3618822 2.3673053]\n",
            " [2.291789  2.2752085 2.3563805 2.3650632]\n",
            " [2.2868385 2.2775486 2.3565767 2.3667805]\n",
            " [2.2911487 2.274156  2.3612733 2.364163 ]\n",
            " [2.2906582 2.2763772 2.3536236 2.3690395]\n",
            " [2.2904513 2.276459  2.3569658 2.3718843]\n",
            " [2.2916179 2.277106  2.3629506 2.3712375]\n",
            " [2.2919722 2.2743776 2.3657234 2.3718343]\n",
            " [2.294697  2.2834866 2.3673217 2.3667653]\n",
            " [2.2950134 2.280423  2.360626  2.3758762]\n",
            " [2.2892632 2.275099  2.367967  2.3658745]\n",
            " [2.2935545 2.269031  2.3639083 2.3691833]]\n",
            "[[2.5449867 2.5544863 2.637516  2.6362364]\n",
            " [2.5326037 2.5638523 2.616922  2.6167603]\n",
            " [2.5341308 2.5622969 2.6195295 2.6215134]\n",
            " [2.5412297 2.5649467 2.6314285 2.6286335]\n",
            " [2.5413246 2.5659611 2.6325426 2.6248083]\n",
            " [2.5406044 2.566124  2.6237721 2.6259465]\n",
            " [2.543672  2.5700374 2.6211479 2.6192439]\n",
            " [2.5411232 2.5734828 2.6256337 2.6246972]\n",
            " [2.542441  2.5732477 2.62631   2.6233835]\n",
            " [2.546891  2.5709903 2.624212  2.6248627]\n",
            " [2.5399995 2.57351   2.6321247 2.6278226]\n",
            " [2.5461307 2.5735323 2.631775  2.6320145]\n",
            " [2.5480855 2.5765257 2.6262677 2.6304371]\n",
            " [2.544537  2.574345  2.6275961 2.632936 ]\n",
            " [2.5489004 2.572934  2.6270907 2.6317267]\n",
            " [2.5524225 2.5739737 2.6368968 2.6339333]\n",
            " [2.5602524 2.5747173 2.636297  2.6318414]\n",
            " [2.5583885 2.5699687 2.6312761 2.6369946]\n",
            " [2.5575    2.5619938 2.6332915 2.6345608]\n",
            " [2.5601878 2.555352  2.6339984 2.6331215]]\n",
            "[[2.3746724 2.366333  2.4925733 2.5152867]\n",
            " [2.36405   2.3680623 2.476652  2.494614 ]\n",
            " [2.3685741 2.364025  2.4794953 2.5023987]\n",
            " [2.3719916 2.362996  2.483507  2.4970307]\n",
            " [2.3723078 2.361701  2.4827678 2.5022845]\n",
            " [2.3652213 2.3641567 2.4876072 2.5021594]\n",
            " [2.3721704 2.3570747 2.4838278 2.5001545]\n",
            " [2.3710322 2.3632145 2.4863882 2.5028331]\n",
            " [2.3720233 2.3655162 2.4918938 2.505009 ]\n",
            " [2.371544  2.3591647 2.4826784 2.5017395]\n",
            " [2.367699  2.3606253 2.4822376 2.5024502]\n",
            " [2.3717906 2.3564394 2.487819  2.501612 ]\n",
            " [2.3694818 2.3588529 2.478489  2.504483 ]\n",
            " [2.3695405 2.3610482 2.482847  2.505611 ]\n",
            " [2.3689692 2.3613653 2.4891276 2.5053968]\n",
            " [2.369936  2.3562613 2.4896321 2.504477 ]\n",
            " [2.371291  2.3664694 2.4959278 2.498693 ]\n",
            " [2.3736765 2.3637438 2.4833372 2.513475 ]\n",
            " [2.3668237 2.356472  2.4926114 2.4962957]\n",
            " [2.3708115 2.3486247 2.4863853 2.5028818]]\n",
            "[[2.519103  2.4741054 2.478382  2.4720929]\n",
            " [2.5115223 2.465863  2.4630287 2.458765 ]\n",
            " [2.5083756 2.466532  2.4705637 2.4623504]\n",
            " [2.518458  2.469942  2.4768581 2.4674113]\n",
            " [2.516207  2.47095   2.4748366 2.4664543]\n",
            " [2.5140018 2.4738398 2.4752493 2.468054 ]\n",
            " [2.517681  2.473557  2.4716341 2.4633763]\n",
            " [2.5153806 2.4769845 2.4744015 2.4667516]\n",
            " [2.515217  2.478713  2.4793885 2.4703119]\n",
            " [2.5162897 2.476706  2.4753428 2.4688988]\n",
            " [2.5080473 2.4777462 2.4753184 2.4674964]\n",
            " [2.5132744 2.475405  2.477561  2.4656441]\n",
            " [2.5139148 2.4776444 2.4714296 2.472288 ]\n",
            " [2.513303  2.4749744 2.475321  2.4734478]\n",
            " [2.5172505 2.4744902 2.4809017 2.4727683]\n",
            " [2.5172558 2.4720414 2.4908977 2.475892 ]\n",
            " [2.5228996 2.4791067 2.4761274 2.4714968]\n",
            " [2.522482  2.4757519 2.478812  2.4664276]\n",
            " [2.5153298 2.4647777 2.4841108 2.4651573]\n",
            " [2.5207589 2.456101  2.4810696 2.4653108]]\n",
            "[[2.5009055 2.48701   2.5653057 2.5736136]\n",
            " [2.4945276 2.492855  2.5514686 2.5589347]\n",
            " [2.4954593 2.4908082 2.556253  2.5640347]\n",
            " [2.5027153 2.4915326 2.5643706 2.56615  ]\n",
            " [2.5034258 2.491321  2.563292  2.5667515]\n",
            " [2.499224  2.492536  2.5644667 2.5680892]\n",
            " [2.503404  2.492193  2.5608826 2.5647151]\n",
            " [2.501725  2.4963465 2.5643253 2.5679958]\n",
            " [2.5034392 2.4985642 2.568448  2.5718863]\n",
            " [2.5038872 2.4957952 2.5656605 2.5705476]\n",
            " [2.4982383 2.4976757 2.5681741 2.573946 ]\n",
            " [2.5033994 2.495362  2.5709097 2.5747678]\n",
            " [2.5034983 2.4989102 2.5653641 2.5775907]\n",
            " [2.501567  2.499745  2.5688481 2.5810153]\n",
            " [2.5048754 2.4985662 2.5708508 2.5796237]\n",
            " [2.5063136 2.496499  2.57812   2.5788972]\n",
            " [2.5116925 2.5022488 2.5780964 2.5756543]\n",
            " [2.5114331 2.500954  2.5729651 2.584174 ]\n",
            " [2.5066707 2.4914749 2.5796788 2.5771468]\n",
            " [2.5113676 2.4834282 2.5756154 2.5804849]]\n",
            "[[2.489015  2.4661465 2.5663018 2.576205 ]\n",
            " [2.4585803 2.454644  2.5261223 2.5347316]\n",
            " [2.4615123 2.4463563 2.5299926 2.541511 ]\n",
            " [2.4661372 2.446261  2.5296633 2.5429926]\n",
            " [2.4605997 2.4440908 2.5314653 2.5425155]\n",
            " [2.4546502 2.447936  2.5314703 2.539884 ]\n",
            " [2.4617162 2.4407337 2.5272746 2.5377135]\n",
            " [2.4560375 2.4444766 2.530426  2.5392342]\n",
            " [2.4553072 2.4408453 2.532537  2.53738  ]\n",
            " [2.4549122 2.4322126 2.5160081 2.5352259]\n",
            " [2.4470625 2.432468  2.5206068 2.5244815]\n",
            " [2.4514894 2.4286025 2.5242126 2.530887 ]\n",
            " [2.4479866 2.4266908 2.5111482 2.5305839]\n",
            " [2.4473364 2.4265535 2.5115693 2.5235205]\n",
            " [2.4453468 2.4246423 2.5209804 2.5262492]\n",
            " [2.4437618 2.418924  2.5215437 2.53156  ]\n",
            " [2.4436836 2.429067  2.515312  2.5212615]\n",
            " [2.444394  2.4196374 2.5019484 2.526178 ]\n",
            " [2.4356387 2.4075143 2.5078845 2.5048645]\n",
            " [2.4346623 2.3997443 2.5071836 2.5074   ]]\n",
            "[[2.144715  2.1406085 2.2143435 2.220741 ]\n",
            " [2.141272  2.1448195 2.2022095 2.2081895]\n",
            " [2.1426556 2.1410172 2.2090328 2.2155066]\n",
            " [2.1483023 2.1417794 2.216387  2.2176178]\n",
            " [2.146416  2.1447887 2.2153275 2.2213764]\n",
            " [2.14339   2.14578   2.2152545 2.2232013]\n",
            " [2.148797  2.1404767 2.2128172 2.2166917]\n",
            " [2.1494517 2.1450658 2.214927  2.2213047]\n",
            " [2.149388  2.1456115 2.2177646 2.2208867]\n",
            " [2.1519234 2.1389601 2.212876  2.219244 ]\n",
            " [2.1464944 2.1424413 2.2137737 2.2208836]\n",
            " [2.150887  2.1394703 2.2181334 2.2172084]\n",
            " [2.1509066 2.1405294 2.210348  2.222533 ]\n",
            " [2.1507647 2.1394129 2.2122533 2.2253373]\n",
            " [2.151522  2.1409664 2.2193606 2.225048 ]\n",
            " [2.1515906 2.139608  2.220931  2.2272048]\n",
            " [2.153853  2.1489887 2.2225533 2.2216272]\n",
            " [2.153246  2.1442118 2.2168071 2.2295012]\n",
            " [2.1483088 2.1423254 2.2227912 2.2211452]\n",
            " [2.1519923 2.138425  2.2207732 2.2223477]]\n",
            "[[2.3167732 2.3132017 2.397386  2.3990736]\n",
            " [2.300087  2.3115518 2.372706  2.3753498]\n",
            " [2.3031535 2.3077555 2.37693   2.3831315]\n",
            " [2.3081722 2.3092113 2.38218   2.3852413]\n",
            " [2.3048227 2.3097174 2.383396  2.3850682]\n",
            " [2.3018434 2.312005  2.3778431 2.3846967]\n",
            " [2.307623  2.3071306 2.3747475 2.3785627]\n",
            " [2.3051147 2.3119376 2.377939  2.3829517]\n",
            " [2.3037856 2.3108351 2.380641  2.378673 ]\n",
            " [2.308465  2.3046472 2.3706727 2.3788662]\n",
            " [2.3001616 2.3071864 2.3757713 2.3753326]\n",
            " [2.3051817 2.3062227 2.377096  2.3778362]\n",
            " [2.3041828 2.3062592 2.3669877 2.378437 ]\n",
            " [2.3027925 2.3032086 2.3666854 2.3745844]\n",
            " [2.3021932 2.3054483 2.3734627 2.3755455]\n",
            " [2.3031201 2.3046172 2.376805  2.3799396]\n",
            " [2.306141  2.3128762 2.372825  2.373085 ]\n",
            " [2.306067  2.3044312 2.3645287 2.3759532]\n",
            " [2.3005288 2.3004606 2.3680494 2.3654609]\n",
            " [2.3020961 2.2959893 2.3687334 2.3642905]]\n",
            "[[2.3806865 2.3391573 2.343937  2.336026 ]\n",
            " [2.3708272 2.3287132 2.3248978 2.3196306]\n",
            " [2.3679118 2.32753   2.3331838 2.3242314]\n",
            " [2.3771245 2.3308437 2.338253  2.3299072]\n",
            " [2.3729792 2.3330624 2.3367708 2.3293934]\n",
            " [2.3711085 2.3358936 2.3363261 2.3307757]\n",
            " [2.3753505 2.3332455 2.332992  2.325033 ]\n",
            " [2.373386  2.3365612 2.3354464 2.328818 ]\n",
            " [2.3722253 2.3366134 2.339207  2.3298492]\n",
            " [2.3740964 2.3323133 2.3329809 2.3284876]\n",
            " [2.365367  2.3340085 2.333374  2.3244686]\n",
            " [2.3702567 2.3315392 2.335985  2.321994 ]\n",
            " [2.3704343 2.3320677 2.3284848 2.3290617]\n",
            " [2.370471  2.328579  2.3308394 2.328927 ]\n",
            " [2.3728628 2.3289127 2.3387115 2.3291438]\n",
            " [2.3717928 2.3266444 2.3458538 2.3342457]\n",
            " [2.3756409 2.33539   2.3311641 2.3278644]\n",
            " [2.3749142 2.3294723 2.332843  2.3224049]\n",
            " [2.3674195 2.321079  2.3375337 2.3192   ]\n",
            " [2.3715844 2.3143642 2.3362565 2.31792  ]]\n",
            "[[2.1534312 2.1610703 2.2680073 2.282137 ]\n",
            " [2.1499906 2.1692379 2.2570388 2.2686827]\n",
            " [2.153333  2.1650846 2.2619345 2.2766724]\n",
            " [2.1575727 2.1649601 2.2696924 2.2761867]\n",
            " [2.1569688 2.16725   2.2690763 2.2811663]\n",
            " [2.1530862 2.1679778 2.2695165 2.2827134]\n",
            " [2.1590543 2.1621864 2.2671633 2.2768197]\n",
            " [2.1599324 2.167457  2.269309  2.2815132]\n",
            " [2.1607313 2.168456  2.2722936 2.2809737]\n",
            " [2.1629333 2.161382  2.2666829 2.2790499]\n",
            " [2.1589952 2.1646345 2.2674723 2.2821412]\n",
            " [2.163234  2.1613257 2.2725794 2.2787988]\n",
            " [2.1629572 2.163078  2.26432   2.282629 ]\n",
            " [2.1628244 2.1629903 2.2669966 2.2861218]\n",
            " [2.163085  2.1644852 2.2734096 2.2856848]\n",
            " [2.1640403 2.162547  2.2735264 2.286437 ]\n",
            " [2.1659753 2.1716516 2.2808635 2.281371 ]\n",
            " [2.166132  2.1675663 2.2711895 2.2942142]\n",
            " [2.161889  2.1660218 2.2780209 2.282722 ]\n",
            " [2.1653843 2.1617994 2.2749238 2.2857058]]\n",
            "[[2.3593917 2.475829  2.4470792 2.2843325]\n",
            " [2.3128269 2.4597952 2.384902  2.2346053]\n",
            " [2.321329  2.4504786 2.389284  2.247759 ]\n",
            " [2.3294945 2.4573367 2.4020207 2.2489016]\n",
            " [2.3256772 2.4462724 2.39166   2.2530684]\n",
            " [2.312445  2.45197   2.3959816 2.241019 ]\n",
            " [2.3120184 2.439803  2.3889825 2.2380185]\n",
            " [2.3050058 2.4562418 2.4005094 2.2419806]\n",
            " [2.2995532 2.454115  2.4061787 2.235269 ]\n",
            " [2.3069627 2.4510038 2.3828833 2.236554 ]\n",
            " [2.2771494 2.4547727 2.4054518 2.2302687]\n",
            " [2.2973619 2.464041  2.4025278 2.2527401]\n",
            " [2.2786083 2.4552011 2.394568  2.2478576]\n",
            " [2.276333  2.4699507 2.3802524 2.2383137]\n",
            " [2.27782   2.458886  2.391377  2.2350965]\n",
            " [2.275077  2.4579241 2.4018588 2.2422695]\n",
            " [2.2817333 2.4634647 2.387125  2.2286756]\n",
            " [2.2736309 2.460999  2.3878028 2.2353897]\n",
            " [2.2630908 2.4524672 2.3915973 2.2220812]\n",
            " [2.2666783 2.4353888 2.383932  2.2304235]]\n",
            "[[2.5048642 2.4614413 2.5492783 2.5802739]\n",
            " [2.4956331 2.46712   2.5491009 2.5743432]\n",
            " [2.5089073 2.4639783 2.559538  2.5789835]\n",
            " [2.5051277 2.4696586 2.5626829 2.5742538]\n",
            " [2.5120337 2.4643676 2.562329  2.588958 ]\n",
            " [2.5030556 2.473154  2.5666027 2.586176 ]\n",
            " [2.517459  2.4614596 2.5634596 2.5795357]\n",
            " [2.5114841 2.4704497 2.562936  2.5854533]\n",
            " [2.5201054 2.4783387 2.570078  2.592047 ]\n",
            " [2.5147464 2.4718006 2.569654  2.5892315]\n",
            " [2.5137281 2.47694   2.5708601 2.5926616]\n",
            " [2.513508  2.4692216 2.5780656 2.5904443]\n",
            " [2.514641  2.467255  2.5809581 2.6051824]\n",
            " [2.515613  2.4717443 2.588678  2.6175244]\n",
            " [2.5169358 2.4674675 2.5881393 2.610741 ]\n",
            " [2.5185504 2.4611528 2.5779383 2.5965726]\n",
            " [2.5246305 2.4715612 2.6029246 2.5858   ]\n",
            " [2.5289495 2.467768  2.5989394 2.6150496]\n",
            " [2.5171478 2.4523726 2.6133754 2.615973 ]\n",
            " [2.524882  2.4496536 2.6042566 2.6264017]]\n",
            "[[2.4063067 2.4071472 2.5322056 2.5507116]\n",
            " [2.3945556 2.411786  2.5144532 2.5290997]\n",
            " [2.3988948 2.4078913 2.5165973 2.5363126]\n",
            " [2.402846  2.4075236 2.5227954 2.533825 ]\n",
            " [2.4030228 2.406753  2.5229073 2.5369375]\n",
            " [2.3976052 2.4084468 2.5238745 2.5370293]\n",
            " [2.4037578 2.4039567 2.5205462 2.5336862]\n",
            " [2.4022074 2.4093962 2.5235786 2.5372624]\n",
            " [2.4035537 2.4106975 2.5274317 2.5379665]\n",
            " [2.4043207 2.404823  2.519227  2.5359015]\n",
            " [2.4001164 2.4064043 2.5211957 2.5369196]\n",
            " [2.404527  2.4031336 2.5256066 2.5376704]\n",
            " [2.4032898 2.405705  2.5167172 2.5387576]\n",
            " [2.4024658 2.406785  2.5202782 2.540153 ]\n",
            " [2.4028268 2.4066348 2.524956  2.5398204]\n",
            " [2.4044878 2.4030297 2.527077  2.539707 ]\n",
            " [2.4072015 2.4107895 2.5330832 2.534785 ]\n",
            " [2.408501  2.4072623 2.5208323 2.5482132]\n",
            " [2.4034472 2.4001215 2.5282547 2.5334134]\n",
            " [2.4065545 2.3928523 2.5239177 2.5381713]]\n",
            "[[2.3056905 2.309332  2.420227  2.4326847]\n",
            " [2.2941408 2.3142598 2.4012966 2.4117765]\n",
            " [2.297911  2.3095791 2.4050584 2.4193294]\n",
            " [2.3020594 2.3096445 2.4116204 2.4194539]\n",
            " [2.3010633 2.310204  2.4117618 2.421961 ]\n",
            " [2.2967305 2.31151   2.4104981 2.4222124]\n",
            " [2.302687  2.3067625 2.4075532 2.4173944]\n",
            " [2.301595  2.3117845 2.410575  2.42136  ]\n",
            " [2.3018873 2.312064  2.4132943 2.4204326]\n",
            " [2.3041325 2.3056822 2.4060302 2.4190805]\n",
            " [2.2988093 2.30839   2.4094067 2.4197607]\n",
            " [2.303505  2.3057647 2.412889  2.4204462]\n",
            " [2.3026168 2.307084  2.4042075 2.421957 ]\n",
            " [2.3014867 2.3072119 2.4059994 2.4228356]\n",
            " [2.3016667 2.3076208 2.4113512 2.42269  ]\n",
            " [2.3028965 2.305553  2.4132469 2.4241045]\n",
            " [2.3054616 2.3133314 2.4177864 2.4187067]\n",
            " [2.3056436 2.308318  2.407399  2.430095 ]\n",
            " [2.301074  2.3035214 2.4133174 2.417491 ]\n",
            " [2.3037176 2.2979636 2.4111    2.4200532]]\n",
            "[[2.4485087 2.4231114 2.4008884 2.3752472]\n",
            " [2.437578  2.4206717 2.3780522 2.3600712]\n",
            " [2.43282   2.420071  2.3874967 2.3630903]\n",
            " [2.4440968 2.425418  2.3980927 2.3785012]\n",
            " [2.4402173 2.429344  2.3975642 2.3716276]\n",
            " [2.4422069 2.4301138 2.387314  2.3736982]\n",
            " [2.4436677 2.4348588 2.384656  2.3646975]\n",
            " [2.4411628 2.4363508 2.3888128 2.3699763]\n",
            " [2.4394383 2.4347737 2.388918  2.3689435]\n",
            " [2.4451923 2.433489  2.3896608 2.3711352]\n",
            " [2.433703  2.4373515 2.3977897 2.3701   ]\n",
            " [2.4402955 2.4382398 2.3952494 2.3725011]\n",
            " [2.4432461 2.438824  2.3914266 2.3763936]\n",
            " [2.4399018 2.4334285 2.3901398 2.3772283]\n",
            " [2.445593  2.4325323 2.392183  2.376266 ]\n",
            " [2.446264  2.435755  2.4056873 2.3828466]\n",
            " [2.4546697 2.437891  2.388232  2.3789976]\n",
            " [2.4502704 2.43092   2.3960414 2.369421 ]\n",
            " [2.447417  2.423409  2.3953693 2.3772311]\n",
            " [2.450931  2.4183207 2.3995671 2.3700657]]\n",
            "[[2.3161824 2.3196146 2.4299922 2.4411135]\n",
            " [2.3014746 2.3215034 2.4077182 2.4168773]\n",
            " [2.3052053 2.3169448 2.4109852 2.4244943]\n",
            " [2.3091989 2.3174696 2.4169064 2.4248824]\n",
            " [2.3073688 2.3181021 2.4177854 2.4269073]\n",
            " [2.303455  2.3198829 2.4152474 2.4267733]\n",
            " [2.309592  2.3148706 2.4123108 2.4215052]\n",
            " [2.3079007 2.3198159 2.4152756 2.4257238]\n",
            " [2.3080547 2.319112  2.4176035 2.4233503]\n",
            " [2.3106039 2.3120482 2.4080637 2.4221218]\n",
            " [2.3050628 2.3142524 2.4111564 2.420419 ]\n",
            " [2.309714  2.311585  2.4146874 2.4212377]\n",
            " [2.3087401 2.3123581 2.4048676 2.4221377]\n",
            " [2.3080328 2.3114216 2.4067712 2.4216435]\n",
            " [2.3077917 2.3119352 2.4132278 2.422322 ]\n",
            " [2.3090143 2.309273  2.4146557 2.4251885]\n",
            " [2.3111866 2.3172204 2.4171703 2.4189405]\n",
            " [2.3116505 2.3105278 2.406014  2.4281337]\n",
            " [2.3069553 2.305591  2.4113717 2.4145217]\n",
            " [2.308754  2.299955  2.4098873 2.4162977]]\n",
            "[[2.5423858 2.5158134 2.4979267 2.4707813]\n",
            " [2.5245857 2.510278  2.4680588 2.4488575]\n",
            " [2.5202453 2.509026  2.4763312 2.4516861]\n",
            " [2.5312493 2.5146124 2.4860864 2.4676552]\n",
            " [2.5266104 2.5175333 2.486407  2.4588387]\n",
            " [2.5285587 2.518712  2.4743059 2.4600067]\n",
            " [2.5300305 2.524013  2.471321  2.4513395]\n",
            " [2.526027  2.5252466 2.476059  2.456412 ]\n",
            " [2.5238516 2.52264   2.475541  2.454235 ]\n",
            " [2.529865  2.521307  2.4742255 2.4569035]\n",
            " [2.517424  2.5246882 2.4843595 2.453274 ]\n",
            " [2.5241425 2.5260525 2.4808302 2.458529 ]\n",
            " [2.5266814 2.5261383 2.4760787 2.460505 ]\n",
            " [2.522783  2.5204928 2.473961  2.4590583]\n",
            " [2.5281663 2.5189633 2.475664  2.4585774]\n",
            " [2.5288677 2.5220587 2.4899375 2.466223 ]\n",
            " [2.5375183 2.5233512 2.4703898 2.4617553]\n",
            " [2.5330923 2.5149884 2.4771593 2.4507673]\n",
            " [2.5300872 2.5055318 2.4755905 2.4572217]\n",
            " [2.5325294 2.499855  2.480856  2.4493504]]\n",
            "[[2.2717113 2.2403667 2.223331  2.2048254]\n",
            " [2.2628074 2.2334042 2.20279   2.1898625]\n",
            " [2.2588582 2.230525  2.21164   2.1944475]\n",
            " [2.268975  2.2349567 2.218728  2.2045949]\n",
            " [2.2624872 2.23948   2.2173386 2.2011168]\n",
            " [2.2636485 2.2406201 2.212328  2.2032387]\n",
            " [2.2672913 2.2391655 2.2101455 2.1954205]\n",
            " [2.2659943 2.2414215 2.2129192 2.200763 ]\n",
            " [2.2633252 2.2391775 2.2136896 2.198198 ]\n",
            " [2.2683582 2.2343333 2.2092497 2.198706 ]\n",
            " [2.2575715 2.2374835 2.214334  2.1940582]\n",
            " [2.2632189 2.2367077 2.2149549 2.1923182]\n",
            " [2.264301  2.2356336 2.2081206 2.199528 ]\n",
            " [2.2635891 2.2299366 2.2069516 2.1998758]\n",
            " [2.2660244 2.2307734 2.2140405 2.19949  ]\n",
            " [2.2642806 2.2323349 2.2220986 2.2074769]\n",
            " [2.2683342 2.2393358 2.206289  2.2006261]\n",
            " [2.2651725 2.230887  2.210709  2.1923242]\n",
            " [2.2591834 2.225215  2.2121665 2.1934738]\n",
            " [2.2623014 2.221358  2.2151895 2.1877856]]\n",
            "[[2.386612  2.3468373 2.3242855 2.313349 ]\n",
            " [2.3958242 2.3496835 2.324599  2.3177047]\n",
            " [2.3913124 2.3520658 2.3344228 2.3209198]\n",
            " [2.403813  2.3555207 2.344488  2.3278925]\n",
            " [2.4024289 2.3590212 2.3410478 2.3277464]\n",
            " [2.402265  2.3601866 2.3428385 2.3319864]\n",
            " [2.4048927 2.361623  2.340216  2.3264496]\n",
            " [2.405183  2.3645089 2.3422656 2.3309646]\n",
            " [2.406084  2.3676887 2.3477461 2.335728 ]\n",
            " [2.4085753 2.3673396 2.3502574 2.3352413]\n",
            " [2.400449  2.3693566 2.3485641 2.340359 ]\n",
            " [2.4067047 2.3679454 2.3505194 2.3338797]\n",
            " [2.4089012 2.3712497 2.3480127 2.3432014]\n",
            " [2.4081671 2.3674874 2.3519654 2.349064 ]\n",
            " [2.4135873 2.368473  2.3563602 2.3473158]\n",
            " [2.4139426 2.368765  2.3680696 2.3489542]\n",
            " [2.4209247 2.375069  2.35451   2.3470974]\n",
            " [2.419117  2.3742945 2.3611708 2.3406022]\n",
            " [2.4129047 2.3668268 2.3664494 2.3467133]\n",
            " [2.4200609 2.3602257 2.3634276 2.345884 ]]\n",
            "[[2.4766107 2.4837687 2.562282  2.5585814]\n",
            " [2.462733  2.4924872 2.5392137 2.537998 ]\n",
            " [2.4639184 2.4896636 2.543827  2.5432992]\n",
            " [2.4706972 2.4918716 2.5543048 2.551582 ]\n",
            " [2.4704592 2.4933422 2.555129  2.5477254]\n",
            " [2.4689376 2.4933763 2.546904  2.548401 ]\n",
            " [2.4720373 2.4962952 2.5440595 2.5420823]\n",
            " [2.4697492 2.499739  2.5486827 2.5467432]\n",
            " [2.4699435 2.499248  2.5490994 2.5457408]\n",
            " [2.474568  2.4968464 2.5483348 2.5472076]\n",
            " [2.4665003 2.500755  2.5575492 2.5503793]\n",
            " [2.4729242 2.500971  2.5563438 2.5556703]\n",
            " [2.474325  2.5029767 2.5513313 2.5546327]\n",
            " [2.470361  2.5016153 2.5509918 2.5562868]\n",
            " [2.4742432 2.500229  2.5503922 2.5549085]\n",
            " [2.4771893 2.5020628 2.5593622 2.557049 ]\n",
            " [2.4844468 2.5036979 2.5589023 2.5539322]\n",
            " [2.4821475 2.498652  2.5553331 2.560319 ]\n",
            " [2.4809191 2.491888  2.5571628 2.5582569]\n",
            " [2.4837346 2.4860413 2.5587578 2.556282 ]]\n",
            "[[2.364353  2.3578117 2.48166   2.50607  ]\n",
            " [2.3581529 2.362436  2.4699128 2.4887521]\n",
            " [2.3619266 2.358667  2.4727037 2.4958668]\n",
            " [2.3661542 2.3576453 2.478274  2.4909492]\n",
            " [2.3668845 2.3568614 2.477143  2.4968007]\n",
            " [2.3604496 2.3587432 2.4829462 2.497537 ]\n",
            " [2.3670702 2.3526676 2.4795845 2.4952166]\n",
            " [2.3665035 2.3584065 2.481827  2.4982781]\n",
            " [2.3686993 2.3609006 2.4870152 2.5015607]\n",
            " [2.367324  2.3545845 2.478824  2.4979053]\n",
            " [2.3648255 2.3555653 2.4772968 2.4999294]\n",
            " [2.3685653 2.3507447 2.4841037 2.497505 ]\n",
            " [2.3670225 2.3539085 2.4751658 2.5012448]\n",
            " [2.3674166 2.3561728 2.4806945 2.5047426]\n",
            " [2.367834  2.3559213 2.4867167 2.5040946]\n",
            " [2.3686278 2.3505743 2.487358  2.502648 ]\n",
            " [2.3701627 2.3603425 2.4950757 2.4976377]\n",
            " [2.3721855 2.3588095 2.4826014 2.5132706]\n",
            " [2.365945  2.351213  2.4924076 2.4965167]\n",
            " [2.370171  2.3431692 2.4853578 2.5038698]]\n",
            "[[2.5290399 2.5182462 2.6211467 2.6364362]\n",
            " [2.5185547 2.5237138 2.576302  2.6030622]\n",
            " [2.5144134 2.522308  2.6068656 2.6141906]\n",
            " [2.5264597 2.513195  2.5991273 2.634193 ]\n",
            " [2.544391  2.5071206 2.597926  2.6272304]\n",
            " [2.5191314 2.5104046 2.6212833 2.6217835]\n",
            " [2.5182106 2.4998102 2.6098976 2.6304145]\n",
            " [2.523457  2.5118482 2.605911  2.6300962]\n",
            " [2.5264084 2.5121467 2.6285143 2.6524165]\n",
            " [2.5274756 2.510497  2.615675  2.648348 ]\n",
            " [2.5117197 2.5228512 2.6076696 2.6385117]\n",
            " [2.5189161 2.5087206 2.597134  2.6439044]\n",
            " [2.5137799 2.5144656 2.6181555 2.643364 ]\n",
            " [2.5120633 2.5206552 2.616488  2.6284692]\n",
            " [2.506533  2.5076108 2.626067  2.6436632]\n",
            " [2.5115204 2.499475  2.6343956 2.640315 ]\n",
            " [2.5213828 2.5090594 2.6177387 2.6414726]\n",
            " [2.522647  2.5107744 2.6068377 2.6571317]\n",
            " [2.5102096 2.4898088 2.6270044 2.6296856]\n",
            " [2.5128202 2.4768772 2.616012  2.6388197]]\n",
            "[[2.1984088 2.2131941 2.29451   2.295231 ]\n",
            " [2.1948779 2.226733  2.2808468 2.2831216]\n",
            " [2.1958869 2.2227445 2.2874918 2.289722 ]\n",
            " [2.2020524 2.223927  2.2987003 2.2966783]\n",
            " [2.2017405 2.2277634 2.2983763 2.2970998]\n",
            " [2.2002773 2.2268252 2.2932107 2.2993302]\n",
            " [2.2039604 2.2264106 2.2911794 2.2914817]\n",
            " [2.204665  2.2301157 2.2944858 2.2967334]\n",
            " [2.2050986 2.2300272 2.2948468 2.2959456]\n",
            " [2.2093177 2.2253447 2.2951207 2.2962673]\n",
            " [2.2033606 2.2304273 2.3014162 2.301579 ]\n",
            " [2.2089255 2.2294264 2.3029296 2.3016987]\n",
            " [2.2104719 2.2311678 2.2979484 2.3041668]\n",
            " [2.2079573 2.2303326 2.29812   2.3092024]\n",
            " [2.210974  2.2306101 2.299864  2.307746 ]\n",
            " [2.2126954 2.232503  2.3047063 2.3091779]\n",
            " [2.2176042 2.2371738 2.3098137 2.3055384]\n",
            " [2.2149944 2.2329578 2.305772  2.3159263]\n",
            " [2.2138052 2.2316346 2.309204  2.3128874]\n",
            " [2.2173002 2.2283862 2.309792  2.311886 ]]\n",
            "[[2.4860528 2.4611654 2.445737  2.4171355]\n",
            " [2.4646807 2.4544332 2.4105778 2.3911037]\n",
            " [2.4642222 2.4510868 2.4188168 2.394161 ]\n",
            " [2.4758692 2.4540482 2.4253857 2.4119952]\n",
            " [2.4683359 2.4558773 2.4292457 2.4000895]\n",
            " [2.4703112 2.4576592 2.4180014 2.4018712]\n",
            " [2.4722047 2.4610784 2.414847  2.3957543]\n",
            " [2.4658296 2.4607284 2.4188685 2.400018 ]\n",
            " [2.4642828 2.4569468 2.4187896 2.3955345]\n",
            " [2.471367  2.4535131 2.4143891 2.4001324]\n",
            " [2.4565825 2.455153  2.4231935 2.3953593]\n",
            " [2.4635153 2.4548028 2.4193857 2.403386 ]\n",
            " [2.465158  2.4547908 2.4113178 2.4004357]\n",
            " [2.460982  2.4469364 2.4069617 2.3897798]\n",
            " [2.4635475 2.4472654 2.4116607 2.3927574]\n",
            " [2.4624243 2.4507961 2.422613  2.3995633]\n",
            " [2.4718347 2.4543047 2.3976529 2.3950822]\n",
            " [2.4659882 2.4447596 2.3979204 2.3767865]\n",
            " [2.4594727 2.4360502 2.3967118 2.3785367]\n",
            " [2.4573684 2.4331918 2.403647  2.370289 ]]\n",
            "[[2.4341252 2.422854  2.5123281 2.522891 ]\n",
            " [2.4241588 2.4250488 2.4956305 2.504434 ]\n",
            " [2.4262543 2.422362  2.499591  2.5105748]\n",
            " [2.4319983 2.4230554 2.506226  2.5107558]\n",
            " [2.4317734 2.422924  2.505593  2.5124104]\n",
            " [2.427252  2.4246721 2.5062296 2.5130792]\n",
            " [2.4324238 2.4218345 2.5027757 2.5092978]\n",
            " [2.430808  2.4266677 2.5059202 2.5128434]\n",
            " [2.431638  2.4282598 2.509938  2.5146255]\n",
            " [2.432654  2.423812  2.5040884 2.512959 ]\n",
            " [2.4270844 2.4256868 2.5062153 2.5140767]\n",
            " [2.431811  2.4229689 2.509608  2.5144641]\n",
            " [2.4312248 2.4256005 2.5021176 2.5171587]\n",
            " [2.430124  2.4259303 2.5053458 2.5189238]\n",
            " [2.431787  2.425632  2.509399  2.5181477]\n",
            " [2.4330137 2.4229228 2.5141754 2.518562 ]\n",
            " [2.4369137 2.4301624 2.5148926 2.5139554]\n",
            " [2.4374328 2.4270377 2.5076654 2.5228665]\n",
            " [2.4321005 2.4190724 2.5143483 2.5129204]\n",
            " [2.436114  2.4116492 2.5105834 2.5161147]]\n",
            "[[2.276274  2.2475586 2.2270584 2.2070186]\n",
            " [2.2719488 2.2448297 2.211678  2.1979585]\n",
            " [2.2677686 2.2436614 2.221471  2.2024636]\n",
            " [2.2783644 2.2481558 2.2299492 2.2132132]\n",
            " [2.2737494 2.2529244 2.2281132 2.2099416]\n",
            " [2.2747743 2.2537475 2.2230725 2.212478 ]\n",
            " [2.277735  2.2538617 2.2208464 2.204709 ]\n",
            " [2.2771661 2.256506  2.2237713 2.2100155]\n",
            " [2.2748413 2.2557495 2.2253466 2.208865 ]\n",
            " [2.2804015 2.2527697 2.2246666 2.2097762]\n",
            " [2.2694278 2.2567763 2.2296193 2.2090354]\n",
            " [2.2756984 2.2565768 2.2292743 2.2070854]\n",
            " [2.2774193 2.256586  2.2243514 2.2143943]\n",
            " [2.2760758 2.2512734 2.2235081 2.216011 ]\n",
            " [2.279712  2.2523615 2.2285047 2.2147877]\n",
            " [2.2790964 2.2549858 2.238073  2.2209473]\n",
            " [2.2847164 2.261075  2.223428  2.215514 ]\n",
            " [2.2814395 2.2543247 2.2301009 2.208225 ]\n",
            " [2.2763953 2.2497478 2.2315333 2.2130868]\n",
            " [2.280892  2.2456336 2.2340217 2.2074568]]\n",
            "[[2.467178  2.4676883 2.5621424 2.5666134]\n",
            " [2.451081  2.4724703 2.538022  2.5426874]\n",
            " [2.4533484 2.4683385 2.541788  2.5487278]\n",
            " [2.4587777 2.4696317 2.5497093 2.5527978]\n",
            " [2.4581518 2.4696856 2.5499957 2.5513735]\n",
            " [2.4547777 2.470581  2.5452726 2.5512657]\n",
            " [2.4593053 2.469955  2.5420558 2.5462813]\n",
            " [2.456882  2.4741418 2.5462744 2.5501137]\n",
            " [2.4568083 2.4739923 2.547849  2.5497355]\n",
            " [2.459694  2.4700098 2.543189  2.549686 ]\n",
            " [2.452633  2.4731162 2.5507233 2.5503116]\n",
            " [2.458223  2.4721005 2.5514321 2.5549626]\n",
            " [2.4580808 2.4736521 2.5447805 2.5549877]\n",
            " [2.4551806 2.473761  2.54541   2.55603  ]\n",
            " [2.4573562 2.4725058 2.547024  2.555026 ]\n",
            " [2.4592974 2.4721496 2.5534673 2.5568123]\n",
            " [2.464236  2.476414  2.5546625 2.5523071]\n",
            " [2.4632108 2.4715672 2.5480237 2.5614471]\n",
            " [2.4600263 2.46376   2.5518458 2.5536633]\n",
            " [2.4628608 2.4571242 2.5513706 2.5542326]]\n",
            "[[2.3958788 2.3840988 2.4676027 2.4824607]\n",
            " [2.401593  2.39573   2.467521  2.4800997]\n",
            " [2.4033737 2.3956141 2.4730175 2.4858086]\n",
            " [2.410833  2.3955095 2.4820309 2.484429 ]\n",
            " [2.4131277 2.3956358 2.4799097 2.489089 ]\n",
            " [2.4084935 2.396926  2.484879  2.4916184]\n",
            " [2.4133337 2.3949318 2.4816504 2.4886358]\n",
            " [2.4135032 2.3999672 2.4839435 2.4919782]\n",
            " [2.4166512 2.4045308 2.4905648 2.4975998]\n",
            " [2.4165676 2.4021354 2.4895742 2.4954858]\n",
            " [2.4129171 2.4036515 2.4868426 2.5034978]\n",
            " [2.4180543 2.4005544 2.4915833 2.499205 ]\n",
            " [2.418356  2.4052896 2.4867408 2.504043 ]\n",
            " [2.4174657 2.4063253 2.4926095 2.5099316]\n",
            " [2.4205942 2.4069073 2.496212  2.5084355]\n",
            " [2.4226778 2.4040647 2.502118  2.505411 ]\n",
            " [2.4276476 2.411622  2.5052164 2.5038373]\n",
            " [2.4284978 2.4130127 2.4990194 2.5137465]\n",
            " [2.4231176 2.4060314 2.5079622 2.506851 ]\n",
            " [2.429385  2.3983986 2.5010114 2.5126383]]\n",
            "[[2.4526942 2.425094  2.4042134 2.3796117]\n",
            " [2.4414003 2.4219038 2.3808117 2.3636703]\n",
            " [2.4369493 2.420965  2.390233  2.3667567]\n",
            " [2.448333  2.4259346 2.4002264 2.381807 ]\n",
            " [2.4439983 2.4295387 2.399846  2.3751354]\n",
            " [2.4456682 2.4306216 2.3904757 2.3771074]\n",
            " [2.4473224 2.4348438 2.387717  2.3686295]\n",
            " [2.4444647 2.4362626 2.3917162 2.3736458]\n",
            " [2.4429026 2.4345577 2.3921115 2.3726468]\n",
            " [2.4482949 2.4329517 2.391989  2.3746564]\n",
            " [2.4367776 2.4363651 2.3993971 2.3732424]\n",
            " [2.4432259 2.4369154 2.3972583 2.3756285]\n",
            " [2.445909  2.4373758 2.3926942 2.3792634]\n",
            " [2.4426885 2.4319658 2.3914073 2.3790488]\n",
            " [2.448009  2.4311035 2.3943768 2.3785293]\n",
            " [2.4483569 2.433765  2.40731   2.385132 ]\n",
            " [2.456522  2.436545  2.3891401 2.381063 ]\n",
            " [2.4522798 2.429443  2.3959694 2.3709445]\n",
            " [2.4487705 2.4214969 2.3956873 2.3772788]\n",
            " [2.451847  2.4163103 2.39965   2.3705828]]\n",
            "[[2.4047227 2.417277  2.495779  2.4944146]\n",
            " [2.3975081 2.428866  2.479752  2.479766 ]\n",
            " [2.3988886 2.4270258 2.4837766 2.4851532]\n",
            " [2.4059386 2.429382  2.4960866 2.4923246]\n",
            " [2.4057677 2.431717  2.4967356 2.4901888]\n",
            " [2.4053788 2.4315057 2.488792  2.4920833]\n",
            " [2.4086196 2.4340522 2.486577  2.4844663]\n",
            " [2.4074285 2.4375348 2.4904566 2.4902792]\n",
            " [2.408643  2.4374368 2.4911506 2.4887042]\n",
            " [2.413443  2.434363  2.4900334 2.4899478]\n",
            " [2.407026  2.4375992 2.4965765 2.4942017]\n",
            " [2.4129395 2.4373448 2.4970295 2.4958832]\n",
            " [2.415124  2.4400313 2.4916663 2.495868 ]\n",
            " [2.4120872 2.4376028 2.4927964 2.4993966]\n",
            " [2.4160502 2.4372356 2.49362   2.4982557]\n",
            " [2.419101  2.4387286 2.501788  2.5004313]\n",
            " [2.4261897 2.440792  2.5026083 2.4982405]\n",
            " [2.424016  2.4361355 2.4980295 2.503879 ]\n",
            " [2.4231265 2.4311314 2.5003827 2.5020063]\n",
            " [2.4260826 2.4260588 2.5011196 2.5004153]]\n",
            "[[2.418352  2.4110658 2.4990287 2.504095 ]\n",
            " [2.4027824 2.412136  2.4757588 2.480965 ]\n",
            " [2.4053338 2.4082193 2.4801958 2.4876056]\n",
            " [2.4105706 2.409245  2.4862428 2.4899647]\n",
            " [2.4091673 2.409205  2.4863665 2.4898572]\n",
            " [2.4050937 2.4109883 2.4835548 2.489621 ]\n",
            " [2.4102821 2.4080608 2.4800677 2.4851315]\n",
            " [2.40791   2.4126492 2.4837852 2.488634 ]\n",
            " [2.4073408 2.4127693 2.486575  2.4880428]\n",
            " [2.410085  2.408042  2.4802659 2.4874773]\n",
            " [2.402638  2.4108374 2.485445  2.4869523]\n",
            " [2.4079835 2.40929   2.486869  2.490025 ]\n",
            " [2.4071226 2.4103541 2.4790468 2.4910924]\n",
            " [2.40508   2.4100723 2.4798489 2.4903455]\n",
            " [2.4060807 2.4098945 2.4838858 2.4900744]\n",
            " [2.4073606 2.408559  2.4888976 2.4922218]\n",
            " [2.4113095 2.415148  2.4877927 2.486777 ]\n",
            " [2.4110718 2.4097383 2.4808478 2.4939795]\n",
            " [2.4061284 2.402659  2.4855485 2.4845998]\n",
            " [2.4090123 2.3962748 2.4844394 2.485535 ]]\n",
            "[[2.174417  2.312088  2.2873316 2.1470666]\n",
            " [2.165502  2.3240633 2.2658856 2.1348314]\n",
            " [2.1724408 2.3236535 2.2694263 2.1444688]\n",
            " [2.18324   2.332602  2.2937002 2.1508458]\n",
            " [2.1832316 2.331031  2.2862976 2.1598537]\n",
            " [2.1789112 2.3332047 2.2845712 2.154738 ]\n",
            " [2.1756938 2.3288088 2.2819042 2.1448634]\n",
            " [2.1746612 2.3436742 2.2901676 2.1537519]\n",
            " [2.175721  2.3431964 2.29235   2.144526 ]\n",
            " [2.1855147 2.3409278 2.2822278 2.1488512]\n",
            " [2.1643991 2.3448267 2.2947977 2.156916 ]\n",
            " [2.183709  2.352628  2.2967193 2.1658137]\n",
            " [2.1738784 2.348958  2.2919476 2.1625354]\n",
            " [2.174167  2.3574188 2.28662   2.166258 ]\n",
            " [2.1811533 2.3513727 2.2924213 2.1630962]\n",
            " [2.1833549 2.3527293 2.3013031 2.1649792]\n",
            " [2.1928172 2.354221  2.296831  2.157897 ]\n",
            " [2.1842637 2.353513  2.3031356 2.1630578]\n",
            " [2.1828856 2.3546076 2.303949  2.1680856]\n",
            " [2.1866133 2.3401737 2.2977238 2.1718385]]\n",
            "[[2.1865811 2.1706927 2.1458282 2.1221046]\n",
            " [2.1866677 2.17322   2.133743  2.1172743]\n",
            " [2.1822119 2.1723092 2.1439312 2.121672 ]\n",
            " [2.193193  2.1773896 2.155309  2.135069 ]\n",
            " [2.188466  2.1839726 2.153893  2.1313512]\n",
            " [2.1916192 2.1837215 2.1456447 2.1350098]\n",
            " [2.1939602 2.1852953 2.1442058 2.1248875]\n",
            " [2.19436   2.1873357 2.1470363 2.1315806]\n",
            " [2.1924746 2.1858702 2.147154  2.1287813]\n",
            " [2.1995678 2.1826057 2.1485283 2.1307116]\n",
            " [2.1891341 2.1872737 2.1539567 2.131635 ]\n",
            " [2.1955554 2.1876976 2.1533215 2.1281722]\n",
            " [2.1986885 2.1877244 2.149318  2.135251 ]\n",
            " [2.1970842 2.1810236 2.1479666 2.1387744]\n",
            " [2.2013733 2.182632  2.1526062 2.1376033]\n",
            " [2.2013235 2.186831  2.1625218 2.144631 ]\n",
            " [2.207642  2.191404  2.1491334 2.1403205]\n",
            " [2.203227  2.184085  2.156499  2.1320078]\n",
            " [2.2001803 2.1821704 2.1564941 2.140095 ]\n",
            " [2.2042022 2.180001  2.1606755 2.1325107]]\n",
            "[[2.1041765 2.1145067 2.216073  2.2236984]\n",
            " [2.095626  2.1204882 2.1992018 2.2065012]\n",
            " [2.0994034 2.1154184 2.204972  2.2153795]\n",
            " [2.1030018 2.11571   2.2117138 2.2167358]\n",
            " [2.1010318 2.118507  2.211819  2.2204156]\n",
            " [2.0975215 2.1195145 2.208882  2.221074 ]\n",
            " [2.1036613 2.112926  2.2064815 2.214203 ]\n",
            " [2.1040614 2.1182067 2.2090278 2.2189038]\n",
            " [2.1030777 2.117886  2.211041  2.2156138]\n",
            " [2.1074052 2.110331  2.2047932 2.2147372]\n",
            " [2.1012907 2.1148078 2.2080467 2.2160313]\n",
            " [2.1061444 2.112646  2.2112255 2.2147255]\n",
            " [2.1055331 2.1125948 2.2022939 2.217396 ]\n",
            " [2.1047084 2.1115105 2.2025175 2.2178597]\n",
            " [2.1040528 2.113756  2.2096055 2.2181234]\n",
            " [2.1050057 2.1132097 2.209442  2.2207909]\n",
            " [2.1068068 2.122381  2.2142463 2.2145214]\n",
            " [2.106396  2.115497  2.2053666 2.2248857]\n",
            " [2.102231  2.1159194 2.210217  2.2143288]\n",
            " [2.10481   2.1130006 2.2098632 2.2147217]]\n",
            "[[2.4907176 2.4421391 2.4247956 2.411282 ]\n",
            " [2.4844372 2.4348316 2.4104693 2.4012084]\n",
            " [2.4794471 2.436212  2.4205732 2.4047942]\n",
            " [2.489628  2.4401815 2.42759   2.4123058]\n",
            " [2.4885535 2.4424222 2.4242716 2.41099  ]\n",
            " [2.4861977 2.4444842 2.4232428 2.4124193]\n",
            " [2.4888058 2.4451602 2.419548  2.4066565]\n",
            " [2.4876733 2.4489052 2.4228137 2.4098237]\n",
            " [2.4857802 2.4511044 2.427373  2.4142125]\n",
            " [2.4880512 2.4508035 2.4278283 2.4133286]\n",
            " [2.4779375 2.4544768 2.4310038 2.4134648]\n",
            " [2.4843025 2.4536242 2.4309046 2.413288 ]\n",
            " [2.4849305 2.4556944 2.4277282 2.421505 ]\n",
            " [2.4834173 2.4541488 2.4303975 2.4245296]\n",
            " [2.4881835 2.4536898 2.432816  2.4223814]\n",
            " [2.4888177 2.4537404 2.4453034 2.4249158]\n",
            " [2.4948645 2.459879  2.4299574 2.4205499]\n",
            " [2.4935887 2.4572573 2.4389615 2.4163325]\n",
            " [2.4875996 2.4482589 2.4429939 2.4216976]\n",
            " [2.4948254 2.4398158 2.441022  2.4199235]]\n",
            "[[2.5023634 2.4918911 2.608235  2.6291618]\n",
            " [2.4947352 2.497037  2.59543   2.611922 ]\n",
            " [2.4981487 2.494513  2.5978367 2.6181433]\n",
            " [2.5032504 2.4939075 2.6041443 2.6144226]\n",
            " [2.504872  2.4922047 2.6031735 2.6179953]\n",
            " [2.4985232 2.49407   2.6077278 2.6186352]\n",
            " [2.5042336 2.4906738 2.603896  2.6169147]\n",
            " [2.5026884 2.4961474 2.6069047 2.6197476]\n",
            " [2.505029  2.4993243 2.6124568 2.6240194]\n",
            " [2.5039742 2.4951575 2.6061997 2.6212444]\n",
            " [2.5003462 2.4960616 2.6063673 2.6242647]\n",
            " [2.5047076 2.4923575 2.6113303 2.624227 ]\n",
            " [2.5034826 2.4964755 2.6038878 2.6266627]\n",
            " [2.5026715 2.4988375 2.609144  2.6298523]\n",
            " [2.5042388 2.4980435 2.612476  2.6286905]\n",
            " [2.5058794 2.4935818 2.6164784 2.626372 ]\n",
            " [2.5094497 2.5013278 2.6218886 2.6225693]\n",
            " [2.5112314 2.500783  2.6112947 2.6365833]\n",
            " [2.5053468 2.4909904 2.6204498 2.6229255]\n",
            " [2.5100741 2.4820006 2.6136332 2.6296988]]\n",
            "[[2.38435   2.468122  2.442452  2.3153884]\n",
            " [2.3388479 2.4527268 2.381975  2.267035 ]\n",
            " [2.3454    2.4445763 2.3843548 2.2780583]\n",
            " [2.3546402 2.4516351 2.396748  2.2832866]\n",
            " [2.34885   2.4431489 2.3905442 2.282209 ]\n",
            " [2.340475  2.4479327 2.3861475 2.2727652]\n",
            " [2.3409202 2.4403782 2.380135  2.2669208]\n",
            " [2.333227  2.453048  2.3906066 2.2721298]\n",
            " [2.3288157 2.448342  2.3931181 2.2620018]\n",
            " [2.3380947 2.4443507 2.369846  2.2652597]\n",
            " [2.3113523 2.4465039 2.3922489 2.2548196]\n",
            " [2.328023  2.454907  2.388244  2.2752233]\n",
            " [2.3146055 2.4461145 2.378027  2.2695694]\n",
            " [2.3114564 2.4532716 2.3657606 2.2584643]\n",
            " [2.3140533 2.4453883 2.376222  2.257217 ]\n",
            " [2.3117695 2.4457135 2.3886423 2.2687604]\n",
            " [2.318643  2.450124  2.3688982 2.2563624]\n",
            " [2.3109798 2.4420037 2.3685002 2.2538137]\n",
            " [2.302403  2.434241  2.3682458 2.24265  ]\n",
            " [2.3034627 2.4201329 2.366716  2.2439303]]\n",
            "[[2.4786048 2.4671173 2.5223398 2.5203483]\n",
            " [2.4669948 2.466079  2.5031266 2.5018313]\n",
            " [2.4670634 2.465805  2.50732   2.5066857]\n",
            " [2.474463  2.4689853 2.5160046 2.5117073]\n",
            " [2.4730763 2.4705122 2.5164227 2.5100439]\n",
            " [2.4718523 2.4722857 2.5111053 2.5112398]\n",
            " [2.4757643 2.472853  2.5081196 2.5047562]\n",
            " [2.4735696 2.4766867 2.5115428 2.5098479]\n",
            " [2.4740105 2.4768374 2.514066  2.5090263]\n",
            " [2.4773574 2.4732392 2.5087795 2.5090196]\n",
            " [2.4703975 2.4748905 2.51162   2.5082834]\n",
            " [2.4757662 2.4733503 2.5131905 2.5083156]\n",
            " [2.4769857 2.4757097 2.5061836 2.5103638]\n",
            " [2.4757662 2.4724002 2.5091622 2.5115654]\n",
            " [2.47885   2.4721966 2.5130544 2.5114017]\n",
            " [2.4809487 2.4707904 2.521071  2.5150445]\n",
            " [2.486794  2.4753585 2.5143688 2.5111206]\n",
            " [2.486336  2.469719  2.5111928 2.511202 ]\n",
            " [2.4825861 2.4618514 2.514708  2.507587 ]\n",
            " [2.4859073 2.4548209 2.5138993 2.5064814]]\n",
            "[[2.1382248 2.1510804 2.2137346 2.207022 ]\n",
            " [2.128991  2.155134  2.1942017 2.1902966]\n",
            " [2.130193  2.15265   2.2007244 2.1974323]\n",
            " [2.1362932 2.1555262 2.209949  2.2055357]\n",
            " [2.1330388 2.1605682 2.211761  2.2049646]\n",
            " [2.1335917 2.1612463 2.2023826 2.206557 ]\n",
            " [2.1380622 2.159056  2.2007008 2.1967928]\n",
            " [2.1378338 2.1627991 2.203271  2.2032666]\n",
            " [2.1373127 2.1604838 2.2033553 2.1972935]\n",
            " [2.144     2.1537192 2.198105  2.1986046]\n",
            " [2.1366096 2.157687  2.2020586 2.198231 ]\n",
            " [2.1423113 2.1565983 2.2032626 2.196405 ]\n",
            " [2.1439984 2.1562986 2.1954656 2.1980968]\n",
            " [2.14318   2.150642  2.1954262 2.1983633]\n",
            " [2.1443489 2.1527765 2.2021518 2.1995692]\n",
            " [2.1462266 2.1536584 2.2052293 2.20566  ]\n",
            " [2.1502845 2.1595192 2.2021334 2.20028  ]\n",
            " [2.1484814 2.1499376 2.197349  2.200542 ]\n",
            " [2.1462843 2.1502733 2.1986938 2.1973171]\n",
            " [2.1475215 2.1481514 2.201983  2.1927822]]\n",
            "[[2.2900345 2.4579768 2.4315114 2.2378697]\n",
            " [2.2537086 2.4499342 2.3822854 2.1984482]\n",
            " [2.2642343 2.443202  2.3859084 2.212525 ]\n",
            " [2.271371  2.4523096 2.4037797 2.210017 ]\n",
            " [2.2707028 2.4411678 2.3907933 2.2207751]\n",
            " [2.2572265 2.4471745 2.3978965 2.2079012]\n",
            " [2.2563155 2.432637  2.3912864 2.204172 ]\n",
            " [2.2516243 2.452715  2.4037375 2.209595 ]\n",
            " [2.2468424 2.4532468 2.410561  2.203823 ]\n",
            " [2.253993  2.4497669 2.3882773 2.2040195]\n",
            " [2.224959  2.45513   2.4058235 2.2027295]\n",
            " [2.247442  2.463529  2.4068692 2.221843 ]\n",
            " [2.2275581 2.4567137 2.399363  2.2175546]\n",
            " [2.2272563 2.4758651 2.3869736 2.2128108]\n",
            " [2.229401  2.4632099 2.3988364 2.2079499]\n",
            " [2.2282715 2.4614637 2.407687  2.2112968]\n",
            " [2.2358088 2.4664218 2.3987513 2.1989129]\n",
            " [2.2268593 2.4682024 2.4000962 2.2122178]\n",
            " [2.21867   2.4627016 2.4062095 2.199657 ]\n",
            " [2.2243786 2.443427  2.3928595 2.2126582]]\n",
            "[[2.1469479 2.1488326 2.2210307 2.2253265]\n",
            " [2.1456485 2.1564896 2.2108107 2.2152946]\n",
            " [2.1469016 2.1532977 2.2176383 2.2223587]\n",
            " [2.1529746 2.1543608 2.2266834 2.2258484]\n",
            " [2.1516175 2.157877  2.225784  2.2289279]\n",
            " [2.1494591 2.1583252 2.2241018 2.2312093]\n",
            " [2.1543102 2.154612  2.2219334 2.223977 ]\n",
            " [2.155231  2.1589713 2.2242103 2.2291048]\n",
            " [2.1555426 2.1595783 2.2265844 2.2284358]\n",
            " [2.1588547 2.1536546 2.223538  2.2274609]\n",
            " [2.1534362 2.1574543 2.2251391 2.230811 ]\n",
            " [2.1581838 2.1550806 2.228828  2.2271855]\n",
            " [2.158966  2.156563  2.22197   2.231933 ]\n",
            " [2.1583    2.1550012 2.2237139 2.2356863]\n",
            " [2.1598516 2.156556  2.2296124 2.235111 ]\n",
            " [2.160603  2.1562216 2.232304  2.2370803]\n",
            " [2.1639118 2.1642058 2.2345228 2.2325244]\n",
            " [2.16276   2.1597188 2.2295318 2.2401204]\n",
            " [2.1589868 2.158494  2.234755  2.2341423]\n",
            " [2.1627657 2.1549747 2.2333632 2.2345712]]\n",
            "[[2.2877057 2.262514  2.2408185 2.2175148]\n",
            " [2.280808  2.2600598 2.2219806 2.205958 ]\n",
            " [2.2764614 2.258659  2.2323246 2.2102866]\n",
            " [2.2870626 2.263402  2.2415614 2.223464 ]\n",
            " [2.2824357 2.2683187 2.2403255 2.2190566]\n",
            " [2.283885  2.2690659 2.2327259 2.2214112]\n",
            " [2.286295  2.270427  2.2304046 2.2126014]\n",
            " [2.2852368 2.2726302 2.2337377 2.2179677]\n",
            " [2.2827969 2.2712111 2.234424  2.216259 ]\n",
            " [2.28883   2.2683995 2.234398  2.2177603]\n",
            " [2.2774627 2.2728527 2.2407968 2.2168732]\n",
            " [2.283822  2.2731133 2.2395203 2.2165096]\n",
            " [2.2860153 2.27289   2.2347891 2.2225578]\n",
            " [2.283886  2.267433  2.2331676 2.223435 ]\n",
            " [2.2880507 2.2680662 2.2375124 2.2225199]\n",
            " [2.2877474 2.2712038 2.2478695 2.2292159]\n",
            " [2.2941644 2.276203  2.2323532 2.224013 ]\n",
            " [2.2902048 2.2687693 2.2395923 2.2159219]\n",
            " [2.286159  2.2643712 2.2399259 2.2219179]\n",
            " [2.2900364 2.2605848 2.2436628 2.2151785]]\n",
            "[[2.573275  2.5527887 2.6508107 2.668376 ]\n",
            " [2.5654938 2.5555682 2.6378613 2.6518404]\n",
            " [2.5678253 2.5539565 2.6408486 2.657246 ]\n",
            " [2.5740848 2.5538602 2.6469011 2.6544356]\n",
            " [2.5755372 2.5517395 2.645624  2.6570191]\n",
            " [2.5693629 2.5540047 2.6504722 2.6576664]\n",
            " [2.5746684 2.5516362 2.6463606 2.6563973]\n",
            " [2.5724936 2.5567875 2.649504  2.6588833]\n",
            " [2.5747929 2.5602634 2.6556208 2.6641617]\n",
            " [2.573433  2.5571778 2.6498694 2.6615052]\n",
            " [2.5689917 2.5576358 2.6497722 2.6640556]\n",
            " [2.5735846 2.5541418 2.6541815 2.6643324]\n",
            " [2.5724778 2.5584426 2.6472955 2.6672466]\n",
            " [2.5714924 2.5604784 2.6527855 2.6700215]\n",
            " [2.5737414 2.5593405 2.6558762 2.66878  ]\n",
            " [2.5752363 2.554799  2.6617942 2.66662  ]\n",
            " [2.5795488 2.562227  2.6632493 2.663076 ]\n",
            " [2.5812373 2.562097  2.654823  2.6739564]\n",
            " [2.574725  2.5504742 2.6638415 2.6621268]\n",
            " [2.5798593 2.5406427 2.6568742 2.668582 ]]\n",
            "[[2.0791047 2.082021  2.1602983 2.1771019]\n",
            " [2.0920079 2.0948446 2.1640368 2.1762567]\n",
            " [2.092798  2.0920196 2.1693761 2.182204 ]\n",
            " [2.100429  2.0922747 2.18143   2.1826537]\n",
            " [2.0987482 2.0963693 2.1798687 2.191169 ]\n",
            " [2.0976872 2.096713  2.1839092 2.1958957]\n",
            " [2.1030748 2.0918787 2.1826746 2.1876745]\n",
            " [2.1052544 2.0953696 2.1830533 2.194112 ]\n",
            " [2.1100261 2.0959997 2.1857607 2.1952665]\n",
            " [2.1093745 2.087363  2.1794035 2.1918032]\n",
            " [2.1093903 2.087548  2.1726658 2.1953208]\n",
            " [2.1120708 2.0818903 2.1831753 2.1839254]\n",
            " [2.1139698 2.0850916 2.174187  2.1915915]\n",
            " [2.116227  2.083377  2.1813185 2.200472 ]\n",
            " [2.118404  2.08442   2.1913002 2.2010176]\n",
            " [2.117567  2.079843  2.1909788 2.2021635]\n",
            " [2.1189349 2.0902708 2.1960847 2.198234 ]\n",
            " [2.1183689 2.0877986 2.186199  2.2069044]\n",
            " [2.1139326 2.085681  2.1951132 2.195179 ]\n",
            " [2.117082  2.0815566 2.189455  2.1998627]]\n",
            "[[2.5801146 2.570772  2.6663857 2.676236 ]\n",
            " [2.5665352 2.5735712 2.6466393 2.6547198]\n",
            " [2.5688584 2.5715458 2.6489964 2.6600716]\n",
            " [2.574856  2.57264   2.6564796 2.6609411]\n",
            " [2.5753734 2.5714436 2.6564567 2.6604633]\n",
            " [2.5710826 2.5731316 2.6551783 2.6607149]\n",
            " [2.5757153 2.5728016 2.6514983 2.6573908]\n",
            " [2.572936  2.5774283 2.6553912 2.660949 ]\n",
            " [2.574205  2.5790248 2.6590886 2.6628838]\n",
            " [2.5753646 2.575922  2.6535602 2.6618903]\n",
            " [2.5694647 2.5772812 2.6576133 2.663087 ]\n",
            " [2.5745928 2.5752587 2.6597743 2.666116 ]\n",
            " [2.5743208 2.5786424 2.6527977 2.6667023]\n",
            " [2.5722706 2.5790176 2.656121  2.668182 ]\n",
            " [2.574845  2.5776825 2.6578717 2.6670768]\n",
            " [2.5770764 2.5752707 2.6650524 2.66718  ]\n",
            " [2.5825117 2.580134  2.6652367 2.6635454]\n",
            " [2.5829723 2.5772982 2.6577487 2.67218  ]\n",
            " [2.578498  2.5667896 2.6636577 2.6631238]\n",
            " [2.58231   2.5581028 2.6601892 2.666117 ]]\n",
            "[[2.6898613 2.6585174 2.643536  2.6172593]\n",
            " [2.6705983 2.6529233 2.613523  2.595028 ]\n",
            " [2.666333  2.6530333 2.6209688 2.5972576]\n",
            " [2.6776402 2.6587193 2.630569  2.6123354]\n",
            " [2.6745493 2.6601427 2.6307092 2.6025624]\n",
            " [2.6755583 2.6616783 2.619244  2.6032305]\n",
            " [2.6766925 2.6686268 2.6156695 2.5961468]\n",
            " [2.6718843 2.670273  2.6209927 2.6005342]\n",
            " [2.670031  2.6689143 2.6216075 2.6001744]\n",
            " [2.6755397 2.6695817 2.6214566 2.602963 ]\n",
            " [2.6626663 2.6726022 2.63214   2.6005542]\n",
            " [2.669911  2.674383  2.627592  2.6076941]\n",
            " [2.6722567 2.675551  2.6238499 2.6087654]\n",
            " [2.667693  2.6708145 2.6224403 2.6072068]\n",
            " [2.6739795 2.6685317 2.621807  2.6060233]\n",
            " [2.6756392 2.671392  2.6384382 2.612138 ]\n",
            " [2.6856368 2.6714609 2.618358  2.6085374]\n",
            " [2.6818373 2.6646    2.625904  2.5982091]\n",
            " [2.6787636 2.6524456 2.6246948 2.6056454]\n",
            " [2.6821873 2.6447577 2.6288233 2.5987067]]\n",
            "[[2.4249063 2.423425  2.5484724 2.569801 ]\n",
            " [2.4181147 2.4305928 2.5365245 2.5533273]\n",
            " [2.4223235 2.4278307 2.538733  2.5602508]\n",
            " [2.4266965 2.4271576 2.5456386 2.556417 ]\n",
            " [2.4282393 2.4261668 2.545017  2.5605679]\n",
            " [2.4223251 2.4277105 2.5482352 2.56131  ]\n",
            " [2.4282644 2.423696  2.5447967 2.558658 ]\n",
            " [2.4273293 2.42942   2.547656  2.5620897]\n",
            " [2.4294987 2.4322777 2.5526934 2.5648417]\n",
            " [2.42946   2.4274082 2.5463893 2.5623667]\n",
            " [2.426087  2.4288292 2.5467877 2.565973 ]\n",
            " [2.430444  2.425305  2.5517895 2.5653546]\n",
            " [2.4294047 2.4291358 2.543986  2.5673819]\n",
            " [2.4286878 2.431008  2.5487874 2.5706232]\n",
            " [2.429734  2.4309537 2.552537  2.5696034]\n",
            " [2.431714  2.427099  2.5553195 2.5676084]\n",
            " [2.4349873 2.4349198 2.562843  2.5637984]\n",
            " [2.4366782 2.4336114 2.551217  2.5787508]\n",
            " [2.4315007 2.4261289 2.5598857 2.564968 ]\n",
            " [2.4358654 2.4182785 2.55377   2.5711644]]\n",
            "[[2.454873  2.4623284 2.5570307 2.5593483]\n",
            " [2.4416766 2.4721687 2.5353806 2.53881  ]\n",
            " [2.4431381 2.4687126 2.5401118 2.5446038]\n",
            " [2.448802  2.4699857 2.5496573 2.550559 ]\n",
            " [2.4499135 2.4710796 2.5496595 2.5484276]\n",
            " [2.446703  2.4708223 2.5441658 2.5488522]\n",
            " [2.450199  2.472363  2.541121  2.5435934]\n",
            " [2.4487045 2.4765384 2.5456483 2.547394 ]\n",
            " [2.4488218 2.476998  2.5467002 2.5482275]\n",
            " [2.4521687 2.474492  2.5464947 2.5487826]\n",
            " [2.4450881 2.4790483 2.555704  2.5529127]\n",
            " [2.4514718 2.4787407 2.5552058 2.5583599]\n",
            " [2.4519594 2.481129  2.550895  2.5582445]\n",
            " [2.4482539 2.4820287 2.551325  2.5616992]\n",
            " [2.4517846 2.4804523 2.5496013 2.5596232]\n",
            " [2.4547386 2.4817402 2.5573895 2.5598953]\n",
            " [2.4607608 2.4842596 2.561505  2.55636  ]\n",
            " [2.4591336 2.4809418 2.5573962 2.5682552]\n",
            " [2.457763  2.4743798 2.5607183 2.5646017]\n",
            " [2.4616234 2.4679582 2.5606346 2.5646105]]\n",
            "[[2.5526378 2.506421  2.5631099 2.5605712]\n",
            " [2.616488  2.575444  2.560488  2.581332 ]\n",
            " [2.6149106 2.5573797 2.604088  2.5888712]\n",
            " [2.6292768 2.5423913 2.615416  2.6258273]\n",
            " [2.6400096 2.5475333 2.6122873 2.6272871]\n",
            " [2.6196055 2.548277  2.6678486 2.645233 ]\n",
            " [2.6039715 2.5498056 2.6521146 2.6530988]\n",
            " [2.608692  2.5416112 2.6534953 2.65678  ]\n",
            " [2.621655  2.5423803 2.6641045 2.6853778]\n",
            " [2.6103568 2.5389905 2.6893997 2.6815872]\n",
            " [2.5997941 2.5505092 2.6605644 2.7084188]\n",
            " [2.6040595 2.5462155 2.6597397 2.6869063]\n",
            " [2.6028132 2.5586805 2.691087  2.6923168]\n",
            " [2.5976634 2.5813541 2.6824632 2.6977835]\n",
            " [2.6033278 2.5661523 2.676175  2.7187614]\n",
            " [2.5877059 2.557334  2.6698046 2.6935434]\n",
            " [2.6113849 2.5719235 2.677746  2.6876104]\n",
            " [2.598804  2.5844414 2.6814575 2.7199128]\n",
            " [2.5845459 2.5649548 2.7128115 2.710539 ]\n",
            " [2.5855665 2.5660455 2.7022805 2.725126 ]]\n",
            "[[2.2989933 2.2938526 2.3776479 2.3833756]\n",
            " [2.2892733 2.2947977 2.3590329 2.36434  ]\n",
            " [2.2919285 2.2920678 2.3637035 2.3714619]\n",
            " [2.297901  2.2922103 2.3694146 2.3735619]\n",
            " [2.2959244 2.2936487 2.3707747 2.3740757]\n",
            " [2.292415  2.2955022 2.3704567 2.3756256]\n",
            " [2.297367  2.2917843 2.3673775 2.3711784]\n",
            " [2.2957268 2.2959766 2.3697376 2.3755302]\n",
            " [2.2964766 2.2961462 2.3732975 2.3742688]\n",
            " [2.299256  2.290085  2.3653738 2.3735363]\n",
            " [2.2925184 2.2917442 2.3665912 2.373412 ]\n",
            " [2.2974594 2.288768  2.3697557 2.373256 ]\n",
            " [2.2968545 2.29122   2.360411  2.3745823]\n",
            " [2.2965705 2.2886474 2.3625462 2.3724966]\n",
            " [2.296898  2.2904234 2.3684127 2.3736806]\n",
            " [2.2974308 2.2883708 2.3702235 2.3750393]\n",
            " [2.301292  2.2973223 2.3686624 2.3688731]\n",
            " [2.3012154 2.2916667 2.3599248 2.3734686]\n",
            " [2.2951734 2.2877824 2.3659894 2.3631876]\n",
            " [2.2971513 2.28269   2.364181  2.3644478]]\n",
            "[[2.487002  2.4790828 2.6128292 2.63023  ]\n",
            " [2.4630127 2.4742265 2.583899  2.598033 ]\n",
            " [2.469381  2.4695168 2.5847151 2.6065626]\n",
            " [2.471931  2.4689972 2.5863214 2.6015449]\n",
            " [2.4699836 2.4656637 2.587921  2.6033762]\n",
            " [2.4630876 2.469378  2.5870492 2.601014 ]\n",
            " [2.4706345 2.461749  2.5827618 2.5989115]\n",
            " [2.4664605 2.4679928 2.5862646 2.6014478]\n",
            " [2.46582   2.4681287 2.591207  2.5989869]\n",
            " [2.467681  2.4613528 2.5765398 2.5975184]\n",
            " [2.4607425 2.462095  2.5802019 2.5924947]\n",
            " [2.46529   2.4597082 2.583088  2.5975423]\n",
            " [2.4618149 2.46052   2.5707088 2.5959573]\n",
            " [2.460847  2.4606092 2.5722804 2.5897965]\n",
            " [2.4582787 2.461932  2.5793612 2.5910532]\n",
            " [2.4596174 2.4574752 2.5806623 2.5929756]\n",
            " [2.461021  2.4673555 2.580917  2.5854526]\n",
            " [2.46371   2.4603    2.5655837 2.5946906]\n",
            " [2.4560046 2.4520159 2.572234  2.5748045]\n",
            " [2.457355  2.444435  2.5692353 2.5786076]]\n",
            "[[1.9706755 1.9764262 2.0700946 2.0809548]\n",
            " [1.9701868 1.9843042 2.062183  2.0718508]\n",
            " [1.9739398 1.9793701 2.0705042 2.0814235]\n",
            " [1.9774133 1.978107  2.0775902 2.0818021]\n",
            " [1.976132  1.9833615 2.0767162 2.0901957]\n",
            " [1.9713491 1.984348  2.0776997 2.0918643]\n",
            " [1.9779592 1.9753566 2.0753837 2.0839183]\n",
            " [1.9809521 1.9809201 2.076876  2.088222 ]\n",
            " [1.9801984 1.982857  2.0793765 2.08744  ]\n",
            " [1.9835242 1.9738519 2.0759218 2.0848691]\n",
            " [1.9783975 1.9799525 2.0757709 2.0894337]\n",
            " [1.982706  1.9755958 2.081285  2.084772 ]\n",
            " [1.9826851 1.9757525 2.0731206 2.0906518]\n",
            " [1.9826691 1.976     2.0751858 2.0938747]\n",
            " [1.9820632 1.9787511 2.083903  2.0943985]\n",
            " [1.9825355 1.977161  2.0811214 2.0938559]\n",
            " [1.9835986 1.9889011 2.0882883 2.08822  ]\n",
            " [1.9831456 1.9830999 2.081008  2.101472 ]\n",
            " [1.9781967 1.986661  2.0879629 2.0927403]\n",
            " [1.9823133 1.98398   2.0856051 2.094877 ]]\n",
            "[[2.2309618 2.2159607 2.298592  2.3102407]\n",
            " [2.2236469 2.215665  2.2836258 2.2935264]\n",
            " [2.2256515 2.2114003 2.2897515 2.3009198]\n",
            " [2.230778  2.2114735 2.2943888 2.3000658]\n",
            " [2.2288854 2.212572  2.2931304 2.3045492]\n",
            " [2.2239277 2.2146463 2.296195  2.305387 ]\n",
            " [2.2301838 2.2076342 2.292994  2.3010774]\n",
            " [2.2298017 2.212677  2.295125  2.3043983]\n",
            " [2.2296941 2.2137456 2.2994022 2.305427 ]\n",
            " [2.2304735 2.2068992 2.2918303 2.3027663]\n",
            " [2.2251313 2.2093506 2.2915595 2.3024187]\n",
            " [2.2292461 2.2055807 2.2966614 2.299662 ]\n",
            " [2.2278812 2.20657   2.28782   2.3050182]\n",
            " [2.2281437 2.206761  2.290548  2.3062136]\n",
            " [2.2280028 2.2078376 2.2985923 2.30625  ]\n",
            " [2.227547  2.2044413 2.2995315 2.3077655]\n",
            " [2.228791  2.2153246 2.3002815 2.3012817]\n",
            " [2.2294316 2.2110631 2.2926335 2.3100734]\n",
            " [2.2225163 2.2063112 2.3002448 2.297571 ]\n",
            " [2.2262974 2.200705  2.29643   2.30095  ]]\n",
            "[[2.4559834 2.403862  2.4037695 2.4007204]\n",
            " [2.4522026 2.392459  2.393729  2.391314 ]\n",
            " [2.4493277 2.3940454 2.4005368 2.3957834]\n",
            " [2.4592295 2.397285  2.40497   2.3966076]\n",
            " [2.456332  2.398281  2.4022212 2.397649 ]\n",
            " [2.453712  2.4017668 2.4060018 2.399539 ]\n",
            " [2.4584498 2.3985028 2.4026241 2.3959305]\n",
            " [2.4569535 2.4028792 2.4044843 2.399487 ]\n",
            " [2.4563196 2.4054358 2.411216  2.4025972]\n",
            " [2.457438  2.402694  2.4045303 2.400328 ]\n",
            " [2.4493194 2.402895  2.4015698 2.397907 ]\n",
            " [2.4542294 2.3998709 2.4053314 2.3929524]\n",
            " [2.4539485 2.4022882 2.3974516 2.4017704]\n",
            " [2.4550982 2.3986616 2.4024572 2.4021747]\n",
            " [2.4576156 2.4001284 2.410439  2.4014497]\n",
            " [2.4568548 2.3969295 2.4184117 2.4046552]\n",
            " [2.4609263 2.4069052 2.4029274 2.3991263]\n",
            " [2.4617577 2.40347   2.4049342 2.3928325]\n",
            " [2.4525213 2.3939233 2.4116385 2.389508 ]\n",
            " [2.4587016 2.3851197 2.4069433 2.3906944]]\n",
            "[[2.4695802 2.46494   2.4724064 2.465567 ]\n",
            " [2.478302  2.4719377 2.471131  2.464382 ]\n",
            " [2.4745317 2.4770231 2.475095  2.4651914]\n",
            " [2.487426  2.4831803 2.4929855 2.4756691]\n",
            " [2.485672  2.4883883 2.493382  2.4753628]\n",
            " [2.4911456 2.4893866 2.4862921 2.4811404]\n",
            " [2.4928503 2.4962118 2.4855583 2.4696555]\n",
            " [2.491893  2.4976387 2.4868343 2.4785085]\n",
            " [2.4984949 2.4965165 2.488215  2.4775531]\n",
            " [2.5008776 2.4932282 2.485215  2.4780426]\n",
            " [2.4988809 2.4903436 2.4787521 2.4805458]\n",
            " [2.5043528 2.4875712 2.4847136 2.4693384]\n",
            " [2.5101676 2.4916906 2.479217  2.473778 ]\n",
            " [2.5116694 2.4832087 2.488812  2.4835439]\n",
            " [2.519502  2.4817529 2.4954274 2.4850888]\n",
            " [2.5225823 2.4776888 2.5067499 2.4915812]\n",
            " [2.5304313 2.478584  2.4947414 2.4917758]\n",
            " [2.5291686 2.4740508 2.4937546 2.480603 ]\n",
            " [2.5282867 2.4645252 2.4967327 2.4844291]\n",
            " [2.5308738 2.457083  2.4949536 2.4822106]]\n",
            "[[2.0202062 1.9959655 2.0007086 2.0000463]\n",
            " [2.0311992 1.9926807 2.0044968 2.0031521]\n",
            " [2.029474  1.9925514 2.0091243 2.0099316]\n",
            " [2.0383048 1.996255  2.015707  2.0073464]\n",
            " [2.0321326 2.0024107 2.0126538 2.0111933]\n",
            " [2.033575  2.0031981 2.0166495 2.015957 ]\n",
            " [2.0400608 1.9949691 2.0161364 2.0097258]\n",
            " [2.0431798 1.9999329 2.0160465 2.0176573]\n",
            " [2.0418727 2.0004838 2.0204735 2.0137405]\n",
            " [2.0469909 1.9926414 2.0116577 2.0120037]\n",
            " [2.040459  1.9935607 2.0070639 2.0093985]\n",
            " [2.044906  1.9902362 2.013859  1.9951403]\n",
            " [2.0451124 1.9913584 2.0043845 2.0080898]\n",
            " [2.0497804 1.9834125 2.0079823 2.0131156]\n",
            " [2.048862  1.9892248 2.0199614 2.011903 ]\n",
            " [2.0466652 1.9887538 2.0212448 2.0184054]\n",
            " [2.046584  2.001434  2.0140374 2.0110886]\n",
            " [2.0469625 1.9946296 2.0128517 2.0065186]\n",
            " [2.038302  1.9945073 2.0190473 2.0022466]\n",
            " [2.043584  1.9917799 2.016605  2.0004902]]\n",
            "[[2.1783767 2.3868184 2.3690286 2.171666 ]\n",
            " [2.130803  2.373517  2.2959335 2.1162498]\n",
            " [2.1329117 2.3711028 2.3083174 2.1277316]\n",
            " [2.145592  2.3803604 2.3170187 2.1450493]\n",
            " [2.1464248 2.376921  2.3158247 2.1433938]\n",
            " [2.137752  2.3858466 2.3184114 2.132706 ]\n",
            " [2.137758  2.3797543 2.310686  2.1319566]\n",
            " [2.1385055 2.3919666 2.3193913 2.1336596]\n",
            " [2.1342146 2.3912122 2.3268285 2.133857 ]\n",
            " [2.143138  2.385678  2.3081703 2.1325948]\n",
            " [2.1192439 2.3918872 2.318448  2.130711 ]\n",
            " [2.1416926 2.3901916 2.3125958 2.1492147]\n",
            " [2.1329827 2.3855286 2.3148515 2.1402392]\n",
            " [2.1337905 2.3914106 2.3020792 2.1289182]\n",
            " [2.1370924 2.375783  2.3115594 2.1340184]\n",
            " [2.1411533 2.3676918 2.3133922 2.13412  ]\n",
            " [2.1556683 2.3694735 2.2999141 2.1204488]\n",
            " [2.1468825 2.3612728 2.3005948 2.130568 ]\n",
            " [2.1440957 2.3551958 2.3039026 2.1213152]\n",
            " [2.1458058 2.3355608 2.2979946 2.1281056]]\n",
            "[[2.5123503 2.4849422 2.5130992 2.5092406]\n",
            " [2.5049899 2.4819407 2.4979713 2.4956048]\n",
            " [2.503426  2.482816  2.503904  2.499452 ]\n",
            " [2.5127456 2.4861238 2.511995  2.5047987]\n",
            " [2.5112753 2.4873827 2.511434  2.50337  ]\n",
            " [2.5099242 2.489625  2.5091522 2.5051694]\n",
            " [2.5135608 2.4904265 2.5059001 2.4996324]\n",
            " [2.5113294 2.4938526 2.5088212 2.5040624]\n",
            " [2.5123153 2.4950948 2.5129585 2.505872 ]\n",
            " [2.5143876 2.4926128 2.5088687 2.505403 ]\n",
            " [2.5071557 2.4935234 2.5094752 2.5051882]\n",
            " [2.5125635 2.4915555 2.5114381 2.503613 ]\n",
            " [2.5138526 2.494341  2.5056696 2.5078676]\n",
            " [2.5130107 2.4909203 2.5095532 2.5097508]\n",
            " [2.516772  2.4906073 2.5141034 2.5094433]\n",
            " [2.5181592 2.488531  2.5235927 2.5123537]\n",
            " [2.5243657 2.4939117 2.5127242 2.50896  ]\n",
            " [2.5239868 2.4900007 2.5122132 2.505729 ]\n",
            " [2.5185943 2.4801006 2.516864  2.5040638]\n",
            " [2.5229445 2.4723716 2.5146766 2.503734 ]]\n",
            "[[2.0578039 2.0480103 2.0241606 2.0011904]\n",
            " [2.0577774 2.0498593 2.0117528 1.9953148]\n",
            " [2.0538254 2.047268  2.0211065 2.0008194]\n",
            " [2.0636094 2.0527587 2.032091  2.013042 ]\n",
            " [2.0576363 2.060691  2.0301611 2.0100315]\n",
            " [2.0614405 2.0595546 2.0217698 2.0134447]\n",
            " [2.0645611 2.0584965 2.0209632 2.0027313]\n",
            " [2.0662644 2.0612319 2.0238073 2.0107827]\n",
            " [2.0631566 2.0583038 2.022383  2.005159 ]\n",
            " [2.0716176 2.0525472 2.021568  2.0070298]\n",
            " [2.0608864 2.05803   2.027826  2.0054913]\n",
            " [2.0669942 2.058191  2.0279713 2.0001364]\n",
            " [2.0695872 2.0566585 2.022753  2.0087154]\n",
            " [2.0691416 2.0494285 2.0200374 2.0128202]\n",
            " [2.0718906 2.05135   2.0267768 2.0110822]\n",
            " [2.070901  2.056369  2.0344355 2.0206864]\n",
            " [2.075169  2.061725  2.022978  2.0152218]\n",
            " [2.0703592 2.0523608 2.0296485 2.008095 ]\n",
            " [2.0674093 2.0526912 2.0290933 2.0141606]\n",
            " [2.0708435 2.0518074 2.034361  2.0053935]]\n",
            "[[2.1703746 2.1761272 2.24865   2.249382 ]\n",
            " [2.1635244 2.1819725 2.232104  2.2337818]\n",
            " [2.1648138 2.177948  2.238457  2.240789 ]\n",
            " [2.1706831 2.1795447 2.2474291 2.2462397]\n",
            " [2.1682527 2.1831443 2.2474194 2.2475207]\n",
            " [2.1668952 2.1835895 2.2426145 2.2491446]\n",
            " [2.1716793 2.1804962 2.2405806 2.2411625]\n",
            " [2.171756  2.1844327 2.2432618 2.2465575]\n",
            " [2.1714318 2.1834722 2.244203  2.2438977]\n",
            " [2.1757004 2.1770473 2.2397516 2.2436116]\n",
            " [2.1694028 2.180913  2.2436414 2.2446969]\n",
            " [2.174374  2.1790345 2.246294  2.243134 ]\n",
            " [2.1752567 2.1795409 2.2387326 2.246356 ]\n",
            " [2.174153  2.1770916 2.2392774 2.2485294]\n",
            " [2.175507  2.1781485 2.2452183 2.248439 ]\n",
            " [2.1763322 2.178323  2.2481904 2.2522333]\n",
            " [2.1797113 2.185231  2.2488198 2.2470632]\n",
            " [2.1779928 2.1786644 2.243446  2.2529774]\n",
            " [2.1748717 2.177091  2.2470152 2.246814 ]\n",
            " [2.1773763 2.1737895 2.24761   2.245574 ]]\n",
            "[[2.5092335 2.49502   2.5880628 2.6015286]\n",
            " [2.5012758 2.4986844 2.5741475 2.5851207]\n",
            " [2.503438  2.4968762 2.5776436 2.5907826]\n",
            " [2.5096047 2.49726   2.584556  2.5898643]\n",
            " [2.5105164 2.4962785 2.5836332 2.59178  ]\n",
            " [2.5054054 2.498125  2.585971  2.5926154]\n",
            " [2.510438  2.4961138 2.5822453 2.5899217]\n",
            " [2.508659  2.50105   2.5854409 2.5930853]\n",
            " [2.5103796 2.5037339 2.5904746 2.5966895]\n",
            " [2.5104315 2.5003095 2.5854168 2.5947278]\n",
            " [2.5054507 2.501576  2.5865486 2.597288 ]\n",
            " [2.5102572 2.4986475 2.5902014 2.5975869]\n",
            " [2.5096748 2.5023606 2.583452  2.600227 ]\n",
            " [2.508459  2.5034306 2.5878546 2.602884 ]\n",
            " [2.510713  2.50271   2.5909376 2.6017601]\n",
            " [2.5123756 2.499386  2.5967505 2.6006806]\n",
            " [2.5169094 2.506225  2.5980322 2.5970469]\n",
            " [2.517879  2.5048327 2.590542  2.6068652]\n",
            " [2.512328  2.4951916 2.598215  2.596922 ]\n",
            " [2.517026  2.4866047 2.592936  2.6015706]]\n",
            "[[2.5867267 2.565842  2.6655364 2.6825132]\n",
            " [2.5754542 2.5661795 2.6490755 2.6624193]\n",
            " [2.5778813 2.5641487 2.651607  2.667934 ]\n",
            " [2.5837214 2.564242  2.6570106 2.6651573]\n",
            " [2.5846887 2.5619779 2.6560264 2.6671607]\n",
            " [2.57846   2.5644302 2.6601045 2.667379 ]\n",
            " [2.5838988 2.5617814 2.6559253 2.666045 ]\n",
            " [2.581339  2.5669768 2.6592183 2.6685483]\n",
            " [2.583108  2.569914  2.664931  2.6730592]\n",
            " [2.5819423 2.5664113 2.6579463 2.6704187]\n",
            " [2.5771344 2.566865  2.6587317 2.671406 ]\n",
            " [2.5816238 2.563374  2.6629136 2.672622 ]\n",
            " [2.580274  2.5672927 2.6553543 2.6751237]\n",
            " [2.579334  2.5691657 2.660431  2.676929 ]\n",
            " [2.5812283 2.567875  2.6636698 2.6758287]\n",
            " [2.582571  2.56323   2.66931   2.674365 ]\n",
            " [2.5866272 2.5706747 2.6702082 2.6701427]\n",
            " [2.588377  2.569607  2.6615052 2.6808   ]\n",
            " [2.5817773 2.55768   2.670137  2.6681654]\n",
            " [2.586509  2.54773   2.6636758 2.6741943]]\n",
            "[[2.439929  2.4337602 2.5219774 2.5298495]\n",
            " [2.429075  2.437177  2.5039449 2.5106847]\n",
            " [2.4310703 2.434484  2.5076811 2.5166342]\n",
            " [2.436979  2.435596  2.5153484 2.5184271]\n",
            " [2.4365678 2.4358776 2.5151606 2.518951 ]\n",
            " [2.43297   2.4372516 2.5135417 2.519693 ]\n",
            " [2.4377754 2.43559   2.5103369 2.5150738]\n",
            " [2.4360228 2.4400804 2.5137258 2.5191085]\n",
            " [2.4368114 2.4410586 2.5168183 2.5198877]\n",
            " [2.4386735 2.4367661 2.5114665 2.5188804]\n",
            " [2.4328105 2.438858  2.5149457 2.5200267]\n",
            " [2.4377613 2.4366782 2.5175996 2.5211632]\n",
            " [2.4377093 2.439189  2.5103498 2.5229952]\n",
            " [2.436157  2.4388483 2.5129912 2.5248039]\n",
            " [2.4381974 2.438388  2.5163836 2.5240192]\n",
            " [2.439794  2.43654   2.5218928 2.5251014]\n",
            " [2.4443166 2.4425302 2.5223699 2.5208597]\n",
            " [2.4442453 2.4387422 2.515454  2.528898 ]\n",
            " [2.4398766 2.4311047 2.521017  2.5203276]\n",
            " [2.4434257 2.424113  2.5184464 2.5223496]]\n",
            "[[2.208478  2.2309144 2.3239322 2.3239634]\n",
            " [2.200024  2.239747  2.3083985 2.3091462]\n",
            " [2.2029672 2.2383032 2.3126283 2.3168838]\n",
            " [2.2070346 2.2409241 2.3233297 2.3211594]\n",
            " [2.206939  2.244903  2.3241782 2.321849 ]\n",
            " [2.206138  2.2450933 2.3147292 2.3230562]\n",
            " [2.2107441 2.243611  2.3128533 2.313858 ]\n",
            " [2.2113607 2.248858  2.3162422 2.3203197]\n",
            " [2.2105591 2.248822  2.3170733 2.315578 ]\n",
            " [2.2175047 2.243775  2.3144252 2.3165812]\n",
            " [2.2111993 2.2488275 2.319818  2.3201134]\n",
            " [2.2171373 2.2484846 2.3205018 2.319408 ]\n",
            " [2.2186677 2.2498624 2.313849  2.3203125]\n",
            " [2.2169409 2.2467575 2.3147388 2.3230672]\n",
            " [2.2186687 2.2487938 2.3178148 2.3223197]\n",
            " [2.2225204 2.2504613 2.3221061 2.3255928]\n",
            " [2.2275314 2.2546859 2.326083  2.321907 ]\n",
            " [2.2266593 2.2476435 2.3208187 2.3294103]\n",
            " [2.2260711 2.2484572 2.3227725 2.326907 ]\n",
            " [2.2294493 2.245095  2.3241162 2.324266 ]]\n",
            "[[1.9438391 1.9565647 2.0449424 2.0502481]\n",
            " [1.9413228 1.9648653 2.03455   2.039262 ]\n",
            " [1.9444517 1.9592339 2.0427587 2.0494537]\n",
            " [1.9479537 1.9589508 2.0504045 2.051842 ]\n",
            " [1.9455775 1.9654179 2.0498195 2.0588124]\n",
            " [1.9422113 1.966173  2.0470595 2.0602198]\n",
            " [1.9490259 1.957912  2.045313  2.0507157]\n",
            " [1.9519042 1.9633036 2.0471804 2.0555015]\n",
            " [1.9501278 1.9636725 2.0477664 2.052496 ]\n",
            " [1.9551363 1.9543018 2.0435262 2.0503168]\n",
            " [1.9492538 1.9613087 2.0452852 2.0535305]\n",
            " [1.9537047 1.9572297 2.0502923 2.0496492]\n",
            " [1.95445   1.9560782 2.03965   2.0548878]\n",
            " [1.9538319 1.9547033 2.0407364 2.056384 ]\n",
            " [1.9540286 1.9574387 2.0505583 2.056772 ]\n",
            " [1.9544168 1.9573345 2.0477722 2.0591109]\n",
            " [1.9558605 1.9681072 2.0533173 2.0528743]\n",
            " [1.9542577 1.9595282 2.0465057 2.06375  ]\n",
            " [1.9505348 1.9650183 2.051389  2.0551674]\n",
            " [1.9541411 1.9624478 2.051268  2.0552952]]\n",
            "[[1.6696615 1.6866542 1.743553  1.7216165]\n",
            " [1.6656926 1.7003462 1.737778  1.7236698]\n",
            " [1.6738427 1.6989135 1.7614119 1.734727 ]\n",
            " [1.6649915 1.704899  1.7631667 1.7496123]\n",
            " [1.6736249 1.7167957 1.7684335 1.7586119]\n",
            " [1.6697185 1.7201825 1.7550529 1.7590014]\n",
            " [1.6776203 1.7083993 1.7485892 1.7458609]\n",
            " [1.6799839 1.7141776 1.7565581 1.7495588]\n",
            " [1.6743805 1.7167934 1.7518799 1.7460082]\n",
            " [1.6828694 1.7048783 1.7668475 1.7499602]\n",
            " [1.6723621 1.7266052 1.756968  1.7550645]\n",
            " [1.6821713 1.7213142 1.7551714 1.7435489]\n",
            " [1.6847367 1.7152224 1.7568128 1.7513644]\n",
            " [1.6834605 1.7199425 1.7615528 1.7557113]\n",
            " [1.6863372 1.7224586 1.7635014 1.7596657]\n",
            " [1.6891371 1.7255089 1.7569003 1.7601713]\n",
            " [1.6930499 1.7362207 1.7603106 1.7511566]\n",
            " [1.6876825 1.7219677 1.7682929 1.7584728]\n",
            " [1.6890798 1.7418406 1.7701051 1.7725472]\n",
            " [1.6962758 1.7447796 1.7761217 1.7617986]]\n",
            "[[2.6310341 2.6064048 2.5993385 2.5626953]\n",
            " [2.5947106 2.59415   2.5471215 2.5218194]\n",
            " [2.594691  2.5876186 2.5525064 2.526392 ]\n",
            " [2.6062667 2.5904872 2.5573385 2.5441823]\n",
            " [2.5950944 2.5882308 2.562438  2.5275393]\n",
            " [2.5975485 2.5911517 2.545847  2.5270967]\n",
            " [2.6004615 2.5948002 2.5418596 2.5208673]\n",
            " [2.5903475 2.5927804 2.5478146 2.524872 ]\n",
            " [2.586679  2.5859694 2.5466747 2.516164 ]\n",
            " [2.595491  2.582392  2.5322466 2.5214481]\n",
            " [2.5772014 2.5820987 2.5487623 2.506749 ]\n",
            " [2.5844643 2.5855405 2.5410345 2.5225837]\n",
            " [2.5842664 2.5837905 2.5308723 2.515796 ]\n",
            " [2.5778804 2.5740764 2.5227773 2.4990697]\n",
            " [2.5786343 2.574661  2.527533  2.5037432]\n",
            " [2.5761287 2.5794775 2.5407765 2.5145464]\n",
            " [2.5854177 2.582868  2.5099962 2.5062628]\n",
            " [2.5784802 2.5684714 2.5059311 2.4837961]\n",
            " [2.570538  2.5581558 2.5020616 2.479506 ]\n",
            " [2.5661016 2.5555112 2.5123582 2.469482 ]]\n",
            "[[2.4051583 2.45098   2.429267  2.3379836]\n",
            " [2.3672347 2.4386184 2.3757634 2.2965548]\n",
            " [2.3695815 2.432554  2.3799853 2.304572 ]\n",
            " [2.3797922 2.438563  2.3911052 2.316268 ]\n",
            " [2.3726416 2.4353514 2.389225  2.308525 ]\n",
            " [2.3698843 2.4385023 2.3784523 2.3042982]\n",
            " [2.3706062 2.437679  2.3739104 2.2968967]\n",
            " [2.3635442 2.4442806 2.382135  2.3019884]\n",
            " [2.359351  2.4393167 2.3825314 2.2928264]\n",
            " [2.3690953 2.4362857 2.367645  2.2971163]\n",
            " [2.3473978 2.4384305 2.3864386 2.2889426]\n",
            " [2.3602178 2.44477   2.3808947 2.3041067]\n",
            " [2.3538141 2.4392922 2.3715918 2.299033 ]\n",
            " [2.349455  2.4386582 2.3620636 2.2887125]\n",
            " [2.3530045 2.4347641 2.3692064 2.2893116]\n",
            " [2.3517332 2.4374495 2.3822334 2.301141 ]\n",
            " [2.3601768 2.4400496 2.3604293 2.2916183]\n",
            " [2.3531635 2.42986   2.3613586 2.2814147]\n",
            " [2.347021  2.4232302 2.3588142 2.277566 ]\n",
            " [2.3471575 2.4144514 2.3627744 2.272848 ]]\n",
            "[[2.143493  2.1453116 2.2172537 2.221519 ]\n",
            " [2.142346  2.1530445 2.2071917 2.2116828]\n",
            " [2.1435828 2.149864  2.214106  2.2187653]\n",
            " [2.14966   2.1509109 2.223132  2.2222548]\n",
            " [2.1483319 2.1544507 2.222197  2.225387 ]\n",
            " [2.1461456 2.154891  2.2205703 2.2276685]\n",
            " [2.151     2.1511416 2.2184036 2.2204497]\n",
            " [2.1519618 2.1555212 2.2206678 2.2255483]\n",
            " [2.1522558 2.1561675 2.223077  2.2249312]\n",
            " [2.155573  2.1502717 2.2201426 2.2239525]\n",
            " [2.1501393 2.154122  2.2217257 2.2274036]\n",
            " [2.1549065 2.151753  2.2253997 2.2237484]\n",
            " [2.155681  2.1532247 2.2185943 2.228552 ]\n",
            " [2.1550093 2.1516929 2.220324  2.2323365]\n",
            " [2.1565607 2.1532748 2.226216  2.2317398]\n",
            " [2.1573186 2.15297   2.228897  2.2336648]\n",
            " [2.1606128 2.1609912 2.2311525 2.229115 ]\n",
            " [2.1594622 2.1565506 2.2262435 2.2367623]\n",
            " [2.1556823 2.1554012 2.2314816 2.230864 ]\n",
            " [2.159509  2.1519055 2.2300763 2.2313   ]]\n",
            "[[2.397248  2.40094   2.516191  2.5287411]\n",
            " [2.3825445 2.4040465 2.4946837 2.5047765]\n",
            " [2.3863988 2.4002297 2.4970338 2.511899 ]\n",
            " [2.3905616 2.4008024 2.5036337 2.511844 ]\n",
            " [2.3897336 2.4007785 2.5044696 2.5133483]\n",
            " [2.3856392 2.4024644 2.5020251 2.5132253]\n",
            " [2.391484  2.3988185 2.498937  2.5085382]\n",
            " [2.3895051 2.403849  2.5022092 2.5126839]\n",
            " [2.3902094 2.4038405 2.5048516 2.5112956]\n",
            " [2.3924026 2.3977876 2.496193  2.5101404]\n",
            " [2.387178  2.3996623 2.4995794 2.5095477]\n",
            " [2.391947  2.3971395 2.502852  2.5110798]\n",
            " [2.3911858 2.398818  2.4936836 2.5113509]\n",
            " [2.3900983 2.3983612 2.496242  2.5116088]\n",
            " [2.3905807 2.3983145 2.5011592 2.511778 ]\n",
            " [2.39245   2.3955817 2.5039313 2.5136645]\n",
            " [2.3955297 2.4023774 2.5072036 2.508346 ]\n",
            " [2.3962061 2.3967924 2.4960318 2.5184734]\n",
            " [2.391924  2.3903663 2.5015953 2.5054746]\n",
            " [2.394183  2.3837607 2.4993963 2.5078988]]\n",
            "[[2.370408  2.3727736 2.4910693 2.5119028]\n",
            " [2.3725963 2.3865514 2.487609  2.5045252]\n",
            " [2.3762932 2.3849041 2.4912026 2.5112944]\n",
            " [2.3817303 2.38397   2.5001633 2.508229 ]\n",
            " [2.3844857 2.3838987 2.498906  2.5134268]\n",
            " [2.379076  2.3847728 2.5032222 2.5154493]\n",
            " [2.3844187 2.3818178 2.5000615 2.5124252]\n",
            " [2.3847332 2.387368  2.502569  2.516109 ]\n",
            " [2.387989  2.39132   2.5082343 2.520298 ]\n",
            " [2.3880346 2.387485  2.505556  2.5180266]\n",
            " [2.385377  2.3893263 2.5043101 2.5257552]\n",
            " [2.3901207 2.3860126 2.509498  2.5228221]\n",
            " [2.3899386 2.3907568 2.5035098 2.5258327]\n",
            " [2.3890371 2.3926833 2.5089407 2.5315173]\n",
            " [2.3911552 2.3931365 2.5119557 2.5301037]\n",
            " [2.3936133 2.3900259 2.5154893 2.5266557]\n",
            " [2.397773  2.3975089 2.5244977 2.5244365]\n",
            " [2.399014  2.3981018 2.5142827 2.539788 ]\n",
            " [2.3945482 2.392235  2.5234501 2.529039 ]\n",
            " [2.3999116 2.3850074 2.5166583 2.5355675]]\n",
            "[[2.353304  2.3280096 2.3066134 2.2817385]\n",
            " [2.3424282 2.3242366 2.2832847 2.265976 ]\n",
            " [2.3379054 2.3225808 2.2933323 2.269704 ]\n",
            " [2.3486252 2.3275988 2.3029974 2.2845795]\n",
            " [2.343796  2.3320615 2.3023968 2.2788296]\n",
            " [2.3455796 2.332954  2.292865  2.2808924]\n",
            " [2.3475635 2.3356748 2.2903366 2.2715242]\n",
            " [2.345487  2.3372784 2.2940817 2.2768228]\n",
            " [2.343267  2.3351595 2.2940176 2.2749188]\n",
            " [2.349052  2.3324783 2.2934365 2.2767372]\n",
            " [2.3376482 2.336594  2.3008943 2.2745807]\n",
            " [2.3438768 2.3370569 2.299133  2.2759209]\n",
            " [2.346381  2.336772  2.294325  2.2806199]\n",
            " [2.3436337 2.3312886 2.2925868 2.280862 ]\n",
            " [2.3483186 2.3310287 2.2964535 2.2804058]\n",
            " [2.3481674 2.3339467 2.307887  2.287698 ]\n",
            " [2.355249  2.3377302 2.2908618 2.2827306]\n",
            " [2.3508945 2.3298392 2.2979016 2.2734375]\n",
            " [2.3474019 2.3239298 2.2975187 2.2794852]\n",
            " [2.3504996 2.3198307 2.3019562 2.2722611]]\n",
            "[[2.4348667 2.4387696 2.5492692 2.5643725]\n",
            " [2.430567  2.448811  2.539188  2.5512462]\n",
            " [2.4339058 2.447344  2.5416422 2.5574744]\n",
            " [2.4393988 2.4477026 2.5510418 2.5565999]\n",
            " [2.4410467 2.4477746 2.550724  2.5591145]\n",
            " [2.4371006 2.4487066 2.5506737 2.5606263]\n",
            " [2.442042  2.4473195 2.5477035 2.5563507]\n",
            " [2.4412959 2.4524326 2.550743  2.5607662]\n",
            " [2.4437304 2.4549665 2.5549142 2.5626035]\n",
            " [2.445177  2.4511702 2.5508902 2.5613158]\n",
            " [2.4413862 2.452855  2.5522504 2.566289 ]\n",
            " [2.4463072 2.4503512 2.5560532 2.5654883]\n",
            " [2.4466078 2.454527  2.549443  2.5669634]\n",
            " [2.4452825 2.4548674 2.553938  2.5711682]\n",
            " [2.4476204 2.4549172 2.5564451 2.569979 ]\n",
            " [2.4504402 2.4526346 2.5614965 2.5687125]\n",
            " [2.4553716 2.458263  2.5672262 2.566255 ]\n",
            " [2.4560778 2.4566932 2.5578704 2.5780432]\n",
            " [2.4524775 2.449958  2.5648408 2.5688994]\n",
            " [2.456808  2.4427292 2.560215  2.5730252]]\n",
            "[[2.4639773 2.4500775 2.5432205 2.5546522]\n",
            " [2.4505744 2.4496632 2.5230334 2.532423 ]\n",
            " [2.45299   2.446356  2.5265617 2.5386508]\n",
            " [2.4584668 2.4469078 2.532005  2.5383718]\n",
            " [2.4575677 2.4461176 2.5317445 2.5397513]\n",
            " [2.452694  2.4483438 2.5324688 2.539846 ]\n",
            " [2.4582732 2.444787  2.5288079 2.5365412]\n",
            " [2.4559243 2.4495485 2.5319984 2.5397403]\n",
            " [2.4565487 2.4505832 2.5360324 2.5410907]\n",
            " [2.4572358 2.4455729 2.5281062 2.5392504]\n",
            " [2.4514563 2.446925  2.5303166 2.5383868]\n",
            " [2.456069  2.4439774 2.533805  2.5396335]\n",
            " [2.4549606 2.4461188 2.525361  2.5417686]\n",
            " [2.453983  2.4464002 2.528463  2.5420687]\n",
            " [2.4550054 2.4458845 2.5334072 2.5418475]\n",
            " [2.4559183 2.4424345 2.5377116 2.5429163]\n",
            " [2.4592533 2.4501219 2.5372405 2.5376122]\n",
            " [2.4600434 2.4461842 2.5286891 2.5458217]\n",
            " [2.4540327 2.4371595 2.535436  2.533714 ]\n",
            " [2.4573708 2.4293656 2.531777  2.5371168]]\n",
            "[[2.3720243 2.3585758 2.3989973 2.395309 ]\n",
            " [2.3658493 2.3585165 2.3847346 2.382356 ]\n",
            " [2.3651626 2.3585806 2.3905954 2.3873415]\n",
            " [2.3731296 2.3618047 2.3997626 2.3928456]\n",
            " [2.3714564 2.3645377 2.3994691 2.392445 ]\n",
            " [2.3707561 2.3660798 2.3951008 2.394493 ]\n",
            " [2.3745947 2.3658488 2.392462  2.3871863]\n",
            " [2.373578  2.3695936 2.3952591 2.392571 ]\n",
            " [2.373913  2.3701305 2.3981307 2.392041 ]\n",
            " [2.3774798 2.3663144 2.3942702 2.3918447]\n",
            " [2.370701  2.3684504 2.3955767 2.3923388]\n",
            " [2.3759713 2.366712  2.3977275 2.3898125]\n",
            " [2.3775485 2.3689487 2.3913271 2.393837 ]\n",
            " [2.376829  2.3651927 2.3943446 2.3962183]\n",
            " [2.379888  2.3658655 2.3993838 2.395977 ]\n",
            " [2.3815312 2.3648963 2.4068453 2.3996098]\n",
            " [2.3870275 2.370493  2.399699  2.395911 ]\n",
            " [2.3862407 2.3653343 2.398258  2.3948874]\n",
            " [2.3822367 2.3594975 2.4020545 2.3931572]\n",
            " [2.3861415 2.3536325 2.4010987 2.3917477]]\n",
            "[[2.2694883 2.270707  2.3662906 2.376851 ]\n",
            " [2.2622266 2.2750797 2.3511698 2.3601997]\n",
            " [2.2645364 2.2719405 2.3563416 2.3674347]\n",
            " [2.2695906 2.2727528 2.3631694 2.3684118]\n",
            " [2.2690756 2.2745557 2.3629284 2.3715158]\n",
            " [2.2652822 2.2760167 2.3625631 2.3724911]\n",
            " [2.271     2.2713869 2.35984   2.367126 ]\n",
            " [2.2709775 2.2766035 2.3620749 2.3713832]\n",
            " [2.2716038 2.2773218 2.3655722 2.3712955]\n",
            " [2.2737978 2.2711937 2.3591883 2.3696887]\n",
            " [2.2690756 2.2740095 2.3602405 2.3710258]\n",
            " [2.2740588 2.2707539 2.36414   2.3687558]\n",
            " [2.2737746 2.2721376 2.3567126 2.372181 ]\n",
            " [2.2735908 2.271282  2.3598163 2.3747437]\n",
            " [2.274456  2.2718663 2.3660638 2.3748024]\n",
            " [2.2760475 2.2691565 2.3680246 2.3765838]\n",
            " [2.2786708 2.2770145 2.3713646 2.3716316]\n",
            " [2.2790978 2.2721975 2.3631358 2.3810697]\n",
            " [2.274654  2.2677946 2.369315  2.3709967]\n",
            " [2.2781763 2.261799  2.3665662 2.3732708]]\n",
            "[[2.6961348 2.6688454 2.6518378 2.6165986]\n",
            " [2.6701481 2.6628284 2.615868  2.5920515]\n",
            " [2.6666207 2.6635113 2.6254675 2.5952845]\n",
            " [2.6767452 2.6703062 2.6336684 2.6125998]\n",
            " [2.6745083 2.671825  2.6339726 2.601475 ]\n",
            " [2.6747584 2.674078  2.6182344 2.5999374]\n",
            " [2.6759686 2.6813724 2.614165  2.5929353]\n",
            " [2.6707237 2.6842225 2.620585  2.5962965]\n",
            " [2.6663477 2.6828623 2.6211195 2.5944674]\n",
            " [2.674862  2.6856244 2.6246443 2.5988324]\n",
            " [2.658612  2.691573  2.6385405 2.598269 ]\n",
            " [2.6679513 2.6955519 2.6297283 2.608781 ]\n",
            " [2.6699839 2.6944335 2.6277297 2.608082 ]\n",
            " [2.6635664 2.6900094 2.6234903 2.6037526]\n",
            " [2.6699624 2.6877263 2.6212509 2.6023812]\n",
            " [2.6736531 2.6927402 2.6393688 2.609294 ]\n",
            " [2.6849315 2.6912477 2.6176887 2.6053421]\n",
            " [2.6812844 2.682388  2.6288736 2.5946312]\n",
            " [2.6793137 2.6718042 2.6249378 2.606589 ]\n",
            " [2.6835556 2.664149  2.6319246 2.5968418]]\n",
            "[[2.1305943 2.14458   2.2346044 2.2461586]\n",
            " [2.1459138 2.1675718 2.2418883 2.2527993]\n",
            " [2.1481345 2.1669068 2.249398  2.2599604]\n",
            " [2.1550844 2.1664708 2.2620044 2.2614574]\n",
            " [2.158006  2.170034  2.2601197 2.2674494]\n",
            " [2.1551065 2.1694226 2.26237   2.2716773]\n",
            " [2.159307  2.167583  2.2602549 2.2655582]\n",
            " [2.1623309 2.1724672 2.2621307 2.2706044]\n",
            " [2.1656263 2.176546  2.2669902 2.2739666]\n",
            " [2.1682136 2.1732123 2.2704737 2.2729783]\n",
            " [2.1652415 2.1772928 2.2684062 2.285942 ]\n",
            " [2.1708143 2.1750798 2.272727  2.2788973]\n",
            " [2.1725647 2.1795452 2.2694814 2.283976 ]\n",
            " [2.1713178 2.179715  2.2736568 2.2926366]\n",
            " [2.1746452 2.181994  2.276709  2.2910345]\n",
            " [2.1774147 2.1820471 2.2805576 2.2878537]\n",
            " [2.1826634 2.189108  2.2900064 2.2871559]\n",
            " [2.1818893 2.1899195 2.2843852 2.300102 ]\n",
            " [2.1794147 2.1904736 2.2920368 2.2971013]\n",
            " [2.1855845 2.1867342 2.2873259 2.3007002]]\n",
            "[[2.391446  2.3785632 2.4649358 2.4777226]\n",
            " [2.3862088 2.3820736 2.4534347 2.463853 ]\n",
            " [2.3876247 2.380105  2.458075  2.469892 ]\n",
            " [2.3935559 2.380605  2.464926  2.4690392]\n",
            " [2.394305  2.3810563 2.4635308 2.4720547]\n",
            " [2.3895733 2.3824697 2.4662943 2.4734979]\n",
            " [2.3947597 2.3793197 2.4629276 2.4698284]\n",
            " [2.3943183 2.3843076 2.465672  2.473214 ]\n",
            " [2.3955812 2.3870695 2.4704244 2.4767656]\n",
            " [2.3957806 2.3828306 2.4661107 2.4744809]\n",
            " [2.3913248 2.3848844 2.466664  2.4772925]\n",
            " [2.3959703 2.3816125 2.470949  2.4756086]\n",
            " [2.3955357 2.3849592 2.4645216 2.4801452]\n",
            " [2.3950274 2.3858488 2.4690073 2.4844022]\n",
            " [2.3971093 2.3858454 2.4727075 2.4830225]\n",
            " [2.3983026 2.3828254 2.4772155 2.4821868]\n",
            " [2.4018512 2.3906052 2.4797707 2.47806  ]\n",
            " [2.4026463 2.389172  2.4735553 2.488553 ]\n",
            " [2.3972511 2.3818529 2.481361  2.4796865]\n",
            " [2.4025161 2.3743353 2.4761815 2.4839237]]\n",
            "[[4.9837375 5.725919  5.750311  4.9467278]\n",
            " [5.0469403 5.736526  5.847731  4.986642 ]\n",
            " [5.0313025 5.746126  5.8065686 4.971755 ]\n",
            " [5.018455  5.7342033 5.852072  4.9073277]\n",
            " [5.0075684 5.7572594 5.8649087 4.920976 ]\n",
            " [4.9904995 5.75576   5.8784714 4.953042 ]\n",
            " [4.995537  5.7552056 5.882695  4.9228444]\n",
            " [4.9907804 5.7520785 5.852811  4.9399962]\n",
            " [4.9976854 5.7685    5.868632  4.941519 ]\n",
            " [4.974633  5.753906  5.879442  4.9218993]\n",
            " [4.9945893 5.748311  5.8118668 4.940795 ]\n",
            " [4.9527836 5.708626  5.8432417 4.84945  ]\n",
            " [4.972726  5.748919  5.818992  4.8740005]\n",
            " [4.9686866 5.708737  5.8847857 4.9144177]\n",
            " [4.9514103 5.728878  5.895343  4.924875 ]\n",
            " [4.9535236 5.7064714 5.865173  4.9255323]\n",
            " [4.949944  5.724415  5.8843684 4.9108944]\n",
            " [4.9740014 5.6971326 5.8544655 4.9033074]\n",
            " [4.9519773 5.6693153 5.8867507 4.926283 ]\n",
            " [4.9601097 5.6646357 5.864344  4.928893 ]]\n",
            "[[2.2266502 2.1903207 2.1727467 2.1684697]\n",
            " [2.2414253 2.1921742 2.1804566 2.1773431]\n",
            " [2.2370973 2.194029  2.1875186 2.1815164]\n",
            " [2.2488694 2.1977196 2.1967547 2.1827343]\n",
            " [2.2456954 2.2026327 2.192271  2.1850839]\n",
            " [2.246658  2.2028055 2.1967423 2.1901703]\n",
            " [2.251019  2.2000952 2.195606  2.1846538]\n",
            " [2.2534547 2.204085  2.1963177 2.1907039]\n",
            " [2.2538416 2.2070177 2.2017372 2.1930296]\n",
            " [2.2568083 2.204028  2.2004993 2.1916993]\n",
            " [2.25016   2.2052205 2.1976902 2.194597 ]\n",
            " [2.2556741 2.2030103 2.2026322 2.183536 ]\n",
            " [2.2570121 2.2059786 2.1979537 2.1964774]\n",
            " [2.2591722 2.200638  2.2027335 2.20521  ]\n",
            " [2.2622783 2.2039948 2.209517  2.2022154]\n",
            " [2.2613597 2.2043715 2.217594  2.2051058]\n",
            " [2.2645285 2.2133405 2.208234  2.201493 ]\n",
            " [2.2638776 2.2118607 2.2127268 2.1969244]\n",
            " [2.2564447 2.2069333 2.219029  2.1999621]\n",
            " [2.2640247 2.2016852 2.2150755 2.1995177]]\n",
            "[[2.4892044 2.4423296 2.426847  2.4122727]\n",
            " [2.4800107 2.4344857 2.4079783 2.3982863]\n",
            " [2.4756246 2.4341278 2.417708  2.401699 ]\n",
            " [2.4865465 2.4378424 2.4242425 2.4107966]\n",
            " [2.4835005 2.4395986 2.4220817 2.4078746]\n",
            " [2.4818487 2.4419522 2.4204767 2.4093218]\n",
            " [2.4846947 2.4428189 2.4168646 2.4039702]\n",
            " [2.4822185 2.445521  2.42014   2.407111 ]\n",
            " [2.4809206 2.446383  2.4238846 2.410344 ]\n",
            " [2.4830732 2.4450486 2.4222174 2.4098644]\n",
            " [2.4726882 2.4475398 2.4255254 2.408542 ]\n",
            " [2.4785473 2.446342  2.4257038 2.4090097]\n",
            " [2.4794219 2.4475663 2.420833  2.4156513]\n",
            " [2.4776056 2.4447923 2.4222515 2.4160876]\n",
            " [2.4821398 2.4439497 2.42659   2.4150674]\n",
            " [2.4816206 2.443629  2.4379635 2.4189236]\n",
            " [2.4879863 2.449928  2.4208343 2.414086 ]\n",
            " [2.4859507 2.4458094 2.426969  2.4074588]\n",
            " [2.4792979 2.4356112 2.4305677 2.4096472]\n",
            " [2.4845498 2.4279375 2.4298625 2.4075508]]\n",
            "[[2.1062086 2.1179593 2.192391  2.190796 ]\n",
            " [2.1001422 2.127749  2.1759217 2.176646 ]\n",
            " [2.1010952 2.1228473 2.183705  2.184014 ]\n",
            " [2.1065886 2.1242564 2.1933045 2.1910493]\n",
            " [2.1049392 2.1285818 2.1927733 2.1920557]\n",
            " [2.1033568 2.1280425 2.1870954 2.1936405]\n",
            " [2.1076577 2.1254354 2.185178  2.1852803]\n",
            " [2.108526  2.129462  2.1882515 2.1903896]\n",
            " [2.1074915 2.1285863 2.1883829 2.188118 ]\n",
            " [2.112433  2.1228611 2.1873255 2.188354 ]\n",
            " [2.105498  2.1286483 2.193959  2.1916537]\n",
            " [2.111041  2.1277404 2.1952798 2.1915152]\n",
            " [2.111947  2.1278949 2.1895244 2.1949196]\n",
            " [2.1098535 2.126668  2.1885388 2.1985414]\n",
            " [2.1116664 2.1276517 2.1921358 2.1974735]\n",
            " [2.1127048 2.1297715 2.1954105 2.2004204]\n",
            " [2.116245  2.1359737 2.1991687 2.1951869]\n",
            " [2.1136947 2.1300712 2.1958623 2.204551 ]\n",
            " [2.1117773 2.1303718 2.198727  2.2009444]\n",
            " [2.1149821 2.128107  2.2003608 2.1989076]]\n",
            "[[2.33154   2.3020654 2.2816362 2.2592921]\n",
            " [2.322562  2.2977226 2.2609854 2.2456782]\n",
            " [2.3182297 2.2962828 2.2712348 2.2498326]\n",
            " [2.328763  2.300911  2.2797854 2.2626047]\n",
            " [2.324211  2.3051362 2.278532  2.2581809]\n",
            " [2.3250787 2.3062859 2.2714622 2.2601519]\n",
            " [2.3275547 2.307557  2.2688324 2.2518218]\n",
            " [2.3259587 2.3097827 2.2722623 2.256698 ]\n",
            " [2.3235474 2.3084955 2.273299  2.2556098]\n",
            " [2.3289244 2.305855  2.2726133 2.2568412]\n",
            " [2.3175418 2.3099759 2.2788725 2.255255 ]\n",
            " [2.3238034 2.3100853 2.2776537 2.2556   ]\n",
            " [2.3256757 2.3098648 2.2727377 2.261442 ]\n",
            " [2.3234732 2.3049073 2.2714279 2.2617803]\n",
            " [2.3276386 2.305147  2.2758296 2.2610238]\n",
            " [2.3272536 2.3076172 2.2864308 2.2675314]\n",
            " [2.3336234 2.3127608 2.270118  2.2621822]\n",
            " [2.3299673 2.3055625 2.2771282 2.2540445]\n",
            " [2.325462  2.2999063 2.2777994 2.2591717]\n",
            " [2.32935   2.2954352 2.2810574 2.253027 ]]\n",
            "[[2.128742  2.123224  2.1951613 2.2057328]\n",
            " [2.1330137 2.1312902 2.1905475 2.199555 ]\n",
            " [2.1337981 2.1280565 2.1977334 2.2062979]\n",
            " [2.140489  2.1283746 2.2063212 2.2075546]\n",
            " [2.1393812 2.1316493 2.2044191 2.21317  ]\n",
            " [2.136376  2.1323953 2.2076719 2.2161818]\n",
            " [2.1416743 2.1273663 2.2054546 2.2100909]\n",
            " [2.1431496 2.1317322 2.2068937 2.2146711]\n",
            " [2.1448486 2.1331682 2.2105346 2.2164915]\n",
            " [2.145736  2.1266737 2.206896  2.2140126]\n",
            " [2.1422257 2.1292737 2.2045233 2.218013 ]\n",
            " [2.146318  2.1252925 2.2108626 2.2111444]\n",
            " [2.146816  2.1272676 2.203638  2.2180521]\n",
            " [2.1473556 2.1266994 2.2075846 2.223653 ]\n",
            " [2.1490643 2.1279094 2.2152534 2.2232463]\n",
            " [2.1488464 2.1253586 2.2165911 2.2241836]\n",
            " [2.151001  2.1351895 2.21982   2.2196133]\n",
            " [2.1505635 2.132542  2.2137182 2.2285395]\n",
            " [2.1454446 2.1300356 2.2213976 2.219822 ]\n",
            " [2.149849  2.12559   2.2173152 2.223002 ]]\n"
          ],
          "name": "stdout"
        }
      ]
    },
    {
      "cell_type": "code",
      "metadata": {
        "id": "KRbPIoyTQVS1",
        "colab_type": "code",
        "colab": {
          "base_uri": "https://localhost:8080/",
          "height": 697
        },
        "outputId": "1f254dd4-10cd-41a7-8ba5-02f0c3e72c6a"
      },
      "source": [
        "Prediction_DVL_Data"
      ],
      "execution_count": 228,
      "outputs": [
        {
          "output_type": "execute_result",
          "data": {
            "text/plain": [
              "array([[2.395382 , 2.3888688, 2.4764366, 2.4834628],\n",
              "       [2.3827634, 2.3905437, 2.456099 , 2.462324 ],\n",
              "       [2.3849044, 2.387063 , 2.460275 , 2.468736 ],\n",
              "       [2.3904846, 2.3880827, 2.4669862, 2.470706 ],\n",
              "       [2.3891563, 2.388554 , 2.467026 , 2.4713893],\n",
              "       [2.3855038, 2.390171 , 2.4651327, 2.471794 ],\n",
              "       [2.3906703, 2.3873038, 2.4619455, 2.4669688],\n",
              "       [2.3888042, 2.39177  , 2.4652007, 2.4709065],\n",
              "       [2.3890362, 2.3920078, 2.4680223, 2.4706771],\n",
              "       [2.391179 , 2.3868325, 2.4613352, 2.469645 ],\n",
              "       [2.3848877, 2.389069 , 2.4649014, 2.4693162],\n",
              "       [2.3897853, 2.3868132, 2.4675834, 2.4705482],\n",
              "       [2.3893514, 2.3884356, 2.4595125, 2.4723954],\n",
              "       [2.3880188, 2.387762 , 2.4614837, 2.47294  ],\n",
              "       [2.3892725, 2.3876185, 2.4661589, 2.4727178],\n",
              "       [2.3904018, 2.3856485, 2.4705582, 2.4747524],\n",
              "       [2.394111 , 2.3925211, 2.4701848, 2.4695587],\n",
              "       [2.3940036, 2.3875253, 2.4627504, 2.4768393],\n",
              "       [2.3891864, 2.3806326, 2.4680622, 2.4670534],\n",
              "       [2.3921201, 2.3742015, 2.4661813, 2.4685872],\n",
              "       [2.128742 , 2.123224 , 2.1951613, 2.2057328],\n",
              "       [2.1330137, 2.1312902, 2.1905475, 2.199555 ],\n",
              "       [2.1337981, 2.1280565, 2.1977334, 2.2062979],\n",
              "       [2.140489 , 2.1283746, 2.2063212, 2.2075546],\n",
              "       [2.1393812, 2.1316493, 2.2044191, 2.21317  ],\n",
              "       [2.136376 , 2.1323953, 2.2076719, 2.2161818],\n",
              "       [2.1416743, 2.1273663, 2.2054546, 2.2100909],\n",
              "       [2.1431496, 2.1317322, 2.2068937, 2.2146711],\n",
              "       [2.1448486, 2.1331682, 2.2105346, 2.2164915],\n",
              "       [2.145736 , 2.1266737, 2.206896 , 2.2140126],\n",
              "       [2.1422257, 2.1292737, 2.2045233, 2.218013 ],\n",
              "       [2.146318 , 2.1252925, 2.2108626, 2.2111444],\n",
              "       [2.146816 , 2.1272676, 2.203638 , 2.2180521],\n",
              "       [2.1473556, 2.1266994, 2.2075846, 2.223653 ],\n",
              "       [2.1490643, 2.1279094, 2.2152534, 2.2232463],\n",
              "       [2.1488464, 2.1253586, 2.2165911, 2.2241836],\n",
              "       [2.151001 , 2.1351895, 2.21982  , 2.2196133],\n",
              "       [2.1505635, 2.132542 , 2.2137182, 2.2285395],\n",
              "       [2.1454446, 2.1300356, 2.2213976, 2.219822 ],\n",
              "       [2.149849 , 2.12559  , 2.2173152, 2.223002 ]], dtype=float32)"
            ]
          },
          "metadata": {
            "tags": []
          },
          "execution_count": 228
        }
      ]
    },
    {
      "cell_type": "code",
      "metadata": {
        "id": "_tDFpP0nS-0i",
        "colab_type": "code",
        "colab": {
          "base_uri": "https://localhost:8080/",
          "height": 68
        },
        "outputId": "9f0bd9c5-06d3-4587-c092-deb4e75fa83f"
      },
      "source": [
        "print(\"x3 ndim: \", Prediction_DVL_Data.ndim)\n",
        "print(\"x3 shape:\", Prediction_DVL_Data.shape)\n",
        "print(\"x3 size: \", Prediction_DVL_Data.size)"
      ],
      "execution_count": 229,
      "outputs": [
        {
          "output_type": "stream",
          "text": [
            "x3 ndim:  2\n",
            "x3 shape: (40, 4)\n",
            "x3 size:  160\n"
          ],
          "name": "stdout"
        }
      ]
    },
    {
      "cell_type": "code",
      "metadata": {
        "id": "viVYmAe4Fg7v",
        "colab_type": "code",
        "colab": {}
      },
      "source": [
        "Comb_Check= np.concatenate((TestingDataPrediction[0],TestingDataPrediction[1],TestingDataPrediction[2], TestingDataPrediction[3], TestingDataPrediction[4],\n",
        "                            TestingDataPrediction[5],TestingDataPrediction[6],TestingDataPrediction[7],), axis=0)"
      ],
      "execution_count": 230,
      "outputs": []
    },
    {
      "cell_type": "code",
      "metadata": {
        "id": "pUIlWyeMLbwk",
        "colab_type": "code",
        "colab": {
          "base_uri": "https://localhost:8080/",
          "height": 34
        },
        "outputId": "83e83d80-0832-494e-d5f4-27fad254c7f0"
      },
      "source": [
        "Comb_Check.shape"
      ],
      "execution_count": 231,
      "outputs": [
        {
          "output_type": "execute_result",
          "data": {
            "text/plain": [
              "(160, 4)"
            ]
          },
          "metadata": {
            "tags": []
          },
          "execution_count": 231
        }
      ]
    },
    {
      "cell_type": "code",
      "metadata": {
        "id": "5td8hO_tLbun",
        "colab_type": "code",
        "colab": {}
      },
      "source": [
        "Beam_0_try= Comb_Check[:,0]"
      ],
      "execution_count": 232,
      "outputs": []
    },
    {
      "cell_type": "code",
      "metadata": {
        "id": "2Z9sCPjJWCJT",
        "colab_type": "code",
        "colab": {
          "base_uri": "https://localhost:8080/",
          "height": 34
        },
        "outputId": "0f974460-1f33-4e20-c1ee-7e469e0bcd28"
      },
      "source": [
        "Beam_0_try.shape"
      ],
      "execution_count": 233,
      "outputs": [
        {
          "output_type": "execute_result",
          "data": {
            "text/plain": [
              "(160,)"
            ]
          },
          "metadata": {
            "tags": []
          },
          "execution_count": 233
        }
      ]
    },
    {
      "cell_type": "code",
      "metadata": {
        "id": "T9wyGqkJWNPS",
        "colab_type": "code",
        "colab": {
          "base_uri": "https://localhost:8080/",
          "height": 476
        },
        "outputId": "5f6538df-f8ec-4a66-a11a-644b5d9ece62"
      },
      "source": [
        "Beam_0_try\n"
      ],
      "execution_count": 234,
      "outputs": [
        {
          "output_type": "execute_result",
          "data": {
            "text/plain": [
              "array([2.395382 , 2.3827634, 2.3849044, 2.3904846, 2.3891563, 2.3855038,\n",
              "       2.3906703, 2.3888042, 2.3890362, 2.391179 , 2.3848877, 2.3897853,\n",
              "       2.3893514, 2.3880188, 2.3892725, 2.3904018, 2.394111 , 2.3940036,\n",
              "       2.3891864, 2.3921201, 2.6335692, 2.619989 , 2.6159606, 2.6269085,\n",
              "       2.6235943, 2.622013 , 2.6252987, 2.621355 , 2.620962 , 2.6217475,\n",
              "       2.6123898, 2.6177065, 2.6184583, 2.6170645, 2.6215785, 2.621149 ,\n",
              "       2.6274393, 2.6262605, 2.6189826, 2.6235402, 2.4529922, 2.4409337,\n",
              "       2.4426355, 2.4489577, 2.4483843, 2.44465  , 2.4492233, 2.4469779,\n",
              "       2.448492 , 2.4500964, 2.444126 , 2.4490843, 2.4489217, 2.447761 ,\n",
              "       2.449757 , 2.4513776, 2.455925 , 2.4563262, 2.4516187, 2.4546258,\n",
              "       2.409271 , 2.3950531, 2.3990116, 2.403152 , 2.402719 , 2.398635 ,\n",
              "       2.4043725, 2.402475 , 2.403251 , 2.405575 , 2.4003959, 2.4052627,\n",
              "       2.4046206, 2.4033892, 2.4040818, 2.4062588, 2.4096744, 2.410393 ,\n",
              "       2.4063594, 2.40887  , 2.4212954, 2.413834 , 2.4153666, 2.4222336,\n",
              "       2.4221358, 2.4209442, 2.4245448, 2.4232256, 2.4244912, 2.428455 ,\n",
              "       2.4222753, 2.4279304, 2.4295928, 2.4269438, 2.4304981, 2.4332304,\n",
              "       2.4397688, 2.4381728, 2.4363778, 2.4395857, 2.5848053, 2.5721583,\n",
              "       2.574581 , 2.5804555, 2.581176 , 2.5758464, 2.580915 , 2.578206 ,\n",
              "       2.5797   , 2.579669 , 2.5742962, 2.5790942, 2.5782225, 2.5767426,\n",
              "       2.5789177, 2.5806806, 2.5853791, 2.5865273, 2.580919 , 2.5851715,\n",
              "       2.3428717, 2.3384857, 2.3394854, 2.3464472, 2.3478625, 2.345815 ,\n",
              "       2.3495603, 2.3498254, 2.3512099, 2.35485  , 2.3496006, 2.35659  ,\n",
              "       2.3583643, 2.3553061, 2.3598137, 2.3631399, 2.3695273, 2.3671699,\n",
              "       2.3665884, 2.3705032, 2.6858664, 2.672128 , 2.6678748, 2.6790946,\n",
              "       2.6767166, 2.6755495, 2.6776745, 2.6734996, 2.672736 , 2.6747541,\n",
              "       2.6640599, 2.670334 , 2.671517 , 2.6687326, 2.6743205, 2.674853 ,\n",
              "       2.6827826, 2.680631 , 2.6749806, 2.679691 ], dtype=float32)"
            ]
          },
          "metadata": {
            "tags": []
          },
          "execution_count": 234
        }
      ]
    },
    {
      "cell_type": "code",
      "metadata": {
        "id": "UotPE1udclPR",
        "colab_type": "code",
        "colab": {
          "base_uri": "https://localhost:8080/",
          "height": 221
        },
        "outputId": "071a50b2-8091-4253-f26e-e6b96ad34a15"
      },
      "source": [
        "Testing_Time"
      ],
      "execution_count": 235,
      "outputs": [
        {
          "output_type": "execute_result",
          "data": {
            "text/plain": [
              "67996    6799.5\n",
              "67997    6799.6\n",
              "67998    6799.7\n",
              "67999    6799.8\n",
              "68000    6799.9\n",
              "          ...  \n",
              "84986    8498.5\n",
              "84987    8498.6\n",
              "84988    8498.7\n",
              "84989    8498.8\n",
              "84990    8498.9\n",
              "Name: Time, Length: 16995, dtype: float64"
            ]
          },
          "metadata": {
            "tags": []
          },
          "execution_count": 235
        }
      ]
    },
    {
      "cell_type": "code",
      "metadata": {
        "id": "7ObnI40qcqGb",
        "colab_type": "code",
        "colab": {}
      },
      "source": [
        "Mini_Testing_time= Testing_Time[:160]"
      ],
      "execution_count": 236,
      "outputs": []
    },
    {
      "cell_type": "code",
      "metadata": {
        "id": "fYHIkzejWmHo",
        "colab_type": "code",
        "colab": {}
      },
      "source": [
        "import numpy as np"
      ],
      "execution_count": 237,
      "outputs": []
    },
    {
      "cell_type": "code",
      "metadata": {
        "id": "nr4LU8jbc_VD",
        "colab_type": "code",
        "colab": {
          "base_uri": "https://localhost:8080/",
          "height": 221
        },
        "outputId": "4487d7ba-e935-4cc8-a305-5eb4857d6178"
      },
      "source": [
        "Mini_Testing_time"
      ],
      "execution_count": 238,
      "outputs": [
        {
          "output_type": "execute_result",
          "data": {
            "text/plain": [
              "67996    6799.5\n",
              "67997    6799.6\n",
              "67998    6799.7\n",
              "67999    6799.8\n",
              "68000    6799.9\n",
              "          ...  \n",
              "68151    6815.0\n",
              "68152    6815.1\n",
              "68153    6815.2\n",
              "68154    6815.3\n",
              "68155    6815.4\n",
              "Name: Time, Length: 160, dtype: float64"
            ]
          },
          "metadata": {
            "tags": []
          },
          "execution_count": 238
        }
      ]
    },
    {
      "cell_type": "code",
      "metadata": {
        "id": "KN9u0KECeSmn",
        "colab_type": "code",
        "colab": {
          "base_uri": "https://localhost:8080/",
          "height": 34
        },
        "outputId": "1dc567c9-d900-44c4-a4fe-21a301cb45f3"
      },
      "source": [
        "y1.shape"
      ],
      "execution_count": 239,
      "outputs": [
        {
          "output_type": "execute_result",
          "data": {
            "text/plain": [
              "(84971, 20)"
            ]
          },
          "metadata": {
            "tags": []
          },
          "execution_count": 239
        }
      ]
    },
    {
      "cell_type": "code",
      "metadata": {
        "id": "VCQRHzZ8gGPE",
        "colab_type": "code",
        "colab": {}
      },
      "source": [
        "try_label= y1[-16995:]"
      ],
      "execution_count": 240,
      "outputs": []
    },
    {
      "cell_type": "code",
      "metadata": {
        "id": "B6LXL8FNgGMz",
        "colab_type": "code",
        "colab": {
          "base_uri": "https://localhost:8080/",
          "height": 34
        },
        "outputId": "7a09cb9c-4225-4cb1-8a8e-ea446ddae8ff"
      },
      "source": [
        "try_label.shape"
      ],
      "execution_count": 241,
      "outputs": [
        {
          "output_type": "execute_result",
          "data": {
            "text/plain": [
              "(16995, 20)"
            ]
          },
          "metadata": {
            "tags": []
          },
          "execution_count": 241
        }
      ]
    },
    {
      "cell_type": "code",
      "metadata": {
        "id": "o7yhnR8cgrsy",
        "colab_type": "code",
        "colab": {
          "base_uri": "https://localhost:8080/",
          "height": 136
        },
        "outputId": "ce4e5fbd-1920-49a9-810b-0e8d880ab5d9"
      },
      "source": [
        "try_label"
      ],
      "execution_count": 242,
      "outputs": [
        {
          "output_type": "execute_result",
          "data": {
            "text/plain": [
              "array([[2.247594, 2.247102, 2.246568, ..., 2.240006, 2.239608, 2.239216],\n",
              "       [2.247102, 2.246568, 2.246088, ..., 2.239608, 2.239216, 2.238828],\n",
              "       [2.246568, 2.246088, 2.245614, ..., 2.239216, 2.238828, 2.238444],\n",
              "       ...,\n",
              "       [2.688453, 2.688984, 2.689416, ..., 2.692583, 2.692643, 2.692682],\n",
              "       [2.688984, 2.689416, 2.689849, ..., 2.692643, 2.692682, 2.692715],\n",
              "       [2.689416, 2.689849, 2.690236, ..., 2.692682, 2.692715, 2.69274 ]])"
            ]
          },
          "metadata": {
            "tags": []
          },
          "execution_count": 242
        }
      ]
    },
    {
      "cell_type": "code",
      "metadata": {
        "id": "sdInzDUbhNos",
        "colab_type": "code",
        "colab": {}
      },
      "source": [
        "result = try_label.flatten() "
      ],
      "execution_count": 243,
      "outputs": []
    },
    {
      "cell_type": "code",
      "metadata": {
        "id": "lTBUCInRhpwf",
        "colab_type": "code",
        "colab": {
          "base_uri": "https://localhost:8080/",
          "height": 51
        },
        "outputId": "f5d85529-5cbc-4b4d-aca8-418d957d39e7"
      },
      "source": [
        "Label_Data_Beam_1"
      ],
      "execution_count": 244,
      "outputs": [
        {
          "output_type": "execute_result",
          "data": {
            "text/plain": [
              "array([ 0.      , 20.      , 20.      , ...,  2.692715,  2.69274 ,\n",
              "        2.692755])"
            ]
          },
          "metadata": {
            "tags": []
          },
          "execution_count": 244
        }
      ]
    },
    {
      "cell_type": "code",
      "metadata": {
        "id": "OufqZ2fqhthg",
        "colab_type": "code",
        "colab": {
          "base_uri": "https://localhost:8080/",
          "height": 34
        },
        "outputId": "e3b7d592-a25d-40e9-94bb-45fa38a06818"
      },
      "source": [
        "Label_Data_Beam_1.shape"
      ],
      "execution_count": 245,
      "outputs": [
        {
          "output_type": "execute_result",
          "data": {
            "text/plain": [
              "(84991,)"
            ]
          },
          "metadata": {
            "tags": []
          },
          "execution_count": 245
        }
      ]
    },
    {
      "cell_type": "code",
      "metadata": {
        "id": "D7rJjfqNhv3J",
        "colab_type": "code",
        "colab": {}
      },
      "source": [
        "label_try_try= Label_Data_Beam_1[-16995:]"
      ],
      "execution_count": 246,
      "outputs": []
    },
    {
      "cell_type": "code",
      "metadata": {
        "id": "hfkZrq8ih21q",
        "colab_type": "code",
        "colab": {
          "base_uri": "https://localhost:8080/",
          "height": 34
        },
        "outputId": "424bc503-f193-4459-9e96-dcbe8d9cfd7b"
      },
      "source": [
        "label_try_try"
      ],
      "execution_count": 247,
      "outputs": [
        {
          "output_type": "execute_result",
          "data": {
            "text/plain": [
              "array([2.238828, 2.238444, 2.238027, ..., 2.692715, 2.69274 , 2.692755])"
            ]
          },
          "metadata": {
            "tags": []
          },
          "execution_count": 247
        }
      ]
    },
    {
      "cell_type": "code",
      "metadata": {
        "id": "3iUTCWXUh6no",
        "colab_type": "code",
        "colab": {}
      },
      "source": [
        "label_try_try=label_try_try[:160]"
      ],
      "execution_count": 248,
      "outputs": []
    },
    {
      "cell_type": "code",
      "metadata": {
        "id": "exhofEtmiBVU",
        "colab_type": "code",
        "colab": {
          "base_uri": "https://localhost:8080/",
          "height": 476
        },
        "outputId": "529c80fe-92b2-496a-c1d8-cc4cd058b147"
      },
      "source": [
        "label_try_try"
      ],
      "execution_count": 249,
      "outputs": [
        {
          "output_type": "execute_result",
          "data": {
            "text/plain": [
              "array([2.238828, 2.238444, 2.238027, 2.23769 , 2.23732 , 2.236917,\n",
              "       2.236591, 2.236197, 2.235879, 2.235494, 2.235182, 2.23484 ,\n",
              "       2.234502, 2.234167, 2.233804, 2.233511, 2.233189, 2.23284 ,\n",
              "       2.232558, 2.232249, 2.231944, 2.231643, 2.231317, 2.231027,\n",
              "       2.230767, 2.230483, 2.230204, 2.229929, 2.229659, 2.229392,\n",
              "       2.22913 , 2.228871, 2.228617, 2.228366, 2.228095, 2.227852,\n",
              "       2.227636, 2.2274  , 2.227144, 2.226938, 2.226712, 2.226489,\n",
              "       2.226247, 2.226052, 2.225817, 2.225606, 2.225399, 2.225194,\n",
              "       2.224992, 2.224793, 2.224597, 2.224404, 2.224214, 2.224027,\n",
              "       2.223843, 2.223679, 2.223501, 2.223308, 2.223135, 2.222983,\n",
              "       2.222816, 2.222636, 2.222475, 2.222333, 2.22216 , 2.222006,\n",
              "       2.221867, 2.2217  , 2.221564, 2.221414, 2.221264, 2.221115,\n",
              "       2.220952, 2.220804, 2.22067 , 2.220522, 2.220375, 2.220227,\n",
              "       2.220079, 2.219931, 2.219784, 2.219636, 2.219488, 2.219341,\n",
              "       2.219193, 2.219032, 2.218885, 2.218753, 2.218607, 2.218462,\n",
              "       2.218303, 2.21816 , 2.218017, 2.21789 , 2.217749, 2.21761 ,\n",
              "       2.217458, 2.217336, 2.217187, 2.217054, 2.216935, 2.216805,\n",
              "       2.216677, 2.21655 , 2.216426, 2.216303, 2.216182, 2.216063,\n",
              "       2.215945, 2.215818, 2.215716, 2.215594, 2.215495, 2.215387,\n",
              "       2.21527 , 2.215176, 2.215073, 2.214972, 2.214862, 2.214764,\n",
              "       2.214678, 2.214583, 2.214489, 2.214398, 2.214307, 2.214209,\n",
              "       2.214122, 2.214044, 2.213959, 2.213868, 2.213794, 2.213713,\n",
              "       2.213625, 2.213554, 2.213477, 2.213394, 2.213319, 2.213245,\n",
              "       2.21318 , 2.213109, 2.213041, 2.21298 , 2.212855, 2.211657,\n",
              "       2.210204, 2.209026, 2.207603, 2.206454, 2.205194, 2.203953,\n",
              "       2.202611, 2.201531, 2.200352, 2.199194, 2.19806 , 2.196949,\n",
              "       2.195862, 2.194695, 2.193844, 2.193117])"
            ]
          },
          "metadata": {
            "tags": []
          },
          "execution_count": 249
        }
      ]
    },
    {
      "cell_type": "code",
      "metadata": {
        "id": "KcM-cHy2iDAY",
        "colab_type": "code",
        "colab": {
          "base_uri": "https://localhost:8080/",
          "height": 34
        },
        "outputId": "48164148-97fc-4402-a84b-467b8f88c0f2"
      },
      "source": [
        "label_try_try.shape"
      ],
      "execution_count": 250,
      "outputs": [
        {
          "output_type": "execute_result",
          "data": {
            "text/plain": [
              "(160,)"
            ]
          },
          "metadata": {
            "tags": []
          },
          "execution_count": 250
        }
      ]
    },
    {
      "cell_type": "code",
      "metadata": {
        "id": "vowcbI-sdd-8",
        "colab_type": "code",
        "colab": {
          "base_uri": "https://localhost:8080/",
          "height": 265
        },
        "outputId": "b5bfe565-a853-4aad-a1f3-33bb50a0cddc"
      },
      "source": [
        "#plotting of the mini testing time and the small chunk to get more and more better results\n",
        "ax = plt.gca()\n",
        "#Inputs\n",
        "plt.plot(Mini_Testing_time, Beam_0_try)\n",
        "plt.plot(Mini_Testing_time,label_try_try)\n",
        "\n",
        "plt.show()"
      ],
      "execution_count": 251,
      "outputs": [
        {
          "output_type": "display_data",
          "data": {
            "image/png": "[encoded data removed]",
            "text/plain": [
              "<Figure size 432x288 with 1 Axes>"
            ]
          },
          "metadata": {
            "tags": [],
            "needs_background": "light"
          }
        }
      ]
    },
    {
      "cell_type": "code",
      "metadata": {
        "id": "WYDX2CqRil8s",
        "colab_type": "code",
        "colab": {
          "base_uri": "https://localhost:8080/",
          "height": 265
        },
        "outputId": "7fbccad5-e42b-4252-851c-11125e07d950"
      },
      "source": [
        "#plotting of the mini testing time and the small chunk to get more and more better results\n",
        "ax = plt.gca()\n",
        "#Inputs\n",
        "\n",
        "plt.plot(Time,Label_Data_Beam_1)\n",
        "\n",
        "plt.show()"
      ],
      "execution_count": 252,
      "outputs": [
        {
          "output_type": "display_data",
          "data": {
            "image/png": "[encoded data removed]",
            "text/plain": [
              "<Figure size 432x288 with 1 Axes>"
            ]
          },
          "metadata": {
            "tags": [],
            "needs_background": "light"
          }
        }
      ]
    },
    {
      "cell_type": "code",
      "metadata": {
        "id": "3US5fqPLi28P",
        "colab_type": "code",
        "colab": {
          "base_uri": "https://localhost:8080/",
          "height": 312
        },
        "outputId": "db67b099-1fb0-4808-db48-3cc83a788a76"
      },
      "source": [
        "\n",
        "# list all data in history\n",
        "print(history.history.keys())\n",
        "# summarize history for accuracy\n",
        "\n",
        "# summarize history for loss\n",
        "plt.plot(history.history['loss'])\n",
        "plt.plot(history.history['val_loss'])\n",
        "plt.title('model loss')\n",
        "plt.ylabel('loss')\n",
        "plt.xlabel('epoch')\n",
        "plt.legend(['train', 'test'], loc='upper left')\n",
        "plt.show()"
      ],
      "execution_count": 261,
      "outputs": [
        {
          "output_type": "stream",
          "text": [
            "dict_keys(['loss', 'val_loss'])\n"
          ],
          "name": "stdout"
        },
        {
          "output_type": "display_data",
          "data": {
            "image/png": "[encoded data removed]",
            "text/plain": [
              "<Figure size 432x288 with 1 Axes>"
            ]
          },
          "metadata": {
            "tags": [],
            "needs_background": "light"
          }
        }
      ]
    },
    {
      "cell_type": "code",
      "metadata": {
        "id": "pUo1jEoLmCnr",
        "colab_type": "code",
        "colab": {}
      },
      "source": [
        "from matplotlib import pyplot"
      ],
      "execution_count": 258,
      "outputs": []
    },
    {
      "cell_type": "code",
      "metadata": {
        "id": "gBCoymZ6WdG-",
        "colab_type": "code",
        "colab": {
          "base_uri": "https://localhost:8080/",
          "height": 231
        },
        "outputId": "1ef2e7a0-529e-4795-e7de-4a7032ab33c4"
      },
      "source": [
        "\n",
        "\t# plot learning curves\n",
        "pyplot.plot(history.history['accuracy'], label='train')\n",
        "pyplot.plot(history.history['val_accuracy'], label='test')\n",
        "#pyplot.title('lrate='+str(lrate), pad=-50)max_value = np.max(Beam_0_try)\n"
      ],
      "execution_count": 259,
      "outputs": [
        {
          "output_type": "error",
          "ename": "KeyError",
          "evalue": "ignored",
          "traceback": [
            "\u001b[0;31m---------------------------------------------------------------------------\u001b[0m",
            "\u001b[0;31mKeyError\u001b[0m                                  Traceback (most recent call last)",
            "\u001b[0;32m<ipython-input-259-68664cc27d17>\u001b[0m in \u001b[0;36m<module>\u001b[0;34m()\u001b[0m\n\u001b[1;32m      1\u001b[0m \u001b[0;34m\u001b[0m\u001b[0m\n\u001b[1;32m      2\u001b[0m         \u001b[0;31m# plot learning curves\u001b[0m\u001b[0;34m\u001b[0m\u001b[0;34m\u001b[0m\u001b[0;34m\u001b[0m\u001b[0m\n\u001b[0;32m----> 3\u001b[0;31m \u001b[0mpyplot\u001b[0m\u001b[0;34m.\u001b[0m\u001b[0mplot\u001b[0m\u001b[0;34m(\u001b[0m\u001b[0mhistory\u001b[0m\u001b[0;34m.\u001b[0m\u001b[0mhistory\u001b[0m\u001b[0;34m[\u001b[0m\u001b[0;34m'accuracy'\u001b[0m\u001b[0;34m]\u001b[0m\u001b[0;34m,\u001b[0m \u001b[0mlabel\u001b[0m\u001b[0;34m=\u001b[0m\u001b[0;34m'train'\u001b[0m\u001b[0;34m)\u001b[0m\u001b[0;34m\u001b[0m\u001b[0;34m\u001b[0m\u001b[0m\n\u001b[0m\u001b[1;32m      4\u001b[0m \u001b[0mpyplot\u001b[0m\u001b[0;34m.\u001b[0m\u001b[0mplot\u001b[0m\u001b[0;34m(\u001b[0m\u001b[0mhistory\u001b[0m\u001b[0;34m.\u001b[0m\u001b[0mhistory\u001b[0m\u001b[0;34m[\u001b[0m\u001b[0;34m'val_accuracy'\u001b[0m\u001b[0;34m]\u001b[0m\u001b[0;34m,\u001b[0m \u001b[0mlabel\u001b[0m\u001b[0;34m=\u001b[0m\u001b[0;34m'test'\u001b[0m\u001b[0;34m)\u001b[0m\u001b[0;34m\u001b[0m\u001b[0;34m\u001b[0m\u001b[0m\n\u001b[1;32m      5\u001b[0m \u001b[0;31m#pyplot.title('lrate='+str(lrate), pad=-50)max_value = np.max(Beam_0_try)\u001b[0m\u001b[0;34m\u001b[0m\u001b[0;34m\u001b[0m\u001b[0;34m\u001b[0m\u001b[0m\n",
            "\u001b[0;31mKeyError\u001b[0m: 'accuracy'"
          ]
        }
      ]
    },
    {
      "cell_type": "code",
      "metadata": {
        "id": "lL6H9XGiWsE6",
        "colab_type": "code",
        "colab": {}
      },
      "source": [
        "max_value"
      ],
      "execution_count": null,
      "outputs": []
    },
    {
      "cell_type": "code",
      "metadata": {
        "id": "xAlZ52z2WwY5",
        "colab_type": "code",
        "colab": {}
      },
      "source": [
        "max_value = np.max(TestingDataPrediction)"
      ],
      "execution_count": null,
      "outputs": []
    },
    {
      "cell_type": "code",
      "metadata": {
        "id": "IZAmGvuDW1d3",
        "colab_type": "code",
        "colab": {}
      },
      "source": [
        "panchod=TestingDataPrediction[:,0]"
      ],
      "execution_count": null,
      "outputs": []
    },
    {
      "cell_type": "code",
      "metadata": {
        "id": "Xuks5BhUXKgE",
        "colab_type": "code",
        "colab": {}
      },
      "source": [
        "panchod.shape"
      ],
      "execution_count": null,
      "outputs": []
    },
    {
      "cell_type": "code",
      "metadata": {
        "id": "DJoUcBcmXPqU",
        "colab_type": "code",
        "colab": {}
      },
      "source": [
        "max_value = np.max(panchod)"
      ],
      "execution_count": null,
      "outputs": []
    },
    {
      "cell_type": "code",
      "metadata": {
        "id": "OA_HeCdTXTPd",
        "colab_type": "code",
        "colab": {}
      },
      "source": [
        "max_value"
      ],
      "execution_count": null,
      "outputs": []
    },
    {
      "cell_type": "code",
      "metadata": {
        "id": "rvIyCYFkHEHp",
        "colab_type": "code",
        "colab": {}
      },
      "source": [
        "#axis combining of the numpy array to get more and more better visualization of the data\n",
        "for TestingDataPrediction[i] in range(16994):\n",
        "    Comb= np.concatenate (TestingDataPrediction[i], )\n",
        "    print(\"We're on time %d\" % (x))"
      ],
      "execution_count": null,
      "outputs": []
    },
    {
      "cell_type": "code",
      "metadata": {
        "id": "8eGo_KU9G043",
        "colab_type": "code",
        "colab": {}
      },
      "source": [
        "Comb_Check_all= np.concatenate((TestingDataPrediction[]))"
      ],
      "execution_count": null,
      "outputs": []
    },
    {
      "cell_type": "code",
      "metadata": {
        "id": "AgDFU0-kFoMm",
        "colab_type": "code",
        "colab": {}
      },
      "source": [
        "Comb_Check"
      ],
      "execution_count": null,
      "outputs": []
    },
    {
      "cell_type": "code",
      "metadata": {
        "id": "fdXanb569VTa",
        "colab_type": "code",
        "colab": {}
      },
      "source": [
        "aA= TestingDataPrediction[:,:0,:1]"
      ],
      "execution_count": null,
      "outputs": []
    },
    {
      "cell_type": "code",
      "metadata": {
        "id": "dF4682ED_Rad",
        "colab_type": "code",
        "colab": {}
      },
      "source": [
        "aA.shape"
      ],
      "execution_count": null,
      "outputs": []
    },
    {
      "cell_type": "code",
      "metadata": {
        "id": "2g31yC-v_kC6",
        "colab_type": "code",
        "colab": {}
      },
      "source": [
        "aA\n"
      ],
      "execution_count": null,
      "outputs": []
    },
    {
      "cell_type": "code",
      "metadata": {
        "id": "dV7KyWj7X3qn",
        "colab_type": "code",
        "colab": {}
      },
      "source": [
        "np.squeeze(x).shape"
      ],
      "execution_count": null,
      "outputs": []
    },
    {
      "cell_type": "code",
      "metadata": {
        "id": "ZajpaSnoX7Xo",
        "colab_type": "code",
        "colab": {}
      },
      "source": [
        "np.squeeze(x, axis=0).shape"
      ],
      "execution_count": null,
      "outputs": []
    },
    {
      "cell_type": "code",
      "metadata": {
        "id": "tXBkqtwDmaK9",
        "colab_type": "code",
        "colab": {}
      },
      "source": [
        "TestingDataPrediction.shape"
      ],
      "execution_count": null,
      "outputs": []
    },
    {
      "cell_type": "code",
      "metadata": {
        "id": "bQ8ifo8Sqhjy",
        "colab_type": "code",
        "colab": {}
      },
      "source": [
        "x_input = TestingDataPrediction.reshape((16995, n_steps, n_features))"
      ],
      "execution_count": null,
      "outputs": []
    },
    {
      "cell_type": "code",
      "metadata": {
        "id": "USfgxHlfqsLX",
        "colab_type": "code",
        "colab": {}
      },
      "source": [
        "x_input.shape"
      ],
      "execution_count": null,
      "outputs": []
    },
    {
      "cell_type": "code",
      "metadata": {
        "id": "nDK-9gokquYV",
        "colab_type": "code",
        "colab": {}
      },
      "source": [
        "x_input_1= x_input.reshape((16995, n_features))"
      ],
      "execution_count": null,
      "outputs": []
    },
    {
      "cell_type": "code",
      "metadata": {
        "id": "YPeuwuGOuvYt",
        "colab_type": "code",
        "colab": {}
      },
      "source": [
        "\n",
        "#Prediction \n",
        "# demonstrate prediction\n",
        "import math"
      ],
      "execution_count": null,
      "outputs": []
    },
    {
      "cell_type": "code",
      "metadata": {
        "id": "zoDSjL9KtUuS",
        "colab_type": "code",
        "colab": {}
      },
      "source": [
        "\n",
        "plt.figure(figsize = (18,9))\n",
        "\n",
        "plt.plot(Testing_Time, TestingDataPrediction, label=\"Testing Prediction\")\n",
        "plt.plot(Testing_Time, X_test, Label= \"Testing Data\")\n",
        "#plt.plot(test_date,y_pred,label=\"Forecasting\")\n",
        "#plt.plot(test_date,y_test,label=\"actual \")\n",
        "\n",
        "plt.xticks(rotation=90)\n",
        "plt.xlabel('Time Steps',fontsize=18)\n",
        "plt.legend()\n",
        "plt.title(\"Forecasting using CNN\")\n",
        "plt.show()"
      ],
      "execution_count": null,
      "outputs": []
    },
    {
      "cell_type": "code",
      "metadata": {
        "id": "7sC3Y6-9usJa",
        "colab_type": "code",
        "colab": {}
      },
      "source": [
        "TestingDataPrediction"
      ],
      "execution_count": null,
      "outputs": []
    },
    {
      "cell_type": "code",
      "metadata": {
        "id": "OYuN8azbv55g",
        "colab_type": "code",
        "colab": {}
      },
      "source": [
        "TestingDataPrediction.shape"
      ],
      "execution_count": null,
      "outputs": []
    },
    {
      "cell_type": "code",
      "metadata": {
        "id": "MOqq5wz0v8c-",
        "colab_type": "code",
        "colab": {}
      },
      "source": [
        "print(type(TestingDataPrediction))"
      ],
      "execution_count": null,
      "outputs": []
    },
    {
      "cell_type": "code",
      "metadata": {
        "id": "lpfmaKVnw7nA",
        "colab_type": "code",
        "colab": {}
      },
      "source": [
        "DVL1_Predicition= TestingDataPrediction"
      ],
      "execution_count": null,
      "outputs": []
    },
    {
      "cell_type": "code",
      "metadata": {
        "id": "koOqnWfm3KLa",
        "colab_type": "code",
        "colab": {}
      },
      "source": [
        "X_train.shape"
      ],
      "execution_count": null,
      "outputs": []
    },
    {
      "cell_type": "code",
      "metadata": {
        "id": "x-8oW-xK3L4s",
        "colab_type": "code",
        "colab": {}
      },
      "source": [
        "b = np.reshape(TestingDataPrediction, (np.product(TestingDataPrediction.shape)))"
      ],
      "execution_count": null,
      "outputs": []
    },
    {
      "cell_type": "code",
      "metadata": {
        "id": "YFEqRo61699A",
        "colab_type": "code",
        "colab": {}
      },
      "source": [
        "b.shape"
      ],
      "execution_count": null,
      "outputs": []
    },
    {
      "cell_type": "code",
      "metadata": {
        "id": "Uj0vWhMo6_HP",
        "colab_type": "code",
        "colab": {}
      },
      "source": [
        "#Check the sliding window\n",
        "#After Checking it, allow the mind to find a way to scratch it even better"
      ],
      "execution_count": null,
      "outputs": []
    },
    {
      "cell_type": "code",
      "metadata": {
        "id": "d39w0ymA8xDs",
        "colab_type": "code",
        "colab": {}
      },
      "source": [
        "TestingDataPrediction.shape"
      ],
      "execution_count": null,
      "outputs": []
    },
    {
      "cell_type": "code",
      "metadata": {
        "id": "wI-Ns_Bd_RbK",
        "colab_type": "code",
        "colab": {}
      },
      "source": [
        ""
      ],
      "execution_count": null,
      "outputs": []
    }
  ]
}