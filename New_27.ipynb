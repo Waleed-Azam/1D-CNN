{
  "nbformat": 4,
  "nbformat_minor": 0,
  "metadata": {
    "colab": {
      "name": "New_27.ipynb",
      "provenance": [],
      "authorship_tag": "ABX9TyPXMeew7Rt/ugYhXLThs/Z3",
      "include_colab_link": true
    },
    "kernelspec": {
      "name": "python3",
      "display_name": "Python 3"
    }
  },
  "cells": [
    {
      "cell_type": "markdown",
      "metadata": {
        "id": "view-in-github",
        "colab_type": "text"
      },
      "source": [
        "<a href=\"https://colab.research.google.com/github/Waleed-Azam/1D-CNN/blob/master/New_27.ipynb\" target=\"_parent\"><img src=\"https://colab.research.google.com/assets/colab-badge.svg\" alt=\"Open In Colab\"/></a>"
      ]
    },
    {
      "cell_type": "code",
      "metadata": {
        "id": "R8fq8Yzw6PmJ",
        "colab_type": "code",
        "colab": {}
      },
      "source": [
        "!pip install -U -q PyDrive\n",
        "from pydrive.auth import GoogleAuth\n",
        "from pydrive.drive import GoogleDrive\n",
        "from google.colab import auth\n",
        "from oauth2client.client import GoogleCredentials\n",
        "import numpy as np"
      ],
      "execution_count": 0,
      "outputs": []
    },
    {
      "cell_type": "code",
      "metadata": {
        "id": "Qnu52h5v6STx",
        "colab_type": "code",
        "colab": {}
      },
      "source": [
        "auth.authenticate_user()\n",
        "gauth = GoogleAuth()\n",
        "gauth.credentials = GoogleCredentials.get_application_default()\n",
        "drive = GoogleDrive(gauth)"
      ],
      "execution_count": 0,
      "outputs": []
    },
    {
      "cell_type": "code",
      "metadata": {
        "id": "dqa1kuAx6UIu",
        "colab_type": "code",
        "colab": {}
      },
      "source": [
        "downloaded = drive.CreateFile({'id':'1za85mE20uoy3TF_Sv2Jv4ANIzRb3ccVM'}) # replace the id with id of file you want to access'}) # replace the id with id of file you want to access"
      ],
      "execution_count": 0,
      "outputs": []
    },
    {
      "cell_type": "code",
      "metadata": {
        "id": "js7C2jpF65jG",
        "colab_type": "code",
        "colab": {}
      },
      "source": [
        "downloaded.GetContentFile('Data_Speed_Variation_Final.csv')"
      ],
      "execution_count": 0,
      "outputs": []
    },
    {
      "cell_type": "code",
      "metadata": {
        "id": "jGfgl2F867kH",
        "colab_type": "code",
        "colab": {
          "base_uri": "https://localhost:8080/",
          "height": 404
        },
        "outputId": "f11b9086-3316-4d42-fe03-f72939c6e914"
      },
      "source": [
        "import pandas as pd\n",
        "df2 = pd.read_csv('Data_Speed_Variation_Final.csv') \n",
        "df2"
      ],
      "execution_count": 48,
      "outputs": [
        {
          "output_type": "execute_result",
          "data": {
            "text/html": [
              "<div>\n",
              "<style scoped>\n",
              "    .dataframe tbody tr th:only-of-type {\n",
              "        vertical-align: middle;\n",
              "    }\n",
              "\n",
              "    .dataframe tbody tr th {\n",
              "        vertical-align: top;\n",
              "    }\n",
              "\n",
              "    .dataframe thead th {\n",
              "        text-align: right;\n",
              "    }\n",
              "</style>\n",
              "<table border=\"1\" class=\"dataframe\">\n",
              "  <thead>\n",
              "    <tr style=\"text-align: right;\">\n",
              "      <th></th>\n",
              "      <th>Time</th>\n",
              "      <th>DVL1</th>\n",
              "      <th>DVL2</th>\n",
              "      <th>DVL3</th>\n",
              "      <th>DVL4</th>\n",
              "    </tr>\n",
              "  </thead>\n",
              "  <tbody>\n",
              "    <tr>\n",
              "      <th>0</th>\n",
              "      <td>0.0</td>\n",
              "      <td>0.00</td>\n",
              "      <td>0.000000</td>\n",
              "      <td>0.00</td>\n",
              "      <td>0.00</td>\n",
              "    </tr>\n",
              "    <tr>\n",
              "      <th>1</th>\n",
              "      <td>0.0</td>\n",
              "      <td>20.00</td>\n",
              "      <td>20.000000</td>\n",
              "      <td>20.00</td>\n",
              "      <td>20.00</td>\n",
              "    </tr>\n",
              "    <tr>\n",
              "      <th>2</th>\n",
              "      <td>0.1</td>\n",
              "      <td>20.00</td>\n",
              "      <td>20.000000</td>\n",
              "      <td>20.00</td>\n",
              "      <td>20.00</td>\n",
              "    </tr>\n",
              "    <tr>\n",
              "      <th>3</th>\n",
              "      <td>0.2</td>\n",
              "      <td>20.00</td>\n",
              "      <td>20.000000</td>\n",
              "      <td>20.00</td>\n",
              "      <td>20.00</td>\n",
              "    </tr>\n",
              "    <tr>\n",
              "      <th>4</th>\n",
              "      <td>0.3</td>\n",
              "      <td>20.00</td>\n",
              "      <td>20.000000</td>\n",
              "      <td>20.00</td>\n",
              "      <td>20.00</td>\n",
              "    </tr>\n",
              "    <tr>\n",
              "      <th>...</th>\n",
              "      <td>...</td>\n",
              "      <td>...</td>\n",
              "      <td>...</td>\n",
              "      <td>...</td>\n",
              "      <td>...</td>\n",
              "    </tr>\n",
              "    <tr>\n",
              "      <th>49996</th>\n",
              "      <td>5000.0</td>\n",
              "      <td>2.37</td>\n",
              "      <td>2.360000</td>\n",
              "      <td>2.47</td>\n",
              "      <td>2.51</td>\n",
              "    </tr>\n",
              "    <tr>\n",
              "      <th>49997</th>\n",
              "      <td>5000.0</td>\n",
              "      <td>2.37</td>\n",
              "      <td>2.360000</td>\n",
              "      <td>2.47</td>\n",
              "      <td>2.51</td>\n",
              "    </tr>\n",
              "    <tr>\n",
              "      <th>49998</th>\n",
              "      <td>5000.0</td>\n",
              "      <td>2.37</td>\n",
              "      <td>2.360000</td>\n",
              "      <td>2.47</td>\n",
              "      <td>2.51</td>\n",
              "    </tr>\n",
              "    <tr>\n",
              "      <th>49999</th>\n",
              "      <td>4999.8</td>\n",
              "      <td>2.37</td>\n",
              "      <td>2.359027</td>\n",
              "      <td>2.47</td>\n",
              "      <td>2.51</td>\n",
              "    </tr>\n",
              "    <tr>\n",
              "      <th>50000</th>\n",
              "      <td>4999.9</td>\n",
              "      <td>2.37</td>\n",
              "      <td>2.358876</td>\n",
              "      <td>2.48</td>\n",
              "      <td>2.51</td>\n",
              "    </tr>\n",
              "  </tbody>\n",
              "</table>\n",
              "<p>50001 rows × 5 columns</p>\n",
              "</div>"
            ],
            "text/plain": [
              "         Time   DVL1       DVL2   DVL3   DVL4\n",
              "0         0.0   0.00   0.000000   0.00   0.00\n",
              "1         0.0  20.00  20.000000  20.00  20.00\n",
              "2         0.1  20.00  20.000000  20.00  20.00\n",
              "3         0.2  20.00  20.000000  20.00  20.00\n",
              "4         0.3  20.00  20.000000  20.00  20.00\n",
              "...       ...    ...        ...    ...    ...\n",
              "49996  5000.0   2.37   2.360000   2.47   2.51\n",
              "49997  5000.0   2.37   2.360000   2.47   2.51\n",
              "49998  5000.0   2.37   2.360000   2.47   2.51\n",
              "49999  4999.8   2.37   2.359027   2.47   2.51\n",
              "50000  4999.9   2.37   2.358876   2.48   2.51\n",
              "\n",
              "[50001 rows x 5 columns]"
            ]
          },
          "metadata": {
            "tags": []
          },
          "execution_count": 48
        }
      ]
    },
    {
      "cell_type": "code",
      "metadata": {
        "id": "9sRJU1_87A-o",
        "colab_type": "code",
        "colab": {}
      },
      "source": [
        "df2[\"Time\"] = df2[\"Time\"].fillna(0)"
      ],
      "execution_count": 0,
      "outputs": []
    },
    {
      "cell_type": "code",
      "metadata": {
        "id": "ZVQnVUtk7SN9",
        "colab_type": "code",
        "colab": {
          "base_uri": "https://localhost:8080/",
          "height": 404
        },
        "outputId": "14795036-d267-49e9-8d5b-d7b646ffb3a1"
      },
      "source": [
        "df2"
      ],
      "execution_count": 50,
      "outputs": [
        {
          "output_type": "execute_result",
          "data": {
            "text/html": [
              "<div>\n",
              "<style scoped>\n",
              "    .dataframe tbody tr th:only-of-type {\n",
              "        vertical-align: middle;\n",
              "    }\n",
              "\n",
              "    .dataframe tbody tr th {\n",
              "        vertical-align: top;\n",
              "    }\n",
              "\n",
              "    .dataframe thead th {\n",
              "        text-align: right;\n",
              "    }\n",
              "</style>\n",
              "<table border=\"1\" class=\"dataframe\">\n",
              "  <thead>\n",
              "    <tr style=\"text-align: right;\">\n",
              "      <th></th>\n",
              "      <th>Time</th>\n",
              "      <th>DVL1</th>\n",
              "      <th>DVL2</th>\n",
              "      <th>DVL3</th>\n",
              "      <th>DVL4</th>\n",
              "    </tr>\n",
              "  </thead>\n",
              "  <tbody>\n",
              "    <tr>\n",
              "      <th>0</th>\n",
              "      <td>0.0</td>\n",
              "      <td>0.00</td>\n",
              "      <td>0.000000</td>\n",
              "      <td>0.00</td>\n",
              "      <td>0.00</td>\n",
              "    </tr>\n",
              "    <tr>\n",
              "      <th>1</th>\n",
              "      <td>0.0</td>\n",
              "      <td>20.00</td>\n",
              "      <td>20.000000</td>\n",
              "      <td>20.00</td>\n",
              "      <td>20.00</td>\n",
              "    </tr>\n",
              "    <tr>\n",
              "      <th>2</th>\n",
              "      <td>0.1</td>\n",
              "      <td>20.00</td>\n",
              "      <td>20.000000</td>\n",
              "      <td>20.00</td>\n",
              "      <td>20.00</td>\n",
              "    </tr>\n",
              "    <tr>\n",
              "      <th>3</th>\n",
              "      <td>0.2</td>\n",
              "      <td>20.00</td>\n",
              "      <td>20.000000</td>\n",
              "      <td>20.00</td>\n",
              "      <td>20.00</td>\n",
              "    </tr>\n",
              "    <tr>\n",
              "      <th>4</th>\n",
              "      <td>0.3</td>\n",
              "      <td>20.00</td>\n",
              "      <td>20.000000</td>\n",
              "      <td>20.00</td>\n",
              "      <td>20.00</td>\n",
              "    </tr>\n",
              "    <tr>\n",
              "      <th>...</th>\n",
              "      <td>...</td>\n",
              "      <td>...</td>\n",
              "      <td>...</td>\n",
              "      <td>...</td>\n",
              "      <td>...</td>\n",
              "    </tr>\n",
              "    <tr>\n",
              "      <th>49996</th>\n",
              "      <td>5000.0</td>\n",
              "      <td>2.37</td>\n",
              "      <td>2.360000</td>\n",
              "      <td>2.47</td>\n",
              "      <td>2.51</td>\n",
              "    </tr>\n",
              "    <tr>\n",
              "      <th>49997</th>\n",
              "      <td>5000.0</td>\n",
              "      <td>2.37</td>\n",
              "      <td>2.360000</td>\n",
              "      <td>2.47</td>\n",
              "      <td>2.51</td>\n",
              "    </tr>\n",
              "    <tr>\n",
              "      <th>49998</th>\n",
              "      <td>5000.0</td>\n",
              "      <td>2.37</td>\n",
              "      <td>2.360000</td>\n",
              "      <td>2.47</td>\n",
              "      <td>2.51</td>\n",
              "    </tr>\n",
              "    <tr>\n",
              "      <th>49999</th>\n",
              "      <td>4999.8</td>\n",
              "      <td>2.37</td>\n",
              "      <td>2.359027</td>\n",
              "      <td>2.47</td>\n",
              "      <td>2.51</td>\n",
              "    </tr>\n",
              "    <tr>\n",
              "      <th>50000</th>\n",
              "      <td>4999.9</td>\n",
              "      <td>2.37</td>\n",
              "      <td>2.358876</td>\n",
              "      <td>2.48</td>\n",
              "      <td>2.51</td>\n",
              "    </tr>\n",
              "  </tbody>\n",
              "</table>\n",
              "<p>50001 rows × 5 columns</p>\n",
              "</div>"
            ],
            "text/plain": [
              "         Time   DVL1       DVL2   DVL3   DVL4\n",
              "0         0.0   0.00   0.000000   0.00   0.00\n",
              "1         0.0  20.00  20.000000  20.00  20.00\n",
              "2         0.1  20.00  20.000000  20.00  20.00\n",
              "3         0.2  20.00  20.000000  20.00  20.00\n",
              "4         0.3  20.00  20.000000  20.00  20.00\n",
              "...       ...    ...        ...    ...    ...\n",
              "49996  5000.0   2.37   2.360000   2.47   2.51\n",
              "49997  5000.0   2.37   2.360000   2.47   2.51\n",
              "49998  5000.0   2.37   2.360000   2.47   2.51\n",
              "49999  4999.8   2.37   2.359027   2.47   2.51\n",
              "50000  4999.9   2.37   2.358876   2.48   2.51\n",
              "\n",
              "[50001 rows x 5 columns]"
            ]
          },
          "metadata": {
            "tags": []
          },
          "execution_count": 50
        }
      ]
    },
    {
      "cell_type": "code",
      "metadata": {
        "id": "ot3648Yl7UX4",
        "colab_type": "code",
        "colab": {}
      },
      "source": [
        "y=df2[\"DVL1\"] = df2[\"DVL1\"].fillna(0)"
      ],
      "execution_count": 0,
      "outputs": []
    },
    {
      "cell_type": "code",
      "metadata": {
        "id": "xEYCc-hE84DH",
        "colab_type": "code",
        "colab": {}
      },
      "source": [
        "y=y.values"
      ],
      "execution_count": 0,
      "outputs": []
    },
    {
      "cell_type": "code",
      "metadata": {
        "id": "sr5cCm_R9fiN",
        "colab_type": "code",
        "colab": {
          "base_uri": "https://localhost:8080/",
          "height": 50
        },
        "outputId": "72161d5e-cff1-4e78-9dab-2f55f4ee0467"
      },
      "source": [
        "y"
      ],
      "execution_count": 96,
      "outputs": [
        {
          "output_type": "execute_result",
          "data": {
            "text/plain": [
              "array([20.      , 20.      , 20.      , ...,  2.690678,  2.690923,\n",
              "        2.691079])"
            ]
          },
          "metadata": {
            "tags": []
          },
          "execution_count": 96
        }
      ]
    },
    {
      "cell_type": "code",
      "metadata": {
        "id": "kxmpNbhX7uKt",
        "colab_type": "code",
        "colab": {}
      },
      "source": [
        "downloaded = drive.CreateFile({'id':'1NiHiOzShPCDOKPnfNjrzjEcpvWoA8MwS'}) # replace the id with id of file you want to access'}) # replace the id with id of file you want to access"
      ],
      "execution_count": 0,
      "outputs": []
    },
    {
      "cell_type": "code",
      "metadata": {
        "id": "sFDZcVgW8-DX",
        "colab_type": "code",
        "colab": {}
      },
      "source": [
        "downloaded.GetContentFile('Training_Data_FEW_FISHES.csv')"
      ],
      "execution_count": 0,
      "outputs": []
    },
    {
      "cell_type": "code",
      "metadata": {
        "id": "FxUgyEcC9ATA",
        "colab_type": "code",
        "colab": {
          "base_uri": "https://localhost:8080/",
          "height": 404
        },
        "outputId": "4043a989-4a40-4863-8699-d44f3374f4d0"
      },
      "source": [
        "import pandas as pd\n",
        "df1 = pd.read_csv('Training_Data_FEW_FISHES.csv') \n",
        "df1"
      ],
      "execution_count": 80,
      "outputs": [
        {
          "output_type": "execute_result",
          "data": {
            "text/html": [
              "<div>\n",
              "<style scoped>\n",
              "    .dataframe tbody tr th:only-of-type {\n",
              "        vertical-align: middle;\n",
              "    }\n",
              "\n",
              "    .dataframe tbody tr th {\n",
              "        vertical-align: top;\n",
              "    }\n",
              "\n",
              "    .dataframe thead th {\n",
              "        text-align: right;\n",
              "    }\n",
              "</style>\n",
              "<table border=\"1\" class=\"dataframe\">\n",
              "  <thead>\n",
              "    <tr style=\"text-align: right;\">\n",
              "      <th></th>\n",
              "      <th>Time</th>\n",
              "      <th>DVL1</th>\n",
              "      <th>DVL2</th>\n",
              "      <th>DVL3</th>\n",
              "      <th>DVL4</th>\n",
              "    </tr>\n",
              "  </thead>\n",
              "  <tbody>\n",
              "    <tr>\n",
              "      <th>0</th>\n",
              "      <td>NaN</td>\n",
              "      <td>NaN</td>\n",
              "      <td>NaN</td>\n",
              "      <td>NaN</td>\n",
              "      <td>NaN</td>\n",
              "    </tr>\n",
              "    <tr>\n",
              "      <th>1</th>\n",
              "      <td>0.0</td>\n",
              "      <td>20.000000</td>\n",
              "      <td>20.000000</td>\n",
              "      <td>20.000000</td>\n",
              "      <td>20.000000</td>\n",
              "    </tr>\n",
              "    <tr>\n",
              "      <th>2</th>\n",
              "      <td>0.1</td>\n",
              "      <td>20.000000</td>\n",
              "      <td>20.000000</td>\n",
              "      <td>20.000000</td>\n",
              "      <td>20.000000</td>\n",
              "    </tr>\n",
              "    <tr>\n",
              "      <th>3</th>\n",
              "      <td>0.2</td>\n",
              "      <td>20.000000</td>\n",
              "      <td>20.000000</td>\n",
              "      <td>20.000000</td>\n",
              "      <td>20.000000</td>\n",
              "    </tr>\n",
              "    <tr>\n",
              "      <th>4</th>\n",
              "      <td>0.3</td>\n",
              "      <td>20.000000</td>\n",
              "      <td>20.000000</td>\n",
              "      <td>20.000000</td>\n",
              "      <td>20.000000</td>\n",
              "    </tr>\n",
              "    <tr>\n",
              "      <th>...</th>\n",
              "      <td>...</td>\n",
              "      <td>...</td>\n",
              "      <td>...</td>\n",
              "      <td>...</td>\n",
              "      <td>...</td>\n",
              "    </tr>\n",
              "    <tr>\n",
              "      <th>49996</th>\n",
              "      <td>4999.5</td>\n",
              "      <td>2.564325</td>\n",
              "      <td>2.547429</td>\n",
              "      <td>2.685580</td>\n",
              "      <td>2.715926</td>\n",
              "    </tr>\n",
              "    <tr>\n",
              "      <th>49997</th>\n",
              "      <td>4999.6</td>\n",
              "      <td>2.564293</td>\n",
              "      <td>2.547059</td>\n",
              "      <td>2.685737</td>\n",
              "      <td>2.715903</td>\n",
              "    </tr>\n",
              "    <tr>\n",
              "      <th>49998</th>\n",
              "      <td>4999.7</td>\n",
              "      <td>2.564267</td>\n",
              "      <td>2.546647</td>\n",
              "      <td>2.685912</td>\n",
              "      <td>2.715890</td>\n",
              "    </tr>\n",
              "    <tr>\n",
              "      <th>49999</th>\n",
              "      <td>4999.8</td>\n",
              "      <td>2.564253</td>\n",
              "      <td>2.546235</td>\n",
              "      <td>2.686088</td>\n",
              "      <td>2.715891</td>\n",
              "    </tr>\n",
              "    <tr>\n",
              "      <th>50000</th>\n",
              "      <td>4999.9</td>\n",
              "      <td>2.564248</td>\n",
              "      <td>2.545783</td>\n",
              "      <td>2.686284</td>\n",
              "      <td>2.715904</td>\n",
              "    </tr>\n",
              "  </tbody>\n",
              "</table>\n",
              "<p>50001 rows × 5 columns</p>\n",
              "</div>"
            ],
            "text/plain": [
              "         Time       DVL1       DVL2       DVL3       DVL4\n",
              "0         NaN        NaN        NaN        NaN        NaN\n",
              "1         0.0  20.000000  20.000000  20.000000  20.000000\n",
              "2         0.1  20.000000  20.000000  20.000000  20.000000\n",
              "3         0.2  20.000000  20.000000  20.000000  20.000000\n",
              "4         0.3  20.000000  20.000000  20.000000  20.000000\n",
              "...       ...        ...        ...        ...        ...\n",
              "49996  4999.5   2.564325   2.547429   2.685580   2.715926\n",
              "49997  4999.6   2.564293   2.547059   2.685737   2.715903\n",
              "49998  4999.7   2.564267   2.546647   2.685912   2.715890\n",
              "49999  4999.8   2.564253   2.546235   2.686088   2.715891\n",
              "50000  4999.9   2.564248   2.545783   2.686284   2.715904\n",
              "\n",
              "[50001 rows x 5 columns]"
            ]
          },
          "metadata": {
            "tags": []
          },
          "execution_count": 80
        }
      ]
    },
    {
      "cell_type": "code",
      "metadata": {
        "id": "4nUm2mU49EN2",
        "colab_type": "code",
        "colab": {}
      },
      "source": [
        "df1[\"DVL1\"] = df1[\"DVL1\"].fillna(0)"
      ],
      "execution_count": 0,
      "outputs": []
    },
    {
      "cell_type": "code",
      "metadata": {
        "id": "e6e3QyYw9PFI",
        "colab_type": "code",
        "colab": {}
      },
      "source": [
        "data_to_use=df1['DVL1'].values"
      ],
      "execution_count": 0,
      "outputs": []
    },
    {
      "cell_type": "code",
      "metadata": {
        "id": "-TTycuk59RhH",
        "colab_type": "code",
        "colab": {}
      },
      "source": [
        "scaled_dataset=data_to_use"
      ],
      "execution_count": 0,
      "outputs": []
    },
    {
      "cell_type": "code",
      "metadata": {
        "id": "1jSmTI649TSM",
        "colab_type": "code",
        "colab": {
          "base_uri": "https://localhost:8080/",
          "height": 50
        },
        "outputId": "61a95a23-d6b2-4f9c-8d66-64dff6f05f90"
      },
      "source": [
        "scaled_dataset"
      ],
      "execution_count": 84,
      "outputs": [
        {
          "output_type": "execute_result",
          "data": {
            "text/plain": [
              "array([ 0.      , 20.      , 20.      , ...,  2.564267,  2.564253,\n",
              "        2.564248])"
            ]
          },
          "metadata": {
            "tags": []
          },
          "execution_count": 84
        }
      ]
    },
    {
      "cell_type": "code",
      "metadata": {
        "id": "Zbp-TwQH9VR5",
        "colab_type": "code",
        "colab": {}
      },
      "source": [
        "X=scaled_dataset"
      ],
      "execution_count": 0,
      "outputs": []
    },
    {
      "cell_type": "code",
      "metadata": {
        "id": "TchxPinx9awP",
        "colab_type": "code",
        "colab": {
          "base_uri": "https://localhost:8080/",
          "height": 50
        },
        "outputId": "1c6b9067-02e0-40ce-8fc4-f7fa3545790a"
      },
      "source": [
        "X"
      ],
      "execution_count": 86,
      "outputs": [
        {
          "output_type": "execute_result",
          "data": {
            "text/plain": [
              "array([ 0.      , 20.      , 20.      , ...,  2.564267,  2.564253,\n",
              "        2.564248])"
            ]
          },
          "metadata": {
            "tags": []
          },
          "execution_count": 86
        }
      ]
    },
    {
      "cell_type": "code",
      "metadata": {
        "id": "RLORLaX89hjq",
        "colab_type": "code",
        "colab": {
          "base_uri": "https://localhost:8080/",
          "height": 33
        },
        "outputId": "1b29cee3-8227-4f5c-e7e5-c8a8668bc1e5"
      },
      "source": [
        "y"
      ],
      "execution_count": 87,
      "outputs": [
        {
          "output_type": "execute_result",
          "data": {
            "text/plain": [
              "array([ 0.  , 20.  , 20.  , ...,  2.37,  2.37,  2.37])"
            ]
          },
          "metadata": {
            "tags": []
          },
          "execution_count": 87
        }
      ]
    },
    {
      "cell_type": "code",
      "metadata": {
        "id": "dZG3ADkT9iE9",
        "colab_type": "code",
        "colab": {}
      },
      "source": [
        "def window_data(data, window_size):\n",
        "    X = []\n",
        "    y = []\n",
        "    \n",
        "    i = 0\n",
        "    while (i + window_size) <= len(data) - 1:\n",
        "        X.append(data[i:i+window_size])\n",
        "        y.append(data[i+window_size])\n",
        "        \n",
        "        i += 1\n",
        "    assert len(X) ==  len(y)\n",
        "    return X, y\n",
        "\n",
        "\n",
        "X, y = window_data(scaled_dataset, 10)"
      ],
      "execution_count": 0,
      "outputs": []
    },
    {
      "cell_type": "code",
      "metadata": {
        "id": "i_4-VucQ9k_H",
        "colab_type": "code",
        "colab": {}
      },
      "source": [
        "X_train  = np.array(X[:45000])\n",
        "y_train = np.array(y[:45000])\n",
        "\n",
        "X_test = np.array(X[45000:])\n",
        "y_test = np.array(y[45000:])"
      ],
      "execution_count": 0,
      "outputs": []
    },
    {
      "cell_type": "code",
      "metadata": {
        "id": "H-f_Ejbn9nyG",
        "colab_type": "code",
        "colab": {
          "base_uri": "https://localhost:8080/",
          "height": 84
        },
        "outputId": "c2cae5ae-ac98-40a0-ea0a-18680f467921"
      },
      "source": [
        "print(\"X_train size: {}\".format(X_train.shape))\n",
        "print(\"y_train size: {}\".format(y_train.shape))\n",
        "print(\"X_test size: {}\".format(X_test.shape))\n",
        "print(\"y_test size: {}\".format(y_test.shape))"
      ],
      "execution_count": 90,
      "outputs": [
        {
          "output_type": "stream",
          "text": [
            "X_train size: (45000, 10)\n",
            "y_train size: (45000,)\n",
            "X_test size: (4991, 10)\n",
            "y_test size: (4991,)\n"
          ],
          "name": "stdout"
        }
      ]
    },
    {
      "cell_type": "code",
      "metadata": {
        "id": "7Rh_FVL49qGV",
        "colab_type": "code",
        "colab": {}
      },
      "source": [
        "dates = df1['Time']\n",
        "train_date = dates[:45000]\n",
        "test_date = dates[-4991:]"
      ],
      "execution_count": 0,
      "outputs": []
    },
    {
      "cell_type": "code",
      "metadata": {
        "id": "ShHgaaBj9uAx",
        "colab_type": "code",
        "colab": {}
      },
      "source": [
        "n_steps = 10"
      ],
      "execution_count": 0,
      "outputs": []
    },
    {
      "cell_type": "code",
      "metadata": {
        "id": "rQBYKGhb97bS",
        "colab_type": "code",
        "colab": {}
      },
      "source": [
        "# univariate cnn example\n",
        "from numpy import array\n",
        "from keras.models import Sequential\n",
        "from keras.layers import Dense\n",
        "from keras.layers import Flatten\n",
        "from keras.layers.convolutional import Conv1D\n",
        "from keras.layers.convolutional import MaxPooling1D\n",
        "\n",
        "import matplotlib.pyplot as plt\n",
        "from sklearn.preprocessing import StandardScaler\n",
        "%matplotlib inline"
      ],
      "execution_count": 0,
      "outputs": []
    },
    {
      "cell_type": "code",
      "metadata": {
        "id": "G5xAfeKn9w0P",
        "colab_type": "code",
        "colab": {}
      },
      "source": [
        "X = X_train\n",
        "y = y_train\n",
        "\n",
        "n_features = 1\n",
        "X = X.reshape((X.shape[0], X.shape[1], n_features))\n",
        "# define model\n",
        "model = Sequential()\n",
        "model.add(Conv1D(filters=32, kernel_size=2, activation='relu', input_shape=(n_steps, n_features)))\n",
        "model.add(MaxPooling1D(pool_size=2))\n",
        "model.add(Flatten())\n",
        "model.add(Dense(50, activation='relu'))\n",
        "model.add(Dense(1))\n",
        "model.compile(optimizer='adam', loss='mse',metrics=['accuracy'])\n",
        "# fit model\n",
        "history=model.fit(X, y, epochs=10, verbose=0)"
      ],
      "execution_count": 0,
      "outputs": []
    },
    {
      "cell_type": "code",
      "metadata": {
        "id": "OCtwzd0k9z3V",
        "colab_type": "code",
        "colab": {
          "base_uri": "https://localhost:8080/",
          "height": 590
        },
        "outputId": "085e942f-2547-4ad6-e2fa-76a262f79e37"
      },
      "source": [
        "# demonstrate prediction\n",
        "import math\n",
        "y_pred=[]\n",
        "for i in X_test:\n",
        "    \n",
        "    x_input = i\n",
        "    x_input = x_input.reshape((1, n_steps, n_features))\n",
        "    yhat = model.predict(x_input, verbose=0)\n",
        "    y_pred.append(float(yhat[0]))\n",
        "\n",
        "# import numpy as np\n",
        "# yp = list(np.around(np.array(y_pred),1))\n",
        "# yt = list(np.around((y_test),1))\n",
        "    \n",
        "# y_pred = [ '%.1f' % elem for elem in y_pred ]\n",
        "# y_test = [ '%.1f' % elem for elem in y_pred ]\n",
        "    \n",
        "#print(y_pred)\n",
        "#print(y_test)\n",
        "\n",
        "plt.figure(figsize = (18,9))\n",
        "\n",
        "plt.plot(dates,scaled_dataset,label=\"Training\")\n",
        "plt.plot(test_date,y_pred,label=\"Forecasting\")\n",
        "#plt.plot(test_date,y_test,label=\"actual \")\n",
        "\n",
        "plt.xticks(rotation=90)\n",
        "plt.xlabel('Time Steps',fontsize=18)\n",
        "plt.legend()\n",
        "plt.title(\"Forecasting using CNN\")\n",
        "plt.show()"
      ],
      "execution_count": 95,
      "outputs": [
        {
          "output_type": "display_data",
          "data": {
            "image/png": "[encoded data removed]",
            "text/plain": [
              "<Figure size 1296x648 with 1 Axes>"
            ]
          },
          "metadata": {
            "tags": [],
            "needs_background": "light"
          }
        }
      ]
    },
    {
      "cell_type": "code",
      "metadata": {
        "id": "9KV8_9It-HCt",
        "colab_type": "code",
        "colab": {
          "base_uri": "https://localhost:8080/",
          "height": 295
        },
        "outputId": "114e7a8e-62cf-40ef-ae11-22d36876cdc2"
      },
      "source": [
        "plt.plot(history.history['loss'])\n",
        "#plt.plot(history.history['val_loss'])\n",
        "plt.title('model loss')\n",
        "plt.ylabel('Mean Square Error')\n",
        "plt.xlabel('epoch')\n",
        "plt.legend(['train', 'test'], loc='upper left')\n",
        "plt.show()"
      ],
      "execution_count": 39,
      "outputs": [
        {
          "output_type": "display_data",
          "data": {
            "image/png": "[encoded data removed]",
            "text/plain": [
              "<Figure size 432x288 with 1 Axes>"
            ]
          },
          "metadata": {
            "tags": [],
            "needs_background": "light"
          }
        }
      ]
    },
    {
      "cell_type": "code",
      "metadata": {
        "id": "oN8Aw1oO-PLp",
        "colab_type": "code",
        "colab": {
          "base_uri": "https://localhost:8080/",
          "height": 404
        },
        "outputId": "80a5af42-9464-4365-80af-9628ae0dbaec"
      },
      "source": [
        "df1"
      ],
      "execution_count": 40,
      "outputs": [
        {
          "output_type": "execute_result",
          "data": {
            "text/html": [
              "<div>\n",
              "<style scoped>\n",
              "    .dataframe tbody tr th:only-of-type {\n",
              "        vertical-align: middle;\n",
              "    }\n",
              "\n",
              "    .dataframe tbody tr th {\n",
              "        vertical-align: top;\n",
              "    }\n",
              "\n",
              "    .dataframe thead th {\n",
              "        text-align: right;\n",
              "    }\n",
              "</style>\n",
              "<table border=\"1\" class=\"dataframe\">\n",
              "  <thead>\n",
              "    <tr style=\"text-align: right;\">\n",
              "      <th></th>\n",
              "      <th>Time</th>\n",
              "      <th>DVL1</th>\n",
              "      <th>DVL2</th>\n",
              "      <th>DVL3</th>\n",
              "      <th>DVL4</th>\n",
              "    </tr>\n",
              "  </thead>\n",
              "  <tbody>\n",
              "    <tr>\n",
              "      <th>0</th>\n",
              "      <td>NaN</td>\n",
              "      <td>0.000000</td>\n",
              "      <td>NaN</td>\n",
              "      <td>NaN</td>\n",
              "      <td>NaN</td>\n",
              "    </tr>\n",
              "    <tr>\n",
              "      <th>1</th>\n",
              "      <td>0.0</td>\n",
              "      <td>20.000000</td>\n",
              "      <td>20.000000</td>\n",
              "      <td>20.000000</td>\n",
              "      <td>20.000000</td>\n",
              "    </tr>\n",
              "    <tr>\n",
              "      <th>2</th>\n",
              "      <td>0.1</td>\n",
              "      <td>20.000000</td>\n",
              "      <td>20.000000</td>\n",
              "      <td>20.000000</td>\n",
              "      <td>20.000000</td>\n",
              "    </tr>\n",
              "    <tr>\n",
              "      <th>3</th>\n",
              "      <td>0.2</td>\n",
              "      <td>20.000000</td>\n",
              "      <td>20.000000</td>\n",
              "      <td>20.000000</td>\n",
              "      <td>20.000000</td>\n",
              "    </tr>\n",
              "    <tr>\n",
              "      <th>4</th>\n",
              "      <td>0.3</td>\n",
              "      <td>20.000000</td>\n",
              "      <td>20.000000</td>\n",
              "      <td>20.000000</td>\n",
              "      <td>20.000000</td>\n",
              "    </tr>\n",
              "    <tr>\n",
              "      <th>...</th>\n",
              "      <td>...</td>\n",
              "      <td>...</td>\n",
              "      <td>...</td>\n",
              "      <td>...</td>\n",
              "      <td>...</td>\n",
              "    </tr>\n",
              "    <tr>\n",
              "      <th>49996</th>\n",
              "      <td>4999.5</td>\n",
              "      <td>2.564325</td>\n",
              "      <td>2.547429</td>\n",
              "      <td>2.685580</td>\n",
              "      <td>2.715926</td>\n",
              "    </tr>\n",
              "    <tr>\n",
              "      <th>49997</th>\n",
              "      <td>4999.6</td>\n",
              "      <td>2.564293</td>\n",
              "      <td>2.547059</td>\n",
              "      <td>2.685737</td>\n",
              "      <td>2.715903</td>\n",
              "    </tr>\n",
              "    <tr>\n",
              "      <th>49998</th>\n",
              "      <td>4999.7</td>\n",
              "      <td>2.564267</td>\n",
              "      <td>2.546647</td>\n",
              "      <td>2.685912</td>\n",
              "      <td>2.715890</td>\n",
              "    </tr>\n",
              "    <tr>\n",
              "      <th>49999</th>\n",
              "      <td>4999.8</td>\n",
              "      <td>2.564253</td>\n",
              "      <td>2.546235</td>\n",
              "      <td>2.686088</td>\n",
              "      <td>2.715891</td>\n",
              "    </tr>\n",
              "    <tr>\n",
              "      <th>50000</th>\n",
              "      <td>4999.9</td>\n",
              "      <td>2.564248</td>\n",
              "      <td>2.545783</td>\n",
              "      <td>2.686284</td>\n",
              "      <td>2.715904</td>\n",
              "    </tr>\n",
              "  </tbody>\n",
              "</table>\n",
              "<p>50001 rows × 5 columns</p>\n",
              "</div>"
            ],
            "text/plain": [
              "         Time       DVL1       DVL2       DVL3       DVL4\n",
              "0         NaN   0.000000        NaN        NaN        NaN\n",
              "1         0.0  20.000000  20.000000  20.000000  20.000000\n",
              "2         0.1  20.000000  20.000000  20.000000  20.000000\n",
              "3         0.2  20.000000  20.000000  20.000000  20.000000\n",
              "4         0.3  20.000000  20.000000  20.000000  20.000000\n",
              "...       ...        ...        ...        ...        ...\n",
              "49996  4999.5   2.564325   2.547429   2.685580   2.715926\n",
              "49997  4999.6   2.564293   2.547059   2.685737   2.715903\n",
              "49998  4999.7   2.564267   2.546647   2.685912   2.715890\n",
              "49999  4999.8   2.564253   2.546235   2.686088   2.715891\n",
              "50000  4999.9   2.564248   2.545783   2.686284   2.715904\n",
              "\n",
              "[50001 rows x 5 columns]"
            ]
          },
          "metadata": {
            "tags": []
          },
          "execution_count": 40
        }
      ]
    },
    {
      "cell_type": "code",
      "metadata": {
        "id": "dkHxEm3oCZ30",
        "colab_type": "code",
        "colab": {
          "base_uri": "https://localhost:8080/",
          "height": 404
        },
        "outputId": "946db30c-b0ec-43c2-a985-64acc8fe068f"
      },
      "source": [
        "df2"
      ],
      "execution_count": 44,
      "outputs": [
        {
          "output_type": "execute_result",
          "data": {
            "text/html": [
              "<div>\n",
              "<style scoped>\n",
              "    .dataframe tbody tr th:only-of-type {\n",
              "        vertical-align: middle;\n",
              "    }\n",
              "\n",
              "    .dataframe tbody tr th {\n",
              "        vertical-align: top;\n",
              "    }\n",
              "\n",
              "    .dataframe thead th {\n",
              "        text-align: right;\n",
              "    }\n",
              "</style>\n",
              "<table border=\"1\" class=\"dataframe\">\n",
              "  <thead>\n",
              "    <tr style=\"text-align: right;\">\n",
              "      <th></th>\n",
              "      <th>Time</th>\n",
              "      <th>DVL1</th>\n",
              "      <th>DVL2</th>\n",
              "      <th>DVL3</th>\n",
              "      <th>DVL4</th>\n",
              "    </tr>\n",
              "  </thead>\n",
              "  <tbody>\n",
              "    <tr>\n",
              "      <th>0</th>\n",
              "      <td>0</td>\n",
              "      <td>0.00</td>\n",
              "      <td>0</td>\n",
              "      <td>0.00</td>\n",
              "      <td>0.00</td>\n",
              "    </tr>\n",
              "    <tr>\n",
              "      <th>1</th>\n",
              "      <td>0.00E+00</td>\n",
              "      <td>20.00</td>\n",
              "      <td>2.00E+01</td>\n",
              "      <td>20.00</td>\n",
              "      <td>20.00</td>\n",
              "    </tr>\n",
              "    <tr>\n",
              "      <th>2</th>\n",
              "      <td>1.00E-01</td>\n",
              "      <td>20.00</td>\n",
              "      <td>2.00E+01</td>\n",
              "      <td>20.00</td>\n",
              "      <td>20.00</td>\n",
              "    </tr>\n",
              "    <tr>\n",
              "      <th>3</th>\n",
              "      <td>2.00E-01</td>\n",
              "      <td>20.00</td>\n",
              "      <td>2.00E+01</td>\n",
              "      <td>20.00</td>\n",
              "      <td>20.00</td>\n",
              "    </tr>\n",
              "    <tr>\n",
              "      <th>4</th>\n",
              "      <td>3.00E-01</td>\n",
              "      <td>20.00</td>\n",
              "      <td>2.00E+01</td>\n",
              "      <td>20.00</td>\n",
              "      <td>20.00</td>\n",
              "    </tr>\n",
              "    <tr>\n",
              "      <th>...</th>\n",
              "      <td>...</td>\n",
              "      <td>...</td>\n",
              "      <td>...</td>\n",
              "      <td>...</td>\n",
              "      <td>...</td>\n",
              "    </tr>\n",
              "    <tr>\n",
              "      <th>49996</th>\n",
              "      <td>9.50E+00</td>\n",
              "      <td>2.37</td>\n",
              "      <td>2.36E+00</td>\n",
              "      <td>5.57</td>\n",
              "      <td>2.51</td>\n",
              "    </tr>\n",
              "    <tr>\n",
              "      <th>49997</th>\n",
              "      <td>9.60E+00</td>\n",
              "      <td>2.37</td>\n",
              "      <td>2.36E+00</td>\n",
              "      <td>5.56</td>\n",
              "      <td>2.51</td>\n",
              "    </tr>\n",
              "    <tr>\n",
              "      <th>49998</th>\n",
              "      <td>9.70E+00</td>\n",
              "      <td>2.37</td>\n",
              "      <td>2.36E+00</td>\n",
              "      <td>5.57</td>\n",
              "      <td>2.51</td>\n",
              "    </tr>\n",
              "    <tr>\n",
              "      <th>49999</th>\n",
              "      <td>0</td>\n",
              "      <td>2.37</td>\n",
              "      <td>DVL</td>\n",
              "      <td>2.47</td>\n",
              "      <td>2.51</td>\n",
              "    </tr>\n",
              "    <tr>\n",
              "      <th>50000</th>\n",
              "      <td>0</td>\n",
              "      <td>2.37</td>\n",
              "      <td>DVLBeams_1</td>\n",
              "      <td>2.48</td>\n",
              "      <td>2.51</td>\n",
              "    </tr>\n",
              "  </tbody>\n",
              "</table>\n",
              "<p>50001 rows × 5 columns</p>\n",
              "</div>"
            ],
            "text/plain": [
              "           Time   DVL1        DVL2   DVL3   DVL4\n",
              "0             0   0.00           0   0.00   0.00\n",
              "1      0.00E+00  20.00    2.00E+01  20.00  20.00\n",
              "2      1.00E-01  20.00    2.00E+01  20.00  20.00\n",
              "3      2.00E-01  20.00    2.00E+01  20.00  20.00\n",
              "4      3.00E-01  20.00    2.00E+01  20.00  20.00\n",
              "...         ...    ...         ...    ...    ...\n",
              "49996  9.50E+00   2.37    2.36E+00   5.57   2.51\n",
              "49997  9.60E+00   2.37    2.36E+00   5.56   2.51\n",
              "49998  9.70E+00   2.37    2.36E+00   5.57   2.51\n",
              "49999         0   2.37         DVL   2.47   2.51\n",
              "50000         0   2.37  DVLBeams_1   2.48   2.51\n",
              "\n",
              "[50001 rows x 5 columns]"
            ]
          },
          "metadata": {
            "tags": []
          },
          "execution_count": 44
        }
      ]
    },
    {
      "cell_type": "code",
      "metadata": {
        "id": "IPezS6MpCc9T",
        "colab_type": "code",
        "colab": {}
      },
      "source": [
        ""
      ],
      "execution_count": 0,
      "outputs": []
    },
    {
      "cell_type": "code",
      "metadata": {
        "id": "9iXTCZL8BQo_",
        "colab_type": "code",
        "colab": {
          "base_uri": "https://localhost:8080/",
          "height": 279
        },
        "outputId": "e92c7458-dc81-47fe-ae2f-aa2af1867de3"
      },
      "source": [
        "ax = plt.gca()\n",
        "\n",
        "df2.plot(kind='scatter',x='Time',y='DVL1',ax=ax)\n",
        "#df.plot(kind='scatter',x='Time',y='DVL2', color='red', ax=ax)\n",
        "#df.plot(kind='scatter',x='Time',y='DVL3', color='green', ax=ax)\n",
        "#df.plot(kind='line',x='Time',y='DVL4', color='yellow', ax=ax)\n",
        "\n",
        "plt.show()  #Ground Truth, Labels"
      ],
      "execution_count": 97,
      "outputs": [
        {
          "output_type": "display_data",
          "data": {
            "image/png": "[encoded data removed]",
            "text/plain": [
              "<Figure size 432x288 with 1 Axes>"
            ]
          },
          "metadata": {
            "tags": [],
            "needs_background": "light"
          }
        }
      ]
    },
    {
      "cell_type": "code",
      "metadata": {
        "id": "nhDi7ii7BWHq",
        "colab_type": "code",
        "colab": {
          "base_uri": "https://localhost:8080/",
          "height": 279
        },
        "outputId": "4553599f-e8c5-4218-ec4b-5247940aab51"
      },
      "source": [
        "ax = plt.gca()\n",
        "\n",
        "df1.plot(kind='scatter',x='Time',y='DVL1',ax=ax)\n",
        "#df.plot(kind='scatter',x='Time',y='DVL2', color='red', ax=ax)\n",
        "#df.plot(kind='scatter',x='Time',y='DVL3', color='green', ax=ax)\n",
        "#df.plot(kind='line',x='Time',y='DVL4', color='yellow', ax=ax)\n",
        "\n",
        "plt.show() # Training Data"
      ],
      "execution_count": 98,
      "outputs": [
        {
          "output_type": "display_data",
          "data": {
            "image/png": "[encoded data removed]",
            "text/plain": [
              "<Figure size 432x288 with 1 Axes>"
            ]
          },
          "metadata": {
            "tags": [],
            "needs_background": "light"
          }
        }
      ]
    },
    {
      "cell_type": "code",
      "metadata": {
        "id": "XGPXZw_CHbt5",
        "colab_type": "code",
        "colab": {}
      },
      "source": [
        "# Now scrables the training data with the biao fish model"
      ],
      "execution_count": 0,
      "outputs": []
    },
    {
      "cell_type": "code",
      "metadata": {
        "id": "raoFixZTHoKS",
        "colab_type": "code",
        "colab": {}
      },
      "source": [
        ""
      ],
      "execution_count": 0,
      "outputs": []
    }
  ]
}