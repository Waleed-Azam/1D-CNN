{
  "nbformat": 4,
  "nbformat_minor": 0,
  "metadata": {
    "colab": {
      "name": "Correaltion.ipynb",
      "provenance": [],
      "collapsed_sections": [],
      "include_colab_link": true
    },
    "kernelspec": {
      "name": "python3",
      "display_name": "Python 3"
    }
  },
  "cells": [
    {
      "cell_type": "markdown",
      "metadata": {
        "id": "view-in-github",
        "colab_type": "text"
      },
      "source": [
        "<a href=\"https://colab.research.google.com/github/Waleed-Azam/1D-CNN/blob/master/All%20four%20beams_Sigurd_1.ipynb\" target=\"_parent\"><img src=\"https://colab.research.google.com/assets/colab-badge.svg\" alt=\"Open In Colab\"/></a>"
      ]
    },
    {
      "cell_type": "code",
      "metadata": {
        "id": "QJHCMPV4CV91",
        "colab_type": "code",
        "colab": {}
      },
      "source": [
        "#Prepare the nice data set\n",
        "from sklearn.model_selection import train_test_split\n",
        "\n"
      ],
      "execution_count": null,
      "outputs": []
    },
    {
      "cell_type": "code",
      "metadata": {
        "id": "5AcD8tA8CYIb",
        "colab_type": "code",
        "colab": {}
      },
      "source": [
        "#   The data set contains 4 DVL beams, All the beams processed for the Underwater robot"
      ],
      "execution_count": null,
      "outputs": []
    },
    {
      "cell_type": "code",
      "metadata": {
        "id": "u67dBKi6CcKR",
        "colab_type": "code",
        "colab": {}
      },
      "source": [
        "#data set\n",
        "#Expalnation of the data set\n",
        "#Preprocessing of the data set\n",
        "#Each beam Regression. estiamtion to conclude the best one\n",
        "#Its working perfect, as a algortihm, I am doing great. Still need to make several changes in it to make it work, according to the Pierluigi "
      ],
      "execution_count": null,
      "outputs": []
    },
    {
      "cell_type": "code",
      "metadata": {
        "id": "4oiAFptbCeLT",
        "colab_type": "code",
        "colab": {}
      },
      "source": [
        "# univariate cnn example\n",
        "from numpy import array\n",
        "from keras.models import Sequential\n",
        "from keras.layers import Dense\n",
        "from keras.layers import Flatten\n",
        "from keras.layers.convolutional import Conv1D\n",
        "from keras.layers.convolutional import MaxPooling1D"
      ],
      "execution_count": null,
      "outputs": []
    },
    {
      "cell_type": "code",
      "metadata": {
        "id": "2de-9mqUCfsX",
        "colab_type": "code",
        "colab": {}
      },
      "source": [
        "\n",
        "\n",
        "!pip install -U -q PyDrive\n",
        "from pydrive.auth import GoogleAuth\n",
        "from pydrive.drive import GoogleDrive\n",
        "from google.colab import auth\n",
        "from oauth2client.client import GoogleCredentials\n",
        "import numpy as np \n",
        "import matplotlib.pyplot as plt"
      ],
      "execution_count": null,
      "outputs": []
    },
    {
      "cell_type": "code",
      "metadata": {
        "id": "Hqm4O6V8Chj4",
        "colab_type": "code",
        "colab": {}
      },
      "source": [
        "auth.authenticate_user()\n",
        "gauth = GoogleAuth()\n",
        "gauth.credentials = GoogleCredentials.get_application_default()\n",
        "drive = GoogleDrive(gauth)"
      ],
      "execution_count": null,
      "outputs": []
    },
    {
      "cell_type": "code",
      "metadata": {
        "id": "ryowONZCCj1o",
        "colab_type": "code",
        "colab": {}
      },
      "source": [
        "downloaded = drive.CreateFile({'id':'11eCGs8j8V8bBFZBwT1nNvrGzdrQVmhWE'}) # replace the id with id of file you want to access'}) # replace the id with id of file you want to access\n",
        "#https://drive.google.com/file/d/1agv3WTJF7GiaUwWJGDpDQfZwX_nApM-J/view?usp=sharing\n",
        "#https://drive.google.com/file/d/14RfDnc5maSGzxripjhH3Z6B2asdpFbbX/view?usp=sharing\n",
        "#https://drive.google.com/file/d/11eCGs8j8V8bBFZBwT1nNvrGzdrQVmhWE/view?usp=sharing\n",
        "#DVL1______C_8000"
      ],
      "execution_count": null,
      "outputs": []
    },
    {
      "cell_type": "code",
      "metadata": {
        "id": "DCBUbPIBCrCl",
        "colab_type": "code",
        "colab": {}
      },
      "source": [
        "downloaded.GetContentFile('DVL1______C_8000.csv')"
      ],
      "execution_count": null,
      "outputs": []
    },
    {
      "cell_type": "code",
      "metadata": {
        "id": "Gi5X5BYvCs02",
        "colab_type": "code",
        "colab": {
          "base_uri": "https://localhost:8080/",
          "height": 404
        },
        "outputId": "f2c431dc-3e33-4bb0-ed1f-584cd00ffd6c"
      },
      "source": [
        "import pandas as pd\n",
        "df2 = pd.read_csv('DVL1______C_8000.csv') \n",
        "df2"
      ],
      "execution_count": null,
      "outputs": [
        {
          "output_type": "execute_result",
          "data": {
            "text/html": [
              "<div>\n",
              "<style scoped>\n",
              "    .dataframe tbody tr th:only-of-type {\n",
              "        vertical-align: middle;\n",
              "    }\n",
              "\n",
              "    .dataframe tbody tr th {\n",
              "        vertical-align: top;\n",
              "    }\n",
              "\n",
              "    .dataframe thead th {\n",
              "        text-align: right;\n",
              "    }\n",
              "</style>\n",
              "<table border=\"1\" class=\"dataframe\">\n",
              "  <thead>\n",
              "    <tr style=\"text-align: right;\">\n",
              "      <th></th>\n",
              "      <th>Time</th>\n",
              "      <th>DVL1_S</th>\n",
              "      <th>DVL2_S</th>\n",
              "      <th>DVL3_S</th>\n",
              "      <th>DVL4_S</th>\n",
              "      <th>DVL1</th>\n",
              "      <th>DVL2</th>\n",
              "      <th>DVL3</th>\n",
              "      <th>DVL4</th>\n",
              "    </tr>\n",
              "  </thead>\n",
              "  <tbody>\n",
              "    <tr>\n",
              "      <th>0</th>\n",
              "      <td>0.0</td>\n",
              "      <td>0.000000</td>\n",
              "      <td>0.0</td>\n",
              "      <td>0.000000</td>\n",
              "      <td>0.000000</td>\n",
              "      <td>0.000000</td>\n",
              "      <td>0.000000</td>\n",
              "      <td>0.000000</td>\n",
              "      <td>0.000000</td>\n",
              "    </tr>\n",
              "    <tr>\n",
              "      <th>1</th>\n",
              "      <td>0.0</td>\n",
              "      <td>20.000000</td>\n",
              "      <td>20.0</td>\n",
              "      <td>20.000000</td>\n",
              "      <td>20.000000</td>\n",
              "      <td>20.000000</td>\n",
              "      <td>20.000000</td>\n",
              "      <td>20.000000</td>\n",
              "      <td>20.000000</td>\n",
              "    </tr>\n",
              "    <tr>\n",
              "      <th>2</th>\n",
              "      <td>0.1</td>\n",
              "      <td>20.000000</td>\n",
              "      <td>20.0</td>\n",
              "      <td>20.000000</td>\n",
              "      <td>20.000000</td>\n",
              "      <td>20.000000</td>\n",
              "      <td>20.000000</td>\n",
              "      <td>20.000000</td>\n",
              "      <td>20.000000</td>\n",
              "    </tr>\n",
              "    <tr>\n",
              "      <th>3</th>\n",
              "      <td>0.2</td>\n",
              "      <td>20.000000</td>\n",
              "      <td>20.0</td>\n",
              "      <td>20.000000</td>\n",
              "      <td>20.000000</td>\n",
              "      <td>20.000000</td>\n",
              "      <td>20.000000</td>\n",
              "      <td>20.000000</td>\n",
              "      <td>20.000000</td>\n",
              "    </tr>\n",
              "    <tr>\n",
              "      <th>4</th>\n",
              "      <td>0.3</td>\n",
              "      <td>20.000000</td>\n",
              "      <td>20.0</td>\n",
              "      <td>20.000000</td>\n",
              "      <td>20.000000</td>\n",
              "      <td>20.000000</td>\n",
              "      <td>20.000000</td>\n",
              "      <td>20.000000</td>\n",
              "      <td>20.000000</td>\n",
              "    </tr>\n",
              "    <tr>\n",
              "      <th>...</th>\n",
              "      <td>...</td>\n",
              "      <td>...</td>\n",
              "      <td>...</td>\n",
              "      <td>...</td>\n",
              "      <td>...</td>\n",
              "      <td>...</td>\n",
              "      <td>...</td>\n",
              "      <td>...</td>\n",
              "      <td>...</td>\n",
              "    </tr>\n",
              "    <tr>\n",
              "      <th>84986</th>\n",
              "      <td>8498.5</td>\n",
              "      <td>2.692643</td>\n",
              "      <td>1.8</td>\n",
              "      <td>2.620548</td>\n",
              "      <td>2.615895</td>\n",
              "      <td>2.692643</td>\n",
              "      <td>2.628101</td>\n",
              "      <td>2.620548</td>\n",
              "      <td>2.615895</td>\n",
              "    </tr>\n",
              "    <tr>\n",
              "      <th>84987</th>\n",
              "      <td>8498.6</td>\n",
              "      <td>2.692682</td>\n",
              "      <td>1.8</td>\n",
              "      <td>2.620243</td>\n",
              "      <td>2.615925</td>\n",
              "      <td>2.692682</td>\n",
              "      <td>2.629319</td>\n",
              "      <td>2.620243</td>\n",
              "      <td>2.615925</td>\n",
              "    </tr>\n",
              "    <tr>\n",
              "      <th>84988</th>\n",
              "      <td>8498.7</td>\n",
              "      <td>2.692715</td>\n",
              "      <td>1.8</td>\n",
              "      <td>2.619866</td>\n",
              "      <td>2.615951</td>\n",
              "      <td>2.692715</td>\n",
              "      <td>2.630637</td>\n",
              "      <td>2.619866</td>\n",
              "      <td>2.615951</td>\n",
              "    </tr>\n",
              "    <tr>\n",
              "      <th>84989</th>\n",
              "      <td>8498.8</td>\n",
              "      <td>2.692740</td>\n",
              "      <td>1.8</td>\n",
              "      <td>2.619450</td>\n",
              "      <td>2.615970</td>\n",
              "      <td>2.692740</td>\n",
              "      <td>2.631916</td>\n",
              "      <td>2.619450</td>\n",
              "      <td>2.615970</td>\n",
              "    </tr>\n",
              "    <tr>\n",
              "      <th>84990</th>\n",
              "      <td>8498.9</td>\n",
              "      <td>2.692755</td>\n",
              "      <td>1.8</td>\n",
              "      <td>2.618994</td>\n",
              "      <td>2.615983</td>\n",
              "      <td>2.692755</td>\n",
              "      <td>2.633157</td>\n",
              "      <td>2.618994</td>\n",
              "      <td>2.615983</td>\n",
              "    </tr>\n",
              "  </tbody>\n",
              "</table>\n",
              "<p>84991 rows × 9 columns</p>\n",
              "</div>"
            ],
            "text/plain": [
              "         Time     DVL1_S  DVL2_S  ...       DVL2       DVL3       DVL4\n",
              "0         0.0   0.000000     0.0  ...   0.000000   0.000000   0.000000\n",
              "1         0.0  20.000000    20.0  ...  20.000000  20.000000  20.000000\n",
              "2         0.1  20.000000    20.0  ...  20.000000  20.000000  20.000000\n",
              "3         0.2  20.000000    20.0  ...  20.000000  20.000000  20.000000\n",
              "4         0.3  20.000000    20.0  ...  20.000000  20.000000  20.000000\n",
              "...       ...        ...     ...  ...        ...        ...        ...\n",
              "84986  8498.5   2.692643     1.8  ...   2.628101   2.620548   2.615895\n",
              "84987  8498.6   2.692682     1.8  ...   2.629319   2.620243   2.615925\n",
              "84988  8498.7   2.692715     1.8  ...   2.630637   2.619866   2.615951\n",
              "84989  8498.8   2.692740     1.8  ...   2.631916   2.619450   2.615970\n",
              "84990  8498.9   2.692755     1.8  ...   2.633157   2.618994   2.615983\n",
              "\n",
              "[84991 rows x 9 columns]"
            ]
          },
          "metadata": {
            "tags": []
          },
          "execution_count": 187
        }
      ]
    },
    {
      "cell_type": "code",
      "metadata": {
        "id": "p4pYnidxIeT_",
        "colab_type": "code",
        "colab": {}
      },
      "source": [
        "df2[\"Time\"] = df2[\"Time\"].fillna(0)\n",
        "df2[\"DVL1\"] = df2[\"DVL1\"].fillna(0)\n",
        "df2[\"DVL2\"] = df2[\"DVL2\"].fillna(0)\n",
        "df2[\"DVL3\"] = df2[\"DVL3\"].fillna(0)\n",
        "df2[\"DVL4\"] = df2[\"DVL4\"].fillna(0)\n",
        "df2[\"DVL1_S\"] = df2[\"DVL1_S\"].fillna(0)\n",
        "df2[\"DVL2_S\"] = df2[\"DVL2_S\"].fillna(0)\n",
        "df2[\"DVL3_S\"] = df2[\"DVL3_S\"].fillna(0)\n",
        "df2[\"DVL4_S\"] = df2[\"DVL4_S\"].fillna(0)\n"
      ],
      "execution_count": null,
      "outputs": []
    },
    {
      "cell_type": "code",
      "metadata": {
        "id": "JpRuR8f_RRyO",
        "colab_type": "code",
        "colab": {
          "base_uri": "https://localhost:8080/",
          "height": 404
        },
        "outputId": "e61e990f-d870-4850-e5c5-13ca62052783"
      },
      "source": [
        "df2"
      ],
      "execution_count": null,
      "outputs": [
        {
          "output_type": "execute_result",
          "data": {
            "text/html": [
              "<div>\n",
              "<style scoped>\n",
              "    .dataframe tbody tr th:only-of-type {\n",
              "        vertical-align: middle;\n",
              "    }\n",
              "\n",
              "    .dataframe tbody tr th {\n",
              "        vertical-align: top;\n",
              "    }\n",
              "\n",
              "    .dataframe thead th {\n",
              "        text-align: right;\n",
              "    }\n",
              "</style>\n",
              "<table border=\"1\" class=\"dataframe\">\n",
              "  <thead>\n",
              "    <tr style=\"text-align: right;\">\n",
              "      <th></th>\n",
              "      <th>Time</th>\n",
              "      <th>DVL1_S</th>\n",
              "      <th>DVL2_S</th>\n",
              "      <th>DVL3_S</th>\n",
              "      <th>DVL4_S</th>\n",
              "      <th>DVL1</th>\n",
              "      <th>DVL2</th>\n",
              "      <th>DVL3</th>\n",
              "      <th>DVL4</th>\n",
              "    </tr>\n",
              "  </thead>\n",
              "  <tbody>\n",
              "    <tr>\n",
              "      <th>0</th>\n",
              "      <td>0.0</td>\n",
              "      <td>0.000000</td>\n",
              "      <td>0.0</td>\n",
              "      <td>0.000000</td>\n",
              "      <td>0.000000</td>\n",
              "      <td>0.000000</td>\n",
              "      <td>0.000000</td>\n",
              "      <td>0.000000</td>\n",
              "      <td>0.000000</td>\n",
              "    </tr>\n",
              "    <tr>\n",
              "      <th>1</th>\n",
              "      <td>0.0</td>\n",
              "      <td>20.000000</td>\n",
              "      <td>20.0</td>\n",
              "      <td>20.000000</td>\n",
              "      <td>20.000000</td>\n",
              "      <td>20.000000</td>\n",
              "      <td>20.000000</td>\n",
              "      <td>20.000000</td>\n",
              "      <td>20.000000</td>\n",
              "    </tr>\n",
              "    <tr>\n",
              "      <th>2</th>\n",
              "      <td>0.1</td>\n",
              "      <td>20.000000</td>\n",
              "      <td>20.0</td>\n",
              "      <td>20.000000</td>\n",
              "      <td>20.000000</td>\n",
              "      <td>20.000000</td>\n",
              "      <td>20.000000</td>\n",
              "      <td>20.000000</td>\n",
              "      <td>20.000000</td>\n",
              "    </tr>\n",
              "    <tr>\n",
              "      <th>3</th>\n",
              "      <td>0.2</td>\n",
              "      <td>20.000000</td>\n",
              "      <td>20.0</td>\n",
              "      <td>20.000000</td>\n",
              "      <td>20.000000</td>\n",
              "      <td>20.000000</td>\n",
              "      <td>20.000000</td>\n",
              "      <td>20.000000</td>\n",
              "      <td>20.000000</td>\n",
              "    </tr>\n",
              "    <tr>\n",
              "      <th>4</th>\n",
              "      <td>0.3</td>\n",
              "      <td>20.000000</td>\n",
              "      <td>20.0</td>\n",
              "      <td>20.000000</td>\n",
              "      <td>20.000000</td>\n",
              "      <td>20.000000</td>\n",
              "      <td>20.000000</td>\n",
              "      <td>20.000000</td>\n",
              "      <td>20.000000</td>\n",
              "    </tr>\n",
              "    <tr>\n",
              "      <th>...</th>\n",
              "      <td>...</td>\n",
              "      <td>...</td>\n",
              "      <td>...</td>\n",
              "      <td>...</td>\n",
              "      <td>...</td>\n",
              "      <td>...</td>\n",
              "      <td>...</td>\n",
              "      <td>...</td>\n",
              "      <td>...</td>\n",
              "    </tr>\n",
              "    <tr>\n",
              "      <th>84986</th>\n",
              "      <td>8498.5</td>\n",
              "      <td>2.692643</td>\n",
              "      <td>1.8</td>\n",
              "      <td>2.620548</td>\n",
              "      <td>2.615895</td>\n",
              "      <td>2.692643</td>\n",
              "      <td>2.628101</td>\n",
              "      <td>2.620548</td>\n",
              "      <td>2.615895</td>\n",
              "    </tr>\n",
              "    <tr>\n",
              "      <th>84987</th>\n",
              "      <td>8498.6</td>\n",
              "      <td>2.692682</td>\n",
              "      <td>1.8</td>\n",
              "      <td>2.620243</td>\n",
              "      <td>2.615925</td>\n",
              "      <td>2.692682</td>\n",
              "      <td>2.629319</td>\n",
              "      <td>2.620243</td>\n",
              "      <td>2.615925</td>\n",
              "    </tr>\n",
              "    <tr>\n",
              "      <th>84988</th>\n",
              "      <td>8498.7</td>\n",
              "      <td>2.692715</td>\n",
              "      <td>1.8</td>\n",
              "      <td>2.619866</td>\n",
              "      <td>2.615951</td>\n",
              "      <td>2.692715</td>\n",
              "      <td>2.630637</td>\n",
              "      <td>2.619866</td>\n",
              "      <td>2.615951</td>\n",
              "    </tr>\n",
              "    <tr>\n",
              "      <th>84989</th>\n",
              "      <td>8498.8</td>\n",
              "      <td>2.692740</td>\n",
              "      <td>1.8</td>\n",
              "      <td>2.619450</td>\n",
              "      <td>2.615970</td>\n",
              "      <td>2.692740</td>\n",
              "      <td>2.631916</td>\n",
              "      <td>2.619450</td>\n",
              "      <td>2.615970</td>\n",
              "    </tr>\n",
              "    <tr>\n",
              "      <th>84990</th>\n",
              "      <td>8498.9</td>\n",
              "      <td>2.692755</td>\n",
              "      <td>1.8</td>\n",
              "      <td>2.618994</td>\n",
              "      <td>2.615983</td>\n",
              "      <td>2.692755</td>\n",
              "      <td>2.633157</td>\n",
              "      <td>2.618994</td>\n",
              "      <td>2.615983</td>\n",
              "    </tr>\n",
              "  </tbody>\n",
              "</table>\n",
              "<p>84991 rows × 9 columns</p>\n",
              "</div>"
            ],
            "text/plain": [
              "         Time     DVL1_S  DVL2_S  ...       DVL2       DVL3       DVL4\n",
              "0         0.0   0.000000     0.0  ...   0.000000   0.000000   0.000000\n",
              "1         0.0  20.000000    20.0  ...  20.000000  20.000000  20.000000\n",
              "2         0.1  20.000000    20.0  ...  20.000000  20.000000  20.000000\n",
              "3         0.2  20.000000    20.0  ...  20.000000  20.000000  20.000000\n",
              "4         0.3  20.000000    20.0  ...  20.000000  20.000000  20.000000\n",
              "...       ...        ...     ...  ...        ...        ...        ...\n",
              "84986  8498.5   2.692643     1.8  ...   2.628101   2.620548   2.615895\n",
              "84987  8498.6   2.692682     1.8  ...   2.629319   2.620243   2.615925\n",
              "84988  8498.7   2.692715     1.8  ...   2.630637   2.619866   2.615951\n",
              "84989  8498.8   2.692740     1.8  ...   2.631916   2.619450   2.615970\n",
              "84990  8498.9   2.692755     1.8  ...   2.633157   2.618994   2.615983\n",
              "\n",
              "[84991 rows x 9 columns]"
            ]
          },
          "metadata": {
            "tags": []
          },
          "execution_count": 189
        }
      ]
    },
    {
      "cell_type": "code",
      "metadata": {
        "id": "BGH7AGjmIvlN",
        "colab_type": "code",
        "colab": {}
      },
      "source": [
        "import numpy as np"
      ],
      "execution_count": null,
      "outputs": []
    },
    {
      "cell_type": "code",
      "metadata": {
        "id": "1UREnKG5IuCF",
        "colab_type": "code",
        "colab": {}
      },
      "source": [
        "t=df2['Time']\n",
        "Tdata=df2['DVL1_S']\n",
        "X1=np.array(Tdata)\n",
        "Tdata2=df2['DVL2_S']\n",
        "X2=np.array(Tdata2)\n",
        "Tdata3=df2['DVL3_S']\n",
        "X3=np.array(Tdata)\n",
        "Tdata4=df2['DVL4_S']\n",
        "X4=np.array(Tdata4)\n"
      ],
      "execution_count": null,
      "outputs": []
    },
    {
      "cell_type": "code",
      "metadata": {
        "id": "akVxzBoyJQf5",
        "colab_type": "code",
        "colab": {}
      },
      "source": [
        "import numpy as geek "
      ],
      "execution_count": null,
      "outputs": []
    },
    {
      "cell_type": "code",
      "metadata": {
        "id": "lwRHefsxJSwf",
        "colab_type": "code",
        "colab": {}
      },
      "source": [
        "in_arr1=X1\n",
        "in_arr2=X2\n",
        "in_arr3=X3\n",
        "in_arr4=X4"
      ],
      "execution_count": null,
      "outputs": []
    },
    {
      "cell_type": "code",
      "metadata": {
        "id": "_EeI3AarJkUF",
        "colab_type": "code",
        "colab": {
          "base_uri": "https://localhost:8080/",
          "height": 100
        },
        "outputId": "eb973601-6317-48a0-f726-87fe9c3e75fb"
      },
      "source": [
        "# Stacking the two arrays along axis 0 \n",
        "out_arr1 = geek.stack((in_arr1, in_arr2, in_arr3, in_arr4), axis = 0) \n",
        "print (\"Output stacked array along axis 0:\\n \", out_arr1) "
      ],
      "execution_count": null,
      "outputs": [
        {
          "output_type": "stream",
          "text": [
            "Output stacked array along axis 0:\n",
            "  [[ 0.       20.       20.       ...  2.692715  2.69274   2.692755]\n",
            " [ 0.       20.       20.       ...  1.8       1.8       1.8     ]\n",
            " [ 0.       20.       20.       ...  2.692715  2.69274   2.692755]\n",
            " [ 0.       20.       20.       ...  2.615951  2.61597   2.615983]]\n"
          ],
          "name": "stdout"
        }
      ]
    },
    {
      "cell_type": "code",
      "metadata": {
        "id": "B3W1KlHGJwjV",
        "colab_type": "code",
        "colab": {
          "base_uri": "https://localhost:8080/",
          "height": 33
        },
        "outputId": "9bd624b6-7f3d-42f6-eec9-507e2c729937"
      },
      "source": [
        "out_arr1.shape"
      ],
      "execution_count": null,
      "outputs": [
        {
          "output_type": "execute_result",
          "data": {
            "text/plain": [
              "(4, 84991)"
            ]
          },
          "metadata": {
            "tags": []
          },
          "execution_count": 195
        }
      ]
    },
    {
      "cell_type": "code",
      "metadata": {
        "id": "zGCN3GJ0KFRE",
        "colab_type": "code",
        "colab": {}
      },
      "source": [
        "X=out_arr1"
      ],
      "execution_count": null,
      "outputs": []
    },
    {
      "cell_type": "code",
      "metadata": {
        "id": "9yeESDUgKKBo",
        "colab_type": "code",
        "colab": {}
      },
      "source": [
        "scaled_data=X"
      ],
      "execution_count": null,
      "outputs": []
    },
    {
      "cell_type": "code",
      "metadata": {
        "id": "LFDazRbkf_aU",
        "colab_type": "code",
        "colab": {
          "base_uri": "https://localhost:8080/",
          "height": 150
        },
        "outputId": "e9e761ec-1dd8-4f95-bb8d-dea901254dd6"
      },
      "source": [
        "scaled_data"
      ],
      "execution_count": null,
      "outputs": [
        {
          "output_type": "execute_result",
          "data": {
            "text/plain": [
              "array([[ 0.      , 20.      , 20.      , ...,  2.692715,  2.69274 ,\n",
              "         2.692755],\n",
              "       [ 0.      , 20.      , 20.      , ...,  1.8     ,  1.8     ,\n",
              "         1.8     ],\n",
              "       [ 0.      , 20.      , 20.      , ...,  2.692715,  2.69274 ,\n",
              "         2.692755],\n",
              "       [ 0.      , 20.      , 20.      , ...,  2.615951,  2.61597 ,\n",
              "         2.615983]])"
            ]
          },
          "metadata": {
            "tags": []
          },
          "execution_count": 198
        }
      ]
    },
    {
      "cell_type": "code",
      "metadata": {
        "id": "5942rsx5gBcd",
        "colab_type": "code",
        "colab": {
          "base_uri": "https://localhost:8080/",
          "height": 150
        },
        "outputId": "842aa829-7a85-496b-bdff-47c15079b2f4"
      },
      "source": [
        "X"
      ],
      "execution_count": null,
      "outputs": [
        {
          "output_type": "execute_result",
          "data": {
            "text/plain": [
              "array([[ 0.      , 20.      , 20.      , ...,  2.692715,  2.69274 ,\n",
              "         2.692755],\n",
              "       [ 0.      , 20.      , 20.      , ...,  1.8     ,  1.8     ,\n",
              "         1.8     ],\n",
              "       [ 0.      , 20.      , 20.      , ...,  2.692715,  2.69274 ,\n",
              "         2.692755],\n",
              "       [ 0.      , 20.      , 20.      , ...,  2.615951,  2.61597 ,\n",
              "         2.615983]])"
            ]
          },
          "metadata": {
            "tags": []
          },
          "execution_count": 199
        }
      ]
    },
    {
      "cell_type": "code",
      "metadata": {
        "id": "AmZhWnwUKBdJ",
        "colab_type": "code",
        "colab": {}
      },
      "source": [
        ""
      ],
      "execution_count": null,
      "outputs": []
    },
    {
      "cell_type": "code",
      "metadata": {
        "id": "giTPvvn9KVWw",
        "colab_type": "code",
        "colab": {}
      },
      "source": [
        ""
      ],
      "execution_count": null,
      "outputs": []
    },
    {
      "cell_type": "code",
      "metadata": {
        "id": "HeEsmOAFgEMt",
        "colab_type": "code",
        "colab": {
          "base_uri": "https://localhost:8080/",
          "height": 150
        },
        "outputId": "cd1e6b3f-fae9-487c-c94d-9c69de17a56e"
      },
      "source": [
        "X"
      ],
      "execution_count": null,
      "outputs": [
        {
          "output_type": "execute_result",
          "data": {
            "text/plain": [
              "array([[ 0.      , 20.      , 20.      , ...,  2.692715,  2.69274 ,\n",
              "         2.692755],\n",
              "       [ 0.      , 20.      , 20.      , ...,  1.8     ,  1.8     ,\n",
              "         1.8     ],\n",
              "       [ 0.      , 20.      , 20.      , ...,  2.692715,  2.69274 ,\n",
              "         2.692755],\n",
              "       [ 0.      , 20.      , 20.      , ...,  2.615951,  2.61597 ,\n",
              "         2.615983]])"
            ]
          },
          "metadata": {
            "tags": []
          },
          "execution_count": 200
        }
      ]
    },
    {
      "cell_type": "code",
      "metadata": {
        "id": "GAPsXIllSXDE",
        "colab_type": "code",
        "colab": {
          "base_uri": "https://localhost:8080/",
          "height": 33
        },
        "outputId": "98d8389a-0866-4f59-b4bd-fdf14c17cecb"
      },
      "source": [
        "X.shape"
      ],
      "execution_count": null,
      "outputs": [
        {
          "output_type": "execute_result",
          "data": {
            "text/plain": [
              "(4, 84991)"
            ]
          },
          "metadata": {
            "tags": []
          },
          "execution_count": 201
        }
      ]
    },
    {
      "cell_type": "code",
      "metadata": {
        "id": "3w_0OuCpKbNl",
        "colab_type": "code",
        "colab": {}
      },
      "source": [
        ""
      ],
      "execution_count": null,
      "outputs": []
    },
    {
      "cell_type": "code",
      "metadata": {
        "id": "KhRKP8V9Kd-D",
        "colab_type": "code",
        "colab": {
          "base_uri": "https://localhost:8080/",
          "height": 33
        },
        "outputId": "039be0fd-3a75-4238-c4e8-ce816b6868de"
      },
      "source": [
        "X.shape"
      ],
      "execution_count": null,
      "outputs": [
        {
          "output_type": "execute_result",
          "data": {
            "text/plain": [
              "(4, 84991)"
            ]
          },
          "metadata": {
            "tags": []
          },
          "execution_count": 209
        }
      ]
    },
    {
      "cell_type": "code",
      "metadata": {
        "id": "F02lSGk1KW7H",
        "colab_type": "code",
        "colab": {
          "base_uri": "https://localhost:8080/",
          "height": 33
        },
        "outputId": "90b773df-4c67-42af-e6cd-fce08d1fdb16"
      },
      "source": [
        "N = X.shape[1]\n",
        "M = N//20\n",
        "rem = geek.remainder(X.shape[1],20)\n",
        "X_crop = X[:,:N-rem]\n",
        "X_crop.shape"
      ],
      "execution_count": null,
      "outputs": [
        {
          "output_type": "execute_result",
          "data": {
            "text/plain": [
              "(4, 84980)"
            ]
          },
          "metadata": {
            "tags": []
          },
          "execution_count": 225
        }
      ]
    },
    {
      "cell_type": "code",
      "metadata": {
        "id": "NPxt69_iKZBr",
        "colab_type": "code",
        "colab": {}
      },
      "source": [
        "X_split = geek.reshape(X_crop,(4,20,M))"
      ],
      "execution_count": null,
      "outputs": []
    },
    {
      "cell_type": "code",
      "metadata": {
        "id": "cKvL53Q1_Pje",
        "colab_type": "code",
        "colab": {
          "base_uri": "https://localhost:8080/",
          "height": 33
        },
        "outputId": "155a5219-7693-41b3-c8ec-fbc6fb9db9d0"
      },
      "source": [
        "X_split.shape"
      ],
      "execution_count": null,
      "outputs": [
        {
          "output_type": "execute_result",
          "data": {
            "text/plain": [
              "(4, 20, 4249)"
            ]
          },
          "metadata": {
            "tags": []
          },
          "execution_count": 227
        }
      ]
    },
    {
      "cell_type": "code",
      "metadata": {
        "id": "3CpI5kuKJPB2",
        "colab_type": "code",
        "colab": {}
      },
      "source": [
        "o=df2['DVL1']\n",
        "y1=np.array(o)\n",
        "oo=df2['DVL2']\n",
        "y2=np.array(oo)\n",
        "ooo=df2['DVL3']\n",
        "y3=np.array(ooo)\n",
        "oo2=df2['DVL4']\n",
        "y4=np.array(oo2)\n",
        "\n",
        "#Converting labels in to the matrix to feed in to the NN"
      ],
      "execution_count": null,
      "outputs": []
    },
    {
      "cell_type": "code",
      "metadata": {
        "id": "mtzaiBO6Cz92",
        "colab_type": "code",
        "colab": {
          "base_uri": "https://localhost:8080/",
          "height": 100
        },
        "outputId": "e9672fa3-a492-4c06-b31a-7e4a54eb869e"
      },
      "source": [
        "\n",
        "# Stacking the two arrays along axis 0 \n",
        "out_lab1 = geek.stack((y1, y2, y3, y4), axis = 0) \n",
        "print (\"Output stacked array along axis 0:\\n \", out_lab1) "
      ],
      "execution_count": null,
      "outputs": [
        {
          "output_type": "stream",
          "text": [
            "Output stacked array along axis 0:\n",
            "  [[ 0.       20.       20.       ...  2.692715  2.69274   2.692755]\n",
            " [ 0.       20.       20.       ...  2.630637  2.631916  2.633157]\n",
            " [ 0.       20.       20.       ...  2.619866  2.61945   2.618994]\n",
            " [ 0.       20.       20.       ...  2.615951  2.61597   2.615983]]\n"
          ],
          "name": "stdout"
        }
      ]
    },
    {
      "cell_type": "code",
      "metadata": {
        "id": "BmvfnD11BvOm",
        "colab_type": "code",
        "colab": {
          "base_uri": "https://localhost:8080/",
          "height": 33
        },
        "outputId": "664cfa5a-3009-4bca-f92b-5c1d09e4ebb8"
      },
      "source": [
        "y_crop = out_lab1[:,:N-rem]\n",
        "y_split = geek.reshape(y_crop,(4,20,M))\n",
        "y_split.shape"
      ],
      "execution_count": null,
      "outputs": [
        {
          "output_type": "execute_result",
          "data": {
            "text/plain": [
              "(4, 20, 4249)"
            ]
          },
          "metadata": {
            "tags": []
          },
          "execution_count": 229
        }
      ]
    },
    {
      "cell_type": "code",
      "metadata": {
        "id": "enKnDTtH5b_3",
        "colab_type": "code",
        "colab": {}
      },
      "source": [
        "# split a univariate sequence into samples\n",
        "def split_sequence(sequence, n_steps):\n",
        "\tLabel, y = list(), list()\n",
        "\tfor i in range(len(sequence)):\n",
        "\t\t# find the end of this pattern\n",
        "\t\tend_ix = i + n_steps\n",
        "\t\t# check if we are beyond the sequence\n",
        "\t\tif end_ix > len(sequence)-1:\n",
        "\t\t\tbreak\n",
        "\t\t# gather input and output parts of the pattern\n",
        "\t\tseq_x, seq_y = sequence[:,i:end_ix], sequence[:,end_ix]\n",
        "\t\tLabel.append(seq_x)\n",
        "\t\ty.append(seq_y)\n",
        "\treturn array(Label), array(y)"
      ],
      "execution_count": null,
      "outputs": []
    },
    {
      "cell_type": "code",
      "metadata": {
        "id": "OJr2vdIZ5_qX",
        "colab_type": "code",
        "colab": {
          "base_uri": "https://localhost:8080/",
          "height": 195
        },
        "outputId": "aa55340c-bcd5-4e43-af1f-625c91e5b472"
      },
      "source": [
        "raw_seq = X\n",
        "# choose a number of time steps\n",
        "n_steps = 20\n",
        "# split into samples\n",
        "X, y = split_sequence(raw_seq, n_steps)\n",
        "# reshape from [samples, timesteps] into [samples, timesteps, features]\n",
        "n_features = 1\n",
        "X = X.reshape((X.shape[0], X.shape[1], n_features))"
      ],
      "execution_count": null,
      "outputs": [
        {
          "output_type": "error",
          "ename": "IndexError",
          "evalue": "ignored",
          "traceback": [
            "\u001b[0;31m---------------------------------------------------------------------------\u001b[0m",
            "\u001b[0;31mIndexError\u001b[0m                                Traceback (most recent call last)",
            "\u001b[0;32m<ipython-input-171-ebcbb17784cb>\u001b[0m in \u001b[0;36m<module>\u001b[0;34m()\u001b[0m\n\u001b[1;32m      6\u001b[0m \u001b[0;31m# reshape from [samples, timesteps] into [samples, timesteps, features]\u001b[0m\u001b[0;34m\u001b[0m\u001b[0;34m\u001b[0m\u001b[0;34m\u001b[0m\u001b[0m\n\u001b[1;32m      7\u001b[0m \u001b[0mn_features\u001b[0m \u001b[0;34m=\u001b[0m \u001b[0;36m1\u001b[0m\u001b[0;34m\u001b[0m\u001b[0;34m\u001b[0m\u001b[0m\n\u001b[0;32m----> 8\u001b[0;31m \u001b[0mX\u001b[0m \u001b[0;34m=\u001b[0m \u001b[0mX\u001b[0m\u001b[0;34m.\u001b[0m\u001b[0mreshape\u001b[0m\u001b[0;34m(\u001b[0m\u001b[0;34m(\u001b[0m\u001b[0mX\u001b[0m\u001b[0;34m.\u001b[0m\u001b[0mshape\u001b[0m\u001b[0;34m[\u001b[0m\u001b[0;36m0\u001b[0m\u001b[0;34m]\u001b[0m\u001b[0;34m,\u001b[0m \u001b[0mX\u001b[0m\u001b[0;34m.\u001b[0m\u001b[0mshape\u001b[0m\u001b[0;34m[\u001b[0m\u001b[0;36m1\u001b[0m\u001b[0;34m]\u001b[0m\u001b[0;34m,\u001b[0m \u001b[0mn_features\u001b[0m\u001b[0;34m)\u001b[0m\u001b[0;34m)\u001b[0m\u001b[0;34m\u001b[0m\u001b[0;34m\u001b[0m\u001b[0m\n\u001b[0m",
            "\u001b[0;31mIndexError\u001b[0m: tuple index out of range"
          ]
        }
      ]
    },
    {
      "cell_type": "code",
      "metadata": {
        "id": "qokDo0BK6fzb",
        "colab_type": "code",
        "colab": {
          "base_uri": "https://localhost:8080/",
          "height": 33
        },
        "outputId": "5a1dd541-6d62-46f6-8efb-9e02b40fc1b0"
      },
      "source": [
        "raw_seq.shape"
      ],
      "execution_count": null,
      "outputs": [
        {
          "output_type": "execute_result",
          "data": {
            "text/plain": [
              "(4, 84991)"
            ]
          },
          "metadata": {
            "tags": []
          },
          "execution_count": 173
        }
      ]
    },
    {
      "cell_type": "code",
      "metadata": {
        "id": "tnj0_Zw56fwM",
        "colab_type": "code",
        "colab": {}
      },
      "source": [
        ""
      ],
      "execution_count": null,
      "outputs": []
    },
    {
      "cell_type": "code",
      "metadata": {
        "id": "Ukdzgr4d6ft4",
        "colab_type": "code",
        "colab": {}
      },
      "source": [
        ""
      ],
      "execution_count": null,
      "outputs": []
    },
    {
      "cell_type": "code",
      "metadata": {
        "id": "eYU6XdAd6fip",
        "colab_type": "code",
        "colab": {}
      },
      "source": [
        ""
      ],
      "execution_count": null,
      "outputs": []
    },
    {
      "cell_type": "code",
      "metadata": {
        "id": "QxChEd5vCuf9",
        "colab_type": "code",
        "colab": {
          "base_uri": "https://localhost:8080/",
          "height": 33
        },
        "outputId": "af1fefc0-1c05-437f-fbaa-f5750cb79745"
      },
      "source": [
        "out_lab1.shape"
      ],
      "execution_count": null,
      "outputs": [
        {
          "output_type": "execute_result",
          "data": {
            "text/plain": [
              "(4, 84991)"
            ]
          },
          "metadata": {
            "tags": []
          },
          "execution_count": 169
        }
      ]
    },
    {
      "cell_type": "code",
      "metadata": {
        "id": "i7HRx0xX6dcr",
        "colab_type": "code",
        "colab": {}
      },
      "source": [
        ""
      ],
      "execution_count": null,
      "outputs": []
    },
    {
      "cell_type": "code",
      "metadata": {
        "id": "z9pXVH7kMyDe",
        "colab_type": "code",
        "colab": {
          "base_uri": "https://localhost:8080/",
          "height": 33
        },
        "outputId": "487c70a3-d02d-47c1-ad49-9f51c342504e"
      },
      "source": [
        "out_lab1.shape"
      ],
      "execution_count": null,
      "outputs": [
        {
          "output_type": "execute_result",
          "data": {
            "text/plain": [
              "(4, 84991)"
            ]
          },
          "metadata": {
            "tags": []
          },
          "execution_count": 99
        }
      ]
    },
    {
      "cell_type": "code",
      "metadata": {
        "id": "UhFDO85mCx77",
        "colab_type": "code",
        "colab": {}
      },
      "source": [
        "y=out_lab1"
      ],
      "execution_count": null,
      "outputs": []
    },
    {
      "cell_type": "code",
      "metadata": {
        "id": "jhk6-ebAMtTt",
        "colab_type": "code",
        "colab": {
          "base_uri": "https://localhost:8080/",
          "height": 33
        },
        "outputId": "b9cbc7a9-edfd-437a-e58d-395866add13b"
      },
      "source": [
        "y.shape"
      ],
      "execution_count": null,
      "outputs": [
        {
          "output_type": "execute_result",
          "data": {
            "text/plain": [
              "(4, 84991)"
            ]
          },
          "metadata": {
            "tags": []
          },
          "execution_count": 101
        }
      ]
    },
    {
      "cell_type": "code",
      "metadata": {
        "id": "5rNtuYsWMuSY",
        "colab_type": "code",
        "colab": {}
      },
      "source": [
        "# Now dividing both in to the windows to predict well"
      ],
      "execution_count": null,
      "outputs": []
    },
    {
      "cell_type": "code",
      "metadata": {
        "id": "8awTjHtiaebK",
        "colab_type": "code",
        "colab": {
          "base_uri": "https://localhost:8080/",
          "height": 150
        },
        "outputId": "c1999515-16a7-4f18-d52f-cc20cd0f9200"
      },
      "source": [
        "X"
      ],
      "execution_count": null,
      "outputs": [
        {
          "output_type": "execute_result",
          "data": {
            "text/plain": [
              "array([[ 0.      , 20.      , 20.      , ...,  2.692715,  2.69274 ,\n",
              "         2.692755],\n",
              "       [ 0.      , 20.      , 20.      , ...,  1.8     ,  1.8     ,\n",
              "         1.8     ],\n",
              "       [ 0.      , 20.      , 20.      , ...,  2.692715,  2.69274 ,\n",
              "         2.692755],\n",
              "       [ 0.      , 20.      , 20.      , ...,  2.615951,  2.61597 ,\n",
              "         2.615983]])"
            ]
          },
          "metadata": {
            "tags": []
          },
          "execution_count": 103
        }
      ]
    },
    {
      "cell_type": "code",
      "metadata": {
        "id": "MoIoaxUKlypf",
        "colab_type": "code",
        "colab": {}
      },
      "source": [
        "dataset=X"
      ],
      "execution_count": null,
      "outputs": []
    },
    {
      "cell_type": "code",
      "metadata": {
        "id": "ZlZmvTgOf0pK",
        "colab_type": "code",
        "colab": {
          "base_uri": "https://localhost:8080/",
          "height": 33
        },
        "outputId": "1eb5eb64-2944-44b5-a2d2-64872bf59123"
      },
      "source": [
        "X.shape\n",
        " "
      ],
      "execution_count": null,
      "outputs": [
        {
          "output_type": "execute_result",
          "data": {
            "text/plain": [
              "(4, 84991)"
            ]
          },
          "metadata": {
            "tags": []
          },
          "execution_count": 105
        }
      ]
    },
    {
      "cell_type": "code",
      "metadata": {
        "id": "G0UZVw-mlmA2",
        "colab_type": "code",
        "colab": {
          "base_uri": "https://localhost:8080/",
          "height": 150
        },
        "outputId": "e9e5f451-4eef-4c91-cfa0-aa342b578329"
      },
      "source": [
        "X"
      ],
      "execution_count": null,
      "outputs": [
        {
          "output_type": "execute_result",
          "data": {
            "text/plain": [
              "array([[ 0.      , 20.      , 20.      , ...,  2.692715,  2.69274 ,\n",
              "         2.692755],\n",
              "       [ 0.      , 20.      , 20.      , ...,  1.8     ,  1.8     ,\n",
              "         1.8     ],\n",
              "       [ 0.      , 20.      , 20.      , ...,  2.692715,  2.69274 ,\n",
              "         2.692755],\n",
              "       [ 0.      , 20.      , 20.      , ...,  2.615951,  2.61597 ,\n",
              "         2.615983]])"
            ]
          },
          "metadata": {
            "tags": []
          },
          "execution_count": 106
        }
      ]
    },
    {
      "cell_type": "code",
      "metadata": {
        "id": "VhcNHwVIob8Z",
        "colab_type": "code",
        "colab": {}
      },
      "source": [
        "n_steps=20"
      ],
      "execution_count": null,
      "outputs": []
    },
    {
      "cell_type": "code",
      "metadata": {
        "id": "idhagKDll-8P",
        "colab_type": "code",
        "colab": {
          "base_uri": "https://localhost:8080/",
          "height": 150
        },
        "outputId": "cfbf545a-bb61-47c6-f596-df0f8d5a309a"
      },
      "source": [
        "X"
      ],
      "execution_count": null,
      "outputs": [
        {
          "output_type": "execute_result",
          "data": {
            "text/plain": [
              "array([[ 0.      , 20.      , 20.      , ...,  2.692715,  2.69274 ,\n",
              "         2.692755],\n",
              "       [ 0.      , 20.      , 20.      , ...,  1.8     ,  1.8     ,\n",
              "         1.8     ],\n",
              "       [ 0.      , 20.      , 20.      , ...,  2.692715,  2.69274 ,\n",
              "         2.692755],\n",
              "       [ 0.      , 20.      , 20.      , ...,  2.615951,  2.61597 ,\n",
              "         2.615983]])"
            ]
          },
          "metadata": {
            "tags": []
          },
          "execution_count": 108
        }
      ]
    },
    {
      "cell_type": "code",
      "metadata": {
        "id": "tCnOMEVxprD1",
        "colab_type": "code",
        "colab": {}
      },
      "source": [
        ""
      ],
      "execution_count": null,
      "outputs": []
    },
    {
      "cell_type": "code",
      "metadata": {
        "id": "eWcun68Pp-XA",
        "colab_type": "code",
        "colab": {}
      },
      "source": [
        ""
      ],
      "execution_count": null,
      "outputs": []
    },
    {
      "cell_type": "code",
      "metadata": {
        "id": "aHOz4qhXp_K7",
        "colab_type": "code",
        "colab": {
          "base_uri": "https://localhost:8080/",
          "height": 33
        },
        "outputId": "a928e376-1896-449c-c926-a87f48d8fffd"
      },
      "source": [
        "X.shape"
      ],
      "execution_count": null,
      "outputs": [
        {
          "output_type": "execute_result",
          "data": {
            "text/plain": [
              "(4, 84991)"
            ]
          },
          "metadata": {
            "tags": []
          },
          "execution_count": 109
        }
      ]
    },
    {
      "cell_type": "code",
      "metadata": {
        "id": "uNmVh6u4sz32",
        "colab_type": "code",
        "colab": {}
      },
      "source": [
        "i_start=X"
      ],
      "execution_count": null,
      "outputs": []
    },
    {
      "cell_type": "code",
      "metadata": {
        "id": "pGextfVmqAjH",
        "colab_type": "code",
        "colab": {}
      },
      "source": [
        "class A: \n",
        "    def __init__(self, i_start, n_steps):\n",
        "            self.i_start = i_start\n",
        "            self.n_steps = n_steps"
      ],
      "execution_count": null,
      "outputs": []
    },
    {
      "cell_type": "code",
      "metadata": {
        "id": "P-6hlTCosoyA",
        "colab_type": "code",
        "colab": {
          "base_uri": "https://localhost:8080/",
          "height": 150
        },
        "outputId": "8b1eae28-7a23-43e4-f4bf-88323cfdf571"
      },
      "source": [
        "aaa= A(i_start, n_steps)\n",
        "aaa.i_start"
      ],
      "execution_count": null,
      "outputs": [
        {
          "output_type": "execute_result",
          "data": {
            "text/plain": [
              "array([[ 0.      , 20.      , 20.      , ...,  2.692715,  2.69274 ,\n",
              "         2.692755],\n",
              "       [ 0.      , 20.      , 20.      , ...,  1.8     ,  1.8     ,\n",
              "         1.8     ],\n",
              "       [ 0.      , 20.      , 20.      , ...,  2.692715,  2.69274 ,\n",
              "         2.692755],\n",
              "       [ 0.      , 20.      , 20.      , ...,  2.615951,  2.61597 ,\n",
              "         2.615983]])"
            ]
          },
          "metadata": {
            "tags": []
          },
          "execution_count": 112
        }
      ]
    },
    {
      "cell_type": "code",
      "metadata": {
        "id": "vGdeY1NKsyTV",
        "colab_type": "code",
        "colab": {}
      },
      "source": [
        "def step():\n",
        "  aaa.i_start = aaa.i_start + aaa.n_steps\n",
        "  print"
      ],
      "execution_count": null,
      "outputs": []
    },
    {
      "cell_type": "code",
      "metadata": {
        "id": "HAePKWfNu2f6",
        "colab_type": "code",
        "colab": {
          "base_uri": "https://localhost:8080/",
          "height": 33
        },
        "outputId": "880c787e-746d-45a4-8cad-112154682b04"
      },
      "source": [
        "aaa.i_start.shape"
      ],
      "execution_count": null,
      "outputs": [
        {
          "output_type": "execute_result",
          "data": {
            "text/plain": [
              "(4, 84991)"
            ]
          },
          "metadata": {
            "tags": []
          },
          "execution_count": 114
        }
      ]
    },
    {
      "cell_type": "code",
      "metadata": {
        "id": "veY9ih7Au7Sr",
        "colab_type": "code",
        "colab": {
          "base_uri": "https://localhost:8080/",
          "height": 33
        },
        "outputId": "1198674b-a372-4606-c31d-f188cd3178a0"
      },
      "source": [
        "X.shape"
      ],
      "execution_count": null,
      "outputs": [
        {
          "output_type": "execute_result",
          "data": {
            "text/plain": [
              "(4, 84991)"
            ]
          },
          "metadata": {
            "tags": []
          },
          "execution_count": 115
        }
      ]
    },
    {
      "cell_type": "code",
      "metadata": {
        "id": "qhYrSnTIwVi5",
        "colab_type": "code",
        "colab": {
          "base_uri": "https://localhost:8080/",
          "height": 33
        },
        "outputId": "31b7d991-fe57-4d94-8bce-540a4e533372"
      },
      "source": [
        "y.shape"
      ],
      "execution_count": null,
      "outputs": [
        {
          "output_type": "execute_result",
          "data": {
            "text/plain": [
              "(4, 84991)"
            ]
          },
          "metadata": {
            "tags": []
          },
          "execution_count": 116
        }
      ]
    },
    {
      "cell_type": "code",
      "metadata": {
        "id": "pZ76_vh7w608",
        "colab_type": "code",
        "colab": {}
      },
      "source": [
        "#Divding them in to the windows \n",
        "\n",
        "#Feeding to NN\n",
        "\n",
        "#Plots"
      ],
      "execution_count": null,
      "outputs": []
    },
    {
      "cell_type": "code",
      "metadata": {
        "id": "wTwsZ1LK9g5T",
        "colab_type": "code",
        "colab": {}
      },
      "source": [
        "# Diving in two the Windows"
      ],
      "execution_count": null,
      "outputs": []
    },
    {
      "cell_type": "code",
      "metadata": {
        "id": "t2vzl04NCDMG",
        "colab_type": "code",
        "colab": {}
      },
      "source": [
        "n_features= 4"
      ],
      "execution_count": null,
      "outputs": []
    },
    {
      "cell_type": "code",
      "metadata": {
        "id": "nbgWZDBuCGne",
        "colab_type": "code",
        "colab": {
          "base_uri": "https://localhost:8080/",
          "height": 33
        },
        "outputId": "9ac5792d-4803-490e-baa3-49f9241fb334"
      },
      "source": [
        "n_steps"
      ],
      "execution_count": null,
      "outputs": [
        {
          "output_type": "execute_result",
          "data": {
            "text/plain": [
              "20"
            ]
          },
          "metadata": {
            "tags": []
          },
          "execution_count": 120
        }
      ]
    },
    {
      "cell_type": "code",
      "metadata": {
        "id": "ja30-iUkCYt6",
        "colab_type": "code",
        "colab": {}
      },
      "source": [
        ""
      ],
      "execution_count": null,
      "outputs": []
    },
    {
      "cell_type": "code",
      "metadata": {
        "id": "S8SnnvUlB6m8",
        "colab_type": "code",
        "colab": {}
      },
      "source": [
        "model = Sequential()\n",
        "model.add(Conv1D(filters=64, kernel_size=2, activation='relu', input_shape=(n_steps, n_features)))\n",
        "model.add(Conv1D(filters=64, kernel_size=2,padding='same', activation='relu'))\n",
        "model.add(Conv1D(filters=64, kernel_size=2,padding='same', activation='relu'))\n",
        "model.add(Conv1D(filters=64, kernel_size=2,padding='same', activation='relu'))\n",
        "model.add(Conv1D(filters=64, kernel_size=2,padding='same', activation='relu'))\n",
        "model.add(Conv1D(filters=64, kernel_size=2,padding='same', activation='relu'))\n",
        "model.add(Conv1D(filters=64, kernel_size=2,padding='same', activation='relu'))\n",
        "model.add(Conv1D(filters=64, kernel_size=2,padding='same', activation='relu'))\n",
        "model.add(Conv1D(filters=64, kernel_size=2,padding='same', activation='relu'))\n",
        "model.add(Conv1D(filters=64, kernel_size=2,padding='same', activation='relu'))\n",
        "model.add(Conv1D(filters=64, kernel_size=2,padding='same', activation='relu'))\n",
        "model.add(Conv1D(filters=64, kernel_size=2,padding='same', activation='relu'))\n",
        "model.add(MaxPooling1D(pool_size=2))\n",
        "model.add(Flatten())\n",
        "model.add(Dense(50, activation='relu'))\n",
        "model.add(Dense(1))\n",
        "model.compile(optimizer='adam', loss='mse', metrics=['accuracy'])"
      ],
      "execution_count": null,
      "outputs": []
    },
    {
      "cell_type": "code",
      "metadata": {
        "id": "Q-fA-UxECI4W",
        "colab_type": "code",
        "colab": {
          "base_uri": "https://localhost:8080/",
          "height": 33
        },
        "outputId": "c9c3ffc0-e89b-4ee5-c8c1-1251571de5e1"
      },
      "source": [
        "X.shape"
      ],
      "execution_count": null,
      "outputs": [
        {
          "output_type": "execute_result",
          "data": {
            "text/plain": [
              "(4, 84991)"
            ]
          },
          "metadata": {
            "tags": []
          },
          "execution_count": 122
        }
      ]
    },
    {
      "cell_type": "code",
      "metadata": {
        "id": "WBy_M3UBCSSV",
        "colab_type": "code",
        "colab": {}
      },
      "source": [
        "#This X, have a shape (4, 84991). I am trying to divide it into the sliding window. \n",
        "#I am attachig my code for the uni varient time series data, here I am reshaping. I am trying to do the same thing for the Multivarient thing\n",
        "t=df2['Time']\n",
        "T12data=df2['DVL3_S']\n",
        "X12=np.array(T12data)\n",
        "y12=df2['DVL3']\n",
        "y12=np.array(y12)\n",
        "import numpy as np\n",
        "def split_sequence(sequence, n_steps):\n",
        "\tX12, z12 = list(), list()\n",
        "\tfor i in range(len(sequence)):\n",
        "\t\t# find the end of this pattern\n",
        "\t\tend_ix = i + n_steps\n",
        "\t\t# check if we are beyond the sequence\n",
        "\t\tif end_ix > len(sequence)-1:\n",
        "\t\t\tbreak\n",
        "\t\t# gather input and output parts of the pattern\n",
        "\t\tseq_x, seq_z1 = sequence[i:end_ix], sequence[end_ix]\n",
        "\t\tX12.append(seq_x)\n",
        "\t\tz12.append(seq_z1)\n",
        "\treturn array(X12), array(z12)\n",
        "scaled_data12=X12\n",
        " # define input sequence\n",
        "raw_seq12 = X12\n",
        "# choose a number of time steps\n",
        "n_steps = 20\n",
        "# split into samples\n",
        "X12, z12 = split_sequence(raw_seq12, n_steps)\n",
        "\n",
        "# reshape from [samples, timesteps] into [samples, timesteps, features]\n",
        "n_features = 1\n",
        "X12 = X12.reshape((X12.shape[0], X12.shape[1], n_features))"
      ],
      "execution_count": null,
      "outputs": []
    },
    {
      "cell_type": "code",
      "metadata": {
        "id": "IwNzT_kFQZrn",
        "colab_type": "code",
        "colab": {
          "base_uri": "https://localhost:8080/",
          "height": 33
        },
        "outputId": "556d8d75-e12d-4055-9f39-fcf24c26b1a2"
      },
      "source": [
        "X12.shape"
      ],
      "execution_count": null,
      "outputs": [
        {
          "output_type": "execute_result",
          "data": {
            "text/plain": [
              "(84971, 20, 1)"
            ]
          },
          "metadata": {
            "tags": []
          },
          "execution_count": 124
        }
      ]
    },
    {
      "cell_type": "code",
      "metadata": {
        "id": "KjTjVCF_VYOT",
        "colab_type": "code",
        "colab": {}
      },
      "source": [
        "# Start here:"
      ],
      "execution_count": null,
      "outputs": []
    },
    {
      "cell_type": "code",
      "metadata": {
        "id": "qpSSQJAzVNhE",
        "colab_type": "code",
        "colab": {}
      },
      "source": [
        "n_steps = 20"
      ],
      "execution_count": null,
      "outputs": []
    },
    {
      "cell_type": "code",
      "metadata": {
        "id": "7p7HW-gOR6NA",
        "colab_type": "code",
        "colab": {}
      },
      "source": [
        "class Memory:\n",
        "  def __init__(self, num_steps, start_index):\n",
        "    self.num_steps = num_steps\n",
        "    self.start_index = start_index\n",
        "\n",
        "memory = Memory(n_steps, start_index=0)\n",
        "\n",
        "def split(memory, matrix):\n",
        "  start = memory.start_index\n",
        "  end = memory.start_index + memory.num_steps\n",
        "  return matrix[start:end]"
      ],
      "execution_count": null,
      "outputs": []
    },
    {
      "cell_type": "code",
      "metadata": {
        "id": "Jj3rmMaqUebj",
        "colab_type": "code",
        "colab": {
          "base_uri": "https://localhost:8080/",
          "height": 167
        },
        "outputId": "54d99fe9-dd66-4056-ae71-dc026bd6c0e9"
      },
      "source": [
        "X = df2.values[:, 1:5]\n",
        "print(df2.columns[1:5])\n",
        "print(X.shape)\n",
        "print(X)"
      ],
      "execution_count": null,
      "outputs": [
        {
          "output_type": "stream",
          "text": [
            "Index(['DVL1_S', 'DVL2_S', 'DVL3_S', 'DVL4_S'], dtype='object')\n",
            "(84991, 4)\n",
            "[[ 0.        0.        0.        0.      ]\n",
            " [20.       20.       20.       20.      ]\n",
            " [20.       20.       20.       20.      ]\n",
            " ...\n",
            " [ 2.692715  1.8       2.619866  2.615951]\n",
            " [ 2.69274   1.8       2.61945   2.61597 ]\n",
            " [ 2.692755  1.8       2.618994  2.615983]]\n"
          ],
          "name": "stdout"
        }
      ]
    },
    {
      "cell_type": "code",
      "metadata": {
        "id": "CETv-syYVC-H",
        "colab_type": "code",
        "colab": {
          "base_uri": "https://localhost:8080/",
          "height": 167
        },
        "outputId": "b9a2f442-d668-4011-dd89-028cf65f90a2"
      },
      "source": [
        "Y = df2.values[:, 5:9]\n",
        "print(df2.columns[5:9])\n",
        "print(Y.shape)\n",
        "print(Y)"
      ],
      "execution_count": null,
      "outputs": [
        {
          "output_type": "stream",
          "text": [
            "Index(['DVL1', 'DVL2', 'DVL3', 'DVL4'], dtype='object')\n",
            "(84991, 4)\n",
            "[[ 0.        0.        0.        0.      ]\n",
            " [20.       20.       20.       20.      ]\n",
            " [20.       20.       20.       20.      ]\n",
            " ...\n",
            " [ 2.692715  2.630637  2.619866  2.615951]\n",
            " [ 2.69274   2.631916  2.61945   2.61597 ]\n",
            " [ 2.692755  2.633157  2.618994  2.615983]]\n"
          ],
          "name": "stdout"
        }
      ]
    },
    {
      "cell_type": "code",
      "metadata": {
        "id": "ZgrKY9jNTZdk",
        "colab_type": "code",
        "colab": {
          "base_uri": "https://localhost:8080/",
          "height": 368
        },
        "outputId": "123205d5-2e47-4887-db51-aa6dbe89e0e7"
      },
      "source": [
        "xsplit = split(memory, matrix=X)\n",
        "print(xsplit[0])\n",
        "print(xsplit)"
      ],
      "execution_count": null,
      "outputs": [
        {
          "output_type": "stream",
          "text": [
            "[0. 0. 0. 0.]\n",
            "[[ 0.  0.  0.  0.]\n",
            " [20. 20. 20. 20.]\n",
            " [20. 20. 20. 20.]\n",
            " [20. 20. 20. 20.]\n",
            " [20. 20. 20. 20.]\n",
            " [20. 20. 20. 20.]\n",
            " [20. 20. 20. 20.]\n",
            " [20. 20. 20. 20.]\n",
            " [20. 20. 20. 20.]\n",
            " [20. 20. 20. 20.]\n",
            " [20. 20. 20. 20.]\n",
            " [20. 20. 20. 20.]\n",
            " [20. 20. 20. 20.]\n",
            " [20. 20. 20. 20.]\n",
            " [20. 20. 20. 20.]\n",
            " [20. 20. 20. 20.]\n",
            " [20. 20. 20. 20.]\n",
            " [20. 20. 20. 20.]\n",
            " [20. 20. 20. 20.]\n",
            " [20. 20. 20. 20.]]\n"
          ],
          "name": "stdout"
        }
      ]
    },
    {
      "cell_type": "code",
      "metadata": {
        "id": "O59AZMQ1cxB4",
        "colab_type": "code",
        "colab": {
          "base_uri": "https://localhost:8080/",
          "height": 33
        },
        "outputId": "b2f90a3a-99e6-4f1c-b125-52627dce9c59"
      },
      "source": [
        "xsplit.shape"
      ],
      "execution_count": null,
      "outputs": [
        {
          "output_type": "execute_result",
          "data": {
            "text/plain": [
              "(20, 4)"
            ]
          },
          "metadata": {
            "tags": []
          },
          "execution_count": 131
        }
      ]
    },
    {
      "cell_type": "code",
      "metadata": {
        "id": "_8O97fQ8VQ5r",
        "colab_type": "code",
        "colab": {
          "base_uri": "https://localhost:8080/",
          "height": 33
        },
        "outputId": "9600ef28-ecb5-48e9-cae6-12286e993250"
      },
      "source": [
        "X.shape"
      ],
      "execution_count": null,
      "outputs": [
        {
          "output_type": "execute_result",
          "data": {
            "text/plain": [
              "(84991, 4)"
            ]
          },
          "metadata": {
            "tags": []
          },
          "execution_count": 132
        }
      ]
    },
    {
      "cell_type": "code",
      "metadata": {
        "id": "pU5kVp_xV45-",
        "colab_type": "code",
        "colab": {}
      },
      "source": [
        "X = X.reshape((X.shape[0], X.shape[1], 1))"
      ],
      "execution_count": null,
      "outputs": []
    },
    {
      "cell_type": "code",
      "metadata": {
        "id": "0bv4IDUZWT5S",
        "colab_type": "code",
        "colab": {
          "base_uri": "https://localhost:8080/",
          "height": 33
        },
        "outputId": "5fd33595-95e1-4000-c4cd-a5436631855c"
      },
      "source": [
        "X.shape"
      ],
      "execution_count": null,
      "outputs": [
        {
          "output_type": "execute_result",
          "data": {
            "text/plain": [
              "(84991, 4, 1)"
            ]
          },
          "metadata": {
            "tags": []
          },
          "execution_count": 134
        }
      ]
    },
    {
      "cell_type": "code",
      "metadata": {
        "id": "5TOZsLIIWU7q",
        "colab_type": "code",
        "colab": {}
      },
      "source": [
        "#y = y.reshape((y.shape[0], y.shape[1], n_features))"
      ],
      "execution_count": null,
      "outputs": []
    },
    {
      "cell_type": "code",
      "metadata": {
        "id": "aa5eciO7WuGf",
        "colab_type": "code",
        "colab": {
          "base_uri": "https://localhost:8080/",
          "height": 33
        },
        "outputId": "9a99449d-d3a4-4616-dd43-9224e3a067fa"
      },
      "source": [
        "y.shape"
      ],
      "execution_count": null,
      "outputs": [
        {
          "output_type": "execute_result",
          "data": {
            "text/plain": [
              "(4, 84991)"
            ]
          },
          "metadata": {
            "tags": []
          },
          "execution_count": 136
        }
      ]
    },
    {
      "cell_type": "code",
      "metadata": {
        "id": "V2bsIar3Wvgc",
        "colab_type": "code",
        "colab": {}
      },
      "source": [
        "#Shape need to be ...  "
      ],
      "execution_count": null,
      "outputs": []
    },
    {
      "cell_type": "code",
      "metadata": {
        "id": "taUx9Ps7aZKc",
        "colab_type": "code",
        "colab": {}
      },
      "source": [
        ""
      ],
      "execution_count": null,
      "outputs": []
    },
    {
      "cell_type": "code",
      "metadata": {
        "id": "qoZwN12FZzd6",
        "colab_type": "code",
        "colab": {}
      },
      "source": [
        ""
      ],
      "execution_count": null,
      "outputs": []
    },
    {
      "cell_type": "code",
      "metadata": {
        "id": "4ldmLh7NcnvX",
        "colab_type": "code",
        "colab": {
          "base_uri": "https://localhost:8080/",
          "height": 33
        },
        "outputId": "f18c01a5-a83d-492b-f796-d05a9c3285fc"
      },
      "source": [
        "X_split.shape, y_split.shape, n_steps"
      ],
      "execution_count": null,
      "outputs": [
        {
          "output_type": "execute_result",
          "data": {
            "text/plain": [
              "((4, 20, 4249), (4, 20, 4249), 20)"
            ]
          },
          "metadata": {
            "tags": []
          },
          "execution_count": 230
        }
      ]
    },
    {
      "cell_type": "code",
      "metadata": {
        "id": "CUj-0mLUCq98",
        "colab_type": "code",
        "colab": {}
      },
      "source": [
        "X = X_split.transpose((2,1,0))\n",
        "y = y_split.transpose((2,1,0))"
      ],
      "execution_count": null,
      "outputs": []
    },
    {
      "cell_type": "code",
      "metadata": {
        "id": "16UyXsnjc10H",
        "colab_type": "code",
        "colab": {}
      },
      "source": [
        "n_features = 4\n",
        "model = Sequential()\n",
        "model.add(Conv1D(filters=64, kernel_size=2, activation='relu',padding='same', input_shape=(n_steps,n_features)))\n",
        "model.add(Conv1D(filters=64, kernel_size=2,padding='same', activation='relu'))\n",
        "model.add(Conv1D(filters=64, kernel_size=2,padding='same', activation='relu'))\n",
        "model.add(Conv1D(filters=64, kernel_size=2,padding='same', activation='relu'))\n",
        "model.add(Conv1D(filters=64, kernel_size=2,padding='same', activation='relu'))\n",
        "model.add(Conv1D(filters=64, kernel_size=2,padding='same', activation='relu'))\n",
        "model.add(Conv1D(filters=64, kernel_size=2,padding='same', activation='relu'))\n",
        "model.add(Conv1D(filters=64, kernel_size=2,padding='same', activation='relu'))\n",
        "model.add(Conv1D(filters=64, kernel_size=2,padding='same', activation='relu'))\n",
        "model.add(Conv1D(filters=64, kernel_size=2,padding='same', activation='relu'))\n",
        "model.add(Conv1D(filters=64, kernel_size=2,padding='same', activation='relu'))\n",
        "model.add(Conv1D(filters=64, kernel_size=2,padding='same', activation='relu'))\n",
        "model.add(Conv1D(n_features, kernel_size=2,padding='same',activation='linear'))  # ALSO REMEMBER you need the outputs as well!\n",
        "model.compile(optimizer='adam', loss='mse', metrics=['accuracy'])"
      ],
      "execution_count": null,
      "outputs": []
    },
    {
      "cell_type": "code",
      "metadata": {
        "id": "n7lm0eaXDnQW",
        "colab_type": "code",
        "colab": {
          "base_uri": "https://localhost:8080/",
          "height": 585
        },
        "outputId": "59640ee6-6922-4adf-ad8a-51f299a7f44a"
      },
      "source": [
        "model.summary()"
      ],
      "execution_count": null,
      "outputs": [
        {
          "output_type": "stream",
          "text": [
            "Model: \"sequential_10\"\n",
            "_________________________________________________________________\n",
            "Layer (type)                 Output Shape              Param #   \n",
            "=================================================================\n",
            "conv1d_111 (Conv1D)          (None, 20, 64)            576       \n",
            "_________________________________________________________________\n",
            "conv1d_112 (Conv1D)          (None, 20, 64)            8256      \n",
            "_________________________________________________________________\n",
            "conv1d_113 (Conv1D)          (None, 20, 64)            8256      \n",
            "_________________________________________________________________\n",
            "conv1d_114 (Conv1D)          (None, 20, 64)            8256      \n",
            "_________________________________________________________________\n",
            "conv1d_115 (Conv1D)          (None, 20, 64)            8256      \n",
            "_________________________________________________________________\n",
            "conv1d_116 (Conv1D)          (None, 20, 64)            8256      \n",
            "_________________________________________________________________\n",
            "conv1d_117 (Conv1D)          (None, 20, 64)            8256      \n",
            "_________________________________________________________________\n",
            "conv1d_118 (Conv1D)          (None, 20, 64)            8256      \n",
            "_________________________________________________________________\n",
            "conv1d_119 (Conv1D)          (None, 20, 64)            8256      \n",
            "_________________________________________________________________\n",
            "conv1d_120 (Conv1D)          (None, 20, 64)            8256      \n",
            "_________________________________________________________________\n",
            "conv1d_121 (Conv1D)          (None, 20, 64)            8256      \n",
            "_________________________________________________________________\n",
            "conv1d_122 (Conv1D)          (None, 20, 64)            8256      \n",
            "_________________________________________________________________\n",
            "conv1d_123 (Conv1D)          (None, 20, 4)             516       \n",
            "=================================================================\n",
            "Total params: 91,908\n",
            "Trainable params: 91,908\n",
            "Non-trainable params: 0\n",
            "_________________________________________________________________\n"
          ],
          "name": "stdout"
        }
      ]
    },
    {
      "cell_type": "code",
      "metadata": {
        "id": "raeLmEQFeHei",
        "colab_type": "code",
        "colab": {
          "base_uri": "https://localhost:8080/",
          "height": 351
        },
        "outputId": "9b4f814d-658c-4985-e99b-eaefb5b65941"
      },
      "source": [
        "history=model.fit(X, y, epochs=10, verbose=1)"
      ],
      "execution_count": null,
      "outputs": [
        {
          "output_type": "stream",
          "text": [
            "Epoch 1/10\n",
            "4249/4249 [==============================] - 3s 687us/step - loss: 0.9100 - accuracy: 0.2932\n",
            "Epoch 2/10\n",
            "4249/4249 [==============================] - 3s 619us/step - loss: 0.0294 - accuracy: 0.3759\n",
            "Epoch 3/10\n",
            "4249/4249 [==============================] - 3s 616us/step - loss: 0.0254 - accuracy: 0.3677\n",
            "Epoch 4/10\n",
            "4249/4249 [==============================] - 3s 632us/step - loss: 0.0240 - accuracy: 0.3722\n",
            "Epoch 5/10\n",
            "4249/4249 [==============================] - 3s 614us/step - loss: 0.0228 - accuracy: 0.3609\n",
            "Epoch 6/10\n",
            "4249/4249 [==============================] - 3s 627us/step - loss: 0.0218 - accuracy: 0.3557\n",
            "Epoch 7/10\n",
            "4249/4249 [==============================] - 3s 672us/step - loss: 0.0190 - accuracy: 0.3646\n",
            "Epoch 8/10\n",
            "4249/4249 [==============================] - 3s 681us/step - loss: 0.0135 - accuracy: 0.3643\n",
            "Epoch 9/10\n",
            "4249/4249 [==============================] - 3s 668us/step - loss: 0.0084 - accuracy: 0.3690\n",
            "Epoch 10/10\n",
            "4249/4249 [==============================] - 3s 655us/step - loss: 0.0078 - accuracy: 0.3762\n"
          ],
          "name": "stdout"
        }
      ]
    },
    {
      "cell_type": "code",
      "metadata": {
        "id": "JOV9WSzr01K_",
        "colab_type": "code",
        "colab": {}
      },
      "source": [
        "y_hat = model.predict(X)"
      ],
      "execution_count": null,
      "outputs": []
    },
    {
      "cell_type": "code",
      "metadata": {
        "id": "SrWcFfzcF_GB",
        "colab_type": "code",
        "colab": {
          "base_uri": "https://localhost:8080/",
          "height": 1000
        },
        "outputId": "37c944bc-1961-4c69-b129-cece036137ff"
      },
      "source": [
        "y_total = geek.reshape(y,(y.shape[0]*y.shape[1],y.shape[2]))\n",
        "X_total = geek.reshape(X,(X.shape[0]*X.shape[1],X.shape[2]))\n",
        "\n",
        "y_hat_total = geek.reshape(y_hat,(y_hat.shape[0]*y_hat.shape[1],y_hat.shape[2]))\n",
        "\n",
        "t = np.arange(len(y_total))\n",
        "fig, axs = plt.subplots(4,1,squeeze=True,figsize=(20,20))\n",
        "for i in range(4):\n",
        "  axs[i].plot(t,X_total[:,i],t,y_hat_total[:,i])"
      ],
      "execution_count": null,
      "outputs": [
        {
          "output_type": "display_data",
          "data": {
            "image/png": "[encoded data removed]",
            "text/plain": [
              "<Figure size 1440x1440 with 4 Axes>"
            ]
          },
          "metadata": {
            "tags": [],
            "needs_background": "light"
          }
        }
      ]
    },
    {
      "cell_type": "code",
      "metadata": {
        "id": "obyKx16aIsiD",
        "colab_type": "code",
        "colab": {}
      },
      "source": [
        ""
      ],
      "execution_count": null,
      "outputs": []
    }
  ]
}