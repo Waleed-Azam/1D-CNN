{
  "nbformat": 4,
  "nbformat_minor": 0,
  "metadata": {
    "colab": {
      "name": "Untitled3.ipynb",
      "provenance": [],
      "authorship_tag": "ABX9TyP02eozaKa/0y9Gz/79Z3HU",
      "include_colab_link": true
    },
    "kernelspec": {
      "name": "python3",
      "display_name": "Python 3"
    }
  },
  "cells": [
    {
      "cell_type": "markdown",
      "metadata": {
        "id": "view-in-github",
        "colab_type": "text"
      },
      "source": [
        "<a href=\"https://colab.research.google.com/github/Waleed-Azam/1D-CNN/blob/master/Scrambled%20Forecasting%20with%20the%20few%20fishes.ipynb\" target=\"_parent\"><img src=\"https://colab.research.google.com/assets/colab-badge.svg\" alt=\"Open In Colab\"/></a>"
      ]
    },
    {
      "cell_type": "code",
      "metadata": {
        "id": "3G00gh6Injwl",
        "colab_type": "code",
        "colab": {}
      },
      "source": [
        "!pip install -U -q PyDrive\n",
        "from pydrive.auth import GoogleAuth\n",
        "from pydrive.drive import GoogleDrive\n",
        "from google.colab import auth\n",
        "from oauth2client.client import GoogleCredentials\n",
        "import numpy as np \n",
        "import matplotlib.pyplot as plt\n"
      ],
      "execution_count": 0,
      "outputs": []
    },
    {
      "cell_type": "code",
      "metadata": {
        "id": "fuXEu3Ken1or",
        "colab_type": "code",
        "colab": {}
      },
      "source": [
        "auth.authenticate_user()\n",
        "gauth = GoogleAuth()\n",
        "gauth.credentials = GoogleCredentials.get_application_default()\n",
        "drive = GoogleDrive(gauth)"
      ],
      "execution_count": 0,
      "outputs": []
    },
    {
      "cell_type": "code",
      "metadata": {
        "id": "nw8Lf1HKn4hz",
        "colab_type": "code",
        "colab": {}
      },
      "source": [
        "downloaded = drive.CreateFile({'id':'1za85mE20uoy3TF_Sv2Jv4ANIzRb3ccVM'}) # replace the id with id of file you want to access'}) # replace the id with id of file you want to access"
      ],
      "execution_count": 0,
      "outputs": []
    },
    {
      "cell_type": "code",
      "metadata": {
        "id": "6D4ZiiH2n_tg",
        "colab_type": "code",
        "colab": {}
      },
      "source": [
        "downloaded.GetContentFile('Data_Speed_Variation_Final.csv')"
      ],
      "execution_count": 0,
      "outputs": []
    },
    {
      "cell_type": "code",
      "metadata": {
        "id": "fHGRf0sqoB7p",
        "colab_type": "code",
        "colab": {
          "base_uri": "https://localhost:8080/",
          "height": 404
        },
        "outputId": "dbac9bd7-fd87-4aa5-ed5a-144b2eb91695"
      },
      "source": [
        "import pandas as pd\n",
        "df2 = pd.read_csv('Data_Speed_Variation_Final.csv') \n",
        "df2"
      ],
      "execution_count": 5,
      "outputs": [
        {
          "output_type": "execute_result",
          "data": {
            "text/html": [
              "<div>\n",
              "<style scoped>\n",
              "    .dataframe tbody tr th:only-of-type {\n",
              "        vertical-align: middle;\n",
              "    }\n",
              "\n",
              "    .dataframe tbody tr th {\n",
              "        vertical-align: top;\n",
              "    }\n",
              "\n",
              "    .dataframe thead th {\n",
              "        text-align: right;\n",
              "    }\n",
              "</style>\n",
              "<table border=\"1\" class=\"dataframe\">\n",
              "  <thead>\n",
              "    <tr style=\"text-align: right;\">\n",
              "      <th></th>\n",
              "      <th>Time</th>\n",
              "      <th>DVL1</th>\n",
              "      <th>DVL2</th>\n",
              "      <th>DVL3</th>\n",
              "      <th>DVL4</th>\n",
              "    </tr>\n",
              "  </thead>\n",
              "  <tbody>\n",
              "    <tr>\n",
              "      <th>0</th>\n",
              "      <td>0.0</td>\n",
              "      <td>0.00</td>\n",
              "      <td>0.000000</td>\n",
              "      <td>0.00</td>\n",
              "      <td>0.00</td>\n",
              "    </tr>\n",
              "    <tr>\n",
              "      <th>1</th>\n",
              "      <td>0.0</td>\n",
              "      <td>20.00</td>\n",
              "      <td>20.000000</td>\n",
              "      <td>20.00</td>\n",
              "      <td>20.00</td>\n",
              "    </tr>\n",
              "    <tr>\n",
              "      <th>2</th>\n",
              "      <td>0.1</td>\n",
              "      <td>20.00</td>\n",
              "      <td>20.000000</td>\n",
              "      <td>20.00</td>\n",
              "      <td>20.00</td>\n",
              "    </tr>\n",
              "    <tr>\n",
              "      <th>3</th>\n",
              "      <td>0.2</td>\n",
              "      <td>20.00</td>\n",
              "      <td>20.000000</td>\n",
              "      <td>20.00</td>\n",
              "      <td>20.00</td>\n",
              "    </tr>\n",
              "    <tr>\n",
              "      <th>4</th>\n",
              "      <td>0.3</td>\n",
              "      <td>20.00</td>\n",
              "      <td>20.000000</td>\n",
              "      <td>20.00</td>\n",
              "      <td>20.00</td>\n",
              "    </tr>\n",
              "    <tr>\n",
              "      <th>...</th>\n",
              "      <td>...</td>\n",
              "      <td>...</td>\n",
              "      <td>...</td>\n",
              "      <td>...</td>\n",
              "      <td>...</td>\n",
              "    </tr>\n",
              "    <tr>\n",
              "      <th>49996</th>\n",
              "      <td>5000.0</td>\n",
              "      <td>2.37</td>\n",
              "      <td>2.360000</td>\n",
              "      <td>2.47</td>\n",
              "      <td>2.51</td>\n",
              "    </tr>\n",
              "    <tr>\n",
              "      <th>49997</th>\n",
              "      <td>5000.0</td>\n",
              "      <td>2.37</td>\n",
              "      <td>2.360000</td>\n",
              "      <td>2.47</td>\n",
              "      <td>2.51</td>\n",
              "    </tr>\n",
              "    <tr>\n",
              "      <th>49998</th>\n",
              "      <td>5000.0</td>\n",
              "      <td>2.37</td>\n",
              "      <td>2.360000</td>\n",
              "      <td>2.47</td>\n",
              "      <td>2.51</td>\n",
              "    </tr>\n",
              "    <tr>\n",
              "      <th>49999</th>\n",
              "      <td>4999.8</td>\n",
              "      <td>2.37</td>\n",
              "      <td>2.359027</td>\n",
              "      <td>2.47</td>\n",
              "      <td>2.51</td>\n",
              "    </tr>\n",
              "    <tr>\n",
              "      <th>50000</th>\n",
              "      <td>4999.9</td>\n",
              "      <td>2.37</td>\n",
              "      <td>2.358876</td>\n",
              "      <td>2.48</td>\n",
              "      <td>2.51</td>\n",
              "    </tr>\n",
              "  </tbody>\n",
              "</table>\n",
              "<p>50001 rows × 5 columns</p>\n",
              "</div>"
            ],
            "text/plain": [
              "         Time   DVL1       DVL2   DVL3   DVL4\n",
              "0         0.0   0.00   0.000000   0.00   0.00\n",
              "1         0.0  20.00  20.000000  20.00  20.00\n",
              "2         0.1  20.00  20.000000  20.00  20.00\n",
              "3         0.2  20.00  20.000000  20.00  20.00\n",
              "4         0.3  20.00  20.000000  20.00  20.00\n",
              "...       ...    ...        ...    ...    ...\n",
              "49996  5000.0   2.37   2.360000   2.47   2.51\n",
              "49997  5000.0   2.37   2.360000   2.47   2.51\n",
              "49998  5000.0   2.37   2.360000   2.47   2.51\n",
              "49999  4999.8   2.37   2.359027   2.47   2.51\n",
              "50000  4999.9   2.37   2.358876   2.48   2.51\n",
              "\n",
              "[50001 rows x 5 columns]"
            ]
          },
          "metadata": {
            "tags": []
          },
          "execution_count": 5
        }
      ]
    },
    {
      "cell_type": "code",
      "metadata": {
        "id": "esgmhYafoDdn",
        "colab_type": "code",
        "colab": {}
      },
      "source": [
        "df2[\"Time\"] = df2[\"Time\"].fillna(0)"
      ],
      "execution_count": 0,
      "outputs": []
    },
    {
      "cell_type": "code",
      "metadata": {
        "id": "k2EtZEqEoGE9",
        "colab_type": "code",
        "colab": {
          "base_uri": "https://localhost:8080/",
          "height": 404
        },
        "outputId": "ffc564ca-543e-4a2e-e755-84220b638599"
      },
      "source": [
        "df2"
      ],
      "execution_count": 7,
      "outputs": [
        {
          "output_type": "execute_result",
          "data": {
            "text/html": [
              "<div>\n",
              "<style scoped>\n",
              "    .dataframe tbody tr th:only-of-type {\n",
              "        vertical-align: middle;\n",
              "    }\n",
              "\n",
              "    .dataframe tbody tr th {\n",
              "        vertical-align: top;\n",
              "    }\n",
              "\n",
              "    .dataframe thead th {\n",
              "        text-align: right;\n",
              "    }\n",
              "</style>\n",
              "<table border=\"1\" class=\"dataframe\">\n",
              "  <thead>\n",
              "    <tr style=\"text-align: right;\">\n",
              "      <th></th>\n",
              "      <th>Time</th>\n",
              "      <th>DVL1</th>\n",
              "      <th>DVL2</th>\n",
              "      <th>DVL3</th>\n",
              "      <th>DVL4</th>\n",
              "    </tr>\n",
              "  </thead>\n",
              "  <tbody>\n",
              "    <tr>\n",
              "      <th>0</th>\n",
              "      <td>0.0</td>\n",
              "      <td>0.00</td>\n",
              "      <td>0.000000</td>\n",
              "      <td>0.00</td>\n",
              "      <td>0.00</td>\n",
              "    </tr>\n",
              "    <tr>\n",
              "      <th>1</th>\n",
              "      <td>0.0</td>\n",
              "      <td>20.00</td>\n",
              "      <td>20.000000</td>\n",
              "      <td>20.00</td>\n",
              "      <td>20.00</td>\n",
              "    </tr>\n",
              "    <tr>\n",
              "      <th>2</th>\n",
              "      <td>0.1</td>\n",
              "      <td>20.00</td>\n",
              "      <td>20.000000</td>\n",
              "      <td>20.00</td>\n",
              "      <td>20.00</td>\n",
              "    </tr>\n",
              "    <tr>\n",
              "      <th>3</th>\n",
              "      <td>0.2</td>\n",
              "      <td>20.00</td>\n",
              "      <td>20.000000</td>\n",
              "      <td>20.00</td>\n",
              "      <td>20.00</td>\n",
              "    </tr>\n",
              "    <tr>\n",
              "      <th>4</th>\n",
              "      <td>0.3</td>\n",
              "      <td>20.00</td>\n",
              "      <td>20.000000</td>\n",
              "      <td>20.00</td>\n",
              "      <td>20.00</td>\n",
              "    </tr>\n",
              "    <tr>\n",
              "      <th>...</th>\n",
              "      <td>...</td>\n",
              "      <td>...</td>\n",
              "      <td>...</td>\n",
              "      <td>...</td>\n",
              "      <td>...</td>\n",
              "    </tr>\n",
              "    <tr>\n",
              "      <th>49996</th>\n",
              "      <td>5000.0</td>\n",
              "      <td>2.37</td>\n",
              "      <td>2.360000</td>\n",
              "      <td>2.47</td>\n",
              "      <td>2.51</td>\n",
              "    </tr>\n",
              "    <tr>\n",
              "      <th>49997</th>\n",
              "      <td>5000.0</td>\n",
              "      <td>2.37</td>\n",
              "      <td>2.360000</td>\n",
              "      <td>2.47</td>\n",
              "      <td>2.51</td>\n",
              "    </tr>\n",
              "    <tr>\n",
              "      <th>49998</th>\n",
              "      <td>5000.0</td>\n",
              "      <td>2.37</td>\n",
              "      <td>2.360000</td>\n",
              "      <td>2.47</td>\n",
              "      <td>2.51</td>\n",
              "    </tr>\n",
              "    <tr>\n",
              "      <th>49999</th>\n",
              "      <td>4999.8</td>\n",
              "      <td>2.37</td>\n",
              "      <td>2.359027</td>\n",
              "      <td>2.47</td>\n",
              "      <td>2.51</td>\n",
              "    </tr>\n",
              "    <tr>\n",
              "      <th>50000</th>\n",
              "      <td>4999.9</td>\n",
              "      <td>2.37</td>\n",
              "      <td>2.358876</td>\n",
              "      <td>2.48</td>\n",
              "      <td>2.51</td>\n",
              "    </tr>\n",
              "  </tbody>\n",
              "</table>\n",
              "<p>50001 rows × 5 columns</p>\n",
              "</div>"
            ],
            "text/plain": [
              "         Time   DVL1       DVL2   DVL3   DVL4\n",
              "0         0.0   0.00   0.000000   0.00   0.00\n",
              "1         0.0  20.00  20.000000  20.00  20.00\n",
              "2         0.1  20.00  20.000000  20.00  20.00\n",
              "3         0.2  20.00  20.000000  20.00  20.00\n",
              "4         0.3  20.00  20.000000  20.00  20.00\n",
              "...       ...    ...        ...    ...    ...\n",
              "49996  5000.0   2.37   2.360000   2.47   2.51\n",
              "49997  5000.0   2.37   2.360000   2.47   2.51\n",
              "49998  5000.0   2.37   2.360000   2.47   2.51\n",
              "49999  4999.8   2.37   2.359027   2.47   2.51\n",
              "50000  4999.9   2.37   2.358876   2.48   2.51\n",
              "\n",
              "[50001 rows x 5 columns]"
            ]
          },
          "metadata": {
            "tags": []
          },
          "execution_count": 7
        }
      ]
    },
    {
      "cell_type": "code",
      "metadata": {
        "id": "KDAcXJ8YoHyE",
        "colab_type": "code",
        "colab": {}
      },
      "source": [
        "y=df2[\"DVL1\"] = df2[\"DVL1\"].fillna(0)"
      ],
      "execution_count": 0,
      "outputs": []
    },
    {
      "cell_type": "code",
      "metadata": {
        "id": "8d-qKMDSoJzo",
        "colab_type": "code",
        "colab": {}
      },
      "source": [
        "y=y.values"
      ],
      "execution_count": 0,
      "outputs": []
    },
    {
      "cell_type": "code",
      "metadata": {
        "id": "pdHuCbnjoLU0",
        "colab_type": "code",
        "colab": {
          "base_uri": "https://localhost:8080/",
          "height": 33
        },
        "outputId": "8aa415a9-45f5-42a3-cc94-4df2fa652e77"
      },
      "source": [
        "y"
      ],
      "execution_count": 10,
      "outputs": [
        {
          "output_type": "execute_result",
          "data": {
            "text/plain": [
              "array([ 0.  , 20.  , 20.  , ...,  2.37,  2.37,  2.37])"
            ]
          },
          "metadata": {
            "tags": []
          },
          "execution_count": 10
        }
      ]
    },
    {
      "cell_type": "code",
      "metadata": {
        "id": "SgK5fJUOoNFe",
        "colab_type": "code",
        "colab": {}
      },
      "source": [
        "downloaded = drive.CreateFile({'id':'1D8NbAc_lUZCaYJshrm5y1lFHOxqV_Au5'}) # replace the id with id of file you want to access'}) # replace the id with id of file you want to access\n",
        "#https://drive.google.com/file/d/1NiHiOzShPCDOKPnfNjrzjEcpvWoA8MwS/view?usp=sharing\n",
        "#https://drive.google.com/file/d/1NiHiOzShPCDOKPnfNjrzjEcpvWoA8MwS/view?usp=sharing\n",
        "#https://drive.google.com/file/d/1D8NbAc_lUZCaYJshrm5y1lFHOxqV_Au5/view?usp=sharing"
      ],
      "execution_count": 0,
      "outputs": []
    },
    {
      "cell_type": "code",
      "metadata": {
        "id": "RRyQ9anpoQDa",
        "colab_type": "code",
        "colab": {}
      },
      "source": [
        "downloaded.GetContentFile('Training_Data_FEW_FISHES.csv')"
      ],
      "execution_count": 0,
      "outputs": []
    },
    {
      "cell_type": "code",
      "metadata": {
        "id": "J9mSCebPoR8n",
        "colab_type": "code",
        "colab": {
          "base_uri": "https://localhost:8080/",
          "height": 404
        },
        "outputId": "5b8f09c8-6aa1-433f-b80c-a9c88cc0b4e1"
      },
      "source": [
        "import pandas as pd\n",
        "df1 = pd.read_csv('Training_Data_FEW_FISHES.csv') \n",
        "df1"
      ],
      "execution_count": 13,
      "outputs": [
        {
          "output_type": "execute_result",
          "data": {
            "text/html": [
              "<div>\n",
              "<style scoped>\n",
              "    .dataframe tbody tr th:only-of-type {\n",
              "        vertical-align: middle;\n",
              "    }\n",
              "\n",
              "    .dataframe tbody tr th {\n",
              "        vertical-align: top;\n",
              "    }\n",
              "\n",
              "    .dataframe thead th {\n",
              "        text-align: right;\n",
              "    }\n",
              "</style>\n",
              "<table border=\"1\" class=\"dataframe\">\n",
              "  <thead>\n",
              "    <tr style=\"text-align: right;\">\n",
              "      <th></th>\n",
              "      <th>Time</th>\n",
              "      <th>DVL1</th>\n",
              "      <th>DVL2</th>\n",
              "      <th>DVL3</th>\n",
              "      <th>DVL4</th>\n",
              "    </tr>\n",
              "  </thead>\n",
              "  <tbody>\n",
              "    <tr>\n",
              "      <th>0</th>\n",
              "      <td>NaN</td>\n",
              "      <td>NaN</td>\n",
              "      <td>NaN</td>\n",
              "      <td>NaN</td>\n",
              "      <td>NaN</td>\n",
              "    </tr>\n",
              "    <tr>\n",
              "      <th>1</th>\n",
              "      <td>0.0</td>\n",
              "      <td>20.000000</td>\n",
              "      <td>20.000000</td>\n",
              "      <td>20.000000</td>\n",
              "      <td>20.000000</td>\n",
              "    </tr>\n",
              "    <tr>\n",
              "      <th>2</th>\n",
              "      <td>0.1</td>\n",
              "      <td>20.000000</td>\n",
              "      <td>20.000000</td>\n",
              "      <td>20.000000</td>\n",
              "      <td>20.000000</td>\n",
              "    </tr>\n",
              "    <tr>\n",
              "      <th>3</th>\n",
              "      <td>0.2</td>\n",
              "      <td>20.000000</td>\n",
              "      <td>20.000000</td>\n",
              "      <td>20.000000</td>\n",
              "      <td>20.000000</td>\n",
              "    </tr>\n",
              "    <tr>\n",
              "      <th>4</th>\n",
              "      <td>0.3</td>\n",
              "      <td>20.000000</td>\n",
              "      <td>20.000000</td>\n",
              "      <td>20.000000</td>\n",
              "      <td>20.000000</td>\n",
              "    </tr>\n",
              "    <tr>\n",
              "      <th>...</th>\n",
              "      <td>...</td>\n",
              "      <td>...</td>\n",
              "      <td>...</td>\n",
              "      <td>...</td>\n",
              "      <td>...</td>\n",
              "    </tr>\n",
              "    <tr>\n",
              "      <th>49996</th>\n",
              "      <td>4999.5</td>\n",
              "      <td>2.564325</td>\n",
              "      <td>2.547429</td>\n",
              "      <td>2.685580</td>\n",
              "      <td>2.715926</td>\n",
              "    </tr>\n",
              "    <tr>\n",
              "      <th>49997</th>\n",
              "      <td>4999.6</td>\n",
              "      <td>2.564293</td>\n",
              "      <td>2.547059</td>\n",
              "      <td>2.685737</td>\n",
              "      <td>2.715903</td>\n",
              "    </tr>\n",
              "    <tr>\n",
              "      <th>49998</th>\n",
              "      <td>4999.7</td>\n",
              "      <td>2.564267</td>\n",
              "      <td>2.546647</td>\n",
              "      <td>2.685912</td>\n",
              "      <td>2.715890</td>\n",
              "    </tr>\n",
              "    <tr>\n",
              "      <th>49999</th>\n",
              "      <td>4999.8</td>\n",
              "      <td>2.564253</td>\n",
              "      <td>2.546235</td>\n",
              "      <td>2.686088</td>\n",
              "      <td>2.715891</td>\n",
              "    </tr>\n",
              "    <tr>\n",
              "      <th>50000</th>\n",
              "      <td>4999.9</td>\n",
              "      <td>2.564248</td>\n",
              "      <td>2.545783</td>\n",
              "      <td>2.686284</td>\n",
              "      <td>2.715904</td>\n",
              "    </tr>\n",
              "  </tbody>\n",
              "</table>\n",
              "<p>50001 rows × 5 columns</p>\n",
              "</div>"
            ],
            "text/plain": [
              "         Time       DVL1       DVL2       DVL3       DVL4\n",
              "0         NaN        NaN        NaN        NaN        NaN\n",
              "1         0.0  20.000000  20.000000  20.000000  20.000000\n",
              "2         0.1  20.000000  20.000000  20.000000  20.000000\n",
              "3         0.2  20.000000  20.000000  20.000000  20.000000\n",
              "4         0.3  20.000000  20.000000  20.000000  20.000000\n",
              "...       ...        ...        ...        ...        ...\n",
              "49996  4999.5   2.564325   2.547429   2.685580   2.715926\n",
              "49997  4999.6   2.564293   2.547059   2.685737   2.715903\n",
              "49998  4999.7   2.564267   2.546647   2.685912   2.715890\n",
              "49999  4999.8   2.564253   2.546235   2.686088   2.715891\n",
              "50000  4999.9   2.564248   2.545783   2.686284   2.715904\n",
              "\n",
              "[50001 rows x 5 columns]"
            ]
          },
          "metadata": {
            "tags": []
          },
          "execution_count": 13
        }
      ]
    },
    {
      "cell_type": "code",
      "metadata": {
        "id": "YiyrLwh2oVEH",
        "colab_type": "code",
        "colab": {
          "base_uri": "https://localhost:8080/",
          "height": 295
        },
        "outputId": "5c6855ee-7831-4b50-adb0-265c757fae22"
      },
      "source": [
        "ax = plt.gca()\n",
        "\n",
        "df1.plot(kind='scatter',x='Time',y='DVL1',ax=ax)\n",
        "#df.plot(kind='scatter',x='Time',y='DVL2', color='red', ax=ax)\n",
        "#df.plot(kind='scatter',x='Time',y='DVL3', color='green', ax=ax)\n",
        "#df.plot(kind='line',x='Time',y='DVL4', color='yellow', ax=ax)\n",
        "plt.title('Scrambled Data')\n",
        "plt.show()  #Ground Truth, Labels"
      ],
      "execution_count": 18,
      "outputs": [
        {
          "output_type": "display_data",
          "data": {
            "image/png": "[encoded data removed]",
            "text/plain": [
              "<Figure size 432x288 with 1 Axes>"
            ]
          },
          "metadata": {
            "tags": [],
            "needs_background": "light"
          }
        }
      ]
    },
    {
      "cell_type": "code",
      "metadata": {
        "id": "WeFfZVXgoXvR",
        "colab_type": "code",
        "colab": {
          "base_uri": "https://localhost:8080/",
          "height": 295
        },
        "outputId": "d0bc755a-8cd4-4cd4-b27b-80d374ae44eb"
      },
      "source": [
        "ax = plt.gca()\n",
        "\n",
        "df2.plot(kind='scatter',x='Time',y='DVL1',ax=ax)\n",
        "#df.plot(kind='scatter',x='Time',y='DVL2', color='red', ax=ax)\n",
        "#df.plot(kind='scatter',x='Time',y='DVL3', color='green', ax=ax)\n",
        "#df.plot(kind='line',x='Time',y='DVL4', color='yellow', ax=ax)\n",
        "plt.title('Ground Truth/Labels')\n",
        "plt.show()  #Ground Truth, Labels"
      ],
      "execution_count": 17,
      "outputs": [
        {
          "output_type": "display_data",
          "data": {
            "image/png": "[encoded data removed]",
            "text/plain": [
              "<Figure size 432x288 with 1 Axes>"
            ]
          },
          "metadata": {
            "tags": [],
            "needs_background": "light"
          }
        }
      ]
    },
    {
      "cell_type": "code",
      "metadata": {
        "id": "dyYcp5ckpkpq",
        "colab_type": "code",
        "colab": {}
      },
      "source": [
        "df1[\"DVL1\"] = df1[\"DVL1\"].fillna(0)"
      ],
      "execution_count": 0,
      "outputs": []
    },
    {
      "cell_type": "code",
      "metadata": {
        "id": "7Ku1QumQpwXr",
        "colab_type": "code",
        "colab": {}
      },
      "source": [
        "data_to_use=df1['DVL1'].values"
      ],
      "execution_count": 0,
      "outputs": []
    },
    {
      "cell_type": "code",
      "metadata": {
        "id": "IRRMP611pyNl",
        "colab_type": "code",
        "colab": {}
      },
      "source": [
        "scaled_dataset=data_to_use"
      ],
      "execution_count": 0,
      "outputs": []
    },
    {
      "cell_type": "code",
      "metadata": {
        "id": "MwJltFhDpzkc",
        "colab_type": "code",
        "colab": {}
      },
      "source": [
        "X= scaled_dataset"
      ],
      "execution_count": 0,
      "outputs": []
    },
    {
      "cell_type": "code",
      "metadata": {
        "id": "UCs7FcVYqRgF",
        "colab_type": "code",
        "colab": {
          "base_uri": "https://localhost:8080/",
          "height": 33
        },
        "outputId": "0d915bce-9b1e-47e5-98d8-b653cd603736"
      },
      "source": [
        "y"
      ],
      "execution_count": 24,
      "outputs": [
        {
          "output_type": "execute_result",
          "data": {
            "text/plain": [
              "array([ 0.  , 20.  , 20.  , ...,  2.37,  2.37,  2.37])"
            ]
          },
          "metadata": {
            "tags": []
          },
          "execution_count": 24
        }
      ]
    },
    {
      "cell_type": "code",
      "metadata": {
        "id": "sJODfQEjqVwi",
        "colab_type": "code",
        "colab": {
          "base_uri": "https://localhost:8080/",
          "height": 50
        },
        "outputId": "51403828-8c08-4cd4-bb72-3df037a097c3"
      },
      "source": [
        "X"
      ],
      "execution_count": 25,
      "outputs": [
        {
          "output_type": "execute_result",
          "data": {
            "text/plain": [
              "array([ 0.      , 20.      , 20.      , ...,  2.564267,  2.564253,\n",
              "        2.564248])"
            ]
          },
          "metadata": {
            "tags": []
          },
          "execution_count": 25
        }
      ]
    },
    {
      "cell_type": "code",
      "metadata": {
        "id": "fQkvkJHPqWq-",
        "colab_type": "code",
        "colab": {}
      },
      "source": [
        "def window_data(data, window_size):\n",
        "    X = []\n",
        "    y = []\n",
        "    \n",
        "    i = 0\n",
        "    while (i + window_size) <= len(data) - 1:\n",
        "        X.append(data[i:i+window_size])\n",
        "        y.append(data[i+window_size])\n",
        "        \n",
        "        i += 1\n",
        "    assert len(X) ==  len(y)\n",
        "    return X, y\n",
        "\n",
        "\n",
        "X, y = window_data(scaled_dataset, 10)"
      ],
      "execution_count": 0,
      "outputs": []
    },
    {
      "cell_type": "code",
      "metadata": {
        "id": "vTLfnUcVqYZP",
        "colab_type": "code",
        "colab": {}
      },
      "source": [
        "X_train  = np.array(X[:45000])\n",
        "y_train = np.array(y[:45000])\n",
        "\n",
        "X_test = np.array(X[45000:])\n",
        "y_test = np.array(y[45000:])"
      ],
      "execution_count": 0,
      "outputs": []
    },
    {
      "cell_type": "code",
      "metadata": {
        "id": "ShOeMZySqaf8",
        "colab_type": "code",
        "colab": {
          "base_uri": "https://localhost:8080/",
          "height": 84
        },
        "outputId": "159186d9-2fca-42be-96e0-6601ff7defc8"
      },
      "source": [
        "print(\"X_train size: {}\".format(X_train.shape))\n",
        "print(\"y_train size: {}\".format(y_train.shape))\n",
        "print(\"X_test size: {}\".format(X_test.shape))\n",
        "print(\"y_test size: {}\".format(y_test.shape))"
      ],
      "execution_count": 28,
      "outputs": [
        {
          "output_type": "stream",
          "text": [
            "X_train size: (45000, 10)\n",
            "y_train size: (45000,)\n",
            "X_test size: (4991, 10)\n",
            "y_test size: (4991,)\n"
          ],
          "name": "stdout"
        }
      ]
    },
    {
      "cell_type": "code",
      "metadata": {
        "id": "xmYFBBxjqcT_",
        "colab_type": "code",
        "colab": {}
      },
      "source": [
        "dates = df1['Time']\n",
        "train_date = dates[:45000]\n",
        "test_date = dates[-4991:]"
      ],
      "execution_count": 0,
      "outputs": []
    },
    {
      "cell_type": "code",
      "metadata": {
        "id": "RkxBfbB8qeIR",
        "colab_type": "code",
        "colab": {}
      },
      "source": [
        "n_steps = 10"
      ],
      "execution_count": 0,
      "outputs": []
    },
    {
      "cell_type": "code",
      "metadata": {
        "id": "FjaRckmxqf-Y",
        "colab_type": "code",
        "colab": {
          "base_uri": "https://localhost:8080/",
          "height": 33
        },
        "outputId": "0bca34bf-3c0c-4402-85ab-77155a784e94"
      },
      "source": [
        "# univariate cnn example\n",
        "from numpy import array\n",
        "from keras.models import Sequential\n",
        "from keras.layers import Dense\n",
        "from keras.layers import Flatten\n",
        "from keras.layers.convolutional import Conv1D\n",
        "from keras.layers.convolutional import MaxPooling1D\n",
        "\n",
        "import matplotlib.pyplot as plt\n",
        "from sklearn.preprocessing import StandardScaler\n",
        "%matplotlib inline"
      ],
      "execution_count": 31,
      "outputs": [
        {
          "output_type": "stream",
          "text": [
            "Using TensorFlow backend.\n"
          ],
          "name": "stderr"
        }
      ]
    },
    {
      "cell_type": "code",
      "metadata": {
        "id": "j-vZEXcFqh22",
        "colab_type": "code",
        "colab": {}
      },
      "source": [
        "X = X_train\n",
        "y = y_train\n",
        "\n",
        "n_features = 1\n",
        "X = X.reshape((X.shape[0], X.shape[1], n_features))\n",
        "# define model\n",
        "model = Sequential()\n",
        "model.add(Conv1D(filters=32, kernel_size=2, activation='relu', input_shape=(n_steps, n_features)))\n",
        "model.add(MaxPooling1D(pool_size=2))\n",
        "model.add(Flatten())\n",
        "model.add(Dense(50, activation='relu'))\n",
        "model.add(Dense(1))\n",
        "model.compile(optimizer='adam', loss='mse',metrics=['accuracy'])\n",
        "# fit model\n",
        "history=model.fit(X, y, epochs=10, verbose=0)"
      ],
      "execution_count": 0,
      "outputs": []
    },
    {
      "cell_type": "code",
      "metadata": {
        "id": "9NES374Bqj4i",
        "colab_type": "code",
        "colab": {
          "base_uri": "https://localhost:8080/",
          "height": 590
        },
        "outputId": "fc6e3086-1aef-41ba-f241-3decc0f3e09a"
      },
      "source": [
        "# demonstrate prediction\n",
        "import math\n",
        "y_pred=[]\n",
        "for i in X_test:\n",
        "    \n",
        "    x_input = i\n",
        "    x_input = x_input.reshape((1, n_steps, n_features))\n",
        "    yhat = model.predict(x_input, verbose=0)\n",
        "    y_pred.append(float(yhat[0]))\n",
        "\n",
        "# import numpy as np\n",
        "# yp = list(np.around(np.array(y_pred),1))\n",
        "# yt = list(np.around((y_test),1))\n",
        "    \n",
        "# y_pred = [ '%.1f' % elem for elem in y_pred ]\n",
        "# y_test = [ '%.1f' % elem for elem in y_pred ]\n",
        "    \n",
        "#print(y_pred)\n",
        "#print(y_test)\n",
        "\n",
        "plt.figure(figsize = (18,9))\n",
        "\n",
        "plt.plot(dates,scaled_dataset,label=\"Training\")\n",
        "plt.plot(test_date,y_pred,label=\"Forecasting\")\n",
        "#plt.plot(test_date,y_test,label=\"actual \")\n",
        "\n",
        "plt.xticks(rotation=90)\n",
        "plt.xlabel('Time Steps',fontsize=18)\n",
        "plt.legend()\n",
        "plt.title(\"Forecasting using CNN\")\n",
        "plt.show()"
      ],
      "execution_count": 33,
      "outputs": [
        {
          "output_type": "display_data",
          "data": {
            "image/png": "[encoded data removed]",
            "text/plain": [
              "<Figure size 1296x648 with 1 Axes>"
            ]
          },
          "metadata": {
            "tags": [],
            "needs_background": "light"
          }
        }
      ]
    },
    {
      "cell_type": "code",
      "metadata": {
        "id": "U0SSx_u_qneE",
        "colab_type": "code",
        "colab": {
          "base_uri": "https://localhost:8080/",
          "height": 295
        },
        "outputId": "1be4049c-bdf8-4d63-e444-74cadec4fd2a"
      },
      "source": [
        "plt.plot(history.history['loss'])\n",
        "#plt.plot(history.history['val_loss'])\n",
        "plt.title('model loss')\n",
        "plt.ylabel('Mean Square Error')\n",
        "plt.xlabel('epoch')\n",
        "plt.legend(['train', 'test'], loc='upper left')\n",
        "plt.show()"
      ],
      "execution_count": 34,
      "outputs": [
        {
          "output_type": "display_data",
          "data": {
            "image/png": "[encoded data removed]",
            "text/plain": [
              "<Figure size 432x288 with 1 Axes>"
            ]
          },
          "metadata": {
            "tags": [],
            "needs_background": "light"
          }
        }
      ]
    },
    {
      "cell_type": "code",
      "metadata": {
        "id": "YFzOzqVwquUs",
        "colab_type": "code",
        "colab": {}
      },
      "source": [
        ""
      ],
      "execution_count": 0,
      "outputs": []
    }
  ]
}