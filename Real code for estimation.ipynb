{
  "nbformat": 4,
  "nbformat_minor": 0,
  "metadata": {
    "colab": {
      "name": "Untitled6.ipynb",
      "provenance": [],
      "authorship_tag": "ABX9TyOZbm6wbYmz35JPCEwrzrQR",
      "include_colab_link": true
    },
    "kernelspec": {
      "name": "python3",
      "display_name": "Python 3"
    },
    "accelerator": "GPU"
  },
  "cells": [
    {
      "cell_type": "markdown",
      "metadata": {
        "id": "view-in-github",
        "colab_type": "text"
      },
      "source": [
        "<a href=\"https://colab.research.google.com/github/Waleed-Azam/1D-CNN/blob/master/Real%20code%20for%20estimation.ipynb\" target=\"_parent\"><img src=\"https://colab.research.google.com/assets/colab-badge.svg\" alt=\"Open In Colab\"/></a>"
      ]
    },
    {
      "cell_type": "code",
      "metadata": {
        "id": "EgvhnM0jZK_K",
        "colab_type": "code",
        "colab": {
          "base_uri": "https://localhost:8080/",
          "height": 33
        },
        "outputId": "2a171ab6-478c-4e0c-df2e-4364c3d8a1c0"
      },
      "source": [
        "# Need to define a window? Done....\n",
        "# need to make a sliding window which can predit ? Done...\n",
        "#It can do that, okay now need to think how I can add labels to perform conparision and estimate a distance.0,00\n",
        ","
      ],
      "execution_count": 114,
      "outputs": [
        {
          "output_type": "execute_result",
          "data": {
            "text/plain": [
              "''"
            ]
          },
          "metadata": {
            "tags": []
          },
          "execution_count": 114
        }
      ]
    },
    {
      "cell_type": "code",
      "metadata": {
        "id": "_6etISomgw19",
        "colab_type": "code",
        "colab": {}
      },
      "source": [
        "#How to estimate the data using the labels and the values at that moment to make it very real to the nearest value."
      ],
      "execution_count": 0,
      "outputs": []
    },
    {
      "cell_type": "code",
      "metadata": {
        "id": "ntcJGMMC5MCa",
        "colab_type": "code",
        "colab": {}
      },
      "source": [
        "#data preprocessing\n",
        "import pandas as pd\n",
        "#math operations\n",
        "import numpy as np\n",
        "#data visualization\n",
        "import matplotlib.pyplot as plt\n",
        "#host-os operations\n",
        "import os\n",
        "from os import listdir, makedirs, path\n",
        "from os.path import isfile, join, basename, splitext, isfile, exists\n",
        "from pathlib import Path\n",
        "#import keras.utils as utils\n",
        "from tqdm import tqdm_notebook\n",
        "from keras.preprocessing import sequence\n",
        "from keras.models import Sequential\n",
        "from keras.layers import Dense, Dropout, Activation, Conv1D, MaxPooling1D, Embedding, GlobalAveragePooling1D\n",
        "from keras.optimizers import adam\n",
        "from keras.callbacks import Callback, EarlyStopping, ModelCheckpoint, ReduceLROnPlateau\n",
        "from keras.utils import plot_model\n",
        "from keras import optimizers\n",
        "# Graphic output\n",
        "from IPython.display import SVG\n",
        "from keras.utils.vis_utils import model_to_dot"
      ],
      "execution_count": 0,
      "outputs": []
    },
    {
      "cell_type": "code",
      "metadata": {
        "id": "XzgwcByX5Mpb",
        "colab_type": "code",
        "colab": {}
      },
      "source": [
        "# Ploting the data head and the tail and try to estimate with the labels"
      ],
      "execution_count": 0,
      "outputs": []
    },
    {
      "cell_type": "code",
      "metadata": {
        "id": "wUP68Dpf5Zfd",
        "colab_type": "code",
        "colab": {}
      },
      "source": [
        "!pip install -U -q PyDrive\n",
        "from pydrive.auth import GoogleAuth\n",
        "from pydrive.drive import GoogleDrive\n",
        "from google.colab import auth\n",
        "from oauth2client.client import GoogleCredentials\n",
        "import numpy as np \n",
        "import matplotlib.pyplot as plt"
      ],
      "execution_count": 0,
      "outputs": []
    },
    {
      "cell_type": "code",
      "metadata": {
        "id": "QnUQGwXE5m68",
        "colab_type": "code",
        "colab": {}
      },
      "source": [
        "auth.authenticate_user()\n",
        "gauth = GoogleAuth()\n",
        "gauth.credentials = GoogleCredentials.get_application_default()\n",
        "drive = GoogleDrive(gauth)"
      ],
      "execution_count": 0,
      "outputs": []
    },
    {
      "cell_type": "code",
      "metadata": {
        "id": "h96KLZbh5pqg",
        "colab_type": "code",
        "colab": {}
      },
      "source": [
        "downloaded = drive.CreateFile({'id':'1agv3WTJF7GiaUwWJGDpDQfZwX_nApM-J'}) # replace the id with id of file you want to access'}) # replace the id with id of file you want to access\n",
        "#https://drive.google.com/file/d/1agv3WTJF7GiaUwWJGDpDQfZwX_nApM-J/view?usp=sharing"
      ],
      "execution_count": 0,
      "outputs": []
    },
    {
      "cell_type": "code",
      "metadata": {
        "id": "VIPnXK2q6OMN",
        "colab_type": "code",
        "colab": {}
      },
      "source": [
        "downloaded.GetContentFile('Dataa_True.csv')"
      ],
      "execution_count": 0,
      "outputs": []
    },
    {
      "cell_type": "code",
      "metadata": {
        "id": "QK9mXSB96QxU",
        "colab_type": "code",
        "colab": {}
      },
      "source": [
        "\n",
        "import pandas as pd\n",
        "df2 = pd.read_csv('Dataa_True.csv') \n",
        "df2"
      ],
      "execution_count": 0,
      "outputs": []
    },
    {
      "cell_type": "code",
      "metadata": {
        "id": "AiW1pIs26Z93",
        "colab_type": "code",
        "colab": {}
      },
      "source": [
        "df2"
      ],
      "execution_count": 0,
      "outputs": []
    },
    {
      "cell_type": "code",
      "metadata": {
        "id": "VcZD5cZ06ayH",
        "colab_type": "code",
        "colab": {}
      },
      "source": [
        "df2[\"TRUE\"] = df2[\"TRUE\"].fillna(0)"
      ],
      "execution_count": 0,
      "outputs": []
    },
    {
      "cell_type": "code",
      "metadata": {
        "id": "B7VpJHcC6qM6",
        "colab_type": "code",
        "colab": {}
      },
      "source": [
        "df2[\"Srac\"] = df2[\"Srac\"].fillna(0)"
      ],
      "execution_count": 0,
      "outputs": []
    },
    {
      "cell_type": "code",
      "metadata": {
        "id": "I0ctCwjY6uJD",
        "colab_type": "code",
        "colab": {}
      },
      "source": [
        "df2"
      ],
      "execution_count": 0,
      "outputs": []
    },
    {
      "cell_type": "code",
      "metadata": {
        "id": "xoz2ew8R6xJS",
        "colab_type": "code",
        "colab": {}
      },
      "source": [
        "X=df2['TRUE']"
      ],
      "execution_count": 0,
      "outputs": []
    },
    {
      "cell_type": "code",
      "metadata": {
        "id": "BxiIe0Ks6z67",
        "colab_type": "code",
        "colab": {
          "base_uri": "https://localhost:8080/",
          "height": 217
        },
        "outputId": "83e309b4-4f4b-4a3b-dbbe-84b08cb3fd24"
      },
      "source": [
        "X"
      ],
      "execution_count": 173,
      "outputs": [
        {
          "output_type": "execute_result",
          "data": {
            "text/plain": [
              "0         0.000000\n",
              "1        20.000000\n",
              "2        20.000000\n",
              "3        20.000000\n",
              "4        20.000000\n",
              "           ...    \n",
              "49996     2.367222\n",
              "49997     2.366861\n",
              "49998     2.366521\n",
              "49999     2.366202\n",
              "50000     2.365877\n",
              "Name: TRUE, Length: 50001, dtype: float64"
            ]
          },
          "metadata": {
            "tags": []
          },
          "execution_count": 173
        }
      ]
    },
    {
      "cell_type": "code",
      "metadata": {
        "id": "oXq3bjjL67O2",
        "colab_type": "code",
        "colab": {}
      },
      "source": [
        "#Reshaping X\n",
        "X=X.values"
      ],
      "execution_count": 0,
      "outputs": []
    },
    {
      "cell_type": "code",
      "metadata": {
        "id": "cLtzB4fS7LfD",
        "colab_type": "code",
        "colab": {
          "base_uri": "https://localhost:8080/",
          "height": 50
        },
        "outputId": "f0e429dc-77ab-4991-cbcf-11b04168faa7"
      },
      "source": [
        "X"
      ],
      "execution_count": 175,
      "outputs": [
        {
          "output_type": "execute_result",
          "data": {
            "text/plain": [
              "array([ 0.      , 20.      , 20.      , ...,  2.366521,  2.366202,\n",
              "        2.365877])"
            ]
          },
          "metadata": {
            "tags": []
          },
          "execution_count": 175
        }
      ]
    },
    {
      "cell_type": "code",
      "metadata": {
        "id": "jvMmmRDd61YY",
        "colab_type": "code",
        "colab": {}
      },
      "source": [
        "y=df2['Srac']"
      ],
      "execution_count": 0,
      "outputs": []
    },
    {
      "cell_type": "code",
      "metadata": {
        "id": "kcygR-R9656Y",
        "colab_type": "code",
        "colab": {
          "base_uri": "https://localhost:8080/",
          "height": 217
        },
        "outputId": "120f2a66-767f-4e83-c01e-01919247a63e"
      },
      "source": [
        "y"
      ],
      "execution_count": 177,
      "outputs": [
        {
          "output_type": "execute_result",
          "data": {
            "text/plain": [
              "0        20.000000\n",
              "1        20.000000\n",
              "2        20.000000\n",
              "3        20.000000\n",
              "4        20.000000\n",
              "           ...    \n",
              "49996     2.564293\n",
              "49997     2.564267\n",
              "49998     2.564253\n",
              "49999     2.564248\n",
              "50000     0.000000\n",
              "Name: Srac, Length: 50001, dtype: float64"
            ]
          },
          "metadata": {
            "tags": []
          },
          "execution_count": 177
        }
      ]
    },
    {
      "cell_type": "code",
      "metadata": {
        "id": "5ne4seoh66Xg",
        "colab_type": "code",
        "colab": {}
      },
      "source": [
        "#Reshaping y\n",
        "y=y.values"
      ],
      "execution_count": 0,
      "outputs": []
    },
    {
      "cell_type": "code",
      "metadata": {
        "id": "zvNWBEjg6_sN",
        "colab_type": "code",
        "colab": {
          "base_uri": "https://localhost:8080/",
          "height": 50
        },
        "outputId": "7551aa4e-46a1-45f5-d92a-e19a4d6ad763"
      },
      "source": [
        "y"
      ],
      "execution_count": 179,
      "outputs": [
        {
          "output_type": "execute_result",
          "data": {
            "text/plain": [
              "array([20.      , 20.      , 20.      , ...,  2.564253,  2.564248,\n",
              "        0.      ])"
            ]
          },
          "metadata": {
            "tags": []
          },
          "execution_count": 179
        }
      ]
    },
    {
      "cell_type": "code",
      "metadata": {
        "id": "-CxTR--p7O95",
        "colab_type": "code",
        "colab": {
          "base_uri": "https://localhost:8080/",
          "height": 295
        },
        "outputId": "601c7dea-5be8-4ad1-8368-c8999a73f606"
      },
      "source": [
        "ax = plt.gca()\n",
        "\n",
        "df2.plot(kind='scatter',x='Time',y='TRUE',ax=ax)\n",
        "#df.plot(kind='scatter',x='Time',y='DVL2', color='red', ax=ax)\n",
        "#df.plot(kind='scatter',x='Time',y='DVL3', color='green', ax=ax)\n",
        "#df.plot(kind='line',x='Time',y='DVL4', color='yellow', ax=ax)\n",
        "plt.title('True Data')\n",
        "plt.show()  #Ground Truth, Labels"
      ],
      "execution_count": 180,
      "outputs": [
        {
          "output_type": "display_data",
          "data": {
            "image/png": "[encoded data removed]",
            "text/plain": [
              "<Figure size 432x288 with 1 Axes>"
            ]
          },
          "metadata": {
            "tags": [],
            "needs_background": "light"
          }
        }
      ]
    },
    {
      "cell_type": "code",
      "metadata": {
        "id": "FSRQq9oR7dui",
        "colab_type": "code",
        "colab": {
          "base_uri": "https://localhost:8080/",
          "height": 295
        },
        "outputId": "26effbaa-929f-4642-b14a-2046450db87a"
      },
      "source": [
        "ax = plt.gca()\n",
        "\n",
        "df2.plot(kind='scatter',x='Time',y='Srac',ax=ax)\n",
        "#df.plot(kind='scatter',x='Time',y='DVL2', color='red', ax=ax)\n",
        "#df.plot(kind='scatter',x='Time',y='DVL3', color='green', ax=ax)\n",
        "#df.plot(kind='line',x='Time',y='DVL4', color='yellow', ax=ax)\n",
        "plt.title('Scrambled Data')\n",
        "plt.show()  #Ground Truth, Labels"
      ],
      "execution_count": 181,
      "outputs": [
        {
          "output_type": "display_data",
          "data": {
            "image/png": "[encoded data removed]",
            "text/plain": [
              "<Figure size 432x288 with 1 Axes>"
            ]
          },
          "metadata": {
            "tags": [],
            "needs_background": "light"
          }
        }
      ]
    },
    {
      "cell_type": "code",
      "metadata": {
        "id": "n9btEaiU7n2I",
        "colab_type": "code",
        "colab": {
          "base_uri": "https://localhost:8080/",
          "height": 295
        },
        "outputId": "3e18246c-a6d2-4174-d8e4-702209809297"
      },
      "source": [
        "ax = plt.gca()\n",
        "\n",
        "df2.plot(kind='scatter',x='Time',y='TRUE',ax=ax)\n",
        "df2.plot(kind='scatter',x='Time',y='Srac', color='red', ax=ax)\n",
        "#df.plot(kind='scatter',x='Time',y='DVL3', color='green', ax=ax)\n",
        "#df.plot(kind='line',x='Time',y='DVL4', color='yellow', ax=ax)\n",
        "plt.title('Scrambled and true Data')\n",
        "plt.legend\n",
        "plt.show()  #Ground Truth, Labels"
      ],
      "execution_count": 182,
      "outputs": [
        {
          "output_type": "display_data",
          "data": {
            "image/png": "[encoded data removed]",
            "text/plain": [
              "<Figure size 432x288 with 1 Axes>"
            ]
          },
          "metadata": {
            "tags": [],
            "needs_background": "light"
          }
        }
      ]
    },
    {
      "cell_type": "code",
      "metadata": {
        "id": "61JrJi_d9BZS",
        "colab_type": "code",
        "colab": {
          "base_uri": "https://localhost:8080/",
          "height": 50
        },
        "outputId": "aef95a98-7ba5-43df-b0f2-8d3fdef406c3"
      },
      "source": [
        "\n",
        "X"
      ],
      "execution_count": 183,
      "outputs": [
        {
          "output_type": "execute_result",
          "data": {
            "text/plain": [
              "array([ 0.      , 20.      , 20.      , ...,  2.366521,  2.366202,\n",
              "        2.365877])"
            ]
          },
          "metadata": {
            "tags": []
          },
          "execution_count": 183
        }
      ]
    },
    {
      "cell_type": "code",
      "metadata": {
        "id": "s3wG1iHr9lYe",
        "colab_type": "code",
        "colab": {}
      },
      "source": [
        "X"
      ],
      "execution_count": 0,
      "outputs": []
    },
    {
      "cell_type": "code",
      "metadata": {
        "id": "Z24lDjjhPupb",
        "colab_type": "code",
        "colab": {
          "base_uri": "https://localhost:8080/",
          "height": 33
        },
        "outputId": "b9bfeabe-1620-4333-a770-763d943052a1"
      },
      "source": [
        "X.shape"
      ],
      "execution_count": 184,
      "outputs": [
        {
          "output_type": "execute_result",
          "data": {
            "text/plain": [
              "(50001,)"
            ]
          },
          "metadata": {
            "tags": []
          },
          "execution_count": 184
        }
      ]
    },
    {
      "cell_type": "code",
      "metadata": {
        "id": "366hvu-A-BIQ",
        "colab_type": "code",
        "colab": {}
      },
      "source": [
        "y1=y"
      ],
      "execution_count": 0,
      "outputs": []
    },
    {
      "cell_type": "code",
      "metadata": {
        "id": "qMy9Ms6NP5V8",
        "colab_type": "code",
        "colab": {
          "base_uri": "https://localhost:8080/",
          "height": 50
        },
        "outputId": "3b27ff20-7b9d-4644-f1f8-c60e4dc3aaa9"
      },
      "source": [
        "y1"
      ],
      "execution_count": 187,
      "outputs": [
        {
          "output_type": "execute_result",
          "data": {
            "text/plain": [
              "array([20.      , 20.      , 20.      , ...,  2.564253,  2.564248,\n",
              "        0.      ])"
            ]
          },
          "metadata": {
            "tags": []
          },
          "execution_count": 187
        }
      ]
    },
    {
      "cell_type": "code",
      "metadata": {
        "id": "3mN7riDtP6ut",
        "colab_type": "code",
        "colab": {
          "base_uri": "https://localhost:8080/",
          "height": 33
        },
        "outputId": "ca16d404-cb8c-4c56-8918-34c31f14cd07"
      },
      "source": [
        "y1.shape"
      ],
      "execution_count": 188,
      "outputs": [
        {
          "output_type": "execute_result",
          "data": {
            "text/plain": [
              "(50001,)"
            ]
          },
          "metadata": {
            "tags": []
          },
          "execution_count": 188
        }
      ]
    },
    {
      "cell_type": "code",
      "metadata": {
        "id": "u3YGDLYT-Vxu",
        "colab_type": "code",
        "colab": {}
      },
      "source": [
        "#Here I have X and y, now using the fact that I have value of the both X and y, I need to estimate that value each time with the label value and need to estiamte\n",
        "#this value in the proper way. :)"
      ],
      "execution_count": 0,
      "outputs": []
    },
    {
      "cell_type": "code",
      "metadata": {
        "id": "3CEefdDt-mIK",
        "colab_type": "code",
        "colab": {}
      },
      "source": [
        "#Creating labels before feeding them in to the neural networks "
      ],
      "execution_count": 0,
      "outputs": []
    },
    {
      "cell_type": "code",
      "metadata": {
        "id": "rIM0tDUuCFhC",
        "colab_type": "code",
        "colab": {}
      },
      "source": [
        "X_train  = np.array(X[:45000])\n",
        "y_train = np.array(y[:45000])\n",
        "\n",
        "X_test = np.array(X[45000:])\n",
        "y_test = np.array(y[45000:])"
      ],
      "execution_count": 0,
      "outputs": []
    },
    {
      "cell_type": "code",
      "metadata": {
        "id": "21lzJ8hvCKyF",
        "colab_type": "code",
        "colab": {
          "base_uri": "https://localhost:8080/",
          "height": 33
        },
        "outputId": "c0c5867d-eb9c-48ee-a3a0-fa487241e7d5"
      },
      "source": [
        "X_test"
      ],
      "execution_count": 192,
      "outputs": [
        {
          "output_type": "execute_result",
          "data": {
            "text/plain": [
              "array([2.437157, 2.437004, 2.436871, ..., 2.366521, 2.366202, 2.365877])"
            ]
          },
          "metadata": {
            "tags": []
          },
          "execution_count": 192
        }
      ]
    },
    {
      "cell_type": "code",
      "metadata": {
        "id": "uhmw6wgtCMW4",
        "colab_type": "code",
        "colab": {
          "base_uri": "https://localhost:8080/",
          "height": 50
        },
        "outputId": "e54e4fd0-457d-42a3-ad26-ab071cbd9f54"
      },
      "source": [
        "X_train"
      ],
      "execution_count": 193,
      "outputs": [
        {
          "output_type": "execute_result",
          "data": {
            "text/plain": [
              "array([ 0.      , 20.      , 20.      , ...,  2.437603,  2.437435,\n",
              "        2.437286])"
            ]
          },
          "metadata": {
            "tags": []
          },
          "execution_count": 193
        }
      ]
    },
    {
      "cell_type": "code",
      "metadata": {
        "id": "ZoTXXh7BCOI5",
        "colab_type": "code",
        "colab": {
          "base_uri": "https://localhost:8080/",
          "height": 33
        },
        "outputId": "6c02d03d-e637-43bc-8887-7a340a0d4b06"
      },
      "source": [
        "len(X_train)"
      ],
      "execution_count": 194,
      "outputs": [
        {
          "output_type": "execute_result",
          "data": {
            "text/plain": [
              "45000"
            ]
          },
          "metadata": {
            "tags": []
          },
          "execution_count": 194
        }
      ]
    },
    {
      "cell_type": "code",
      "metadata": {
        "id": "evGGYAYmCTGs",
        "colab_type": "code",
        "colab": {
          "base_uri": "https://localhost:8080/",
          "height": 33
        },
        "outputId": "736e8aae-3851-4e85-b0e4-ee6211cc03c4"
      },
      "source": [
        "len(X_test)"
      ],
      "execution_count": 195,
      "outputs": [
        {
          "output_type": "execute_result",
          "data": {
            "text/plain": [
              "5001"
            ]
          },
          "metadata": {
            "tags": []
          },
          "execution_count": 195
        }
      ]
    },
    {
      "cell_type": "code",
      "metadata": {
        "id": "q4ko01UUCVWo",
        "colab_type": "code",
        "colab": {
          "base_uri": "https://localhost:8080/",
          "height": 33
        },
        "outputId": "463b8c75-8afe-4510-a42a-a7442cb1bd2d"
      },
      "source": [
        "len(y_train)"
      ],
      "execution_count": 196,
      "outputs": [
        {
          "output_type": "execute_result",
          "data": {
            "text/plain": [
              "45000"
            ]
          },
          "metadata": {
            "tags": []
          },
          "execution_count": 196
        }
      ]
    },
    {
      "cell_type": "code",
      "metadata": {
        "id": "ZHU1uOVBCYff",
        "colab_type": "code",
        "colab": {
          "base_uri": "https://localhost:8080/",
          "height": 33
        },
        "outputId": "503f1e1f-51c8-47a2-eb89-e12528e6b439"
      },
      "source": [
        "len(y_test)"
      ],
      "execution_count": 197,
      "outputs": [
        {
          "output_type": "execute_result",
          "data": {
            "text/plain": [
              "5001"
            ]
          },
          "metadata": {
            "tags": []
          },
          "execution_count": 197
        }
      ]
    },
    {
      "cell_type": "code",
      "metadata": {
        "id": "Mr_ErhZHEQy6",
        "colab_type": "code",
        "colab": {
          "base_uri": "https://localhost:8080/",
          "height": 33
        },
        "outputId": "448e23d2-c76b-4d63-8eee-890463132cec"
      },
      "source": [
        "X_train.shape"
      ],
      "execution_count": 198,
      "outputs": [
        {
          "output_type": "execute_result",
          "data": {
            "text/plain": [
              "(45000,)"
            ]
          },
          "metadata": {
            "tags": []
          },
          "execution_count": 198
        }
      ]
    },
    {
      "cell_type": "code",
      "metadata": {
        "id": "wc6I7nm8MUpY",
        "colab_type": "code",
        "colab": {
          "base_uri": "https://localhost:8080/",
          "height": 33
        },
        "outputId": "160b0797-eff0-4546-edbc-5d9004ee2271"
      },
      "source": [
        "X_test.shape"
      ],
      "execution_count": 199,
      "outputs": [
        {
          "output_type": "execute_result",
          "data": {
            "text/plain": [
              "(5001,)"
            ]
          },
          "metadata": {
            "tags": []
          },
          "execution_count": 199
        }
      ]
    },
    {
      "cell_type": "code",
      "metadata": {
        "id": "cdVIvXmDMY0B",
        "colab_type": "code",
        "colab": {
          "base_uri": "https://localhost:8080/",
          "height": 33
        },
        "outputId": "695368d6-1c1e-453d-adad-50fe2f36a791"
      },
      "source": [
        "y_train.shape"
      ],
      "execution_count": 200,
      "outputs": [
        {
          "output_type": "execute_result",
          "data": {
            "text/plain": [
              "(45000,)"
            ]
          },
          "metadata": {
            "tags": []
          },
          "execution_count": 200
        }
      ]
    },
    {
      "cell_type": "code",
      "metadata": {
        "id": "4f4TPFo3McUG",
        "colab_type": "code",
        "colab": {
          "base_uri": "https://localhost:8080/",
          "height": 33
        },
        "outputId": "bd7f554a-4c05-44b6-e5ab-500c2764d6da"
      },
      "source": [
        "\n",
        "y_test.shape"
      ],
      "execution_count": 201,
      "outputs": [
        {
          "output_type": "execute_result",
          "data": {
            "text/plain": [
              "(5001,)"
            ]
          },
          "metadata": {
            "tags": []
          },
          "execution_count": 201
        }
      ]
    },
    {
      "cell_type": "code",
      "metadata": {
        "id": "vh0P8yQZOiRt",
        "colab_type": "code",
        "colab": {
          "base_uri": "https://localhost:8080/",
          "height": 33
        },
        "outputId": "5b424502-7385-4b10-a2e5-529431171b44"
      },
      "source": [
        "n_steps"
      ],
      "execution_count": 202,
      "outputs": [
        {
          "output_type": "execute_result",
          "data": {
            "text/plain": [
              "3"
            ]
          },
          "metadata": {
            "tags": []
          },
          "execution_count": 202
        }
      ]
    },
    {
      "cell_type": "code",
      "metadata": {
        "id": "RRjLNOvSQHPs",
        "colab_type": "code",
        "colab": {
          "base_uri": "https://localhost:8080/",
          "height": 50
        },
        "outputId": "375cb88f-6da4-4ff6-873d-8024ccc22170"
      },
      "source": [
        "X_train"
      ],
      "execution_count": 203,
      "outputs": [
        {
          "output_type": "execute_result",
          "data": {
            "text/plain": [
              "array([ 0.      , 20.      , 20.      , ...,  2.437603,  2.437435,\n",
              "        2.437286])"
            ]
          },
          "metadata": {
            "tags": []
          },
          "execution_count": 203
        }
      ]
    },
    {
      "cell_type": "code",
      "metadata": {
        "id": "lTwsCgpQQJ_J",
        "colab_type": "code",
        "colab": {
          "base_uri": "https://localhost:8080/",
          "height": 33
        },
        "outputId": "16b32c96-3db1-40a4-e344-debe1b44a3a7"
      },
      "source": [
        "X_train.shape"
      ],
      "execution_count": 204,
      "outputs": [
        {
          "output_type": "execute_result",
          "data": {
            "text/plain": [
              "(45000,)"
            ]
          },
          "metadata": {
            "tags": []
          },
          "execution_count": 204
        }
      ]
    },
    {
      "cell_type": "code",
      "metadata": {
        "id": "zQX1Zjd9QNP8",
        "colab_type": "code",
        "colab": {
          "base_uri": "https://localhost:8080/",
          "height": 33
        },
        "outputId": "54b25e30-39bc-4e27-fc7b-5842f8255f05"
      },
      "source": [
        "y_train.shape"
      ],
      "execution_count": 205,
      "outputs": [
        {
          "output_type": "execute_result",
          "data": {
            "text/plain": [
              "(45000,)"
            ]
          },
          "metadata": {
            "tags": []
          },
          "execution_count": 205
        }
      ]
    },
    {
      "cell_type": "code",
      "metadata": {
        "id": "x32KQOsFOmrR",
        "colab_type": "code",
        "colab": {
          "base_uri": "https://localhost:8080/",
          "height": 50
        },
        "outputId": "9b28d054-249f-426b-9599-a32fe0ecc9c3"
      },
      "source": [
        "y1"
      ],
      "execution_count": 206,
      "outputs": [
        {
          "output_type": "execute_result",
          "data": {
            "text/plain": [
              "array([20.      , 20.      , 20.      , ...,  2.564253,  2.564248,\n",
              "        0.      ])"
            ]
          },
          "metadata": {
            "tags": []
          },
          "execution_count": 206
        }
      ]
    },
    {
      "cell_type": "code",
      "metadata": {
        "id": "y7HbXb3QQYkL",
        "colab_type": "code",
        "colab": {
          "base_uri": "https://localhost:8080/",
          "height": 33
        },
        "outputId": "fe8f1789-faa1-44e0-ea3d-d9c96ca58326"
      },
      "source": [
        "y1.shape"
      ],
      "execution_count": 207,
      "outputs": [
        {
          "output_type": "execute_result",
          "data": {
            "text/plain": [
              "(50001,)"
            ]
          },
          "metadata": {
            "tags": []
          },
          "execution_count": 207
        }
      ]
    },
    {
      "cell_type": "code",
      "metadata": {
        "id": "kRb7w5WdOOL2",
        "colab_type": "code",
        "colab": {}
      },
      "source": [
        "# split a univariate sequence into samples\n",
        "def split_sequence(sequence, n_steps):\n",
        "\tX, y = list(), list()\n",
        "\tfor i in range(len(sequence)):\n",
        "\t\t# find the end of this pattern\n",
        "\t\tend_ix = i + n_steps\n",
        "\t\t# check if we are beyond the sequence\n",
        "\t\tif end_ix > len(sequence)-1:\n",
        "\t\t\tbreak\n",
        "\t\t# gather input and output parts of the pattern\n",
        "\t\tseq_x, seq_y = sequence[i:end_ix], sequence[end_ix]\n",
        "\t\tX.append(seq_x)\n",
        "\t\ty.append(seq_y)\n",
        "\treturn array(X), array(y)"
      ],
      "execution_count": 0,
      "outputs": []
    },
    {
      "cell_type": "code",
      "metadata": {
        "id": "9CI4uek2O0V2",
        "colab_type": "code",
        "colab": {}
      },
      "source": [
        "# define input sequence\n",
        "raw_seq = X_train\n",
        "# choose a number of time steps\n",
        "n_steps = 3\n",
        "# split into samples\n",
        "X, y = split_sequence(raw_seq, n_steps)\n",
        "# summarize the data\n",
        "for i in range(len(X)):\n",
        "\tprint(X[i], y[i])"
      ],
      "execution_count": 0,
      "outputs": []
    },
    {
      "cell_type": "code",
      "metadata": {
        "id": "wYSB6AbDPJFl",
        "colab_type": "code",
        "colab": {
          "base_uri": "https://localhost:8080/",
          "height": 50
        },
        "outputId": "fcba231d-8893-403b-b5bb-d9a9faa76158"
      },
      "source": [
        "y"
      ],
      "execution_count": 210,
      "outputs": [
        {
          "output_type": "execute_result",
          "data": {
            "text/plain": [
              "array([20.      , 20.      , 20.      , ...,  2.437603,  2.437435,\n",
              "        2.437286])"
            ]
          },
          "metadata": {
            "tags": []
          },
          "execution_count": 210
        }
      ]
    },
    {
      "cell_type": "code",
      "metadata": {
        "id": "NxcjsLsOQnds",
        "colab_type": "code",
        "colab": {
          "base_uri": "https://localhost:8080/",
          "height": 33
        },
        "outputId": "768c78b6-d9f6-4290-feba-7a55c99844c7"
      },
      "source": [
        "y.shape"
      ],
      "execution_count": 211,
      "outputs": [
        {
          "output_type": "execute_result",
          "data": {
            "text/plain": [
              "(44997,)"
            ]
          },
          "metadata": {
            "tags": []
          },
          "execution_count": 211
        }
      ]
    },
    {
      "cell_type": "code",
      "metadata": {
        "id": "nhCagMYLQsAd",
        "colab_type": "code",
        "colab": {
          "base_uri": "https://localhost:8080/",
          "height": 33
        },
        "outputId": "658890eb-8e39-4443-fa52-8c919d5317bb"
      },
      "source": [
        "y_train.shape"
      ],
      "execution_count": 212,
      "outputs": [
        {
          "output_type": "execute_result",
          "data": {
            "text/plain": [
              "(45000,)"
            ]
          },
          "metadata": {
            "tags": []
          },
          "execution_count": 212
        }
      ]
    },
    {
      "cell_type": "code",
      "metadata": {
        "id": "Un8VaLDsQ1N-",
        "colab_type": "code",
        "colab": {
          "base_uri": "https://localhost:8080/",
          "height": 128
        },
        "outputId": "16baa854-9095-45c5-eca4-ae7ac3e3625d"
      },
      "source": [
        "for i in range (X_train):\n",
        "  for j in range (y_train):\n",
        "    for k in range (y):\n",
        "      if (y_train[j]-y[k]>0):\n",
        "        y[k]=y_train[j]\n",
        "        else:\n",
        "        y[k]=y_train[j]\n",
        "print(y_train, X_train)\n"
      ],
      "execution_count": 218,
      "outputs": [
        {
          "output_type": "error",
          "ename": "SyntaxError",
          "evalue": "ignored",
          "traceback": [
            "\u001b[0;36m  File \u001b[0;32m\"<ipython-input-218-301694b65b41>\"\u001b[0;36m, line \u001b[0;32m6\u001b[0m\n\u001b[0;31m    else:\u001b[0m\n\u001b[0m       ^\u001b[0m\n\u001b[0;31mSyntaxError\u001b[0m\u001b[0;31m:\u001b[0m invalid syntax\n"
          ]
        }
      ]
    },
    {
      "cell_type": "code",
      "metadata": {
        "id": "JyMlgjSASnIf",
        "colab_type": "code",
        "colab": {}
      },
      "source": [
        "#Things left\n",
        "#Model\n",
        "#Evaluate Model\n",
        "#evaluation curve\n",
        "#Prediction curves"
      ],
      "execution_count": 0,
      "outputs": []
    },
    {
      "cell_type": "code",
      "metadata": {
        "id": "Hu7eSKdlXLLv",
        "colab_type": "code",
        "colab": {}
      },
      "source": [
        ""
      ],
      "execution_count": 0,
      "outputs": []
    }
  ]
}