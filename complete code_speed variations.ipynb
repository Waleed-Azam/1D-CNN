{
  "nbformat": 4,
  "nbformat_minor": 0,
  "metadata": {
    "colab": {
      "name": "Untitled14.ipynb",
      "provenance": [],
      "authorship_tag": "ABX9TyNZFENQJVoYTg5IYLpJ0PwV",
      "include_colab_link": true
    },
    "kernelspec": {
      "name": "python3",
      "display_name": "Python 3"
    },
    "accelerator": "GPU"
  },
  "cells": [
    {
      "cell_type": "markdown",
      "metadata": {
        "id": "view-in-github",
        "colab_type": "text"
      },
      "source": [
        "<a href=\"https://colab.research.google.com/github/Waleed-Azam/1D-CNN/blob/master/complete%20code_speed%20variations.ipynb\" target=\"_parent\"><img src=\"https://colab.research.google.com/assets/colab-badge.svg\" alt=\"Open In Colab\"/></a>"
      ]
    },
    {
      "cell_type": "code",
      "metadata": {
        "id": "-PWJIgs_-Tyr",
        "colab_type": "code",
        "colab": {}
      },
      "source": [
        "#Prepare the nice data set"
      ],
      "execution_count": 0,
      "outputs": []
    },
    {
      "cell_type": "code",
      "metadata": {
        "id": "RTGo2Sln-WNg",
        "colab_type": "code",
        "colab": {}
      },
      "source": [
        "#   The data set contains 4 DVL beams, All the beams processed for the Underwater robot\n"
      ],
      "execution_count": 0,
      "outputs": []
    },
    {
      "cell_type": "code",
      "metadata": {
        "id": "-kWTx9nkt8b-",
        "colab_type": "code",
        "colab": {}
      },
      "source": [
        "#data set\n",
        "#Expalnation of the data set\n",
        "#Preprocessing of the data set\n",
        "#Each beam Regression. estiamtion to conclude the best one\n",
        "#Combining all and predcit some nice estiamtion"
      ],
      "execution_count": 0,
      "outputs": []
    },
    {
      "cell_type": "markdown",
      "metadata": {
        "id": "-97dhy-DvHLL",
        "colab_type": "text"
      },
      "source": [
        "**Importing all the libraries for the CONV 1D CNN and Keras, Tensorflow**"
      ]
    },
    {
      "cell_type": "code",
      "metadata": {
        "id": "dS-rIPnhu-R3",
        "colab_type": "code",
        "colab": {}
      },
      "source": [
        "# univariate cnn example\n",
        "from numpy import array\n",
        "from keras.models import Sequential\n",
        "from keras.layers import Dense\n",
        "from keras.layers import Flatten\n",
        "from keras.layers.convolutional import Conv1D\n",
        "from keras.layers.convolutional import MaxPooling1D"
      ],
      "execution_count": 0,
      "outputs": []
    },
    {
      "cell_type": "code",
      "metadata": {
        "id": "zmajnkusvGps",
        "colab_type": "code",
        "colab": {}
      },
      "source": [
        "\n",
        "\n",
        "\n",
        "\n",
        "!pip install -U -q PyDrive\n",
        "from pydrive.auth import GoogleAuth\n",
        "from pydrive.drive import GoogleDrive\n",
        "from google.colab import auth\n",
        "from oauth2client.client import GoogleCredentials\n",
        "import numpy as np \n",
        "import matplotlib.pyplot as plt"
      ],
      "execution_count": 0,
      "outputs": []
    },
    {
      "cell_type": "code",
      "metadata": {
        "id": "qHexQolIvRJs",
        "colab_type": "code",
        "colab": {}
      },
      "source": [
        "auth.authenticate_user()\n",
        "gauth = GoogleAuth()\n",
        "gauth.credentials = GoogleCredentials.get_application_default()\n",
        "drive = GoogleDrive(gauth)"
      ],
      "execution_count": 0,
      "outputs": []
    },
    {
      "cell_type": "markdown",
      "metadata": {
        "id": "f2GQtcp_vg10",
        "colab_type": "text"
      },
      "source": [
        "**Importing the data set**"
      ]
    },
    {
      "cell_type": "code",
      "metadata": {
        "id": "zSTvyvjcvXUG",
        "colab_type": "code",
        "colab": {}
      },
      "source": [
        "downloaded = drive.CreateFile({'id':'11eCGs8j8V8bBFZBwT1nNvrGzdrQVmhWE'}) # replace the id with id of file you want to access'}) # replace the id with id of file you want to access\n",
        "#https://drive.google.com/file/d/1agv3WTJF7GiaUwWJGDpDQfZwX_nApM-J/view?usp=sharing\n",
        "#https://drive.google.com/file/d/14RfDnc5maSGzxripjhH3Z6B2asdpFbbX/view?usp=sharing\n",
        "#https://drive.google.com/file/d/11eCGs8j8V8bBFZBwT1nNvrGzdrQVmhWE/view?usp=sharing\n",
        "#DVL1______C_8000"
      ],
      "execution_count": 0,
      "outputs": []
    },
    {
      "cell_type": "code",
      "metadata": {
        "id": "lRs9k8SDwDm7",
        "colab_type": "code",
        "colab": {}
      },
      "source": [
        "downloaded.GetContentFile('DVL1______C_8000.csv')"
      ],
      "execution_count": 0,
      "outputs": []
    },
    {
      "cell_type": "code",
      "metadata": {
        "id": "9U_Qh4g0wIds",
        "colab_type": "code",
        "outputId": "ec9781de-860f-4c88-8d4d-916907bd524c",
        "colab": {
          "base_uri": "https://localhost:8080/",
          "height": 404
        }
      },
      "source": [
        "import pandas as pd\n",
        "df2 = pd.read_csv('DVL1______C_8000.csv') \n",
        "df2"
      ],
      "execution_count": 0,
      "outputs": [
        {
          "output_type": "execute_result",
          "data": {
            "text/html": [
              "<div>\n",
              "<style scoped>\n",
              "    .dataframe tbody tr th:only-of-type {\n",
              "        vertical-align: middle;\n",
              "    }\n",
              "\n",
              "    .dataframe tbody tr th {\n",
              "        vertical-align: top;\n",
              "    }\n",
              "\n",
              "    .dataframe thead th {\n",
              "        text-align: right;\n",
              "    }\n",
              "</style>\n",
              "<table border=\"1\" class=\"dataframe\">\n",
              "  <thead>\n",
              "    <tr style=\"text-align: right;\">\n",
              "      <th></th>\n",
              "      <th>Time</th>\n",
              "      <th>DVL1_S</th>\n",
              "      <th>DVL2_S</th>\n",
              "      <th>DVL3_S</th>\n",
              "      <th>DVL4_S</th>\n",
              "      <th>DVL1</th>\n",
              "      <th>DVL2</th>\n",
              "      <th>DVL3</th>\n",
              "      <th>DVL4</th>\n",
              "    </tr>\n",
              "  </thead>\n",
              "  <tbody>\n",
              "    <tr>\n",
              "      <th>0</th>\n",
              "      <td>0.0</td>\n",
              "      <td>0.000000</td>\n",
              "      <td>0.0</td>\n",
              "      <td>0.000000</td>\n",
              "      <td>0.000000</td>\n",
              "      <td>0.000000</td>\n",
              "      <td>0.000000</td>\n",
              "      <td>0.000000</td>\n",
              "      <td>0.000000</td>\n",
              "    </tr>\n",
              "    <tr>\n",
              "      <th>1</th>\n",
              "      <td>0.0</td>\n",
              "      <td>20.000000</td>\n",
              "      <td>20.0</td>\n",
              "      <td>20.000000</td>\n",
              "      <td>20.000000</td>\n",
              "      <td>20.000000</td>\n",
              "      <td>20.000000</td>\n",
              "      <td>20.000000</td>\n",
              "      <td>20.000000</td>\n",
              "    </tr>\n",
              "    <tr>\n",
              "      <th>2</th>\n",
              "      <td>0.1</td>\n",
              "      <td>20.000000</td>\n",
              "      <td>20.0</td>\n",
              "      <td>20.000000</td>\n",
              "      <td>20.000000</td>\n",
              "      <td>20.000000</td>\n",
              "      <td>20.000000</td>\n",
              "      <td>20.000000</td>\n",
              "      <td>20.000000</td>\n",
              "    </tr>\n",
              "    <tr>\n",
              "      <th>3</th>\n",
              "      <td>0.2</td>\n",
              "      <td>20.000000</td>\n",
              "      <td>20.0</td>\n",
              "      <td>20.000000</td>\n",
              "      <td>20.000000</td>\n",
              "      <td>20.000000</td>\n",
              "      <td>20.000000</td>\n",
              "      <td>20.000000</td>\n",
              "      <td>20.000000</td>\n",
              "    </tr>\n",
              "    <tr>\n",
              "      <th>4</th>\n",
              "      <td>0.3</td>\n",
              "      <td>20.000000</td>\n",
              "      <td>20.0</td>\n",
              "      <td>20.000000</td>\n",
              "      <td>20.000000</td>\n",
              "      <td>20.000000</td>\n",
              "      <td>20.000000</td>\n",
              "      <td>20.000000</td>\n",
              "      <td>20.000000</td>\n",
              "    </tr>\n",
              "    <tr>\n",
              "      <th>...</th>\n",
              "      <td>...</td>\n",
              "      <td>...</td>\n",
              "      <td>...</td>\n",
              "      <td>...</td>\n",
              "      <td>...</td>\n",
              "      <td>...</td>\n",
              "      <td>...</td>\n",
              "      <td>...</td>\n",
              "      <td>...</td>\n",
              "    </tr>\n",
              "    <tr>\n",
              "      <th>84986</th>\n",
              "      <td>8498.5</td>\n",
              "      <td>2.692643</td>\n",
              "      <td>1.8</td>\n",
              "      <td>2.620548</td>\n",
              "      <td>2.615895</td>\n",
              "      <td>2.692643</td>\n",
              "      <td>2.628101</td>\n",
              "      <td>2.620548</td>\n",
              "      <td>2.615895</td>\n",
              "    </tr>\n",
              "    <tr>\n",
              "      <th>84987</th>\n",
              "      <td>8498.6</td>\n",
              "      <td>2.692682</td>\n",
              "      <td>1.8</td>\n",
              "      <td>2.620243</td>\n",
              "      <td>2.615925</td>\n",
              "      <td>2.692682</td>\n",
              "      <td>2.629319</td>\n",
              "      <td>2.620243</td>\n",
              "      <td>2.615925</td>\n",
              "    </tr>\n",
              "    <tr>\n",
              "      <th>84988</th>\n",
              "      <td>8498.7</td>\n",
              "      <td>2.692715</td>\n",
              "      <td>1.8</td>\n",
              "      <td>2.619866</td>\n",
              "      <td>2.615951</td>\n",
              "      <td>2.692715</td>\n",
              "      <td>2.630637</td>\n",
              "      <td>2.619866</td>\n",
              "      <td>2.615951</td>\n",
              "    </tr>\n",
              "    <tr>\n",
              "      <th>84989</th>\n",
              "      <td>8498.8</td>\n",
              "      <td>2.692740</td>\n",
              "      <td>1.8</td>\n",
              "      <td>2.619450</td>\n",
              "      <td>2.615970</td>\n",
              "      <td>2.692740</td>\n",
              "      <td>2.631916</td>\n",
              "      <td>2.619450</td>\n",
              "      <td>2.615970</td>\n",
              "    </tr>\n",
              "    <tr>\n",
              "      <th>84990</th>\n",
              "      <td>8498.9</td>\n",
              "      <td>2.692755</td>\n",
              "      <td>1.8</td>\n",
              "      <td>2.618994</td>\n",
              "      <td>2.615983</td>\n",
              "      <td>2.692755</td>\n",
              "      <td>2.633157</td>\n",
              "      <td>2.618994</td>\n",
              "      <td>2.615983</td>\n",
              "    </tr>\n",
              "  </tbody>\n",
              "</table>\n",
              "<p>84991 rows × 9 columns</p>\n",
              "</div>"
            ],
            "text/plain": [
              "         Time     DVL1_S  DVL2_S  ...       DVL2       DVL3       DVL4\n",
              "0         0.0   0.000000     0.0  ...   0.000000   0.000000   0.000000\n",
              "1         0.0  20.000000    20.0  ...  20.000000  20.000000  20.000000\n",
              "2         0.1  20.000000    20.0  ...  20.000000  20.000000  20.000000\n",
              "3         0.2  20.000000    20.0  ...  20.000000  20.000000  20.000000\n",
              "4         0.3  20.000000    20.0  ...  20.000000  20.000000  20.000000\n",
              "...       ...        ...     ...  ...        ...        ...        ...\n",
              "84986  8498.5   2.692643     1.8  ...   2.628101   2.620548   2.615895\n",
              "84987  8498.6   2.692682     1.8  ...   2.629319   2.620243   2.615925\n",
              "84988  8498.7   2.692715     1.8  ...   2.630637   2.619866   2.615951\n",
              "84989  8498.8   2.692740     1.8  ...   2.631916   2.619450   2.615970\n",
              "84990  8498.9   2.692755     1.8  ...   2.633157   2.618994   2.615983\n",
              "\n",
              "[84991 rows x 9 columns]"
            ]
          },
          "metadata": {
            "tags": []
          },
          "execution_count": 738
        }
      ]
    },
    {
      "cell_type": "code",
      "metadata": {
        "id": "tDNjw5LnwNO3",
        "colab_type": "code",
        "outputId": "8d6f165f-8a94-4fdc-8ad1-38470f439216",
        "colab": {
          "base_uri": "https://localhost:8080/",
          "height": 196
        }
      },
      "source": [
        "df2.head()"
      ],
      "execution_count": 0,
      "outputs": [
        {
          "output_type": "execute_result",
          "data": {
            "text/html": [
              "<div>\n",
              "<style scoped>\n",
              "    .dataframe tbody tr th:only-of-type {\n",
              "        vertical-align: middle;\n",
              "    }\n",
              "\n",
              "    .dataframe tbody tr th {\n",
              "        vertical-align: top;\n",
              "    }\n",
              "\n",
              "    .dataframe thead th {\n",
              "        text-align: right;\n",
              "    }\n",
              "</style>\n",
              "<table border=\"1\" class=\"dataframe\">\n",
              "  <thead>\n",
              "    <tr style=\"text-align: right;\">\n",
              "      <th></th>\n",
              "      <th>Time</th>\n",
              "      <th>DVL1_S</th>\n",
              "      <th>DVL2_S</th>\n",
              "      <th>DVL3_S</th>\n",
              "      <th>DVL4_S</th>\n",
              "      <th>DVL1</th>\n",
              "      <th>DVL2</th>\n",
              "      <th>DVL3</th>\n",
              "      <th>DVL4</th>\n",
              "    </tr>\n",
              "  </thead>\n",
              "  <tbody>\n",
              "    <tr>\n",
              "      <th>0</th>\n",
              "      <td>0.0</td>\n",
              "      <td>0.0</td>\n",
              "      <td>0.0</td>\n",
              "      <td>0.0</td>\n",
              "      <td>0.0</td>\n",
              "      <td>0.0</td>\n",
              "      <td>0.0</td>\n",
              "      <td>0.0</td>\n",
              "      <td>0.0</td>\n",
              "    </tr>\n",
              "    <tr>\n",
              "      <th>1</th>\n",
              "      <td>0.0</td>\n",
              "      <td>20.0</td>\n",
              "      <td>20.0</td>\n",
              "      <td>20.0</td>\n",
              "      <td>20.0</td>\n",
              "      <td>20.0</td>\n",
              "      <td>20.0</td>\n",
              "      <td>20.0</td>\n",
              "      <td>20.0</td>\n",
              "    </tr>\n",
              "    <tr>\n",
              "      <th>2</th>\n",
              "      <td>0.1</td>\n",
              "      <td>20.0</td>\n",
              "      <td>20.0</td>\n",
              "      <td>20.0</td>\n",
              "      <td>20.0</td>\n",
              "      <td>20.0</td>\n",
              "      <td>20.0</td>\n",
              "      <td>20.0</td>\n",
              "      <td>20.0</td>\n",
              "    </tr>\n",
              "    <tr>\n",
              "      <th>3</th>\n",
              "      <td>0.2</td>\n",
              "      <td>20.0</td>\n",
              "      <td>20.0</td>\n",
              "      <td>20.0</td>\n",
              "      <td>20.0</td>\n",
              "      <td>20.0</td>\n",
              "      <td>20.0</td>\n",
              "      <td>20.0</td>\n",
              "      <td>20.0</td>\n",
              "    </tr>\n",
              "    <tr>\n",
              "      <th>4</th>\n",
              "      <td>0.3</td>\n",
              "      <td>20.0</td>\n",
              "      <td>20.0</td>\n",
              "      <td>20.0</td>\n",
              "      <td>20.0</td>\n",
              "      <td>20.0</td>\n",
              "      <td>20.0</td>\n",
              "      <td>20.0</td>\n",
              "      <td>20.0</td>\n",
              "    </tr>\n",
              "  </tbody>\n",
              "</table>\n",
              "</div>"
            ],
            "text/plain": [
              "   Time  DVL1_S  DVL2_S  DVL3_S  DVL4_S  DVL1  DVL2  DVL3  DVL4\n",
              "0   0.0     0.0     0.0     0.0     0.0   0.0   0.0   0.0   0.0\n",
              "1   0.0    20.0    20.0    20.0    20.0  20.0  20.0  20.0  20.0\n",
              "2   0.1    20.0    20.0    20.0    20.0  20.0  20.0  20.0  20.0\n",
              "3   0.2    20.0    20.0    20.0    20.0  20.0  20.0  20.0  20.0\n",
              "4   0.3    20.0    20.0    20.0    20.0  20.0  20.0  20.0  20.0"
            ]
          },
          "metadata": {
            "tags": []
          },
          "execution_count": 739
        }
      ]
    },
    {
      "cell_type": "code",
      "metadata": {
        "id": "X4IA1rPDwRJI",
        "colab_type": "code",
        "outputId": "8aaa3c2c-9f97-48d5-ad7f-0c2499ce5322",
        "colab": {
          "base_uri": "https://localhost:8080/",
          "height": 196
        }
      },
      "source": [
        "df2.tail()"
      ],
      "execution_count": 0,
      "outputs": [
        {
          "output_type": "execute_result",
          "data": {
            "text/html": [
              "<div>\n",
              "<style scoped>\n",
              "    .dataframe tbody tr th:only-of-type {\n",
              "        vertical-align: middle;\n",
              "    }\n",
              "\n",
              "    .dataframe tbody tr th {\n",
              "        vertical-align: top;\n",
              "    }\n",
              "\n",
              "    .dataframe thead th {\n",
              "        text-align: right;\n",
              "    }\n",
              "</style>\n",
              "<table border=\"1\" class=\"dataframe\">\n",
              "  <thead>\n",
              "    <tr style=\"text-align: right;\">\n",
              "      <th></th>\n",
              "      <th>Time</th>\n",
              "      <th>DVL1_S</th>\n",
              "      <th>DVL2_S</th>\n",
              "      <th>DVL3_S</th>\n",
              "      <th>DVL4_S</th>\n",
              "      <th>DVL1</th>\n",
              "      <th>DVL2</th>\n",
              "      <th>DVL3</th>\n",
              "      <th>DVL4</th>\n",
              "    </tr>\n",
              "  </thead>\n",
              "  <tbody>\n",
              "    <tr>\n",
              "      <th>84986</th>\n",
              "      <td>8498.5</td>\n",
              "      <td>2.692643</td>\n",
              "      <td>1.8</td>\n",
              "      <td>2.620548</td>\n",
              "      <td>2.615895</td>\n",
              "      <td>2.692643</td>\n",
              "      <td>2.628101</td>\n",
              "      <td>2.620548</td>\n",
              "      <td>2.615895</td>\n",
              "    </tr>\n",
              "    <tr>\n",
              "      <th>84987</th>\n",
              "      <td>8498.6</td>\n",
              "      <td>2.692682</td>\n",
              "      <td>1.8</td>\n",
              "      <td>2.620243</td>\n",
              "      <td>2.615925</td>\n",
              "      <td>2.692682</td>\n",
              "      <td>2.629319</td>\n",
              "      <td>2.620243</td>\n",
              "      <td>2.615925</td>\n",
              "    </tr>\n",
              "    <tr>\n",
              "      <th>84988</th>\n",
              "      <td>8498.7</td>\n",
              "      <td>2.692715</td>\n",
              "      <td>1.8</td>\n",
              "      <td>2.619866</td>\n",
              "      <td>2.615951</td>\n",
              "      <td>2.692715</td>\n",
              "      <td>2.630637</td>\n",
              "      <td>2.619866</td>\n",
              "      <td>2.615951</td>\n",
              "    </tr>\n",
              "    <tr>\n",
              "      <th>84989</th>\n",
              "      <td>8498.8</td>\n",
              "      <td>2.692740</td>\n",
              "      <td>1.8</td>\n",
              "      <td>2.619450</td>\n",
              "      <td>2.615970</td>\n",
              "      <td>2.692740</td>\n",
              "      <td>2.631916</td>\n",
              "      <td>2.619450</td>\n",
              "      <td>2.615970</td>\n",
              "    </tr>\n",
              "    <tr>\n",
              "      <th>84990</th>\n",
              "      <td>8498.9</td>\n",
              "      <td>2.692755</td>\n",
              "      <td>1.8</td>\n",
              "      <td>2.618994</td>\n",
              "      <td>2.615983</td>\n",
              "      <td>2.692755</td>\n",
              "      <td>2.633157</td>\n",
              "      <td>2.618994</td>\n",
              "      <td>2.615983</td>\n",
              "    </tr>\n",
              "  </tbody>\n",
              "</table>\n",
              "</div>"
            ],
            "text/plain": [
              "         Time    DVL1_S  DVL2_S  ...      DVL2      DVL3      DVL4\n",
              "84986  8498.5  2.692643     1.8  ...  2.628101  2.620548  2.615895\n",
              "84987  8498.6  2.692682     1.8  ...  2.629319  2.620243  2.615925\n",
              "84988  8498.7  2.692715     1.8  ...  2.630637  2.619866  2.615951\n",
              "84989  8498.8  2.692740     1.8  ...  2.631916  2.619450  2.615970\n",
              "84990  8498.9  2.692755     1.8  ...  2.633157  2.618994  2.615983\n",
              "\n",
              "[5 rows x 9 columns]"
            ]
          },
          "metadata": {
            "tags": []
          },
          "execution_count": 740
        }
      ]
    },
    {
      "cell_type": "markdown",
      "metadata": {
        "id": "-wVjBKuIwU7P",
        "colab_type": "text"
      },
      "source": [
        "** The drone is moving with the velocity ranging betweeen -0.3 to +0.3 m/sec. There are also varaiation in the distance from the net also applied to make it more real and do-able**"
      ]
    },
    {
      "cell_type": "code",
      "metadata": {
        "id": "3yJo4HeSwTml",
        "colab_type": "code",
        "colab": {}
      },
      "source": [
        "#The data set, need to have more and more depth on the understandings"
      ],
      "execution_count": 0,
      "outputs": []
    },
    {
      "cell_type": "markdown",
      "metadata": {
        "id": "Pm5YfyWCxbLE",
        "colab_type": "text"
      },
      "source": [
        "![Drone](https://drive.google.com/uc?id=1931F5ZEkIRkSjpM-XnVRtbXJCdYTkmr1)\n"
      ]
    },
    {
      "cell_type": "markdown",
      "metadata": {
        "id": "MiGh8owjziQN",
        "colab_type": "text"
      },
      "source": [
        "\n",
        "\n",
        "\n",
        "\n",
        "\n",
        "\n",
        "\n",
        "**Removing the NaN values**"
      ]
    },
    {
      "cell_type": "code",
      "metadata": {
        "id": "UBZqTZDOwuIP",
        "colab_type": "code",
        "outputId": "95518844-16e2-4aca-aafa-92fe645e41bd",
        "colab": {
          "base_uri": "https://localhost:8080/",
          "height": 404
        }
      },
      "source": [
        "df2[\"Time\"] = df2[\"Time\"].fillna(0)\n",
        "df2[\"DVL1\"] = df2[\"DVL1\"].fillna(0)\n",
        "df2[\"DVL2\"] = df2[\"DVL2\"].fillna(0)\n",
        "df2[\"DVL3\"] = df2[\"DVL3\"].fillna(0)\n",
        "df2[\"DVL4\"] = df2[\"DVL4\"].fillna(0)\n",
        "df2[\"DVL1_S\"] = df2[\"DVL1_S\"].fillna(0)\n",
        "df2[\"DVL2_S\"] = df2[\"DVL2_S\"].fillna(0)\n",
        "df2[\"DVL3_S\"] = df2[\"DVL3_S\"].fillna(0)\n",
        "df2[\"DVL4_S\"] = df2[\"DVL4_S\"].fillna(0)\n",
        "df2"
      ],
      "execution_count": 0,
      "outputs": [
        {
          "output_type": "execute_result",
          "data": {
            "text/html": [
              "<div>\n",
              "<style scoped>\n",
              "    .dataframe tbody tr th:only-of-type {\n",
              "        vertical-align: middle;\n",
              "    }\n",
              "\n",
              "    .dataframe tbody tr th {\n",
              "        vertical-align: top;\n",
              "    }\n",
              "\n",
              "    .dataframe thead th {\n",
              "        text-align: right;\n",
              "    }\n",
              "</style>\n",
              "<table border=\"1\" class=\"dataframe\">\n",
              "  <thead>\n",
              "    <tr style=\"text-align: right;\">\n",
              "      <th></th>\n",
              "      <th>Time</th>\n",
              "      <th>DVL1_S</th>\n",
              "      <th>DVL2_S</th>\n",
              "      <th>DVL3_S</th>\n",
              "      <th>DVL4_S</th>\n",
              "      <th>DVL1</th>\n",
              "      <th>DVL2</th>\n",
              "      <th>DVL3</th>\n",
              "      <th>DVL4</th>\n",
              "    </tr>\n",
              "  </thead>\n",
              "  <tbody>\n",
              "    <tr>\n",
              "      <th>0</th>\n",
              "      <td>0.0</td>\n",
              "      <td>0.000000</td>\n",
              "      <td>0.0</td>\n",
              "      <td>0.000000</td>\n",
              "      <td>0.000000</td>\n",
              "      <td>0.000000</td>\n",
              "      <td>0.000000</td>\n",
              "      <td>0.000000</td>\n",
              "      <td>0.000000</td>\n",
              "    </tr>\n",
              "    <tr>\n",
              "      <th>1</th>\n",
              "      <td>0.0</td>\n",
              "      <td>20.000000</td>\n",
              "      <td>20.0</td>\n",
              "      <td>20.000000</td>\n",
              "      <td>20.000000</td>\n",
              "      <td>20.000000</td>\n",
              "      <td>20.000000</td>\n",
              "      <td>20.000000</td>\n",
              "      <td>20.000000</td>\n",
              "    </tr>\n",
              "    <tr>\n",
              "      <th>2</th>\n",
              "      <td>0.1</td>\n",
              "      <td>20.000000</td>\n",
              "      <td>20.0</td>\n",
              "      <td>20.000000</td>\n",
              "      <td>20.000000</td>\n",
              "      <td>20.000000</td>\n",
              "      <td>20.000000</td>\n",
              "      <td>20.000000</td>\n",
              "      <td>20.000000</td>\n",
              "    </tr>\n",
              "    <tr>\n",
              "      <th>3</th>\n",
              "      <td>0.2</td>\n",
              "      <td>20.000000</td>\n",
              "      <td>20.0</td>\n",
              "      <td>20.000000</td>\n",
              "      <td>20.000000</td>\n",
              "      <td>20.000000</td>\n",
              "      <td>20.000000</td>\n",
              "      <td>20.000000</td>\n",
              "      <td>20.000000</td>\n",
              "    </tr>\n",
              "    <tr>\n",
              "      <th>4</th>\n",
              "      <td>0.3</td>\n",
              "      <td>20.000000</td>\n",
              "      <td>20.0</td>\n",
              "      <td>20.000000</td>\n",
              "      <td>20.000000</td>\n",
              "      <td>20.000000</td>\n",
              "      <td>20.000000</td>\n",
              "      <td>20.000000</td>\n",
              "      <td>20.000000</td>\n",
              "    </tr>\n",
              "    <tr>\n",
              "      <th>...</th>\n",
              "      <td>...</td>\n",
              "      <td>...</td>\n",
              "      <td>...</td>\n",
              "      <td>...</td>\n",
              "      <td>...</td>\n",
              "      <td>...</td>\n",
              "      <td>...</td>\n",
              "      <td>...</td>\n",
              "      <td>...</td>\n",
              "    </tr>\n",
              "    <tr>\n",
              "      <th>84986</th>\n",
              "      <td>8498.5</td>\n",
              "      <td>2.692643</td>\n",
              "      <td>1.8</td>\n",
              "      <td>2.620548</td>\n",
              "      <td>2.615895</td>\n",
              "      <td>2.692643</td>\n",
              "      <td>2.628101</td>\n",
              "      <td>2.620548</td>\n",
              "      <td>2.615895</td>\n",
              "    </tr>\n",
              "    <tr>\n",
              "      <th>84987</th>\n",
              "      <td>8498.6</td>\n",
              "      <td>2.692682</td>\n",
              "      <td>1.8</td>\n",
              "      <td>2.620243</td>\n",
              "      <td>2.615925</td>\n",
              "      <td>2.692682</td>\n",
              "      <td>2.629319</td>\n",
              "      <td>2.620243</td>\n",
              "      <td>2.615925</td>\n",
              "    </tr>\n",
              "    <tr>\n",
              "      <th>84988</th>\n",
              "      <td>8498.7</td>\n",
              "      <td>2.692715</td>\n",
              "      <td>1.8</td>\n",
              "      <td>2.619866</td>\n",
              "      <td>2.615951</td>\n",
              "      <td>2.692715</td>\n",
              "      <td>2.630637</td>\n",
              "      <td>2.619866</td>\n",
              "      <td>2.615951</td>\n",
              "    </tr>\n",
              "    <tr>\n",
              "      <th>84989</th>\n",
              "      <td>8498.8</td>\n",
              "      <td>2.692740</td>\n",
              "      <td>1.8</td>\n",
              "      <td>2.619450</td>\n",
              "      <td>2.615970</td>\n",
              "      <td>2.692740</td>\n",
              "      <td>2.631916</td>\n",
              "      <td>2.619450</td>\n",
              "      <td>2.615970</td>\n",
              "    </tr>\n",
              "    <tr>\n",
              "      <th>84990</th>\n",
              "      <td>8498.9</td>\n",
              "      <td>2.692755</td>\n",
              "      <td>1.8</td>\n",
              "      <td>2.618994</td>\n",
              "      <td>2.615983</td>\n",
              "      <td>2.692755</td>\n",
              "      <td>2.633157</td>\n",
              "      <td>2.618994</td>\n",
              "      <td>2.615983</td>\n",
              "    </tr>\n",
              "  </tbody>\n",
              "</table>\n",
              "<p>84991 rows × 9 columns</p>\n",
              "</div>"
            ],
            "text/plain": [
              "         Time     DVL1_S  DVL2_S  ...       DVL2       DVL3       DVL4\n",
              "0         0.0   0.000000     0.0  ...   0.000000   0.000000   0.000000\n",
              "1         0.0  20.000000    20.0  ...  20.000000  20.000000  20.000000\n",
              "2         0.1  20.000000    20.0  ...  20.000000  20.000000  20.000000\n",
              "3         0.2  20.000000    20.0  ...  20.000000  20.000000  20.000000\n",
              "4         0.3  20.000000    20.0  ...  20.000000  20.000000  20.000000\n",
              "...       ...        ...     ...  ...        ...        ...        ...\n",
              "84986  8498.5   2.692643     1.8  ...   2.628101   2.620548   2.615895\n",
              "84987  8498.6   2.692682     1.8  ...   2.629319   2.620243   2.615925\n",
              "84988  8498.7   2.692715     1.8  ...   2.630637   2.619866   2.615951\n",
              "84989  8498.8   2.692740     1.8  ...   2.631916   2.619450   2.615970\n",
              "84990  8498.9   2.692755     1.8  ...   2.633157   2.618994   2.615983\n",
              "\n",
              "[84991 rows x 9 columns]"
            ]
          },
          "metadata": {
            "tags": []
          },
          "execution_count": 742
        }
      ]
    },
    {
      "cell_type": "code",
      "metadata": {
        "id": "V_29_XE_zf1M",
        "colab_type": "code",
        "colab": {}
      },
      "source": [
        "t=df2['Time']\n",
        "Tdata=df2['DVL1_S']\n",
        "X=np.array(Tdata)\n",
        "y=df2['DVL1']\n",
        "y=np.array(y)\n",
        "import numpy as np"
      ],
      "execution_count": 0,
      "outputs": []
    },
    {
      "cell_type": "code",
      "metadata": {
        "id": "Kyh06nkb1Kq_",
        "colab_type": "code",
        "outputId": "84dbb6a9-7465-40c9-bef3-bd539ba2480f",
        "colab": {
          "base_uri": "https://localhost:8080/",
          "height": 50
        }
      },
      "source": [
        "X"
      ],
      "execution_count": 0,
      "outputs": [
        {
          "output_type": "execute_result",
          "data": {
            "text/plain": [
              "array([ 0.      , 20.      , 20.      , ...,  2.692715,  2.69274 ,\n",
              "        2.692755])"
            ]
          },
          "metadata": {
            "tags": []
          },
          "execution_count": 744
        }
      ]
    },
    {
      "cell_type": "code",
      "metadata": {
        "id": "gBIz5qBw3E59",
        "colab_type": "code",
        "outputId": "66e455ee-f240-4ac9-e8d3-7ec64f6db4de",
        "colab": {
          "base_uri": "https://localhost:8080/",
          "height": 33
        }
      },
      "source": [
        "X.shape"
      ],
      "execution_count": 0,
      "outputs": [
        {
          "output_type": "execute_result",
          "data": {
            "text/plain": [
              "(84991,)"
            ]
          },
          "metadata": {
            "tags": []
          },
          "execution_count": 745
        }
      ]
    },
    {
      "cell_type": "code",
      "metadata": {
        "id": "96OHl5Od3G8T",
        "colab_type": "code",
        "colab": {}
      },
      "source": [
        ""
      ],
      "execution_count": 0,
      "outputs": []
    },
    {
      "cell_type": "code",
      "metadata": {
        "id": "bpiFr6gizxHj",
        "colab_type": "code",
        "colab": {}
      },
      "source": [
        "def split_sequence(sequence, n_steps):\n",
        "\tX, z = list(), list()\n",
        "\tfor i in range(len(sequence)):\n",
        "\t\t# find the end of this pattern\n",
        "\t\tend_ix = i + n_steps\n",
        "\t\t# check if we are beyond the sequence\n",
        "\t\tif end_ix > len(sequence)-1:\n",
        "\t\t\tbreak\n",
        "\t\t# gather input and output parts of the pattern\n",
        "\t\tseq_x, seq_z = sequence[i:end_ix], sequence[end_ix]\n",
        "\t\tX.append(seq_x)\n",
        "\t\tz.append(seq_z)\n",
        "\treturn array(X), array(z)"
      ],
      "execution_count": 0,
      "outputs": []
    },
    {
      "cell_type": "code",
      "metadata": {
        "id": "rgHFUNFszz_a",
        "colab_type": "code",
        "colab": {}
      },
      "source": [
        "scaled_data=X"
      ],
      "execution_count": 0,
      "outputs": []
    },
    {
      "cell_type": "code",
      "metadata": {
        "id": "_SkwfNSq3KKT",
        "colab_type": "code",
        "outputId": "f7082af4-1609-48ad-eec7-cfc838d29159",
        "colab": {
          "base_uri": "https://localhost:8080/",
          "height": 33
        }
      },
      "source": [
        "scaled_data.shape"
      ],
      "execution_count": 0,
      "outputs": [
        {
          "output_type": "execute_result",
          "data": {
            "text/plain": [
              "(84991,)"
            ]
          },
          "metadata": {
            "tags": []
          },
          "execution_count": 748
        }
      ]
    },
    {
      "cell_type": "code",
      "metadata": {
        "id": "STlNmITV1O1E",
        "colab_type": "code",
        "outputId": "9e8e98e1-6646-4245-93bb-08beb49e9b8b",
        "colab": {
          "base_uri": "https://localhost:8080/",
          "height": 50
        }
      },
      "source": [
        "scaled_data"
      ],
      "execution_count": 0,
      "outputs": [
        {
          "output_type": "execute_result",
          "data": {
            "text/plain": [
              "array([ 0.      , 20.      , 20.      , ...,  2.692715,  2.69274 ,\n",
              "        2.692755])"
            ]
          },
          "metadata": {
            "tags": []
          },
          "execution_count": 749
        }
      ]
    },
    {
      "cell_type": "code",
      "metadata": {
        "id": "wbWTpbeT1Qgk",
        "colab_type": "code",
        "outputId": "532b1789-aef5-4acb-95c8-ef078df662a8",
        "colab": {
          "base_uri": "https://localhost:8080/",
          "height": 33
        }
      },
      "source": [
        "scaled_data.shape"
      ],
      "execution_count": 0,
      "outputs": [
        {
          "output_type": "execute_result",
          "data": {
            "text/plain": [
              "(84991,)"
            ]
          },
          "metadata": {
            "tags": []
          },
          "execution_count": 750
        }
      ]
    },
    {
      "cell_type": "code",
      "metadata": {
        "id": "mgOWDYiE3QDs",
        "colab_type": "code",
        "outputId": "f846c2ff-7b3c-4bf1-bafb-5241ae7c2dae",
        "colab": {
          "base_uri": "https://localhost:8080/",
          "height": 50
        }
      },
      "source": [
        "X"
      ],
      "execution_count": 0,
      "outputs": [
        {
          "output_type": "execute_result",
          "data": {
            "text/plain": [
              "array([ 0.      , 20.      , 20.      , ...,  2.692715,  2.69274 ,\n",
              "        2.692755])"
            ]
          },
          "metadata": {
            "tags": []
          },
          "execution_count": 751
        }
      ]
    },
    {
      "cell_type": "code",
      "metadata": {
        "id": "u71ciMHB3R3m",
        "colab_type": "code",
        "outputId": "493f1312-27e1-4485-db12-57c465a466ad",
        "colab": {
          "base_uri": "https://localhost:8080/",
          "height": 33
        }
      },
      "source": [
        "X.shape"
      ],
      "execution_count": 0,
      "outputs": [
        {
          "output_type": "execute_result",
          "data": {
            "text/plain": [
              "(84991,)"
            ]
          },
          "metadata": {
            "tags": []
          },
          "execution_count": 752
        }
      ]
    },
    {
      "cell_type": "code",
      "metadata": {
        "id": "8wwR2OxXz3Ak",
        "colab_type": "code",
        "colab": {}
      },
      "source": [
        "# define input sequence\n",
        "raw_seq = X\n",
        "# choose a number of time steps\n",
        "n_steps = 3\n",
        "# split into samples\n",
        "X, z = split_sequence(raw_seq, n_steps)"
      ],
      "execution_count": 0,
      "outputs": []
    },
    {
      "cell_type": "code",
      "metadata": {
        "id": "bYQHZ1TIz5WS",
        "colab_type": "code",
        "colab": {}
      },
      "source": [
        "X, z = split_sequence(raw_seq, n_steps)\n",
        "# reshape from [samples, timesteps] into [samples, timesteps, features]\n",
        "n_features = 1\n",
        "X = X.reshape((X.shape[0], X.shape[1], n_features))"
      ],
      "execution_count": 0,
      "outputs": []
    },
    {
      "cell_type": "code",
      "metadata": {
        "id": "eM1OowLY3ajK",
        "colab_type": "code",
        "outputId": "06263f36-e524-49a8-8042-2c2019325fce",
        "colab": {
          "base_uri": "https://localhost:8080/",
          "height": 435
        }
      },
      "source": [
        "X"
      ],
      "execution_count": 0,
      "outputs": [
        {
          "output_type": "execute_result",
          "data": {
            "text/plain": [
              "array([[[ 0.      ],\n",
              "        [20.      ],\n",
              "        [20.      ]],\n",
              "\n",
              "       [[20.      ],\n",
              "        [20.      ],\n",
              "        [20.      ]],\n",
              "\n",
              "       [[20.      ],\n",
              "        [20.      ],\n",
              "        [20.      ]],\n",
              "\n",
              "       ...,\n",
              "\n",
              "       [[ 2.692583],\n",
              "        [ 2.692643],\n",
              "        [ 2.692682]],\n",
              "\n",
              "       [[ 2.692643],\n",
              "        [ 2.692682],\n",
              "        [ 2.692715]],\n",
              "\n",
              "       [[ 2.692682],\n",
              "        [ 2.692715],\n",
              "        [ 2.69274 ]]])"
            ]
          },
          "metadata": {
            "tags": []
          },
          "execution_count": 755
        }
      ]
    },
    {
      "cell_type": "code",
      "metadata": {
        "id": "Dns4NJjz3dBY",
        "colab_type": "code",
        "outputId": "e5134c91-b02d-4962-9880-ebc5b3413bc1",
        "colab": {
          "base_uri": "https://localhost:8080/",
          "height": 33
        }
      },
      "source": [
        "X.shape"
      ],
      "execution_count": 0,
      "outputs": [
        {
          "output_type": "execute_result",
          "data": {
            "text/plain": [
              "(84988, 3, 1)"
            ]
          },
          "metadata": {
            "tags": []
          },
          "execution_count": 756
        }
      ]
    },
    {
      "cell_type": "code",
      "metadata": {
        "id": "82LFdo4w1VYc",
        "colab_type": "code",
        "outputId": "ded518f7-b4bd-4a96-bda9-060b7e4b0550",
        "colab": {
          "base_uri": "https://localhost:8080/",
          "height": 33
        }
      },
      "source": [
        "X.shape[0]"
      ],
      "execution_count": 0,
      "outputs": [
        {
          "output_type": "execute_result",
          "data": {
            "text/plain": [
              "84988"
            ]
          },
          "metadata": {
            "tags": []
          },
          "execution_count": 757
        }
      ]
    },
    {
      "cell_type": "code",
      "metadata": {
        "id": "P3RVEmGM1D0q",
        "colab_type": "code",
        "outputId": "d1c606d9-4b17-4027-b7cd-1f9b24da8b4c",
        "colab": {
          "base_uri": "https://localhost:8080/",
          "height": 33
        }
      },
      "source": [
        "X.shape[1]"
      ],
      "execution_count": 0,
      "outputs": [
        {
          "output_type": "execute_result",
          "data": {
            "text/plain": [
              "3"
            ]
          },
          "metadata": {
            "tags": []
          },
          "execution_count": 758
        }
      ]
    },
    {
      "cell_type": "code",
      "metadata": {
        "id": "WRueC9a51Fcc",
        "colab_type": "code",
        "outputId": "cd9484bd-056e-45fd-ea35-820c26602e78",
        "colab": {
          "base_uri": "https://localhost:8080/",
          "height": 33
        }
      },
      "source": [
        "n_features"
      ],
      "execution_count": 0,
      "outputs": [
        {
          "output_type": "execute_result",
          "data": {
            "text/plain": [
              "1"
            ]
          },
          "metadata": {
            "tags": []
          },
          "execution_count": 759
        }
      ]
    },
    {
      "cell_type": "code",
      "metadata": {
        "id": "mhxEB_oL3n0j",
        "colab_type": "code",
        "outputId": "06f36f27-fe4f-499c-e8af-c8b82f490b98",
        "colab": {
          "base_uri": "https://localhost:8080/",
          "height": 33
        }
      },
      "source": [
        "X.shape"
      ],
      "execution_count": 0,
      "outputs": [
        {
          "output_type": "execute_result",
          "data": {
            "text/plain": [
              "(84988, 3, 1)"
            ]
          },
          "metadata": {
            "tags": []
          },
          "execution_count": 760
        }
      ]
    },
    {
      "cell_type": "code",
      "metadata": {
        "id": "HWxOEp2L3q97",
        "colab_type": "code",
        "outputId": "ab270101-2109-4b9e-9877-9e5d137add7d",
        "colab": {
          "base_uri": "https://localhost:8080/",
          "height": 50
        }
      },
      "source": [
        "y"
      ],
      "execution_count": 0,
      "outputs": [
        {
          "output_type": "execute_result",
          "data": {
            "text/plain": [
              "array([ 0.      , 20.      , 20.      , ...,  2.692715,  2.69274 ,\n",
              "        2.692755])"
            ]
          },
          "metadata": {
            "tags": []
          },
          "execution_count": 761
        }
      ]
    },
    {
      "cell_type": "code",
      "metadata": {
        "id": "0WxK9zQZ3sd1",
        "colab_type": "code",
        "outputId": "da1f03fb-fabd-4766-a653-f3a8937e2de3",
        "colab": {
          "base_uri": "https://localhost:8080/",
          "height": 33
        }
      },
      "source": [
        "z.shape"
      ],
      "execution_count": 0,
      "outputs": [
        {
          "output_type": "execute_result",
          "data": {
            "text/plain": [
              "(84988,)"
            ]
          },
          "metadata": {
            "tags": []
          },
          "execution_count": 762
        }
      ]
    },
    {
      "cell_type": "code",
      "metadata": {
        "id": "kSlbRp1Sz7HG",
        "colab_type": "code",
        "colab": {}
      },
      "source": [
        "Label=y"
      ],
      "execution_count": 0,
      "outputs": []
    },
    {
      "cell_type": "code",
      "metadata": {
        "id": "Kv1Zruo73wNq",
        "colab_type": "code",
        "outputId": "2f29b615-7ff2-45db-d4f0-9db8effb0aee",
        "colab": {
          "base_uri": "https://localhost:8080/",
          "height": 33
        }
      },
      "source": [
        "Label.shape"
      ],
      "execution_count": 0,
      "outputs": [
        {
          "output_type": "execute_result",
          "data": {
            "text/plain": [
              "(84991,)"
            ]
          },
          "metadata": {
            "tags": []
          },
          "execution_count": 764
        }
      ]
    },
    {
      "cell_type": "code",
      "metadata": {
        "id": "RX_uplI4z871",
        "colab_type": "code",
        "colab": {}
      },
      "source": [
        "# split a univariate sequence into samples\n",
        "def split_sequence(sequence, n_steps):\n",
        "\tLabel, y = list(), list()\n",
        "\tfor i in range(len(sequence)):\n",
        "\t\t# find the end of this pattern\n",
        "\t\tend_ix = i + n_steps\n",
        "\t\t# check if we are beyond the sequence\n",
        "\t\tif end_ix > len(sequence)-1:\n",
        "\t\t\tbreak\n",
        "\t\t# gather input and output parts of the pattern\n",
        "\t\tseq_x, seq_y = sequence[i:end_ix], sequence[end_ix]\n",
        "\t\tLabel.append(seq_x)\n",
        "\t\ty.append(seq_y)\n",
        "\treturn array(Label), array(y)"
      ],
      "execution_count": 0,
      "outputs": []
    },
    {
      "cell_type": "code",
      "metadata": {
        "id": "oXSCRlYQz-pG",
        "colab_type": "code",
        "colab": {}
      },
      "source": [
        "raw_seq = Label\n",
        "# choose a number of time steps\n",
        "n_steps = 3\n",
        "# split into samples\n",
        "Label, y = split_sequence(raw_seq, n_steps)\n",
        "# reshape from [samples, timesteps] into [samples, timesteps, features]\n",
        "n_features = 1\n",
        "Label = Label.reshape((Label.shape[0], Label.shape[1], n_features))"
      ],
      "execution_count": 0,
      "outputs": []
    },
    {
      "cell_type": "code",
      "metadata": {
        "id": "XtHd3iTO37Tb",
        "colab_type": "code",
        "outputId": "83bc1d89-560f-40f2-cdef-cde9e1c2932a",
        "colab": {
          "base_uri": "https://localhost:8080/",
          "height": 435
        }
      },
      "source": [
        "Label"
      ],
      "execution_count": 0,
      "outputs": [
        {
          "output_type": "execute_result",
          "data": {
            "text/plain": [
              "array([[[ 0.      ],\n",
              "        [20.      ],\n",
              "        [20.      ]],\n",
              "\n",
              "       [[20.      ],\n",
              "        [20.      ],\n",
              "        [20.      ]],\n",
              "\n",
              "       [[20.      ],\n",
              "        [20.      ],\n",
              "        [20.      ]],\n",
              "\n",
              "       ...,\n",
              "\n",
              "       [[ 2.692583],\n",
              "        [ 2.692643],\n",
              "        [ 2.692682]],\n",
              "\n",
              "       [[ 2.692643],\n",
              "        [ 2.692682],\n",
              "        [ 2.692715]],\n",
              "\n",
              "       [[ 2.692682],\n",
              "        [ 2.692715],\n",
              "        [ 2.69274 ]]])"
            ]
          },
          "metadata": {
            "tags": []
          },
          "execution_count": 767
        }
      ]
    },
    {
      "cell_type": "code",
      "metadata": {
        "id": "FmVlWz2m3-R7",
        "colab_type": "code",
        "outputId": "c9c848c0-66bf-41c8-8eba-0fe78206753c",
        "colab": {
          "base_uri": "https://localhost:8080/",
          "height": 33
        }
      },
      "source": [
        "Label.shape"
      ],
      "execution_count": 0,
      "outputs": [
        {
          "output_type": "execute_result",
          "data": {
            "text/plain": [
              "(84988, 3, 1)"
            ]
          },
          "metadata": {
            "tags": []
          },
          "execution_count": 768
        }
      ]
    },
    {
      "cell_type": "code",
      "metadata": {
        "id": "KeaPy0PS4BSF",
        "colab_type": "code",
        "outputId": "12d85dac-2d80-4f23-b3f3-9591a7173bc8",
        "colab": {
          "base_uri": "https://localhost:8080/",
          "height": 50
        }
      },
      "source": [
        "y"
      ],
      "execution_count": 0,
      "outputs": [
        {
          "output_type": "execute_result",
          "data": {
            "text/plain": [
              "array([20.      , 20.      , 20.      , ...,  2.692715,  2.69274 ,\n",
              "        2.692755])"
            ]
          },
          "metadata": {
            "tags": []
          },
          "execution_count": 769
        }
      ]
    },
    {
      "cell_type": "code",
      "metadata": {
        "id": "PZVFXz3z4Cvb",
        "colab_type": "code",
        "outputId": "ac318bda-a79d-40cc-8a62-a228605d5c80",
        "colab": {
          "base_uri": "https://localhost:8080/",
          "height": 33
        }
      },
      "source": [
        "y.shape"
      ],
      "execution_count": 0,
      "outputs": [
        {
          "output_type": "execute_result",
          "data": {
            "text/plain": [
              "(84988,)"
            ]
          },
          "metadata": {
            "tags": []
          },
          "execution_count": 770
        }
      ]
    },
    {
      "cell_type": "code",
      "metadata": {
        "id": "XWGi4trF0B6F",
        "colab_type": "code",
        "colab": {}
      },
      "source": [
        "X_train  = np.array(X[:75000])\n",
        "y_train = np.array(y[:75000])\n",
        "\n",
        "X_test = np.array(X[-50000:])\n",
        "y_test = np.array(y[-50000:])"
      ],
      "execution_count": 0,
      "outputs": []
    },
    {
      "cell_type": "code",
      "metadata": {
        "id": "Dn-y-chJ7kXB",
        "colab_type": "code",
        "outputId": "dfc7733d-605f-4234-f649-1ced8b0e4620",
        "colab": {
          "base_uri": "https://localhost:8080/",
          "height": 84
        }
      },
      "source": [
        "print(\"X_train size: {}\".format(X_train.shape))\n",
        "print(\"y_train size: {}\".format(y_train.shape))\n",
        "print(\"X_test size: {}\".format(X_test.shape))\n",
        "print(\"y_test size: {}\".format(y_test.shape))"
      ],
      "execution_count": 0,
      "outputs": [
        {
          "output_type": "stream",
          "text": [
            "X_train size: (75000, 3, 1)\n",
            "y_train size: (75000,)\n",
            "X_test size: (50000, 3, 1)\n",
            "y_test size: (50000,)\n"
          ],
          "name": "stdout"
        }
      ]
    },
    {
      "cell_type": "code",
      "metadata": {
        "id": "-i-odMwt0Lcl",
        "colab_type": "code",
        "colab": {}
      },
      "source": [
        "dates = df2['Time']\n",
        "train_date = dates[:75000]\n",
        "test_date = dates[-50000:]"
      ],
      "execution_count": 0,
      "outputs": []
    },
    {
      "cell_type": "code",
      "metadata": {
        "id": "x7xNnR-a0NXz",
        "colab_type": "code",
        "colab": {}
      },
      "source": [
        "X = X_train\n",
        "y = y_train"
      ],
      "execution_count": 0,
      "outputs": []
    },
    {
      "cell_type": "code",
      "metadata": {
        "id": "5Y54Yqaw0PL3",
        "colab_type": "code",
        "colab": {}
      },
      "source": [
        "model = Sequential()\n",
        "model.add(Conv1D(filters=64, kernel_size=2, activation='relu', input_shape=(n_steps, n_features)))\n",
        "model.add(Conv1D(filters=64, kernel_size=2,padding='same', activation='relu'))\n",
        "model.add(Conv1D(filters=64, kernel_size=2,padding='same', activation='relu'))\n",
        "model.add(Conv1D(filters=64, kernel_size=2,padding='same', activation='relu'))\n",
        "model.add(Conv1D(filters=64, kernel_size=2,padding='same', activation='relu'))\n",
        "model.add(Conv1D(filters=64, kernel_size=2,padding='same', activation='relu'))\n",
        "model.add(Conv1D(filters=64, kernel_size=2,padding='same', activation='relu'))\n",
        "model.add(Conv1D(filters=64, kernel_size=2,padding='same', activation='relu'))\n",
        "model.add(Conv1D(filters=64, kernel_size=2,padding='same', activation='relu'))\n",
        "model.add(Conv1D(filters=64, kernel_size=2,padding='same', activation='relu'))\n",
        "model.add(Conv1D(filters=64, kernel_size=2,padding='same', activation='relu'))\n",
        "model.add(Conv1D(filters=64, kernel_size=2,padding='same', activation='relu'))\n",
        "model.add(MaxPooling1D(pool_size=2))\n",
        "model.add(Flatten())\n",
        "model.add(Dense(50, activation='relu'))\n",
        "model.add(Dense(1))\n",
        "model.compile(optimizer='adam', loss='mse', metrics=['accuracy'])"
      ],
      "execution_count": 0,
      "outputs": []
    },
    {
      "cell_type": "code",
      "metadata": {
        "id": "NrwnbY7M0Q77",
        "colab_type": "code",
        "colab": {}
      },
      "source": [
        "history=model.fit(X, y, epochs=200, verbose=0)"
      ],
      "execution_count": 0,
      "outputs": []
    },
    {
      "cell_type": "code",
      "metadata": {
        "id": "TZLTNlBv0Ulb",
        "colab_type": "code",
        "colab": {}
      },
      "source": [
        "#Prediction \n",
        "# demonstrate prediction\n",
        "import math\n",
        "y_pred=[]\n",
        "for i in X_test:\n",
        "    \n",
        "    x_input = i\n",
        "    x_input = x_input.reshape((1, n_steps, n_features))\n",
        "    yhat = model.predict(x_input, verbose=0)\n",
        "    y_pred.append(float(yhat[0]))\n",
        "\n",
        "# import numpy as np\n",
        "# yp = list(np.around(np.array(y_pred),1))\n",
        "# yt = list(np.around((y_test),1))\n",
        "    \n",
        "# y_pred = [ '%.1f' % elem for elem in y_pred ]\n",
        "# y_test = [ '%.1f' % elem for elem in y_pred ]"
      ],
      "execution_count": 0,
      "outputs": []
    },
    {
      "cell_type": "code",
      "metadata": {
        "id": "-ynDeAVV2HQs",
        "colab_type": "code",
        "colab": {}
      },
      "source": [
        "len(y_pred)"
      ],
      "execution_count": 0,
      "outputs": []
    },
    {
      "cell_type": "code",
      "metadata": {
        "id": "5y8acSKy0nFo",
        "colab_type": "code",
        "colab": {}
      },
      "source": [
        "plt.figure(figsize = (16,6))\n",
        "plt.plot(test_date,y_pred,label=\"Noise Removed\")\n",
        "#plt.plot(dates,scaled_data,label=\"Actual Data\")\n",
        "plt.legend()\n",
        "plt.show()"
      ],
      "execution_count": 0,
      "outputs": []
    },
    {
      "cell_type": "code",
      "metadata": {
        "id": "rIzPiU7H0wCF",
        "colab_type": "code",
        "colab": {}
      },
      "source": [
        "scaled_data_1=scaled_data[-50000:]"
      ],
      "execution_count": 0,
      "outputs": []
    },
    {
      "cell_type": "code",
      "metadata": {
        "id": "5d6xiD370pob",
        "colab_type": "code",
        "colab": {}
      },
      "source": [
        "plt.figure(figsize = (16,6))\n",
        "plt.plot(test_date,scaled_data_1, label=\"Scrambled Data/Orignal Data\")\n",
        "plt.plot(test_date,y_pred,label=\"Noise Removed\")\n",
        "#plt.plot(dates,scaled_data,label=\"Actual Data\")\n",
        "plt.legend()\n",
        "plt.title(\"Removing Noise\")\n",
        "plt.show()"
      ],
      "execution_count": 0,
      "outputs": []
    },
    {
      "cell_type": "code",
      "metadata": {
        "id": "jDNn2-oT0tmz",
        "colab_type": "code",
        "colab": {}
      },
      "source": [
        "plt.figure(figsize = (18,9))\n",
        "\n",
        "plt.plot(dates,scaled_data,label=\"Raw data\")\n",
        "plt.plot(test_date,y_pred,label=\"Nosie removal estimation\")\n",
        "#plt.plot(test_date,y_test,label=\"actual \")\n",
        "\n",
        "plt.xticks(rotation=90)\n",
        "plt.xlabel('Time Steps',fontsize=18)\n",
        "plt.legend()\n",
        "plt.title(\"Forecasting using CNN\")\n",
        "plt.show()"
      ],
      "execution_count": 0,
      "outputs": []
    },
    {
      "cell_type": "code",
      "metadata": {
        "id": "BqGMnEX202Io",
        "colab_type": "code",
        "colab": {}
      },
      "source": [
        "plt.plot(history.history['loss'])\n",
        "#plt.plot(history.history['val_loss'])\n",
        "plt.title('model loss')\n",
        "plt.ylabel('Mean Square Error')\n",
        "plt.xlabel('epoch')\n",
        "plt.legend(['train', 'test'], loc='upper left')\n",
        "plt.show()"
      ],
      "execution_count": 0,
      "outputs": []
    },
    {
      "cell_type": "code",
      "metadata": {
        "id": "0nr3pRnK7tUA",
        "colab_type": "code",
        "colab": {}
      },
      "source": [
        "t=df2['Time']\n",
        "T1data=df2['DVL2_S']\n",
        "X1=np.array(T1data)\n",
        "y1=df2['DVL2']\n",
        "y1=np.array(y1)\n",
        "import numpy as np"
      ],
      "execution_count": 0,
      "outputs": []
    },
    {
      "cell_type": "code",
      "metadata": {
        "id": "lzHOFo7F-uWn",
        "colab_type": "code",
        "colab": {}
      },
      "source": [
        "def split_sequence(sequence, n_steps):\n",
        "\tX1, z1 = list(), list()\n",
        "\tfor i in range(len(sequence)):\n",
        "\t\t# find the end of this pattern\n",
        "\t\tend_ix = i + n_steps\n",
        "\t\t# check if we are beyond the sequence\n",
        "\t\tif end_ix > len(sequence)-1:\n",
        "\t\t\tbreak\n",
        "\t\t# gather input and output parts of the pattern\n",
        "\t\tseq_x, seq_z1 = sequence[i:end_ix], sequence[end_ix]\n",
        "\t\tX1.append(seq_x)\n",
        "\t\tz1.append(seq_z1)\n",
        "\treturn array(X1), array(z1)"
      ],
      "execution_count": 0,
      "outputs": []
    },
    {
      "cell_type": "code",
      "metadata": {
        "id": "3Dc4onDy-yTw",
        "colab_type": "code",
        "colab": {}
      },
      "source": [
        "scaled_data1=X1"
      ],
      "execution_count": 0,
      "outputs": []
    },
    {
      "cell_type": "code",
      "metadata": {
        "id": "L6ptuHH4-zE4",
        "colab_type": "code",
        "colab": {}
      },
      "source": [
        "# define input sequence\n",
        "raw_seq1 = X1\n",
        "# choose a number of time steps\n",
        "n_steps = 3\n",
        "# split into samples\n",
        "X1, z1 = split_sequence(raw_seq1, n_steps)"
      ],
      "execution_count": 0,
      "outputs": []
    },
    {
      "cell_type": "code",
      "metadata": {
        "id": "RGf8rk5k-5cA",
        "colab_type": "code",
        "colab": {}
      },
      "source": [
        "X1, z1 = split_sequence(raw_seq1, n_steps)\n",
        "# reshape from [samples, timesteps] into [samples, timesteps, features]\n",
        "n_features = 1\n",
        "X1 = X1.reshape((X1.shape[0], X1.shape[1], n_features))"
      ],
      "execution_count": 0,
      "outputs": []
    },
    {
      "cell_type": "code",
      "metadata": {
        "id": "cqtDZ9mbfIlk",
        "colab_type": "code",
        "colab": {}
      },
      "source": [
        "X1.shape"
      ],
      "execution_count": 0,
      "outputs": []
    },
    {
      "cell_type": "code",
      "metadata": {
        "id": "YXLLyLfS--1Z",
        "colab_type": "code",
        "colab": {}
      },
      "source": [
        "Label1=y1"
      ],
      "execution_count": 0,
      "outputs": []
    },
    {
      "cell_type": "code",
      "metadata": {
        "id": "tI-K0eWI_AHb",
        "colab_type": "code",
        "colab": {}
      },
      "source": [
        "# split a univariate sequence into samples\n",
        "def split_sequence(sequence, n_steps):\n",
        "\tLabel1, y_1 = list(), list()\n",
        "\tfor i in range(len(sequence)):\n",
        "\t\t# find the end of this pattern\n",
        "\t\tend_ix = i + n_steps\n",
        "\t\t# check if we are beyond the sequence\n",
        "\t\tif end_ix > len(sequence)-1:\n",
        "\t\t\tbreak\n",
        "\t\t# gather input and output parts of the pattern\n",
        "\t\tseq_x, seq_y = sequence[i:end_ix], sequence[end_ix]\n",
        "\t\tLabel1.append(seq_x)\n",
        "\t\ty_1.append(seq_y)\n",
        "\treturn array(Label1), array(y_1)"
      ],
      "execution_count": 0,
      "outputs": []
    },
    {
      "cell_type": "code",
      "metadata": {
        "id": "5eLv-6-hfQMA",
        "colab_type": "code",
        "colab": {}
      },
      "source": [
        "y_1.shape"
      ],
      "execution_count": 0,
      "outputs": []
    },
    {
      "cell_type": "code",
      "metadata": {
        "id": "4xyHXnRy_AGC",
        "colab_type": "code",
        "colab": {}
      },
      "source": [
        "raw_seq1 = Label1\n",
        "# choose a number of time steps\n",
        "n_steps = 3\n",
        "# split into samples\n",
        "Label1, y_1 = split_sequence(raw_seq1, n_steps)\n",
        "# reshape from [samples, timesteps] into [samples, timesteps, features]\n",
        "n_features = 1\n",
        "Label1 = Label1.reshape((Label1.shape[0], Label1.shape[1], n_features))"
      ],
      "execution_count": 0,
      "outputs": []
    },
    {
      "cell_type": "code",
      "metadata": {
        "id": "1zK3N38W_AEA",
        "colab_type": "code",
        "colab": {}
      },
      "source": [
        "X_train1  = np.array(X1[:75000])\n",
        "y_train1 = np.array(y_1[:75000])\n",
        "\n",
        "X_test1 = np.array(X1[-50000:])\n",
        "y_test1 = np.array(y_1[-50000:])"
      ],
      "execution_count": 0,
      "outputs": []
    },
    {
      "cell_type": "code",
      "metadata": {
        "id": "8Yoztexn-__n",
        "colab_type": "code",
        "colab": {}
      },
      "source": [
        "\n",
        "print(\"X_train size: {}\".format(X_train1.shape))\n",
        "print(\"y_train size: {}\".format(y_train1.shape))\n",
        "print(\"X_test size: {}\".format(X_test1.shape))\n",
        "print(\"y_test size: {}\".format(y_test1.shape))"
      ],
      "execution_count": 0,
      "outputs": []
    },
    {
      "cell_type": "code",
      "metadata": {
        "id": "Iqk09up3-_-Q",
        "colab_type": "code",
        "colab": {}
      },
      "source": [
        "\n",
        "dates = df2['Time']\n",
        "train_date = dates[:75000]\n",
        "test_date = dates[-50000:]"
      ],
      "execution_count": 0,
      "outputs": []
    },
    {
      "cell_type": "code",
      "metadata": {
        "id": "RIs9POAs-_50",
        "colab_type": "code",
        "colab": {}
      },
      "source": [
        "X1 = X_train1\n",
        "y1 = y_train1"
      ],
      "execution_count": 0,
      "outputs": []
    },
    {
      "cell_type": "code",
      "metadata": {
        "id": "i467WKx1-_4a",
        "colab_type": "code",
        "colab": {}
      },
      "source": [
        "model = Sequential()\n",
        "model.add(Conv1D(filters=64, kernel_size=2, activation='relu', input_shape=(n_steps, n_features)))\n",
        "model.add(Conv1D(filters=64, kernel_size=2,padding='same', activation='relu'))\n",
        "model.add(Conv1D(filters=64, kernel_size=2,padding='same', activation='relu'))\n",
        "model.add(Conv1D(filters=64, kernel_size=2,padding='same', activation='relu'))\n",
        "model.add(Conv1D(filters=64, kernel_size=2,padding='same', activation='relu'))\n",
        "model.add(Conv1D(filters=64, kernel_size=2,padding='same', activation='relu'))\n",
        "model.add(Conv1D(filters=64, kernel_size=2,padding='same', activation='relu'))\n",
        "model.add(Conv1D(filters=64, kernel_size=2,padding='same', activation='relu'))\n",
        "model.add(Conv1D(filters=64, kernel_size=2,padding='same', activation='relu'))\n",
        "model.add(Conv1D(filters=64, kernel_size=2,padding='same', activation='relu'))\n",
        "model.add(Conv1D(filters=64, kernel_size=2,padding='same', activation='relu'))\n",
        "model.add(Conv1D(filters=64, kernel_size=2,padding='same', activation='relu'))\n",
        "model.add(MaxPooling1D(pool_size=2))\n",
        "model.add(Flatten())\n",
        "model.add(Dense(50, activation='relu'))\n",
        "model.add(Dense(1))\n",
        "model.compile(optimizer='adam', loss='mse', metrics=['accuracy'])"
      ],
      "execution_count": 0,
      "outputs": []
    },
    {
      "cell_type": "code",
      "metadata": {
        "id": "t266bpJlQsfN",
        "colab_type": "code",
        "colab": {}
      },
      "source": [
        "model.summary()"
      ],
      "execution_count": 0,
      "outputs": []
    },
    {
      "cell_type": "code",
      "metadata": {
        "id": "SisIfQX3-_0G",
        "colab_type": "code",
        "colab": {}
      },
      "source": [
        "history=model.fit(X1, y1, epochs=1, verbose=0)"
      ],
      "execution_count": 0,
      "outputs": []
    },
    {
      "cell_type": "code",
      "metadata": {
        "id": "cBcW-OIb-_x6",
        "colab_type": "code",
        "colab": {}
      },
      "source": [
        "#Prediction \n",
        "# demonstrate prediction\n",
        "import math\n",
        "y_pred1=[]\n",
        "for i in X_test1:\n",
        "    \n",
        "    x_input = i\n",
        "    x_input = x_input.reshape((1, n_steps, n_features))\n",
        "    yhat = model.predict(x_input, verbose=0)\n",
        "    y_pred1.append(float(yhat[0]))\n",
        "\n",
        "# import numpy as np\n",
        "# yp = list(np.around(np.array(y_pred),1))\n",
        "# yt = list(np.around((y_test),1))\n",
        "    \n",
        "# y_pred = [ '%.1f' % elem for elem in y_pred ]\n",
        "# y_test = [ '%.1f' % elem for elem in y_pred ]"
      ],
      "execution_count": 0,
      "outputs": []
    },
    {
      "cell_type": "code",
      "metadata": {
        "id": "Vv4boTbp-_wP",
        "colab_type": "code",
        "colab": {}
      },
      "source": [
        "len(y_pred1)"
      ],
      "execution_count": 0,
      "outputs": []
    },
    {
      "cell_type": "code",
      "metadata": {
        "id": "HWggyZry-_sC",
        "colab_type": "code",
        "colab": {}
      },
      "source": [
        "plt.figure(figsize = (16,6))\n",
        "plt.plot(test_date,y_pred1,label=\"Noise Removed\")\n",
        "#plt.plot(dates,scaled_data,label=\"Actual Data\")\n",
        "plt.legend()\n",
        "plt.show()"
      ],
      "execution_count": 0,
      "outputs": []
    },
    {
      "cell_type": "code",
      "metadata": {
        "id": "oW_ljadW-_oB",
        "colab_type": "code",
        "colab": {}
      },
      "source": [
        "scaled_data1"
      ],
      "execution_count": 0,
      "outputs": []
    },
    {
      "cell_type": "code",
      "metadata": {
        "id": "vZFanpas-_f0",
        "colab_type": "code",
        "colab": {}
      },
      "source": [
        "scaled_data1_1=scaled_data1[-50000:]"
      ],
      "execution_count": 0,
      "outputs": []
    },
    {
      "cell_type": "code",
      "metadata": {
        "id": "RKAD2mdk_4If",
        "colab_type": "code",
        "colab": {}
      },
      "source": [
        "plt.figure(figsize = (16,6))\n",
        "plt.plot(test_date,scaled_data1_1, label=\"Scrambled Data/Orignal Data\")\n",
        "plt.plot(test_date,y_pred1,label=\"Noise Removed\")\n",
        "#plt.plot(dates,scaled_data,label=\"Actual Data\")\n",
        "plt.legend()\n",
        "plt.title(\"Removing Noise\")\n",
        "plt.show()"
      ],
      "execution_count": 0,
      "outputs": []
    },
    {
      "cell_type": "code",
      "metadata": {
        "id": "HdBALoI6_4Gt",
        "colab_type": "code",
        "colab": {}
      },
      "source": [
        "plt.figure(figsize = (18,9))\n",
        "\n",
        "plt.plot(dates,scaled_data1,label=\"Training\")\n",
        "plt.plot(test_date,y_pred1,label=\"Testing\")\n",
        "#plt.plot(test_date,y_test,label=\"actual \")\n",
        "\n",
        "plt.xticks(rotation=90)\n",
        "plt.xlabel('Time Steps',fontsize=18)\n",
        "plt.legend()\n",
        "plt.title(\"Forecasting using CNN\")\n",
        "plt.show()"
      ],
      "execution_count": 0,
      "outputs": []
    },
    {
      "cell_type": "code",
      "metadata": {
        "id": "yfhrUxk2_4B5",
        "colab_type": "code",
        "colab": {}
      },
      "source": [
        "t=df2['Time']\n",
        "T12data=df2['DVL3_S']\n",
        "X12=np.array(T12data)\n",
        "y12=df2['DVL3']\n",
        "y12=np.array(y12)\n",
        "import numpy as np"
      ],
      "execution_count": 0,
      "outputs": []
    },
    {
      "cell_type": "code",
      "metadata": {
        "id": "ZYthjKvO_3_z",
        "colab_type": "code",
        "colab": {}
      },
      "source": [
        "def split_sequence(sequence, n_steps):\n",
        "\tX12, z12 = list(), list()\n",
        "\tfor i in range(len(sequence)):\n",
        "\t\t# find the end of this pattern\n",
        "\t\tend_ix = i + n_steps\n",
        "\t\t# check if we are beyond the sequence\n",
        "\t\tif end_ix > len(sequence)-1:\n",
        "\t\t\tbreak\n",
        "\t\t# gather input and output parts of the pattern\n",
        "\t\tseq_x, seq_z1 = sequence[i:end_ix], sequence[end_ix]\n",
        "\t\tX12.append(seq_x)\n",
        "\t\tz12.append(seq_z1)\n",
        "\treturn array(X12), array(z12)"
      ],
      "execution_count": 0,
      "outputs": []
    },
    {
      "cell_type": "code",
      "metadata": {
        "id": "V7hJ6MQdAizQ",
        "colab_type": "code",
        "colab": {}
      },
      "source": [
        "scaled_data12=X12"
      ],
      "execution_count": 0,
      "outputs": []
    },
    {
      "cell_type": "code",
      "metadata": {
        "id": "LiMHqfVgAixt",
        "colab_type": "code",
        "colab": {}
      },
      "source": [
        "# define input sequence\n",
        "raw_seq12 = X12\n",
        "# choose a number of time steps\n",
        "n_steps = 3\n",
        "# split into samples\n",
        "X12, z12 = split_sequence(raw_seq12, n_steps)"
      ],
      "execution_count": 0,
      "outputs": []
    },
    {
      "cell_type": "code",
      "metadata": {
        "id": "u7TGlVm_AiwR",
        "colab_type": "code",
        "colab": {}
      },
      "source": [
        "X12, z12 = split_sequence(raw_seq12, n_steps)\n",
        "# reshape from [samples, timesteps] into [samples, timesteps, features]\n",
        "n_features = 1\n",
        "X12 = X12.reshape((X12.shape[0], X12.shape[1], n_features))"
      ],
      "execution_count": 0,
      "outputs": []
    },
    {
      "cell_type": "code",
      "metadata": {
        "id": "zRoExvB8Aiut",
        "colab_type": "code",
        "colab": {}
      },
      "source": [
        "Label12=y12"
      ],
      "execution_count": 0,
      "outputs": []
    },
    {
      "cell_type": "code",
      "metadata": {
        "id": "b_J2myrPAimc",
        "colab_type": "code",
        "colab": {}
      },
      "source": [
        "# split a univariate sequence into samples\n",
        "def split_sequence(sequence, n_steps):\n",
        "\tLabel12, y_12 = list(), list()\n",
        "\tfor i in range(len(sequence)):\n",
        "\t\t# find the end of this pattern\n",
        "\t\tend_ix = i + n_steps\n",
        "\t\t# check if we are beyond the sequence\n",
        "\t\tif end_ix > len(sequence)-1:\n",
        "\t\t\tbreak\n",
        "\t\t# gather input and output parts of the pattern\n",
        "\t\tseq_x, seq_y = sequence[i:end_ix], sequence[end_ix]\n",
        "\t\tLabel12.append(seq_x)\n",
        "\t\ty_12.append(seq_y)\n",
        "\treturn array(Label12), array(y_12)"
      ],
      "execution_count": 0,
      "outputs": []
    },
    {
      "cell_type": "code",
      "metadata": {
        "id": "7KM3QkUbAij6",
        "colab_type": "code",
        "colab": {}
      },
      "source": [
        "raw_seq12 = Label12\n",
        "# choose a number of time steps\n",
        "n_steps = 3\n",
        "# split into samples\n",
        "Label12, y_12 = split_sequence(raw_seq12, n_steps)\n",
        "# reshape from [samples, timesteps] into [samples, timesteps, features]\n",
        "n_features = 1\n",
        "Label12 = Label12.reshape((Label12.shape[0], Label12.shape[1], n_features))"
      ],
      "execution_count": 0,
      "outputs": []
    },
    {
      "cell_type": "code",
      "metadata": {
        "id": "KzUFejXeAihW",
        "colab_type": "code",
        "colab": {}
      },
      "source": [
        "X_train12  = np.array(X12[:75000])\n",
        "y_train12 = np.array(y_12[:75000])\n",
        "\n",
        "X_test12 = np.array(X12[-50000:])\n",
        "y_test12 = np.array(y_12[-50000:])"
      ],
      "execution_count": 0,
      "outputs": []
    },
    {
      "cell_type": "code",
      "metadata": {
        "id": "tQ02IYqjAif0",
        "colab_type": "code",
        "colab": {}
      },
      "source": [
        "print(\"X_train2 size: {}\".format(X_train12.shape))\n",
        "print(\"y_train2 size: {}\".format(y_train12.shape))\n",
        "print(\"X_test2 size: {}\".format(X_test12.shape))\n",
        "print(\"y_test2 size: {}\".format(y_test12.shape))"
      ],
      "execution_count": 0,
      "outputs": []
    },
    {
      "cell_type": "code",
      "metadata": {
        "id": "VevGUWIzAieO",
        "colab_type": "code",
        "colab": {}
      },
      "source": [
        "dates = df2['Time']\n",
        "train_date = dates[:75000]\n",
        "test_date = dates[-50000:]"
      ],
      "execution_count": 0,
      "outputs": []
    },
    {
      "cell_type": "code",
      "metadata": {
        "id": "DresOwT8AiYz",
        "colab_type": "code",
        "colab": {}
      },
      "source": [
        "X2 = X_train12\n",
        "y2 = y_train12"
      ],
      "execution_count": 0,
      "outputs": []
    },
    {
      "cell_type": "code",
      "metadata": {
        "id": "ZzDAi3htAiWb",
        "colab_type": "code",
        "colab": {}
      },
      "source": [
        "model = Sequential()\n",
        "model.add(Conv1D(filters=64, kernel_size=2, activation='relu', input_shape=(n_steps, n_features)))\n",
        "model.add(Conv1D(filters=64, kernel_size=2,padding='same', activation='relu'))\n",
        "model.add(Conv1D(filters=64, kernel_size=2,padding='same', activation='relu'))\n",
        "model.add(Conv1D(filters=64, kernel_size=2,padding='same', activation='relu'))\n",
        "model.add(Conv1D(filters=64, kernel_size=2,padding='same', activation='relu'))\n",
        "model.add(Conv1D(filters=64, kernel_size=2,padding='same', activation='relu'))\n",
        "model.add(Conv1D(filters=64, kernel_size=2,padding='same', activation='relu'))\n",
        "model.add(Conv1D(filters=64, kernel_size=2,padding='same', activation='relu'))\n",
        "model.add(Conv1D(filters=64, kernel_size=2,padding='same', activation='relu'))\n",
        "model.add(Conv1D(filters=64, kernel_size=2,padding='same', activation='relu'))\n",
        "model.add(Conv1D(filters=64, kernel_size=2,padding='same', activation='relu'))\n",
        "model.add(Conv1D(filters=64, kernel_size=2,padding='same', activation='relu'))\n",
        "model.add(MaxPooling1D(pool_size=2))\n",
        "model.add(Flatten())\n",
        "model.add(Dense(50, activation='relu'))\n",
        "model.add(Dense(1))\n",
        "model.compile(optimizer='adam', loss='mse', metrics=['accuracy'])"
      ],
      "execution_count": 0,
      "outputs": []
    },
    {
      "cell_type": "code",
      "metadata": {
        "id": "0W2Hvbt0AiUk",
        "colab_type": "code",
        "colab": {}
      },
      "source": [
        "history=model.fit(X2, y2, epochs=1, verbose=0)"
      ],
      "execution_count": 0,
      "outputs": []
    },
    {
      "cell_type": "code",
      "metadata": {
        "id": "4id6zb23AiSr",
        "colab_type": "code",
        "colab": {}
      },
      "source": [
        "#Prediction \n",
        "# demonstrate prediction\n",
        "import math\n",
        "y_pred2=[]\n",
        "for i in X_test12:\n",
        "    \n",
        "    x_input = i\n",
        "    x_input = x_input.reshape((1, n_steps, n_features))\n",
        "    yhat = model.predict(x_input, verbose=0)\n",
        "    y_pred2.append(float(yhat[0]))\n",
        "\n",
        "# import numpy as np\n",
        "# yp = list(np.around(np.array(y_pred),1))\n",
        "# yt = list(np.around((y_test),1))\n",
        "    \n",
        "# y_pred = [ '%.1f' % elem for elem in y_pred ]\n",
        "# y_test = [ '%.1f' % elem for elem in y_pred ]"
      ],
      "execution_count": 0,
      "outputs": []
    },
    {
      "cell_type": "code",
      "metadata": {
        "id": "4aT8MVKRAiRG",
        "colab_type": "code",
        "colab": {}
      },
      "source": [
        "len(y_pred2)"
      ],
      "execution_count": 0,
      "outputs": []
    },
    {
      "cell_type": "code",
      "metadata": {
        "id": "wDsQI-B4AiPW",
        "colab_type": "code",
        "colab": {}
      },
      "source": [
        "len(y_test12)"
      ],
      "execution_count": 0,
      "outputs": []
    },
    {
      "cell_type": "code",
      "metadata": {
        "id": "vBaG64vkAiNj",
        "colab_type": "code",
        "colab": {}
      },
      "source": [
        "plt.figure(figsize = (16,6))\n",
        "plt.plot(test_date,y_pred2,label=\"Noise Removed\")\n",
        "#plt.plot(dates,scaled_data,label=\"Actual Data\")\n",
        "plt.legend()\n",
        "plt.show()"
      ],
      "execution_count": 0,
      "outputs": []
    },
    {
      "cell_type": "code",
      "metadata": {
        "id": "FAGdaUREAiII",
        "colab_type": "code",
        "colab": {}
      },
      "source": [
        "scaled_data12"
      ],
      "execution_count": 0,
      "outputs": []
    },
    {
      "cell_type": "code",
      "metadata": {
        "id": "i3sm0ioFAiGh",
        "colab_type": "code",
        "colab": {}
      },
      "source": [
        "scaled_data1_2=scaled_data12[-50000:]"
      ],
      "execution_count": 0,
      "outputs": []
    },
    {
      "cell_type": "code",
      "metadata": {
        "id": "0ZqNDEe5AiEy",
        "colab_type": "code",
        "colab": {}
      },
      "source": [
        "plt.figure(figsize = (16,6))\n",
        "plt.plot(test_date,scaled_data1_2, label=\"Scrambled Data/Orignal Data\")\n",
        "plt.plot(test_date,y_pred2,label=\"Noise Removed\")\n",
        "#plt.plot(dates,scaled_data,label=\"Actual Data\")\n",
        "plt.legend()\n",
        "plt.title(\"Removing Noise\")\n",
        "plt.show()"
      ],
      "execution_count": 0,
      "outputs": []
    },
    {
      "cell_type": "code",
      "metadata": {
        "id": "pU3prMLyAiDI",
        "colab_type": "code",
        "colab": {}
      },
      "source": [
        "plt.figure(figsize = (18,9))\n",
        "\n",
        "plt.plot(dates,scaled_data12,label=\"Training\")\n",
        "plt.plot(test_date,y_pred2,label=\"Testing\")\n",
        "#plt.plot(test_date,y_test,label=\"actual \")\n",
        "\n",
        "plt.xticks(rotation=90)\n",
        "plt.xlabel('Time Steps',fontsize=18)\n",
        "plt.legend()\n",
        "plt.title(\"Forecasting using CNN\")\n",
        "plt.show()"
      ],
      "execution_count": 0,
      "outputs": []
    },
    {
      "cell_type": "code",
      "metadata": {
        "id": "3FSARalQAh-Z",
        "colab_type": "code",
        "colab": {}
      },
      "source": [
        "t=df2['Time']\n",
        "T13data=df2['DVL4_S']\n",
        "X13=np.array(T13data)\n",
        "y13=df2['DVL4']\n",
        "y13=np.array(y13)\n",
        "import numpy as np"
      ],
      "execution_count": 0,
      "outputs": []
    },
    {
      "cell_type": "code",
      "metadata": {
        "id": "oIiPU2B9_385",
        "colab_type": "code",
        "colab": {}
      },
      "source": [
        "def split_sequence(sequence, n_steps):\n",
        "\tX13, z13 = list(), list()\n",
        "\tfor i in range(len(sequence)):\n",
        "\t\t# find the end of this pattern\n",
        "\t\tend_ix = i + n_steps\n",
        "\t\t# check if we are beyond the sequence\n",
        "\t\tif end_ix > len(sequence)-1:\n",
        "\t\t\tbreak\n",
        "\t\t# gather input and output parts of the pattern\n",
        "\t\tseq_x, seq_z12 = sequence[i:end_ix], sequence[end_ix]\n",
        "\t\tX13.append(seq_x)\n",
        "\t\tz13.append(seq_z12)\n",
        "\treturn array(X13), array(z13)"
      ],
      "execution_count": 0,
      "outputs": []
    },
    {
      "cell_type": "code",
      "metadata": {
        "id": "zLl8vPZBBoW-",
        "colab_type": "code",
        "colab": {}
      },
      "source": [
        "scaled_data13=X13"
      ],
      "execution_count": 0,
      "outputs": []
    },
    {
      "cell_type": "code",
      "metadata": {
        "id": "tXoBLtPFBoVV",
        "colab_type": "code",
        "colab": {}
      },
      "source": [
        "# define input sequence\n",
        "raw_seq13 = X13\n",
        "# choose a number of time steps\n",
        "n_steps = 3\n",
        "# split into samples\n",
        "X13, z13 = split_sequence(raw_seq13, n_steps)"
      ],
      "execution_count": 0,
      "outputs": []
    },
    {
      "cell_type": "code",
      "metadata": {
        "id": "iuzK6r0KBoTv",
        "colab_type": "code",
        "colab": {}
      },
      "source": [
        "X13, z13 = split_sequence(raw_seq13, n_steps)\n",
        "# reshape from [samples, timesteps] into [samples, timesteps, features]\n",
        "n_features = 1\n",
        "X13 = X13.reshape((X13.shape[0], X13.shape[1], n_features))"
      ],
      "execution_count": 0,
      "outputs": []
    },
    {
      "cell_type": "code",
      "metadata": {
        "id": "AS8pf_lLBoR9",
        "colab_type": "code",
        "colab": {}
      },
      "source": [
        "Label13=y13"
      ],
      "execution_count": 0,
      "outputs": []
    },
    {
      "cell_type": "code",
      "metadata": {
        "id": "KUGS8gcUBoQT",
        "colab_type": "code",
        "colab": {}
      },
      "source": [
        "# split a univariate sequence into samples\n",
        "def split_sequence(sequence, n_steps):\n",
        "\tLabel13, y_13 = list(), list()\n",
        "\tfor i in range(len(sequence)):\n",
        "\t\t# find the end of this pattern\n",
        "\t\tend_ix = i + n_steps\n",
        "\t\t# check if we are beyond the sequence\n",
        "\t\tif end_ix > len(sequence)-1:\n",
        "\t\t\tbreak\n",
        "\t\t# gather input and output parts of the pattern\n",
        "\t\tseq_x, seq_y = sequence[i:end_ix], sequence[end_ix]\n",
        "\t\tLabel13.append(seq_x)\n",
        "\t\ty_13.append(seq_y)\n",
        "\treturn array(Label13), array(y_13)"
      ],
      "execution_count": 0,
      "outputs": []
    },
    {
      "cell_type": "code",
      "metadata": {
        "id": "lAJmYQ9cBoOp",
        "colab_type": "code",
        "colab": {}
      },
      "source": [
        "raw_seq13 = Label13\n",
        "# choose a number of time steps\n",
        "n_steps = 3\n",
        "# split into samples\n",
        "Label13, y_13 = split_sequence(raw_seq13, n_steps)\n",
        "# reshape from [samples, timesteps] into [samples, timesteps, features]\n",
        "n_features = 1\n",
        "Label13 = Label13.reshape((Label13.shape[0], Label13.shape[1], n_features))"
      ],
      "execution_count": 0,
      "outputs": []
    },
    {
      "cell_type": "code",
      "metadata": {
        "id": "Jwd2hSv1BoHB",
        "colab_type": "code",
        "colab": {}
      },
      "source": [
        "y_13"
      ],
      "execution_count": 0,
      "outputs": []
    },
    {
      "cell_type": "code",
      "metadata": {
        "id": "byfIIEcHBoEy",
        "colab_type": "code",
        "colab": {}
      },
      "source": [
        "X_train13  = np.array(X13[:75000])\n",
        "y_train13 = np.array(y_13[:50000])\n",
        "\n",
        "X_test13 = np.array(X13[-75000:])\n",
        "y_test13 = np.array(y_13[-50000:])"
      ],
      "execution_count": 0,
      "outputs": []
    },
    {
      "cell_type": "code",
      "metadata": {
        "id": "SFo5HscwBoCY",
        "colab_type": "code",
        "colab": {}
      },
      "source": [
        "print(\"X_train3 size: {}\".format(X_train13.shape))\n",
        "print(\"y_train3 size: {}\".format(y_train13.shape))\n",
        "print(\"X_test3 size: {}\".format(X_test13.shape))\n",
        "print(\"y_test3 size: {}\".format(y_test13.shape))"
      ],
      "execution_count": 0,
      "outputs": []
    },
    {
      "cell_type": "code",
      "metadata": {
        "id": "KEfoPamSBn8W",
        "colab_type": "code",
        "colab": {}
      },
      "source": [
        "dates = df2['Time']\n",
        "train_date = dates[:75000]\n",
        "test_date = dates[-50000:]"
      ],
      "execution_count": 0,
      "outputs": []
    },
    {
      "cell_type": "code",
      "metadata": {
        "id": "hoaMyi71CG8p",
        "colab_type": "code",
        "colab": {}
      },
      "source": [
        "X3 = X_train13\n",
        "y3 = y_train13"
      ],
      "execution_count": 0,
      "outputs": []
    },
    {
      "cell_type": "code",
      "metadata": {
        "id": "mNj-zn9CCG6d",
        "colab_type": "code",
        "colab": {}
      },
      "source": [
        "model = Sequential()\n",
        "model.add(Conv1D(filters=64, kernel_size=2, activation='relu', input_shape=(n_steps, n_features)))\n",
        "model.add(Conv1D(filters=64, kernel_size=2,padding='same', activation='relu'))\n",
        "model.add(Conv1D(filters=64, kernel_size=2,padding='same', activation='relu'))\n",
        "model.add(Conv1D(filters=64, kernel_size=2,padding='same', activation='relu'))\n",
        "model.add(Conv1D(filters=64, kernel_size=2,padding='same', activation='relu'))\n",
        "model.add(Conv1D(filters=64, kernel_size=2,padding='same', activation='relu'))\n",
        "model.add(Conv1D(filters=64, kernel_size=2,padding='same', activation='relu'))\n",
        "model.add(Conv1D(filters=64, kernel_size=2,padding='same', activation='relu'))\n",
        "model.add(Conv1D(filters=64, kernel_size=2,padding='same', activation='relu'))\n",
        "model.add(Conv1D(filters=64, kernel_size=2,padding='same', activation='relu'))\n",
        "model.add(Conv1D(filters=64, kernel_size=2,padding='same', activation='relu'))\n",
        "model.add(Conv1D(filters=64, kernel_size=2,padding='same', activation='relu'))\n",
        "model.add(MaxPooling1D(pool_size=2))\n",
        "model.add(Flatten())\n",
        "model.add(Dense(50, activation='relu'))\n",
        "model.add(Dense(1))\n",
        "model.compile(optimizer='adam', loss='mse', metrics=['accuracy'])"
      ],
      "execution_count": 0,
      "outputs": []
    },
    {
      "cell_type": "code",
      "metadata": {
        "id": "-kGrLINCCG4O",
        "colab_type": "code",
        "colab": {}
      },
      "source": [
        "history=model.fit(X3, y3, epochs=1, verbose=0)"
      ],
      "execution_count": 0,
      "outputs": []
    },
    {
      "cell_type": "code",
      "metadata": {
        "id": "77ZzlYqqCG2L",
        "colab_type": "code",
        "colab": {}
      },
      "source": [
        "#Prediction \n",
        "# demonstrate prediction\n",
        "import math\n",
        "y_pred3=[]\n",
        "for i in X_test13:\n",
        "    \n",
        "    x_input = i\n",
        "    x_input = x_input.reshape((1, n_steps, n_features))\n",
        "    yhat = model.predict(x_input, verbose=0)\n",
        "    y_pred3.append(float(yhat[0]))\n",
        "\n",
        "# import numpy as np\n",
        "# yp = list(np.around(np.array(y_pred),1))\n",
        "# yt = list(np.around((y_test),1))\n",
        "    \n",
        "# y_pred = [ '%.1f' % elem for elem in y_pred ]\n",
        "# y_test = [ '%.1f' % elem for elem in y_pred ]"
      ],
      "execution_count": 0,
      "outputs": []
    },
    {
      "cell_type": "code",
      "metadata": {
        "id": "30ZRNsAFCGwH",
        "colab_type": "code",
        "colab": {}
      },
      "source": [
        "plt.figure(figsize = (16,6))\n",
        "plt.plot(test_date,y_pred3,label=\"Noise Removed\")\n",
        "#plt.plot(dates,scaled_data,label=\"Actual Data\")\n",
        "plt.legend()\n",
        "plt.show()"
      ],
      "execution_count": 0,
      "outputs": []
    },
    {
      "cell_type": "code",
      "metadata": {
        "id": "y_wcJyM3CGt0",
        "colab_type": "code",
        "colab": {}
      },
      "source": [
        "scaled_data13"
      ],
      "execution_count": 0,
      "outputs": []
    },
    {
      "cell_type": "code",
      "metadata": {
        "id": "DYKmVYVECQhW",
        "colab_type": "code",
        "colab": {}
      },
      "source": [
        "scaled_data13_2=scaled_data13[-50000:]"
      ],
      "execution_count": 0,
      "outputs": []
    },
    {
      "cell_type": "code",
      "metadata": {
        "id": "UcQjq8tSCQfn",
        "colab_type": "code",
        "colab": {}
      },
      "source": [
        "plt.figure(figsize = (16,6))\n",
        "plt.plot(test_date,scaled_data13_2, label=\"Scrambled Data/Orignal Data\")\n",
        "plt.plot(test_date,y_pred3,label=\"Noise Removed\")\n",
        "#plt.plot(dates,scaled_data,label=\"Actual Data\")\n",
        "plt.legend()\n",
        "plt.title(\"Removing Noise\")\n",
        "plt.show()"
      ],
      "execution_count": 0,
      "outputs": []
    },
    {
      "cell_type": "code",
      "metadata": {
        "id": "W3F_lG3vCQd0",
        "colab_type": "code",
        "colab": {}
      },
      "source": [
        "plt.figure(figsize = (18,9))\n",
        "\n",
        "plt.plot(dates,scaled_data13,label=\"Training\")\n",
        "plt.plot(test_date,y_pred3,label=\"Testing\")\n",
        "#plt.plot(test_date,y_test,label=\"actual \")\n",
        "\n",
        "plt.xticks(rotation=90)\n",
        "plt.xlabel('Time Steps',fontsize=18)\n",
        "plt.legend()\n",
        "plt.title(\"Forecasting using CNN\")\n",
        "plt.show()"
      ],
      "execution_count": 0,
      "outputs": []
    },
    {
      "cell_type": "code",
      "metadata": {
        "id": "HgSiYIlMCQcE",
        "colab_type": "code",
        "colab": {}
      },
      "source": [
        ""
      ],
      "execution_count": 0,
      "outputs": []
    },
    {
      "cell_type": "code",
      "metadata": {
        "id": "gurHoujbCQV8",
        "colab_type": "code",
        "colab": {}
      },
      "source": [
        ""
      ],
      "execution_count": 0,
      "outputs": []
    }
  ]
}