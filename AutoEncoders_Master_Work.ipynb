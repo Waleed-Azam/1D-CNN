{
  "nbformat": 4,
  "nbformat_minor": 0,
  "metadata": {
    "colab": {
      "name": "AutoEncoders_Master_Work.ipynb",
      "provenance": [],
      "collapsed_sections": [],
      "authorship_tag": "ABX9TyPz2i4vZnmJ+kR6vXzzSQej",
      "include_colab_link": true
    },
    "kernelspec": {
      "name": "python3",
      "display_name": "Python 3"
    },
    "accelerator": "GPU"
  },
  "cells": [
    {
      "cell_type": "markdown",
      "metadata": {
        "id": "view-in-github",
        "colab_type": "text"
      },
      "source": [
        "<a href=\"https://colab.research.google.com/github/Waleed-Azam/1D-CNN/blob/master/AutoEncoders_Master_Work.ipynb\" target=\"_parent\"><img src=\"https://colab.research.google.com/assets/colab-badge.svg\" alt=\"Open In Colab\"/></a>"
      ]
    },
    {
      "cell_type": "code",
      "metadata": {
        "id": "H2x6aCwSE40j",
        "colab_type": "code",
        "colab": {}
      },
      "source": [
        "#Prepare the nice data set\n",
        "from sklearn.model_selection import train_test_split"
      ],
      "execution_count": 30,
      "outputs": []
    },
    {
      "cell_type": "code",
      "metadata": {
        "id": "lx8yjafbE75A",
        "colab_type": "code",
        "colab": {}
      },
      "source": [
        "# univariate cnn example\n",
        "from numpy import array\n",
        "from keras.models import Sequential\n",
        "from keras.layers import Dense\n",
        "from keras.layers import Flatten\n",
        "from keras.layers.convolutional import Conv1D\n",
        "from keras.layers.convolutional import MaxPooling1D"
      ],
      "execution_count": 31,
      "outputs": []
    },
    {
      "cell_type": "code",
      "metadata": {
        "id": "0A5wWcd1E9JB",
        "colab_type": "code",
        "colab": {}
      },
      "source": [
        "!pip install -U -q PyDrive\n",
        "from pydrive.auth import GoogleAuth\n",
        "from pydrive.drive import GoogleDrive\n",
        "from google.colab import auth\n",
        "from oauth2client.client import GoogleCredentials\n",
        "import numpy as np \n",
        "import matplotlib.pyplot as plt"
      ],
      "execution_count": 32,
      "outputs": []
    },
    {
      "cell_type": "code",
      "metadata": {
        "id": "LUk2qEogE-fE",
        "colab_type": "code",
        "colab": {}
      },
      "source": [
        "auth.authenticate_user()\n",
        "gauth = GoogleAuth()\n",
        "gauth.credentials = GoogleCredentials.get_application_default()\n",
        "drive = GoogleDrive(gauth)"
      ],
      "execution_count": 33,
      "outputs": []
    },
    {
      "cell_type": "code",
      "metadata": {
        "id": "zTRhOTYSE_7g",
        "colab_type": "code",
        "colab": {}
      },
      "source": [
        "downloaded = drive.CreateFile({'id':'1Bi2fJZw6Vhj7dyP7Ad6qtPsYf5LevEm4'}) # replace the id with id of file you want to access'}) # replace the id with id of file you want to access\n",
        "#https://drive.google.com/file/d/1agv3WTJF7GiaUwWJGDpDQfZwX_nApM-J/view?usp=sharing\n",
        "#https://drive.google.com/file/d/14RfDnc5maSGzxripjhH3Z6B2asdpFbbX/view?usp=sharing\n",
        "#https://drive.google.com/file/d/11eCGs8j8V8bBFZBwT1nNvrGzdrQVmhWE/view?usp=sharing\n",
        "#DVL1______C_8000\n",
        "#https://drive.google.com/file/d/1Bi2fJZw6Vhj7dyP7Ad6qtPsYf5LevEm4/view?usp=sharing"
      ],
      "execution_count": 34,
      "outputs": []
    },
    {
      "cell_type": "code",
      "metadata": {
        "id": "J55mMjnEFFKC",
        "colab_type": "code",
        "colab": {}
      },
      "source": [
        "#Importing all the libraries\n",
        "import numpy as np\n",
        "import numpy as geek \n",
        "from keras.layers import Input, Dense, LSTM, multiply, concatenate, Activation, Masking, Reshape\n",
        "from keras.models import Sequential\n",
        "from keras.models import Model\n",
        "from keras.layers import Input, Dense, LSTM, multiply, concatenate, Activation, Masking, Reshape\n",
        "from keras.layers import BatchNormalization, GlobalAveragePooling1D, Permute, Dropout\n",
        "from keras.layers.convolutional import Conv1D\n",
        "from keras.layers.convolutional import MaxPooling1D\n",
        "from keras.optimizers import RMSprop, Adam\n",
        "from keras.layers import LSTM, Activation \n",
        "from sklearn.preprocessing import MinMaxScaler\n",
        "from keras.models import load_model"
      ],
      "execution_count": 35,
      "outputs": []
    },
    {
      "cell_type": "code",
      "metadata": {
        "id": "ISSWJ8IxFG8z",
        "colab_type": "code",
        "colab": {}
      },
      "source": [
        "downloaded.GetContentFile('Master_thesis_Data.csv')"
      ],
      "execution_count": 36,
      "outputs": []
    },
    {
      "cell_type": "code",
      "metadata": {
        "id": "drQxJNpGFIfi",
        "colab_type": "code",
        "colab": {
          "base_uri": "https://localhost:8080/",
          "height": 402
        },
        "outputId": "e2b983a8-9b1e-43c4-e1ea-22429ef4b204"
      },
      "source": [
        "import pandas as pd\n",
        "df2 = pd.read_csv('Master_thesis_Data.csv') \n",
        "df2=df2.drop(columns=['Unnamed: 13', 'Unnamed: 14'])\n",
        "#Cleaning the data, for mainly removing the NaN value\n",
        "df2[\"Time\"] = df2[\"Time\"].fillna(0)\n",
        "df2[\"DVL1\"] = df2[\"DVL1\"].fillna(0)\n",
        "df2[\"DVL2\"] = df2[\"DVL2\"].fillna(0)\n",
        "df2[\"DVL3\"] = df2[\"DVL3\"].fillna(0)\n",
        "df2[\"DVL4\"] = df2[\"DVL4\"].fillna(0)\n",
        "df2[\"DVL1_S\"] = df2[\"DVL1_S\"].fillna(0)\n",
        "df2[\"DVL2_S\"] = df2[\"DVL2_S\"].fillna(0)\n",
        "df2[\"DVL3_S\"] = df2[\"DVL3_S\"].fillna(0)\n",
        "df2[\"DVL4_S\"] = df2[\"DVL4_S\"].fillna(0)\n",
        "df2"
      ],
      "execution_count": 37,
      "outputs": [
        {
          "output_type": "execute_result",
          "data": {
            "text/html": [
              "<div>\n",
              "<style scoped>\n",
              "    .dataframe tbody tr th:only-of-type {\n",
              "        vertical-align: middle;\n",
              "    }\n",
              "\n",
              "    .dataframe tbody tr th {\n",
              "        vertical-align: top;\n",
              "    }\n",
              "\n",
              "    .dataframe thead th {\n",
              "        text-align: right;\n",
              "    }\n",
              "</style>\n",
              "<table border=\"1\" class=\"dataframe\">\n",
              "  <thead>\n",
              "    <tr style=\"text-align: right;\">\n",
              "      <th></th>\n",
              "      <th>Time</th>\n",
              "      <th>DVL1_S</th>\n",
              "      <th>DVL2_S</th>\n",
              "      <th>DVL3_S</th>\n",
              "      <th>DVL4_S</th>\n",
              "      <th>DVL1</th>\n",
              "      <th>DVL2</th>\n",
              "      <th>DVL3</th>\n",
              "      <th>DVL4</th>\n",
              "      <th>ROV6DOF</th>\n",
              "      <th>ROV6DOF.1</th>\n",
              "      <th>ROV6DOF.2</th>\n",
              "      <th>AutoHeading</th>\n",
              "    </tr>\n",
              "  </thead>\n",
              "  <tbody>\n",
              "    <tr>\n",
              "      <th>0</th>\n",
              "      <td>0.0</td>\n",
              "      <td>0.000000</td>\n",
              "      <td>0.0</td>\n",
              "      <td>0.000000</td>\n",
              "      <td>0.000000</td>\n",
              "      <td>0.000000</td>\n",
              "      <td>0.000000</td>\n",
              "      <td>0.000000</td>\n",
              "      <td>0.000000</td>\n",
              "      <td>0.000000</td>\n",
              "      <td>0.000000</td>\n",
              "      <td>0.0000</td>\n",
              "      <td>0.0000</td>\n",
              "    </tr>\n",
              "    <tr>\n",
              "      <th>1</th>\n",
              "      <td>0.0</td>\n",
              "      <td>20.000000</td>\n",
              "      <td>20.0</td>\n",
              "      <td>20.000000</td>\n",
              "      <td>20.000000</td>\n",
              "      <td>20.000000</td>\n",
              "      <td>20.000000</td>\n",
              "      <td>20.000000</td>\n",
              "      <td>20.000000</td>\n",
              "      <td>0.000000</td>\n",
              "      <td>0.000000</td>\n",
              "      <td>0.0000</td>\n",
              "      <td>0.0000</td>\n",
              "    </tr>\n",
              "    <tr>\n",
              "      <th>2</th>\n",
              "      <td>0.1</td>\n",
              "      <td>20.000000</td>\n",
              "      <td>20.0</td>\n",
              "      <td>20.000000</td>\n",
              "      <td>20.000000</td>\n",
              "      <td>20.000000</td>\n",
              "      <td>20.000000</td>\n",
              "      <td>20.000000</td>\n",
              "      <td>20.000000</td>\n",
              "      <td>0.000000</td>\n",
              "      <td>0.000000</td>\n",
              "      <td>0.0000</td>\n",
              "      <td>0.0000</td>\n",
              "    </tr>\n",
              "    <tr>\n",
              "      <th>3</th>\n",
              "      <td>0.2</td>\n",
              "      <td>20.000000</td>\n",
              "      <td>20.0</td>\n",
              "      <td>20.000000</td>\n",
              "      <td>20.000000</td>\n",
              "      <td>20.000000</td>\n",
              "      <td>20.000000</td>\n",
              "      <td>20.000000</td>\n",
              "      <td>20.000000</td>\n",
              "      <td>0.000000</td>\n",
              "      <td>0.000000</td>\n",
              "      <td>0.0000</td>\n",
              "      <td>0.0000</td>\n",
              "    </tr>\n",
              "    <tr>\n",
              "      <th>4</th>\n",
              "      <td>0.3</td>\n",
              "      <td>20.000000</td>\n",
              "      <td>20.0</td>\n",
              "      <td>20.000000</td>\n",
              "      <td>20.000000</td>\n",
              "      <td>20.000000</td>\n",
              "      <td>20.000000</td>\n",
              "      <td>20.000000</td>\n",
              "      <td>20.000000</td>\n",
              "      <td>0.000000</td>\n",
              "      <td>0.000000</td>\n",
              "      <td>0.0000</td>\n",
              "      <td>0.0000</td>\n",
              "    </tr>\n",
              "    <tr>\n",
              "      <th>...</th>\n",
              "      <td>...</td>\n",
              "      <td>...</td>\n",
              "      <td>...</td>\n",
              "      <td>...</td>\n",
              "      <td>...</td>\n",
              "      <td>...</td>\n",
              "      <td>...</td>\n",
              "      <td>...</td>\n",
              "      <td>...</td>\n",
              "      <td>...</td>\n",
              "      <td>...</td>\n",
              "      <td>...</td>\n",
              "      <td>...</td>\n",
              "    </tr>\n",
              "    <tr>\n",
              "      <th>84986</th>\n",
              "      <td>8498.5</td>\n",
              "      <td>2.692643</td>\n",
              "      <td>1.8</td>\n",
              "      <td>2.620548</td>\n",
              "      <td>2.615895</td>\n",
              "      <td>2.692643</td>\n",
              "      <td>2.628101</td>\n",
              "      <td>2.620548</td>\n",
              "      <td>2.615895</td>\n",
              "      <td>0.000980</td>\n",
              "      <td>-0.000342</td>\n",
              "      <td>0.0110</td>\n",
              "      <td>0.0646</td>\n",
              "    </tr>\n",
              "    <tr>\n",
              "      <th>84987</th>\n",
              "      <td>8498.6</td>\n",
              "      <td>2.692682</td>\n",
              "      <td>1.8</td>\n",
              "      <td>2.620243</td>\n",
              "      <td>2.615925</td>\n",
              "      <td>2.692682</td>\n",
              "      <td>2.629319</td>\n",
              "      <td>2.620243</td>\n",
              "      <td>2.615925</td>\n",
              "      <td>0.000990</td>\n",
              "      <td>-0.000342</td>\n",
              "      <td>0.0230</td>\n",
              "      <td>0.0643</td>\n",
              "    </tr>\n",
              "    <tr>\n",
              "      <th>84988</th>\n",
              "      <td>8498.7</td>\n",
              "      <td>2.692715</td>\n",
              "      <td>1.8</td>\n",
              "      <td>2.619866</td>\n",
              "      <td>2.615951</td>\n",
              "      <td>2.692715</td>\n",
              "      <td>2.630637</td>\n",
              "      <td>2.619866</td>\n",
              "      <td>2.615951</td>\n",
              "      <td>0.001010</td>\n",
              "      <td>-0.000342</td>\n",
              "      <td>0.0392</td>\n",
              "      <td>0.0641</td>\n",
              "    </tr>\n",
              "    <tr>\n",
              "      <th>84989</th>\n",
              "      <td>8498.8</td>\n",
              "      <td>2.692740</td>\n",
              "      <td>1.8</td>\n",
              "      <td>2.619450</td>\n",
              "      <td>2.615970</td>\n",
              "      <td>2.692740</td>\n",
              "      <td>2.631916</td>\n",
              "      <td>2.619450</td>\n",
              "      <td>2.615970</td>\n",
              "      <td>0.001040</td>\n",
              "      <td>-0.000342</td>\n",
              "      <td>0.0595</td>\n",
              "      <td>0.0632</td>\n",
              "    </tr>\n",
              "    <tr>\n",
              "      <th>84990</th>\n",
              "      <td>8498.9</td>\n",
              "      <td>2.692755</td>\n",
              "      <td>1.8</td>\n",
              "      <td>2.618994</td>\n",
              "      <td>2.615983</td>\n",
              "      <td>2.692755</td>\n",
              "      <td>2.633157</td>\n",
              "      <td>2.618994</td>\n",
              "      <td>2.615983</td>\n",
              "      <td>-0.000342</td>\n",
              "      <td>-0.000343</td>\n",
              "      <td>0.0835</td>\n",
              "      <td>0.0630</td>\n",
              "    </tr>\n",
              "  </tbody>\n",
              "</table>\n",
              "<p>84991 rows × 13 columns</p>\n",
              "</div>"
            ],
            "text/plain": [
              "         Time     DVL1_S  DVL2_S  ...  ROV6DOF.1  ROV6DOF.2  AutoHeading\n",
              "0         0.0   0.000000     0.0  ...   0.000000     0.0000       0.0000\n",
              "1         0.0  20.000000    20.0  ...   0.000000     0.0000       0.0000\n",
              "2         0.1  20.000000    20.0  ...   0.000000     0.0000       0.0000\n",
              "3         0.2  20.000000    20.0  ...   0.000000     0.0000       0.0000\n",
              "4         0.3  20.000000    20.0  ...   0.000000     0.0000       0.0000\n",
              "...       ...        ...     ...  ...        ...        ...          ...\n",
              "84986  8498.5   2.692643     1.8  ...  -0.000342     0.0110       0.0646\n",
              "84987  8498.6   2.692682     1.8  ...  -0.000342     0.0230       0.0643\n",
              "84988  8498.7   2.692715     1.8  ...  -0.000342     0.0392       0.0641\n",
              "84989  8498.8   2.692740     1.8  ...  -0.000342     0.0595       0.0632\n",
              "84990  8498.9   2.692755     1.8  ...  -0.000343     0.0835       0.0630\n",
              "\n",
              "[84991 rows x 13 columns]"
            ]
          },
          "metadata": {
            "tags": []
          },
          "execution_count": 37
        }
      ]
    },
    {
      "cell_type": "code",
      "metadata": {
        "id": "82KbMRRJFKFL",
        "colab_type": "code",
        "colab": {}
      },
      "source": [
        "t=df2['Time']\n",
        "Tdata=df2['DVL1_S']\n",
        "X1=np.array(Tdata)\n",
        "Tdata2=df2['DVL2_S']\n",
        "X2=np.array(Tdata2)\n",
        "Tdata3=df2['DVL3_S']\n",
        "X3=np.array(Tdata)\n",
        "Tdata4=df2['DVL4_S']\n",
        "X4=np.array(Tdata4)"
      ],
      "execution_count": 38,
      "outputs": []
    },
    {
      "cell_type": "code",
      "metadata": {
        "id": "D4egLAv_FO2Z",
        "colab_type": "code",
        "colab": {}
      },
      "source": [
        "Tdata5=df2['ROV6DOF']\n",
        "X5=np.array(Tdata5)\n",
        "Tdata6=df2['ROV6DOF.1']\n",
        "X6=np.array(Tdata6)\n",
        "Tdata7=df2['ROV6DOF.2']\n",
        "X7=np.array(Tdata7)\n",
        "Tdata8=df2['AutoHeading']\n",
        "X8=np.array(Tdata8)"
      ],
      "execution_count": 39,
      "outputs": []
    },
    {
      "cell_type": "code",
      "metadata": {
        "id": "m5_l2GrCFSRF",
        "colab_type": "code",
        "colab": {
          "base_uri": "https://localhost:8080/",
          "height": 134
        },
        "outputId": "7e9d9c7d-d079-47b3-be5a-170f5c5951db"
      },
      "source": [
        "# Stacking the two arrays along axis 0 \n",
        "out_arr1 = geek.stack((X1, X2, X3,X4), axis = 0) \n",
        "print (\"Output stacked array along axis 0:\\n \", out_arr1) \n",
        "print (\"Output Shape:\\n \", out_arr1.shape) "
      ],
      "execution_count": 40,
      "outputs": [
        {
          "output_type": "stream",
          "text": [
            "Output stacked array along axis 0:\n",
            "  [[ 0.       20.       20.       ...  2.692715  2.69274   2.692755]\n",
            " [ 0.       20.       20.       ...  1.8       1.8       1.8     ]\n",
            " [ 0.       20.       20.       ...  2.692715  2.69274   2.692755]\n",
            " [ 0.       20.       20.       ...  2.615951  2.61597   2.615983]]\n",
            "Output Shape:\n",
            "  (4, 84991)\n"
          ],
          "name": "stdout"
        }
      ]
    },
    {
      "cell_type": "code",
      "metadata": {
        "id": "IBDjeOSmFU07",
        "colab_type": "code",
        "colab": {
          "base_uri": "https://localhost:8080/",
          "height": 34
        },
        "outputId": "7d92ba87-4a96-4464-80cb-8f01deada43a"
      },
      "source": [
        "#Data need to adjust in a way...\n",
        "X= out_arr1\n",
        "X.shape"
      ],
      "execution_count": 41,
      "outputs": [
        {
          "output_type": "execute_result",
          "data": {
            "text/plain": [
              "(4, 84991)"
            ]
          },
          "metadata": {
            "tags": []
          },
          "execution_count": 41
        }
      ]
    },
    {
      "cell_type": "code",
      "metadata": {
        "id": "Y8rUhTiXFXDZ",
        "colab_type": "code",
        "colab": {
          "base_uri": "https://localhost:8080/",
          "height": 34
        },
        "outputId": "7b20978a-99ab-46b5-cc5a-6caf3a4201ce"
      },
      "source": [
        "X.shape"
      ],
      "execution_count": 42,
      "outputs": [
        {
          "output_type": "execute_result",
          "data": {
            "text/plain": [
              "(4, 84991)"
            ]
          },
          "metadata": {
            "tags": []
          },
          "execution_count": 42
        }
      ]
    },
    {
      "cell_type": "code",
      "metadata": {
        "id": "yQ-7IA78FZSK",
        "colab_type": "code",
        "colab": {
          "base_uri": "https://localhost:8080/",
          "height": 34
        },
        "outputId": "e739d17e-33cb-44f0-ae9c-7b30d46e7fc5"
      },
      "source": [
        "N = X.shape[1]\n",
        "M = N//20\n",
        "rem = geek.remainder(X.shape[1],20)\n",
        "X_crop = X[:,:N-rem]\n",
        "X_crop.shape"
      ],
      "execution_count": 43,
      "outputs": [
        {
          "output_type": "execute_result",
          "data": {
            "text/plain": [
              "(4, 84980)"
            ]
          },
          "metadata": {
            "tags": []
          },
          "execution_count": 43
        }
      ]
    },
    {
      "cell_type": "code",
      "metadata": {
        "id": "PKOVFz3sFiJS",
        "colab_type": "code",
        "colab": {}
      },
      "source": [
        "X_split = geek.reshape(X_crop,(4,20,M))"
      ],
      "execution_count": 44,
      "outputs": []
    },
    {
      "cell_type": "code",
      "metadata": {
        "id": "5mHo_1qkFkpI",
        "colab_type": "code",
        "colab": {}
      },
      "source": [
        "X=X_split"
      ],
      "execution_count": 45,
      "outputs": []
    },
    {
      "cell_type": "code",
      "metadata": {
        "id": "11whSmFZFnSy",
        "colab_type": "code",
        "colab": {
          "base_uri": "https://localhost:8080/",
          "height": 34
        },
        "outputId": "f28af8f6-d2a1-487c-a7fb-4c6207c782ce"
      },
      "source": [
        "X.shape"
      ],
      "execution_count": 46,
      "outputs": [
        {
          "output_type": "execute_result",
          "data": {
            "text/plain": [
              "(4, 20, 4249)"
            ]
          },
          "metadata": {
            "tags": []
          },
          "execution_count": 46
        }
      ]
    },
    {
      "cell_type": "code",
      "metadata": {
        "id": "SZev8VfcFpUs",
        "colab_type": "code",
        "colab": {}
      },
      "source": [
        "#Converting the shape of the output...\n",
        "o=df2['DVL1']\n",
        "y1=np.array(o)\n",
        "oo=df2['DVL2']\n",
        "y2=np.array(oo)\n",
        "ooo=df2['DVL3']\n",
        "y3=np.array(ooo)\n",
        "oo2=df2['DVL4']\n",
        "y4=np.array(oo2)\n",
        "#Converting labels in to the matrix to feed in to the NN"
      ],
      "execution_count": 47,
      "outputs": []
    },
    {
      "cell_type": "code",
      "metadata": {
        "id": "QqVOgzczFri6",
        "colab_type": "code",
        "colab": {
          "base_uri": "https://localhost:8080/",
          "height": 134
        },
        "outputId": "c36629cf-768e-40b4-c55a-055c2271f169"
      },
      "source": [
        "# Stacking the two arrays along axis 0 \n",
        "out_lab1 = geek.stack((y1, y2, y3, y4), axis = 0) \n",
        "print (\"Output stacked array along axis 0:\\n \", out_lab1) \n",
        "print (\"Labels Shape 0:\\n \", out_lab1.shape) "
      ],
      "execution_count": 48,
      "outputs": [
        {
          "output_type": "stream",
          "text": [
            "Output stacked array along axis 0:\n",
            "  [[ 0.       20.       20.       ...  2.692715  2.69274   2.692755]\n",
            " [ 0.       20.       20.       ...  2.630637  2.631916  2.633157]\n",
            " [ 0.       20.       20.       ...  2.619866  2.61945   2.618994]\n",
            " [ 0.       20.       20.       ...  2.615951  2.61597   2.615983]]\n",
            "Labels Shape 0:\n",
            "  (4, 84991)\n"
          ],
          "name": "stdout"
        }
      ]
    },
    {
      "cell_type": "code",
      "metadata": {
        "id": "FNYzI8V-Ft8r",
        "colab_type": "code",
        "colab": {}
      },
      "source": [
        "normalized_y = out_lab1"
      ],
      "execution_count": 49,
      "outputs": []
    },
    {
      "cell_type": "code",
      "metadata": {
        "id": "7wlivT8sGfvG",
        "colab_type": "code",
        "colab": {
          "base_uri": "https://localhost:8080/",
          "height": 34
        },
        "outputId": "94f2f031-e810-4839-d1ab-4491260cc29f"
      },
      "source": [
        "y_crop = normalized_y[:,:N-rem]\n",
        "y_split = geek.reshape(y_crop,(4,20,M))\n",
        "y_split.shape\n",
        "y=y_split\n",
        "y.shape"
      ],
      "execution_count": 50,
      "outputs": [
        {
          "output_type": "execute_result",
          "data": {
            "text/plain": [
              "(4, 20, 4249)"
            ]
          },
          "metadata": {
            "tags": []
          },
          "execution_count": 50
        }
      ]
    },
    {
      "cell_type": "code",
      "metadata": {
        "id": "K33oAaJvGhTd",
        "colab_type": "code",
        "colab": {}
      },
      "source": [
        "n_features= 4; n_steps=20"
      ],
      "execution_count": 51,
      "outputs": []
    },
    {
      "cell_type": "code",
      "metadata": {
        "id": "A15LA6CBGjRg",
        "colab_type": "code",
        "colab": {
          "base_uri": "https://localhost:8080/",
          "height": 34
        },
        "outputId": "6f50c3cb-44bb-4c32-b27d-21ff8754526d"
      },
      "source": [
        "#Input Shape\n",
        "X.shape"
      ],
      "execution_count": 52,
      "outputs": [
        {
          "output_type": "execute_result",
          "data": {
            "text/plain": [
              "(4, 20, 4249)"
            ]
          },
          "metadata": {
            "tags": []
          },
          "execution_count": 52
        }
      ]
    },
    {
      "cell_type": "code",
      "metadata": {
        "id": "w85s3QvXGmfw",
        "colab_type": "code",
        "colab": {
          "base_uri": "https://localhost:8080/",
          "height": 34
        },
        "outputId": "9838a018-9485-4c77-ef56-3ecde24f7f54"
      },
      "source": [
        "#Target/Ground Truth Shape\n",
        "y.shape"
      ],
      "execution_count": 53,
      "outputs": [
        {
          "output_type": "execute_result",
          "data": {
            "text/plain": [
              "(4, 20, 4249)"
            ]
          },
          "metadata": {
            "tags": []
          },
          "execution_count": 53
        }
      ]
    },
    {
      "cell_type": "code",
      "metadata": {
        "id": "JGS7OimLJS-1",
        "colab_type": "code",
        "colab": {}
      },
      "source": [
        "#Implementing the encoders for the improving the working system for the order of getting the better resutls\n",
        "input_img= X\n",
        "\n",
        "X = X_split.transpose((2,1,0))\n",
        "y = y_split.transpose((2,1,0))"
      ],
      "execution_count": 54,
      "outputs": []
    },
    {
      "cell_type": "code",
      "metadata": {
        "id": "vqj2tPLvJT7c",
        "colab_type": "code",
        "colab": {
          "base_uri": "https://localhost:8080/",
          "height": 34
        },
        "outputId": "617caf1b-dc6f-4ce9-d833-28e3db5d258e"
      },
      "source": [
        "X.shape"
      ],
      "execution_count": 55,
      "outputs": [
        {
          "output_type": "execute_result",
          "data": {
            "text/plain": [
              "(4249, 20, 4)"
            ]
          },
          "metadata": {
            "tags": []
          },
          "execution_count": 55
        }
      ]
    },
    {
      "cell_type": "code",
      "metadata": {
        "id": "37Y8l7rlJVmE",
        "colab_type": "code",
        "colab": {
          "base_uri": "https://localhost:8080/",
          "height": 34
        },
        "outputId": "54097e9f-30dd-4f58-c4e7-de46aaf9fd47"
      },
      "source": [
        "y.shape"
      ],
      "execution_count": 56,
      "outputs": [
        {
          "output_type": "execute_result",
          "data": {
            "text/plain": [
              "(4249, 20, 4)"
            ]
          },
          "metadata": {
            "tags": []
          },
          "execution_count": 56
        }
      ]
    },
    {
      "cell_type": "code",
      "metadata": {
        "id": "qVMNFlZBI4yx",
        "colab_type": "code",
        "colab": {}
      },
      "source": [
        "X_train, X_test, y_train, y_test= train_test_split(X, y, test_size=0.2, random_state=1)\n",
        "X_train, X_val, y_train, y_val= train_test_split(X_train, y_train, test_size=0.25, random_state=1)"
      ],
      "execution_count": 57,
      "outputs": []
    },
    {
      "cell_type": "code",
      "metadata": {
        "id": "hHufIlNcJLRr",
        "colab_type": "code",
        "colab": {
          "base_uri": "https://localhost:8080/",
          "height": 34
        },
        "outputId": "3d040340-33b2-4d57-b5e3-c9ab98e95c23"
      },
      "source": [
        "X_train.shape"
      ],
      "execution_count": 58,
      "outputs": [
        {
          "output_type": "execute_result",
          "data": {
            "text/plain": [
              "(2549, 20, 4)"
            ]
          },
          "metadata": {
            "tags": []
          },
          "execution_count": 58
        }
      ]
    },
    {
      "cell_type": "code",
      "metadata": {
        "id": "ctXXenMxJuNX",
        "colab_type": "code",
        "colab": {
          "base_uri": "https://localhost:8080/",
          "height": 34
        },
        "outputId": "5474c1d3-2990-435c-d0fd-7c67a348754b"
      },
      "source": [
        "X_val.shape"
      ],
      "execution_count": 59,
      "outputs": [
        {
          "output_type": "execute_result",
          "data": {
            "text/plain": [
              "(850, 20, 4)"
            ]
          },
          "metadata": {
            "tags": []
          },
          "execution_count": 59
        }
      ]
    },
    {
      "cell_type": "code",
      "metadata": {
        "id": "JxYHpwKPJyI_",
        "colab_type": "code",
        "colab": {
          "base_uri": "https://localhost:8080/",
          "height": 34
        },
        "outputId": "3e6022fa-c1ff-419b-d99a-cbb35104c0fe"
      },
      "source": [
        "X_test.shape"
      ],
      "execution_count": 60,
      "outputs": [
        {
          "output_type": "execute_result",
          "data": {
            "text/plain": [
              "(850, 20, 4)"
            ]
          },
          "metadata": {
            "tags": []
          },
          "execution_count": 60
        }
      ]
    },
    {
      "cell_type": "code",
      "metadata": {
        "id": "aO7nAsOpG0tc",
        "colab_type": "code",
        "colab": {
          "base_uri": "https://localhost:8080/",
          "height": 118
        },
        "outputId": "4d7bfd20-5fbc-4ab6-d6ba-0aab60eed83d"
      },
      "source": [
        "print(\"X_train size: {}\".format(X_train.shape))\n",
        "print(\"y_train size: {}\".format(y_train.shape))\n",
        "print(\"X_val size: {}\".format(X_val.shape))\n",
        "print(\"y_val size: {}\".format(y_val.shape))\n",
        "print(\"X_test size: {}\".format(X_test.shape))\n",
        "print(\"y_test size: {}\".format(y_test.shape))"
      ],
      "execution_count": 61,
      "outputs": [
        {
          "output_type": "stream",
          "text": [
            "X_train size: (2549, 20, 4)\n",
            "y_train size: (2549, 20, 4)\n",
            "X_val size: (850, 20, 4)\n",
            "y_val size: (850, 20, 4)\n",
            "X_test size: (850, 20, 4)\n",
            "y_test size: (850, 20, 4)\n"
          ],
          "name": "stdout"
        }
      ]
    },
    {
      "cell_type": "code",
      "metadata": {
        "id": "fQqUeG2nG3Cu",
        "colab_type": "code",
        "colab": {}
      },
      "source": [
        "import numpy as np \n",
        "import matplotlib.pyplot as plt"
      ],
      "execution_count": 62,
      "outputs": []
    },
    {
      "cell_type": "code",
      "metadata": {
        "id": "kj8wuGXeHsyH",
        "colab_type": "code",
        "colab": {}
      },
      "source": [
        "n_steps= 20"
      ],
      "execution_count": 63,
      "outputs": []
    },
    {
      "cell_type": "markdown",
      "metadata": {
        "id": "3QLB7m1KHzmZ",
        "colab_type": "text"
      },
      "source": [
        "**Input**"
      ]
    },
    {
      "cell_type": "code",
      "metadata": {
        "id": "66zjJCbiHvoA",
        "colab_type": "code",
        "colab": {
          "base_uri": "https://localhost:8080/",
          "height": 279
        },
        "outputId": "397da8b8-3fa9-48cd-eed2-6fe2c4991747"
      },
      "source": [
        "ax = plt.gca()\n",
        "#Inputs\n",
        "df2.plot(kind='line',x='Time',y='DVL1_S', color='black', ax=ax)\n",
        "df2.plot(kind='line',x='Time',y='DVL2_S', color='red', ax=ax)\n",
        "df2.plot(kind='line',x='Time',y='DVL3_S', color='green', ax=ax)\n",
        "df2.plot(kind='line',x='Time',y='DVL4_S', color='yellow', ax=ax)\n",
        "\n",
        "plt.show()"
      ],
      "execution_count": 64,
      "outputs": [
        {
          "output_type": "display_data",
          "data": {
            "image/png": "[encoded data removed]",
            "text/plain": [
              "<Figure size 432x288 with 1 Axes>"
            ]
          },
          "metadata": {
            "tags": [],
            "needs_background": "light"
          }
        }
      ]
    },
    {
      "cell_type": "markdown",
      "metadata": {
        "id": "9767TUAaH6EZ",
        "colab_type": "text"
      },
      "source": [
        "**Target**"
      ]
    },
    {
      "cell_type": "code",
      "metadata": {
        "id": "dA6B4QzMH2yp",
        "colab_type": "code",
        "colab": {
          "base_uri": "https://localhost:8080/",
          "height": 279
        },
        "outputId": "c611540c-24a3-40a2-8fda-0b8f93188a0c"
      },
      "source": [
        "ax = plt.gca()\n",
        "#Ground Trth\n",
        "df2.plot(kind='line',x='Time',y='DVL1', color='black', ax=ax)\n",
        "df2.plot(kind='line',x='Time',y='DVL2', color='red', ax=ax)\n",
        "df2.plot(kind='line',x='Time',y='DVL3', color='green', ax=ax)\n",
        "df2.plot(kind='line',x='Time',y='DVL4', color='yellow', ax=ax)\n",
        "\n",
        "plt.show()"
      ],
      "execution_count": 65,
      "outputs": [
        {
          "output_type": "display_data",
          "data": {
            "image/png": "[encoded data removed]",
            "text/plain": [
              "<Figure size 432x288 with 1 Axes>"
            ]
          },
          "metadata": {
            "tags": [],
            "needs_background": "light"
          }
        }
      ]
    },
    {
      "cell_type": "code",
      "metadata": {
        "id": "X093Ui3XH9vi",
        "colab_type": "code",
        "colab": {}
      },
      "source": [
        "from keras.layers import Input, Dense, Conv1D, MaxPooling1D, UpSampling1D, Flatten, Reshape\n",
        "from keras.models import Model\n",
        "from keras import backend as K\n",
        "input_img=Input(shape=(n_steps, n_features))\n",
        "#input_img = Input(shape=(28, 28, 1))  # adapt this if using `channels_first` image data format\n",
        "\n",
        "x = Conv1D(32, 3, activation='relu', padding='same')(input_img)\n",
        "x = MaxPooling1D(2, padding='same')(x)\n",
        "x = Conv1D(16, 3, activation='relu', padding='same')(x)\n",
        "x = MaxPooling1D(2, padding='same')(x)\n",
        "x = Conv1D(16, 3, activation='relu', padding='same')(x)\n",
        "x = MaxPooling1D(2, padding='same')(x)\n",
        "#Encoding 1/8..\n",
        "# at this point the representation is (4, 4, 8) i.e. 128-dimensional\n",
        "x= Flatten()(x)\n",
        "decoded = Dense(n_features*n_steps, activation='linear')(x)\n",
        "outputs= Reshape((n_steps, n_features))(decoded)\n",
        "#tf.reshape(tensor, shape, name=None)\n",
        "autoencoder = Model(input_img, outputs)\n",
        "autoencoder.compile(optimizer='adam', loss='mse')\n"
      ],
      "execution_count": 66,
      "outputs": []
    },
    {
      "cell_type": "code",
      "metadata": {
        "id": "c5pjRlK8IAyh",
        "colab_type": "code",
        "colab": {}
      },
      "source": [
        "from keras.datasets import mnist\n",
        "import numpy as np\n",
        "\n",
        "#(x_train, _), (x_test, _) = mnist.load_data()\n",
        "\n",
        "#x_train = x_train.astype('float32') / 255.\n",
        "#x_test = x_test.astype('float32') / 255.\n",
        "X_train = np.reshape(X_train, (len(X_train), n_steps, n_features))  # adapt this if using `channels_first` image data format\n",
        "X_test = np.reshape(X_test, (len(X_test), n_steps, n_features))  # adapt this if using `channels_first` image data format"
      ],
      "execution_count": null,
      "outputs": []
    },
    {
      "cell_type": "code",
      "metadata": {
        "id": "Jtllf28OIE65",
        "colab_type": "code",
        "colab": {
          "base_uri": "https://localhost:8080/",
          "height": 34
        },
        "outputId": "17078cff-00a3-4509-d556-83968d1c2455"
      },
      "source": [
        "X_train.shape"
      ],
      "execution_count": 67,
      "outputs": [
        {
          "output_type": "execute_result",
          "data": {
            "text/plain": [
              "(2549, 20, 4)"
            ]
          },
          "metadata": {
            "tags": []
          },
          "execution_count": 67
        }
      ]
    },
    {
      "cell_type": "code",
      "metadata": {
        "id": "MUkwM_4lIIs-",
        "colab_type": "code",
        "colab": {}
      },
      "source": [
        "from keras.callbacks import TensorBoard, EarlyStopping\n",
        "\n",
        "es =EarlyStopping(\n",
        "    monitor=\"val_loss\",\n",
        "    min_delta=0.0001,\n",
        "    patience=100,\n",
        "    verbose=0,\n",
        "    mode=\"auto\",\n",
        "    baseline=None,\n",
        "    restore_best_weights=True,\n",
        ")\n",
        "autoencoder.fit(X_train, y_train,\n",
        "                epochs=10000,\n",
        "                batch_size=128,\n",
        "                shuffle=True,\n",
        "                validation_data=(X_val, y_val), \n",
        "                callbacks= [es], verbose=1)\n",
        "\n",
        "# callback = tf.keras.callbacks.EarlyStopping(monitor='loss', patience=3)\n",
        "#Early Stopping.. Can be a wise option to observe\n",
        "#tf.keras.callbacks.EarlyStopping(\n",
        "   # monitor='val_loss', min_delta=0, patience=0, verbose=0, mode='auto',\n",
        "  #  baseline=None, restore_best_weights=False\n",
        "#)"
      ],
      "execution_count": null,
      "outputs": []
    },
    {
      "cell_type": "code",
      "metadata": {
        "id": "jntd6XPvINLb",
        "colab_type": "code",
        "colab": {}
      },
      "source": [
        "#Plotting the output of the training and testing set, one need to verify all the outputs "
      ],
      "execution_count": null,
      "outputs": []
    },
    {
      "cell_type": "code",
      "metadata": {
        "id": "wi9Ul5rJNM8n",
        "colab_type": "code",
        "colab": {}
      },
      "source": [
        "=autoencoder.predict(X_test)"
      ],
      "execution_count": null,
      "outputs": []
    },
    {
      "cell_type": "code",
      "metadata": {
        "id": "fh8JjO2PRFIm",
        "colab_type": "code",
        "colab": {}
      },
      "source": [
        "#Plotting the training, Validating, testing data for the visulization purposes."
      ],
      "execution_count": 73,
      "outputs": []
    },
    {
      "cell_type": "code",
      "metadata": {
        "id": "xApfzUTLOcP9",
        "colab_type": "code",
        "colab": {}
      },
      "source": [
        "y_total = geek.reshape(y,(y.shape[0]*y.shape[1],y.shape[2]))\n",
        "X_total = geek.reshape(X,(X.shape[0]*X.shape[1],X.shape[2]))\n",
        "\n",
        "y_hat_total = geek.reshape(y_hat,(y_hat.shape[0]*y_hat.shape[1],y_hat.shape[2]))\n",
        "\n",
        "t = np.arange(len(y_total))\n",
        "fig, axs = plt.subplots(4,1,squeeze=True,figsize=(20,20))\n",
        "for i in range(4):\n",
        "  axs[i].plot(t,X_total[:,i],t,y_hat_total[:,i])"
      ],
      "execution_count": null,
      "outputs": []
    }
  ]
}