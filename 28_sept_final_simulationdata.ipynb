{
  "nbformat": 4,
  "nbformat_minor": 0,
  "metadata": {
    "colab": {
      "name": "Untitled57.ipynb",
      "provenance": [],
      "authorship_tag": "ABX9TyMAeFuKpp9Rt8SwJW9cTeRD",
      "include_colab_link": true
    },
    "kernelspec": {
      "name": "python3",
      "display_name": "Python 3"
    }
  },
  "cells": [
    {
      "cell_type": "markdown",
      "metadata": {
        "id": "view-in-github",
        "colab_type": "text"
      },
      "source": [
        "<a href=\"https://colab.research.google.com/github/Waleed-Azam/1D-CNN/blob/master/28_sept_final_simulationdata.ipynb\" target=\"_parent\"><img src=\"https://colab.research.google.com/assets/colab-badge.svg\" alt=\"Open In Colab\"/></a>"
      ]
    },
    {
      "cell_type": "code",
      "metadata": {
        "id": "p51ugjKT0XjM"
      },
      "source": [
        "#Prepare the nice data set\n",
        "from sklearn.model_selection import train_test_split\n",
        "# univariate cnn example\n",
        "from numpy import array\n",
        "from keras.models import Sequential\n",
        "from keras.layers import Dense\n",
        "from keras.layers import Flatten\n",
        "from keras.layers.convolutional import Conv1D\n",
        "from keras.layers.convolutional import MaxPooling1D\n",
        "from sklearn.preprocessing import MinMaxScaler\n",
        "!pip install -U -q PyDrive\n",
        "from pydrive.auth import GoogleAuth\n",
        "from pydrive.drive import GoogleDrive\n",
        "from google.colab import auth\n",
        "from oauth2client.client import GoogleCredentials\n",
        "import numpy as np \n",
        "import matplotlib.pyplot as plt\n"
      ],
      "execution_count": 98,
      "outputs": []
    },
    {
      "cell_type": "code",
      "metadata": {
        "id": "kTj4mjJY0edk"
      },
      "source": [
        "auth.authenticate_user()\n",
        "gauth = GoogleAuth()\n",
        "gauth.credentials = GoogleCredentials.get_application_default()\n",
        "drive = GoogleDrive(gauth)"
      ],
      "execution_count": 99,
      "outputs": []
    },
    {
      "cell_type": "code",
      "metadata": {
        "id": "6rK3THWx0iwK"
      },
      "source": [
        "downloaded = drive.CreateFile({'id':'1Bi2fJZw6Vhj7dyP7Ad6qtPsYf5LevEm4'})\n",
        "downloaded_2= drive.CreateFile({'id':'12ZLwEA-DL3BWgcnmlET-2PcNdZGDGr0h'})"
      ],
      "execution_count": 100,
      "outputs": []
    },
    {
      "cell_type": "code",
      "metadata": {
        "id": "q8A8Mhzq0pAF",
        "outputId": "85a4f8c5-8184-4031-b30f-e3d10b4af2e5",
        "colab": {
          "base_uri": "https://localhost:8080/",
          "height": 405
        }
      },
      "source": [
        "#Importing all the libraries\n",
        "import numpy as np\n",
        "import numpy as geek \n",
        "from keras.layers import Input, Dense, LSTM, multiply, concatenate, Activation, Masking, Reshape\n",
        "from keras.models import Sequential\n",
        "from keras.models import Model\n",
        "from keras.layers import Input, Dense, LSTM, multiply, concatenate, Activation, Masking, Reshape\n",
        "from keras.layers import BatchNormalization, GlobalAveragePooling1D, Permute, Dropout\n",
        "from keras.layers.convolutional import Conv1D\n",
        "from keras.layers.convolutional import MaxPooling1D\n",
        "from keras.optimizers import RMSprop, Adam\n",
        "from keras.layers import LSTM, Activation \n",
        "from sklearn.preprocessing import MinMaxScaler\n",
        "from keras.models import load_model\n",
        "import pandas as pd\n",
        "downloaded.GetContentFile('Master_thesis_Data.csv')\n",
        "#downloaded_1.GetContentFile('Test_17_sea.csv')\n",
        "downloaded_2.GetContentFile('April_Without_Fish.csv')\n",
        "#df1 = pd.read_csv('Test_17_sea.csv') \n",
        "df3 = pd.read_csv('April_Without_Fish.csv') \n",
        "df2 = pd.read_csv('Master_thesis_Data.csv')\n",
        "df3"
      ],
      "execution_count": 101,
      "outputs": [
        {
          "output_type": "execute_result",
          "data": {
            "text/html": [
              "<div>\n",
              "<style scoped>\n",
              "    .dataframe tbody tr th:only-of-type {\n",
              "        vertical-align: middle;\n",
              "    }\n",
              "\n",
              "    .dataframe tbody tr th {\n",
              "        vertical-align: top;\n",
              "    }\n",
              "\n",
              "    .dataframe thead th {\n",
              "        text-align: right;\n",
              "    }\n",
              "</style>\n",
              "<table border=\"1\" class=\"dataframe\">\n",
              "  <thead>\n",
              "    <tr style=\"text-align: right;\">\n",
              "      <th></th>\n",
              "      <th>DVL_1</th>\n",
              "      <th>DVL_2</th>\n",
              "      <th>DVL_3</th>\n",
              "      <th>DVL_4</th>\n",
              "      <th>Down</th>\n",
              "      <th>Heading</th>\n",
              "    </tr>\n",
              "  </thead>\n",
              "  <tbody>\n",
              "    <tr>\n",
              "      <th>0</th>\n",
              "      <td>0.000000</td>\n",
              "      <td>0.000000</td>\n",
              "      <td>0.000000</td>\n",
              "      <td>0.0</td>\n",
              "      <td>0.00</td>\n",
              "      <td>0.00</td>\n",
              "    </tr>\n",
              "    <tr>\n",
              "      <th>1</th>\n",
              "      <td>0.000000</td>\n",
              "      <td>0.000000</td>\n",
              "      <td>0.000000</td>\n",
              "      <td>0.0</td>\n",
              "      <td>0.00</td>\n",
              "      <td>0.00</td>\n",
              "    </tr>\n",
              "    <tr>\n",
              "      <th>2</th>\n",
              "      <td>0.000000</td>\n",
              "      <td>0.000000</td>\n",
              "      <td>0.000000</td>\n",
              "      <td>0.0</td>\n",
              "      <td>0.00</td>\n",
              "      <td>0.00</td>\n",
              "    </tr>\n",
              "    <tr>\n",
              "      <th>3</th>\n",
              "      <td>0.000000</td>\n",
              "      <td>0.000000</td>\n",
              "      <td>0.000000</td>\n",
              "      <td>0.0</td>\n",
              "      <td>0.04</td>\n",
              "      <td>3.90</td>\n",
              "    </tr>\n",
              "    <tr>\n",
              "      <th>4</th>\n",
              "      <td>0.000000</td>\n",
              "      <td>0.000000</td>\n",
              "      <td>0.000000</td>\n",
              "      <td>0.0</td>\n",
              "      <td>0.08</td>\n",
              "      <td>3.96</td>\n",
              "    </tr>\n",
              "    <tr>\n",
              "      <th>...</th>\n",
              "      <td>...</td>\n",
              "      <td>...</td>\n",
              "      <td>...</td>\n",
              "      <td>...</td>\n",
              "      <td>...</td>\n",
              "      <td>...</td>\n",
              "    </tr>\n",
              "    <tr>\n",
              "      <th>3056</th>\n",
              "      <td>0.671787</td>\n",
              "      <td>4.036387</td>\n",
              "      <td>4.954006</td>\n",
              "      <td>0.0</td>\n",
              "      <td>0.00</td>\n",
              "      <td>4.64</td>\n",
              "    </tr>\n",
              "    <tr>\n",
              "      <th>3057</th>\n",
              "      <td>0.671787</td>\n",
              "      <td>4.087367</td>\n",
              "      <td>4.750091</td>\n",
              "      <td>0.0</td>\n",
              "      <td>0.00</td>\n",
              "      <td>4.65</td>\n",
              "    </tr>\n",
              "    <tr>\n",
              "      <th>3058</th>\n",
              "      <td>0.722766</td>\n",
              "      <td>4.138345</td>\n",
              "      <td>4.750091</td>\n",
              "      <td>0.0</td>\n",
              "      <td>0.00</td>\n",
              "      <td>4.67</td>\n",
              "    </tr>\n",
              "    <tr>\n",
              "      <th>3059</th>\n",
              "      <td>0.722766</td>\n",
              "      <td>4.138345</td>\n",
              "      <td>4.750091</td>\n",
              "      <td>0.0</td>\n",
              "      <td>0.00</td>\n",
              "      <td>4.69</td>\n",
              "    </tr>\n",
              "    <tr>\n",
              "      <th>3060</th>\n",
              "      <td>0.722766</td>\n",
              "      <td>4.138345</td>\n",
              "      <td>4.750091</td>\n",
              "      <td>0.0</td>\n",
              "      <td>0.00</td>\n",
              "      <td>4.71</td>\n",
              "    </tr>\n",
              "  </tbody>\n",
              "</table>\n",
              "<p>3061 rows × 6 columns</p>\n",
              "</div>"
            ],
            "text/plain": [
              "         DVL_1     DVL_2     DVL_3  DVL_4  Down  Heading\n",
              "0     0.000000  0.000000  0.000000    0.0  0.00     0.00\n",
              "1     0.000000  0.000000  0.000000    0.0  0.00     0.00\n",
              "2     0.000000  0.000000  0.000000    0.0  0.00     0.00\n",
              "3     0.000000  0.000000  0.000000    0.0  0.04     3.90\n",
              "4     0.000000  0.000000  0.000000    0.0  0.08     3.96\n",
              "...        ...       ...       ...    ...   ...      ...\n",
              "3056  0.671787  4.036387  4.954006    0.0  0.00     4.64\n",
              "3057  0.671787  4.087367  4.750091    0.0  0.00     4.65\n",
              "3058  0.722766  4.138345  4.750091    0.0  0.00     4.67\n",
              "3059  0.722766  4.138345  4.750091    0.0  0.00     4.69\n",
              "3060  0.722766  4.138345  4.750091    0.0  0.00     4.71\n",
              "\n",
              "[3061 rows x 6 columns]"
            ]
          },
          "metadata": {
            "tags": []
          },
          "execution_count": 101
        }
      ]
    },
    {
      "cell_type": "code",
      "metadata": {
        "id": "if5oBgOn0yRX",
        "outputId": "4ac9de76-1416-4857-d12a-9802c0e47df9",
        "colab": {
          "base_uri": "https://localhost:8080/",
          "height": 425
        }
      },
      "source": [
        "import pandas as pd\n",
        "df2 = pd.read_csv('Master_thesis_Data.csv') \n",
        "#df2=df2.drop(columns=['Unnamed: 13', 'Unnamed: 14'])\n",
        "#Cleaning the data, for mainly removing the NaN value\n",
        "df2[\"Time\"] = df2[\"Time\"].fillna(0)\n",
        "df2[\"DVL1\"] = df2[\"DVL1\"].fillna(0)\n",
        "df2[\"DVL2\"] = df2[\"DVL2\"].fillna(0)\n",
        "df2[\"DVL3\"] = df2[\"DVL3\"].fillna(0)\n",
        "df2[\"DVL4\"] = df2[\"DVL4\"].fillna(0)\n",
        "df2[\"DVL1_S\"] = df2[\"DVL1_S\"].fillna(0)\n",
        "df2[\"DVL2_S\"] = df2[\"DVL2_S\"].fillna(0)\n",
        "df2[\"DVL3_S\"] = df2[\"DVL3_S\"].fillna(0)\n",
        "df2[\"DVL4_S\"] = df2[\"DVL4_S\"].fillna(0)\n",
        "df2[\"ROV6DOF\"] = df2[\"ROV6DOF\"].fillna(0)\n",
        "df2[\"ROV6DOF.1\"] = df2[\"ROV6DOF.1\"].fillna(0)\n",
        "df2[\"ROV6DOF.2\"] = df2[\"ROV6DOF.2\"].fillna(0)\n",
        "df2[\"ROV6DOF.3\"] = df2[\"ROV6DOF.3\"].fillna(0)\n",
        "\n",
        "df2\n"
      ],
      "execution_count": 102,
      "outputs": [
        {
          "output_type": "execute_result",
          "data": {
            "text/html": [
              "<div>\n",
              "<style scoped>\n",
              "    .dataframe tbody tr th:only-of-type {\n",
              "        vertical-align: middle;\n",
              "    }\n",
              "\n",
              "    .dataframe tbody tr th {\n",
              "        vertical-align: top;\n",
              "    }\n",
              "\n",
              "    .dataframe thead th {\n",
              "        text-align: right;\n",
              "    }\n",
              "</style>\n",
              "<table border=\"1\" class=\"dataframe\">\n",
              "  <thead>\n",
              "    <tr style=\"text-align: right;\">\n",
              "      <th></th>\n",
              "      <th>Time</th>\n",
              "      <th>DVL1_S</th>\n",
              "      <th>DVL2_S</th>\n",
              "      <th>DVL3_S</th>\n",
              "      <th>DVL4_S</th>\n",
              "      <th>DVL1</th>\n",
              "      <th>DVL2</th>\n",
              "      <th>DVL3</th>\n",
              "      <th>DVL4</th>\n",
              "      <th>ROV6DOF</th>\n",
              "      <th>ROV6DOF.1</th>\n",
              "      <th>ROV6DOF.2</th>\n",
              "      <th>ROV6DOF.3</th>\n",
              "    </tr>\n",
              "  </thead>\n",
              "  <tbody>\n",
              "    <tr>\n",
              "      <th>0</th>\n",
              "      <td>0.0</td>\n",
              "      <td>0.000000</td>\n",
              "      <td>0.0</td>\n",
              "      <td>0.000000</td>\n",
              "      <td>0.000000</td>\n",
              "      <td>0.000000</td>\n",
              "      <td>0.000000</td>\n",
              "      <td>0.000000</td>\n",
              "      <td>0.000000</td>\n",
              "      <td>0.00</td>\n",
              "      <td>0.0</td>\n",
              "      <td>0.00</td>\n",
              "      <td>0.00</td>\n",
              "    </tr>\n",
              "    <tr>\n",
              "      <th>1</th>\n",
              "      <td>0.0</td>\n",
              "      <td>20.000000</td>\n",
              "      <td>20.0</td>\n",
              "      <td>20.000000</td>\n",
              "      <td>20.000000</td>\n",
              "      <td>20.000000</td>\n",
              "      <td>20.000000</td>\n",
              "      <td>20.000000</td>\n",
              "      <td>20.000000</td>\n",
              "      <td>0.00</td>\n",
              "      <td>0.0</td>\n",
              "      <td>0.00</td>\n",
              "      <td>0.00</td>\n",
              "    </tr>\n",
              "    <tr>\n",
              "      <th>2</th>\n",
              "      <td>0.1</td>\n",
              "      <td>20.000000</td>\n",
              "      <td>20.0</td>\n",
              "      <td>20.000000</td>\n",
              "      <td>20.000000</td>\n",
              "      <td>20.000000</td>\n",
              "      <td>20.000000</td>\n",
              "      <td>20.000000</td>\n",
              "      <td>20.000000</td>\n",
              "      <td>0.00</td>\n",
              "      <td>0.0</td>\n",
              "      <td>0.00</td>\n",
              "      <td>0.00</td>\n",
              "    </tr>\n",
              "    <tr>\n",
              "      <th>3</th>\n",
              "      <td>0.2</td>\n",
              "      <td>20.000000</td>\n",
              "      <td>20.0</td>\n",
              "      <td>20.000000</td>\n",
              "      <td>20.000000</td>\n",
              "      <td>20.000000</td>\n",
              "      <td>20.000000</td>\n",
              "      <td>20.000000</td>\n",
              "      <td>20.000000</td>\n",
              "      <td>0.00</td>\n",
              "      <td>0.0</td>\n",
              "      <td>0.00</td>\n",
              "      <td>0.00</td>\n",
              "    </tr>\n",
              "    <tr>\n",
              "      <th>4</th>\n",
              "      <td>0.3</td>\n",
              "      <td>20.000000</td>\n",
              "      <td>20.0</td>\n",
              "      <td>20.000000</td>\n",
              "      <td>20.000000</td>\n",
              "      <td>20.000000</td>\n",
              "      <td>20.000000</td>\n",
              "      <td>20.000000</td>\n",
              "      <td>20.000000</td>\n",
              "      <td>0.00</td>\n",
              "      <td>0.0</td>\n",
              "      <td>0.00</td>\n",
              "      <td>0.00</td>\n",
              "    </tr>\n",
              "    <tr>\n",
              "      <th>...</th>\n",
              "      <td>...</td>\n",
              "      <td>...</td>\n",
              "      <td>...</td>\n",
              "      <td>...</td>\n",
              "      <td>...</td>\n",
              "      <td>...</td>\n",
              "      <td>...</td>\n",
              "      <td>...</td>\n",
              "      <td>...</td>\n",
              "      <td>...</td>\n",
              "      <td>...</td>\n",
              "      <td>...</td>\n",
              "      <td>...</td>\n",
              "    </tr>\n",
              "    <tr>\n",
              "      <th>84986</th>\n",
              "      <td>8498.5</td>\n",
              "      <td>2.692643</td>\n",
              "      <td>1.8</td>\n",
              "      <td>2.620548</td>\n",
              "      <td>2.615895</td>\n",
              "      <td>2.692643</td>\n",
              "      <td>2.628101</td>\n",
              "      <td>2.620548</td>\n",
              "      <td>2.615895</td>\n",
              "      <td>5.27</td>\n",
              "      <td>16.8</td>\n",
              "      <td>4.87</td>\n",
              "      <td>-3.37</td>\n",
              "    </tr>\n",
              "    <tr>\n",
              "      <th>84987</th>\n",
              "      <td>8498.6</td>\n",
              "      <td>2.692682</td>\n",
              "      <td>1.8</td>\n",
              "      <td>2.620243</td>\n",
              "      <td>2.615925</td>\n",
              "      <td>2.692682</td>\n",
              "      <td>2.629319</td>\n",
              "      <td>2.620243</td>\n",
              "      <td>2.615925</td>\n",
              "      <td>5.25</td>\n",
              "      <td>16.8</td>\n",
              "      <td>4.87</td>\n",
              "      <td>-3.37</td>\n",
              "    </tr>\n",
              "    <tr>\n",
              "      <th>84988</th>\n",
              "      <td>8498.7</td>\n",
              "      <td>2.692715</td>\n",
              "      <td>1.8</td>\n",
              "      <td>2.619866</td>\n",
              "      <td>2.615951</td>\n",
              "      <td>2.692715</td>\n",
              "      <td>2.630637</td>\n",
              "      <td>2.619866</td>\n",
              "      <td>2.615951</td>\n",
              "      <td>5.22</td>\n",
              "      <td>16.8</td>\n",
              "      <td>4.87</td>\n",
              "      <td>-3.37</td>\n",
              "    </tr>\n",
              "    <tr>\n",
              "      <th>84989</th>\n",
              "      <td>8498.8</td>\n",
              "      <td>2.692740</td>\n",
              "      <td>1.8</td>\n",
              "      <td>2.619450</td>\n",
              "      <td>2.615970</td>\n",
              "      <td>2.692740</td>\n",
              "      <td>2.631916</td>\n",
              "      <td>2.619450</td>\n",
              "      <td>2.615970</td>\n",
              "      <td>5.20</td>\n",
              "      <td>16.8</td>\n",
              "      <td>4.87</td>\n",
              "      <td>-3.36</td>\n",
              "    </tr>\n",
              "    <tr>\n",
              "      <th>84990</th>\n",
              "      <td>8498.9</td>\n",
              "      <td>2.692755</td>\n",
              "      <td>1.8</td>\n",
              "      <td>2.618994</td>\n",
              "      <td>2.615983</td>\n",
              "      <td>2.692755</td>\n",
              "      <td>2.633157</td>\n",
              "      <td>2.618994</td>\n",
              "      <td>2.615983</td>\n",
              "      <td>5.18</td>\n",
              "      <td>16.7</td>\n",
              "      <td>4.87</td>\n",
              "      <td>-3.36</td>\n",
              "    </tr>\n",
              "  </tbody>\n",
              "</table>\n",
              "<p>84991 rows × 13 columns</p>\n",
              "</div>"
            ],
            "text/plain": [
              "         Time     DVL1_S  DVL2_S  ...  ROV6DOF.1  ROV6DOF.2  ROV6DOF.3\n",
              "0         0.0   0.000000     0.0  ...        0.0       0.00       0.00\n",
              "1         0.0  20.000000    20.0  ...        0.0       0.00       0.00\n",
              "2         0.1  20.000000    20.0  ...        0.0       0.00       0.00\n",
              "3         0.2  20.000000    20.0  ...        0.0       0.00       0.00\n",
              "4         0.3  20.000000    20.0  ...        0.0       0.00       0.00\n",
              "...       ...        ...     ...  ...        ...        ...        ...\n",
              "84986  8498.5   2.692643     1.8  ...       16.8       4.87      -3.37\n",
              "84987  8498.6   2.692682     1.8  ...       16.8       4.87      -3.37\n",
              "84988  8498.7   2.692715     1.8  ...       16.8       4.87      -3.37\n",
              "84989  8498.8   2.692740     1.8  ...       16.8       4.87      -3.36\n",
              "84990  8498.9   2.692755     1.8  ...       16.7       4.87      -3.36\n",
              "\n",
              "[84991 rows x 13 columns]"
            ]
          },
          "metadata": {
            "tags": []
          },
          "execution_count": 102
        }
      ]
    },
    {
      "cell_type": "code",
      "metadata": {
        "id": "SsY7_HJG00vh",
        "outputId": "3df3c776-00f7-44d4-f506-4b548c246614",
        "colab": {
          "base_uri": "https://localhost:8080/",
          "height": 425
        }
      },
      "source": [
        "df2.drop(84990) \n",
        "df2=df2.drop(84988)\n",
        "df2=df2.drop(84987)\n",
        "df2.drop(84990)\n",
        "df2=df2.drop(84985)\n",
        "df2=df2.drop(84990)\n",
        "df2=df2.drop(84984)\n",
        "df2=df2.drop(84983)\n",
        "df2=df2.drop(84982)\n",
        "df2=df2.drop(84981)\n",
        "df2=df2.drop(84980)\n",
        "df2=df2.drop(84986)\n",
        "df2=df2.drop(84989)\n",
        "df2"
      ],
      "execution_count": 103,
      "outputs": [
        {
          "output_type": "execute_result",
          "data": {
            "text/html": [
              "<div>\n",
              "<style scoped>\n",
              "    .dataframe tbody tr th:only-of-type {\n",
              "        vertical-align: middle;\n",
              "    }\n",
              "\n",
              "    .dataframe tbody tr th {\n",
              "        vertical-align: top;\n",
              "    }\n",
              "\n",
              "    .dataframe thead th {\n",
              "        text-align: right;\n",
              "    }\n",
              "</style>\n",
              "<table border=\"1\" class=\"dataframe\">\n",
              "  <thead>\n",
              "    <tr style=\"text-align: right;\">\n",
              "      <th></th>\n",
              "      <th>Time</th>\n",
              "      <th>DVL1_S</th>\n",
              "      <th>DVL2_S</th>\n",
              "      <th>DVL3_S</th>\n",
              "      <th>DVL4_S</th>\n",
              "      <th>DVL1</th>\n",
              "      <th>DVL2</th>\n",
              "      <th>DVL3</th>\n",
              "      <th>DVL4</th>\n",
              "      <th>ROV6DOF</th>\n",
              "      <th>ROV6DOF.1</th>\n",
              "      <th>ROV6DOF.2</th>\n",
              "      <th>ROV6DOF.3</th>\n",
              "    </tr>\n",
              "  </thead>\n",
              "  <tbody>\n",
              "    <tr>\n",
              "      <th>0</th>\n",
              "      <td>0.0</td>\n",
              "      <td>0.0</td>\n",
              "      <td>0.0</td>\n",
              "      <td>0.000000</td>\n",
              "      <td>0.0</td>\n",
              "      <td>0.000000</td>\n",
              "      <td>0.000000</td>\n",
              "      <td>0.000000</td>\n",
              "      <td>0.000000</td>\n",
              "      <td>0.00</td>\n",
              "      <td>0.0</td>\n",
              "      <td>0.00</td>\n",
              "      <td>0.00</td>\n",
              "    </tr>\n",
              "    <tr>\n",
              "      <th>1</th>\n",
              "      <td>0.0</td>\n",
              "      <td>20.0</td>\n",
              "      <td>20.0</td>\n",
              "      <td>20.000000</td>\n",
              "      <td>20.0</td>\n",
              "      <td>20.000000</td>\n",
              "      <td>20.000000</td>\n",
              "      <td>20.000000</td>\n",
              "      <td>20.000000</td>\n",
              "      <td>0.00</td>\n",
              "      <td>0.0</td>\n",
              "      <td>0.00</td>\n",
              "      <td>0.00</td>\n",
              "    </tr>\n",
              "    <tr>\n",
              "      <th>2</th>\n",
              "      <td>0.1</td>\n",
              "      <td>20.0</td>\n",
              "      <td>20.0</td>\n",
              "      <td>20.000000</td>\n",
              "      <td>20.0</td>\n",
              "      <td>20.000000</td>\n",
              "      <td>20.000000</td>\n",
              "      <td>20.000000</td>\n",
              "      <td>20.000000</td>\n",
              "      <td>0.00</td>\n",
              "      <td>0.0</td>\n",
              "      <td>0.00</td>\n",
              "      <td>0.00</td>\n",
              "    </tr>\n",
              "    <tr>\n",
              "      <th>3</th>\n",
              "      <td>0.2</td>\n",
              "      <td>20.0</td>\n",
              "      <td>20.0</td>\n",
              "      <td>20.000000</td>\n",
              "      <td>20.0</td>\n",
              "      <td>20.000000</td>\n",
              "      <td>20.000000</td>\n",
              "      <td>20.000000</td>\n",
              "      <td>20.000000</td>\n",
              "      <td>0.00</td>\n",
              "      <td>0.0</td>\n",
              "      <td>0.00</td>\n",
              "      <td>0.00</td>\n",
              "    </tr>\n",
              "    <tr>\n",
              "      <th>4</th>\n",
              "      <td>0.3</td>\n",
              "      <td>20.0</td>\n",
              "      <td>20.0</td>\n",
              "      <td>20.000000</td>\n",
              "      <td>20.0</td>\n",
              "      <td>20.000000</td>\n",
              "      <td>20.000000</td>\n",
              "      <td>20.000000</td>\n",
              "      <td>20.000000</td>\n",
              "      <td>0.00</td>\n",
              "      <td>0.0</td>\n",
              "      <td>0.00</td>\n",
              "      <td>0.00</td>\n",
              "    </tr>\n",
              "    <tr>\n",
              "      <th>...</th>\n",
              "      <td>...</td>\n",
              "      <td>...</td>\n",
              "      <td>...</td>\n",
              "      <td>...</td>\n",
              "      <td>...</td>\n",
              "      <td>...</td>\n",
              "      <td>...</td>\n",
              "      <td>...</td>\n",
              "      <td>...</td>\n",
              "      <td>...</td>\n",
              "      <td>...</td>\n",
              "      <td>...</td>\n",
              "      <td>...</td>\n",
              "    </tr>\n",
              "    <tr>\n",
              "      <th>84975</th>\n",
              "      <td>8497.4</td>\n",
              "      <td>0.8</td>\n",
              "      <td>0.3</td>\n",
              "      <td>2.621668</td>\n",
              "      <td>1.8</td>\n",
              "      <td>2.691185</td>\n",
              "      <td>2.610809</td>\n",
              "      <td>2.621668</td>\n",
              "      <td>2.614601</td>\n",
              "      <td>5.55</td>\n",
              "      <td>17.0</td>\n",
              "      <td>4.87</td>\n",
              "      <td>-3.39</td>\n",
              "    </tr>\n",
              "    <tr>\n",
              "      <th>84976</th>\n",
              "      <td>8497.5</td>\n",
              "      <td>0.8</td>\n",
              "      <td>0.3</td>\n",
              "      <td>2.621745</td>\n",
              "      <td>1.8</td>\n",
              "      <td>2.691401</td>\n",
              "      <td>2.612374</td>\n",
              "      <td>2.621745</td>\n",
              "      <td>2.614807</td>\n",
              "      <td>5.52</td>\n",
              "      <td>17.0</td>\n",
              "      <td>4.87</td>\n",
              "      <td>-3.38</td>\n",
              "    </tr>\n",
              "    <tr>\n",
              "      <th>84977</th>\n",
              "      <td>8497.6</td>\n",
              "      <td>0.8</td>\n",
              "      <td>0.3</td>\n",
              "      <td>2.621804</td>\n",
              "      <td>1.8</td>\n",
              "      <td>2.691634</td>\n",
              "      <td>2.614254</td>\n",
              "      <td>2.621804</td>\n",
              "      <td>2.615026</td>\n",
              "      <td>5.50</td>\n",
              "      <td>17.0</td>\n",
              "      <td>4.87</td>\n",
              "      <td>-3.38</td>\n",
              "    </tr>\n",
              "    <tr>\n",
              "      <th>84978</th>\n",
              "      <td>8497.7</td>\n",
              "      <td>0.8</td>\n",
              "      <td>0.3</td>\n",
              "      <td>2.621820</td>\n",
              "      <td>1.8</td>\n",
              "      <td>2.691802</td>\n",
              "      <td>2.615765</td>\n",
              "      <td>2.621820</td>\n",
              "      <td>2.615181</td>\n",
              "      <td>5.47</td>\n",
              "      <td>16.9</td>\n",
              "      <td>4.87</td>\n",
              "      <td>-3.38</td>\n",
              "    </tr>\n",
              "    <tr>\n",
              "      <th>84979</th>\n",
              "      <td>8497.8</td>\n",
              "      <td>0.8</td>\n",
              "      <td>0.3</td>\n",
              "      <td>2.621799</td>\n",
              "      <td>1.8</td>\n",
              "      <td>2.691982</td>\n",
              "      <td>2.617577</td>\n",
              "      <td>2.621799</td>\n",
              "      <td>2.615344</td>\n",
              "      <td>5.45</td>\n",
              "      <td>16.9</td>\n",
              "      <td>4.87</td>\n",
              "      <td>-3.38</td>\n",
              "    </tr>\n",
              "  </tbody>\n",
              "</table>\n",
              "<p>84980 rows × 13 columns</p>\n",
              "</div>"
            ],
            "text/plain": [
              "         Time  DVL1_S  DVL2_S  ...  ROV6DOF.1  ROV6DOF.2  ROV6DOF.3\n",
              "0         0.0     0.0     0.0  ...        0.0       0.00       0.00\n",
              "1         0.0    20.0    20.0  ...        0.0       0.00       0.00\n",
              "2         0.1    20.0    20.0  ...        0.0       0.00       0.00\n",
              "3         0.2    20.0    20.0  ...        0.0       0.00       0.00\n",
              "4         0.3    20.0    20.0  ...        0.0       0.00       0.00\n",
              "...       ...     ...     ...  ...        ...        ...        ...\n",
              "84975  8497.4     0.8     0.3  ...       17.0       4.87      -3.39\n",
              "84976  8497.5     0.8     0.3  ...       17.0       4.87      -3.38\n",
              "84977  8497.6     0.8     0.3  ...       17.0       4.87      -3.38\n",
              "84978  8497.7     0.8     0.3  ...       16.9       4.87      -3.38\n",
              "84979  8497.8     0.8     0.3  ...       16.9       4.87      -3.38\n",
              "\n",
              "[84980 rows x 13 columns]"
            ]
          },
          "metadata": {
            "tags": []
          },
          "execution_count": 103
        }
      ]
    },
    {
      "cell_type": "code",
      "metadata": {
        "id": "cibnyJhf02Wf",
        "outputId": "13099a8a-b404-43f1-e0e1-2384509f10c0",
        "colab": {
          "base_uri": "https://localhost:8080/",
          "height": 425
        }
      },
      "source": [
        "df3=df3.drop(0) \n",
        "df2\n"
      ],
      "execution_count": 104,
      "outputs": [
        {
          "output_type": "execute_result",
          "data": {
            "text/html": [
              "<div>\n",
              "<style scoped>\n",
              "    .dataframe tbody tr th:only-of-type {\n",
              "        vertical-align: middle;\n",
              "    }\n",
              "\n",
              "    .dataframe tbody tr th {\n",
              "        vertical-align: top;\n",
              "    }\n",
              "\n",
              "    .dataframe thead th {\n",
              "        text-align: right;\n",
              "    }\n",
              "</style>\n",
              "<table border=\"1\" class=\"dataframe\">\n",
              "  <thead>\n",
              "    <tr style=\"text-align: right;\">\n",
              "      <th></th>\n",
              "      <th>Time</th>\n",
              "      <th>DVL1_S</th>\n",
              "      <th>DVL2_S</th>\n",
              "      <th>DVL3_S</th>\n",
              "      <th>DVL4_S</th>\n",
              "      <th>DVL1</th>\n",
              "      <th>DVL2</th>\n",
              "      <th>DVL3</th>\n",
              "      <th>DVL4</th>\n",
              "      <th>ROV6DOF</th>\n",
              "      <th>ROV6DOF.1</th>\n",
              "      <th>ROV6DOF.2</th>\n",
              "      <th>ROV6DOF.3</th>\n",
              "    </tr>\n",
              "  </thead>\n",
              "  <tbody>\n",
              "    <tr>\n",
              "      <th>0</th>\n",
              "      <td>0.0</td>\n",
              "      <td>0.0</td>\n",
              "      <td>0.0</td>\n",
              "      <td>0.000000</td>\n",
              "      <td>0.0</td>\n",
              "      <td>0.000000</td>\n",
              "      <td>0.000000</td>\n",
              "      <td>0.000000</td>\n",
              "      <td>0.000000</td>\n",
              "      <td>0.00</td>\n",
              "      <td>0.0</td>\n",
              "      <td>0.00</td>\n",
              "      <td>0.00</td>\n",
              "    </tr>\n",
              "    <tr>\n",
              "      <th>1</th>\n",
              "      <td>0.0</td>\n",
              "      <td>20.0</td>\n",
              "      <td>20.0</td>\n",
              "      <td>20.000000</td>\n",
              "      <td>20.0</td>\n",
              "      <td>20.000000</td>\n",
              "      <td>20.000000</td>\n",
              "      <td>20.000000</td>\n",
              "      <td>20.000000</td>\n",
              "      <td>0.00</td>\n",
              "      <td>0.0</td>\n",
              "      <td>0.00</td>\n",
              "      <td>0.00</td>\n",
              "    </tr>\n",
              "    <tr>\n",
              "      <th>2</th>\n",
              "      <td>0.1</td>\n",
              "      <td>20.0</td>\n",
              "      <td>20.0</td>\n",
              "      <td>20.000000</td>\n",
              "      <td>20.0</td>\n",
              "      <td>20.000000</td>\n",
              "      <td>20.000000</td>\n",
              "      <td>20.000000</td>\n",
              "      <td>20.000000</td>\n",
              "      <td>0.00</td>\n",
              "      <td>0.0</td>\n",
              "      <td>0.00</td>\n",
              "      <td>0.00</td>\n",
              "    </tr>\n",
              "    <tr>\n",
              "      <th>3</th>\n",
              "      <td>0.2</td>\n",
              "      <td>20.0</td>\n",
              "      <td>20.0</td>\n",
              "      <td>20.000000</td>\n",
              "      <td>20.0</td>\n",
              "      <td>20.000000</td>\n",
              "      <td>20.000000</td>\n",
              "      <td>20.000000</td>\n",
              "      <td>20.000000</td>\n",
              "      <td>0.00</td>\n",
              "      <td>0.0</td>\n",
              "      <td>0.00</td>\n",
              "      <td>0.00</td>\n",
              "    </tr>\n",
              "    <tr>\n",
              "      <th>4</th>\n",
              "      <td>0.3</td>\n",
              "      <td>20.0</td>\n",
              "      <td>20.0</td>\n",
              "      <td>20.000000</td>\n",
              "      <td>20.0</td>\n",
              "      <td>20.000000</td>\n",
              "      <td>20.000000</td>\n",
              "      <td>20.000000</td>\n",
              "      <td>20.000000</td>\n",
              "      <td>0.00</td>\n",
              "      <td>0.0</td>\n",
              "      <td>0.00</td>\n",
              "      <td>0.00</td>\n",
              "    </tr>\n",
              "    <tr>\n",
              "      <th>...</th>\n",
              "      <td>...</td>\n",
              "      <td>...</td>\n",
              "      <td>...</td>\n",
              "      <td>...</td>\n",
              "      <td>...</td>\n",
              "      <td>...</td>\n",
              "      <td>...</td>\n",
              "      <td>...</td>\n",
              "      <td>...</td>\n",
              "      <td>...</td>\n",
              "      <td>...</td>\n",
              "      <td>...</td>\n",
              "      <td>...</td>\n",
              "    </tr>\n",
              "    <tr>\n",
              "      <th>84975</th>\n",
              "      <td>8497.4</td>\n",
              "      <td>0.8</td>\n",
              "      <td>0.3</td>\n",
              "      <td>2.621668</td>\n",
              "      <td>1.8</td>\n",
              "      <td>2.691185</td>\n",
              "      <td>2.610809</td>\n",
              "      <td>2.621668</td>\n",
              "      <td>2.614601</td>\n",
              "      <td>5.55</td>\n",
              "      <td>17.0</td>\n",
              "      <td>4.87</td>\n",
              "      <td>-3.39</td>\n",
              "    </tr>\n",
              "    <tr>\n",
              "      <th>84976</th>\n",
              "      <td>8497.5</td>\n",
              "      <td>0.8</td>\n",
              "      <td>0.3</td>\n",
              "      <td>2.621745</td>\n",
              "      <td>1.8</td>\n",
              "      <td>2.691401</td>\n",
              "      <td>2.612374</td>\n",
              "      <td>2.621745</td>\n",
              "      <td>2.614807</td>\n",
              "      <td>5.52</td>\n",
              "      <td>17.0</td>\n",
              "      <td>4.87</td>\n",
              "      <td>-3.38</td>\n",
              "    </tr>\n",
              "    <tr>\n",
              "      <th>84977</th>\n",
              "      <td>8497.6</td>\n",
              "      <td>0.8</td>\n",
              "      <td>0.3</td>\n",
              "      <td>2.621804</td>\n",
              "      <td>1.8</td>\n",
              "      <td>2.691634</td>\n",
              "      <td>2.614254</td>\n",
              "      <td>2.621804</td>\n",
              "      <td>2.615026</td>\n",
              "      <td>5.50</td>\n",
              "      <td>17.0</td>\n",
              "      <td>4.87</td>\n",
              "      <td>-3.38</td>\n",
              "    </tr>\n",
              "    <tr>\n",
              "      <th>84978</th>\n",
              "      <td>8497.7</td>\n",
              "      <td>0.8</td>\n",
              "      <td>0.3</td>\n",
              "      <td>2.621820</td>\n",
              "      <td>1.8</td>\n",
              "      <td>2.691802</td>\n",
              "      <td>2.615765</td>\n",
              "      <td>2.621820</td>\n",
              "      <td>2.615181</td>\n",
              "      <td>5.47</td>\n",
              "      <td>16.9</td>\n",
              "      <td>4.87</td>\n",
              "      <td>-3.38</td>\n",
              "    </tr>\n",
              "    <tr>\n",
              "      <th>84979</th>\n",
              "      <td>8497.8</td>\n",
              "      <td>0.8</td>\n",
              "      <td>0.3</td>\n",
              "      <td>2.621799</td>\n",
              "      <td>1.8</td>\n",
              "      <td>2.691982</td>\n",
              "      <td>2.617577</td>\n",
              "      <td>2.621799</td>\n",
              "      <td>2.615344</td>\n",
              "      <td>5.45</td>\n",
              "      <td>16.9</td>\n",
              "      <td>4.87</td>\n",
              "      <td>-3.38</td>\n",
              "    </tr>\n",
              "  </tbody>\n",
              "</table>\n",
              "<p>84980 rows × 13 columns</p>\n",
              "</div>"
            ],
            "text/plain": [
              "         Time  DVL1_S  DVL2_S  ...  ROV6DOF.1  ROV6DOF.2  ROV6DOF.3\n",
              "0         0.0     0.0     0.0  ...        0.0       0.00       0.00\n",
              "1         0.0    20.0    20.0  ...        0.0       0.00       0.00\n",
              "2         0.1    20.0    20.0  ...        0.0       0.00       0.00\n",
              "3         0.2    20.0    20.0  ...        0.0       0.00       0.00\n",
              "4         0.3    20.0    20.0  ...        0.0       0.00       0.00\n",
              "...       ...     ...     ...  ...        ...        ...        ...\n",
              "84975  8497.4     0.8     0.3  ...       17.0       4.87      -3.39\n",
              "84976  8497.5     0.8     0.3  ...       17.0       4.87      -3.38\n",
              "84977  8497.6     0.8     0.3  ...       17.0       4.87      -3.38\n",
              "84978  8497.7     0.8     0.3  ...       16.9       4.87      -3.38\n",
              "84979  8497.8     0.8     0.3  ...       16.9       4.87      -3.38\n",
              "\n",
              "[84980 rows x 13 columns]"
            ]
          },
          "metadata": {
            "tags": []
          },
          "execution_count": 104
        }
      ]
    },
    {
      "cell_type": "code",
      "metadata": {
        "id": "r1085cIG03_l"
      },
      "source": [
        "t=df2['Time']\n",
        "Tdata=df2['DVL1_S']\n",
        "X1=np.array(Tdata)\n",
        "Tdata2=df2['DVL2_S']\n",
        "X2=np.array(Tdata2)\n",
        "Tdata3=df2['DVL3_S']\n",
        "X3=np.array(Tdata)\n",
        "Tdata4=df2['DVL4_S']\n",
        "X4=np.array(Tdata4)\n",
        "Tdata5=df2['ROV6DOF']\n",
        "X5=np.array(Tdata5)\n",
        "Tdata6=df2['ROV6DOF.1']\n",
        "X6=np.array(Tdata6)\n",
        "Tdata7=df2['ROV6DOF.2']\n",
        "X7=np.array(Tdata7)\n",
        "Tdata8=df2['ROV6DOF.3']\n",
        "X8=np.array(Tdata8)"
      ],
      "execution_count": 105,
      "outputs": []
    },
    {
      "cell_type": "code",
      "metadata": {
        "id": "r-z2yYHn05p8",
        "outputId": "2f5b56ab-78a6-441c-aeeb-67efd9da3417",
        "colab": {
          "base_uri": "https://localhost:8080/",
          "height": 187
        }
      },
      "source": [
        "# Stacking the two arrays along axis 0 \n",
        "out_arr1_X_training = geek.stack((X1, X2, X3,X4, X5,X6,X7,X8), axis = 0) \n",
        "print (\"Output stacked array along axis 0:\\n \", out_arr1_X_training) \n",
        "print (\"Output Shape:\\n \", out_arr1_X_training.shape) "
      ],
      "execution_count": 106,
      "outputs": [
        {
          "output_type": "stream",
          "text": [
            "Output stacked array along axis 0:\n",
            "  [[ 0.   20.   20.   ...  0.8   0.8   0.8 ]\n",
            " [ 0.   20.   20.   ...  0.3   0.3   0.3 ]\n",
            " [ 0.   20.   20.   ...  0.8   0.8   0.8 ]\n",
            " ...\n",
            " [ 0.    0.    0.   ... 17.   16.9  16.9 ]\n",
            " [ 0.    0.    0.   ...  4.87  4.87  4.87]\n",
            " [ 0.    0.    0.   ... -3.38 -3.38 -3.38]]\n",
            "Output Shape:\n",
            "  (8, 84980)\n"
          ],
          "name": "stdout"
        }
      ]
    },
    {
      "cell_type": "code",
      "metadata": {
        "id": "cINiczUr0731",
        "outputId": "a80ebee2-a690-41d4-98fb-5d57f3563a88",
        "colab": {
          "base_uri": "https://localhost:8080/",
          "height": 34
        }
      },
      "source": [
        "X= out_arr1_X_training\n",
        "X = X.transpose((1,0))\n",
        "X.shape"
      ],
      "execution_count": 107,
      "outputs": [
        {
          "output_type": "execute_result",
          "data": {
            "text/plain": [
              "(84980, 8)"
            ]
          },
          "metadata": {
            "tags": []
          },
          "execution_count": 107
        }
      ]
    },
    {
      "cell_type": "code",
      "metadata": {
        "id": "qAax49eo09f9"
      },
      "source": [
        "Tdata1=df2['DVL1']\n",
        "y1=np.array(Tdata1)\n",
        "Tdata22=df2['DVL2']\n",
        "y2=np.array(Tdata22)\n",
        "Tdata33=df2['DVL3']\n",
        "y3=np.array(Tdata33)\n",
        "Tdata44=df2['DVL4']\n",
        "y4=np.array(Tdata44)"
      ],
      "execution_count": 108,
      "outputs": []
    },
    {
      "cell_type": "code",
      "metadata": {
        "id": "xPfBtYzA0-tV",
        "outputId": "f1bdf5ce-20b9-4ac2-e53d-132dfe95f7ee",
        "colab": {
          "base_uri": "https://localhost:8080/",
          "height": 136
        }
      },
      "source": [
        "# Stacking the two arrays along axis 0 \n",
        "out_lab1_Target = geek.stack((y1, y2, y3, y4), axis = 0) \n",
        "print (\"Output stacked array along axis 0:\\n \", out_lab1_Target) \n",
        "print (\"Labels Shape :\\n \", out_lab1_Target.shape) "
      ],
      "execution_count": 109,
      "outputs": [
        {
          "output_type": "stream",
          "text": [
            "Output stacked array along axis 0:\n",
            "  [[ 0.       20.       20.       ...  2.691634  2.691802  2.691982]\n",
            " [ 0.       20.       20.       ...  2.614254  2.615765  2.617577]\n",
            " [ 0.       20.       20.       ...  2.621804  2.62182   2.621799]\n",
            " [ 0.       20.       20.       ...  2.615026  2.615181  2.615344]]\n",
            "Labels Shape :\n",
            "  (4, 84980)\n"
          ],
          "name": "stdout"
        }
      ]
    },
    {
      "cell_type": "code",
      "metadata": {
        "id": "jkVSlPVh1AGc"
      },
      "source": [
        "y= out_lab1_Target"
      ],
      "execution_count": 110,
      "outputs": []
    },
    {
      "cell_type": "code",
      "metadata": {
        "id": "x4dvZulD1B6l"
      },
      "source": [
        "y=y.transpose((1,0))"
      ],
      "execution_count": 111,
      "outputs": []
    },
    {
      "cell_type": "code",
      "metadata": {
        "id": "-uKvhGCN1Dyb"
      },
      "source": [
        "# mlp for multi-output regression\n",
        "from numpy import mean\n",
        "from numpy import std\n",
        "from sklearn.datasets import make_regression\n",
        "from sklearn.model_selection import RepeatedKFold\n",
        "from keras.models import Sequential\n",
        "from keras.layers import Dense"
      ],
      "execution_count": 112,
      "outputs": []
    },
    {
      "cell_type": "code",
      "metadata": {
        "id": "UbKUQ3NQ29Hl",
        "outputId": "976f7edc-c77b-476c-9470-9bdf98686bc6",
        "colab": {
          "base_uri": "https://localhost:8080/",
          "height": 34
        }
      },
      "source": [
        "X.dtype"
      ],
      "execution_count": 113,
      "outputs": [
        {
          "output_type": "execute_result",
          "data": {
            "text/plain": [
              "dtype('float64')"
            ]
          },
          "metadata": {
            "tags": []
          },
          "execution_count": 113
        }
      ]
    },
    {
      "cell_type": "code",
      "metadata": {
        "id": "eYo_xCEu2_E6",
        "outputId": "5acc142d-300b-4261-ff85-1b8d911fa028",
        "colab": {
          "base_uri": "https://localhost:8080/",
          "height": 34
        }
      },
      "source": [
        "y.dtype"
      ],
      "execution_count": 114,
      "outputs": [
        {
          "output_type": "execute_result",
          "data": {
            "text/plain": [
              "dtype('float64')"
            ]
          },
          "metadata": {
            "tags": []
          },
          "execution_count": 114
        }
      ]
    },
    {
      "cell_type": "code",
      "metadata": {
        "id": "cSBvJ-WO1zZu"
      },
      "source": [
        "X=X.reshape(84980,1,8)"
      ],
      "execution_count": 115,
      "outputs": []
    },
    {
      "cell_type": "code",
      "metadata": {
        "id": "NCkFCfKo14B2"
      },
      "source": [
        "y=y.reshape(84980, 1,4)"
      ],
      "execution_count": 116,
      "outputs": []
    },
    {
      "cell_type": "code",
      "metadata": {
        "id": "glMl_GRi1FMn"
      },
      "source": [
        "x_train=X[:64980]"
      ],
      "execution_count": 117,
      "outputs": []
    },
    {
      "cell_type": "code",
      "metadata": {
        "id": "D0D1kJXu3BNu",
        "outputId": "95f54927-cd5b-41c2-da76-22a2b22a0db7",
        "colab": {
          "base_uri": "https://localhost:8080/",
          "height": 34
        }
      },
      "source": [
        "x_train.dtype"
      ],
      "execution_count": 118,
      "outputs": [
        {
          "output_type": "execute_result",
          "data": {
            "text/plain": [
              "dtype('float64')"
            ]
          },
          "metadata": {
            "tags": []
          },
          "execution_count": 118
        }
      ]
    },
    {
      "cell_type": "code",
      "metadata": {
        "id": "qEHASEOr1Xw3"
      },
      "source": [
        "y_train=y[:64980]"
      ],
      "execution_count": 119,
      "outputs": []
    },
    {
      "cell_type": "code",
      "metadata": {
        "id": "SXblwR0x1Ppc"
      },
      "source": [
        "x_val=X[64980:74980]"
      ],
      "execution_count": 120,
      "outputs": []
    },
    {
      "cell_type": "code",
      "metadata": {
        "id": "RcjUbnxN3ENj",
        "outputId": "d1d78be7-653a-4a06-b31c-711ed50b7ee3",
        "colab": {
          "base_uri": "https://localhost:8080/",
          "height": 34
        }
      },
      "source": [
        "x_val.dtype"
      ],
      "execution_count": 121,
      "outputs": [
        {
          "output_type": "execute_result",
          "data": {
            "text/plain": [
              "dtype('float64')"
            ]
          },
          "metadata": {
            "tags": []
          },
          "execution_count": 121
        }
      ]
    },
    {
      "cell_type": "code",
      "metadata": {
        "id": "rE_cNDdS1a0k"
      },
      "source": [
        "y_val=y[64980:74980]"
      ],
      "execution_count": 122,
      "outputs": []
    },
    {
      "cell_type": "code",
      "metadata": {
        "id": "fqyT_m6m1TF9"
      },
      "source": [
        "x_test=X[-10000:]"
      ],
      "execution_count": 123,
      "outputs": []
    },
    {
      "cell_type": "code",
      "metadata": {
        "id": "tP7LQHla1V5E"
      },
      "source": [
        "y_test=y[-10000:]"
      ],
      "execution_count": 124,
      "outputs": []
    },
    {
      "cell_type": "code",
      "metadata": {
        "id": "sqYFGVGw18gN"
      },
      "source": [
        "n_features=4"
      ],
      "execution_count": 125,
      "outputs": []
    },
    {
      "cell_type": "code",
      "metadata": {
        "id": "DwVnuq2d2AAa"
      },
      "source": [
        "n_steps=1"
      ],
      "execution_count": 126,
      "outputs": []
    },
    {
      "cell_type": "code",
      "metadata": {
        "id": "yMkG_FuI2Cek"
      },
      "source": [
        "import keras"
      ],
      "execution_count": 127,
      "outputs": []
    },
    {
      "cell_type": "code",
      "metadata": {
        "id": "M1IWCyOh2b4j",
        "outputId": "bb0de796-8ae4-47af-edd6-861abd9269be",
        "colab": {
          "base_uri": "https://localhost:8080/",
          "height": 34
        }
      },
      "source": [
        "x_train.shape"
      ],
      "execution_count": 128,
      "outputs": [
        {
          "output_type": "execute_result",
          "data": {
            "text/plain": [
              "(64980, 1, 8)"
            ]
          },
          "metadata": {
            "tags": []
          },
          "execution_count": 128
        }
      ]
    },
    {
      "cell_type": "code",
      "metadata": {
        "id": "nfSsqGIT2dft",
        "outputId": "aa7994e1-7bb7-4cff-b597-54e1898b9b5b",
        "colab": {
          "base_uri": "https://localhost:8080/",
          "height": 34
        }
      },
      "source": [
        "y_train.shape"
      ],
      "execution_count": 129,
      "outputs": [
        {
          "output_type": "execute_result",
          "data": {
            "text/plain": [
              "(64980, 1, 4)"
            ]
          },
          "metadata": {
            "tags": []
          },
          "execution_count": 129
        }
      ]
    },
    {
      "cell_type": "code",
      "metadata": {
        "id": "Ey0lPeNO2fE3",
        "outputId": "8caf110d-b91d-4273-b9e3-45740b5033f2",
        "colab": {
          "base_uri": "https://localhost:8080/",
          "height": 34
        }
      },
      "source": [
        "x_val.shape"
      ],
      "execution_count": 130,
      "outputs": [
        {
          "output_type": "execute_result",
          "data": {
            "text/plain": [
              "(10000, 1, 8)"
            ]
          },
          "metadata": {
            "tags": []
          },
          "execution_count": 130
        }
      ]
    },
    {
      "cell_type": "code",
      "metadata": {
        "id": "aanTD__Y2g6J",
        "outputId": "25418c7d-5cee-447f-892e-7b197f69d7c6",
        "colab": {
          "base_uri": "https://localhost:8080/",
          "height": 34
        }
      },
      "source": [
        "y_val.shape"
      ],
      "execution_count": 131,
      "outputs": [
        {
          "output_type": "execute_result",
          "data": {
            "text/plain": [
              "(10000, 1, 4)"
            ]
          },
          "metadata": {
            "tags": []
          },
          "execution_count": 131
        }
      ]
    },
    {
      "cell_type": "code",
      "metadata": {
        "id": "z23LyrTh3g27"
      },
      "source": [
        "import tensorflow as tf"
      ],
      "execution_count": 132,
      "outputs": []
    },
    {
      "cell_type": "code",
      "metadata": {
        "id": "0ttsM4CG1fRH"
      },
      "source": [
        "values = [1e-1, 1e-2, 1e-3, 1e-4, 1e-5, 1e-6]\n",
        "\n",
        "from keras.layers import Input, Dense, Conv1D, MaxPooling1D, UpSampling1D, Flatten, Reshape, Dropout\n",
        "from keras.models import Model\n",
        "from keras import backend as K\n",
        "input_img=Input(shape=(n_steps, 8))\n",
        "#input_img = Input(shape=(28, 28, 1))  # adapt this if using `channels_first` image data format\n",
        "# Dropout \n",
        "\n",
        "x = Conv1D(16, 3, activation='relu', padding='same')(input_img)\n",
        "x= MaxPooling1D(2, padding= 'same')(x)\n",
        "\n",
        "# at this point the representation is (4, 4, 8) i.e. 128-dimensional\n",
        "x= Flatten()(x)\n",
        "decoded = Dense(n_features*n_steps, activation='linear')(x)\n",
        "outputs= Reshape((n_steps, n_features))(decoded)\n",
        "#tf.reshape(tensor, shape, name=None)\n",
        "autoencoder = Model(input_img, outputs)\n",
        "opt = keras.optimizers.Adam(learning_rate=0.0001)\n",
        "autoencoder.compile(opt, loss='mse')"
      ],
      "execution_count": 261,
      "outputs": []
    },
    {
      "cell_type": "code",
      "metadata": {
        "id": "4bWyGYKD1xDb",
        "outputId": "763078be-de4c-465e-bfc5-915bd93edc1f",
        "colab": {
          "base_uri": "https://localhost:8080/",
          "height": 733
        }
      },
      "source": [
        "from keras.callbacks import TensorBoard, EarlyStopping\n",
        "\n",
        "es =EarlyStopping(\n",
        "    monitor=\"val_loss\",\n",
        "    min_delta=0.001,\n",
        "    patience=5,\n",
        "    verbose=0,\n",
        "    mode=\"auto\",\n",
        "    baseline=None,\n",
        "    restore_best_weights=True,\n",
        ")\n",
        "history=autoencoder.fit(x_train, y_train,\n",
        "                epochs=500,\n",
        "                batch_size=32,\n",
        "                shuffle=True,\n",
        "                validation_data=(x_val, y_val), \n",
        "                callbacks= [es], verbose=1)\n",
        "\n",
        "# callback = tf.keras.callbacks.EarlyStopping(monitor='loss', patience=3)\n",
        "#Early Stopping.. Can be a wise option to observe\n",
        "#tf.keras.callbacks.EarlyStopping(\n",
        "   # monitor='val_loss', min_delta=0, patience=0, verbose=0, mode='auto',\n",
        "  #  baseline=None, restore_best_weights=False\n",
        "#)"
      ],
      "execution_count": 139,
      "outputs": [
        {
          "output_type": "stream",
          "text": [
            "Epoch 1/500\n",
            "2031/2031 [==============================] - 3s 1ms/step - loss: 2.3016 - val_loss: 0.0522\n",
            "Epoch 2/500\n",
            "2031/2031 [==============================] - 2s 1ms/step - loss: 0.1054 - val_loss: 0.0334\n",
            "Epoch 3/500\n",
            "2031/2031 [==============================] - 2s 1ms/step - loss: 0.0718 - val_loss: 0.0309\n",
            "Epoch 4/500\n",
            "2031/2031 [==============================] - 2s 1ms/step - loss: 0.0571 - val_loss: 0.0276\n",
            "Epoch 5/500\n",
            "2031/2031 [==============================] - 2s 1ms/step - loss: 0.0501 - val_loss: 0.0224\n",
            "Epoch 6/500\n",
            "2031/2031 [==============================] - 3s 1ms/step - loss: 0.0442 - val_loss: 0.0181\n",
            "Epoch 7/500\n",
            "2031/2031 [==============================] - 3s 1ms/step - loss: 0.0389 - val_loss: 0.0150\n",
            "Epoch 8/500\n",
            "2031/2031 [==============================] - 3s 1ms/step - loss: 0.0342 - val_loss: 0.0128\n",
            "Epoch 9/500\n",
            "2031/2031 [==============================] - 2s 1ms/step - loss: 0.0301 - val_loss: 0.0112\n",
            "Epoch 10/500\n",
            "2031/2031 [==============================] - 2s 1ms/step - loss: 0.0264 - val_loss: 0.0100\n",
            "Epoch 11/500\n",
            "2031/2031 [==============================] - 2s 1ms/step - loss: 0.0231 - val_loss: 0.0092\n",
            "Epoch 12/500\n",
            "2031/2031 [==============================] - 2s 1ms/step - loss: 0.0202 - val_loss: 0.0085\n",
            "Epoch 13/500\n",
            "2031/2031 [==============================] - 2s 1ms/step - loss: 0.0179 - val_loss: 0.0081\n",
            "Epoch 14/500\n",
            "2031/2031 [==============================] - 2s 1ms/step - loss: 0.0159 - val_loss: 0.0078\n",
            "Epoch 15/500\n",
            "2031/2031 [==============================] - 2s 1ms/step - loss: 0.0143 - val_loss: 0.0076\n",
            "Epoch 16/500\n",
            "2031/2031 [==============================] - 2s 1ms/step - loss: 0.0132 - val_loss: 0.0073\n",
            "Epoch 17/500\n",
            "2031/2031 [==============================] - 2s 1ms/step - loss: 0.0122 - val_loss: 0.0071\n",
            "Epoch 18/500\n",
            "2031/2031 [==============================] - 2s 1ms/step - loss: 0.0115 - val_loss: 0.0068\n",
            "Epoch 19/500\n",
            "2031/2031 [==============================] - 2s 1ms/step - loss: 0.0111 - val_loss: 0.0067\n",
            "Epoch 20/500\n",
            "2031/2031 [==============================] - 2s 1ms/step - loss: 0.0107 - val_loss: 0.0065\n",
            "Epoch 21/500\n",
            "2031/2031 [==============================] - 2s 1ms/step - loss: 0.0105 - val_loss: 0.0064\n"
          ],
          "name": "stdout"
        }
      ]
    },
    {
      "cell_type": "code",
      "metadata": {
        "id": "m0oWeRH9BDny",
        "outputId": "8ebcfdd0-af80-4d62-b221-6594fb7d3d77",
        "colab": {
          "base_uri": "https://localhost:8080/",
          "height": 1000
        }
      },
      "source": [
        "hist=autoencoder.fit(x_test, y_test, epochs= 250, verbose= 1)"
      ],
      "execution_count": 262,
      "outputs": [
        {
          "output_type": "stream",
          "text": [
            "Epoch 1/250\n",
            "313/313 [==============================] - 0s 940us/step - loss: 6.5417\n",
            "Epoch 2/250\n",
            "313/313 [==============================] - 0s 931us/step - loss: 3.6390\n",
            "Epoch 3/250\n",
            "313/313 [==============================] - 0s 961us/step - loss: 1.5038\n",
            "Epoch 4/250\n",
            "313/313 [==============================] - 0s 923us/step - loss: 0.5159\n",
            "Epoch 5/250\n",
            "313/313 [==============================] - 0s 922us/step - loss: 0.1844\n",
            "Epoch 6/250\n",
            "313/313 [==============================] - 0s 947us/step - loss: 0.0930\n",
            "Epoch 7/250\n",
            "313/313 [==============================] - 0s 949us/step - loss: 0.0638\n",
            "Epoch 8/250\n",
            "313/313 [==============================] - 0s 957us/step - loss: 0.0432\n",
            "Epoch 9/250\n",
            "313/313 [==============================] - 0s 954us/step - loss: 0.0318\n",
            "Epoch 10/250\n",
            "313/313 [==============================] - 0s 945us/step - loss: 0.0273\n",
            "Epoch 11/250\n",
            "313/313 [==============================] - 0s 939us/step - loss: 0.0249\n",
            "Epoch 12/250\n",
            "313/313 [==============================] - 0s 950us/step - loss: 0.0233\n",
            "Epoch 13/250\n",
            "313/313 [==============================] - 0s 1ms/step - loss: 0.0220\n",
            "Epoch 14/250\n",
            "313/313 [==============================] - 0s 988us/step - loss: 0.0211\n",
            "Epoch 15/250\n",
            "313/313 [==============================] - 0s 937us/step - loss: 0.0202\n",
            "Epoch 16/250\n",
            "313/313 [==============================] - 0s 917us/step - loss: 0.0194\n",
            "Epoch 17/250\n",
            "313/313 [==============================] - 0s 997us/step - loss: 0.0186\n",
            "Epoch 18/250\n",
            "313/313 [==============================] - 0s 931us/step - loss: 0.0179\n",
            "Epoch 19/250\n",
            "313/313 [==============================] - 0s 927us/step - loss: 0.0172\n",
            "Epoch 20/250\n",
            "313/313 [==============================] - 0s 951us/step - loss: 0.0165\n",
            "Epoch 21/250\n",
            "313/313 [==============================] - 0s 942us/step - loss: 0.0158\n",
            "Epoch 22/250\n",
            "313/313 [==============================] - 0s 940us/step - loss: 0.0151\n",
            "Epoch 23/250\n",
            "313/313 [==============================] - 0s 1ms/step - loss: 0.0145\n",
            "Epoch 24/250\n",
            "313/313 [==============================] - 0s 922us/step - loss: 0.0140\n",
            "Epoch 25/250\n",
            "313/313 [==============================] - 0s 936us/step - loss: 0.0135\n",
            "Epoch 26/250\n",
            "313/313 [==============================] - 0s 934us/step - loss: 0.0131\n",
            "Epoch 27/250\n",
            "313/313 [==============================] - 0s 990us/step - loss: 0.0128\n",
            "Epoch 28/250\n",
            "313/313 [==============================] - 0s 953us/step - loss: 0.0125\n",
            "Epoch 29/250\n",
            "313/313 [==============================] - 0s 959us/step - loss: 0.0122\n",
            "Epoch 30/250\n",
            "313/313 [==============================] - 0s 987us/step - loss: 0.0120\n",
            "Epoch 31/250\n",
            "313/313 [==============================] - 0s 986us/step - loss: 0.0118\n",
            "Epoch 32/250\n",
            "313/313 [==============================] - 0s 944us/step - loss: 0.0116\n",
            "Epoch 33/250\n",
            "313/313 [==============================] - 0s 1ms/step - loss: 0.0115\n",
            "Epoch 34/250\n",
            "313/313 [==============================] - 0s 999us/step - loss: 0.0114\n",
            "Epoch 35/250\n",
            "313/313 [==============================] - 0s 989us/step - loss: 0.0113\n",
            "Epoch 36/250\n",
            "313/313 [==============================] - 0s 1ms/step - loss: 0.0112\n",
            "Epoch 37/250\n",
            "313/313 [==============================] - 0s 975us/step - loss: 0.0111\n",
            "Epoch 38/250\n",
            "313/313 [==============================] - 0s 936us/step - loss: 0.0109\n",
            "Epoch 39/250\n",
            "313/313 [==============================] - 0s 1ms/step - loss: 0.0104\n",
            "Epoch 40/250\n",
            "313/313 [==============================] - 0s 1ms/step - loss: 0.0101\n",
            "Epoch 41/250\n",
            "313/313 [==============================] - 0s 930us/step - loss: 0.0099\n",
            "Epoch 42/250\n",
            "313/313 [==============================] - 0s 935us/step - loss: 0.0098\n",
            "Epoch 43/250\n",
            "313/313 [==============================] - 0s 964us/step - loss: 0.0096\n",
            "Epoch 44/250\n",
            "313/313 [==============================] - 0s 1ms/step - loss: 0.0095\n",
            "Epoch 45/250\n",
            "313/313 [==============================] - 0s 932us/step - loss: 0.0093\n",
            "Epoch 46/250\n",
            "313/313 [==============================] - 0s 958us/step - loss: 0.0092\n",
            "Epoch 47/250\n",
            "313/313 [==============================] - 0s 959us/step - loss: 0.0090\n",
            "Epoch 48/250\n",
            "313/313 [==============================] - 0s 948us/step - loss: 0.0089\n",
            "Epoch 49/250\n",
            "313/313 [==============================] - 0s 1ms/step - loss: 0.0087\n",
            "Epoch 50/250\n",
            "313/313 [==============================] - 0s 997us/step - loss: 0.0086\n",
            "Epoch 51/250\n",
            "313/313 [==============================] - 0s 953us/step - loss: 0.0085\n",
            "Epoch 52/250\n",
            "313/313 [==============================] - 0s 922us/step - loss: 0.0084\n",
            "Epoch 53/250\n",
            "313/313 [==============================] - 0s 995us/step - loss: 0.0083\n",
            "Epoch 54/250\n",
            "313/313 [==============================] - 0s 960us/step - loss: 0.0081\n",
            "Epoch 55/250\n",
            "313/313 [==============================] - 0s 1ms/step - loss: 0.0080\n",
            "Epoch 56/250\n",
            "313/313 [==============================] - 0s 986us/step - loss: 0.0079\n",
            "Epoch 57/250\n",
            "313/313 [==============================] - 0s 958us/step - loss: 0.0078\n",
            "Epoch 58/250\n",
            "313/313 [==============================] - 0s 939us/step - loss: 0.0077\n",
            "Epoch 59/250\n",
            "313/313 [==============================] - 0s 939us/step - loss: 0.0076\n",
            "Epoch 60/250\n",
            "313/313 [==============================] - 0s 963us/step - loss: 0.0074\n",
            "Epoch 61/250\n",
            "313/313 [==============================] - 0s 935us/step - loss: 0.0073\n",
            "Epoch 62/250\n",
            "313/313 [==============================] - 0s 1ms/step - loss: 0.0072\n",
            "Epoch 63/250\n",
            "313/313 [==============================] - 0s 1ms/step - loss: 0.0071\n",
            "Epoch 64/250\n",
            "313/313 [==============================] - 0s 942us/step - loss: 0.0070\n",
            "Epoch 65/250\n",
            "313/313 [==============================] - 0s 938us/step - loss: 0.0069\n",
            "Epoch 66/250\n",
            "313/313 [==============================] - 0s 976us/step - loss: 0.0069\n",
            "Epoch 67/250\n",
            "313/313 [==============================] - 0s 1ms/step - loss: 0.0068\n",
            "Epoch 68/250\n",
            "313/313 [==============================] - 0s 964us/step - loss: 0.0067\n",
            "Epoch 69/250\n",
            "313/313 [==============================] - 0s 945us/step - loss: 0.0066\n",
            "Epoch 70/250\n",
            "313/313 [==============================] - 0s 988us/step - loss: 0.0065\n",
            "Epoch 71/250\n",
            "313/313 [==============================] - 0s 981us/step - loss: 0.0064\n",
            "Epoch 72/250\n",
            "313/313 [==============================] - 0s 922us/step - loss: 0.0063\n",
            "Epoch 73/250\n",
            "313/313 [==============================] - 0s 987us/step - loss: 0.0063\n",
            "Epoch 74/250\n",
            "313/313 [==============================] - 0s 954us/step - loss: 0.0062\n",
            "Epoch 75/250\n",
            "313/313 [==============================] - 0s 941us/step - loss: 0.0061\n",
            "Epoch 76/250\n",
            "313/313 [==============================] - 0s 955us/step - loss: 0.0061\n",
            "Epoch 77/250\n",
            "313/313 [==============================] - 0s 961us/step - loss: 0.0060\n",
            "Epoch 78/250\n",
            "313/313 [==============================] - 0s 937us/step - loss: 0.0059\n",
            "Epoch 79/250\n",
            "313/313 [==============================] - 0s 932us/step - loss: 0.0058\n",
            "Epoch 80/250\n",
            "313/313 [==============================] - 0s 1ms/step - loss: 0.0058\n",
            "Epoch 81/250\n",
            "313/313 [==============================] - 0s 992us/step - loss: 0.0057\n",
            "Epoch 82/250\n",
            "313/313 [==============================] - 0s 929us/step - loss: 0.0057\n",
            "Epoch 83/250\n",
            "313/313 [==============================] - 0s 963us/step - loss: 0.0056\n",
            "Epoch 84/250\n",
            "313/313 [==============================] - 0s 944us/step - loss: 0.0055\n",
            "Epoch 85/250\n",
            "313/313 [==============================] - 0s 943us/step - loss: 0.0055\n",
            "Epoch 86/250\n",
            "313/313 [==============================] - 0s 1ms/step - loss: 0.0054\n",
            "Epoch 87/250\n",
            "313/313 [==============================] - 0s 938us/step - loss: 0.0054\n",
            "Epoch 88/250\n",
            "313/313 [==============================] - 0s 949us/step - loss: 0.0053\n",
            "Epoch 89/250\n",
            "313/313 [==============================] - 0s 1ms/step - loss: 0.0053\n",
            "Epoch 90/250\n",
            "313/313 [==============================] - 0s 921us/step - loss: 0.0052\n",
            "Epoch 91/250\n",
            "313/313 [==============================] - 0s 962us/step - loss: 0.0052\n",
            "Epoch 92/250\n",
            "313/313 [==============================] - 0s 993us/step - loss: 0.0051\n",
            "Epoch 93/250\n",
            "313/313 [==============================] - 0s 966us/step - loss: 0.0051\n",
            "Epoch 94/250\n",
            "313/313 [==============================] - 0s 935us/step - loss: 0.0050\n",
            "Epoch 95/250\n",
            "313/313 [==============================] - 0s 934us/step - loss: 0.0050\n",
            "Epoch 96/250\n",
            "313/313 [==============================] - 0s 964us/step - loss: 0.0050\n",
            "Epoch 97/250\n",
            "313/313 [==============================] - 0s 940us/step - loss: 0.0049\n",
            "Epoch 98/250\n",
            "313/313 [==============================] - 0s 1ms/step - loss: 0.0049\n",
            "Epoch 99/250\n",
            "313/313 [==============================] - 0s 982us/step - loss: 0.0048\n",
            "Epoch 100/250\n",
            "313/313 [==============================] - 0s 933us/step - loss: 0.0048\n",
            "Epoch 101/250\n",
            "313/313 [==============================] - 0s 1ms/step - loss: 0.0048\n",
            "Epoch 102/250\n",
            "313/313 [==============================] - 0s 922us/step - loss: 0.0047\n",
            "Epoch 103/250\n",
            "313/313 [==============================] - 0s 1ms/step - loss: 0.0047\n",
            "Epoch 104/250\n",
            "313/313 [==============================] - 0s 943us/step - loss: 0.0047\n",
            "Epoch 105/250\n",
            "313/313 [==============================] - 0s 933us/step - loss: 0.0046\n",
            "Epoch 106/250\n",
            "313/313 [==============================] - 0s 938us/step - loss: 0.0046\n",
            "Epoch 107/250\n",
            "313/313 [==============================] - 0s 934us/step - loss: 0.0046\n",
            "Epoch 108/250\n",
            "313/313 [==============================] - 0s 960us/step - loss: 0.0045\n",
            "Epoch 109/250\n",
            "313/313 [==============================] - 0s 1ms/step - loss: 0.0045\n",
            "Epoch 110/250\n",
            "313/313 [==============================] - 0s 950us/step - loss: 0.0044\n",
            "Epoch 111/250\n",
            "313/313 [==============================] - 0s 979us/step - loss: 0.0044\n",
            "Epoch 112/250\n",
            "313/313 [==============================] - 0s 945us/step - loss: 0.0044\n",
            "Epoch 113/250\n",
            "313/313 [==============================] - 0s 995us/step - loss: 0.0043\n",
            "Epoch 114/250\n",
            "313/313 [==============================] - 0s 964us/step - loss: 0.0043\n",
            "Epoch 115/250\n",
            "313/313 [==============================] - 0s 938us/step - loss: 0.0043\n",
            "Epoch 116/250\n",
            "313/313 [==============================] - 0s 971us/step - loss: 0.0043\n",
            "Epoch 117/250\n",
            "313/313 [==============================] - 0s 1ms/step - loss: 0.0042\n",
            "Epoch 118/250\n",
            "313/313 [==============================] - 0s 1ms/step - loss: 0.0042\n",
            "Epoch 119/250\n",
            "313/313 [==============================] - 0s 1ms/step - loss: 0.0042\n",
            "Epoch 120/250\n",
            "313/313 [==============================] - 0s 991us/step - loss: 0.0042\n",
            "Epoch 121/250\n",
            "313/313 [==============================] - 0s 947us/step - loss: 0.0041\n",
            "Epoch 122/250\n",
            "313/313 [==============================] - 0s 988us/step - loss: 0.0041\n",
            "Epoch 123/250\n",
            "313/313 [==============================] - 0s 949us/step - loss: 0.0041\n",
            "Epoch 124/250\n",
            "313/313 [==============================] - 0s 958us/step - loss: 0.0040\n",
            "Epoch 125/250\n",
            "313/313 [==============================] - 0s 959us/step - loss: 0.0040\n",
            "Epoch 126/250\n",
            "313/313 [==============================] - 0s 967us/step - loss: 0.0040\n",
            "Epoch 127/250\n",
            "313/313 [==============================] - 0s 970us/step - loss: 0.0040\n",
            "Epoch 128/250\n",
            "313/313 [==============================] - 0s 957us/step - loss: 0.0040\n",
            "Epoch 129/250\n",
            "313/313 [==============================] - 0s 1ms/step - loss: 0.0039\n",
            "Epoch 130/250\n",
            "313/313 [==============================] - 0s 948us/step - loss: 0.0039\n",
            "Epoch 131/250\n",
            "313/313 [==============================] - 0s 965us/step - loss: 0.0039\n",
            "Epoch 132/250\n",
            "313/313 [==============================] - 0s 1ms/step - loss: 0.0039\n",
            "Epoch 133/250\n",
            "313/313 [==============================] - 0s 951us/step - loss: 0.0039\n",
            "Epoch 134/250\n",
            "313/313 [==============================] - 0s 945us/step - loss: 0.0038\n",
            "Epoch 135/250\n",
            "313/313 [==============================] - 0s 1ms/step - loss: 0.0038\n",
            "Epoch 136/250\n",
            "313/313 [==============================] - 0s 964us/step - loss: 0.0038\n",
            "Epoch 137/250\n",
            "313/313 [==============================] - 0s 1ms/step - loss: 0.0038\n",
            "Epoch 138/250\n",
            "313/313 [==============================] - 0s 1ms/step - loss: 0.0038\n",
            "Epoch 139/250\n",
            "313/313 [==============================] - 0s 965us/step - loss: 0.0037\n",
            "Epoch 140/250\n",
            "313/313 [==============================] - 0s 959us/step - loss: 0.0037\n",
            "Epoch 141/250\n",
            "313/313 [==============================] - 0s 962us/step - loss: 0.0037\n",
            "Epoch 142/250\n",
            "313/313 [==============================] - 0s 960us/step - loss: 0.0037\n",
            "Epoch 143/250\n",
            "313/313 [==============================] - 0s 953us/step - loss: 0.0037\n",
            "Epoch 144/250\n",
            "313/313 [==============================] - 0s 1ms/step - loss: 0.0037\n",
            "Epoch 145/250\n",
            "313/313 [==============================] - 0s 950us/step - loss: 0.0036\n",
            "Epoch 146/250\n",
            "313/313 [==============================] - 0s 1ms/step - loss: 0.0036\n",
            "Epoch 147/250\n",
            "313/313 [==============================] - 0s 933us/step - loss: 0.0036\n",
            "Epoch 148/250\n",
            "313/313 [==============================] - 0s 975us/step - loss: 0.0036\n",
            "Epoch 149/250\n",
            "313/313 [==============================] - 0s 944us/step - loss: 0.0036\n",
            "Epoch 150/250\n",
            "313/313 [==============================] - 0s 933us/step - loss: 0.0036\n",
            "Epoch 151/250\n",
            "313/313 [==============================] - 0s 1ms/step - loss: 0.0036\n",
            "Epoch 152/250\n",
            "313/313 [==============================] - 0s 977us/step - loss: 0.0035\n",
            "Epoch 153/250\n",
            "313/313 [==============================] - 0s 1ms/step - loss: 0.0035\n",
            "Epoch 154/250\n",
            "313/313 [==============================] - 0s 1ms/step - loss: 0.0035\n",
            "Epoch 155/250\n",
            "313/313 [==============================] - 0s 989us/step - loss: 0.0035\n",
            "Epoch 156/250\n",
            "313/313 [==============================] - 0s 936us/step - loss: 0.0035\n",
            "Epoch 157/250\n",
            "313/313 [==============================] - 0s 952us/step - loss: 0.0035\n",
            "Epoch 158/250\n",
            "313/313 [==============================] - 0s 966us/step - loss: 0.0034\n",
            "Epoch 159/250\n",
            "313/313 [==============================] - 0s 953us/step - loss: 0.0034\n",
            "Epoch 160/250\n",
            "313/313 [==============================] - 0s 926us/step - loss: 0.0034\n",
            "Epoch 161/250\n",
            "313/313 [==============================] - 0s 957us/step - loss: 0.0034\n",
            "Epoch 162/250\n",
            "313/313 [==============================] - 0s 988us/step - loss: 0.0034\n",
            "Epoch 163/250\n",
            "313/313 [==============================] - 0s 955us/step - loss: 0.0034\n",
            "Epoch 164/250\n",
            "313/313 [==============================] - 0s 945us/step - loss: 0.0034\n",
            "Epoch 165/250\n",
            "313/313 [==============================] - 0s 957us/step - loss: 0.0034\n",
            "Epoch 166/250\n",
            "313/313 [==============================] - 0s 945us/step - loss: 0.0034\n",
            "Epoch 167/250\n",
            "313/313 [==============================] - 0s 979us/step - loss: 0.0033\n",
            "Epoch 168/250\n",
            "313/313 [==============================] - 0s 1ms/step - loss: 0.0033\n",
            "Epoch 169/250\n",
            "313/313 [==============================] - 0s 956us/step - loss: 0.0033\n",
            "Epoch 170/250\n",
            "313/313 [==============================] - 0s 934us/step - loss: 0.0033\n",
            "Epoch 171/250\n",
            "313/313 [==============================] - 0s 925us/step - loss: 0.0033\n",
            "Epoch 172/250\n",
            "313/313 [==============================] - 0s 966us/step - loss: 0.0033\n",
            "Epoch 173/250\n",
            "313/313 [==============================] - 0s 1ms/step - loss: 0.0033\n",
            "Epoch 174/250\n",
            "313/313 [==============================] - 0s 959us/step - loss: 0.0033\n",
            "Epoch 175/250\n",
            "313/313 [==============================] - 0s 1ms/step - loss: 0.0032\n",
            "Epoch 176/250\n",
            "313/313 [==============================] - 0s 926us/step - loss: 0.0032\n",
            "Epoch 177/250\n",
            "313/313 [==============================] - 0s 958us/step - loss: 0.0032\n",
            "Epoch 178/250\n",
            "313/313 [==============================] - 0s 954us/step - loss: 0.0032\n",
            "Epoch 179/250\n",
            "313/313 [==============================] - 0s 938us/step - loss: 0.0032\n",
            "Epoch 180/250\n",
            "313/313 [==============================] - 0s 954us/step - loss: 0.0032\n",
            "Epoch 181/250\n",
            "313/313 [==============================] - 0s 1ms/step - loss: 0.0032\n",
            "Epoch 182/250\n",
            "313/313 [==============================] - 0s 958us/step - loss: 0.0032\n",
            "Epoch 183/250\n",
            "313/313 [==============================] - 0s 938us/step - loss: 0.0032\n",
            "Epoch 184/250\n",
            "313/313 [==============================] - 0s 927us/step - loss: 0.0031\n",
            "Epoch 185/250\n",
            "313/313 [==============================] - 0s 986us/step - loss: 0.0031\n",
            "Epoch 186/250\n",
            "313/313 [==============================] - 0s 934us/step - loss: 0.0031\n",
            "Epoch 187/250\n",
            "313/313 [==============================] - 0s 987us/step - loss: 0.0031\n",
            "Epoch 188/250\n",
            "313/313 [==============================] - 0s 964us/step - loss: 0.0031\n",
            "Epoch 189/250\n",
            "313/313 [==============================] - 0s 922us/step - loss: 0.0031\n",
            "Epoch 190/250\n",
            "313/313 [==============================] - 0s 1ms/step - loss: 0.0031\n",
            "Epoch 191/250\n",
            "313/313 [==============================] - 0s 991us/step - loss: 0.0031\n",
            "Epoch 192/250\n",
            "313/313 [==============================] - 0s 938us/step - loss: 0.0031\n",
            "Epoch 193/250\n",
            "313/313 [==============================] - 0s 933us/step - loss: 0.0031\n",
            "Epoch 194/250\n",
            "313/313 [==============================] - 0s 940us/step - loss: 0.0031\n",
            "Epoch 195/250\n",
            "313/313 [==============================] - 0s 958us/step - loss: 0.0031\n",
            "Epoch 196/250\n",
            "313/313 [==============================] - 0s 947us/step - loss: 0.0030\n",
            "Epoch 197/250\n",
            "313/313 [==============================] - 0s 949us/step - loss: 0.0030\n",
            "Epoch 198/250\n",
            "313/313 [==============================] - 0s 961us/step - loss: 0.0030\n",
            "Epoch 199/250\n",
            "313/313 [==============================] - 0s 992us/step - loss: 0.0030\n",
            "Epoch 200/250\n",
            "313/313 [==============================] - 0s 999us/step - loss: 0.0030\n",
            "Epoch 201/250\n",
            "313/313 [==============================] - 0s 954us/step - loss: 0.0030\n",
            "Epoch 202/250\n",
            "313/313 [==============================] - 0s 957us/step - loss: 0.0030\n",
            "Epoch 203/250\n",
            "313/313 [==============================] - 0s 1ms/step - loss: 0.0030\n",
            "Epoch 204/250\n",
            "313/313 [==============================] - 0s 959us/step - loss: 0.0030\n",
            "Epoch 205/250\n",
            "313/313 [==============================] - 0s 1ms/step - loss: 0.0030\n",
            "Epoch 206/250\n",
            "313/313 [==============================] - 0s 939us/step - loss: 0.0030\n",
            "Epoch 207/250\n",
            "313/313 [==============================] - 0s 929us/step - loss: 0.0030\n",
            "Epoch 208/250\n",
            "313/313 [==============================] - 0s 948us/step - loss: 0.0030\n",
            "Epoch 209/250\n",
            "313/313 [==============================] - 0s 956us/step - loss: 0.0030\n",
            "Epoch 210/250\n",
            "313/313 [==============================] - 0s 959us/step - loss: 0.0030\n",
            "Epoch 211/250\n",
            "313/313 [==============================] - 0s 984us/step - loss: 0.0029\n",
            "Epoch 212/250\n",
            "313/313 [==============================] - 0s 949us/step - loss: 0.0029\n",
            "Epoch 213/250\n",
            "313/313 [==============================] - 0s 981us/step - loss: 0.0029\n",
            "Epoch 214/250\n",
            "313/313 [==============================] - 0s 947us/step - loss: 0.0029\n",
            "Epoch 215/250\n",
            "313/313 [==============================] - 0s 930us/step - loss: 0.0029\n",
            "Epoch 216/250\n",
            "313/313 [==============================] - 0s 971us/step - loss: 0.0029\n",
            "Epoch 217/250\n",
            "313/313 [==============================] - 0s 912us/step - loss: 0.0029\n",
            "Epoch 218/250\n",
            "313/313 [==============================] - 0s 972us/step - loss: 0.0029\n",
            "Epoch 219/250\n",
            "313/313 [==============================] - 0s 964us/step - loss: 0.0029\n",
            "Epoch 220/250\n",
            "313/313 [==============================] - 0s 949us/step - loss: 0.0029\n",
            "Epoch 221/250\n",
            "313/313 [==============================] - 0s 997us/step - loss: 0.0029\n",
            "Epoch 222/250\n",
            "313/313 [==============================] - 0s 947us/step - loss: 0.0029\n",
            "Epoch 223/250\n",
            "313/313 [==============================] - 0s 950us/step - loss: 0.0029\n",
            "Epoch 224/250\n",
            "313/313 [==============================] - 0s 926us/step - loss: 0.0029\n",
            "Epoch 225/250\n",
            "313/313 [==============================] - 0s 956us/step - loss: 0.0029\n",
            "Epoch 226/250\n",
            "313/313 [==============================] - 0s 1ms/step - loss: 0.0029\n",
            "Epoch 227/250\n",
            "313/313 [==============================] - 0s 957us/step - loss: 0.0029\n",
            "Epoch 228/250\n",
            "313/313 [==============================] - 0s 958us/step - loss: 0.0028\n",
            "Epoch 229/250\n",
            "313/313 [==============================] - 0s 1ms/step - loss: 0.0028\n",
            "Epoch 230/250\n",
            "313/313 [==============================] - 0s 951us/step - loss: 0.0028\n",
            "Epoch 231/250\n",
            "313/313 [==============================] - 0s 1ms/step - loss: 0.0028\n",
            "Epoch 232/250\n",
            "313/313 [==============================] - 0s 967us/step - loss: 0.0028\n",
            "Epoch 233/250\n",
            "313/313 [==============================] - 0s 930us/step - loss: 0.0028\n",
            "Epoch 234/250\n",
            "313/313 [==============================] - 0s 954us/step - loss: 0.0028\n",
            "Epoch 235/250\n",
            "313/313 [==============================] - 0s 950us/step - loss: 0.0028\n",
            "Epoch 236/250\n",
            "313/313 [==============================] - 0s 948us/step - loss: 0.0028\n",
            "Epoch 237/250\n",
            "313/313 [==============================] - 0s 1ms/step - loss: 0.0028\n",
            "Epoch 238/250\n",
            "313/313 [==============================] - 0s 937us/step - loss: 0.0028\n",
            "Epoch 239/250\n",
            "313/313 [==============================] - 0s 1ms/step - loss: 0.0028\n",
            "Epoch 240/250\n",
            "313/313 [==============================] - 0s 946us/step - loss: 0.0028\n",
            "Epoch 241/250\n",
            "313/313 [==============================] - 0s 986us/step - loss: 0.0028\n",
            "Epoch 242/250\n",
            "313/313 [==============================] - 0s 963us/step - loss: 0.0028\n",
            "Epoch 243/250\n",
            "313/313 [==============================] - 0s 938us/step - loss: 0.0028\n",
            "Epoch 244/250\n",
            "313/313 [==============================] - 0s 955us/step - loss: 0.0028\n",
            "Epoch 245/250\n",
            "313/313 [==============================] - 0s 933us/step - loss: 0.0028\n",
            "Epoch 246/250\n",
            "313/313 [==============================] - 0s 937us/step - loss: 0.0028\n",
            "Epoch 247/250\n",
            "313/313 [==============================] - 0s 952us/step - loss: 0.0028\n",
            "Epoch 248/250\n",
            "313/313 [==============================] - 0s 983us/step - loss: 0.0028\n",
            "Epoch 249/250\n",
            "313/313 [==============================] - 0s 924us/step - loss: 0.0028\n",
            "Epoch 250/250\n",
            "313/313 [==============================] - 0s 914us/step - loss: 0.0028\n"
          ],
          "name": "stdout"
        }
      ]
    },
    {
      "cell_type": "code",
      "metadata": {
        "id": "NuHyFRwMBObJ"
      },
      "source": [
        "y=autoencoder.predict(x_test)"
      ],
      "execution_count": 263,
      "outputs": []
    },
    {
      "cell_type": "code",
      "metadata": {
        "id": "uca4tiSSBYJx"
      },
      "source": [
        "xc=x_test.reshape((x_test.shape[0]*x_test.shape[1]), x_test.shape[2])"
      ],
      "execution_count": 289,
      "outputs": []
    },
    {
      "cell_type": "code",
      "metadata": {
        "id": "r4Gw7J5zBbHq"
      },
      "source": [
        "xc1=xc[:,0]\n",
        "xc2=xc[:,1]\n",
        "xc3=xc[:,2]\n",
        "xc4=xc[:,3]"
      ],
      "execution_count": 290,
      "outputs": []
    },
    {
      "cell_type": "code",
      "metadata": {
        "id": "oHalAyWYBfxA"
      },
      "source": [
        "\n",
        "vc=y.reshape((y.shape[0]*y.shape[1]), y.shape[2])\n",
        "vc1=vc[:,0]\n",
        "vc2=vc[:,1]\n",
        "vc3=vc[:,2]\n",
        "vc4=vc[:,3]"
      ],
      "execution_count": 291,
      "outputs": []
    },
    {
      "cell_type": "code",
      "metadata": {
        "id": "QSbzvsFEBkTz"
      },
      "source": [
        "t_test=t[-10000:]"
      ],
      "execution_count": 267,
      "outputs": []
    },
    {
      "cell_type": "code",
      "metadata": {
        "id": "OfdkfYA2BoHB",
        "outputId": "fb67ed0b-e796-4c92-f74d-1d35fda0d3d4",
        "colab": {
          "base_uri": "https://localhost:8080/",
          "height": 295
        }
      },
      "source": [
        "fax = plt.gca()\n",
        "plt.plot(t_test,xc1, color='yellow', label='Orignal DVL1 Data')\n",
        "\n",
        "plt.plot(t_test,vc1, color='green', label='prediction')\n",
        "plt.xlabel('Time')\n",
        "plt.ylabel('Distance')\n",
        "plt.title('DVL Beam 1')\n",
        "plt.legend()\n",
        "\n",
        "plt.show()"
      ],
      "execution_count": 268,
      "outputs": [
        {
          "output_type": "display_data",
          "data": {
            "image/png": "[encoded data removed]",
            "text/plain": [
              "<Figure size 432x288 with 1 Axes>"
            ]
          },
          "metadata": {
            "tags": [],
            "needs_background": "light"
          }
        }
      ]
    },
    {
      "cell_type": "code",
      "metadata": {
        "id": "qSQHULpIBqSs",
        "outputId": "e2c9e2cd-65ac-4c6e-d394-ff3ddf56f6d1",
        "colab": {
          "base_uri": "https://localhost:8080/",
          "height": 295
        }
      },
      "source": [
        "fax = plt.gca()\n",
        "plt.plot(t_test,xc2, color='yellow', label='Orignal DVL1 Data')\n",
        "\n",
        "plt.plot(t_test,vc2, color='green', label='prediction')\n",
        "plt.xlabel('Time')\n",
        "plt.ylabel('Distance')\n",
        "plt.title('DVL Beam 2')\n",
        "plt.legend()\n",
        "\n",
        "plt.show()"
      ],
      "execution_count": 272,
      "outputs": [
        {
          "output_type": "display_data",
          "data": {
            "image/png": "[encoded data removed]",
            "text/plain": [
              "<Figure size 432x288 with 1 Axes>"
            ]
          },
          "metadata": {
            "tags": [],
            "needs_background": "light"
          }
        }
      ]
    },
    {
      "cell_type": "code",
      "metadata": {
        "id": "ksGrCEQaBvHM",
        "outputId": "34bf13b8-62fb-44ba-e0e9-9de587bf4844",
        "colab": {
          "base_uri": "https://localhost:8080/",
          "height": 295
        }
      },
      "source": [
        "fax = plt.gca()\n",
        "plt.plot(t_test,xc3, color='yellow', label='Orignal DVL1 Data')\n",
        "\n",
        "plt.plot(t_test,vc3, color='green', label='prediction')\n",
        "plt.xlabel('Time')\n",
        "plt.ylabel('Distance')\n",
        "plt.title('DVL Beam 3')\n",
        "plt.legend()\n",
        "\n",
        "plt.show()"
      ],
      "execution_count": 273,
      "outputs": [
        {
          "output_type": "display_data",
          "data": {
            "image/png": "[encoded data removed]",
            "text/plain": [
              "<Figure size 432x288 with 1 Axes>"
            ]
          },
          "metadata": {
            "tags": [],
            "needs_background": "light"
          }
        }
      ]
    },
    {
      "cell_type": "code",
      "metadata": {
        "id": "GNBHTZifBxxt",
        "outputId": "7b462f4e-d4cc-4036-a583-2c68bdfc291c",
        "colab": {
          "base_uri": "https://localhost:8080/",
          "height": 295
        }
      },
      "source": [
        "fax = plt.gca()\n",
        "plt.plot(t_test,xc4, color='yellow', label='Orignal DVL1 Data')\n",
        "\n",
        "plt.plot(t_test,vc4, color='green', label='prediction')\n",
        "plt.xlabel('Time')\n",
        "plt.ylabel('Distance')\n",
        "plt.title('DVL Beam 4')\n",
        "plt.legend()\n",
        "\n",
        "plt.show()"
      ],
      "execution_count": 274,
      "outputs": [
        {
          "output_type": "display_data",
          "data": {
            "image/png": "[encoded data removed]",
            "text/plain": [
              "<Figure size 432x288 with 1 Axes>"
            ]
          },
          "metadata": {
            "tags": [],
            "needs_background": "light"
          }
        }
      ]
    },
    {
      "cell_type": "code",
      "metadata": {
        "id": "sw8443shFdru"
      },
      "source": [
        "# Analysis for the few fishes, in order to remove them\n",
        "t_test_2000=t_test[:2000]"
      ],
      "execution_count": 292,
      "outputs": []
    },
    {
      "cell_type": "code",
      "metadata": {
        "id": "zTmahsoJGcp3"
      },
      "source": [
        "xc_2000=xc1[:2000]"
      ],
      "execution_count": 293,
      "outputs": []
    },
    {
      "cell_type": "code",
      "metadata": {
        "id": "asqNTBJeGiOZ"
      },
      "source": [
        "vc_2000=vc1[:2000]"
      ],
      "execution_count": 294,
      "outputs": []
    },
    {
      "cell_type": "code",
      "metadata": {
        "id": "0IiZh0dUGlBv"
      },
      "source": [
        "xc_2000f=xc2[:2000]\n",
        "vc_2000f=vc2[:2000]"
      ],
      "execution_count": 295,
      "outputs": []
    },
    {
      "cell_type": "code",
      "metadata": {
        "id": "iT99OvdaGpe9"
      },
      "source": [
        "xc_2000g=xc3[:2000]\n",
        "vc_2000g=vc3[:2000]"
      ],
      "execution_count": 300,
      "outputs": []
    },
    {
      "cell_type": "code",
      "metadata": {
        "id": "MPJ1fvHPGuDi"
      },
      "source": [
        "xc_2000h=xc4[:2000]\n",
        "vc_2000h=vc4[:2000]"
      ],
      "execution_count": 301,
      "outputs": []
    },
    {
      "cell_type": "code",
      "metadata": {
        "id": "jH2DlXwHHBr-",
        "outputId": "5974028f-9b2c-4f92-fd0d-034be3551416",
        "colab": {
          "base_uri": "https://localhost:8080/",
          "height": 295
        }
      },
      "source": [
        "fax = plt.gca()\n",
        "plt.plot(t_test_2000,xc_2000, color='yellow', label='Orignal DVL1 Data')\n",
        "\n",
        "plt.plot(t_test_2000,vc_2000, color='green', label='prediction')\n",
        "plt.xlabel('Time')\n",
        "plt.ylabel('Distance')\n",
        "plt.title('DVL Beam 1')\n",
        "plt.legend()\n",
        "\n",
        "plt.show()"
      ],
      "execution_count": 298,
      "outputs": [
        {
          "output_type": "display_data",
          "data": {
            "image/png": "[encoded data removed]",
            "text/plain": [
              "<Figure size 432x288 with 1 Axes>"
            ]
          },
          "metadata": {
            "tags": [],
            "needs_background": "light"
          }
        }
      ]
    },
    {
      "cell_type": "code",
      "metadata": {
        "id": "Y3Mmq5rFHbfE",
        "outputId": "9df48443-bb05-462d-8a55-bdd9f2f67f88",
        "colab": {
          "base_uri": "https://localhost:8080/",
          "height": 295
        }
      },
      "source": [
        "fax = plt.gca()\n",
        "plt.plot(t_test_2000,xc_2000f, color='yellow', label='Orignal DVL1 Data')\n",
        "\n",
        "plt.plot(t_test_2000,vc_2000f, color='green', label='prediction')\n",
        "plt.xlabel('Time')\n",
        "plt.ylabel('Distance')\n",
        "plt.title('DVL Beam 2')\n",
        "plt.legend()\n",
        "\n",
        "plt.show()"
      ],
      "execution_count": 303,
      "outputs": [
        {
          "output_type": "display_data",
          "data": {
            "image/png": "[encoded data removed]",
            "text/plain": [
              "<Figure size 432x288 with 1 Axes>"
            ]
          },
          "metadata": {
            "tags": [],
            "needs_background": "light"
          }
        }
      ]
    },
    {
      "cell_type": "code",
      "metadata": {
        "id": "ZY2j0utQHMGB",
        "outputId": "200fb464-4300-4150-a56d-76baa58caec6",
        "colab": {
          "base_uri": "https://localhost:8080/",
          "height": 295
        }
      },
      "source": [
        "fax = plt.gca()\n",
        "plt.plot(t_test_2000,xc_2000g, color='yellow', label='Orignal DVL1 Data')\n",
        "\n",
        "plt.plot(t_test_2000,vc_2000g, color='green', label='prediction')\n",
        "plt.xlabel('Time')\n",
        "plt.ylabel('Distance')\n",
        "plt.title('DVL Beam 3')\n",
        "plt.legend()\n",
        "\n",
        "plt.show()"
      ],
      "execution_count": 304,
      "outputs": [
        {
          "output_type": "display_data",
          "data": {
            "image/png": "[encoded data removed]",
            "text/plain": [
              "<Figure size 432x288 with 1 Axes>"
            ]
          },
          "metadata": {
            "tags": [],
            "needs_background": "light"
          }
        }
      ]
    },
    {
      "cell_type": "code",
      "metadata": {
        "id": "rwjwxHk5HYMK",
        "outputId": "5a89d800-9d96-427f-9096-8b10c8a331e9",
        "colab": {
          "base_uri": "https://localhost:8080/",
          "height": 295
        }
      },
      "source": [
        "fax = plt.gca()\n",
        "plt.plot(t_test_2000,xc_2000h, color='yellow', label='Orignal DVL1 Data')\n",
        "plt.plot(t_test_2000,vc_2000h, color='green', label='prediction')\n",
        "plt.xlabel('Time')\n",
        "plt.ylabel('Distance')\n",
        "plt.title('DVL Beam 4')\n",
        "plt.legend()\n",
        "axes = plt.gca()\n",
        "#axes.set_xlim([xmin,xmax])\n",
        "axes.set_ylim([0,2.8])\n",
        "plt.show()"
      ],
      "execution_count": 310,
      "outputs": [
        {
          "output_type": "display_data",
          "data": {
            "image/png": "[encoded data removed]",
            "text/plain": [
              "<Figure size 432x288 with 1 Axes>"
            ]
          },
          "metadata": {
            "tags": [],
            "needs_background": "light"
          }
        }
      ]
    },
    {
      "cell_type": "code",
      "metadata": {
        "id": "R_Tr_gbCBuRM"
      },
      "source": [
        "fax = plt.gca()\n",
        "plt.plot(t_test,xc1, color='yellow', label='Orignal DVL1 Data')\n",
        "\n",
        "plt.plot(t_test,vc1, color='green', label='prediction')\n",
        "plt.xlabel('Time')\n",
        "plt.ylabel('Distance')\n",
        "plt.title('DVL Beam 1')\n",
        "plt.legend()\n",
        "\n",
        "plt.show()"
      ],
      "execution_count": null,
      "outputs": []
    },
    {
      "cell_type": "code",
      "metadata": {
        "id": "CNwW7pkF2Uii",
        "outputId": "0186b245-b790-4940-a3cb-61ecb1a35633",
        "colab": {
          "base_uri": "https://localhost:8080/",
          "height": 312
        }
      },
      "source": [
        " # list all data in history\n",
        "print(history.history.keys())\n",
        "# summarize history for accuracy\n",
        "# History for Dropout 1st layer every layer after the maxpooling, 1e-3 in the first 2 layers and in the third layer, the regularization rate is 1e-01\n",
        "# summarize history for loss\n",
        "plt.plot(history.history['loss'])\n",
        "plt.plot(history.history['val_loss'])\n",
        "plt.title('model loss_training_and_validating')\n",
        "plt.ylabel('loss')\n",
        "plt.xlabel('epoch')\n",
        "plt.legend(['train', 'validation'], loc='upper left')\n",
        "plt.show()"
      ],
      "execution_count": 140,
      "outputs": [
        {
          "output_type": "stream",
          "text": [
            "dict_keys(['loss', 'val_loss'])\n"
          ],
          "name": "stdout"
        },
        {
          "output_type": "display_data",
          "data": {
            "image/png": "[encoded data removed]",
            "text/plain": [
              "<Figure size 432x288 with 1 Axes>"
            ]
          },
          "metadata": {
            "tags": [],
            "needs_background": "light"
          }
        }
      ]
    },
    {
      "cell_type": "code",
      "metadata": {
        "id": "ZE5RJvuL5NGk"
      },
      "source": [
        "y=autoencoder.predict(x_test)"
      ],
      "execution_count": 193,
      "outputs": []
    },
    {
      "cell_type": "code",
      "metadata": {
        "id": "fPWbdGR17tC2",
        "outputId": "d60d14a9-c405-487d-e68d-d0522efd97ce",
        "colab": {
          "base_uri": "https://localhost:8080/",
          "height": 34
        }
      },
      "source": [
        "x_test.shape"
      ],
      "execution_count": 194,
      "outputs": [
        {
          "output_type": "execute_result",
          "data": {
            "text/plain": [
              "(10000, 1, 8)"
            ]
          },
          "metadata": {
            "tags": []
          },
          "execution_count": 194
        }
      ]
    },
    {
      "cell_type": "code",
      "metadata": {
        "id": "tR-NAmCu7uno"
      },
      "source": [
        "xc=x_test.reshape((x_test.shape[0]*x_test.shape[1]), x_test.shape[2])"
      ],
      "execution_count": 195,
      "outputs": []
    },
    {
      "cell_type": "code",
      "metadata": {
        "id": "bPUTCxtm74AZ",
        "outputId": "d5a24256-ff37-41dd-8943-a5ee782e27f4",
        "colab": {
          "base_uri": "https://localhost:8080/",
          "height": 34
        }
      },
      "source": [
        "xc.shape"
      ],
      "execution_count": 196,
      "outputs": [
        {
          "output_type": "execute_result",
          "data": {
            "text/plain": [
              "(10000, 8)"
            ]
          },
          "metadata": {
            "tags": []
          },
          "execution_count": 196
        }
      ]
    },
    {
      "cell_type": "code",
      "metadata": {
        "id": "kxeTbu5084Y_"
      },
      "source": [
        "xc=xc[:]"
      ],
      "execution_count": 197,
      "outputs": []
    },
    {
      "cell_type": "code",
      "metadata": {
        "id": "vRGyqXK69Yhz",
        "outputId": "edf04a57-9a9c-40d2-810a-749ee70e0801",
        "colab": {
          "base_uri": "https://localhost:8080/",
          "height": 34
        }
      },
      "source": [
        "xc.shape"
      ],
      "execution_count": 198,
      "outputs": [
        {
          "output_type": "execute_result",
          "data": {
            "text/plain": [
              "(10000, 8)"
            ]
          },
          "metadata": {
            "tags": []
          },
          "execution_count": 198
        }
      ]
    },
    {
      "cell_type": "code",
      "metadata": {
        "id": "0pV4J4_97-4Q"
      },
      "source": [
        "xc1=xc[:,0]\n",
        "xc2=xc[:,1]\n",
        "xc3=xc[:,2]\n",
        "xc4=xc[:,3]"
      ],
      "execution_count": 199,
      "outputs": []
    },
    {
      "cell_type": "code",
      "metadata": {
        "id": "GeHi9GAQ8JPl"
      },
      "source": [
        "\n",
        "vc=y.reshape((y.shape[0]*y.shape[1]), y.shape[2])"
      ],
      "execution_count": 209,
      "outputs": []
    },
    {
      "cell_type": "code",
      "metadata": {
        "id": "N6IMYPfl8__u"
      },
      "source": [
        ""
      ],
      "execution_count": 209,
      "outputs": []
    },
    {
      "cell_type": "code",
      "metadata": {
        "id": "k9xIniuE8QFc"
      },
      "source": [
        "vc1=vc[:,0]\n",
        "vc2=vc[:,1]\n",
        "vc3=vc[:,2]\n",
        "vc4=vc[:,3]"
      ],
      "execution_count": 210,
      "outputs": []
    },
    {
      "cell_type": "code",
      "metadata": {
        "id": "1XPKNW0U8anB"
      },
      "source": [
        "t_test=t[-9000:]"
      ],
      "execution_count": 214,
      "outputs": []
    },
    {
      "cell_type": "code",
      "metadata": {
        "id": "2cX4nXmK-Pzr"
      },
      "source": [
        "xc1=xc1[:9000]"
      ],
      "execution_count": 215,
      "outputs": []
    },
    {
      "cell_type": "code",
      "metadata": {
        "id": "mVXSEMkL-had"
      },
      "source": [
        "vc1=vc1[:9000]"
      ],
      "execution_count": 217,
      "outputs": []
    },
    {
      "cell_type": "code",
      "metadata": {
        "id": "84i0ECip-rhs"
      },
      "source": [
        "xc2=xc2[:9000]\n",
        "vc2=vc2[:9000]"
      ],
      "execution_count": 219,
      "outputs": []
    },
    {
      "cell_type": "code",
      "metadata": {
        "id": "uA5_bz7N-xQ9"
      },
      "source": [
        "xc3=xc3[:9000]\n",
        "vc3=vc3[:9000]"
      ],
      "execution_count": 220,
      "outputs": []
    },
    {
      "cell_type": "code",
      "metadata": {
        "id": "zAFHxZFV-1rL"
      },
      "source": [
        "xc4=xc4[:9000]\n",
        "vc4=vc4[:9000]"
      ],
      "execution_count": 221,
      "outputs": []
    },
    {
      "cell_type": "code",
      "metadata": {
        "id": "P4inLDFw8W_e",
        "outputId": "94d19c11-f70d-4d12-8957-3e385a249d5c",
        "colab": {
          "base_uri": "https://localhost:8080/",
          "height": 295
        }
      },
      "source": [
        "fax = plt.gca()\n",
        "plt.plot(t_test,xc1, color='yellow', label='Orignal DVL1 Data')\n",
        "\n",
        "plt.plot(t_test,vc1, color='green', label='prediction')\n",
        "plt.xlabel('Time')\n",
        "plt.ylabel('Distance')\n",
        "plt.title('DVL Beam 1')\n",
        "plt.legend()\n",
        "\n",
        "plt.show()"
      ],
      "execution_count": 225,
      "outputs": [
        {
          "output_type": "display_data",
          "data": {
            "image/png": "[encoded data removed]",
            "text/plain": [
              "<Figure size 432x288 with 1 Axes>"
            ]
          },
          "metadata": {
            "tags": [],
            "needs_background": "light"
          }
        }
      ]
    },
    {
      "cell_type": "code",
      "metadata": {
        "id": "PczdK8yO8hGo",
        "outputId": "1b4af00d-74ef-44fa-ec64-a5bc4e93844d",
        "colab": {
          "base_uri": "https://localhost:8080/",
          "height": 295
        }
      },
      "source": [
        "fax = plt.gca()\n",
        "plt.plot(t_test,xc2, color='yellow', label='Orignal DVL1 Data')\n",
        "\n",
        "plt.plot(t_test,vc2, color='green', label='prediction')\n",
        "plt.xlabel('Time')\n",
        "plt.ylabel('Distance')\n",
        "plt.title('DVL Beam 1')\n",
        "plt.legend()\n",
        "\n",
        "plt.show()"
      ],
      "execution_count": 226,
      "outputs": [
        {
          "output_type": "display_data",
          "data": {
            "image/png": "[encoded data removed]",
            "text/plain": [
              "<Figure size 432x288 with 1 Axes>"
            ]
          },
          "metadata": {
            "tags": [],
            "needs_background": "light"
          }
        }
      ]
    },
    {
      "cell_type": "code",
      "metadata": {
        "id": "g6MaSb7q8oF3",
        "outputId": "bbec7bb1-a5e4-439f-8804-6fba9241b1c9",
        "colab": {
          "base_uri": "https://localhost:8080/",
          "height": 295
        }
      },
      "source": [
        "fax = plt.gca()\n",
        "plt.plot(t_test,xc3, color='yellow', label='Orignal DVL1 Data')\n",
        "\n",
        "plt.plot(t_test,vc3, color='green', label='prediction')\n",
        "plt.xlabel('Time')\n",
        "plt.ylabel('Distance')\n",
        "plt.title('DVL Beam 1')\n",
        "plt.legend()\n",
        "\n",
        "plt.show()"
      ],
      "execution_count": 227,
      "outputs": [
        {
          "output_type": "display_data",
          "data": {
            "image/png": "[encoded data removed]",
            "text/plain": [
              "<Figure size 432x288 with 1 Axes>"
            ]
          },
          "metadata": {
            "tags": [],
            "needs_background": "light"
          }
        }
      ]
    },
    {
      "cell_type": "code",
      "metadata": {
        "id": "V_U4Rp138v0V",
        "outputId": "0d23ee12-963f-4cd8-e68d-1900a0f26195",
        "colab": {
          "base_uri": "https://localhost:8080/",
          "height": 295
        }
      },
      "source": [
        "fax = plt.gca()\n",
        "plt.plot(t_test,xc4, color='yellow', label='Orignal DVL1 Data')\n",
        "\n",
        "plt.plot(t_test,vc4, color='green', label='prediction')\n",
        "plt.xlabel('Time')\n",
        "plt.ylabel('Distance')\n",
        "plt.title('DVL Beam 1')\n",
        "plt.legend()\n",
        "\n",
        "plt.show()"
      ],
      "execution_count": 311,
      "outputs": [
        {
          "output_type": "display_data",
          "data": {
            "image/png": "[encoded data removed]",
            "text/plain": [
              "<Figure size 432x288 with 1 Axes>"
            ]
          },
          "metadata": {
            "tags": [],
            "needs_background": "light"
          }
        }
      ]
    },
    {
      "cell_type": "code",
      "metadata": {
        "id": "t3BhYYQg8zM4",
        "outputId": "5fac628f-ba3f-4f7c-97f3-8959dd301649",
        "colab": {
          "base_uri": "https://localhost:8080/",
          "height": 405
        }
      },
      "source": [
        "df3"
      ],
      "execution_count": 312,
      "outputs": [
        {
          "output_type": "execute_result",
          "data": {
            "text/html": [
              "<div>\n",
              "<style scoped>\n",
              "    .dataframe tbody tr th:only-of-type {\n",
              "        vertical-align: middle;\n",
              "    }\n",
              "\n",
              "    .dataframe tbody tr th {\n",
              "        vertical-align: top;\n",
              "    }\n",
              "\n",
              "    .dataframe thead th {\n",
              "        text-align: right;\n",
              "    }\n",
              "</style>\n",
              "<table border=\"1\" class=\"dataframe\">\n",
              "  <thead>\n",
              "    <tr style=\"text-align: right;\">\n",
              "      <th></th>\n",
              "      <th>DVL_1</th>\n",
              "      <th>DVL_2</th>\n",
              "      <th>DVL_3</th>\n",
              "      <th>DVL_4</th>\n",
              "      <th>Down</th>\n",
              "      <th>Heading</th>\n",
              "    </tr>\n",
              "  </thead>\n",
              "  <tbody>\n",
              "    <tr>\n",
              "      <th>1</th>\n",
              "      <td>0.000000</td>\n",
              "      <td>0.000000</td>\n",
              "      <td>0.000000</td>\n",
              "      <td>0.0</td>\n",
              "      <td>0.00</td>\n",
              "      <td>0.00</td>\n",
              "    </tr>\n",
              "    <tr>\n",
              "      <th>2</th>\n",
              "      <td>0.000000</td>\n",
              "      <td>0.000000</td>\n",
              "      <td>0.000000</td>\n",
              "      <td>0.0</td>\n",
              "      <td>0.00</td>\n",
              "      <td>0.00</td>\n",
              "    </tr>\n",
              "    <tr>\n",
              "      <th>3</th>\n",
              "      <td>0.000000</td>\n",
              "      <td>0.000000</td>\n",
              "      <td>0.000000</td>\n",
              "      <td>0.0</td>\n",
              "      <td>0.04</td>\n",
              "      <td>3.90</td>\n",
              "    </tr>\n",
              "    <tr>\n",
              "      <th>4</th>\n",
              "      <td>0.000000</td>\n",
              "      <td>0.000000</td>\n",
              "      <td>0.000000</td>\n",
              "      <td>0.0</td>\n",
              "      <td>0.08</td>\n",
              "      <td>3.96</td>\n",
              "    </tr>\n",
              "    <tr>\n",
              "      <th>5</th>\n",
              "      <td>0.000000</td>\n",
              "      <td>0.000000</td>\n",
              "      <td>0.000000</td>\n",
              "      <td>0.0</td>\n",
              "      <td>0.00</td>\n",
              "      <td>4.09</td>\n",
              "    </tr>\n",
              "    <tr>\n",
              "      <th>...</th>\n",
              "      <td>...</td>\n",
              "      <td>...</td>\n",
              "      <td>...</td>\n",
              "      <td>...</td>\n",
              "      <td>...</td>\n",
              "      <td>...</td>\n",
              "    </tr>\n",
              "    <tr>\n",
              "      <th>3056</th>\n",
              "      <td>0.671787</td>\n",
              "      <td>4.036387</td>\n",
              "      <td>4.954006</td>\n",
              "      <td>0.0</td>\n",
              "      <td>0.00</td>\n",
              "      <td>4.64</td>\n",
              "    </tr>\n",
              "    <tr>\n",
              "      <th>3057</th>\n",
              "      <td>0.671787</td>\n",
              "      <td>4.087367</td>\n",
              "      <td>4.750091</td>\n",
              "      <td>0.0</td>\n",
              "      <td>0.00</td>\n",
              "      <td>4.65</td>\n",
              "    </tr>\n",
              "    <tr>\n",
              "      <th>3058</th>\n",
              "      <td>0.722766</td>\n",
              "      <td>4.138345</td>\n",
              "      <td>4.750091</td>\n",
              "      <td>0.0</td>\n",
              "      <td>0.00</td>\n",
              "      <td>4.67</td>\n",
              "    </tr>\n",
              "    <tr>\n",
              "      <th>3059</th>\n",
              "      <td>0.722766</td>\n",
              "      <td>4.138345</td>\n",
              "      <td>4.750091</td>\n",
              "      <td>0.0</td>\n",
              "      <td>0.00</td>\n",
              "      <td>4.69</td>\n",
              "    </tr>\n",
              "    <tr>\n",
              "      <th>3060</th>\n",
              "      <td>0.722766</td>\n",
              "      <td>4.138345</td>\n",
              "      <td>4.750091</td>\n",
              "      <td>0.0</td>\n",
              "      <td>0.00</td>\n",
              "      <td>4.71</td>\n",
              "    </tr>\n",
              "  </tbody>\n",
              "</table>\n",
              "<p>3060 rows × 6 columns</p>\n",
              "</div>"
            ],
            "text/plain": [
              "         DVL_1     DVL_2     DVL_3  DVL_4  Down  Heading\n",
              "1     0.000000  0.000000  0.000000    0.0  0.00     0.00\n",
              "2     0.000000  0.000000  0.000000    0.0  0.00     0.00\n",
              "3     0.000000  0.000000  0.000000    0.0  0.04     3.90\n",
              "4     0.000000  0.000000  0.000000    0.0  0.08     3.96\n",
              "5     0.000000  0.000000  0.000000    0.0  0.00     4.09\n",
              "...        ...       ...       ...    ...   ...      ...\n",
              "3056  0.671787  4.036387  4.954006    0.0  0.00     4.64\n",
              "3057  0.671787  4.087367  4.750091    0.0  0.00     4.65\n",
              "3058  0.722766  4.138345  4.750091    0.0  0.00     4.67\n",
              "3059  0.722766  4.138345  4.750091    0.0  0.00     4.69\n",
              "3060  0.722766  4.138345  4.750091    0.0  0.00     4.71\n",
              "\n",
              "[3060 rows x 6 columns]"
            ]
          },
          "metadata": {
            "tags": []
          },
          "execution_count": 312
        }
      ]
    },
    {
      "cell_type": "code",
      "metadata": {
        "id": "MW6HURL0OTfw"
      },
      "source": [
        "# Re draw a model and try to predcit"
      ],
      "execution_count": 314,
      "outputs": []
    },
    {
      "cell_type": "code",
      "metadata": {
        "id": "cw2V2e3pO4Ke"
      },
      "source": [
        "# Waleed Azam, working on the deep learning protocols."
      ],
      "execution_count": null,
      "outputs": []
    },
    {
      "cell_type": "code",
      "metadata": {
        "id": "0Ks4V3lqP7zx"
      },
      "source": [
        "# Working on the Possible Deep learning algorithms"
      ],
      "execution_count": 315,
      "outputs": []
    },
    {
      "cell_type": "code",
      "metadata": {
        "id": "CNrpfbNPREPq"
      },
      "source": [
        "fi=df3['DVL_1']\n",
        "G=np.array(fi)"
      ],
      "execution_count": 316,
      "outputs": []
    },
    {
      "cell_type": "code",
      "metadata": {
        "id": "v3z6FTw9RV2s"
      },
      "source": [
        "fif=df3['DVL_2']\n",
        "Gg=np.array(fif)"
      ],
      "execution_count": 317,
      "outputs": []
    },
    {
      "cell_type": "code",
      "metadata": {
        "id": "9i7ZbuW2RbuU"
      },
      "source": [
        "fiif=df3['DVL_3']\n",
        "Ggg=np.array(fiif)"
      ],
      "execution_count": 318,
      "outputs": []
    },
    {
      "cell_type": "code",
      "metadata": {
        "id": "Mivr3BZxRgSw"
      },
      "source": [
        "fiiif=df3['DVL_4']\n",
        "Gggg=np.array(fiiif)"
      ],
      "execution_count": 319,
      "outputs": []
    },
    {
      "cell_type": "code",
      "metadata": {
        "id": "Js6U6lG5Rm7k"
      },
      "source": [
        "fiiiif=df3['Down']\n",
        "Ggggg=np.array(fiiif)"
      ],
      "execution_count": 320,
      "outputs": []
    },
    {
      "cell_type": "code",
      "metadata": {
        "id": "rTGFuW7MRul8"
      },
      "source": [
        "fiiiiif=df3['Heading']\n",
        "Gggggg=np.array(fiiiif)"
      ],
      "execution_count": 321,
      "outputs": []
    },
    {
      "cell_type": "code",
      "metadata": {
        "id": "s-klJ7E5RzLU",
        "outputId": "180ef647-97ad-48dc-d355-4748bc946ab5",
        "colab": {
          "base_uri": "https://localhost:8080/",
          "height": 136
        }
      },
      "source": [
        "# Stacking the two arrays along axis 0 \n",
        "r1 = geek.stack((G, Gg, Ggg, Gggg), axis = 0) \n",
        "print (\"Output stacked array along axis 0:\\n \", r1) \n",
        "print (\"Labels Shape :\\n \", r1.shape) "
      ],
      "execution_count": 363,
      "outputs": [
        {
          "output_type": "stream",
          "text": [
            "Output stacked array along axis 0:\n",
            "  [[0.       0.       0.       ... 0.722766 0.722766 0.722766]\n",
            " [0.       0.       0.       ... 4.138345 4.138345 4.138345]\n",
            " [0.       0.       0.       ... 4.750091 4.750091 4.750091]\n",
            " [0.       0.       0.       ... 0.       0.       0.      ]]\n",
            "Labels Shape :\n",
            "  (4, 3060)\n"
          ],
          "name": "stdout"
        }
      ]
    },
    {
      "cell_type": "code",
      "metadata": {
        "id": "G_I4v76DSH0b"
      },
      "source": [
        "r1=r1.transpose(1,0)"
      ],
      "execution_count": 364,
      "outputs": []
    },
    {
      "cell_type": "code",
      "metadata": {
        "id": "m7p3Eor5SMag",
        "outputId": "962daa97-9d95-4bdf-9dc9-38d2999f7140",
        "colab": {
          "base_uri": "https://localhost:8080/",
          "height": 34
        }
      },
      "source": [
        "r1.shape"
      ],
      "execution_count": 365,
      "outputs": [
        {
          "output_type": "execute_result",
          "data": {
            "text/plain": [
              "(3060, 4)"
            ]
          },
          "metadata": {
            "tags": []
          },
          "execution_count": 365
        }
      ]
    },
    {
      "cell_type": "code",
      "metadata": {
        "id": "hWzZnYRoSNev",
        "outputId": "ce57bfbf-43d1-4781-8440-c2256761b03e",
        "colab": {
          "base_uri": "https://localhost:8080/",
          "height": 34
        }
      },
      "source": [
        "t.shape"
      ],
      "execution_count": 332,
      "outputs": [
        {
          "output_type": "execute_result",
          "data": {
            "text/plain": [
              "(84980,)"
            ]
          },
          "metadata": {
            "tags": []
          },
          "execution_count": 332
        }
      ]
    },
    {
      "cell_type": "code",
      "metadata": {
        "id": "4oyvcLCVSVcH"
      },
      "source": [
        "t_øø=t[:3060]"
      ],
      "execution_count": 333,
      "outputs": []
    },
    {
      "cell_type": "code",
      "metadata": {
        "id": "yvDGPlHnSbi8",
        "outputId": "182a4151-50f9-4e53-b102-8471e4f21f2d",
        "colab": {
          "base_uri": "https://localhost:8080/",
          "height": 34
        }
      },
      "source": [
        "t_øø.shape"
      ],
      "execution_count": 334,
      "outputs": [
        {
          "output_type": "execute_result",
          "data": {
            "text/plain": [
              "(3060,)"
            ]
          },
          "metadata": {
            "tags": []
          },
          "execution_count": 334
        }
      ]
    },
    {
      "cell_type": "code",
      "metadata": {
        "id": "hsZbxmYfTcux",
        "outputId": "d6bad3bf-e468-4c87-ad19-0a22e805b41b",
        "colab": {
          "base_uri": "https://localhost:8080/",
          "height": 34
        }
      },
      "source": [
        "y.shape"
      ],
      "execution_count": 335,
      "outputs": [
        {
          "output_type": "execute_result",
          "data": {
            "text/plain": [
              "(10000, 1, 4)"
            ]
          },
          "metadata": {
            "tags": []
          },
          "execution_count": 335
        }
      ]
    },
    {
      "cell_type": "code",
      "metadata": {
        "id": "EckNvXr5Sc8n",
        "outputId": "6d2f8b52-e929-4119-8821-c9a52085c16d",
        "colab": {
          "base_uri": "https://localhost:8080/",
          "height": 136
        }
      },
      "source": [
        "# Stacking the two arrays along axis 0 \n",
        "r19 = geek.stack((y1, y2, y3, y4), axis = 0) \n",
        "print (\"Output stacked array along axis 0:\\n \", r19) \n",
        "print (\"Labels Shape :\\n \", r19.shape) "
      ],
      "execution_count": 336,
      "outputs": [
        {
          "output_type": "stream",
          "text": [
            "Output stacked array along axis 0:\n",
            "  [[ 0.       20.       20.       ...  2.691634  2.691802  2.691982]\n",
            " [ 0.       20.       20.       ...  2.614254  2.615765  2.617577]\n",
            " [ 0.       20.       20.       ...  2.621804  2.62182   2.621799]\n",
            " [ 0.       20.       20.       ...  2.615026  2.615181  2.615344]]\n",
            "Labels Shape :\n",
            "  (4, 84980)\n"
          ],
          "name": "stdout"
        }
      ]
    },
    {
      "cell_type": "code",
      "metadata": {
        "id": "PxJ5pKlpTFxP"
      },
      "source": [
        "r19=r19.transpose(1,0)"
      ],
      "execution_count": 337,
      "outputs": []
    },
    {
      "cell_type": "code",
      "metadata": {
        "id": "-LQcgc9rToss",
        "outputId": "3985216b-6fbd-4ca1-ad25-7fb9985f430f",
        "colab": {
          "base_uri": "https://localhost:8080/",
          "height": 34
        }
      },
      "source": [
        "r19.shape"
      ],
      "execution_count": 338,
      "outputs": [
        {
          "output_type": "execute_result",
          "data": {
            "text/plain": [
              "(84980, 4)"
            ]
          },
          "metadata": {
            "tags": []
          },
          "execution_count": 338
        }
      ]
    },
    {
      "cell_type": "code",
      "metadata": {
        "id": "66NwstfFTrp_"
      },
      "source": [
        "r18=r19[:3060]"
      ],
      "execution_count": 340,
      "outputs": []
    },
    {
      "cell_type": "code",
      "metadata": {
        "id": "H2QsQyPWTwPY",
        "outputId": "412d47ae-9a54-418d-b850-0e2308bfd902",
        "colab": {
          "base_uri": "https://localhost:8080/",
          "height": 34
        }
      },
      "source": [
        "r18.shape"
      ],
      "execution_count": 341,
      "outputs": [
        {
          "output_type": "execute_result",
          "data": {
            "text/plain": [
              "(3060, 4)"
            ]
          },
          "metadata": {
            "tags": []
          },
          "execution_count": 341
        }
      ]
    },
    {
      "cell_type": "code",
      "metadata": {
        "id": "Q3FPaVhsT0Bi"
      },
      "source": [
        "X=r1"
      ],
      "execution_count": 344,
      "outputs": []
    },
    {
      "cell_type": "code",
      "metadata": {
        "id": "2h7eYx5vU__r",
        "outputId": "2bba5a55-3c21-47a1-cbe1-d1d8e171e300",
        "colab": {
          "base_uri": "https://localhost:8080/",
          "height": 34
        }
      },
      "source": [
        "X.shape"
      ],
      "execution_count": 345,
      "outputs": [
        {
          "output_type": "execute_result",
          "data": {
            "text/plain": [
              "(3060, 4)"
            ]
          },
          "metadata": {
            "tags": []
          },
          "execution_count": 345
        }
      ]
    },
    {
      "cell_type": "code",
      "metadata": {
        "id": "fLoyru31VBRa",
        "outputId": "64b03eb2-28d1-4e22-c802-94c52588aaa4",
        "colab": {
          "base_uri": "https://localhost:8080/",
          "height": 34
        }
      },
      "source": [
        "r18.shape"
      ],
      "execution_count": 347,
      "outputs": [
        {
          "output_type": "execute_result",
          "data": {
            "text/plain": [
              "(3060, 4)"
            ]
          },
          "metadata": {
            "tags": []
          },
          "execution_count": 347
        }
      ]
    },
    {
      "cell_type": "code",
      "metadata": {
        "id": "KuV8ca1jVKg2"
      },
      "source": [
        "y=r18"
      ],
      "execution_count": 348,
      "outputs": []
    },
    {
      "cell_type": "code",
      "metadata": {
        "id": "LU-qTZ58VXuA",
        "outputId": "544d8e50-a57c-4469-caec-5dff61d0751c",
        "colab": {
          "base_uri": "https://localhost:8080/",
          "height": 34
        }
      },
      "source": [
        "y.shape"
      ],
      "execution_count": 349,
      "outputs": [
        {
          "output_type": "execute_result",
          "data": {
            "text/plain": [
              "(3060, 4)"
            ]
          },
          "metadata": {
            "tags": []
          },
          "execution_count": 349
        }
      ]
    },
    {
      "cell_type": "code",
      "metadata": {
        "id": "Z1d6ka23WsBt"
      },
      "source": [
        "X=X.reshape(3060,1,4)"
      ],
      "execution_count": 352,
      "outputs": []
    },
    {
      "cell_type": "code",
      "metadata": {
        "id": "CykkriThWv1b"
      },
      "source": [
        "y=y.reshape(3060,1,4)"
      ],
      "execution_count": 353,
      "outputs": []
    },
    {
      "cell_type": "code",
      "metadata": {
        "id": "MgSKs-IkW3YF"
      },
      "source": [
        "n_steps=1"
      ],
      "execution_count": 358,
      "outputs": []
    },
    {
      "cell_type": "code",
      "metadata": {
        "id": "o268otAOW6bL"
      },
      "source": [
        "n_features=4"
      ],
      "execution_count": 359,
      "outputs": []
    },
    {
      "cell_type": "code",
      "metadata": {
        "id": "M9-5XjlGVZW0"
      },
      "source": [
        "nvalues = [1e-1, 1e-2, 1e-3, 1e-4, 1e-5, 1e-6]\n",
        "\n",
        "from keras.layers import Input, Dense, Conv1D, MaxPooling1D, UpSampling1D, Flatten, Reshape, Dropout\n",
        "from keras.models import Model\n",
        "from keras import backend as K\n",
        "input_img=Input(shape=(n_steps, 8))\n",
        "#input_img = Input(shape=(28, 28, 1))  # adapt this if using `channels_first` image data format\n",
        "# Dropout \n",
        "\n",
        "x = Conv1D(16, 3, activation='relu', padding='same')(input_img)\n",
        "x= MaxPooling1D(2, padding= 'same')(x)\n",
        "\n",
        "# at this point the representation is (4, 4, 8) i.e. 128-dimensional\n",
        "x= Flatten()(x)\n",
        "decoded = Dense(n_features*n_steps, activation='linear')(x)\n",
        "outputs= Reshape((n_steps, n_features))(decoded)\n",
        "#tf.reshape(tensor, shape, name=None)\n",
        "autoencoder = Model(input_img, outputs)\n",
        "opt = keras.optimizers.Adam(learning_rate=0.0001)\n",
        "autoencoder.compile(opt, loss='mse')"
      ],
      "execution_count": 401,
      "outputs": []
    },
    {
      "cell_type": "code",
      "metadata": {
        "id": "_fiwMn1bVwD_",
        "outputId": "783c2d26-fa70-4c92-9b4f-147b183abeda",
        "colab": {
          "base_uri": "https://localhost:8080/",
          "height": 1000
        }
      },
      "source": [
        "from keras.callbacks import TensorBoard, EarlyStopping\n",
        "\n",
        "es =EarlyStopping(\n",
        "    monitor=\"val_loss\",\n",
        "    min_delta=0.001,\n",
        "    patience=5,\n",
        "    verbose=0,\n",
        "    mode=\"auto\",\n",
        "    baseline=None,\n",
        "    restore_best_weights=True,\n",
        ")\n",
        "history=autoencoder.fit(X, y,\n",
        "                epochs=500,\n",
        "                batch_size=32,\n",
        "                verbose=1)\n",
        "\n",
        "# callback = tf.keras.callbacks.EarlyStopping(monitor='loss', patience=3)\n",
        "#Early Stopping.. Can be a wise option to observe\n",
        "#tf.keras.callbacks.EarlyStopping(\n",
        "   # monitor='val_loss', min_delta=0, patience=0, verbose=0, mode='auto',\n",
        "  #  baseline=None, restore_best_weights=False\n",
        "#)"
      ],
      "execution_count": 361,
      "outputs": [
        {
          "output_type": "stream",
          "text": [
            "Epoch 1/500\n",
            "96/96 [==============================] - 0s 951us/step - loss: 21.2950\n",
            "Epoch 2/500\n",
            "96/96 [==============================] - 0s 981us/step - loss: 20.3113\n",
            "Epoch 3/500\n",
            "96/96 [==============================] - 0s 914us/step - loss: 19.3332\n",
            "Epoch 4/500\n",
            "96/96 [==============================] - 0s 954us/step - loss: 18.2930\n",
            "Epoch 5/500\n",
            "96/96 [==============================] - 0s 1ms/step - loss: 17.3117\n",
            "Epoch 6/500\n",
            "96/96 [==============================] - 0s 956us/step - loss: 16.4194\n",
            "Epoch 7/500\n",
            "96/96 [==============================] - 0s 909us/step - loss: 15.6049\n",
            "Epoch 8/500\n",
            "96/96 [==============================] - 0s 1ms/step - loss: 14.8657\n",
            "Epoch 9/500\n",
            "96/96 [==============================] - 0s 985us/step - loss: 14.1927\n",
            "Epoch 10/500\n",
            "96/96 [==============================] - 0s 946us/step - loss: 13.5315\n",
            "Epoch 11/500\n",
            "96/96 [==============================] - 0s 948us/step - loss: 12.9075\n",
            "Epoch 12/500\n",
            "96/96 [==============================] - 0s 959us/step - loss: 12.3339\n",
            "Epoch 13/500\n",
            "96/96 [==============================] - 0s 1ms/step - loss: 11.8244\n",
            "Epoch 14/500\n",
            "96/96 [==============================] - 0s 999us/step - loss: 11.3880\n",
            "Epoch 15/500\n",
            "96/96 [==============================] - 0s 997us/step - loss: 11.0141\n",
            "Epoch 16/500\n",
            "96/96 [==============================] - 0s 960us/step - loss: 10.6879\n",
            "Epoch 17/500\n",
            "96/96 [==============================] - 0s 939us/step - loss: 10.3827\n",
            "Epoch 18/500\n",
            "96/96 [==============================] - 0s 1ms/step - loss: 10.1095\n",
            "Epoch 19/500\n",
            "96/96 [==============================] - 0s 917us/step - loss: 9.8771\n",
            "Epoch 20/500\n",
            "96/96 [==============================] - 0s 911us/step - loss: 9.6746\n",
            "Epoch 21/500\n",
            "96/96 [==============================] - 0s 941us/step - loss: 9.4929\n",
            "Epoch 22/500\n",
            "96/96 [==============================] - 0s 930us/step - loss: 9.3319\n",
            "Epoch 23/500\n",
            "96/96 [==============================] - 0s 920us/step - loss: 9.1863\n",
            "Epoch 24/500\n",
            "96/96 [==============================] - 0s 902us/step - loss: 9.0571\n",
            "Epoch 25/500\n",
            "96/96 [==============================] - 0s 947us/step - loss: 8.9374\n",
            "Epoch 26/500\n",
            "96/96 [==============================] - 0s 1ms/step - loss: 8.8281\n",
            "Epoch 27/500\n",
            "96/96 [==============================] - 0s 987us/step - loss: 8.7281\n",
            "Epoch 28/500\n",
            "96/96 [==============================] - 0s 941us/step - loss: 8.6378\n",
            "Epoch 29/500\n",
            "96/96 [==============================] - 0s 981us/step - loss: 8.5544\n",
            "Epoch 30/500\n",
            "96/96 [==============================] - 0s 946us/step - loss: 8.4766\n",
            "Epoch 31/500\n",
            "96/96 [==============================] - 0s 947us/step - loss: 8.4058\n",
            "Epoch 32/500\n",
            "96/96 [==============================] - 0s 1ms/step - loss: 8.3354\n",
            "Epoch 33/500\n",
            "96/96 [==============================] - 0s 1ms/step - loss: 8.2687\n",
            "Epoch 34/500\n",
            "96/96 [==============================] - 0s 1ms/step - loss: 8.2072\n",
            "Epoch 35/500\n",
            "96/96 [==============================] - 0s 997us/step - loss: 8.1486\n",
            "Epoch 36/500\n",
            "96/96 [==============================] - 0s 1ms/step - loss: 8.0895\n",
            "Epoch 37/500\n",
            "96/96 [==============================] - 0s 938us/step - loss: 8.0341\n",
            "Epoch 38/500\n",
            "96/96 [==============================] - 0s 922us/step - loss: 7.9843\n",
            "Epoch 39/500\n",
            "96/96 [==============================] - 0s 954us/step - loss: 7.9357\n",
            "Epoch 40/500\n",
            "96/96 [==============================] - 0s 972us/step - loss: 7.8873\n",
            "Epoch 41/500\n",
            "96/96 [==============================] - 0s 950us/step - loss: 7.8331\n",
            "Epoch 42/500\n",
            "96/96 [==============================] - 0s 967us/step - loss: 7.7772\n",
            "Epoch 43/500\n",
            "96/96 [==============================] - 0s 953us/step - loss: 7.7270\n",
            "Epoch 44/500\n",
            "96/96 [==============================] - 0s 963us/step - loss: 7.6788\n",
            "Epoch 45/500\n",
            "96/96 [==============================] - 0s 938us/step - loss: 7.6329\n",
            "Epoch 46/500\n",
            "96/96 [==============================] - 0s 981us/step - loss: 7.5981\n",
            "Epoch 47/500\n",
            "96/96 [==============================] - 0s 981us/step - loss: 7.5650\n",
            "Epoch 48/500\n",
            "96/96 [==============================] - 0s 931us/step - loss: 7.5337\n",
            "Epoch 49/500\n",
            "96/96 [==============================] - 0s 953us/step - loss: 7.5058\n",
            "Epoch 50/500\n",
            "96/96 [==============================] - 0s 980us/step - loss: 7.4785\n",
            "Epoch 51/500\n",
            "96/96 [==============================] - 0s 974us/step - loss: 7.4534\n",
            "Epoch 52/500\n",
            "96/96 [==============================] - 0s 985us/step - loss: 7.4314\n",
            "Epoch 53/500\n",
            "96/96 [==============================] - 0s 955us/step - loss: 7.4061\n",
            "Epoch 54/500\n",
            "96/96 [==============================] - 0s 950us/step - loss: 7.3849\n",
            "Epoch 55/500\n",
            "96/96 [==============================] - 0s 958us/step - loss: 7.3646\n",
            "Epoch 56/500\n",
            "96/96 [==============================] - 0s 993us/step - loss: 7.3467\n",
            "Epoch 57/500\n",
            "96/96 [==============================] - 0s 1ms/step - loss: 7.3253\n",
            "Epoch 58/500\n",
            "96/96 [==============================] - 0s 912us/step - loss: 7.3091\n",
            "Epoch 59/500\n",
            "96/96 [==============================] - 0s 940us/step - loss: 7.2887\n",
            "Epoch 60/500\n",
            "96/96 [==============================] - 0s 925us/step - loss: 7.2723\n",
            "Epoch 61/500\n",
            "96/96 [==============================] - 0s 975us/step - loss: 7.2559\n",
            "Epoch 62/500\n",
            "96/96 [==============================] - 0s 943us/step - loss: 7.2378\n",
            "Epoch 63/500\n",
            "96/96 [==============================] - 0s 918us/step - loss: 7.2207\n",
            "Epoch 64/500\n",
            "96/96 [==============================] - 0s 937us/step - loss: 7.2055\n",
            "Epoch 65/500\n",
            "96/96 [==============================] - 0s 973us/step - loss: 7.1904\n",
            "Epoch 66/500\n",
            "96/96 [==============================] - 0s 1ms/step - loss: 7.1749\n",
            "Epoch 67/500\n",
            "96/96 [==============================] - 0s 973us/step - loss: 7.1628\n",
            "Epoch 68/500\n",
            "96/96 [==============================] - 0s 964us/step - loss: 7.1449\n",
            "Epoch 69/500\n",
            "96/96 [==============================] - 0s 923us/step - loss: 7.1333\n",
            "Epoch 70/500\n",
            "96/96 [==============================] - 0s 970us/step - loss: 7.1176\n",
            "Epoch 71/500\n",
            "96/96 [==============================] - 0s 957us/step - loss: 7.1026\n",
            "Epoch 72/500\n",
            "96/96 [==============================] - 0s 946us/step - loss: 7.0870\n",
            "Epoch 73/500\n",
            "96/96 [==============================] - 0s 992us/step - loss: 7.0745\n",
            "Epoch 74/500\n",
            "96/96 [==============================] - 0s 938us/step - loss: 7.0595\n",
            "Epoch 75/500\n",
            "96/96 [==============================] - 0s 924us/step - loss: 7.0471\n",
            "Epoch 76/500\n",
            "96/96 [==============================] - 0s 966us/step - loss: 7.0335\n",
            "Epoch 77/500\n",
            "96/96 [==============================] - 0s 988us/step - loss: 7.0207\n",
            "Epoch 78/500\n",
            "96/96 [==============================] - 0s 1ms/step - loss: 7.0091\n",
            "Epoch 79/500\n",
            "96/96 [==============================] - 0s 955us/step - loss: 6.9943\n",
            "Epoch 80/500\n",
            "96/96 [==============================] - 0s 1ms/step - loss: 6.9818\n",
            "Epoch 81/500\n",
            "96/96 [==============================] - 0s 932us/step - loss: 6.9696\n",
            "Epoch 82/500\n",
            "96/96 [==============================] - 0s 932us/step - loss: 6.9601\n",
            "Epoch 83/500\n",
            "96/96 [==============================] - 0s 914us/step - loss: 6.9446\n",
            "Epoch 84/500\n",
            "96/96 [==============================] - 0s 950us/step - loss: 6.9329\n",
            "Epoch 85/500\n",
            "96/96 [==============================] - 0s 913us/step - loss: 6.9226\n",
            "Epoch 86/500\n",
            "96/96 [==============================] - 0s 955us/step - loss: 6.9078\n",
            "Epoch 87/500\n",
            "96/96 [==============================] - 0s 921us/step - loss: 6.8969\n",
            "Epoch 88/500\n",
            "96/96 [==============================] - 0s 1ms/step - loss: 6.8867\n",
            "Epoch 89/500\n",
            "96/96 [==============================] - 0s 930us/step - loss: 6.8742\n",
            "Epoch 90/500\n",
            "96/96 [==============================] - 0s 957us/step - loss: 6.8618\n",
            "Epoch 91/500\n",
            "96/96 [==============================] - 0s 964us/step - loss: 6.8495\n",
            "Epoch 92/500\n",
            "96/96 [==============================] - 0s 960us/step - loss: 6.8384\n",
            "Epoch 93/500\n",
            "96/96 [==============================] - 0s 916us/step - loss: 6.8293\n",
            "Epoch 94/500\n",
            "96/96 [==============================] - 0s 953us/step - loss: 6.8164\n",
            "Epoch 95/500\n",
            "96/96 [==============================] - 0s 959us/step - loss: 6.8038\n",
            "Epoch 96/500\n",
            "96/96 [==============================] - 0s 957us/step - loss: 6.7950\n",
            "Epoch 97/500\n",
            "96/96 [==============================] - 0s 937us/step - loss: 6.7820\n",
            "Epoch 98/500\n",
            "96/96 [==============================] - 0s 943us/step - loss: 6.7751\n",
            "Epoch 99/500\n",
            "96/96 [==============================] - 0s 977us/step - loss: 6.7614\n",
            "Epoch 100/500\n",
            "96/96 [==============================] - 0s 932us/step - loss: 6.7501\n",
            "Epoch 101/500\n",
            "96/96 [==============================] - 0s 1ms/step - loss: 6.7415\n",
            "Epoch 102/500\n",
            "96/96 [==============================] - 0s 968us/step - loss: 6.7288\n",
            "Epoch 103/500\n",
            "96/96 [==============================] - 0s 929us/step - loss: 6.7202\n",
            "Epoch 104/500\n",
            "96/96 [==============================] - 0s 957us/step - loss: 6.7092\n",
            "Epoch 105/500\n",
            "96/96 [==============================] - 0s 937us/step - loss: 6.7012\n",
            "Epoch 106/500\n",
            "96/96 [==============================] - 0s 1ms/step - loss: 6.6909\n",
            "Epoch 107/500\n",
            "96/96 [==============================] - 0s 976us/step - loss: 6.6807\n",
            "Epoch 108/500\n",
            "96/96 [==============================] - 0s 941us/step - loss: 6.6702\n",
            "Epoch 109/500\n",
            "96/96 [==============================] - 0s 1ms/step - loss: 6.6615\n",
            "Epoch 110/500\n",
            "96/96 [==============================] - 0s 969us/step - loss: 6.6489\n",
            "Epoch 111/500\n",
            "96/96 [==============================] - 0s 965us/step - loss: 6.6400\n",
            "Epoch 112/500\n",
            "96/96 [==============================] - 0s 956us/step - loss: 6.6313\n",
            "Epoch 113/500\n",
            "96/96 [==============================] - 0s 950us/step - loss: 6.6229\n",
            "Epoch 114/500\n",
            "96/96 [==============================] - 0s 935us/step - loss: 6.6133\n",
            "Epoch 115/500\n",
            "96/96 [==============================] - 0s 944us/step - loss: 6.6027\n",
            "Epoch 116/500\n",
            "96/96 [==============================] - 0s 953us/step - loss: 6.5940\n",
            "Epoch 117/500\n",
            "96/96 [==============================] - 0s 924us/step - loss: 6.5856\n",
            "Epoch 118/500\n",
            "96/96 [==============================] - 0s 904us/step - loss: 6.5757\n",
            "Epoch 119/500\n",
            "96/96 [==============================] - 0s 1ms/step - loss: 6.5688\n",
            "Epoch 120/500\n",
            "96/96 [==============================] - 0s 906us/step - loss: 6.5598\n",
            "Epoch 121/500\n",
            "96/96 [==============================] - 0s 973us/step - loss: 6.5507\n",
            "Epoch 122/500\n",
            "96/96 [==============================] - 0s 929us/step - loss: 6.5409\n",
            "Epoch 123/500\n",
            "96/96 [==============================] - 0s 948us/step - loss: 6.5323\n",
            "Epoch 124/500\n",
            "96/96 [==============================] - 0s 964us/step - loss: 6.5236\n",
            "Epoch 125/500\n",
            "96/96 [==============================] - 0s 927us/step - loss: 6.5168\n",
            "Epoch 126/500\n",
            "96/96 [==============================] - 0s 938us/step - loss: 6.5079\n",
            "Epoch 127/500\n",
            "96/96 [==============================] - 0s 895us/step - loss: 6.4998\n",
            "Epoch 128/500\n",
            "96/96 [==============================] - 0s 961us/step - loss: 6.4918\n",
            "Epoch 129/500\n",
            "96/96 [==============================] - 0s 938us/step - loss: 6.4857\n",
            "Epoch 130/500\n",
            "96/96 [==============================] - 0s 996us/step - loss: 6.4755\n",
            "Epoch 131/500\n",
            "96/96 [==============================] - 0s 959us/step - loss: 6.4669\n",
            "Epoch 132/500\n",
            "96/96 [==============================] - 0s 954us/step - loss: 6.4598\n",
            "Epoch 133/500\n",
            "96/96 [==============================] - 0s 975us/step - loss: 6.4527\n",
            "Epoch 134/500\n",
            "96/96 [==============================] - 0s 939us/step - loss: 6.4440\n",
            "Epoch 135/500\n",
            "96/96 [==============================] - 0s 999us/step - loss: 6.4373\n",
            "Epoch 136/500\n",
            "96/96 [==============================] - 0s 925us/step - loss: 6.4285\n",
            "Epoch 137/500\n",
            "96/96 [==============================] - 0s 922us/step - loss: 6.4224\n",
            "Epoch 138/500\n",
            "96/96 [==============================] - 0s 950us/step - loss: 6.4142\n",
            "Epoch 139/500\n",
            "96/96 [==============================] - 0s 932us/step - loss: 6.4073\n",
            "Epoch 140/500\n",
            "96/96 [==============================] - 0s 970us/step - loss: 6.3971\n",
            "Epoch 141/500\n",
            "96/96 [==============================] - 0s 1ms/step - loss: 6.3918\n",
            "Epoch 142/500\n",
            "96/96 [==============================] - 0s 1ms/step - loss: 6.3820\n",
            "Epoch 143/500\n",
            "96/96 [==============================] - 0s 986us/step - loss: 6.3749\n",
            "Epoch 144/500\n",
            "96/96 [==============================] - 0s 931us/step - loss: 6.3688\n",
            "Epoch 145/500\n",
            "96/96 [==============================] - 0s 990us/step - loss: 6.3622\n",
            "Epoch 146/500\n",
            "96/96 [==============================] - 0s 926us/step - loss: 6.3540\n",
            "Epoch 147/500\n",
            "96/96 [==============================] - 0s 986us/step - loss: 6.3462\n",
            "Epoch 148/500\n",
            "96/96 [==============================] - 0s 955us/step - loss: 6.3414\n",
            "Epoch 149/500\n",
            "96/96 [==============================] - 0s 886us/step - loss: 6.3320\n",
            "Epoch 150/500\n",
            "96/96 [==============================] - 0s 921us/step - loss: 6.3269\n",
            "Epoch 151/500\n",
            "96/96 [==============================] - 0s 1ms/step - loss: 6.3214\n",
            "Epoch 152/500\n",
            "96/96 [==============================] - 0s 954us/step - loss: 6.3122\n",
            "Epoch 153/500\n",
            "96/96 [==============================] - 0s 955us/step - loss: 6.3058\n",
            "Epoch 154/500\n",
            "96/96 [==============================] - 0s 937us/step - loss: 6.2985\n",
            "Epoch 155/500\n",
            "96/96 [==============================] - 0s 928us/step - loss: 6.2926\n",
            "Epoch 156/500\n",
            "96/96 [==============================] - 0s 973us/step - loss: 6.2855\n",
            "Epoch 157/500\n",
            "96/96 [==============================] - 0s 993us/step - loss: 6.2788\n",
            "Epoch 158/500\n",
            "96/96 [==============================] - 0s 1ms/step - loss: 6.2737\n",
            "Epoch 159/500\n",
            "96/96 [==============================] - 0s 961us/step - loss: 6.2655\n",
            "Epoch 160/500\n",
            "96/96 [==============================] - 0s 977us/step - loss: 6.2590\n",
            "Epoch 161/500\n",
            "96/96 [==============================] - 0s 1ms/step - loss: 6.2534\n",
            "Epoch 162/500\n",
            "96/96 [==============================] - 0s 947us/step - loss: 6.2476\n",
            "Epoch 163/500\n",
            "96/96 [==============================] - 0s 939us/step - loss: 6.2429\n",
            "Epoch 164/500\n",
            "96/96 [==============================] - 0s 957us/step - loss: 6.2343\n",
            "Epoch 165/500\n",
            "96/96 [==============================] - 0s 979us/step - loss: 6.2297\n",
            "Epoch 166/500\n",
            "96/96 [==============================] - 0s 961us/step - loss: 6.2239\n",
            "Epoch 167/500\n",
            "96/96 [==============================] - 0s 974us/step - loss: 6.2163\n",
            "Epoch 168/500\n",
            "96/96 [==============================] - 0s 964us/step - loss: 6.2124\n",
            "Epoch 169/500\n",
            "96/96 [==============================] - 0s 955us/step - loss: 6.2049\n",
            "Epoch 170/500\n",
            "96/96 [==============================] - 0s 926us/step - loss: 6.2027\n",
            "Epoch 171/500\n",
            "96/96 [==============================] - 0s 1ms/step - loss: 6.1961\n",
            "Epoch 172/500\n",
            "96/96 [==============================] - 0s 1ms/step - loss: 6.1883\n",
            "Epoch 173/500\n",
            "96/96 [==============================] - 0s 963us/step - loss: 6.1813\n",
            "Epoch 174/500\n",
            "96/96 [==============================] - 0s 935us/step - loss: 6.1750\n",
            "Epoch 175/500\n",
            "96/96 [==============================] - 0s 916us/step - loss: 6.1682\n",
            "Epoch 176/500\n",
            "96/96 [==============================] - 0s 945us/step - loss: 6.1628\n",
            "Epoch 177/500\n",
            "96/96 [==============================] - 0s 1ms/step - loss: 6.1572\n",
            "Epoch 178/500\n",
            "96/96 [==============================] - 0s 943us/step - loss: 6.1509\n",
            "Epoch 179/500\n",
            "96/96 [==============================] - 0s 940us/step - loss: 6.1467\n",
            "Epoch 180/500\n",
            "96/96 [==============================] - 0s 968us/step - loss: 6.1455\n",
            "Epoch 181/500\n",
            "96/96 [==============================] - 0s 955us/step - loss: 6.1359\n",
            "Epoch 182/500\n",
            "96/96 [==============================] - 0s 1ms/step - loss: 6.1293\n",
            "Epoch 183/500\n",
            "96/96 [==============================] - 0s 912us/step - loss: 6.1275\n",
            "Epoch 184/500\n",
            "96/96 [==============================] - 0s 938us/step - loss: 6.1190\n",
            "Epoch 185/500\n",
            "96/96 [==============================] - 0s 936us/step - loss: 6.1150\n",
            "Epoch 186/500\n",
            "96/96 [==============================] - 0s 898us/step - loss: 6.1101\n",
            "Epoch 187/500\n",
            "96/96 [==============================] - 0s 988us/step - loss: 6.1035\n",
            "Epoch 188/500\n",
            "96/96 [==============================] - 0s 941us/step - loss: 6.0997\n",
            "Epoch 189/500\n",
            "96/96 [==============================] - 0s 948us/step - loss: 6.0939\n",
            "Epoch 190/500\n",
            "96/96 [==============================] - 0s 997us/step - loss: 6.0883\n",
            "Epoch 191/500\n",
            "96/96 [==============================] - 0s 938us/step - loss: 6.0834\n",
            "Epoch 192/500\n",
            "96/96 [==============================] - 0s 969us/step - loss: 6.0802\n",
            "Epoch 193/500\n",
            "96/96 [==============================] - 0s 957us/step - loss: 6.0746\n",
            "Epoch 194/500\n",
            "96/96 [==============================] - 0s 934us/step - loss: 6.0687\n",
            "Epoch 195/500\n",
            "96/96 [==============================] - 0s 930us/step - loss: 6.0632\n",
            "Epoch 196/500\n",
            "96/96 [==============================] - 0s 1ms/step - loss: 6.0612\n",
            "Epoch 197/500\n",
            "96/96 [==============================] - 0s 1000us/step - loss: 6.0523\n",
            "Epoch 198/500\n",
            "96/96 [==============================] - 0s 952us/step - loss: 6.0488\n",
            "Epoch 199/500\n",
            "96/96 [==============================] - 0s 906us/step - loss: 6.0445\n",
            "Epoch 200/500\n",
            "96/96 [==============================] - 0s 1ms/step - loss: 6.0394\n",
            "Epoch 201/500\n",
            "96/96 [==============================] - 0s 971us/step - loss: 6.0345\n",
            "Epoch 202/500\n",
            "96/96 [==============================] - 0s 963us/step - loss: 6.0313\n",
            "Epoch 203/500\n",
            "96/96 [==============================] - 0s 1ms/step - loss: 6.0269\n",
            "Epoch 204/500\n",
            "96/96 [==============================] - 0s 986us/step - loss: 6.0197\n",
            "Epoch 205/500\n",
            "96/96 [==============================] - 0s 984us/step - loss: 6.0149\n",
            "Epoch 206/500\n",
            "96/96 [==============================] - 0s 989us/step - loss: 6.0124\n",
            "Epoch 207/500\n",
            "96/96 [==============================] - 0s 980us/step - loss: 6.0074\n",
            "Epoch 208/500\n",
            "96/96 [==============================] - 0s 942us/step - loss: 6.0036\n",
            "Epoch 209/500\n",
            "96/96 [==============================] - 0s 939us/step - loss: 5.9973\n",
            "Epoch 210/500\n",
            "96/96 [==============================] - 0s 887us/step - loss: 5.9950\n",
            "Epoch 211/500\n",
            "96/96 [==============================] - 0s 973us/step - loss: 5.9889\n",
            "Epoch 212/500\n",
            "96/96 [==============================] - 0s 946us/step - loss: 5.9838\n",
            "Epoch 213/500\n",
            "96/96 [==============================] - 0s 1ms/step - loss: 5.9821\n",
            "Epoch 214/500\n",
            "96/96 [==============================] - 0s 928us/step - loss: 5.9795\n",
            "Epoch 215/500\n",
            "96/96 [==============================] - 0s 1ms/step - loss: 5.9698\n",
            "Epoch 216/500\n",
            "96/96 [==============================] - 0s 988us/step - loss: 5.9680\n",
            "Epoch 217/500\n",
            "96/96 [==============================] - 0s 962us/step - loss: 5.9628\n",
            "Epoch 218/500\n",
            "96/96 [==============================] - 0s 947us/step - loss: 5.9575\n",
            "Epoch 219/500\n",
            "96/96 [==============================] - 0s 1ms/step - loss: 5.9544\n",
            "Epoch 220/500\n",
            "96/96 [==============================] - 0s 918us/step - loss: 5.9492\n",
            "Epoch 221/500\n",
            "96/96 [==============================] - 0s 980us/step - loss: 5.9454\n",
            "Epoch 222/500\n",
            "96/96 [==============================] - 0s 945us/step - loss: 5.9408\n",
            "Epoch 223/500\n",
            "96/96 [==============================] - 0s 1ms/step - loss: 5.9377\n",
            "Epoch 224/500\n",
            "96/96 [==============================] - 0s 972us/step - loss: 5.9319\n",
            "Epoch 225/500\n",
            "96/96 [==============================] - 0s 976us/step - loss: 5.9306\n",
            "Epoch 226/500\n",
            "96/96 [==============================] - 0s 998us/step - loss: 5.9240\n",
            "Epoch 227/500\n",
            "96/96 [==============================] - 0s 932us/step - loss: 5.9207\n",
            "Epoch 228/500\n",
            "96/96 [==============================] - 0s 1ms/step - loss: 5.9140\n",
            "Epoch 229/500\n",
            "96/96 [==============================] - 0s 919us/step - loss: 5.9109\n",
            "Epoch 230/500\n",
            "96/96 [==============================] - 0s 968us/step - loss: 5.9030\n",
            "Epoch 231/500\n",
            "96/96 [==============================] - 0s 950us/step - loss: 5.8973\n",
            "Epoch 232/500\n",
            "96/96 [==============================] - 0s 972us/step - loss: 5.8912\n",
            "Epoch 233/500\n",
            "96/96 [==============================] - 0s 1ms/step - loss: 5.8792\n",
            "Epoch 234/500\n",
            "96/96 [==============================] - 0s 1ms/step - loss: 5.8695\n",
            "Epoch 235/500\n",
            "96/96 [==============================] - 0s 969us/step - loss: 5.8639\n",
            "Epoch 236/500\n",
            "96/96 [==============================] - 0s 920us/step - loss: 5.8592\n",
            "Epoch 237/500\n",
            "96/96 [==============================] - 0s 1ms/step - loss: 5.8553\n",
            "Epoch 238/500\n",
            "96/96 [==============================] - 0s 977us/step - loss: 5.8492\n",
            "Epoch 239/500\n",
            "96/96 [==============================] - 0s 923us/step - loss: 5.8450\n",
            "Epoch 240/500\n",
            "96/96 [==============================] - 0s 936us/step - loss: 5.8403\n",
            "Epoch 241/500\n",
            "96/96 [==============================] - 0s 961us/step - loss: 5.8363\n",
            "Epoch 242/500\n",
            "96/96 [==============================] - 0s 933us/step - loss: 5.8323\n",
            "Epoch 243/500\n",
            "96/96 [==============================] - 0s 958us/step - loss: 5.8281\n",
            "Epoch 244/500\n",
            "96/96 [==============================] - 0s 1ms/step - loss: 5.8228\n",
            "Epoch 245/500\n",
            "96/96 [==============================] - 0s 1ms/step - loss: 5.8224\n",
            "Epoch 246/500\n",
            "96/96 [==============================] - 0s 944us/step - loss: 5.8153\n",
            "Epoch 247/500\n",
            "96/96 [==============================] - 0s 979us/step - loss: 5.8130\n",
            "Epoch 248/500\n",
            "96/96 [==============================] - 0s 1ms/step - loss: 5.8084\n",
            "Epoch 249/500\n",
            "96/96 [==============================] - 0s 919us/step - loss: 5.8034\n",
            "Epoch 250/500\n",
            "96/96 [==============================] - 0s 957us/step - loss: 5.8005\n",
            "Epoch 251/500\n",
            "96/96 [==============================] - 0s 934us/step - loss: 5.7916\n",
            "Epoch 252/500\n",
            "96/96 [==============================] - 0s 936us/step - loss: 5.7910\n",
            "Epoch 253/500\n",
            "96/96 [==============================] - 0s 979us/step - loss: 5.7843\n",
            "Epoch 254/500\n",
            "96/96 [==============================] - 0s 1ms/step - loss: 5.7816\n",
            "Epoch 255/500\n",
            "96/96 [==============================] - 0s 963us/step - loss: 5.7756\n",
            "Epoch 256/500\n",
            "96/96 [==============================] - 0s 963us/step - loss: 5.7716\n",
            "Epoch 257/500\n",
            "96/96 [==============================] - 0s 974us/step - loss: 5.7683\n",
            "Epoch 258/500\n",
            "96/96 [==============================] - 0s 958us/step - loss: 5.7636\n",
            "Epoch 259/500\n",
            "96/96 [==============================] - 0s 964us/step - loss: 5.7586\n",
            "Epoch 260/500\n",
            "96/96 [==============================] - 0s 957us/step - loss: 5.7561\n",
            "Epoch 261/500\n",
            "96/96 [==============================] - 0s 966us/step - loss: 5.7529\n",
            "Epoch 262/500\n",
            "96/96 [==============================] - 0s 943us/step - loss: 5.7459\n",
            "Epoch 263/500\n",
            "96/96 [==============================] - 0s 939us/step - loss: 5.7444\n",
            "Epoch 264/500\n",
            "96/96 [==============================] - 0s 1ms/step - loss: 5.7393\n",
            "Epoch 265/500\n",
            "96/96 [==============================] - 0s 1ms/step - loss: 5.7355\n",
            "Epoch 266/500\n",
            "96/96 [==============================] - 0s 942us/step - loss: 5.7302\n",
            "Epoch 267/500\n",
            "96/96 [==============================] - 0s 939us/step - loss: 5.7280\n",
            "Epoch 268/500\n",
            "96/96 [==============================] - 0s 945us/step - loss: 5.7221\n",
            "Epoch 269/500\n",
            "96/96 [==============================] - 0s 943us/step - loss: 5.7191\n",
            "Epoch 270/500\n",
            "96/96 [==============================] - 0s 1ms/step - loss: 5.7149\n",
            "Epoch 271/500\n",
            "96/96 [==============================] - 0s 943us/step - loss: 5.7109\n",
            "Epoch 272/500\n",
            "96/96 [==============================] - 0s 925us/step - loss: 5.7067\n",
            "Epoch 273/500\n",
            "96/96 [==============================] - 0s 919us/step - loss: 5.7033\n",
            "Epoch 274/500\n",
            "96/96 [==============================] - 0s 1ms/step - loss: 5.6987\n",
            "Epoch 275/500\n",
            "96/96 [==============================] - 0s 1ms/step - loss: 5.6954\n",
            "Epoch 276/500\n",
            "96/96 [==============================] - 0s 913us/step - loss: 5.6904\n",
            "Epoch 277/500\n",
            "96/96 [==============================] - 0s 936us/step - loss: 5.6865\n",
            "Epoch 278/500\n",
            "96/96 [==============================] - 0s 1ms/step - loss: 5.6818\n",
            "Epoch 279/500\n",
            "96/96 [==============================] - 0s 949us/step - loss: 5.6785\n",
            "Epoch 280/500\n",
            "96/96 [==============================] - 0s 930us/step - loss: 5.6751\n",
            "Epoch 281/500\n",
            "96/96 [==============================] - 0s 956us/step - loss: 5.6725\n",
            "Epoch 282/500\n",
            "96/96 [==============================] - 0s 953us/step - loss: 5.6672\n",
            "Epoch 283/500\n",
            "96/96 [==============================] - 0s 1ms/step - loss: 5.6639\n",
            "Epoch 284/500\n",
            "96/96 [==============================] - 0s 1ms/step - loss: 5.6611\n",
            "Epoch 285/500\n",
            "96/96 [==============================] - 0s 964us/step - loss: 5.6562\n",
            "Epoch 286/500\n",
            "96/96 [==============================] - 0s 923us/step - loss: 5.6544\n",
            "Epoch 287/500\n",
            "96/96 [==============================] - 0s 965us/step - loss: 5.6498\n",
            "Epoch 288/500\n",
            "96/96 [==============================] - 0s 1ms/step - loss: 5.6480\n",
            "Epoch 289/500\n",
            "96/96 [==============================] - 0s 1ms/step - loss: 5.6413\n",
            "Epoch 290/500\n",
            "96/96 [==============================] - 0s 1ms/step - loss: 5.6391\n",
            "Epoch 291/500\n",
            "96/96 [==============================] - 0s 924us/step - loss: 5.6348\n",
            "Epoch 292/500\n",
            "96/96 [==============================] - 0s 957us/step - loss: 5.6328\n",
            "Epoch 293/500\n",
            "96/96 [==============================] - 0s 944us/step - loss: 5.6290\n",
            "Epoch 294/500\n",
            "96/96 [==============================] - 0s 1ms/step - loss: 5.6224\n",
            "Epoch 295/500\n",
            "96/96 [==============================] - 0s 943us/step - loss: 5.6219\n",
            "Epoch 296/500\n",
            "96/96 [==============================] - 0s 928us/step - loss: 5.6159\n",
            "Epoch 297/500\n",
            "96/96 [==============================] - 0s 955us/step - loss: 5.6130\n",
            "Epoch 298/500\n",
            "96/96 [==============================] - 0s 960us/step - loss: 5.6112\n",
            "Epoch 299/500\n",
            "96/96 [==============================] - 0s 993us/step - loss: 5.6054\n",
            "Epoch 300/500\n",
            "96/96 [==============================] - 0s 946us/step - loss: 5.6007\n",
            "Epoch 301/500\n",
            "96/96 [==============================] - 0s 925us/step - loss: 5.5996\n",
            "Epoch 302/500\n",
            "96/96 [==============================] - 0s 961us/step - loss: 5.5961\n",
            "Epoch 303/500\n",
            "96/96 [==============================] - 0s 965us/step - loss: 5.5917\n",
            "Epoch 304/500\n",
            "96/96 [==============================] - 0s 957us/step - loss: 5.5873\n",
            "Epoch 305/500\n",
            "96/96 [==============================] - 0s 1ms/step - loss: 5.5829\n",
            "Epoch 306/500\n",
            "96/96 [==============================] - 0s 973us/step - loss: 5.5809\n",
            "Epoch 307/500\n",
            "96/96 [==============================] - 0s 978us/step - loss: 5.5777\n",
            "Epoch 308/500\n",
            "96/96 [==============================] - 0s 948us/step - loss: 5.5743\n",
            "Epoch 309/500\n",
            "96/96 [==============================] - 0s 962us/step - loss: 5.5716\n",
            "Epoch 310/500\n",
            "96/96 [==============================] - 0s 919us/step - loss: 5.5684\n",
            "Epoch 311/500\n",
            "96/96 [==============================] - 0s 1ms/step - loss: 5.5633\n",
            "Epoch 312/500\n",
            "96/96 [==============================] - 0s 988us/step - loss: 5.5602\n",
            "Epoch 313/500\n",
            "96/96 [==============================] - 0s 949us/step - loss: 5.5555\n",
            "Epoch 314/500\n",
            "96/96 [==============================] - 0s 957us/step - loss: 5.5543\n",
            "Epoch 315/500\n",
            "96/96 [==============================] - 0s 1ms/step - loss: 5.5512\n",
            "Epoch 316/500\n",
            "96/96 [==============================] - 0s 1ms/step - loss: 5.5459\n",
            "Epoch 317/500\n",
            "96/96 [==============================] - 0s 1ms/step - loss: 5.5435\n",
            "Epoch 318/500\n",
            "96/96 [==============================] - 0s 981us/step - loss: 5.5424\n",
            "Epoch 319/500\n",
            "96/96 [==============================] - 0s 953us/step - loss: 5.5374\n",
            "Epoch 320/500\n",
            "96/96 [==============================] - 0s 996us/step - loss: 5.5344\n",
            "Epoch 321/500\n",
            "96/96 [==============================] - 0s 993us/step - loss: 5.5336\n",
            "Epoch 322/500\n",
            "96/96 [==============================] - 0s 1ms/step - loss: 5.5273\n",
            "Epoch 323/500\n",
            "96/96 [==============================] - 0s 926us/step - loss: 5.5229\n",
            "Epoch 324/500\n",
            "96/96 [==============================] - 0s 984us/step - loss: 5.5201\n",
            "Epoch 325/500\n",
            "96/96 [==============================] - 0s 981us/step - loss: 5.5182\n",
            "Epoch 326/500\n",
            "96/96 [==============================] - 0s 938us/step - loss: 5.5146\n",
            "Epoch 327/500\n",
            "96/96 [==============================] - 0s 965us/step - loss: 5.5097\n",
            "Epoch 328/500\n",
            "96/96 [==============================] - 0s 937us/step - loss: 5.5064\n",
            "Epoch 329/500\n",
            "96/96 [==============================] - 0s 934us/step - loss: 5.5031\n",
            "Epoch 330/500\n",
            "96/96 [==============================] - 0s 986us/step - loss: 5.5008\n",
            "Epoch 331/500\n",
            "96/96 [==============================] - 0s 930us/step - loss: 5.4995\n",
            "Epoch 332/500\n",
            "96/96 [==============================] - 0s 912us/step - loss: 5.4926\n",
            "Epoch 333/500\n",
            "96/96 [==============================] - 0s 928us/step - loss: 5.4894\n",
            "Epoch 334/500\n",
            "96/96 [==============================] - 0s 1ms/step - loss: 5.4869\n",
            "Epoch 335/500\n",
            "96/96 [==============================] - 0s 971us/step - loss: 5.4840\n",
            "Epoch 336/500\n",
            "96/96 [==============================] - 0s 1ms/step - loss: 5.4803\n",
            "Epoch 337/500\n",
            "96/96 [==============================] - 0s 986us/step - loss: 5.4786\n",
            "Epoch 338/500\n",
            "96/96 [==============================] - 0s 944us/step - loss: 5.4748\n",
            "Epoch 339/500\n",
            "96/96 [==============================] - 0s 937us/step - loss: 5.4714\n",
            "Epoch 340/500\n",
            "96/96 [==============================] - 0s 945us/step - loss: 5.4696\n",
            "Epoch 341/500\n",
            "96/96 [==============================] - 0s 1ms/step - loss: 5.4655\n",
            "Epoch 342/500\n",
            "96/96 [==============================] - 0s 906us/step - loss: 5.4610\n",
            "Epoch 343/500\n",
            "96/96 [==============================] - 0s 979us/step - loss: 5.4595\n",
            "Epoch 344/500\n",
            "96/96 [==============================] - 0s 1ms/step - loss: 5.4565\n",
            "Epoch 345/500\n",
            "96/96 [==============================] - 0s 926us/step - loss: 5.4512\n",
            "Epoch 346/500\n",
            "96/96 [==============================] - 0s 1ms/step - loss: 5.4476\n",
            "Epoch 347/500\n",
            "96/96 [==============================] - 0s 910us/step - loss: 5.4472\n",
            "Epoch 348/500\n",
            "96/96 [==============================] - 0s 953us/step - loss: 5.4413\n",
            "Epoch 349/500\n",
            "96/96 [==============================] - 0s 940us/step - loss: 5.4393\n",
            "Epoch 350/500\n",
            "96/96 [==============================] - 0s 921us/step - loss: 5.4370\n",
            "Epoch 351/500\n",
            "96/96 [==============================] - 0s 948us/step - loss: 5.4313\n",
            "Epoch 352/500\n",
            "96/96 [==============================] - 0s 906us/step - loss: 5.4302\n",
            "Epoch 353/500\n",
            "96/96 [==============================] - 0s 959us/step - loss: 5.4274\n",
            "Epoch 354/500\n",
            "96/96 [==============================] - 0s 948us/step - loss: 5.4218\n",
            "Epoch 355/500\n",
            "96/96 [==============================] - 0s 1ms/step - loss: 5.4181\n",
            "Epoch 356/500\n",
            "96/96 [==============================] - 0s 1ms/step - loss: 5.4146\n",
            "Epoch 357/500\n",
            "96/96 [==============================] - 0s 951us/step - loss: 5.4123\n",
            "Epoch 358/500\n",
            "96/96 [==============================] - 0s 932us/step - loss: 5.4093\n",
            "Epoch 359/500\n",
            "96/96 [==============================] - 0s 981us/step - loss: 5.4055\n",
            "Epoch 360/500\n",
            "96/96 [==============================] - 0s 1ms/step - loss: 5.4026\n",
            "Epoch 361/500\n",
            "96/96 [==============================] - 0s 1ms/step - loss: 5.3988\n",
            "Epoch 362/500\n",
            "96/96 [==============================] - 0s 977us/step - loss: 5.3972\n",
            "Epoch 363/500\n",
            "96/96 [==============================] - 0s 1ms/step - loss: 5.3934\n",
            "Epoch 364/500\n",
            "96/96 [==============================] - 0s 962us/step - loss: 5.3898\n",
            "Epoch 365/500\n",
            "96/96 [==============================] - 0s 1ms/step - loss: 5.3876\n",
            "Epoch 366/500\n",
            "96/96 [==============================] - 0s 1ms/step - loss: 5.3833\n",
            "Epoch 367/500\n",
            "96/96 [==============================] - 0s 925us/step - loss: 5.3809\n",
            "Epoch 368/500\n",
            "96/96 [==============================] - 0s 978us/step - loss: 5.3812\n",
            "Epoch 369/500\n",
            "96/96 [==============================] - 0s 966us/step - loss: 5.3751\n",
            "Epoch 370/500\n",
            "96/96 [==============================] - 0s 936us/step - loss: 5.3727\n",
            "Epoch 371/500\n",
            "96/96 [==============================] - 0s 934us/step - loss: 5.3677\n",
            "Epoch 372/500\n",
            "96/96 [==============================] - 0s 977us/step - loss: 5.3665\n",
            "Epoch 373/500\n",
            "96/96 [==============================] - 0s 1ms/step - loss: 5.3622\n",
            "Epoch 374/500\n",
            "96/96 [==============================] - 0s 968us/step - loss: 5.3595\n",
            "Epoch 375/500\n",
            "96/96 [==============================] - 0s 941us/step - loss: 5.3575\n",
            "Epoch 376/500\n",
            "96/96 [==============================] - 0s 1ms/step - loss: 5.3558\n",
            "Epoch 377/500\n",
            "96/96 [==============================] - 0s 973us/step - loss: 5.3518\n",
            "Epoch 378/500\n",
            "96/96 [==============================] - 0s 931us/step - loss: 5.3479\n",
            "Epoch 379/500\n",
            "96/96 [==============================] - 0s 993us/step - loss: 5.3437\n",
            "Epoch 380/500\n",
            "96/96 [==============================] - 0s 1ms/step - loss: 5.3421\n",
            "Epoch 381/500\n",
            "96/96 [==============================] - 0s 996us/step - loss: 5.3382\n",
            "Epoch 382/500\n",
            "96/96 [==============================] - 0s 979us/step - loss: 5.3347\n",
            "Epoch 383/500\n",
            "96/96 [==============================] - 0s 992us/step - loss: 5.3320\n",
            "Epoch 384/500\n",
            "96/96 [==============================] - 0s 1ms/step - loss: 5.3289\n",
            "Epoch 385/500\n",
            "96/96 [==============================] - 0s 939us/step - loss: 5.3269\n",
            "Epoch 386/500\n",
            "96/96 [==============================] - 0s 984us/step - loss: 5.3234\n",
            "Epoch 387/500\n",
            "96/96 [==============================] - 0s 958us/step - loss: 5.3193\n",
            "Epoch 388/500\n",
            "96/96 [==============================] - 0s 985us/step - loss: 5.3183\n",
            "Epoch 389/500\n",
            "96/96 [==============================] - 0s 921us/step - loss: 5.3151\n",
            "Epoch 390/500\n",
            "96/96 [==============================] - 0s 1ms/step - loss: 5.3106\n",
            "Epoch 391/500\n",
            "96/96 [==============================] - 0s 948us/step - loss: 5.3080\n",
            "Epoch 392/500\n",
            "96/96 [==============================] - 0s 903us/step - loss: 5.3055\n",
            "Epoch 393/500\n",
            "96/96 [==============================] - 0s 926us/step - loss: 5.3022\n",
            "Epoch 394/500\n",
            "96/96 [==============================] - 0s 937us/step - loss: 5.3000\n",
            "Epoch 395/500\n",
            "96/96 [==============================] - 0s 910us/step - loss: 5.2984\n",
            "Epoch 396/500\n",
            "96/96 [==============================] - 0s 1ms/step - loss: 5.2970\n",
            "Epoch 397/500\n",
            "96/96 [==============================] - 0s 938us/step - loss: 5.2920\n",
            "Epoch 398/500\n",
            "96/96 [==============================] - 0s 900us/step - loss: 5.2906\n",
            "Epoch 399/500\n",
            "96/96 [==============================] - 0s 936us/step - loss: 5.2877\n",
            "Epoch 400/500\n",
            "96/96 [==============================] - 0s 928us/step - loss: 5.2829\n",
            "Epoch 401/500\n",
            "96/96 [==============================] - 0s 967us/step - loss: 5.2828\n",
            "Epoch 402/500\n",
            "96/96 [==============================] - 0s 946us/step - loss: 5.2768\n",
            "Epoch 403/500\n",
            "96/96 [==============================] - 0s 964us/step - loss: 5.2747\n",
            "Epoch 404/500\n",
            "96/96 [==============================] - 0s 993us/step - loss: 5.2733\n",
            "Epoch 405/500\n",
            "96/96 [==============================] - 0s 955us/step - loss: 5.2688\n",
            "Epoch 406/500\n",
            "96/96 [==============================] - 0s 960us/step - loss: 5.2645\n",
            "Epoch 407/500\n",
            "96/96 [==============================] - 0s 1ms/step - loss: 5.2631\n",
            "Epoch 408/500\n",
            "96/96 [==============================] - 0s 919us/step - loss: 5.2609\n",
            "Epoch 409/500\n",
            "96/96 [==============================] - 0s 973us/step - loss: 5.2559\n",
            "Epoch 410/500\n",
            "96/96 [==============================] - 0s 932us/step - loss: 5.2548\n",
            "Epoch 411/500\n",
            "96/96 [==============================] - 0s 956us/step - loss: 5.2539\n",
            "Epoch 412/500\n",
            "96/96 [==============================] - 0s 948us/step - loss: 5.2518\n",
            "Epoch 413/500\n",
            "96/96 [==============================] - 0s 1ms/step - loss: 5.2448\n",
            "Epoch 414/500\n",
            "96/96 [==============================] - 0s 933us/step - loss: 5.2426\n",
            "Epoch 415/500\n",
            "96/96 [==============================] - 0s 921us/step - loss: 5.2406\n",
            "Epoch 416/500\n",
            "96/96 [==============================] - 0s 946us/step - loss: 5.2393\n",
            "Epoch 417/500\n",
            "96/96 [==============================] - 0s 978us/step - loss: 5.2345\n",
            "Epoch 418/500\n",
            "96/96 [==============================] - 0s 981us/step - loss: 5.2301\n",
            "Epoch 419/500\n",
            "96/96 [==============================] - 0s 959us/step - loss: 5.2283\n",
            "Epoch 420/500\n",
            "96/96 [==============================] - 0s 958us/step - loss: 5.2251\n",
            "Epoch 421/500\n",
            "96/96 [==============================] - 0s 1ms/step - loss: 5.2241\n",
            "Epoch 422/500\n",
            "96/96 [==============================] - 0s 955us/step - loss: 5.2224\n",
            "Epoch 423/500\n",
            "96/96 [==============================] - 0s 984us/step - loss: 5.2175\n",
            "Epoch 424/500\n",
            "96/96 [==============================] - 0s 962us/step - loss: 5.2139\n",
            "Epoch 425/500\n",
            "96/96 [==============================] - 0s 1ms/step - loss: 5.2139\n",
            "Epoch 426/500\n",
            "96/96 [==============================] - 0s 1ms/step - loss: 5.2087\n",
            "Epoch 427/500\n",
            "96/96 [==============================] - 0s 1ms/step - loss: 5.2062\n",
            "Epoch 428/500\n",
            "96/96 [==============================] - 0s 918us/step - loss: 5.2034\n",
            "Epoch 429/500\n",
            "96/96 [==============================] - 0s 984us/step - loss: 5.2025\n",
            "Epoch 430/500\n",
            "96/96 [==============================] - 0s 1ms/step - loss: 5.1986\n",
            "Epoch 431/500\n",
            "96/96 [==============================] - 0s 937us/step - loss: 5.1965\n",
            "Epoch 432/500\n",
            "96/96 [==============================] - 0s 985us/step - loss: 5.1937\n",
            "Epoch 433/500\n",
            "96/96 [==============================] - 0s 939us/step - loss: 5.1900\n",
            "Epoch 434/500\n",
            "96/96 [==============================] - 0s 1ms/step - loss: 5.1902\n",
            "Epoch 435/500\n",
            "96/96 [==============================] - 0s 985us/step - loss: 5.1847\n",
            "Epoch 436/500\n",
            "96/96 [==============================] - 0s 928us/step - loss: 5.1821\n",
            "Epoch 437/500\n",
            "96/96 [==============================] - 0s 1ms/step - loss: 5.1784\n",
            "Epoch 438/500\n",
            "96/96 [==============================] - 0s 927us/step - loss: 5.1766\n",
            "Epoch 439/500\n",
            "96/96 [==============================] - 0s 940us/step - loss: 5.1734\n",
            "Epoch 440/500\n",
            "96/96 [==============================] - 0s 1ms/step - loss: 5.1707\n",
            "Epoch 441/500\n",
            "96/96 [==============================] - 0s 928us/step - loss: 5.1697\n",
            "Epoch 442/500\n",
            "96/96 [==============================] - 0s 972us/step - loss: 5.1657\n",
            "Epoch 443/500\n",
            "96/96 [==============================] - 0s 940us/step - loss: 5.1623\n",
            "Epoch 444/500\n",
            "96/96 [==============================] - 0s 957us/step - loss: 5.1602\n",
            "Epoch 445/500\n",
            "96/96 [==============================] - 0s 977us/step - loss: 5.1590\n",
            "Epoch 446/500\n",
            "96/96 [==============================] - 0s 972us/step - loss: 5.1551\n",
            "Epoch 447/500\n",
            "96/96 [==============================] - 0s 977us/step - loss: 5.1511\n",
            "Epoch 448/500\n",
            "96/96 [==============================] - 0s 1ms/step - loss: 5.1508\n",
            "Epoch 449/500\n",
            "96/96 [==============================] - 0s 935us/step - loss: 5.1486\n",
            "Epoch 450/500\n",
            "96/96 [==============================] - 0s 922us/step - loss: 5.1462\n",
            "Epoch 451/500\n",
            "96/96 [==============================] - 0s 940us/step - loss: 5.1411\n",
            "Epoch 452/500\n",
            "96/96 [==============================] - 0s 971us/step - loss: 5.1400\n",
            "Epoch 453/500\n",
            "96/96 [==============================] - 0s 902us/step - loss: 5.1365\n",
            "Epoch 454/500\n",
            "96/96 [==============================] - 0s 916us/step - loss: 5.1322\n",
            "Epoch 455/500\n",
            "96/96 [==============================] - 0s 912us/step - loss: 5.1293\n",
            "Epoch 456/500\n",
            "96/96 [==============================] - 0s 947us/step - loss: 5.1283\n",
            "Epoch 457/500\n",
            "96/96 [==============================] - 0s 984us/step - loss: 5.1250\n",
            "Epoch 458/500\n",
            "96/96 [==============================] - 0s 1ms/step - loss: 5.1236\n",
            "Epoch 459/500\n",
            "96/96 [==============================] - 0s 917us/step - loss: 5.1212\n",
            "Epoch 460/500\n",
            "96/96 [==============================] - 0s 1ms/step - loss: 5.1192\n",
            "Epoch 461/500\n",
            "96/96 [==============================] - 0s 1ms/step - loss: 5.1191\n",
            "Epoch 462/500\n",
            "96/96 [==============================] - 0s 990us/step - loss: 5.1193\n",
            "Epoch 463/500\n",
            "96/96 [==============================] - 0s 930us/step - loss: 5.1133\n",
            "Epoch 464/500\n",
            "96/96 [==============================] - 0s 935us/step - loss: 5.1096\n",
            "Epoch 465/500\n",
            "96/96 [==============================] - 0s 951us/step - loss: 5.1057\n",
            "Epoch 466/500\n",
            "96/96 [==============================] - 0s 952us/step - loss: 5.1084\n",
            "Epoch 467/500\n",
            "96/96 [==============================] - 0s 945us/step - loss: 5.0998\n",
            "Epoch 468/500\n",
            "96/96 [==============================] - 0s 987us/step - loss: 5.0982\n",
            "Epoch 469/500\n",
            "96/96 [==============================] - 0s 980us/step - loss: 5.0959\n",
            "Epoch 470/500\n",
            "96/96 [==============================] - 0s 946us/step - loss: 5.0918\n",
            "Epoch 471/500\n",
            "96/96 [==============================] - 0s 992us/step - loss: 5.0909\n",
            "Epoch 472/500\n",
            "96/96 [==============================] - 0s 1ms/step - loss: 5.0867\n",
            "Epoch 473/500\n",
            "96/96 [==============================] - 0s 963us/step - loss: 5.0870\n",
            "Epoch 474/500\n",
            "96/96 [==============================] - 0s 978us/step - loss: 5.0847\n",
            "Epoch 475/500\n",
            "96/96 [==============================] - 0s 969us/step - loss: 5.0797\n",
            "Epoch 476/500\n",
            "96/96 [==============================] - 0s 947us/step - loss: 5.0763\n",
            "Epoch 477/500\n",
            "96/96 [==============================] - 0s 923us/step - loss: 5.0738\n",
            "Epoch 478/500\n",
            "96/96 [==============================] - 0s 969us/step - loss: 5.0750\n",
            "Epoch 479/500\n",
            "96/96 [==============================] - 0s 1ms/step - loss: 5.0696\n",
            "Epoch 480/500\n",
            "96/96 [==============================] - 0s 951us/step - loss: 5.0668\n",
            "Epoch 481/500\n",
            "96/96 [==============================] - 0s 934us/step - loss: 5.0659\n",
            "Epoch 482/500\n",
            "96/96 [==============================] - 0s 1ms/step - loss: 5.0630\n",
            "Epoch 483/500\n",
            "96/96 [==============================] - 0s 934us/step - loss: 5.0584\n",
            "Epoch 484/500\n",
            "96/96 [==============================] - 0s 907us/step - loss: 5.0604\n",
            "Epoch 485/500\n",
            "96/96 [==============================] - 0s 915us/step - loss: 5.0555\n",
            "Epoch 486/500\n",
            "96/96 [==============================] - 0s 950us/step - loss: 5.0520\n",
            "Epoch 487/500\n",
            "96/96 [==============================] - 0s 1ms/step - loss: 5.0507\n",
            "Epoch 488/500\n",
            "96/96 [==============================] - 0s 1ms/step - loss: 5.0477\n",
            "Epoch 489/500\n",
            "96/96 [==============================] - 0s 1ms/step - loss: 5.0454\n",
            "Epoch 490/500\n",
            "96/96 [==============================] - 0s 986us/step - loss: 5.0435\n",
            "Epoch 491/500\n",
            "96/96 [==============================] - 0s 1ms/step - loss: 5.0390\n",
            "Epoch 492/500\n",
            "96/96 [==============================] - 0s 993us/step - loss: 5.0379\n",
            "Epoch 493/500\n",
            "96/96 [==============================] - 0s 987us/step - loss: 5.0352\n",
            "Epoch 494/500\n",
            "96/96 [==============================] - 0s 928us/step - loss: 5.0320\n",
            "Epoch 495/500\n",
            "96/96 [==============================] - 0s 967us/step - loss: 5.0298\n",
            "Epoch 496/500\n",
            "96/96 [==============================] - 0s 1ms/step - loss: 5.0276\n",
            "Epoch 497/500\n",
            "96/96 [==============================] - 0s 1ms/step - loss: 5.0266\n",
            "Epoch 498/500\n",
            "96/96 [==============================] - 0s 969us/step - loss: 5.0269\n",
            "Epoch 499/500\n",
            "96/96 [==============================] - 0s 1ms/step - loss: 5.0212\n",
            "Epoch 500/500\n",
            "96/96 [==============================] - 0s 956us/step - loss: 5.0178\n"
          ],
          "name": "stdout"
        }
      ]
    },
    {
      "cell_type": "code",
      "metadata": {
        "id": "H2kA1KUCWkwC",
        "outputId": "6fe50d65-0c82-4907-8896-cc0396c314cf",
        "colab": {
          "base_uri": "https://localhost:8080/",
          "height": 34
        }
      },
      "source": [
        "X.shape"
      ],
      "execution_count": 362,
      "outputs": [
        {
          "output_type": "execute_result",
          "data": {
            "text/plain": [
              "(3060, 1, 4)"
            ]
          },
          "metadata": {
            "tags": []
          },
          "execution_count": 362
        }
      ]
    },
    {
      "cell_type": "code",
      "metadata": {
        "id": "wvqQw5PYXigz",
        "outputId": "874a1cf6-8d9d-46c9-a587-4941a24b16f6",
        "colab": {
          "base_uri": "https://localhost:8080/",
          "height": 34
        }
      },
      "source": [
        "r1.shape"
      ],
      "execution_count": 366,
      "outputs": [
        {
          "output_type": "execute_result",
          "data": {
            "text/plain": [
              "(3060, 4)"
            ]
          },
          "metadata": {
            "tags": []
          },
          "execution_count": 366
        }
      ]
    },
    {
      "cell_type": "code",
      "metadata": {
        "id": "hNuLOC3OXpGx"
      },
      "source": [
        "re=r1[:2050]"
      ],
      "execution_count": 371,
      "outputs": []
    },
    {
      "cell_type": "code",
      "metadata": {
        "id": "CxGqIte6X7Wc",
        "outputId": "8f0316c6-b67a-407c-eedf-cee928f05a88",
        "colab": {
          "base_uri": "https://localhost:8080/",
          "height": 34
        }
      },
      "source": [
        "re.shape"
      ],
      "execution_count": 373,
      "outputs": [
        {
          "output_type": "execute_result",
          "data": {
            "text/plain": [
              "(2050, 4)"
            ]
          },
          "metadata": {
            "tags": []
          },
          "execution_count": 373
        }
      ]
    },
    {
      "cell_type": "code",
      "metadata": {
        "id": "2yr8dzjRY-ZI"
      },
      "source": [
        "ref=re.reshape(2050,1,4)"
      ],
      "execution_count": 375,
      "outputs": []
    },
    {
      "cell_type": "code",
      "metadata": {
        "id": "zxKebzeqX8V4"
      },
      "source": [
        "sea_without_fish= autoencoder.predict(ref)"
      ],
      "execution_count": 378,
      "outputs": []
    },
    {
      "cell_type": "code",
      "metadata": {
        "id": "strQo2PNY8rx",
        "outputId": "bf78aab4-701f-4733-a804-ddb2aeca0b0e",
        "colab": {
          "base_uri": "https://localhost:8080/",
          "height": 34
        }
      },
      "source": [
        "sea_without_fish.shape"
      ],
      "execution_count": 393,
      "outputs": [
        {
          "output_type": "execute_result",
          "data": {
            "text/plain": [
              "(2050, 1, 4)"
            ]
          },
          "metadata": {
            "tags": []
          },
          "execution_count": 393
        }
      ]
    },
    {
      "cell_type": "code",
      "metadata": {
        "id": "QInrEs6DZtKk"
      },
      "source": [
        "reff=sea_without_fish.reshape((sea_without_fish.shape[0]*sea_without_fish.shape[1]), sea_without_fish.shape[2])"
      ],
      "execution_count": 394,
      "outputs": []
    },
    {
      "cell_type": "code",
      "metadata": {
        "id": "7dVTFTfjZ4nn",
        "outputId": "17253a57-fa2b-4b0f-a29a-43cbd4cb0acb",
        "colab": {
          "base_uri": "https://localhost:8080/",
          "height": 34
        }
      },
      "source": [
        "reff.shape"
      ],
      "execution_count": 395,
      "outputs": [
        {
          "output_type": "execute_result",
          "data": {
            "text/plain": [
              "(2050, 4)"
            ]
          },
          "metadata": {
            "tags": []
          },
          "execution_count": 395
        }
      ]
    },
    {
      "cell_type": "code",
      "metadata": {
        "id": "S9MewLrZaGXJ"
      },
      "source": [
        "reff_1=reff[:,0]\n",
        "reff_2=reff[:,1]\n",
        "reff_3=reff[:,2]\n",
        "reff_4=reff[:,3]"
      ],
      "execution_count": 396,
      "outputs": []
    },
    {
      "cell_type": "code",
      "metadata": {
        "id": "s0ksjJsBaPyU"
      },
      "source": [
        "re1=re[:,0]\n",
        "re2=re[:,1]\n",
        "re3=re[:,2]\n",
        "re4=re[:,3]"
      ],
      "execution_count": 385,
      "outputs": []
    },
    {
      "cell_type": "code",
      "metadata": {
        "id": "ffTFRsSnaaDm",
        "outputId": "a351715e-6c04-4936-bf9a-7730caf65a00",
        "colab": {
          "base_uri": "https://localhost:8080/",
          "height": 34
        }
      },
      "source": [
        "t.shape"
      ],
      "execution_count": 386,
      "outputs": [
        {
          "output_type": "execute_result",
          "data": {
            "text/plain": [
              "(84980,)"
            ]
          },
          "metadata": {
            "tags": []
          },
          "execution_count": 386
        }
      ]
    },
    {
      "cell_type": "code",
      "metadata": {
        "id": "mnt5K_wxabro"
      },
      "source": [
        "t_øøøøø=t[:2050]"
      ],
      "execution_count": 387,
      "outputs": []
    },
    {
      "cell_type": "code",
      "metadata": {
        "id": "koBr1mT9aezU",
        "outputId": "c5b927b5-fd9e-4246-c429-40fdda600dbc",
        "colab": {
          "base_uri": "https://localhost:8080/",
          "height": 295
        }
      },
      "source": [
        "fax = plt.gca()\n",
        "plt.plot(t_øøøøø,re1, color='yellow', label='Orignal DVL1 Data')\n",
        "plt.plot(t_øøøøø,reff_1, color='green', label='prediction')\n",
        "plt.xlabel('Time')\n",
        "plt.ylabel('Distance')\n",
        "plt.title('DVL Beam 1')\n",
        "plt.legend()\n",
        "\n",
        "plt.show()"
      ],
      "execution_count": 397,
      "outputs": [
        {
          "output_type": "display_data",
          "data": {
            "image/png": "[encoded data removed]",
            "text/plain": [
              "<Figure size 432x288 with 1 Axes>"
            ]
          },
          "metadata": {
            "tags": [],
            "needs_background": "light"
          }
        }
      ]
    },
    {
      "cell_type": "code",
      "metadata": {
        "id": "j6ppDJtLasQ-",
        "outputId": "96acb7d6-f711-48a1-b797-266ac80b4204",
        "colab": {
          "base_uri": "https://localhost:8080/",
          "height": 295
        }
      },
      "source": [
        "fax = plt.gca()\n",
        "plt.plot(t_øøøøø,re2, color='yellow', label='Orignal DVL1 Data')\n",
        "plt.plot(t_øøøøø,reff_2, color='green', label='prediction')\n",
        "plt.xlabel('Time')\n",
        "plt.ylabel('Distance')\n",
        "plt.title('DVL Beam 2')\n",
        "plt.legend()\n",
        "\n",
        "plt.show()"
      ],
      "execution_count": 399,
      "outputs": [
        {
          "output_type": "display_data",
          "data": {
            "image/png": "[encoded data removed]",
            "text/plain": [
              "<Figure size 432x288 with 1 Axes>"
            ]
          },
          "metadata": {
            "tags": [],
            "needs_background": "light"
          }
        }
      ]
    },
    {
      "cell_type": "code",
      "metadata": {
        "id": "QOwanqXFjZCf"
      },
      "source": [
        ""
      ],
      "execution_count": null,
      "outputs": []
    },
    {
      "cell_type": "code",
      "metadata": {
        "id": "kJ37qVsta22m",
        "outputId": "44bab001-beec-4306-e577-9f9d70e7c71a",
        "colab": {
          "base_uri": "https://localhost:8080/",
          "height": 1000
        }
      },
      "source": [
        "from keras.callbacks import TensorBoard, EarlyStopping\n",
        "\n",
        "es =EarlyStopping(\n",
        "    monitor=\"val_loss\",\n",
        "    min_delta=0.001,\n",
        "    patience=5,\n",
        "    verbose=0,\n",
        "    mode=\"auto\",\n",
        "    baseline=None,\n",
        "    restore_best_weights=True,\n",
        ")\n",
        "history=autoencoder.fit(x_train, y_train,\n",
        "                epochs=500,\n",
        "                batch_size=32,\n",
        "                verbose=1)\n",
        "\n",
        "# callback = tf.keras.callbacks.EarlyStopping(monitor='loss', patience=3)\n",
        "#Early Stopping.. Can be a wise option to observe\n",
        "#tf.keras.callbacks.EarlyStopping(\n",
        "   # monitor='val_loss', min_delta=0, patience=0, verbose=0, mode='auto',\n",
        "  #  baseline=None, restore_best_weights=False\n",
        "#)"
      ],
      "execution_count": 402,
      "outputs": [
        {
          "output_type": "stream",
          "text": [
            "Epoch 1/500\n",
            "2031/2031 [==============================] - 2s 1ms/step - loss: 2.1442\n",
            "Epoch 2/500\n",
            "2031/2031 [==============================] - 2s 1ms/step - loss: 0.1881\n",
            "Epoch 3/500\n",
            "2031/2031 [==============================] - 2s 1ms/step - loss: 0.1109\n",
            "Epoch 4/500\n",
            "2031/2031 [==============================] - 2s 1ms/step - loss: 0.0644\n",
            "Epoch 5/500\n",
            "2031/2031 [==============================] - 2s 1ms/step - loss: 0.0474\n",
            "Epoch 6/500\n",
            "2031/2031 [==============================] - 2s 1ms/step - loss: 0.0415\n",
            "Epoch 7/500\n",
            "2031/2031 [==============================] - 2s 1ms/step - loss: 0.0373\n",
            "Epoch 8/500\n",
            "2031/2031 [==============================] - 2s 1ms/step - loss: 0.0338\n",
            "Epoch 9/500\n",
            "2031/2031 [==============================] - 2s 1ms/step - loss: 0.0306\n",
            "Epoch 10/500\n",
            "2031/2031 [==============================] - 2s 1ms/step - loss: 0.0275\n",
            "Epoch 11/500\n",
            "2031/2031 [==============================] - 2s 1ms/step - loss: 0.0249\n",
            "Epoch 12/500\n",
            "2031/2031 [==============================] - 2s 1ms/step - loss: 0.0228\n",
            "Epoch 13/500\n",
            "2031/2031 [==============================] - 2s 1ms/step - loss: 0.0213\n",
            "Epoch 14/500\n",
            "2031/2031 [==============================] - 2s 1ms/step - loss: 0.0201\n",
            "Epoch 15/500\n",
            "2031/2031 [==============================] - 2s 1ms/step - loss: 0.0193\n",
            "Epoch 16/500\n",
            "2031/2031 [==============================] - 2s 1ms/step - loss: 0.0187\n",
            "Epoch 17/500\n",
            "2031/2031 [==============================] - 2s 1ms/step - loss: 0.0181\n",
            "Epoch 18/500\n",
            "2031/2031 [==============================] - 2s 1ms/step - loss: 0.0177\n",
            "Epoch 19/500\n",
            "2031/2031 [==============================] - 2s 1ms/step - loss: 0.0174\n",
            "Epoch 20/500\n",
            "2031/2031 [==============================] - 2s 1ms/step - loss: 0.0171\n",
            "Epoch 21/500\n",
            "2031/2031 [==============================] - 2s 1ms/step - loss: 0.0168\n",
            "Epoch 22/500\n",
            "2031/2031 [==============================] - 2s 1ms/step - loss: 0.0165\n",
            "Epoch 23/500\n",
            "2031/2031 [==============================] - 2s 1ms/step - loss: 0.0163\n",
            "Epoch 24/500\n",
            "2031/2031 [==============================] - 2s 1ms/step - loss: 0.0161\n",
            "Epoch 25/500\n",
            "2031/2031 [==============================] - 2s 1ms/step - loss: 0.0160\n",
            "Epoch 26/500\n",
            "2031/2031 [==============================] - 2s 1ms/step - loss: 0.0158\n",
            "Epoch 27/500\n",
            "2031/2031 [==============================] - 2s 1ms/step - loss: 0.0156\n",
            "Epoch 28/500\n",
            "2031/2031 [==============================] - 2s 1ms/step - loss: 0.0155\n",
            "Epoch 29/500\n",
            "2031/2031 [==============================] - 2s 1ms/step - loss: 0.0154\n",
            "Epoch 30/500\n",
            "2031/2031 [==============================] - 2s 1ms/step - loss: 0.0152\n",
            "Epoch 31/500\n",
            "2031/2031 [==============================] - 2s 1ms/step - loss: 0.0151\n",
            "Epoch 32/500\n",
            "2031/2031 [==============================] - 2s 1ms/step - loss: 0.0150\n",
            "Epoch 33/500\n",
            "2031/2031 [==============================] - 2s 1ms/step - loss: 0.0149\n",
            "Epoch 34/500\n",
            "2031/2031 [==============================] - 2s 1ms/step - loss: 0.0148\n",
            "Epoch 35/500\n",
            "2031/2031 [==============================] - 2s 1ms/step - loss: 0.0147\n",
            "Epoch 36/500\n",
            "2031/2031 [==============================] - 2s 1ms/step - loss: 0.0145\n",
            "Epoch 37/500\n",
            "2031/2031 [==============================] - 2s 1ms/step - loss: 0.0145\n",
            "Epoch 38/500\n",
            "2031/2031 [==============================] - 2s 1ms/step - loss: 0.0144\n",
            "Epoch 39/500\n",
            "2031/2031 [==============================] - 2s 1ms/step - loss: 0.0142\n",
            "Epoch 40/500\n",
            "2031/2031 [==============================] - 2s 1ms/step - loss: 0.0142\n",
            "Epoch 41/500\n",
            "2031/2031 [==============================] - 2s 1ms/step - loss: 0.0140\n",
            "Epoch 42/500\n",
            "2031/2031 [==============================] - 2s 1ms/step - loss: 0.0139\n",
            "Epoch 43/500\n",
            "2031/2031 [==============================] - 2s 1ms/step - loss: 0.0139\n",
            "Epoch 44/500\n",
            "2031/2031 [==============================] - 2s 1ms/step - loss: 0.0138\n",
            "Epoch 45/500\n",
            "2031/2031 [==============================] - 2s 1ms/step - loss: 0.0137\n",
            "Epoch 46/500\n",
            "2031/2031 [==============================] - 2s 1ms/step - loss: 0.0136\n",
            "Epoch 47/500\n",
            "2031/2031 [==============================] - 2s 1ms/step - loss: 0.0135\n",
            "Epoch 48/500\n",
            "2031/2031 [==============================] - 2s 1ms/step - loss: 0.0135\n",
            "Epoch 49/500\n",
            "2031/2031 [==============================] - 2s 1ms/step - loss: 0.0134\n",
            "Epoch 50/500\n",
            "2031/2031 [==============================] - 3s 1ms/step - loss: 0.0133\n",
            "Epoch 51/500\n",
            "2031/2031 [==============================] - 3s 1ms/step - loss: 0.0132\n",
            "Epoch 52/500\n",
            "2031/2031 [==============================] - 3s 1ms/step - loss: 0.0129\n",
            "Epoch 53/500\n",
            "2031/2031 [==============================] - 2s 1ms/step - loss: 0.0128\n",
            "Epoch 54/500\n",
            "2031/2031 [==============================] - 2s 1ms/step - loss: 0.0126\n",
            "Epoch 55/500\n",
            "2031/2031 [==============================] - 2s 1ms/step - loss: 0.0124\n",
            "Epoch 56/500\n",
            "2031/2031 [==============================] - 3s 1ms/step - loss: 0.0123\n",
            "Epoch 57/500\n",
            "2031/2031 [==============================] - 3s 1ms/step - loss: 0.0122\n",
            "Epoch 58/500\n",
            "2031/2031 [==============================] - 2s 1ms/step - loss: 0.0121\n",
            "Epoch 59/500\n",
            "2031/2031 [==============================] - 2s 1ms/step - loss: 0.0119\n",
            "Epoch 60/500\n",
            "2031/2031 [==============================] - 2s 1ms/step - loss: 0.0119\n",
            "Epoch 61/500\n",
            "2031/2031 [==============================] - 2s 1ms/step - loss: 0.0118\n",
            "Epoch 62/500\n",
            "2031/2031 [==============================] - 2s 1ms/step - loss: 0.0117\n",
            "Epoch 63/500\n",
            "2031/2031 [==============================] - 2s 1ms/step - loss: 0.0116\n",
            "Epoch 64/500\n",
            "2031/2031 [==============================] - 2s 1ms/step - loss: 0.0116\n",
            "Epoch 65/500\n",
            "2031/2031 [==============================] - 2s 1ms/step - loss: 0.0115\n",
            "Epoch 66/500\n",
            "2031/2031 [==============================] - 2s 1ms/step - loss: 0.0115\n",
            "Epoch 67/500\n",
            "2031/2031 [==============================] - 2s 1ms/step - loss: 0.0114\n",
            "Epoch 68/500\n",
            "2031/2031 [==============================] - 2s 1ms/step - loss: 0.0114\n",
            "Epoch 69/500\n",
            "2031/2031 [==============================] - 2s 1ms/step - loss: 0.0113\n",
            "Epoch 70/500\n",
            "2031/2031 [==============================] - 2s 1ms/step - loss: 0.0113\n",
            "Epoch 71/500\n",
            "2031/2031 [==============================] - 2s 1ms/step - loss: 0.0113\n",
            "Epoch 72/500\n",
            "2031/2031 [==============================] - 2s 1ms/step - loss: 0.0112\n",
            "Epoch 73/500\n",
            "2031/2031 [==============================] - 2s 1ms/step - loss: 0.0112\n",
            "Epoch 74/500\n",
            "2031/2031 [==============================] - 2s 1ms/step - loss: 0.0111\n",
            "Epoch 75/500\n",
            "2031/2031 [==============================] - 2s 1ms/step - loss: 0.0111\n",
            "Epoch 76/500\n",
            "2031/2031 [==============================] - 2s 1ms/step - loss: 0.0111\n",
            "Epoch 77/500\n",
            "2031/2031 [==============================] - 2s 1ms/step - loss: 0.0111\n",
            "Epoch 78/500\n",
            "2031/2031 [==============================] - 2s 1ms/step - loss: 0.0110\n",
            "Epoch 79/500\n",
            "2031/2031 [==============================] - 2s 1ms/step - loss: 0.0110\n",
            "Epoch 80/500\n",
            "2031/2031 [==============================] - 2s 1ms/step - loss: 0.0110\n",
            "Epoch 81/500\n",
            "2031/2031 [==============================] - 2s 1ms/step - loss: 0.0110\n",
            "Epoch 82/500\n",
            "2031/2031 [==============================] - 2s 1ms/step - loss: 0.0109\n",
            "Epoch 83/500\n",
            "2031/2031 [==============================] - 2s 1ms/step - loss: 0.0109\n",
            "Epoch 84/500\n",
            "2031/2031 [==============================] - 2s 1ms/step - loss: 0.0109\n",
            "Epoch 85/500\n",
            "2031/2031 [==============================] - 2s 1ms/step - loss: 0.0108\n",
            "Epoch 86/500\n",
            "2031/2031 [==============================] - 2s 1ms/step - loss: 0.0107\n",
            "Epoch 87/500\n",
            "2031/2031 [==============================] - 2s 1ms/step - loss: 0.0107\n",
            "Epoch 88/500\n",
            "2031/2031 [==============================] - 2s 1ms/step - loss: 0.0106\n",
            "Epoch 89/500\n",
            "2031/2031 [==============================] - 2s 1ms/step - loss: 0.0106\n",
            "Epoch 90/500\n",
            "2031/2031 [==============================] - 2s 1ms/step - loss: 0.0106\n",
            "Epoch 91/500\n",
            "2031/2031 [==============================] - 2s 1ms/step - loss: 0.0105\n",
            "Epoch 92/500\n",
            "2031/2031 [==============================] - 2s 1ms/step - loss: 0.0105\n",
            "Epoch 93/500\n",
            "2031/2031 [==============================] - 2s 1ms/step - loss: 0.0104\n",
            "Epoch 94/500\n",
            "2031/2031 [==============================] - 2s 1ms/step - loss: 0.0104\n",
            "Epoch 95/500\n",
            "2031/2031 [==============================] - 2s 1ms/step - loss: 0.0103\n",
            "Epoch 96/500\n",
            "2031/2031 [==============================] - 2s 1ms/step - loss: 0.0103\n",
            "Epoch 97/500\n",
            "2031/2031 [==============================] - 2s 1ms/step - loss: 0.0102\n",
            "Epoch 98/500\n",
            "2031/2031 [==============================] - 2s 1ms/step - loss: 0.0102\n",
            "Epoch 99/500\n",
            "2031/2031 [==============================] - 2s 1ms/step - loss: 0.0101\n",
            "Epoch 100/500\n",
            "2031/2031 [==============================] - 2s 1ms/step - loss: 0.0101\n",
            "Epoch 101/500\n",
            "2031/2031 [==============================] - 2s 1ms/step - loss: 0.0100\n",
            "Epoch 102/500\n",
            "2031/2031 [==============================] - 2s 1ms/step - loss: 0.0100\n",
            "Epoch 103/500\n",
            "2031/2031 [==============================] - 2s 1ms/step - loss: 0.0100\n",
            "Epoch 104/500\n",
            "2031/2031 [==============================] - 2s 1ms/step - loss: 0.0099\n",
            "Epoch 105/500\n",
            "2031/2031 [==============================] - 2s 1ms/step - loss: 0.0099\n",
            "Epoch 106/500\n",
            "2031/2031 [==============================] - 2s 1ms/step - loss: 0.0098\n",
            "Epoch 107/500\n",
            "2031/2031 [==============================] - 2s 1ms/step - loss: 0.0098\n",
            "Epoch 108/500\n",
            "2031/2031 [==============================] - 2s 1ms/step - loss: 0.0097\n",
            "Epoch 109/500\n",
            "2031/2031 [==============================] - 2s 1ms/step - loss: 0.0097\n",
            "Epoch 110/500\n",
            "2031/2031 [==============================] - 2s 1ms/step - loss: 0.0096\n",
            "Epoch 111/500\n",
            "2031/2031 [==============================] - 2s 1ms/step - loss: 0.0096\n",
            "Epoch 112/500\n",
            "2031/2031 [==============================] - 2s 1ms/step - loss: 0.0095\n",
            "Epoch 113/500\n",
            "2031/2031 [==============================] - 2s 1ms/step - loss: 0.0095\n",
            "Epoch 114/500\n",
            "2031/2031 [==============================] - 2s 1ms/step - loss: 0.0094\n",
            "Epoch 115/500\n",
            "2031/2031 [==============================] - 2s 1ms/step - loss: 0.0094\n",
            "Epoch 116/500\n",
            "2031/2031 [==============================] - 2s 1ms/step - loss: 0.0094\n",
            "Epoch 117/500\n",
            "2031/2031 [==============================] - 2s 1ms/step - loss: 0.0093\n",
            "Epoch 118/500\n",
            "2031/2031 [==============================] - 2s 1ms/step - loss: 0.0093\n",
            "Epoch 119/500\n",
            "2031/2031 [==============================] - 2s 1ms/step - loss: 0.0092\n",
            "Epoch 120/500\n",
            "2031/2031 [==============================] - 2s 1ms/step - loss: 0.0092\n",
            "Epoch 121/500\n",
            "2031/2031 [==============================] - 2s 1ms/step - loss: 0.0092\n",
            "Epoch 122/500\n",
            "2031/2031 [==============================] - 2s 1ms/step - loss: 0.0092\n",
            "Epoch 123/500\n",
            "2031/2031 [==============================] - 3s 1ms/step - loss: 0.0091\n",
            "Epoch 124/500\n",
            "2031/2031 [==============================] - 2s 1ms/step - loss: 0.0091\n",
            "Epoch 125/500\n",
            "2031/2031 [==============================] - 2s 1ms/step - loss: 0.0090\n",
            "Epoch 126/500\n",
            "2031/2031 [==============================] - 2s 1ms/step - loss: 0.0090\n",
            "Epoch 127/500\n",
            "2031/2031 [==============================] - 2s 1ms/step - loss: 0.0090\n",
            "Epoch 128/500\n",
            "2031/2031 [==============================] - 2s 1ms/step - loss: 0.0089\n",
            "Epoch 129/500\n",
            "2031/2031 [==============================] - 2s 1ms/step - loss: 0.0089\n",
            "Epoch 130/500\n",
            "2031/2031 [==============================] - 2s 1ms/step - loss: 0.0088\n",
            "Epoch 131/500\n",
            "2031/2031 [==============================] - 2s 1ms/step - loss: 0.0088\n",
            "Epoch 132/500\n",
            "2031/2031 [==============================] - 2s 1ms/step - loss: 0.0088\n",
            "Epoch 133/500\n",
            "2031/2031 [==============================] - 2s 1ms/step - loss: 0.0087\n",
            "Epoch 134/500\n",
            "2031/2031 [==============================] - 2s 1ms/step - loss: 0.0086\n",
            "Epoch 135/500\n",
            "2031/2031 [==============================] - 2s 1ms/step - loss: 0.0084\n",
            "Epoch 136/500\n",
            "2031/2031 [==============================] - 2s 1ms/step - loss: 0.0083\n",
            "Epoch 137/500\n",
            "2031/2031 [==============================] - 2s 1ms/step - loss: 0.0082\n",
            "Epoch 138/500\n",
            "2031/2031 [==============================] - 2s 1ms/step - loss: 0.0081\n",
            "Epoch 139/500\n",
            "2031/2031 [==============================] - 2s 1ms/step - loss: 0.0080\n",
            "Epoch 140/500\n",
            "2031/2031 [==============================] - 2s 1ms/step - loss: 0.0079\n",
            "Epoch 141/500\n",
            "2031/2031 [==============================] - 2s 1ms/step - loss: 0.0078\n",
            "Epoch 142/500\n",
            "2031/2031 [==============================] - 2s 1ms/step - loss: 0.0077\n",
            "Epoch 143/500\n",
            "2031/2031 [==============================] - 2s 1ms/step - loss: 0.0076\n",
            "Epoch 144/500\n",
            "2031/2031 [==============================] - 2s 1ms/step - loss: 0.0075\n",
            "Epoch 145/500\n",
            "2031/2031 [==============================] - 2s 1ms/step - loss: 0.0075\n",
            "Epoch 146/500\n",
            "2031/2031 [==============================] - 2s 1ms/step - loss: 0.0074\n",
            "Epoch 147/500\n",
            "2031/2031 [==============================] - 2s 1ms/step - loss: 0.0073\n",
            "Epoch 148/500\n",
            "2031/2031 [==============================] - 2s 1ms/step - loss: 0.0072\n",
            "Epoch 149/500\n",
            "2031/2031 [==============================] - 2s 1ms/step - loss: 0.0071\n",
            "Epoch 150/500\n",
            "2031/2031 [==============================] - 2s 1ms/step - loss: 0.0071\n",
            "Epoch 151/500\n",
            "2031/2031 [==============================] - 2s 1ms/step - loss: 0.0070\n",
            "Epoch 152/500\n",
            "2031/2031 [==============================] - 2s 1ms/step - loss: 0.0069\n",
            "Epoch 153/500\n",
            "2031/2031 [==============================] - 2s 1ms/step - loss: 0.0068\n",
            "Epoch 154/500\n",
            "2031/2031 [==============================] - 2s 1ms/step - loss: 0.0067\n",
            "Epoch 155/500\n",
            "2031/2031 [==============================] - 2s 1ms/step - loss: 0.0067\n",
            "Epoch 156/500\n",
            "2031/2031 [==============================] - 2s 1ms/step - loss: 0.0065\n",
            "Epoch 157/500\n",
            "2031/2031 [==============================] - 2s 1ms/step - loss: 0.0065\n",
            "Epoch 158/500\n",
            "2031/2031 [==============================] - 2s 1ms/step - loss: 0.0064\n",
            "Epoch 159/500\n",
            "2031/2031 [==============================] - 2s 1ms/step - loss: 0.0063\n",
            "Epoch 160/500\n",
            "2031/2031 [==============================] - 2s 1ms/step - loss: 0.0062\n",
            "Epoch 161/500\n",
            "2031/2031 [==============================] - 2s 1ms/step - loss: 0.0062\n",
            "Epoch 162/500\n",
            "2031/2031 [==============================] - 2s 1ms/step - loss: 0.0061\n",
            "Epoch 163/500\n",
            "2031/2031 [==============================] - 2s 1ms/step - loss: 0.0060\n",
            "Epoch 164/500\n",
            "2031/2031 [==============================] - 2s 1ms/step - loss: 0.0059\n",
            "Epoch 165/500\n",
            "2031/2031 [==============================] - 2s 1ms/step - loss: 0.0059\n",
            "Epoch 166/500\n",
            "2031/2031 [==============================] - 2s 1ms/step - loss: 0.0058\n",
            "Epoch 167/500\n",
            "2031/2031 [==============================] - 2s 1ms/step - loss: 0.0058\n",
            "Epoch 168/500\n",
            "2031/2031 [==============================] - 2s 1ms/step - loss: 0.0057\n",
            "Epoch 169/500\n",
            "2031/2031 [==============================] - 2s 1ms/step - loss: 0.0057\n",
            "Epoch 170/500\n",
            "2031/2031 [==============================] - 2s 1ms/step - loss: 0.0056\n",
            "Epoch 171/500\n",
            "2031/2031 [==============================] - 2s 1ms/step - loss: 0.0056\n",
            "Epoch 172/500\n",
            "2031/2031 [==============================] - 2s 1ms/step - loss: 0.0055\n",
            "Epoch 173/500\n",
            "2031/2031 [==============================] - 2s 1ms/step - loss: 0.0055\n",
            "Epoch 174/500\n",
            "2031/2031 [==============================] - 2s 1ms/step - loss: 0.0054\n",
            "Epoch 175/500\n",
            "2031/2031 [==============================] - 2s 1ms/step - loss: 0.0054\n",
            "Epoch 176/500\n",
            "2031/2031 [==============================] - 2s 1ms/step - loss: 0.0054\n",
            "Epoch 177/500\n",
            "2031/2031 [==============================] - 2s 1ms/step - loss: 0.0053\n",
            "Epoch 178/500\n",
            "2031/2031 [==============================] - 2s 1ms/step - loss: 0.0053\n",
            "Epoch 179/500\n",
            "2031/2031 [==============================] - 2s 1ms/step - loss: 0.0052\n",
            "Epoch 180/500\n",
            "2031/2031 [==============================] - 2s 1ms/step - loss: 0.0052\n",
            "Epoch 181/500\n",
            "2031/2031 [==============================] - 2s 1ms/step - loss: 0.0052\n",
            "Epoch 182/500\n",
            "2031/2031 [==============================] - 2s 1ms/step - loss: 0.0052\n",
            "Epoch 183/500\n",
            "2031/2031 [==============================] - 2s 1ms/step - loss: 0.0051\n",
            "Epoch 184/500\n",
            "2031/2031 [==============================] - 2s 1ms/step - loss: 0.0051\n",
            "Epoch 185/500\n",
            "2031/2031 [==============================] - 2s 1ms/step - loss: 0.0051\n",
            "Epoch 186/500\n",
            "2031/2031 [==============================] - 2s 1ms/step - loss: 0.0050\n",
            "Epoch 187/500\n",
            "2031/2031 [==============================] - 2s 1ms/step - loss: 0.0050\n",
            "Epoch 188/500\n",
            "2031/2031 [==============================] - 2s 1ms/step - loss: 0.0050\n",
            "Epoch 189/500\n",
            "2031/2031 [==============================] - 2s 1ms/step - loss: 0.0050\n",
            "Epoch 190/500\n",
            "2031/2031 [==============================] - 2s 1ms/step - loss: 0.0050\n",
            "Epoch 191/500\n",
            "2031/2031 [==============================] - 2s 1ms/step - loss: 0.0049\n",
            "Epoch 192/500\n",
            "2031/2031 [==============================] - 2s 1ms/step - loss: 0.0049\n",
            "Epoch 193/500\n",
            "2031/2031 [==============================] - 2s 1ms/step - loss: 0.0049\n",
            "Epoch 194/500\n",
            "2031/2031 [==============================] - 2s 1ms/step - loss: 0.0049\n",
            "Epoch 195/500\n",
            "2031/2031 [==============================] - 3s 1ms/step - loss: 0.0049\n",
            "Epoch 196/500\n",
            "2031/2031 [==============================] - 3s 1ms/step - loss: 0.0049\n",
            "Epoch 197/500\n",
            "2031/2031 [==============================] - 3s 1ms/step - loss: 0.0048\n",
            "Epoch 198/500\n",
            "2031/2031 [==============================] - 3s 1ms/step - loss: 0.0048\n",
            "Epoch 199/500\n",
            "2031/2031 [==============================] - 2s 1ms/step - loss: 0.0048\n",
            "Epoch 200/500\n",
            "2031/2031 [==============================] - 2s 1ms/step - loss: 0.0048\n",
            "Epoch 201/500\n",
            "2031/2031 [==============================] - 2s 1ms/step - loss: 0.0048\n",
            "Epoch 202/500\n",
            "2031/2031 [==============================] - 2s 1ms/step - loss: 0.0048\n",
            "Epoch 203/500\n",
            "2031/2031 [==============================] - 2s 1ms/step - loss: 0.0048\n",
            "Epoch 204/500\n",
            "2031/2031 [==============================] - 2s 1ms/step - loss: 0.0048\n",
            "Epoch 205/500\n",
            "2031/2031 [==============================] - 2s 1ms/step - loss: 0.0047\n",
            "Epoch 206/500\n",
            "2031/2031 [==============================] - 2s 1ms/step - loss: 0.0047\n",
            "Epoch 207/500\n",
            "2031/2031 [==============================] - 2s 1ms/step - loss: 0.0047\n",
            "Epoch 208/500\n",
            "2031/2031 [==============================] - 2s 1ms/step - loss: 0.0047\n",
            "Epoch 209/500\n",
            "2031/2031 [==============================] - 2s 1ms/step - loss: 0.0047\n",
            "Epoch 210/500\n",
            "2031/2031 [==============================] - 2s 1ms/step - loss: 0.0047\n",
            "Epoch 211/500\n",
            "2031/2031 [==============================] - 2s 1ms/step - loss: 0.0047\n",
            "Epoch 212/500\n",
            "2031/2031 [==============================] - 2s 1ms/step - loss: 0.0047\n",
            "Epoch 213/500\n",
            "2031/2031 [==============================] - 2s 1ms/step - loss: 0.0047\n",
            "Epoch 214/500\n",
            "2031/2031 [==============================] - 2s 1ms/step - loss: 0.0047\n",
            "Epoch 215/500\n",
            "2031/2031 [==============================] - 2s 1ms/step - loss: 0.0046\n",
            "Epoch 216/500\n",
            "2031/2031 [==============================] - 2s 1ms/step - loss: 0.0046\n",
            "Epoch 217/500\n",
            "2031/2031 [==============================] - 2s 1ms/step - loss: 0.0046\n",
            "Epoch 218/500\n",
            "2031/2031 [==============================] - 2s 1ms/step - loss: 0.0046\n",
            "Epoch 219/500\n",
            "2031/2031 [==============================] - 2s 1ms/step - loss: 0.0046\n",
            "Epoch 220/500\n",
            "2031/2031 [==============================] - 2s 1ms/step - loss: 0.0046\n",
            "Epoch 221/500\n",
            "2031/2031 [==============================] - 2s 1ms/step - loss: 0.0046\n",
            "Epoch 222/500\n",
            "2031/2031 [==============================] - 2s 1ms/step - loss: 0.0046\n",
            "Epoch 223/500\n",
            "2031/2031 [==============================] - 2s 1ms/step - loss: 0.0046\n",
            "Epoch 224/500\n",
            "2031/2031 [==============================] - 2s 1ms/step - loss: 0.0046\n",
            "Epoch 225/500\n",
            "2031/2031 [==============================] - 2s 1ms/step - loss: 0.0046\n",
            "Epoch 226/500\n",
            "2031/2031 [==============================] - 2s 1ms/step - loss: 0.0046\n",
            "Epoch 227/500\n",
            "2031/2031 [==============================] - 2s 1ms/step - loss: 0.0045\n",
            "Epoch 228/500\n",
            "2031/2031 [==============================] - 2s 1ms/step - loss: 0.0045\n",
            "Epoch 229/500\n",
            "2031/2031 [==============================] - 2s 1ms/step - loss: 0.0045\n",
            "Epoch 230/500\n",
            "2031/2031 [==============================] - 2s 1ms/step - loss: 0.0045\n",
            "Epoch 231/500\n",
            "2031/2031 [==============================] - 2s 1ms/step - loss: 0.0045\n",
            "Epoch 232/500\n",
            "2031/2031 [==============================] - 2s 1ms/step - loss: 0.0045\n",
            "Epoch 233/500\n",
            "2031/2031 [==============================] - 2s 1ms/step - loss: 0.0045\n",
            "Epoch 234/500\n",
            "2031/2031 [==============================] - 2s 1ms/step - loss: 0.0045\n",
            "Epoch 235/500\n",
            "2031/2031 [==============================] - 2s 1ms/step - loss: 0.0045\n",
            "Epoch 236/500\n",
            "2031/2031 [==============================] - 2s 1ms/step - loss: 0.0045\n",
            "Epoch 237/500\n",
            "2031/2031 [==============================] - 2s 1ms/step - loss: 0.0045\n",
            "Epoch 238/500\n",
            "2031/2031 [==============================] - 2s 1ms/step - loss: 0.0045\n",
            "Epoch 239/500\n",
            "2031/2031 [==============================] - 2s 1ms/step - loss: 0.0045\n",
            "Epoch 240/500\n",
            "2031/2031 [==============================] - 2s 1ms/step - loss: 0.0045\n",
            "Epoch 241/500\n",
            "2031/2031 [==============================] - 2s 1ms/step - loss: 0.0045\n",
            "Epoch 242/500\n",
            "2031/2031 [==============================] - 2s 1ms/step - loss: 0.0045\n",
            "Epoch 243/500\n",
            "2031/2031 [==============================] - 2s 1ms/step - loss: 0.0045\n",
            "Epoch 244/500\n",
            "2031/2031 [==============================] - 2s 1ms/step - loss: 0.0045\n",
            "Epoch 245/500\n",
            "2031/2031 [==============================] - 2s 1ms/step - loss: 0.0045\n",
            "Epoch 246/500\n",
            "2031/2031 [==============================] - 2s 1ms/step - loss: 0.0044\n",
            "Epoch 247/500\n",
            "2031/2031 [==============================] - 2s 1ms/step - loss: 0.0044\n",
            "Epoch 248/500\n",
            "2031/2031 [==============================] - 2s 1ms/step - loss: 0.0045\n",
            "Epoch 249/500\n",
            "2031/2031 [==============================] - 2s 1ms/step - loss: 0.0044\n",
            "Epoch 250/500\n",
            "2031/2031 [==============================] - 2s 1ms/step - loss: 0.0044\n",
            "Epoch 251/500\n",
            "2031/2031 [==============================] - 2s 1ms/step - loss: 0.0044\n",
            "Epoch 252/500\n",
            "2031/2031 [==============================] - 2s 1ms/step - loss: 0.0044\n",
            "Epoch 253/500\n",
            "2031/2031 [==============================] - 2s 1ms/step - loss: 0.0044\n",
            "Epoch 254/500\n",
            "2031/2031 [==============================] - 2s 1ms/step - loss: 0.0044\n",
            "Epoch 255/500\n",
            "2031/2031 [==============================] - 2s 1ms/step - loss: 0.0044\n",
            "Epoch 256/500\n",
            "2031/2031 [==============================] - 2s 1ms/step - loss: 0.0044\n",
            "Epoch 257/500\n",
            "2031/2031 [==============================] - 2s 1ms/step - loss: 0.0044\n",
            "Epoch 258/500\n",
            "2031/2031 [==============================] - 2s 1ms/step - loss: 0.0044\n",
            "Epoch 259/500\n",
            "2031/2031 [==============================] - 2s 1ms/step - loss: 0.0044\n",
            "Epoch 260/500\n",
            "2031/2031 [==============================] - 2s 1ms/step - loss: 0.0044\n",
            "Epoch 261/500\n",
            "2031/2031 [==============================] - 2s 1ms/step - loss: 0.0044\n",
            "Epoch 262/500\n",
            "2031/2031 [==============================] - 3s 1ms/step - loss: 0.0044\n",
            "Epoch 263/500\n",
            "2031/2031 [==============================] - 3s 1ms/step - loss: 0.0044\n",
            "Epoch 264/500\n",
            "2031/2031 [==============================] - 2s 1ms/step - loss: 0.0044\n",
            "Epoch 265/500\n",
            "2031/2031 [==============================] - 2s 1ms/step - loss: 0.0044\n",
            "Epoch 266/500\n",
            "2031/2031 [==============================] - 2s 1ms/step - loss: 0.0044\n",
            "Epoch 267/500\n",
            "2031/2031 [==============================] - 2s 1ms/step - loss: 0.0044\n",
            "Epoch 268/500\n",
            "2031/2031 [==============================] - 2s 1ms/step - loss: 0.0044\n",
            "Epoch 269/500\n",
            "2031/2031 [==============================] - 2s 1ms/step - loss: 0.0044\n",
            "Epoch 270/500\n",
            "2031/2031 [==============================] - 2s 1ms/step - loss: 0.0044\n",
            "Epoch 271/500\n",
            "2031/2031 [==============================] - 2s 1ms/step - loss: 0.0044\n",
            "Epoch 272/500\n",
            "2031/2031 [==============================] - 2s 1ms/step - loss: 0.0044\n",
            "Epoch 273/500\n",
            "2031/2031 [==============================] - 2s 1ms/step - loss: 0.0044\n",
            "Epoch 274/500\n",
            "2031/2031 [==============================] - 2s 1ms/step - loss: 0.0044\n",
            "Epoch 275/500\n",
            "2031/2031 [==============================] - 2s 1ms/step - loss: 0.0044\n",
            "Epoch 276/500\n",
            "2031/2031 [==============================] - 2s 1ms/step - loss: 0.0043\n",
            "Epoch 277/500\n",
            "2031/2031 [==============================] - 2s 1ms/step - loss: 0.0043\n",
            "Epoch 278/500\n",
            "2031/2031 [==============================] - 2s 1ms/step - loss: 0.0043\n",
            "Epoch 279/500\n",
            "2031/2031 [==============================] - 2s 1ms/step - loss: 0.0043\n",
            "Epoch 280/500\n",
            "2031/2031 [==============================] - 2s 1ms/step - loss: 0.0044\n",
            "Epoch 281/500\n",
            "2031/2031 [==============================] - 2s 1ms/step - loss: 0.0043\n",
            "Epoch 282/500\n",
            "2031/2031 [==============================] - 2s 1ms/step - loss: 0.0043\n",
            "Epoch 283/500\n",
            "2031/2031 [==============================] - 2s 1ms/step - loss: 0.0043\n",
            "Epoch 284/500\n",
            "2031/2031 [==============================] - 2s 1ms/step - loss: 0.0043\n",
            "Epoch 285/500\n",
            "2031/2031 [==============================] - 2s 1ms/step - loss: 0.0043\n",
            "Epoch 286/500\n",
            "2031/2031 [==============================] - 2s 1ms/step - loss: 0.0043\n",
            "Epoch 287/500\n",
            "2031/2031 [==============================] - 2s 1ms/step - loss: 0.0043\n",
            "Epoch 288/500\n",
            "2031/2031 [==============================] - 2s 1ms/step - loss: 0.0043\n",
            "Epoch 289/500\n",
            "2031/2031 [==============================] - 2s 1ms/step - loss: 0.0043\n",
            "Epoch 290/500\n",
            "2031/2031 [==============================] - 2s 1ms/step - loss: 0.0043\n",
            "Epoch 291/500\n",
            "2031/2031 [==============================] - 2s 1ms/step - loss: 0.0043\n",
            "Epoch 292/500\n",
            "2031/2031 [==============================] - 2s 1ms/step - loss: 0.0043\n",
            "Epoch 293/500\n",
            "2031/2031 [==============================] - 2s 1ms/step - loss: 0.0043\n",
            "Epoch 294/500\n",
            "2031/2031 [==============================] - 2s 1ms/step - loss: 0.0043\n",
            "Epoch 295/500\n",
            "2031/2031 [==============================] - 2s 1ms/step - loss: 0.0043\n",
            "Epoch 296/500\n",
            "2031/2031 [==============================] - 2s 1ms/step - loss: 0.0043\n",
            "Epoch 297/500\n",
            "2031/2031 [==============================] - 2s 1ms/step - loss: 0.0043\n",
            "Epoch 298/500\n",
            "2031/2031 [==============================] - 2s 1ms/step - loss: 0.0043\n",
            "Epoch 299/500\n",
            "2031/2031 [==============================] - 2s 1ms/step - loss: 0.0043\n",
            "Epoch 300/500\n",
            "2031/2031 [==============================] - 2s 1ms/step - loss: 0.0043\n",
            "Epoch 301/500\n",
            "2031/2031 [==============================] - 2s 1ms/step - loss: 0.0043\n",
            "Epoch 302/500\n",
            "2031/2031 [==============================] - 2s 1ms/step - loss: 0.0043\n",
            "Epoch 303/500\n",
            "2031/2031 [==============================] - 2s 1ms/step - loss: 0.0043\n",
            "Epoch 304/500\n",
            "2031/2031 [==============================] - 2s 1ms/step - loss: 0.0043\n",
            "Epoch 305/500\n",
            "2031/2031 [==============================] - 2s 1ms/step - loss: 0.0043\n",
            "Epoch 306/500\n",
            "2031/2031 [==============================] - 2s 1ms/step - loss: 0.0043\n",
            "Epoch 307/500\n",
            "2031/2031 [==============================] - 2s 1ms/step - loss: 0.0043\n",
            "Epoch 308/500\n",
            "2031/2031 [==============================] - 2s 1ms/step - loss: 0.0043\n",
            "Epoch 309/500\n",
            "2031/2031 [==============================] - 2s 1ms/step - loss: 0.0043\n",
            "Epoch 310/500\n",
            "2031/2031 [==============================] - 2s 1ms/step - loss: 0.0043\n",
            "Epoch 311/500\n",
            "2031/2031 [==============================] - 2s 1ms/step - loss: 0.0043\n",
            "Epoch 312/500\n",
            "2031/2031 [==============================] - 2s 1ms/step - loss: 0.0043\n",
            "Epoch 313/500\n",
            "2031/2031 [==============================] - 2s 1ms/step - loss: 0.0043\n",
            "Epoch 314/500\n",
            "2031/2031 [==============================] - 2s 1ms/step - loss: 0.0043\n",
            "Epoch 315/500\n",
            "2031/2031 [==============================] - 2s 1ms/step - loss: 0.0043\n",
            "Epoch 316/500\n",
            "2031/2031 [==============================] - 2s 1ms/step - loss: 0.0043\n",
            "Epoch 317/500\n",
            "2031/2031 [==============================] - 2s 1ms/step - loss: 0.0042\n",
            "Epoch 318/500\n",
            "2031/2031 [==============================] - 2s 1ms/step - loss: 0.0042\n",
            "Epoch 319/500\n",
            "2031/2031 [==============================] - 2s 1ms/step - loss: 0.0042\n",
            "Epoch 320/500\n",
            "2031/2031 [==============================] - 2s 1ms/step - loss: 0.0043\n",
            "Epoch 321/500\n",
            "2031/2031 [==============================] - 2s 1ms/step - loss: 0.0042\n",
            "Epoch 322/500\n",
            "2031/2031 [==============================] - 2s 1ms/step - loss: 0.0042\n",
            "Epoch 323/500\n",
            "2031/2031 [==============================] - 2s 1ms/step - loss: 0.0043\n",
            "Epoch 324/500\n",
            "2031/2031 [==============================] - 2s 1ms/step - loss: 0.0042\n",
            "Epoch 325/500\n",
            "2031/2031 [==============================] - 2s 1ms/step - loss: 0.0042\n",
            "Epoch 326/500\n",
            "2031/2031 [==============================] - 2s 1ms/step - loss: 0.0042\n",
            "Epoch 327/500\n",
            "2031/2031 [==============================] - 2s 1ms/step - loss: 0.0042\n",
            "Epoch 328/500\n",
            "2031/2031 [==============================] - 2s 1ms/step - loss: 0.0042\n",
            "Epoch 329/500\n",
            "2031/2031 [==============================] - 2s 1ms/step - loss: 0.0042\n",
            "Epoch 330/500\n",
            "2031/2031 [==============================] - 2s 1ms/step - loss: 0.0042\n",
            "Epoch 331/500\n",
            "2031/2031 [==============================] - 2s 1ms/step - loss: 0.0042\n",
            "Epoch 332/500\n",
            "2031/2031 [==============================] - 2s 1ms/step - loss: 0.0042\n",
            "Epoch 333/500\n",
            "2031/2031 [==============================] - 2s 1ms/step - loss: 0.0042\n",
            "Epoch 334/500\n",
            "2031/2031 [==============================] - 2s 1ms/step - loss: 0.0042\n",
            "Epoch 335/500\n",
            "2031/2031 [==============================] - 2s 1ms/step - loss: 0.0042\n",
            "Epoch 336/500\n",
            "2031/2031 [==============================] - 2s 1ms/step - loss: 0.0042\n",
            "Epoch 337/500\n",
            "2031/2031 [==============================] - 3s 1ms/step - loss: 0.0042\n",
            "Epoch 338/500\n",
            "2031/2031 [==============================] - 3s 1ms/step - loss: 0.0042\n",
            "Epoch 339/500\n",
            "2031/2031 [==============================] - 3s 1ms/step - loss: 0.0042\n",
            "Epoch 340/500\n",
            "2031/2031 [==============================] - 2s 1ms/step - loss: 0.0042\n",
            "Epoch 341/500\n",
            "2031/2031 [==============================] - 2s 1ms/step - loss: 0.0042\n",
            "Epoch 342/500\n",
            "2031/2031 [==============================] - 2s 1ms/step - loss: 0.0042\n",
            "Epoch 343/500\n",
            "2031/2031 [==============================] - 2s 1ms/step - loss: 0.0042\n",
            "Epoch 344/500\n",
            "2031/2031 [==============================] - 2s 1ms/step - loss: 0.0042\n",
            "Epoch 345/500\n",
            "2031/2031 [==============================] - 2s 1ms/step - loss: 0.0042\n",
            "Epoch 346/500\n",
            "2031/2031 [==============================] - 2s 1ms/step - loss: 0.0042\n",
            "Epoch 347/500\n",
            "2031/2031 [==============================] - 2s 1ms/step - loss: 0.0042\n",
            "Epoch 348/500\n",
            "2031/2031 [==============================] - 2s 1ms/step - loss: 0.0042\n",
            "Epoch 349/500\n",
            "2031/2031 [==============================] - 2s 1ms/step - loss: 0.0042\n",
            "Epoch 350/500\n",
            "2031/2031 [==============================] - 2s 1ms/step - loss: 0.0042\n",
            "Epoch 351/500\n",
            "2031/2031 [==============================] - 2s 1ms/step - loss: 0.0042\n",
            "Epoch 352/500\n",
            "2031/2031 [==============================] - 2s 1ms/step - loss: 0.0042\n",
            "Epoch 353/500\n",
            "2031/2031 [==============================] - 2s 1ms/step - loss: 0.0042\n",
            "Epoch 354/500\n",
            "2031/2031 [==============================] - 2s 1ms/step - loss: 0.0042\n",
            "Epoch 355/500\n",
            "2031/2031 [==============================] - 2s 1ms/step - loss: 0.0042\n",
            "Epoch 356/500\n",
            "2031/2031 [==============================] - 2s 1ms/step - loss: 0.0042\n",
            "Epoch 357/500\n",
            "2031/2031 [==============================] - 2s 1ms/step - loss: 0.0042\n",
            "Epoch 358/500\n",
            "2031/2031 [==============================] - 2s 1ms/step - loss: 0.0042\n",
            "Epoch 359/500\n",
            "2031/2031 [==============================] - 2s 1ms/step - loss: 0.0042\n",
            "Epoch 360/500\n",
            "2031/2031 [==============================] - 2s 1ms/step - loss: 0.0042\n",
            "Epoch 361/500\n",
            "2031/2031 [==============================] - 2s 1ms/step - loss: 0.0042\n",
            "Epoch 362/500\n",
            "2031/2031 [==============================] - 2s 1ms/step - loss: 0.0042\n",
            "Epoch 363/500\n",
            "2031/2031 [==============================] - 2s 1ms/step - loss: 0.0042\n",
            "Epoch 364/500\n",
            "2031/2031 [==============================] - 2s 1ms/step - loss: 0.0042\n",
            "Epoch 365/500\n",
            "2031/2031 [==============================] - 2s 1ms/step - loss: 0.0042\n",
            "Epoch 366/500\n",
            "2031/2031 [==============================] - 2s 1ms/step - loss: 0.0042\n",
            "Epoch 367/500\n",
            "2031/2031 [==============================] - 2s 1ms/step - loss: 0.0041\n",
            "Epoch 368/500\n",
            "2031/2031 [==============================] - 2s 1ms/step - loss: 0.0042\n",
            "Epoch 369/500\n",
            "2031/2031 [==============================] - 2s 1ms/step - loss: 0.0042\n",
            "Epoch 370/500\n",
            "2031/2031 [==============================] - 2s 1ms/step - loss: 0.0042\n",
            "Epoch 371/500\n",
            "2031/2031 [==============================] - 2s 1ms/step - loss: 0.0042\n",
            "Epoch 372/500\n",
            "2031/2031 [==============================] - 2s 1ms/step - loss: 0.0042\n",
            "Epoch 373/500\n",
            "2031/2031 [==============================] - 2s 1ms/step - loss: 0.0042\n",
            "Epoch 374/500\n",
            "2031/2031 [==============================] - 2s 1ms/step - loss: 0.0042\n",
            "Epoch 375/500\n",
            "2031/2031 [==============================] - 2s 1ms/step - loss: 0.0042\n",
            "Epoch 376/500\n",
            "2031/2031 [==============================] - 2s 1ms/step - loss: 0.0042\n",
            "Epoch 377/500\n",
            "2031/2031 [==============================] - 2s 1ms/step - loss: 0.0041\n",
            "Epoch 378/500\n",
            "2031/2031 [==============================] - 2s 1ms/step - loss: 0.0042\n",
            "Epoch 379/500\n",
            "2031/2031 [==============================] - 2s 1ms/step - loss: 0.0042\n",
            "Epoch 380/500\n",
            "2031/2031 [==============================] - 2s 1ms/step - loss: 0.0041\n",
            "Epoch 381/500\n",
            "2031/2031 [==============================] - 2s 1ms/step - loss: 0.0041\n",
            "Epoch 382/500\n",
            "2031/2031 [==============================] - 2s 1ms/step - loss: 0.0042\n",
            "Epoch 383/500\n",
            "2031/2031 [==============================] - 2s 1ms/step - loss: 0.0041\n",
            "Epoch 384/500\n",
            "2031/2031 [==============================] - 2s 1ms/step - loss: 0.0041\n",
            "Epoch 385/500\n",
            "2031/2031 [==============================] - 2s 1ms/step - loss: 0.0041\n",
            "Epoch 386/500\n",
            "2031/2031 [==============================] - 2s 1ms/step - loss: 0.0041\n",
            "Epoch 387/500\n",
            "2031/2031 [==============================] - 2s 1ms/step - loss: 0.0041\n",
            "Epoch 388/500\n",
            "2031/2031 [==============================] - 2s 1ms/step - loss: 0.0041\n",
            "Epoch 389/500\n",
            "2031/2031 [==============================] - 2s 1ms/step - loss: 0.0041\n",
            "Epoch 390/500\n",
            "2031/2031 [==============================] - 2s 1ms/step - loss: 0.0041\n",
            "Epoch 391/500\n",
            "2031/2031 [==============================] - 2s 1ms/step - loss: 0.0041\n",
            "Epoch 392/500\n",
            "2031/2031 [==============================] - 2s 1ms/step - loss: 0.0041\n",
            "Epoch 393/500\n",
            "2031/2031 [==============================] - 2s 1ms/step - loss: 0.0041\n",
            "Epoch 394/500\n",
            "2031/2031 [==============================] - 2s 1ms/step - loss: 0.0041\n",
            "Epoch 395/500\n",
            "2031/2031 [==============================] - 2s 1ms/step - loss: 0.0041\n",
            "Epoch 396/500\n",
            "2031/2031 [==============================] - 2s 1ms/step - loss: 0.0041\n",
            "Epoch 397/500\n",
            "2031/2031 [==============================] - 2s 1ms/step - loss: 0.0041\n",
            "Epoch 398/500\n",
            "2031/2031 [==============================] - 2s 1ms/step - loss: 0.0041\n",
            "Epoch 399/500\n",
            "2031/2031 [==============================] - 2s 1ms/step - loss: 0.0041\n",
            "Epoch 400/500\n",
            "2031/2031 [==============================] - 2s 1ms/step - loss: 0.0041\n",
            "Epoch 401/500\n",
            "2031/2031 [==============================] - 3s 1ms/step - loss: 0.0041\n",
            "Epoch 402/500\n",
            "2031/2031 [==============================] - 3s 1ms/step - loss: 0.0041\n",
            "Epoch 403/500\n",
            "2031/2031 [==============================] - 2s 1ms/step - loss: 0.0041\n",
            "Epoch 404/500\n",
            "2031/2031 [==============================] - 2s 1ms/step - loss: 0.0041\n",
            "Epoch 405/500\n",
            "2031/2031 [==============================] - 2s 1ms/step - loss: 0.0041\n",
            "Epoch 406/500\n",
            "2031/2031 [==============================] - 2s 1ms/step - loss: 0.0041\n",
            "Epoch 407/500\n",
            "2031/2031 [==============================] - 2s 1ms/step - loss: 0.0041\n",
            "Epoch 408/500\n",
            "2031/2031 [==============================] - 2s 1ms/step - loss: 0.0041\n",
            "Epoch 409/500\n",
            "2031/2031 [==============================] - 2s 1ms/step - loss: 0.0041\n",
            "Epoch 410/500\n",
            "2031/2031 [==============================] - 2s 1ms/step - loss: 0.0041\n",
            "Epoch 411/500\n",
            "2031/2031 [==============================] - 2s 1ms/step - loss: 0.0041\n",
            "Epoch 412/500\n",
            "2031/2031 [==============================] - 2s 1ms/step - loss: 0.0041\n",
            "Epoch 413/500\n",
            "2031/2031 [==============================] - 2s 1ms/step - loss: 0.0041\n",
            "Epoch 414/500\n",
            "2031/2031 [==============================] - 2s 1ms/step - loss: 0.0041\n",
            "Epoch 415/500\n",
            "2031/2031 [==============================] - 2s 1ms/step - loss: 0.0041\n",
            "Epoch 416/500\n",
            "2031/2031 [==============================] - 2s 1ms/step - loss: 0.0041\n",
            "Epoch 417/500\n",
            "2031/2031 [==============================] - 2s 1ms/step - loss: 0.0041\n",
            "Epoch 418/500\n",
            "2031/2031 [==============================] - 2s 1ms/step - loss: 0.0041\n",
            "Epoch 419/500\n",
            "2031/2031 [==============================] - 2s 1ms/step - loss: 0.0041\n",
            "Epoch 420/500\n",
            "2031/2031 [==============================] - 2s 1ms/step - loss: 0.0041\n",
            "Epoch 421/500\n",
            "2031/2031 [==============================] - 2s 1ms/step - loss: 0.0041\n",
            "Epoch 422/500\n",
            "2031/2031 [==============================] - 2s 1ms/step - loss: 0.0041\n",
            "Epoch 423/500\n",
            "2031/2031 [==============================] - 2s 1ms/step - loss: 0.0041\n",
            "Epoch 424/500\n",
            "2031/2031 [==============================] - 2s 1ms/step - loss: 0.0041\n",
            "Epoch 425/500\n",
            "2031/2031 [==============================] - 2s 1ms/step - loss: 0.0041\n",
            "Epoch 426/500\n",
            "2031/2031 [==============================] - 2s 1ms/step - loss: 0.0041\n",
            "Epoch 427/500\n",
            "2031/2031 [==============================] - 2s 1ms/step - loss: 0.0041\n",
            "Epoch 428/500\n",
            "2031/2031 [==============================] - 2s 1ms/step - loss: 0.0041\n",
            "Epoch 429/500\n",
            "2031/2031 [==============================] - 2s 1ms/step - loss: 0.0041\n",
            "Epoch 430/500\n",
            "2031/2031 [==============================] - 2s 1ms/step - loss: 0.0041\n",
            "Epoch 431/500\n",
            "2031/2031 [==============================] - 2s 1ms/step - loss: 0.0041\n",
            "Epoch 432/500\n",
            "2031/2031 [==============================] - 2s 1ms/step - loss: 0.0041\n",
            "Epoch 433/500\n",
            "2031/2031 [==============================] - 2s 1ms/step - loss: 0.0041\n",
            "Epoch 434/500\n",
            "2031/2031 [==============================] - 2s 1ms/step - loss: 0.0041\n",
            "Epoch 435/500\n",
            "2031/2031 [==============================] - 2s 1ms/step - loss: 0.0041\n",
            "Epoch 436/500\n",
            "2031/2031 [==============================] - 2s 1ms/step - loss: 0.0041\n",
            "Epoch 437/500\n",
            "2031/2031 [==============================] - 2s 1ms/step - loss: 0.0041\n",
            "Epoch 438/500\n",
            "2031/2031 [==============================] - 2s 1ms/step - loss: 0.0041\n",
            "Epoch 439/500\n",
            "2031/2031 [==============================] - 2s 1ms/step - loss: 0.0041\n",
            "Epoch 440/500\n",
            "2031/2031 [==============================] - 2s 1ms/step - loss: 0.0041\n",
            "Epoch 441/500\n",
            "2031/2031 [==============================] - 2s 1ms/step - loss: 0.0041\n",
            "Epoch 442/500\n",
            "2031/2031 [==============================] - 2s 1ms/step - loss: 0.0041\n",
            "Epoch 443/500\n",
            "2031/2031 [==============================] - 2s 1ms/step - loss: 0.0041\n",
            "Epoch 444/500\n",
            "2031/2031 [==============================] - 2s 1ms/step - loss: 0.0041\n",
            "Epoch 445/500\n",
            "2031/2031 [==============================] - 2s 1ms/step - loss: 0.0041\n",
            "Epoch 446/500\n",
            "2031/2031 [==============================] - 2s 1ms/step - loss: 0.0041\n",
            "Epoch 447/500\n",
            "2031/2031 [==============================] - 2s 1ms/step - loss: 0.0041\n",
            "Epoch 448/500\n",
            "2031/2031 [==============================] - 2s 1ms/step - loss: 0.0041\n",
            "Epoch 449/500\n",
            "2031/2031 [==============================] - 2s 1ms/step - loss: 0.0040\n",
            "Epoch 450/500\n",
            "2031/2031 [==============================] - 2s 1ms/step - loss: 0.0041\n",
            "Epoch 451/500\n",
            "2031/2031 [==============================] - 2s 1ms/step - loss: 0.0040\n",
            "Epoch 452/500\n",
            "2031/2031 [==============================] - 2s 1ms/step - loss: 0.0041\n",
            "Epoch 453/500\n",
            "2031/2031 [==============================] - 2s 1ms/step - loss: 0.0041\n",
            "Epoch 454/500\n",
            "2031/2031 [==============================] - 2s 1ms/step - loss: 0.0040\n",
            "Epoch 455/500\n",
            "2031/2031 [==============================] - 2s 1ms/step - loss: 0.0040\n",
            "Epoch 456/500\n",
            "2031/2031 [==============================] - 2s 1ms/step - loss: 0.0041\n",
            "Epoch 457/500\n",
            "2031/2031 [==============================] - 2s 1ms/step - loss: 0.0040\n",
            "Epoch 458/500\n",
            "2031/2031 [==============================] - 2s 1ms/step - loss: 0.0040\n",
            "Epoch 459/500\n",
            "2031/2031 [==============================] - 2s 1ms/step - loss: 0.0040\n",
            "Epoch 460/500\n",
            "2031/2031 [==============================] - 2s 1ms/step - loss: 0.0040\n",
            "Epoch 461/500\n",
            "2031/2031 [==============================] - 2s 1ms/step - loss: 0.0040\n",
            "Epoch 462/500\n",
            "2031/2031 [==============================] - 2s 1ms/step - loss: 0.0040\n",
            "Epoch 463/500\n",
            "2031/2031 [==============================] - 2s 1ms/step - loss: 0.0040\n",
            "Epoch 464/500\n",
            "2031/2031 [==============================] - 2s 1ms/step - loss: 0.0040\n",
            "Epoch 465/500\n",
            "2031/2031 [==============================] - 2s 1ms/step - loss: 0.0041\n",
            "Epoch 466/500\n",
            "2031/2031 [==============================] - 2s 1ms/step - loss: 0.0040\n",
            "Epoch 467/500\n",
            "2031/2031 [==============================] - 2s 1ms/step - loss: 0.0040\n",
            "Epoch 468/500\n",
            "2031/2031 [==============================] - 2s 1ms/step - loss: 0.0040\n",
            "Epoch 469/500\n",
            "2031/2031 [==============================] - 2s 1ms/step - loss: 0.0040\n",
            "Epoch 470/500\n",
            "2031/2031 [==============================] - 2s 1ms/step - loss: 0.0040\n",
            "Epoch 471/500\n",
            "2031/2031 [==============================] - 2s 1ms/step - loss: 0.0040\n",
            "Epoch 472/500\n",
            "2031/2031 [==============================] - 2s 1ms/step - loss: 0.0040\n",
            "Epoch 473/500\n",
            "2031/2031 [==============================] - 2s 1ms/step - loss: 0.0040\n",
            "Epoch 474/500\n",
            "2031/2031 [==============================] - 2s 1ms/step - loss: 0.0040\n",
            "Epoch 475/500\n",
            "2031/2031 [==============================] - 2s 1ms/step - loss: 0.0040\n",
            "Epoch 476/500\n",
            "2031/2031 [==============================] - 2s 1ms/step - loss: 0.0040\n",
            "Epoch 477/500\n",
            "2031/2031 [==============================] - 2s 1ms/step - loss: 0.0040\n",
            "Epoch 478/500\n",
            "2031/2031 [==============================] - 3s 1ms/step - loss: 0.0040\n",
            "Epoch 479/500\n",
            "2031/2031 [==============================] - 3s 1ms/step - loss: 0.0040\n",
            "Epoch 480/500\n",
            "2031/2031 [==============================] - 3s 1ms/step - loss: 0.0040\n",
            "Epoch 481/500\n",
            "2031/2031 [==============================] - 3s 1ms/step - loss: 0.0040\n",
            "Epoch 482/500\n",
            "2031/2031 [==============================] - 2s 1ms/step - loss: 0.0040\n",
            "Epoch 483/500\n",
            "2031/2031 [==============================] - 2s 1ms/step - loss: 0.0040\n",
            "Epoch 484/500\n",
            "2031/2031 [==============================] - 2s 1ms/step - loss: 0.0040\n",
            "Epoch 485/500\n",
            "2031/2031 [==============================] - 2s 1ms/step - loss: 0.0040\n",
            "Epoch 486/500\n",
            "2031/2031 [==============================] - 2s 1ms/step - loss: 0.0040\n",
            "Epoch 487/500\n",
            "2031/2031 [==============================] - 2s 1ms/step - loss: 0.0040\n",
            "Epoch 488/500\n",
            "2031/2031 [==============================] - 2s 1ms/step - loss: 0.0040\n",
            "Epoch 489/500\n",
            "2031/2031 [==============================] - 2s 1ms/step - loss: 0.0040\n",
            "Epoch 490/500\n",
            "2031/2031 [==============================] - 2s 1ms/step - loss: 0.0040\n",
            "Epoch 491/500\n",
            "2031/2031 [==============================] - 2s 1ms/step - loss: 0.0040\n",
            "Epoch 492/500\n",
            "2031/2031 [==============================] - 2s 1ms/step - loss: 0.0040\n",
            "Epoch 493/500\n",
            "2031/2031 [==============================] - 2s 1ms/step - loss: 0.0040\n",
            "Epoch 494/500\n",
            "2031/2031 [==============================] - 2s 1ms/step - loss: 0.0040\n",
            "Epoch 495/500\n",
            "2031/2031 [==============================] - 2s 1ms/step - loss: 0.0040\n",
            "Epoch 496/500\n",
            "2031/2031 [==============================] - 2s 1ms/step - loss: 0.0040\n",
            "Epoch 497/500\n",
            "2031/2031 [==============================] - 2s 1ms/step - loss: 0.0040\n",
            "Epoch 498/500\n",
            "2031/2031 [==============================] - 2s 1ms/step - loss: 0.0040\n",
            "Epoch 499/500\n",
            "2031/2031 [==============================] - 2s 1ms/step - loss: 0.0040\n",
            "Epoch 500/500\n",
            "2031/2031 [==============================] - 2s 1ms/step - loss: 0.0040\n"
          ],
          "name": "stdout"
        }
      ]
    },
    {
      "cell_type": "code",
      "metadata": {
        "id": "vVAws9qHc-9H"
      },
      "source": [
        "# Try to predict:"
      ],
      "execution_count": 403,
      "outputs": []
    },
    {
      "cell_type": "code",
      "metadata": {
        "id": "nFEi_y23gm4u"
      },
      "source": [
        "# Removal of the noise for better understandings"
      ],
      "execution_count": 404,
      "outputs": []
    },
    {
      "cell_type": "markdown",
      "metadata": {
        "id": "3ESG0Igzjg3_"
      },
      "source": [
        "# Trying to predict the new data, the data here it is from the Trails without fish"
      ]
    },
    {
      "cell_type": "code",
      "metadata": {
        "id": "pxZeG9Zxh4K0",
        "outputId": "64af2f83-9146-4f2f-d4b1-2587b9cd1cad",
        "colab": {
          "base_uri": "https://localhost:8080/",
          "height": 170
        }
      },
      "source": [
        "# Stacking the two arrays along axis 0 \n",
        "out_arr1_X_training = geek.stack((X1, X2, X3,X4,X7,X8), axis = 0) \n",
        "print (\"Output stacked array along axis 0:\\n \", out_arr1_X_training) \n",
        "print (\"Output Shape:\\n \", out_arr1_X_training.shape) "
      ],
      "execution_count": 405,
      "outputs": [
        {
          "output_type": "stream",
          "text": [
            "Output stacked array along axis 0:\n",
            "  [[ 0.   20.   20.   ...  0.8   0.8   0.8 ]\n",
            " [ 0.   20.   20.   ...  0.3   0.3   0.3 ]\n",
            " [ 0.   20.   20.   ...  0.8   0.8   0.8 ]\n",
            " [ 0.   20.   20.   ...  1.8   1.8   1.8 ]\n",
            " [ 0.    0.    0.   ...  4.87  4.87  4.87]\n",
            " [ 0.    0.    0.   ... -3.38 -3.38 -3.38]]\n",
            "Output Shape:\n",
            "  (6, 84980)\n"
          ],
          "name": "stdout"
        }
      ]
    },
    {
      "cell_type": "code",
      "metadata": {
        "id": "pt8a33JFkL_I"
      },
      "source": [
        "out_arr1_X_training=out_arr1_X_training.transpose(1,0)"
      ],
      "execution_count": 407,
      "outputs": []
    },
    {
      "cell_type": "code",
      "metadata": {
        "id": "HJqfB-Csj6jV",
        "outputId": "ee1225c6-dda2-484a-e3ea-eeb0d630fe45",
        "colab": {
          "base_uri": "https://localhost:8080/",
          "height": 136
        }
      },
      "source": [
        "# Stacking the two arrays along axis 0 \n",
        "yyyy = geek.stack((y1, y2, y3,y4), axis = 0) \n",
        "print (\"Output stacked array along axis 0:\\n \", yyyy) \n",
        "print (\"Output Shape:\\n \", yyyy.shape) "
      ],
      "execution_count": 406,
      "outputs": [
        {
          "output_type": "stream",
          "text": [
            "Output stacked array along axis 0:\n",
            "  [[ 0.       20.       20.       ...  2.691634  2.691802  2.691982]\n",
            " [ 0.       20.       20.       ...  2.614254  2.615765  2.617577]\n",
            " [ 0.       20.       20.       ...  2.621804  2.62182   2.621799]\n",
            " [ 0.       20.       20.       ...  2.615026  2.615181  2.615344]]\n",
            "Output Shape:\n",
            "  (4, 84980)\n"
          ],
          "name": "stdout"
        }
      ]
    },
    {
      "cell_type": "code",
      "metadata": {
        "id": "yY7GBcHOkGEj"
      },
      "source": [
        "yyyy=yyyy.transpose(1,0)"
      ],
      "execution_count": 408,
      "outputs": []
    },
    {
      "cell_type": "code",
      "metadata": {
        "id": "KtXIEH0DkR1f"
      },
      "source": [
        "X=out_arr1_X_training"
      ],
      "execution_count": 409,
      "outputs": []
    },
    {
      "cell_type": "code",
      "metadata": {
        "id": "vRSEOXHjkcxt"
      },
      "source": [
        "y=yyyy"
      ],
      "execution_count": 410,
      "outputs": []
    },
    {
      "cell_type": "code",
      "metadata": {
        "id": "HLoTsnfIke5i",
        "outputId": "3eddf97c-82e2-41cf-ce4f-09f0b420e543",
        "colab": {
          "base_uri": "https://localhost:8080/",
          "height": 34
        }
      },
      "source": [
        "X.shape"
      ],
      "execution_count": 411,
      "outputs": [
        {
          "output_type": "execute_result",
          "data": {
            "text/plain": [
              "(84980, 6)"
            ]
          },
          "metadata": {
            "tags": []
          },
          "execution_count": 411
        }
      ]
    },
    {
      "cell_type": "code",
      "metadata": {
        "id": "zi2A1XPOkgqB",
        "outputId": "79407692-fb71-40ca-f4a7-8105d0546c84",
        "colab": {
          "base_uri": "https://localhost:8080/",
          "height": 34
        }
      },
      "source": [
        "y.shape"
      ],
      "execution_count": 412,
      "outputs": [
        {
          "output_type": "execute_result",
          "data": {
            "text/plain": [
              "(84980, 4)"
            ]
          },
          "metadata": {
            "tags": []
          },
          "execution_count": 412
        }
      ]
    },
    {
      "cell_type": "code",
      "metadata": {
        "id": "ciNm29GIkjIF"
      },
      "source": [
        "nvalues = [1e-1, 1e-2, 1e-3, 1e-4, 1e-5, 1e-6]\n",
        "\n",
        "from keras.layers import Input, Dense, Conv1D, MaxPooling1D, UpSampling1D, Flatten, Reshape, Dropout\n",
        "from keras.models import Model\n",
        "from keras import backend as K\n",
        "input_img=Input(shape=(n_steps, 6))\n",
        "#input_img = Input(shape=(28, 28, 1))  # adapt this if using `channels_first` image data format\n",
        "# Dropout \n",
        "\n",
        "x = Conv1D(16, 3, activation='relu', padding='same')(input_img)\n",
        "x= MaxPooling1D(2, padding= 'same')(x)\n",
        "\n",
        "# at this point the representation is (4, 4, 8) i.e. 128-dimensional\n",
        "x= Flatten()(x)\n",
        "decoded = Dense(n_features*n_steps, activation='linear')(x)\n",
        "outputs= Reshape((n_steps, n_features))(decoded)\n",
        "#tf.reshape(tensor, shape, name=None)\n",
        "autoencoder = Model(input_img, outputs)\n",
        "opt = keras.optimizers.Adam(learning_rate=0.0001)\n",
        "autoencoder.compile(opt, loss='mse')"
      ],
      "execution_count": 419,
      "outputs": []
    },
    {
      "cell_type": "code",
      "metadata": {
        "id": "higF4-KrkzbL"
      },
      "source": [
        "Z=X.reshape(84980,1,6)"
      ],
      "execution_count": 420,
      "outputs": []
    },
    {
      "cell_type": "code",
      "metadata": {
        "id": "KyiU-zdik45M"
      },
      "source": [
        "t=y.reshape(84980, 1,4)"
      ],
      "execution_count": 421,
      "outputs": []
    },
    {
      "cell_type": "code",
      "metadata": {
        "id": "w5yC0Cf1w9tn",
        "outputId": "da62e5e3-f671-4bd9-b1c0-67fc9505adc8",
        "colab": {
          "base_uri": "https://localhost:8080/",
          "height": 1000
        }
      },
      "source": [
        "from keras.callbacks import TensorBoard, EarlyStopping\n",
        "\n",
        "es =EarlyStopping(\n",
        "    monitor=\"val_loss\",\n",
        "    min_delta=0.001,\n",
        "    patience=5,\n",
        "    verbose=0,\n",
        "    mode=\"auto\",\n",
        "    baseline=None,\n",
        "    restore_best_weights=True,\n",
        ")\n",
        "history=autoencoder.fit(Z, t,\n",
        "                epochs=100,\n",
        "                batch_size=32,\n",
        "                verbose=1)\n",
        "\n",
        "# callback = tf.keras.callbacks.EarlyStopping(monitor='loss', patience=3)\n",
        "#Early Stopping.. Can be a wise option to observe\n",
        "#tf.keras.callbacks.EarlyStopping(\n",
        "   # monitor='val_loss', min_delta=0, patience=0, verbose=0, mode='auto',\n",
        "  #  baseline=None, restore_best_weights=False\n",
        "#)"
      ],
      "execution_count": 424,
      "outputs": [
        {
          "output_type": "stream",
          "text": [
            "Epoch 1/100\n",
            "2656/2656 [==============================] - 3s 956us/step - loss: 0.0011\n",
            "Epoch 2/100\n",
            "2656/2656 [==============================] - 3s 953us/step - loss: 0.0011\n",
            "Epoch 3/100\n",
            "2656/2656 [==============================] - 3s 958us/step - loss: 0.0011\n",
            "Epoch 4/100\n",
            "2656/2656 [==============================] - 3s 984us/step - loss: 0.0011\n",
            "Epoch 5/100\n",
            "2656/2656 [==============================] - 3s 980us/step - loss: 0.0011\n",
            "Epoch 6/100\n",
            "2656/2656 [==============================] - 3s 974us/step - loss: 0.0011\n",
            "Epoch 7/100\n",
            "2656/2656 [==============================] - 3s 983us/step - loss: 0.0011\n",
            "Epoch 8/100\n",
            "2656/2656 [==============================] - 3s 983us/step - loss: 0.0011\n",
            "Epoch 9/100\n",
            "2656/2656 [==============================] - 3s 950us/step - loss: 0.0011\n",
            "Epoch 10/100\n",
            "2656/2656 [==============================] - 3s 961us/step - loss: 0.0011\n",
            "Epoch 11/100\n",
            "2656/2656 [==============================] - 3s 961us/step - loss: 0.0011\n",
            "Epoch 12/100\n",
            "2656/2656 [==============================] - 3s 986us/step - loss: 0.0011\n",
            "Epoch 13/100\n",
            "2656/2656 [==============================] - 3s 997us/step - loss: 0.0011\n",
            "Epoch 14/100\n",
            "2656/2656 [==============================] - 3s 1ms/step - loss: 0.0011\n",
            "Epoch 15/100\n",
            "2656/2656 [==============================] - 3s 998us/step - loss: 0.0011\n",
            "Epoch 16/100\n",
            "2656/2656 [==============================] - 3s 1000us/step - loss: 0.0011\n",
            "Epoch 17/100\n",
            "2656/2656 [==============================] - 3s 962us/step - loss: 0.0011\n",
            "Epoch 18/100\n",
            "2656/2656 [==============================] - 3s 960us/step - loss: 0.0011\n",
            "Epoch 19/100\n",
            "2656/2656 [==============================] - 3s 964us/step - loss: 0.0011\n",
            "Epoch 20/100\n",
            "2656/2656 [==============================] - 3s 985us/step - loss: 0.0011\n",
            "Epoch 21/100\n",
            "2656/2656 [==============================] - 3s 964us/step - loss: 0.0011\n",
            "Epoch 22/100\n",
            "2656/2656 [==============================] - 3s 965us/step - loss: 0.0011\n",
            "Epoch 23/100\n",
            "2656/2656 [==============================] - 3s 988us/step - loss: 0.0011\n",
            "Epoch 24/100\n",
            "2656/2656 [==============================] - 3s 985us/step - loss: 0.0011\n",
            "Epoch 25/100\n",
            "2656/2656 [==============================] - 3s 980us/step - loss: 0.0011\n",
            "Epoch 26/100\n",
            "2656/2656 [==============================] - 3s 1ms/step - loss: 0.0011\n",
            "Epoch 27/100\n",
            "2656/2656 [==============================] - 3s 1ms/step - loss: 0.0011\n",
            "Epoch 28/100\n",
            "2656/2656 [==============================] - 3s 1ms/step - loss: 0.0011\n",
            "Epoch 29/100\n",
            "2656/2656 [==============================] - 3s 1ms/step - loss: 0.0011\n",
            "Epoch 30/100\n",
            "2656/2656 [==============================] - 3s 988us/step - loss: 0.0011\n",
            "Epoch 31/100\n",
            "2656/2656 [==============================] - 3s 975us/step - loss: 0.0011\n",
            "Epoch 32/100\n",
            "2656/2656 [==============================] - 3s 965us/step - loss: 0.0011\n",
            "Epoch 33/100\n",
            "2656/2656 [==============================] - 3s 964us/step - loss: 0.0011\n",
            "Epoch 34/100\n",
            "2656/2656 [==============================] - 3s 974us/step - loss: 0.0011\n",
            "Epoch 35/100\n",
            "2656/2656 [==============================] - 3s 987us/step - loss: 0.0011\n",
            "Epoch 36/100\n",
            "2656/2656 [==============================] - 3s 1ms/step - loss: 0.0011\n",
            "Epoch 37/100\n",
            "2656/2656 [==============================] - 3s 1ms/step - loss: 0.0011\n",
            "Epoch 38/100\n",
            "2656/2656 [==============================] - 3s 1ms/step - loss: 0.0011\n",
            "Epoch 39/100\n",
            "2656/2656 [==============================] - 3s 999us/step - loss: 0.0011\n",
            "Epoch 40/100\n",
            "2656/2656 [==============================] - 3s 990us/step - loss: 0.0011\n",
            "Epoch 41/100\n",
            "2656/2656 [==============================] - 3s 967us/step - loss: 0.0011\n",
            "Epoch 42/100\n",
            "2656/2656 [==============================] - 3s 1ms/step - loss: 0.0011\n",
            "Epoch 43/100\n",
            "2656/2656 [==============================] - 3s 1ms/step - loss: 0.0011\n",
            "Epoch 44/100\n",
            "2656/2656 [==============================] - 3s 1ms/step - loss: 0.0011\n",
            "Epoch 45/100\n",
            "2656/2656 [==============================] - 3s 1ms/step - loss: 0.0011\n",
            "Epoch 46/100\n",
            "2656/2656 [==============================] - 3s 1ms/step - loss: 0.0011\n",
            "Epoch 47/100\n",
            "2656/2656 [==============================] - 3s 1ms/step - loss: 0.0011\n",
            "Epoch 48/100\n",
            "2656/2656 [==============================] - 3s 992us/step - loss: 0.0011\n",
            "Epoch 49/100\n",
            "2656/2656 [==============================] - 3s 987us/step - loss: 0.0011\n",
            "Epoch 50/100\n",
            "2656/2656 [==============================] - 3s 965us/step - loss: 0.0011\n",
            "Epoch 51/100\n",
            "2656/2656 [==============================] - 3s 966us/step - loss: 0.0011\n",
            "Epoch 52/100\n",
            "2656/2656 [==============================] - 3s 967us/step - loss: 0.0011\n",
            "Epoch 53/100\n",
            "2656/2656 [==============================] - 3s 975us/step - loss: 0.0011\n",
            "Epoch 54/100\n",
            "2656/2656 [==============================] - 3s 984us/step - loss: 0.0011\n",
            "Epoch 55/100\n",
            "2656/2656 [==============================] - 3s 999us/step - loss: 0.0011\n",
            "Epoch 56/100\n",
            "2656/2656 [==============================] - 3s 984us/step - loss: 0.0011\n",
            "Epoch 57/100\n",
            "2656/2656 [==============================] - 3s 986us/step - loss: 0.0011\n",
            "Epoch 58/100\n",
            "2656/2656 [==============================] - 3s 968us/step - loss: 0.0011\n",
            "Epoch 59/100\n",
            "2656/2656 [==============================] - 3s 981us/step - loss: 0.0011\n",
            "Epoch 60/100\n",
            "2656/2656 [==============================] - 3s 968us/step - loss: 0.0011\n",
            "Epoch 61/100\n",
            "2656/2656 [==============================] - 3s 988us/step - loss: 0.0011\n",
            "Epoch 62/100\n",
            "2656/2656 [==============================] - 3s 989us/step - loss: 0.0011\n",
            "Epoch 63/100\n",
            "2656/2656 [==============================] - 3s 1ms/step - loss: 0.0011\n",
            "Epoch 64/100\n",
            "2656/2656 [==============================] - 3s 1ms/step - loss: 0.0011\n",
            "Epoch 65/100\n",
            "2656/2656 [==============================] - 3s 1ms/step - loss: 0.0011\n",
            "Epoch 66/100\n",
            "2656/2656 [==============================] - 3s 977us/step - loss: 0.0011\n",
            "Epoch 67/100\n",
            "2656/2656 [==============================] - 3s 979us/step - loss: 0.0011\n",
            "Epoch 68/100\n",
            "2656/2656 [==============================] - 3s 962us/step - loss: 0.0011\n",
            "Epoch 69/100\n",
            "2656/2656 [==============================] - 3s 941us/step - loss: 0.0011\n",
            "Epoch 70/100\n",
            "2656/2656 [==============================] - 3s 955us/step - loss: 0.0011\n",
            "Epoch 71/100\n",
            "2656/2656 [==============================] - 3s 979us/step - loss: 0.0011\n",
            "Epoch 72/100\n",
            "2656/2656 [==============================] - 3s 966us/step - loss: 0.0011\n",
            "Epoch 73/100\n",
            "2656/2656 [==============================] - 3s 955us/step - loss: 0.0011\n",
            "Epoch 74/100\n",
            "2656/2656 [==============================] - 3s 961us/step - loss: 0.0011\n",
            "Epoch 75/100\n",
            "2656/2656 [==============================] - 3s 986us/step - loss: 0.0011\n",
            "Epoch 76/100\n",
            "2656/2656 [==============================] - 3s 965us/step - loss: 0.0011\n",
            "Epoch 77/100\n",
            "2656/2656 [==============================] - 3s 997us/step - loss: 0.0011\n",
            "Epoch 78/100\n",
            "2656/2656 [==============================] - 3s 961us/step - loss: 0.0011\n",
            "Epoch 79/100\n",
            "2656/2656 [==============================] - 3s 947us/step - loss: 0.0011\n",
            "Epoch 80/100\n",
            "2656/2656 [==============================] - 3s 964us/step - loss: 0.0011\n",
            "Epoch 81/100\n",
            "2656/2656 [==============================] - 3s 970us/step - loss: 0.0011\n",
            "Epoch 82/100\n",
            "2656/2656 [==============================] - 3s 962us/step - loss: 0.0011\n",
            "Epoch 83/100\n",
            "2656/2656 [==============================] - 3s 992us/step - loss: 0.0011\n",
            "Epoch 84/100\n",
            "2656/2656 [==============================] - 3s 977us/step - loss: 0.0011\n",
            "Epoch 85/100\n",
            "2656/2656 [==============================] - 3s 988us/step - loss: 0.0011\n",
            "Epoch 86/100\n",
            "2656/2656 [==============================] - 3s 984us/step - loss: 0.0011\n",
            "Epoch 87/100\n",
            "2656/2656 [==============================] - 3s 978us/step - loss: 0.0011\n",
            "Epoch 88/100\n",
            "2656/2656 [==============================] - 3s 970us/step - loss: 0.0011\n",
            "Epoch 89/100\n",
            "2656/2656 [==============================] - 3s 963us/step - loss: 0.0011\n",
            "Epoch 90/100\n",
            "2656/2656 [==============================] - 3s 958us/step - loss: 0.0011\n",
            "Epoch 91/100\n",
            "2656/2656 [==============================] - 3s 964us/step - loss: 0.0011\n",
            "Epoch 92/100\n",
            "2656/2656 [==============================] - 3s 963us/step - loss: 0.0011\n",
            "Epoch 93/100\n",
            "2656/2656 [==============================] - 3s 957us/step - loss: 0.0011\n",
            "Epoch 94/100\n",
            "2656/2656 [==============================] - 3s 968us/step - loss: 0.0011\n",
            "Epoch 95/100\n",
            "2656/2656 [==============================] - 3s 968us/step - loss: 0.0011\n",
            "Epoch 96/100\n",
            "2656/2656 [==============================] - 3s 963us/step - loss: 0.0011\n",
            "Epoch 97/100\n",
            "2656/2656 [==============================] - 3s 970us/step - loss: 0.0011\n",
            "Epoch 98/100\n",
            "2656/2656 [==============================] - 3s 997us/step - loss: 0.0011\n",
            "Epoch 99/100\n",
            "2656/2656 [==============================] - 3s 972us/step - loss: 0.0011\n",
            "Epoch 100/100\n",
            "2656/2656 [==============================] - 3s 979us/step - loss: 0.0011\n"
          ],
          "name": "stdout"
        }
      ]
    },
    {
      "cell_type": "code",
      "metadata": {
        "id": "T3GDNSSqyNNR",
        "outputId": "5756bacd-017e-4fb5-a163-fc0d2810034f",
        "colab": {
          "base_uri": "https://localhost:8080/",
          "height": 34
        }
      },
      "source": [
        "out_arr1_X_training.shape"
      ],
      "execution_count": 426,
      "outputs": [
        {
          "output_type": "execute_result",
          "data": {
            "text/plain": [
              "(84980, 6)"
            ]
          },
          "metadata": {
            "tags": []
          },
          "execution_count": 426
        }
      ]
    },
    {
      "cell_type": "code",
      "metadata": {
        "id": "2vGC0SlAyaI1",
        "outputId": "10fb8682-96f5-4382-f8dd-272aa99ab851",
        "colab": {
          "base_uri": "https://localhost:8080/",
          "height": 170
        }
      },
      "source": [
        "# Stacking the two arrays along axis 0 \n",
        "r1 = geek.stack((G, Gg, Ggg, Gggg, Ggggg, Gggggg), axis = 0) \n",
        "print (\"Output stacked array along axis 0:\\n \", r1) \n",
        "print (\"Labels Shape :\\n \", r1.shape) "
      ],
      "execution_count": 440,
      "outputs": [
        {
          "output_type": "stream",
          "text": [
            "Output stacked array along axis 0:\n",
            "  [[0.       0.       0.       ... 0.722766 0.722766 0.722766]\n",
            " [0.       0.       0.       ... 4.138345 4.138345 4.138345]\n",
            " [0.       0.       0.       ... 4.750091 4.750091 4.750091]\n",
            " [0.       0.       0.       ... 0.       0.       0.      ]\n",
            " [0.       0.       0.       ... 0.       0.       0.      ]\n",
            " [0.       0.       0.04     ... 0.       0.       0.      ]]\n",
            "Labels Shape :\n",
            "  (6, 3060)\n"
          ],
          "name": "stdout"
        }
      ]
    },
    {
      "cell_type": "code",
      "metadata": {
        "id": "P6KrkZp0yl9f"
      },
      "source": [
        "r11=r1.transpose(1,0)"
      ],
      "execution_count": 442,
      "outputs": []
    },
    {
      "cell_type": "code",
      "metadata": {
        "id": "SLH5_-HpzUET",
        "outputId": "8ea658b0-210f-4f3a-8a40-41863e9f864b",
        "colab": {
          "base_uri": "https://localhost:8080/",
          "height": 34
        }
      },
      "source": [
        "r11.shape"
      ],
      "execution_count": 443,
      "outputs": [
        {
          "output_type": "execute_result",
          "data": {
            "text/plain": [
              "(3060, 6)"
            ]
          },
          "metadata": {
            "tags": []
          },
          "execution_count": 443
        }
      ]
    },
    {
      "cell_type": "code",
      "metadata": {
        "id": "iHd-O9vCr-QH"
      },
      "source": [
        "r1=r11.reshape(3060,1,6)"
      ],
      "execution_count": 444,
      "outputs": []
    },
    {
      "cell_type": "code",
      "metadata": {
        "id": "zujvT02g1SBV"
      },
      "source": [
        "r2=r1[:2050]"
      ],
      "execution_count": 469,
      "outputs": []
    },
    {
      "cell_type": "code",
      "metadata": {
        "id": "fevAysrwkxLF"
      },
      "source": [
        "out_arr1_X_tra=autoencoder.predict(r1)"
      ],
      "execution_count": 445,
      "outputs": []
    },
    {
      "cell_type": "code",
      "metadata": {
        "id": "IF2c7W2irMG_"
      },
      "source": [
        "out_arr1_X_tr=out_arr1_X_tra.reshape((out_arr1_X_tra.shape[0]*out_arr1_X_tra.shape[1]), out_arr1_X_tra.shape[2])"
      ],
      "execution_count": 446,
      "outputs": []
    },
    {
      "cell_type": "code",
      "metadata": {
        "id": "0S9pjk2iriRA"
      },
      "source": [
        "out_arr1_X_tr1=out_arr1_X_tr[:,0]\n",
        "out_arr1_X_tr2=out_arr1_X_tr[:,1]\n",
        "out_arr1_X_tr3=out_arr1_X_tr[:,2]\n",
        "out_arr1_X_tr4=out_arr1_X_tr[:,3]"
      ],
      "execution_count": 447,
      "outputs": []
    },
    {
      "cell_type": "code",
      "metadata": {
        "id": "5moSH4BBr2GG"
      },
      "source": [
        "tim=df2['Time']"
      ],
      "execution_count": 458,
      "outputs": []
    },
    {
      "cell_type": "code",
      "metadata": {
        "id": "QLt21UJpz2ea",
        "outputId": "6b1e1cfe-eaef-4ecc-f044-5136b663a6fd",
        "colab": {
          "base_uri": "https://localhost:8080/",
          "height": 221
        }
      },
      "source": [
        "tim"
      ],
      "execution_count": 459,
      "outputs": [
        {
          "output_type": "execute_result",
          "data": {
            "text/plain": [
              "0           0.0\n",
              "1           0.0\n",
              "2           0.1\n",
              "3           0.2\n",
              "4           0.3\n",
              "          ...  \n",
              "84975    8497.4\n",
              "84976    8497.5\n",
              "84977    8497.6\n",
              "84978    8497.7\n",
              "84979    8497.8\n",
              "Name: Time, Length: 84980, dtype: float64"
            ]
          },
          "metadata": {
            "tags": []
          },
          "execution_count": 459
        }
      ]
    },
    {
      "cell_type": "code",
      "metadata": {
        "id": "wXHs6cOt0Gyq"
      },
      "source": [
        "to=tim[:3060]"
      ],
      "execution_count": 461,
      "outputs": []
    },
    {
      "cell_type": "code",
      "metadata": {
        "id": "S9gooFMPriJ9"
      },
      "source": [
        "out_arr1_X_training1=r11[:,0]\n",
        "out_arr1_X_training2=r11[:,1]\n",
        "out_arr1_X_training3=r11[:,2]\n",
        "out_arr1_X_training4=r11[:,3]"
      ],
      "execution_count": 449,
      "outputs": []
    },
    {
      "cell_type": "code",
      "metadata": {
        "id": "GRochezPzf5S",
        "outputId": "460167a2-baba-4bcf-c6a4-7f1f69678bed",
        "colab": {
          "base_uri": "https://localhost:8080/",
          "height": 34
        }
      },
      "source": [
        "out_arr1_X_training1.shape"
      ],
      "execution_count": 451,
      "outputs": [
        {
          "output_type": "execute_result",
          "data": {
            "text/plain": [
              "(3060,)"
            ]
          },
          "metadata": {
            "tags": []
          },
          "execution_count": 451
        }
      ]
    },
    {
      "cell_type": "code",
      "metadata": {
        "id": "be7fBLvdzthj",
        "outputId": "81dc2144-deb5-4bba-d322-1aa4c1c09032",
        "colab": {
          "base_uri": "https://localhost:8080/",
          "height": 34
        }
      },
      "source": [
        "to.shape"
      ],
      "execution_count": 462,
      "outputs": [
        {
          "output_type": "execute_result",
          "data": {
            "text/plain": [
              "(3060,)"
            ]
          },
          "metadata": {
            "tags": []
          },
          "execution_count": 462
        }
      ]
    },
    {
      "cell_type": "code",
      "metadata": {
        "id": "ypORoPsY5Xvn"
      },
      "source": [
        ""
      ],
      "execution_count": null,
      "outputs": []
    },
    {
      "cell_type": "code",
      "metadata": {
        "id": "a4bpZdmksqpN",
        "outputId": "56f30850-0d03-454d-b742-0a759f24e227",
        "colab": {
          "base_uri": "https://localhost:8080/",
          "height": 295
        }
      },
      "source": [
        "fax = plt.gca()\n",
        "plt.plot(to,out_arr1_X_training1, color='yellow', label='Orignal DVL1 Data')\n",
        "plt.plot(to,out_arr1_X_tr1, color='green', label='prediction')\n",
        "plt.xlabel('Time')\n",
        "plt.ylabel('Distance')\n",
        "plt.title('DVL Beam 1')\n",
        "plt.legend()\n",
        "\n",
        "plt.show()"
      ],
      "execution_count": 463,
      "outputs": [
        {
          "output_type": "display_data",
          "data": {
            "image/png": "[encoded data removed]",
            "text/plain": [
              "<Figure size 432x288 with 1 Axes>"
            ]
          },
          "metadata": {
            "tags": [],
            "needs_background": "light"
          }
        }
      ]
    },
    {
      "cell_type": "code",
      "metadata": {
        "id": "PlEp1Eyi5Y18",
        "outputId": "d78acc6a-6509-43dd-e3ce-f148fc90a7dd",
        "colab": {
          "base_uri": "https://localhost:8080/",
          "height": 34
        }
      },
      "source": [
        "out_arr1_X_training11=out_arr1_X_training1[:2050]\n",
        "out_arr1_X_tr11=out_arr1_X_tr1[:2050]\n",
        "tp.shape"
      ],
      "execution_count": 504,
      "outputs": [
        {
          "output_type": "execute_result",
          "data": {
            "text/plain": [
              "(2050,)"
            ]
          },
          "metadata": {
            "tags": []
          },
          "execution_count": 504
        }
      ]
    },
    {
      "cell_type": "code",
      "metadata": {
        "id": "W-m4QQnp6XQs",
        "outputId": "60639817-6230-4474-bce3-521e54a957a0",
        "colab": {
          "base_uri": "https://localhost:8080/",
          "height": 295
        }
      },
      "source": [
        "fax = plt.gca()\n",
        "plt.plot(tp,out_arr1_X_training11, color='yellow', label='Orignal DVL1 Data')\n",
        "plt.plot(tp,out_arr1_X_tr11, color='green', label='prediction')\n",
        "plt.xlabel('Time')\n",
        "plt.ylabel('Distance')\n",
        "plt.title('DVL Beam 1')\n",
        "plt.legend()\n",
        "\n",
        "plt.show()"
      ],
      "execution_count": 505,
      "outputs": [
        {
          "output_type": "display_data",
          "data": {
            "image/png": "[encoded data removed]",
            "text/plain": [
              "<Figure size 432x288 with 1 Axes>"
            ]
          },
          "metadata": {
            "tags": [],
            "needs_background": "light"
          }
        }
      ]
    },
    {
      "cell_type": "code",
      "metadata": {
        "id": "8rhLIrTH6d38",
        "outputId": "65a772fb-04c6-4a1c-d9c4-f693a091b502",
        "colab": {
          "base_uri": "https://localhost:8080/",
          "height": 34
        }
      },
      "source": [
        "out_arr1_X_training22=out_arr1_X_training2[:2050]\n",
        "out_arr1_X_tr22=out_arr1_X_tr2[:2050]\n",
        "tp.shape"
      ],
      "execution_count": 506,
      "outputs": [
        {
          "output_type": "execute_result",
          "data": {
            "text/plain": [
              "(2050,)"
            ]
          },
          "metadata": {
            "tags": []
          },
          "execution_count": 506
        }
      ]
    },
    {
      "cell_type": "code",
      "metadata": {
        "id": "XKKjhLiszJvm",
        "outputId": "5bf9f566-2c3f-49df-e64e-44c7cb734797",
        "colab": {
          "base_uri": "https://localhost:8080/",
          "height": 295
        }
      },
      "source": [
        "fax = plt.gca()\n",
        "plt.plot(to,out_arr1_X_training2, color='yellow', label='Orignal DVL1 Data')\n",
        "plt.plot(to,out_arr1_X_tr2, color='green', label='prediction')\n",
        "plt.xlabel('Time')\n",
        "plt.ylabel('Distance')\n",
        "plt.title('DVL Beam 2')\n",
        "plt.legend()\n",
        "\n",
        "plt.show()"
      ],
      "execution_count": 466,
      "outputs": [
        {
          "output_type": "display_data",
          "data": {
            "image/png": "[encoded data removed]",
            "text/plain": [
              "<Figure size 432x288 with 1 Axes>"
            ]
          },
          "metadata": {
            "tags": [],
            "needs_background": "light"
          }
        }
      ]
    },
    {
      "cell_type": "code",
      "metadata": {
        "id": "UKQk0GZE6min",
        "outputId": "925b0ba3-d321-4797-c494-c7bad4a44111",
        "colab": {
          "base_uri": "https://localhost:8080/",
          "height": 295
        }
      },
      "source": [
        "fax = plt.gca()\n",
        "plt.plot(tp,out_arr1_X_training22, color='yellow', label='Orignal DVL1 Data')\n",
        "plt.plot(tp,out_arr1_X_tr22, color='green', label='prediction')\n",
        "plt.xlabel('Time')\n",
        "plt.ylabel('Distance')\n",
        "plt.title('DVL Beam 2')\n",
        "plt.legend()\n",
        "\n",
        "plt.show()"
      ],
      "execution_count": 508,
      "outputs": [
        {
          "output_type": "display_data",
          "data": {
            "image/png": "[encoded data removed]",
            "text/plain": [
              "<Figure size 432x288 with 1 Axes>"
            ]
          },
          "metadata": {
            "tags": [],
            "needs_background": "light"
          }
        }
      ]
    },
    {
      "cell_type": "code",
      "metadata": {
        "id": "f29ErdMt6vGA",
        "outputId": "a02aac72-9748-4ec1-9ca5-06e60a4f59c9",
        "colab": {
          "base_uri": "https://localhost:8080/",
          "height": 34
        }
      },
      "source": [
        "out_arr1_X_training33=out_arr1_X_training3[:2050]\n",
        "out_arr1_X_tr33=out_arr1_X_tr3[:2050]\n",
        "tp.shape"
      ],
      "execution_count": 509,
      "outputs": [
        {
          "output_type": "execute_result",
          "data": {
            "text/plain": [
              "(2050,)"
            ]
          },
          "metadata": {
            "tags": []
          },
          "execution_count": 509
        }
      ]
    },
    {
      "cell_type": "code",
      "metadata": {
        "id": "wrcz_Gmf0sMo",
        "outputId": "9c6a5c53-7d77-44af-9bd5-ca424a6c0e86",
        "colab": {
          "base_uri": "https://localhost:8080/",
          "height": 295
        }
      },
      "source": [
        "fax = plt.gca()\n",
        "plt.plot(to,out_arr1_X_training3, color='yellow', label='Orignal DVL1 Data')\n",
        "plt.plot(to,out_arr1_X_tr3, color='green', label='prediction')\n",
        "plt.xlabel('Time')\n",
        "plt.ylabel('Distance')\n",
        "plt.title('DVL Beam 3')\n",
        "plt.legend()\n",
        "\n",
        "plt.show()"
      ],
      "execution_count": 467,
      "outputs": [
        {
          "output_type": "display_data",
          "data": {
            "image/png": "[encoded data removed]",
            "text/plain": [
              "<Figure size 432x288 with 1 Axes>"
            ]
          },
          "metadata": {
            "tags": [],
            "needs_background": "light"
          }
        }
      ]
    },
    {
      "cell_type": "code",
      "metadata": {
        "id": "AZCWHARz6110",
        "outputId": "ac7de2dd-8698-4447-9ca0-2e64c5ae4593",
        "colab": {
          "base_uri": "https://localhost:8080/",
          "height": 295
        }
      },
      "source": [
        "fax = plt.gca()\n",
        "plt.plot(tp,out_arr1_X_training33, color='yellow', label='Orignal DVL1 Data')\n",
        "plt.plot(tp,out_arr1_X_tr33, color='green', label='prediction')\n",
        "plt.xlabel('Time')\n",
        "plt.ylabel('Distance')\n",
        "plt.title('DVL Beam 3')\n",
        "plt.legend()\n",
        "\n",
        "plt.show()"
      ],
      "execution_count": 511,
      "outputs": [
        {
          "output_type": "display_data",
          "data": {
            "image/png": "[encoded data removed]",
            "text/plain": [
              "<Figure size 432x288 with 1 Axes>"
            ]
          },
          "metadata": {
            "tags": [],
            "needs_background": "light"
          }
        }
      ]
    },
    {
      "cell_type": "code",
      "metadata": {
        "id": "TCGtfMXo6-rc",
        "outputId": "db51b459-df46-4f68-ced9-6dd8ed12e3a8",
        "colab": {
          "base_uri": "https://localhost:8080/",
          "height": 34
        }
      },
      "source": [
        "out_arr1_X_training44=out_arr1_X_training4[:2050]\n",
        "out_arr1_X_tr44=out_arr1_X_tr4[:2050]\n",
        "tp.shape"
      ],
      "execution_count": 512,
      "outputs": [
        {
          "output_type": "execute_result",
          "data": {
            "text/plain": [
              "(2050,)"
            ]
          },
          "metadata": {
            "tags": []
          },
          "execution_count": 512
        }
      ]
    },
    {
      "cell_type": "code",
      "metadata": {
        "id": "cR4ashFB0wSf",
        "outputId": "02eaa6cb-0155-4e7f-defa-5d4324cae0e4",
        "colab": {
          "base_uri": "https://localhost:8080/",
          "height": 295
        }
      },
      "source": [
        "fax = plt.gca()\n",
        "plt.plot(to,out_arr1_X_training4, color='yellow', label='Orignal DVL1 Data')\n",
        "plt.plot(to,out_arr1_X_tr4, color='green', label='prediction')\n",
        "plt.xlabel('Time')\n",
        "plt.ylabel('Distance')\n",
        "plt.title('DVL Beam 4')\n",
        "plt.legend()\n",
        "\n",
        "plt.show()"
      ],
      "execution_count": 468,
      "outputs": [
        {
          "output_type": "display_data",
          "data": {
            "image/png": "[encoded data removed]",
            "text/plain": [
              "<Figure size 432x288 with 1 Axes>"
            ]
          },
          "metadata": {
            "tags": [],
            "needs_background": "light"
          }
        }
      ]
    },
    {
      "cell_type": "code",
      "metadata": {
        "id": "khQa2zNv7IrL",
        "outputId": "fffa5c80-2e1f-424c-d1f2-986c919533bd",
        "colab": {
          "base_uri": "https://localhost:8080/",
          "height": 295
        }
      },
      "source": [
        "fax = plt.gca()\n",
        "plt.plot(tp,out_arr1_X_training44, color='yellow', label='Orignal DVL1 Data')\n",
        "plt.plot(tp,out_arr1_X_tr44, color='green', label='prediction')\n",
        "plt.xlabel('Time')\n",
        "plt.ylabel('Distance')\n",
        "plt.title('DVL Beam 4')\n",
        "plt.legend()\n",
        "\n",
        "plt.show()"
      ],
      "execution_count": 513,
      "outputs": [
        {
          "output_type": "display_data",
          "data": {
            "image/png": "[encoded data removed]",
            "text/plain": [
              "<Figure size 432x288 with 1 Axes>"
            ]
          },
          "metadata": {
            "tags": [],
            "needs_background": "light"
          }
        }
      ]
    },
    {
      "cell_type": "code",
      "metadata": {
        "id": "OTobqLRm4ExF",
        "outputId": "1ad53d96-f028-489e-d169-c973b0b9a0a5",
        "colab": {
          "base_uri": "https://localhost:8080/",
          "height": 34
        }
      },
      "source": [
        "r2.shape"
      ],
      "execution_count": 491,
      "outputs": [
        {
          "output_type": "execute_result",
          "data": {
            "text/plain": [
              "(2050, 6)"
            ]
          },
          "metadata": {
            "tags": []
          },
          "execution_count": 491
        }
      ]
    },
    {
      "cell_type": "code",
      "metadata": {
        "id": "-hAq7o3w4H8R"
      },
      "source": [
        "r2=r2.reshape(2050,1,6)"
      ],
      "execution_count": 492,
      "outputs": []
    },
    {
      "cell_type": "code",
      "metadata": {
        "id": "CLsBmB48081L"
      },
      "source": [
        "# Try r2 ...\n",
        "yuu= autoencoder.predict(r2)"
      ],
      "execution_count": 493,
      "outputs": []
    },
    {
      "cell_type": "code",
      "metadata": {
        "id": "DxJMv9LT1_WW",
        "outputId": "077db7f4-7193-452f-928c-0f2d6f4e79f7",
        "colab": {
          "base_uri": "https://localhost:8080/",
          "height": 34
        }
      },
      "source": [
        "yuu.shape"
      ],
      "execution_count": 494,
      "outputs": [
        {
          "output_type": "execute_result",
          "data": {
            "text/plain": [
              "(2050, 1, 4)"
            ]
          },
          "metadata": {
            "tags": []
          },
          "execution_count": 494
        }
      ]
    },
    {
      "cell_type": "code",
      "metadata": {
        "id": "2Q8dkvY42LVO"
      },
      "source": [
        "yuu=yuu.reshape((yuu.shape[0]*yuu.shape[1]), yuu.shape[2])"
      ],
      "execution_count": 495,
      "outputs": []
    },
    {
      "cell_type": "code",
      "metadata": {
        "id": "TAcFFWkC2ZRr"
      },
      "source": [
        "yuu_1=yuu[:,0]\n",
        "yuu_2=yuu[:,1]\n",
        "yuu_3=yuu[:,2]\n",
        "yuu_4=yuu[:,3]"
      ],
      "execution_count": 496,
      "outputs": []
    },
    {
      "cell_type": "code",
      "metadata": {
        "id": "tY3E6dfW2llr"
      },
      "source": [
        "r2=r2.reshape((r2.shape[0]*r2.shape[1]), r2.shape[2])"
      ],
      "execution_count": 497,
      "outputs": []
    },
    {
      "cell_type": "code",
      "metadata": {
        "id": "qB1VsmMD2yLz"
      },
      "source": [
        "r21=r2[:,0]\n",
        "r22=r2[:,1]\n",
        "r23=r2[:,2]\n",
        "r24=r2[:,3]"
      ],
      "execution_count": 498,
      "outputs": []
    },
    {
      "cell_type": "code",
      "metadata": {
        "id": "zlRjOjKN27XE"
      },
      "source": [
        "tp=to[:2050]"
      ],
      "execution_count": 499,
      "outputs": []
    },
    {
      "cell_type": "code",
      "metadata": {
        "id": "ggLHLKo-2-5E",
        "outputId": "b0177f23-6346-42f7-ef8d-0bac2afe1dd9",
        "colab": {
          "base_uri": "https://localhost:8080/",
          "height": 295
        }
      },
      "source": [
        "fax = plt.gca()\n",
        "plt.plot(tp,yuu_1, color='yellow', label='Orignal')\n",
        "plt.plot(tp,r21, color='green', label='prediction')\n",
        "plt.xlabel('Time')\n",
        "plt.ylabel('Distance')\n",
        "plt.title('DVL Beam 1')\n",
        "plt.legend()\n",
        "\n",
        "plt.show()"
      ],
      "execution_count": 500,
      "outputs": [
        {
          "output_type": "display_data",
          "data": {
            "image/png": "[encoded data removed]",
            "text/plain": [
              "<Figure size 432x288 with 1 Axes>"
            ]
          },
          "metadata": {
            "tags": [],
            "needs_background": "light"
          }
        }
      ]
    },
    {
      "cell_type": "code",
      "metadata": {
        "id": "Hw4FefWQ3GI9",
        "outputId": "4bdfff8d-30c7-49f7-feaf-a87b126ea0ea",
        "colab": {
          "base_uri": "https://localhost:8080/",
          "height": 295
        }
      },
      "source": [
        "fax = plt.gca()\n",
        "plt.plot(tp,yuu_2, color='yellow', label='Orignal')\n",
        "plt.plot(tp,r22, color='green', label='prediction')\n",
        "plt.xlabel('Time')\n",
        "plt.ylabel('Distance')\n",
        "plt.title('DVL Beam 2')\n",
        "plt.legend()\n",
        "\n",
        "plt.show()"
      ],
      "execution_count": 501,
      "outputs": [
        {
          "output_type": "display_data",
          "data": {
            "image/png": "[encoded data removed]",
            "text/plain": [
              "<Figure size 432x288 with 1 Axes>"
            ]
          },
          "metadata": {
            "tags": [],
            "needs_background": "light"
          }
        }
      ]
    },
    {
      "cell_type": "code",
      "metadata": {
        "id": "S8TbkIth3sZQ",
        "outputId": "853ca842-1e5b-4af6-a8fe-a9d950332043",
        "colab": {
          "base_uri": "https://localhost:8080/",
          "height": 295
        }
      },
      "source": [
        "fax = plt.gca()\n",
        "plt.plot(tp,yuu_3, color='yellow', label='Orignal')\n",
        "plt.plot(tp,r23, color='green', label='prediction')\n",
        "plt.xlabel('Time')\n",
        "plt.ylabel('Distance')\n",
        "plt.title('DVL Beam 3')\n",
        "plt.legend()\n",
        "\n",
        "plt.show()"
      ],
      "execution_count": 502,
      "outputs": [
        {
          "output_type": "display_data",
          "data": {
            "image/png": "[encoded data removed]",
            "text/plain": [
              "<Figure size 432x288 with 1 Axes>"
            ]
          },
          "metadata": {
            "tags": [],
            "needs_background": "light"
          }
        }
      ]
    },
    {
      "cell_type": "code",
      "metadata": {
        "id": "dLbEWtVo3xVx",
        "outputId": "56ef7177-4f9f-453f-a18f-63aa523b48f9",
        "colab": {
          "base_uri": "https://localhost:8080/",
          "height": 295
        }
      },
      "source": [
        "fax = plt.gca()\n",
        "plt.plot(tp,yuu_4, color='yellow', label='Orignal')\n",
        "plt.plot(tp,r24, color='green', label='prediction')\n",
        "plt.xlabel('Time')\n",
        "plt.ylabel('Distance')\n",
        "plt.title('DVL Beam 4')\n",
        "plt.legend()\n",
        "\n",
        "plt.show()"
      ],
      "execution_count": 503,
      "outputs": [
        {
          "output_type": "display_data",
          "data": {
            "image/png": "[encoded data removed]",
            "text/plain": [
              "<Figure size 432x288 with 1 Axes>"
            ]
          },
          "metadata": {
            "tags": [],
            "needs_background": "light"
          }
        }
      ]
    },
    {
      "cell_type": "code",
      "metadata": {
        "id": "qY0TgbO-37Xg"
      },
      "source": [
        "r"
      ],
      "execution_count": null,
      "outputs": []
    }
  ]
}