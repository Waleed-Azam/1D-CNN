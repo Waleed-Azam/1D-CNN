{
  "nbformat": 4,
  "nbformat_minor": 0,
  "metadata": {
    "colab": {
      "name": "Herman_Data_Time_Series_Forecasting.ipynb",
      "provenance": [],
      "authorship_tag": "ABX9TyPoAFEvRrZsu+fmLSS2CuKj",
      "include_colab_link": true
    },
    "kernelspec": {
      "name": "python3",
      "display_name": "Python 3"
    }
  },
  "cells": [
    {
      "cell_type": "markdown",
      "metadata": {
        "id": "view-in-github",
        "colab_type": "text"
      },
      "source": [
        "<a href=\"https://colab.research.google.com/github/Waleed-Azam/1D-CNN/blob/master/Herman_Data_Time_Series_Forecasting.ipynb\" target=\"_parent\"><img src=\"https://colab.research.google.com/assets/colab-badge.svg\" alt=\"Open In Colab\"/></a>"
      ]
    },
    {
      "cell_type": "code",
      "metadata": {
        "id": "CS5eeVyYG2hg",
        "colab_type": "code",
        "colab": {}
      },
      "source": [
        "!pip install -U -q PyDrive\n",
        "from pydrive.auth import GoogleAuth\n",
        "from pydrive.drive import GoogleDrive\n",
        "from google.colab import auth\n",
        "from oauth2client.client import GoogleCredentials\n",
        "import numpy as np"
      ],
      "execution_count": 0,
      "outputs": []
    },
    {
      "cell_type": "code",
      "metadata": {
        "id": "z55MYUBVG5d2",
        "colab_type": "code",
        "colab": {}
      },
      "source": [
        "auth.authenticate_user()\n",
        "gauth = GoogleAuth()\n",
        "gauth.credentials = GoogleCredentials.get_application_default()\n",
        "drive = GoogleDrive(gauth)"
      ],
      "execution_count": 0,
      "outputs": []
    },
    {
      "cell_type": "code",
      "metadata": {
        "id": "oSUtmnrGG7m9",
        "colab_type": "code",
        "colab": {}
      },
      "source": [
        "downloaded = drive.CreateFile({'id':'1NiHiOzShPCDOKPnfNjrzjEcpvWoA8MwS'}) # replace the id with id of file you want to access'}) # replace the id with id of file you want to access"
      ],
      "execution_count": 0,
      "outputs": []
    },
    {
      "cell_type": "code",
      "metadata": {
        "id": "32u2C9V_HP3C",
        "colab_type": "code",
        "colab": {}
      },
      "source": [
        "downloaded.GetContentFile('Training_Data_FEW_FISHES.csv')"
      ],
      "execution_count": 0,
      "outputs": []
    },
    {
      "cell_type": "code",
      "metadata": {
        "id": "qhO9hFj6HreG",
        "colab_type": "code",
        "colab": {
          "base_uri": "https://localhost:8080/",
          "height": 404
        },
        "outputId": "b69ee6db-9d28-4443-dd0e-fc89e6e38b65"
      },
      "source": [
        "import pandas as pd\n",
        "df1 = pd.read_csv('Training_Data_FEW_FISHES.csv') \n",
        "df1"
      ],
      "execution_count": 6,
      "outputs": [
        {
          "output_type": "execute_result",
          "data": {
            "text/html": [
              "<div>\n",
              "<style scoped>\n",
              "    .dataframe tbody tr th:only-of-type {\n",
              "        vertical-align: middle;\n",
              "    }\n",
              "\n",
              "    .dataframe tbody tr th {\n",
              "        vertical-align: top;\n",
              "    }\n",
              "\n",
              "    .dataframe thead th {\n",
              "        text-align: right;\n",
              "    }\n",
              "</style>\n",
              "<table border=\"1\" class=\"dataframe\">\n",
              "  <thead>\n",
              "    <tr style=\"text-align: right;\">\n",
              "      <th></th>\n",
              "      <th>Time</th>\n",
              "      <th>DVL1</th>\n",
              "      <th>DVL2</th>\n",
              "      <th>DVL3</th>\n",
              "      <th>DVL4</th>\n",
              "    </tr>\n",
              "  </thead>\n",
              "  <tbody>\n",
              "    <tr>\n",
              "      <th>0</th>\n",
              "      <td>NaN</td>\n",
              "      <td>NaN</td>\n",
              "      <td>NaN</td>\n",
              "      <td>NaN</td>\n",
              "      <td>NaN</td>\n",
              "    </tr>\n",
              "    <tr>\n",
              "      <th>1</th>\n",
              "      <td>0.0</td>\n",
              "      <td>20.000000</td>\n",
              "      <td>20.000000</td>\n",
              "      <td>20.000000</td>\n",
              "      <td>20.000000</td>\n",
              "    </tr>\n",
              "    <tr>\n",
              "      <th>2</th>\n",
              "      <td>0.1</td>\n",
              "      <td>20.000000</td>\n",
              "      <td>20.000000</td>\n",
              "      <td>20.000000</td>\n",
              "      <td>20.000000</td>\n",
              "    </tr>\n",
              "    <tr>\n",
              "      <th>3</th>\n",
              "      <td>0.2</td>\n",
              "      <td>20.000000</td>\n",
              "      <td>20.000000</td>\n",
              "      <td>20.000000</td>\n",
              "      <td>20.000000</td>\n",
              "    </tr>\n",
              "    <tr>\n",
              "      <th>4</th>\n",
              "      <td>0.3</td>\n",
              "      <td>20.000000</td>\n",
              "      <td>20.000000</td>\n",
              "      <td>20.000000</td>\n",
              "      <td>20.000000</td>\n",
              "    </tr>\n",
              "    <tr>\n",
              "      <th>...</th>\n",
              "      <td>...</td>\n",
              "      <td>...</td>\n",
              "      <td>...</td>\n",
              "      <td>...</td>\n",
              "      <td>...</td>\n",
              "    </tr>\n",
              "    <tr>\n",
              "      <th>49996</th>\n",
              "      <td>4999.5</td>\n",
              "      <td>2.564325</td>\n",
              "      <td>2.547429</td>\n",
              "      <td>2.685580</td>\n",
              "      <td>2.715926</td>\n",
              "    </tr>\n",
              "    <tr>\n",
              "      <th>49997</th>\n",
              "      <td>4999.6</td>\n",
              "      <td>2.564293</td>\n",
              "      <td>2.547059</td>\n",
              "      <td>2.685737</td>\n",
              "      <td>2.715903</td>\n",
              "    </tr>\n",
              "    <tr>\n",
              "      <th>49998</th>\n",
              "      <td>4999.7</td>\n",
              "      <td>2.564267</td>\n",
              "      <td>2.546647</td>\n",
              "      <td>2.685912</td>\n",
              "      <td>2.715890</td>\n",
              "    </tr>\n",
              "    <tr>\n",
              "      <th>49999</th>\n",
              "      <td>4999.8</td>\n",
              "      <td>2.564253</td>\n",
              "      <td>2.546235</td>\n",
              "      <td>2.686088</td>\n",
              "      <td>2.715891</td>\n",
              "    </tr>\n",
              "    <tr>\n",
              "      <th>50000</th>\n",
              "      <td>4999.9</td>\n",
              "      <td>2.564248</td>\n",
              "      <td>2.545783</td>\n",
              "      <td>2.686284</td>\n",
              "      <td>2.715904</td>\n",
              "    </tr>\n",
              "  </tbody>\n",
              "</table>\n",
              "<p>50001 rows × 5 columns</p>\n",
              "</div>"
            ],
            "text/plain": [
              "         Time       DVL1       DVL2       DVL3       DVL4\n",
              "0         NaN        NaN        NaN        NaN        NaN\n",
              "1         0.0  20.000000  20.000000  20.000000  20.000000\n",
              "2         0.1  20.000000  20.000000  20.000000  20.000000\n",
              "3         0.2  20.000000  20.000000  20.000000  20.000000\n",
              "4         0.3  20.000000  20.000000  20.000000  20.000000\n",
              "...       ...        ...        ...        ...        ...\n",
              "49996  4999.5   2.564325   2.547429   2.685580   2.715926\n",
              "49997  4999.6   2.564293   2.547059   2.685737   2.715903\n",
              "49998  4999.7   2.564267   2.546647   2.685912   2.715890\n",
              "49999  4999.8   2.564253   2.546235   2.686088   2.715891\n",
              "50000  4999.9   2.564248   2.545783   2.686284   2.715904\n",
              "\n",
              "[50001 rows x 5 columns]"
            ]
          },
          "metadata": {
            "tags": []
          },
          "execution_count": 6
        }
      ]
    },
    {
      "cell_type": "code",
      "metadata": {
        "id": "iwiVx5BYHxZT",
        "colab_type": "code",
        "colab": {
          "base_uri": "https://localhost:8080/",
          "height": 404
        },
        "outputId": "ef92118d-5386-497b-cfb8-95aa5c00a937"
      },
      "source": [
        "df1"
      ],
      "execution_count": 7,
      "outputs": [
        {
          "output_type": "execute_result",
          "data": {
            "text/html": [
              "<div>\n",
              "<style scoped>\n",
              "    .dataframe tbody tr th:only-of-type {\n",
              "        vertical-align: middle;\n",
              "    }\n",
              "\n",
              "    .dataframe tbody tr th {\n",
              "        vertical-align: top;\n",
              "    }\n",
              "\n",
              "    .dataframe thead th {\n",
              "        text-align: right;\n",
              "    }\n",
              "</style>\n",
              "<table border=\"1\" class=\"dataframe\">\n",
              "  <thead>\n",
              "    <tr style=\"text-align: right;\">\n",
              "      <th></th>\n",
              "      <th>Time</th>\n",
              "      <th>DVL1</th>\n",
              "      <th>DVL2</th>\n",
              "      <th>DVL3</th>\n",
              "      <th>DVL4</th>\n",
              "    </tr>\n",
              "  </thead>\n",
              "  <tbody>\n",
              "    <tr>\n",
              "      <th>0</th>\n",
              "      <td>NaN</td>\n",
              "      <td>NaN</td>\n",
              "      <td>NaN</td>\n",
              "      <td>NaN</td>\n",
              "      <td>NaN</td>\n",
              "    </tr>\n",
              "    <tr>\n",
              "      <th>1</th>\n",
              "      <td>0.0</td>\n",
              "      <td>20.000000</td>\n",
              "      <td>20.000000</td>\n",
              "      <td>20.000000</td>\n",
              "      <td>20.000000</td>\n",
              "    </tr>\n",
              "    <tr>\n",
              "      <th>2</th>\n",
              "      <td>0.1</td>\n",
              "      <td>20.000000</td>\n",
              "      <td>20.000000</td>\n",
              "      <td>20.000000</td>\n",
              "      <td>20.000000</td>\n",
              "    </tr>\n",
              "    <tr>\n",
              "      <th>3</th>\n",
              "      <td>0.2</td>\n",
              "      <td>20.000000</td>\n",
              "      <td>20.000000</td>\n",
              "      <td>20.000000</td>\n",
              "      <td>20.000000</td>\n",
              "    </tr>\n",
              "    <tr>\n",
              "      <th>4</th>\n",
              "      <td>0.3</td>\n",
              "      <td>20.000000</td>\n",
              "      <td>20.000000</td>\n",
              "      <td>20.000000</td>\n",
              "      <td>20.000000</td>\n",
              "    </tr>\n",
              "    <tr>\n",
              "      <th>...</th>\n",
              "      <td>...</td>\n",
              "      <td>...</td>\n",
              "      <td>...</td>\n",
              "      <td>...</td>\n",
              "      <td>...</td>\n",
              "    </tr>\n",
              "    <tr>\n",
              "      <th>49996</th>\n",
              "      <td>4999.5</td>\n",
              "      <td>2.564325</td>\n",
              "      <td>2.547429</td>\n",
              "      <td>2.685580</td>\n",
              "      <td>2.715926</td>\n",
              "    </tr>\n",
              "    <tr>\n",
              "      <th>49997</th>\n",
              "      <td>4999.6</td>\n",
              "      <td>2.564293</td>\n",
              "      <td>2.547059</td>\n",
              "      <td>2.685737</td>\n",
              "      <td>2.715903</td>\n",
              "    </tr>\n",
              "    <tr>\n",
              "      <th>49998</th>\n",
              "      <td>4999.7</td>\n",
              "      <td>2.564267</td>\n",
              "      <td>2.546647</td>\n",
              "      <td>2.685912</td>\n",
              "      <td>2.715890</td>\n",
              "    </tr>\n",
              "    <tr>\n",
              "      <th>49999</th>\n",
              "      <td>4999.8</td>\n",
              "      <td>2.564253</td>\n",
              "      <td>2.546235</td>\n",
              "      <td>2.686088</td>\n",
              "      <td>2.715891</td>\n",
              "    </tr>\n",
              "    <tr>\n",
              "      <th>50000</th>\n",
              "      <td>4999.9</td>\n",
              "      <td>2.564248</td>\n",
              "      <td>2.545783</td>\n",
              "      <td>2.686284</td>\n",
              "      <td>2.715904</td>\n",
              "    </tr>\n",
              "  </tbody>\n",
              "</table>\n",
              "<p>50001 rows × 5 columns</p>\n",
              "</div>"
            ],
            "text/plain": [
              "         Time       DVL1       DVL2       DVL3       DVL4\n",
              "0         NaN        NaN        NaN        NaN        NaN\n",
              "1         0.0  20.000000  20.000000  20.000000  20.000000\n",
              "2         0.1  20.000000  20.000000  20.000000  20.000000\n",
              "3         0.2  20.000000  20.000000  20.000000  20.000000\n",
              "4         0.3  20.000000  20.000000  20.000000  20.000000\n",
              "...       ...        ...        ...        ...        ...\n",
              "49996  4999.5   2.564325   2.547429   2.685580   2.715926\n",
              "49997  4999.6   2.564293   2.547059   2.685737   2.715903\n",
              "49998  4999.7   2.564267   2.546647   2.685912   2.715890\n",
              "49999  4999.8   2.564253   2.546235   2.686088   2.715891\n",
              "50000  4999.9   2.564248   2.545783   2.686284   2.715904\n",
              "\n",
              "[50001 rows x 5 columns]"
            ]
          },
          "metadata": {
            "tags": []
          },
          "execution_count": 7
        }
      ]
    },
    {
      "cell_type": "code",
      "metadata": {
        "id": "W_0tEPhsHyt6",
        "colab_type": "code",
        "colab": {
          "base_uri": "https://localhost:8080/",
          "height": 33
        },
        "outputId": "d8e5dbc6-2ab6-46e1-b6aa-63f524711491"
      },
      "source": [
        "# univariate cnn example\n",
        "from numpy import array\n",
        "from keras.models import Sequential\n",
        "from keras.layers import Dense\n",
        "from keras.layers import Flatten\n",
        "from keras.layers.convolutional import Conv1D\n",
        "from keras.layers.convolutional import MaxPooling1D\n",
        "\n",
        "import matplotlib.pyplot as plt\n",
        "from sklearn.preprocessing import StandardScaler\n",
        "%matplotlib inline\n",
        "\n",
        "# split a univariate sequence into samples\n",
        "def split_sequence(sequence, n_steps):\n",
        "    X, y = list(), list()\n",
        "    for i in range(len(sequence)):\n",
        "        # find the end of this pattern\n",
        "        end_ix = i + n_steps\n",
        "        # check if we are beyond the sequence\n",
        "        if end_ix > len(sequence)-1:\n",
        "            break\n",
        "        # gather input and output parts of the pattern\n",
        "        seq_x, seq_y = sequence[i:end_ix], sequence[end_ix]\n",
        "        X.append(seq_x)\n",
        "        y.append(seq_y)\n",
        "    return array(X), array(y)"
      ],
      "execution_count": 8,
      "outputs": [
        {
          "output_type": "stream",
          "text": [
            "Using TensorFlow backend.\n"
          ],
          "name": "stderr"
        }
      ]
    },
    {
      "cell_type": "code",
      "metadata": {
        "id": "oucaCTUtI0IJ",
        "colab_type": "code",
        "colab": {}
      },
      "source": [
        "df1[\"DVL1\"] = df1[\"DVL1\"].fillna(0)"
      ],
      "execution_count": 0,
      "outputs": []
    },
    {
      "cell_type": "code",
      "metadata": {
        "id": "2qgeSou_IgPW",
        "colab_type": "code",
        "colab": {}
      },
      "source": [
        "data_to_use=df1['DVL1'].values"
      ],
      "execution_count": 0,
      "outputs": []
    },
    {
      "cell_type": "code",
      "metadata": {
        "id": "39_jnEwKIlYn",
        "colab_type": "code",
        "colab": {}
      },
      "source": [
        "scaled_dataset=data_to_use"
      ],
      "execution_count": 0,
      "outputs": []
    },
    {
      "cell_type": "code",
      "metadata": {
        "id": "T3qEN3f4Irf9",
        "colab_type": "code",
        "colab": {
          "base_uri": "https://localhost:8080/",
          "height": 50
        },
        "outputId": "8a9cb4a0-acf9-4e07-b3ac-65c000c0a776"
      },
      "source": [
        "scaled_dataset"
      ],
      "execution_count": 16,
      "outputs": [
        {
          "output_type": "execute_result",
          "data": {
            "text/plain": [
              "array([ 0.      , 20.      , 20.      , ...,  2.564267,  2.564253,\n",
              "        2.564248])"
            ]
          },
          "metadata": {
            "tags": []
          },
          "execution_count": 16
        }
      ]
    },
    {
      "cell_type": "code",
      "metadata": {
        "id": "_Q-4t7NVIs-n",
        "colab_type": "code",
        "colab": {}
      },
      "source": [
        "def window_data(data, window_size):\n",
        "    X = []\n",
        "    y = []\n",
        "    \n",
        "    i = 0\n",
        "    while (i + window_size) <= len(data) - 1:\n",
        "        X.append(data[i:i+window_size])\n",
        "        y.append(data[i+window_size])\n",
        "        \n",
        "        i += 1\n",
        "    assert len(X) ==  len(y)\n",
        "    return X, y\n",
        "\n",
        "\n",
        "X, y = window_data(scaled_dataset, 10)"
      ],
      "execution_count": 0,
      "outputs": []
    },
    {
      "cell_type": "code",
      "metadata": {
        "id": "BaolkgC-I9bM",
        "colab_type": "code",
        "colab": {}
      },
      "source": [
        "X_train  = np.array(X[:45000])\n",
        "y_train = np.array(y[:45000])\n",
        "\n",
        "X_test = np.array(X[45000:])\n",
        "y_test = np.array(y[45000:])"
      ],
      "execution_count": 0,
      "outputs": []
    },
    {
      "cell_type": "code",
      "metadata": {
        "id": "pbIgaTfAJMVk",
        "colab_type": "code",
        "colab": {
          "base_uri": "https://localhost:8080/",
          "height": 84
        },
        "outputId": "9643c2b4-750f-4a7d-8f2f-3e583fa90807"
      },
      "source": [
        "print(\"X_train size: {}\".format(X_train.shape))\n",
        "print(\"y_train size: {}\".format(y_train.shape))\n",
        "print(\"X_test size: {}\".format(X_test.shape))\n",
        "print(\"y_test size: {}\".format(y_test.shape))"
      ],
      "execution_count": 22,
      "outputs": [
        {
          "output_type": "stream",
          "text": [
            "X_train size: (45000, 10)\n",
            "y_train size: (45000,)\n",
            "X_test size: (4991, 10)\n",
            "y_test size: (4991,)\n"
          ],
          "name": "stdout"
        }
      ]
    },
    {
      "cell_type": "code",
      "metadata": {
        "id": "uODnFZlgJPcn",
        "colab_type": "code",
        "colab": {}
      },
      "source": [
        "dates = df1['Time']\n",
        "train_date = dates[:45000]\n",
        "test_date = dates[-4991:]"
      ],
      "execution_count": 0,
      "outputs": []
    },
    {
      "cell_type": "code",
      "metadata": {
        "id": "k4lxeKsHJg7a",
        "colab_type": "code",
        "colab": {}
      },
      "source": [
        "n_steps = 10"
      ],
      "execution_count": 0,
      "outputs": []
    },
    {
      "cell_type": "code",
      "metadata": {
        "id": "OEEf1VTNJi-8",
        "colab_type": "code",
        "colab": {}
      },
      "source": [
        "X = X_train\n",
        "y = y_train\n",
        "\n",
        "n_features = 1\n",
        "X = X.reshape((X.shape[0], X.shape[1], n_features))\n",
        "# define model\n",
        "model = Sequential()\n",
        "model.add(Conv1D(filters=32, kernel_size=2, activation='relu', input_shape=(n_steps, n_features)))\n",
        "model.add(MaxPooling1D(pool_size=2))\n",
        "model.add(Flatten())\n",
        "model.add(Dense(50, activation='relu'))\n",
        "model.add(Dense(1))\n",
        "model.compile(optimizer='adam', loss='mse')\n",
        "# fit model\n",
        "history=model.fit(X, y, epochs=10, verbose=0)"
      ],
      "execution_count": 0,
      "outputs": []
    },
    {
      "cell_type": "code",
      "metadata": {
        "id": "zk33_PQoJ5ix",
        "colab_type": "code",
        "colab": {
          "base_uri": "https://localhost:8080/",
          "height": 590
        },
        "outputId": "b0a5a8c7-99e3-4c9b-d32f-f912db84cacf"
      },
      "source": [
        "# demonstrate prediction\n",
        "import math\n",
        "y_pred=[]\n",
        "for i in X_test:\n",
        "    \n",
        "    x_input = i\n",
        "    x_input = x_input.reshape((1, n_steps, n_features))\n",
        "    yhat = model.predict(x_input, verbose=0)\n",
        "    y_pred.append(float(yhat[0]))\n",
        "\n",
        "# import numpy as np\n",
        "# yp = list(np.around(np.array(y_pred),1))\n",
        "# yt = list(np.around((y_test),1))\n",
        "    \n",
        "# y_pred = [ '%.1f' % elem for elem in y_pred ]\n",
        "# y_test = [ '%.1f' % elem for elem in y_pred ]\n",
        "    \n",
        "#print(y_pred)\n",
        "#print(y_test)\n",
        "\n",
        "plt.figure(figsize = (18,9))\n",
        "\n",
        "plt.plot(dates,scaled_dataset,label=\"Training\")\n",
        "plt.plot(test_date,y_pred,label=\"Forecasting\")\n",
        "#plt.plot(test_date,y_test,label=\"actual \")\n",
        "\n",
        "plt.xticks(rotation=90)\n",
        "plt.xlabel('Time Steps',fontsize=18)\n",
        "plt.legend()\n",
        "plt.title(\"Forecasting using CNN\")\n",
        "plt.show()"
      ],
      "execution_count": 39,
      "outputs": [
        {
          "output_type": "display_data",
          "data": {
            "image/png": "[encoded data removed]",
            "text/plain": [
              "<Figure size 1296x648 with 1 Axes>"
            ]
          },
          "metadata": {
            "tags": [],
            "needs_background": "light"
          }
        }
      ]
    },
    {
      "cell_type": "code",
      "metadata": {
        "id": "CsZJ46LcLB3r",
        "colab_type": "code",
        "colab": {
          "base_uri": "https://localhost:8080/",
          "height": 295
        },
        "outputId": "cef6fcd0-bb44-4426-f132-c543b723ddf0"
      },
      "source": [
        "plt.plot(history.history['loss'])\n",
        "#plt.plot(history.history['val_loss'])\n",
        "plt.title('model loss')\n",
        "plt.ylabel('Mean Square Error')\n",
        "plt.xlabel('epoch')\n",
        "plt.legend(['train', 'test'], loc='upper left')\n",
        "plt.show()"
      ],
      "execution_count": 38,
      "outputs": [
        {
          "output_type": "display_data",
          "data": {
            "image/png": "[encoded data removed]",
            "text/plain": [
              "<Figure size 432x288 with 1 Axes>"
            ]
          },
          "metadata": {
            "tags": [],
            "needs_background": "light"
          }
        }
      ]
    },
    {
      "cell_type": "code",
      "metadata": {
        "id": "yUyCyn5ZNr1i",
        "colab_type": "code",
        "colab": {}
      },
      "source": [
        ""
      ],
      "execution_count": 0,
      "outputs": []
    }
  ]
}